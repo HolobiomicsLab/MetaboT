{
 "cells": [
  {
   "cell_type": "code",
   "execution_count": 2,
   "id": "6c5d6e69",
   "metadata": {},
   "outputs": [],
   "source": [
    "# general python libs\n",
    "import pandas as pd\n",
    "import requests\n",
    "import time\n",
    "import json\n",
    "from datetime import datetime\n",
    "import os\n",
    "import re\n",
    "import matplotlib.pyplot as plt\n",
    "import seaborn as sns\n",
    "\n",
    "from my_directory_loader import MyDirectoryLoader \n",
    "\n",
    "# langchain\n",
    "from langchain import LLMChain\n",
    "from langchain.prompts.few_shot import FewShotPromptTemplate\n",
    "from langchain.prompts.prompt import PromptTemplate\n",
    "from langchain.llms import OpenAI\n",
    "from langchain.chat_models import ChatOpenAI\n",
    "from langchain.agents import Tool, AgentType, initialize_agent, LLMSingleActionAgent\n",
    "from langchain.callbacks import get_openai_callback\n",
    "from langchain.chains.conversation.memory import ConversationBufferWindowMemory\n",
    "from langchain.tools import StructuredTool\n",
    "from langchain.text_splitter import RecursiveCharacterTextSplitter\n",
    "import tiktoken\n",
    "from langchain.schema import Document\n",
    "from langchain.vectorstores import Chroma\n",
    "from langchain.embeddings.openai import OpenAIEmbeddings\n",
    "from langchain.schema import Document\n",
    "from langchain.chains import RetrievalQA\n"
   ]
  },
  {
   "cell_type": "markdown",
   "id": "30ed52a8",
   "metadata": {},
   "source": [
    "## Tool 1 - schema explorer"
   ]
  },
  {
   "cell_type": "code",
   "execution_count": 3,
   "id": "f2b72334",
   "metadata": {},
   "outputs": [],
   "source": [
    "from rdflib import Graph, URIRef\n",
    "\n",
    "class SchemaExplorerTool:\n",
    "    def __init__(self, schema_path):\n",
    "        self.schema_graph = Graph()\n",
    "        self.load_schema(schema_path)\n",
    "    \n",
    "    def load_schema(self, schema_path):\n",
    "        self.schema_graph.parse(schema_path)\n",
    "    \n",
    "    def explore_schema(self):\n",
    "        schema_info = []\n",
    "        \n",
    "        for subject, predicate, obj in self.schema_graph:\n",
    "            subject_name = self.get_label(subject)\n",
    "            predicate_name = self.get_label(predicate)\n",
    "            object_name = self.get_label(obj)\n",
    "            \n",
    "            schema_info.append({\n",
    "                \"subject\": str(subject),\n",
    "                \"subject_name\": subject_name,\n",
    "                \"predicate\": str(predicate),\n",
    "                \"predicate_name\": predicate_name,\n",
    "                \"object\": str(obj),\n",
    "                \"object_name\": object_name\n",
    "            })\n",
    "\n",
    "        return schema_info\n",
    "    \n",
    "    def get_label(self, resource):\n",
    "        label_predicate = URIRef(\"http://www.w3.org/2000/01/rdf-schema#label\")\n",
    "        label = self.schema_graph.value(resource, label_predicate)\n",
    "\n",
    "        if label:\n",
    "            return label.toPython()\n",
    "\n",
    "        return str(resource)"
   ]
  },
  {
   "cell_type": "code",
   "execution_count": 4,
   "id": "362678a0",
   "metadata": {},
   "outputs": [],
   "source": [
    "# initiating instance of schema explorer\n",
    "\n",
    "#path = \"practice_schema/ontolex.rdf\"\n",
    "#SchemaExplorer = SchemaExplorerTool(path)\n",
    "\n",
    "# Tool name\n",
    "tool_name='schema explorer'\n",
    "tool_desc = \"\"\"\n",
    "Q&A rdf schema - useful for questions and information about the schema of the rdf. This tool can also be used for follow up questions from the user or agent.\n",
    "\"\"\"\n",
    "chain_type='stuff' #'stuff' or 'map_reduce'\n",
    "\n",
    "\n",
    "OPENAI_API_KEY = os.getenv(\"OPENAI_API_KEY\")\n",
    "\n",
    "llm = ChatOpenAI(\n",
    "    model_name=\"gpt-3.5-turbo\",\n",
    "    temperature=0.7,\n",
    "    max_tokens=1500,\n",
    "    openai_api_key=OPENAI_API_KEY,\n",
    ")\n"
   ]
  },
  {
   "cell_type": "code",
   "execution_count": 5,
   "id": "f4e688ab",
   "metadata": {},
   "outputs": [
    {
     "name": "stdout",
     "output_type": "stream",
     "text": [
      "{'class': Value(uri:'http://schema.org/Dataset')}\n",
      "{'class': Value(uri:'http://wikiba.se/ontology#GeoAutoPrecision')}\n",
      "{'class': Value(uri:'http://wikiba.se/ontology#Property')}\n",
      "{'class': Value(uri:'http://www.w3.org/ns/lemon/ontolex#LexicalSense')}\n"
     ]
    }
   ],
   "source": [
    "from SPARQLWrapper import SPARQLWrapper2\n",
    "\n",
    "endpoint_url = \"https://query.wikidata.org/sparql\"\n",
    "sparql = SPARQLWrapper2(endpoint_url)\n",
    "#sparql.setReturnFormat(JSON)\n",
    "sparql.setQuery(\"\"\"\n",
    "    SELECT DISTINCT ?class ?label\n",
    "    WHERE {\n",
    "        ?s a ?class .\n",
    "        OPTIONAL {?class rdfs:label ?label . FILTER (lang(?label) = \"en\")}\n",
    "    }\n",
    "    LIMIT 4\n",
    "    \"\"\")\n",
    "\n",
    "for result in sparql.query().bindings:  #.queryAndConvert()['results']['bindings']:\n",
    "    print(result)\n",
    "    #print(f\"{result['label'].lang}, {result['label'].value}\")"
   ]
  },
  {
   "cell_type": "markdown",
   "id": "69e83a0d",
   "metadata": {},
   "source": [
    "## Tool 1 - Load schema into vector DB"
   ]
  },
  {
   "cell_type": "code",
   "execution_count": 6,
   "id": "4614bf7b",
   "metadata": {},
   "outputs": [],
   "source": [
    "class AgentToolFromPDFs:\n",
    "    def __init__(\n",
    "        self,\n",
    "        dir,\n",
    "        ext,\n",
    "        search_strings_and_replacements,\n",
    "        chunk_size,\n",
    "        chunk_overlap,\n",
    "        tool_name,\n",
    "        tool_desc,\n",
    "        chain_type,\n",
    "        model_name,\n",
    "        temperature,\n",
    "        max_tokens,\n",
    "    ):\n",
    "        self.dir = dir\n",
    "        self.ext = ext\n",
    "        self.search_strings_and_replacements = search_strings_and_replacements\n",
    "        self.chunk_size = chunk_size\n",
    "        self.chunk_overlap = chunk_overlap\n",
    "        self.tool_name = tool_name\n",
    "        self.tool_desc = tool_desc\n",
    "        self.chain_type = chain_type\n",
    "        self.model_name = model_name\n",
    "        self.temperature = temperature\n",
    "        self.max_tokens = max_tokens\n",
    "\n",
    "    def generate_an_agent_tool(self):\n",
    "        print('Loading documents from the pdfs')\n",
    "        loader = MyDirectoryLoader(self.dir, glob=\"**/*.\" + str(self.ext))\n",
    "        data = loader.load()\n",
    "        print(data)\n",
    "        # Cleaning the documents\n",
    "        print('Cleaning the text in each document')\n",
    "        for document in data:\n",
    "            for search_string, replacement_string in self.search_strings_and_replacements:\n",
    "                document.page_content = document.page_content.replace(\n",
    "                    search_string, replacement_string\n",
    "                )\n",
    "            document.page_content = (\n",
    "                document.page_content.replace(\"\\n\", \" \")\n",
    "                .replace(\"(\", \"\")\n",
    "                .replace(\")\", \"\")\n",
    "            )\n",
    "            document.page_content = re.sub(r\" {2,}\", \" \", document.page_content)\n",
    "            document.page_content = re.sub(\n",
    "                r\"[^a-zA-Z0-9]{4,}\", \"\", document.page_content\n",
    "            )\n",
    "        print('Merging the documents')\n",
    "        merged_page_content = \"\"\n",
    "        for document in data:\n",
    "            merged_page_content += document.page_content\n",
    "        print(data)\n",
    "\n",
    "        # Lets count tokens\n",
    "        tokenizer = tiktoken.get_encoding('cl100k_base')\n",
    "        def tiktoken_len(text):\n",
    "            tokens = tokenizer.encode(\n",
    "                text,\n",
    "                disallowed_special=()\n",
    "            )\n",
    "            return len(tokens)\n",
    "\n",
    "        token_counts = [tiktoken_len(doc.page_content) for doc in data]\n",
    "\n",
    "        print(f\"\"\"Min: {min(token_counts)}\n",
    "        Avg: {int(sum(token_counts) / len(token_counts))}\n",
    "        Max: {max(token_counts)}\"\"\")\n",
    "\n",
    "        # set style and color palette for the plot\n",
    "        sns.set_style(\"whitegrid\")\n",
    "        sns.set_palette(\"muted\")\n",
    "\n",
    "        # create histogram\n",
    "        plt.figure(figsize=(12, 6))\n",
    "        sns.histplot(token_counts, kde=False, bins=50)\n",
    "\n",
    "        # customize the plot info\n",
    "        plt.title(\"Token Counts Histogram before the merging\")\n",
    "        plt.xlabel(\"Token Count\")\n",
    "        plt.ylabel(\"Frequency\")\n",
    "\n",
    "        plt.show()\n",
    "\n",
    "        text_splitter = RecursiveCharacterTextSplitter.from_tiktoken_encoder(chunk_size=self.chunk_size, \n",
    "                                                                    chunk_overlap=self.chunk_overlap,\n",
    "                                                                    #length_function=tiktoken_len,\n",
    "                                                                    separators=['PREFIX', '\\n\\n', '\\n', ' ']\n",
    "        )\n",
    "\n",
    "        print('Split the documents')\n",
    "        data = text_splitter.create_documents([merged_page_content])\n",
    "         # Note: If you're using PyPDFLoader then it will split by page for you already\n",
    "        print (f'You have {len(data)} document(s) in your data')\n",
    "        print(data)\n",
    "\n",
    "        # Assuming data is a list of objects with a page_content attribute\n",
    "        token_counts = [tiktoken_len(doc.page_content) for doc in data]\n",
    "\n",
    "        print(f\"\"\"Min: {min(token_counts)}\n",
    "        Avg: {int(sum(token_counts) / len(token_counts))}\n",
    "        Max: {max(token_counts)}\"\"\")\n",
    "\n",
    "        # set style and color palette for the plot\n",
    "        sns.set_style(\"whitegrid\")\n",
    "        sns.set_palette(\"muted\")\n",
    "\n",
    "        # create histogram\n",
    "        plt.figure(figsize=(12, 6))\n",
    "        sns.histplot(token_counts, kde=False, bins=50)\n",
    "\n",
    "        # customize the plot info\n",
    "        plt.title(\"Token Counts Histogram after split with tiktoken_encoder\")\n",
    "        plt.xlabel(\"Token Count\")\n",
    "        plt.ylabel(\"Frequency\")\n",
    "\n",
    "        plt.show()\n",
    "        \n",
    "        print (f'You have {len(data)} document(s) remaining after filtering in your data')\n",
    "        # Now filtered_data will only contain documents with at least 100 characters.\n",
    "\n",
    "\n",
    "        OPENAI_API_KEY = os.getenv(\"OPENAI_API_KEY\")\n",
    "        embeddings = OpenAIEmbeddings(openai_api_key=OPENAI_API_KEY)\n",
    "        db = Chroma.from_documents(data, embeddings)\n",
    "\n",
    "        llm = ChatOpenAI(\n",
    "            model_name=self.model_name,\n",
    "            temperature=self.temperature,\n",
    "            max_tokens=self.max_tokens,\n",
    "            openai_api_key=OPENAI_API_KEY,\n",
    "        )\n",
    "\n",
    "        retriever = RetrievalQA.from_chain_type(\n",
    "            llm=llm,\n",
    "            chain_type=self.chain_type,\n",
    "            retriever=db.as_retriever(),\n",
    "        )\n",
    "\n",
    "        tool = [\n",
    "            Tool(\n",
    "                func=retriever.run,\n",
    "                description=self.tool_desc,\n",
    "                name=self.tool_name,\n",
    "            )\n",
    "        ]\n",
    "        print('Tool '+ str(self.tool_name)+' was created')\n",
    "        return tool\n"
   ]
  },
  {
   "cell_type": "code",
   "execution_count": 7,
   "id": "1cab1bd3",
   "metadata": {},
   "outputs": [
    {
     "name": "stdout",
     "output_type": "stream",
     "text": [
      "Loading documents from the pdfs\n",
      "[Document(page_content='{\\'wdSubclass\\': \\'Q5014087\\', \\'wdParentClass\\': \\'Q27868211\\', \\'wdSubclassLabel\\': \\'CSF/serum albumin ratio\\', \\'wdParentClassLabel\\': \\'medical tests on cerebrospinal fluid\\'} {\\'wdSubclass\\': \\'Q29643832\\', \\'wdParentClass\\': \\'Q27868211\\', \\'wdSubclassLabel\\': \\'abnormality of the cerebrospinal fluid\\', \\'wdParentClassLabel\\': \\'medical tests on cerebrospinal fluid\\'} {\\'wdSubclass\\': \\'Q104045804\\', \\'wdParentClass\\': \\'Q27868211\\', \\'wdSubclassLabel\\': \\'cerebrospinal fluid culture\\', \\'wdParentClassLabel\\': \\'medical tests on cerebrospinal fluid\\'} {\\'wdSubclass\\': \\'Q3109350\\', \\'wdParentClass\\': \\'Q27868211\\', \\'wdSubclassLabel\\': \\'CSF glucose\\', \\'wdParentClassLabel\\': \\'medical tests on cerebrospinal fluid\\'} {\\'wdSubclass\\': \\'Q3408236\\', \\'wdParentClass\\': \\'Q27868211\\', \\'wdSubclassLabel\\': \\'CSF total protein\\', \\'wdParentClassLabel\\': \\'medical tests on cerebrospinal fluid\\'} {\\'wdSubclass\\': \\'Q14471999\\', \\'wdParentClass\\': \\'Q27868211\\', \\'wdSubclassLabel\\': \"Pandy\\'s test\", \\'wdParentClassLabel\\': \\'medical tests on cerebrospinal fluid\\'} {\\'wdSubclass\\': \\'Q5014091\\', \\'wdParentClass\\': \\'Q27868211\\', \\'wdSubclassLabel\\': \\'CSF albumin\\', \\'wdParentClassLabel\\': \\'medical tests on cerebrospinal fluid\\'} {\\'wdSubclass\\': \\'Q5014086\\', \\'wdParentClass\\': \\'Q27868211\\', \\'wdSubclassLabel\\': \\'CSF/serum glucose ratio\\', \\'wdParentClassLabel\\': \\'medical tests on cerebrospinal fluid\\'} {\\'wdSubclass\\': \\'Q105252429\\', \\'wdParentClass\\': \\'Q7094\\', \\'wdSubclassLabel\\': \\'protein chemistry\\', \\'wdParentClassLabel\\': \\'biochemistry\\'} {\\'wdSubclass\\': \\'Q115135905\\', \\'wdParentClass\\': \\'Q7094\\', \\'wdSubclassLabel\\': \\'food biochemistry\\', \\'wdParentClassLabel\\': \\'biochemistry\\'} {\\'wdSubclass\\': \\'Q69953721\\', \\'wdParentClass\\': \\'Q7094\\', \\'wdSubclassLabel\\': \\'carbohydrate biochemistry\\', \\'wdParentClassLabel\\': \\'biochemistry\\'} {\\'wdSubclass\\': \\'Q114049618\\', \\'wdParentClass\\': \\'Q7094\\', \\'wdSubclassLabel\\': \\'photobiochemistry\\', \\'wdParentClassLabel\\': \\'biochemistry\\'} {\\'wdSubclass\\': \\'Q979585\\', \\'wdParentClass\\': \\'Q7094\\', \\'wdSubclassLabel\\': \\'Pathological Chemistry\\', \\'wdParentClassLabel\\': \\'biochemistry\\'} {\\'wdSubclass\\': \\'Q12384484\\', \\'wdParentClass\\': \\'Q7094\\', \\'wdSubclassLabel\\': \\'cell biochemistry\\', \\'wdParentClassLabel\\': \\'biochemistry\\'} {\\'wdSubclass\\': \\'Q112956198\\', \\'wdParentClass\\': \\'Q7094\\', \\'wdSubclassLabel\\': \\'Crop and pasture biochemistry and physiology\\', \\'wdParentClassLabel\\': \\'biochemistry\\'} {\\'wdSubclass\\': \\'Q12149006\\', \\'wdParentClass\\': \\'Q7094\\', \\'wdSubclassLabel\\': \\'metabolomics\\', \\'wdParentClassLabel\\': \\'biochemistry\\'} {\\'wdSubclass\\': \\'Q6005502\\', \\'wdParentClass\\': \\'Q7094\\', \\'wdSubclassLabel\\': \\'Immunocytochemistry\\', \\'wdParentClassLabel\\': \\'biochemistry\\'} {\\'wdSubclass\\': \\'Q71102948\\', \\'wdParentClass\\': \\'Q7094\\', \\'wdSubclassLabel\\': \\'pathobiochemistry\\', \\'wdParentClassLabel\\': \\'biochemistry\\'} {\\'wdSubclass\\': \\'Q21714785\\', \\'wdParentClass\\': \\'Q7094\\', \\'wdSubclassLabel\\': \\'post-mortem chemistry\\', \\'wdParentClassLabel\\': \\'biochemistry\\'} {\\'wdSubclass\\': \\'Q98247633\\', \\'wdParentClass\\': \\'Q7094\\', \\'wdSubclassLabel\\': \\'bioanalytical chemistry\\', \\'wdParentClassLabel\\': \\'biochemistry\\'} {\\'wdSubclass\\': \\'Q117793945\\', \\'wdParentClass\\': \\'Q7094\\', \\'wdSubclassLabel\\': \\'food biochemistry\\', \\'wdParentClassLabel\\': \\'biochemistry\\'} {\\'wdSubclass\\': \\'Q13040410\\', \\'wdParentClass\\': \\'Q7094\\', \\'wdSubclassLabel\\': \\'Ions in the body\\', \\'wdParentClassLabel\\': \\'biochemistry\\'} {\\'wdSubclass\\': \\'q883112\\', \\'wdParentClass\\': \\'Q7094\\', \\'wdSubclassLabel\\': \\'q883112\\', \\'wdParentClassLabel\\': \\'biochemistry\\'} {\\'wdSubclass\\': \\'Q113853579\\', \\'wdParentClass\\': \\'Q7094\\', \\'wdSubclassLabel\\': \\'xenobiochemistry\\', \\'wdParentClassLabel\\': \\'biochemistry\\'} {\\'wdSubclass\\': \\'Q11909413\\', \\'wdParentClass\\': \\'Q7094\\', \\'wdSubclassLabel\\': \\'Q11909413\\', \\'wdParentClassLabel\\': \\'biochemistry\\'} {\\'wdSubclass\\': \\'Q115160648\\', \\'wdParentClass\\': \\'Q7094\\', \\'wdSubclassLabel\\': \\'molecular biochemistry\\', \\'wdParentClassLabel\\': \\'biochemistry\\'} {\\'wdSubclass\\': \\'Q2880775\\', \\'wdParentClass\\': \\'Q7094\\', \\'wdSubclassLabel\\': \\'enzymology\\', \\'wdParentClassLabel\\': \\'biochemistry\\'} {\\'wdSubclass\\': \\'Q117485357\\', \\'wdParentClass\\': \\'Q7094\\', \\'wdSubclassLabel\\': \\'marine biochemistry\\', \\'wdParentClassLabel\\': \\'biochemistry\\'} {\\'wdSubclass\\': \\'Q16335159\\', \\'wdParentClass\\': \\'Q7094\\', \\'wdSubclassLabel\\': \\'fluxomics\\', \\'wdParentClassLabel\\': \\'biochemistry\\'} {\\'wdSubclass\\': \\'Q4218483\\', \\'wdParentClass\\': \\'Q7094\\', \\'wdSubclassLabel\\': \\'quantum biochemistry\\', \\'wdParentClassLabel\\': \\'biochemistry\\'} {\\'wdSubclass\\': \\'Q97182622\\', \\'wdParentClass\\': \\'Q7094\\', \\'wdSubclassLabel\\': \\'plant biochemistry\\', \\'wdParentClassLabel\\': \\'biochemistry\\'} {\\'wdSubclass\\': \\'Q1418791\\', \\'wdParentClass\\': \\'Q7094\\', \\'wdSubclassLabel\\': \\'drug discovery\\', \\'wdParentClassLabel\\': \\'biochemistry\\'} {\\'wdSubclass\\': \\'Q741206\\', \\'wdParentClass\\': \\'Q7094\\', \\'wdSubclassLabel\\': \\'glycomics\\', \\'wdParentClassLabel\\': \\'biochemistry\\'} {\\'wdSubclass\\': \\'Q20456623\\', \\'wdParentClass\\': \\'Q7094\\', \\'wdSubclassLabel\\': \\'Q20456623\\', \\'wdParentClassLabel\\': \\'biochemistry\\'} {\\'wdSubclass\\': \\'Q27868211\\', \\'wdParentClass\\': \\'Q849994\\', \\'wdSubclassLabel\\': \\'medical tests on cerebrospinal fluid\\', \\'wdParentClassLabel\\': \\'clinical chemistry\\'} {\\'wdSubclass\\': \\'Q113134526\\', \\'wdParentClass\\': \\'Q849994\\', \\'wdSubclassLabel\\': \\'proteins and peptides in medical biochemistry\\', \\'wdParentClassLabel\\': \\'clinical chemistry\\'} {\\'wdSubclass\\': \\'Q71102948\\', \\'wdParentClass\\': \\'Q849994\\', \\'wdSubclassLabel\\': \\'pathobiochemistry\\', \\'wdParentClassLabel\\': \\'clinical chemistry\\'} {\\'wdSubclass\\': \\'Q113134501\\', \\'wdParentClass\\': \\'Q849994\\', \\'wdSubclassLabel\\': \\'amino acids and metabolites in medical biochemistry\\', \\'wdParentClassLabel\\': \\'clinical chemistry\\'} {\\'wdSubclass\\': \\'Q1359801\\', \\'wdParentClass\\': \\'Q849994\\', \\'wdSubclassLabel\\': \\'liver function tests\\', \\'wdParentClassLabel\\': \\'clinical chemistry\\'} {\\'wdSubclass\\': \\'Q864640\\', \\'wdParentClass\\': \\'Q11351\\', \\'wdSubclassLabel\\': \\'bioorganic chemistry\\', \\'wdParentClassLabel\\': \\'organic chemistry\\'} {\\'wdSubclass\\': \\'Q110259383\\', \\'wdParentClass\\': \\'Q11351\\', \\'wdSubclassLabel\\': \\'organic green chemistry\\', \\'wdParentClassLabel\\': \\'organic chemistry\\'} {\\'wdSubclass\\': \\'Q493630\\', \\'wdParentClass\\': \\'Q11351\\', \\'wdSubclassLabel\\': \\'petrochemistry\\', \\'wdParentClassLabel\\': \\'organic chemistry\\'} {\\'wdSubclass\\': \\'Q731154\\', \\'wdParentClass\\': \\'Q11351\\', \\'wdSubclassLabel\\': \\'chemical biology\\', \\'wdParentClassLabel\\': \\'organic chemistry\\'} {\\'wdSubclass\\': \\'Q5508274\\', \\'wdParentClass\\': \\'Q11351\\', \\'wdSubclassLabel\\': \\'fullerene chemistry\\', \\'wdParentClassLabel\\': \\'organic chemistry\\'} {\\'wdSubclass\\': \\'Q60876408\\', \\'wdParentClass\\': \\'Q11351\\', \\'wdSubclassLabel\\': \\'Meyer-Hartmann reaction\\', \\'wdParentClassLabel\\': \\'organic chemistry\\'} {\\'wdSubclass\\': \\'Q243455\\', \\'wdParentClass\\': \\'Q11351\\', \\'wdSubclassLabel\\': \\'medicinal chemistry\\', \\'wdParentClassLabel\\': \\'organic chemistry\\'} {\\'wdSubclass\\': \\'Q640068\\', \\'wdParentClass\\': \\'Q11351\\', \\'wdSubclassLabel\\': \\'phytochemistry\\', \\'wdParentClassLabel\\': \\'organic chemistry\\'} {\\'wdSubclass\\': \\'Q60875687\\', \\'wdParentClass\\': \\'Q11351\\', \\'wdSubclassLabel\\': \\'Nagata Reaction\\', \\'wdParentClassLabel\\': \\'organic chemistry\\'} {\\'wdSubclass\\': \\'Q864661\\', \\'wdParentClass\\': \\'Q11351\\', \\'wdSubclassLabel\\': \\'biophysical chemistry\\', \\'wdParentClassLabel\\': \\'organic chemistry\\'} {\\'wdSubclass\\': \\'Q750446\\', \\'wdParentClass\\': \\'Q11351\\', \\'wdSubclassLabel\\': \\'polymer chemistry\\', \\'wdParentClassLabel\\': \\'organic chemistry\\'} {\\'wdSubclass\\': \\'Q55739706\\', \\'wdParentClass\\': \\'Q11351\\', \\'wdSubclassLabel\\': \\'organonitrogen chemistry\\', \\'wdParentClassLabel\\': \\'organic chemistry\\'} {\\'wdSubclass\\': \\'Q652513\\', \\'wdParentClass\\': \\'Q11351\\', \\'wdSubclassLabel\\': \\'physical organic chemistry\\', \\'wdParentClassLabel\\': \\'organic chemistry\\'} {\\'wdSubclass\\': \\'Q1090893\\', \\'wdParentClass\\': \\'Q11351\\', \\'wdSubclassLabel\\': \\'organofluorine chemistry\\', \\'wdParentClassLabel\\': \\'organic chemistry\\'} {\\'wdSubclass\\': \\'Q7094\\', \\'wdParentClass\\': \\'Q11351\\', \\'wdSubclassLabel\\': \\'biochemistry\\', \\'wdParentClassLabel\\': \\'organic chemistry\\'} {\\'wdSubclass\\': \\'Q60876181\\', \\'wdParentClass\\': \\'Q11351\\', \\'wdSubclassLabel\\': \\'Rothemund reaction\\', \\'wdParentClassLabel\\': \\'organic chemistry\\'} {\\'wdSubclass\\': \\'Q15840367\\', \\'wdParentClass\\': \\'Q11351\\', \\'wdSubclassLabel\\': \\'pharmaceutical chemistry\\', \\'wdParentClassLabel\\': \\'organic chemistry\\'} {\\'wdSubclass\\': \\'Q115252785\\', \\'wdParentClass\\': \\'Q11351\\', \\'wdSubclassLabel\\': \\'Q115252785\\', \\'wdParentClassLabel\\': \\'organic chemistry\\'} {\\'wdSubclass\\': \\'Q4531151\\', \\'wdParentClass\\': \\'Q11351\\', \\'wdSubclassLabel\\': \\'Q4531151\\', \\'wdParentClassLabel\\': \\'organic chemistry\\'} {\\'wdSubclass\\': \\'Q849994\\', \\'wdParentClass\\': \\'Q11351\\', \\'wdSubclassLabel\\': \\'clinical chemistry\\', \\'wdParentClassLabel\\': \\'organic chemistry\\'} {\\'wdSubclass\\': \\'Q786278\\', \\'wdParentClass\\': \\'Q11351\\', \\'wdSubclassLabel\\': \\'neurochemistry\\', \\'wdParentClassLabel\\': \\'organic chemistry\\'} {\\'wdSubclass\\': \\'Q60876258\\', \\'wdParentClass\\': \\'Q11351\\', \\'wdSubclassLabel\\': \\'Bart reaction\\', \\'wdParentClassLabel\\': \\'organic chemistry\\'} {\\'wdSubclass\\': \\'Q73212187\\', \\'wdParentClass\\': \\'Q2198549\\', \\'wdSubclassLabel\\': \\'drug evaluation\\', \\'wdParentClassLabel\\': \\'drug development\\'} {\\'wdSubclass\\': \\'Q2991682\\', \\'wdParentClass\\': \\'Q2198549\\', \\'wdSubclassLabel\\': \\'drug design\\', \\'wdParentClassLabel\\': \\'drug development\\'} {\\'wdSubclass\\': \\'Q1418791\\', \\'wdParentClass\\': \\'Q2198549\\', \\'wdSubclassLabel\\': \\'drug discovery\\', \\'wdParentClassLabel\\': \\'drug development\\'} {\\'wdSubclass\\': \\'Q3378585\\', \\'wdParentClass\\': \\'Q614304\\', \\'wdSubclassLabel\\': \\'military pharmacy\\', \\'wdParentClassLabel\\': \\'pharmacy\\'} {\\'wdSubclass\\': \\'Q2198549\\', \\'wdParentClass\\': \\'Q614304\\', \\'wdSubclassLabel\\': \\'drug development\\', \\'wdParentClassLabel\\': \\'pharmacy\\'} {\\'wdSubclass\\': \\'Q3378584\\', \\'wdParentClass\\': \\'Q614304\\', \\'wdSubclassLabel\\': \\'humanitarian pharmacy\\', \\'wdParentClassLabel\\': \\'pharmacy\\'} {\\'wdSubclass\\': \\'Q1782340\\', \\'wdParentClass\\': \\'Q614304\\', \\'wdSubclassLabel\\': \\'Spagyric\\', \\'wdParentClassLabel\\': \\'pharmacy\\'} {\\'wdSubclass\\': \\'Q391148\\', \\'wdParentClass\\': \\'Q614304\\', \\'wdSubclassLabel\\': \\'history of pharmacy\\', \\'wdParentClassLabel\\': \\'pharmacy\\'} {\\'wdSubclass\\': \\'Q107395629\\', \\'wdParentClass\\': \\'Q614304\\', \\'wdSubclassLabel\\': \\'industrial pharmacy\\', \\'wdParentClassLabel\\': \\'pharmacy\\'} {\\'wdSubclass\\': \\'Q155491\\', \\'wdParentClass\\': \\'Q614304\\', \\'wdSubclassLabel\\': \\'clinical pharmacy\\', \\'wdParentClassLabel\\': \\'pharmacy\\'} {\\'wdSubclass\\': \\'Q1000889\\', \\'wdParentClass\\': \\'Q614304\\', \\'wdSubclassLabel\\': \\'emergency and disaster pharmacy\\', \\'wdParentClassLabel\\': \\'pharmacy\\'} {\\'wdSubclass\\': \\'Q16992268\\', \\'wdParentClass\\': \\'Q614304\\', \\'wdSubclassLabel\\': \\'Hydrophilization\\', \\'wdParentClassLabel\\': \\'pharmacy\\'} {\\'wdSubclass\\': \\'Q3417008\\', \\'wdParentClass\\': \\'Q614304\\', \\'wdSubclassLabel\\': \\'Nuclear pharmacy\\', \\'wdParentClassLabel\\': \\'pharmacy\\'} {\\'wdSubclass\\': \\'Q2447485\\', \\'wdParentClass\\': \\'Q614304\\', \\'wdSubclassLabel\\': \\'Q2447485\\', \\'wdParentClassLabel\\': \\'pharmacy\\'} {\\'wdSubclass\\': \\'Q388618\\', \\'wdParentClass\\': \\'Q614304\\', \\'wdSubclassLabel\\': \\'hospital pharmacy\\', \\'wdParentClassLabel\\': \\'pharmacy\\'} {\\'wdSubclass\\': \\'Q1474765\\', \\'wdParentClass\\': \\'Q614304\\', \\'wdSubclassLabel\\': \\'galenic formulation\\', \\'wdParentClassLabel\\': \\'pharmacy\\'} {\\'wdSubclass\\': \\'Q112252029\\', \\'wdParentClass\\': \\'Q614304\\', \\'wdSubclassLabel\\': \\'biopharmacy\\', \\'wdParentClassLabel\\': \\'pharmacy\\'} {\\'wdSubclass\\': \\'Q7180824\\', \\'wdParentClass\\': \\'Q614304\\', \\'wdSubclassLabel\\': \\'pharmacy practice\\', \\'wdParentClassLabel\\': \\'pharmacy\\'} {\\'wdSubclass\\': \\'Q113141546\\', \\'wdParentClass\\': \\'Q113135490\\', \\'wdSubclassLabel\\': \\'structure and dynamics of materials\\', \\'wdParentClassLabel\\': \\'macromolecular and materials chemistry\\'} {\\'wdSubclass\\': \\'Q113135537\\', \\'wdParentClass\\': \\'Q113135490\\', \\'wdSubclassLabel\\': \\'physical chemistry of materials\\', \\'wdParentClassLabel\\': \\'macromolecular and materials chemistry\\'} {\\'wdSubclass\\': \\'Q110245453\\', \\'wdParentClass\\': \\'Q113135490\\', \\'wdSubclassLabel\\': \\'theory and design of materials\\', \\'wdParentClassLabel\\': \\'macromolecular and materials chemistry\\'} {\\'wdSubclass\\': \\'Q756449\\', \\'wdParentClass\\': \\'Q113135490\\', \\'wdSubclassLabel\\': \\'supramolecular chemistry\\', \\'wdParentClassLabel\\': \\'macromolecular and materials chemistry\\'} {\\'wdSubclass\\': \\'Q110245428\\', \\'wdParentClass\\': \\'Q113135490\\', \\'wdSubclassLabel\\': \\'macromolecular materials research\\', \\'wdParentClassLabel\\': \\'macromolecular and materials chemistry\\'} {\\'wdSubclass\\': \\'Q1443081\\', \\'wdParentClass\\': \\'Q113135490\\', \\'wdSubclassLabel\\': \\'nanochemistry\\', \\'wdParentClassLabel\\': \\'macromolecular and materials chemistry\\'} {\\'wdSubclass\\': \\'Q899656\\', \\'wdParentClass\\': \\'Q67577480\\', \\'wdSubclassLabel\\': \\'protein structure prediction\\', \\'wdParentClassLabel\\': \\'structure prediction\\'} {\\'wdSubclass\\': \\'Q901663\\', \\'wdParentClass\\': \\'Q67577480\\', \\'wdSubclassLabel\\': \\'molecular dynamics simulation\\', \\'wdParentClassLabel\\': \\'structure prediction\\'} {\\'wdSubclass\\': \\'Q113444274\\', \\'wdParentClass\\': \\'Q67577480\\', \\'wdSubclassLabel\\': \\'secondary structure prediction\\', \\'wdParentClassLabel\\': \\'structure prediction\\'} {\\'wdSubclass\\': \\'Q7068225\\', \\'wdParentClass\\': \\'Q67577480\\', \\'wdSubclassLabel\\': \\'Nucleic acid structure prediction\\', \\'wdParentClassLabel\\': \\'structure prediction\\'} {\\'wdSubclass\\': \\'Q13195799\\', \\'wdParentClass\\': \\'Q11165\\', \\'wdSubclassLabel\\': \\'physical inorganic chemistry\\', \\'wdParentClassLabel\\': \\'inorganic chemistry\\'} {\\'wdSubclass\\': \\'Q803925\\', \\'wdParentClass\\': \\'Q11165\\', \\'wdSubclassLabel\\': \\'bioinorganic chemistry\\', \\'wdParentClassLabel\\': \\'inorganic chemistry\\'} {\\'wdSubclass\\': \\'Q5063652\\', \\'wdParentClass\\': \\'Q11165\\', \\'wdSubclassLabel\\': \\'ceramic chemistry\\', \\'wdParentClassLabel\\': \\'inorganic chemistry\\'} {\\'wdSubclass\\': \\'Q3674740\\', \\'wdParentClass\\': \\'Q11165\\', \\'wdSubclassLabel\\': \\'coordination chemistry\\', \\'wdParentClassLabel\\': \\'inorganic chemistry\\'} {\\'wdSubclass\\': \\'Q237200\\', \\'wdParentClass\\': \\'Q11165\\', \\'wdSubclassLabel\\': \\'organometallic chemistry\\', \\'wdParentClassLabel\\': \\'inorganic chemistry\\'} {\\'wdSubclass\\': \\'Q67577480\\', \\'wdParentClass\\': \\'Q910164\\', \\'wdSubclassLabel\\': \\'structure prediction\\', \\'wdParentClassLabel\\': \\'cheminformatics\\'} {\\'wdSubclass\\': \\'Q29156727\\', \\'wdParentClass\\': \\'Q910164\\', \\'wdSubclassLabel\\': \\'cheminformatics software\\', \\'wdParentClassLabel\\': \\'cheminformatics\\'} {\\'wdSubclass\\': \\'Q4112105\\', \\'wdParentClass\\': \\'Q910164\\', \\'wdSubclassLabel\\': \\'virtual screening\\', \\'wdParentClassLabel\\': \\'cheminformatics\\'} {\\'wdSubclass\\': \\'Q114737329\\', \\'wdParentClass\\': \\'Q910164\\', \\'wdSubclassLabel\\': \\'Quantitative Structure–Property Relationship\\', \\'wdParentClassLabel\\': \\'cheminformatics\\'} {\\'wdSubclass\\': \\'Q369472\\', \\'wdParentClass\\': \\'Q910164\\', \\'wdSubclassLabel\\': \\'computational chemistry\\', \\'wdParentClassLabel\\': \\'cheminformatics\\'} {\\'wdSubclass\\': \\'Q766383\\', \\'wdParentClass\\': \\'Q910164\\', \\'wdSubclassLabel\\': \\'quantitative structure-activity relationship\\', \\'wdParentClassLabel\\': \\'cheminformatics\\'} {\\'wdSubclass\\': \\'Q1674549\\', \\'wdParentClass\\': \\'Q161764\\', \\'wdSubclassLabel\\': \\'isotope geochemistry\\', \\'wdParentClassLabel\\': \\'geochemistry\\'} {\\'wdSubclass\\': \\'Q113547642\\', \\'wdParentClass\\': \\'Q161764\\', \\'wdSubclassLabel\\': \\'analytical geochemistry\\', \\'wdParentClassLabel\\': \\'geochemistry\\'} {\\'wdSubclass\\': \\'Q18352840\\', \\'wdParentClass\\': \\'Q161764\\', \\'wdSubclassLabel\\': \\'aqueous geochemistry\\', \\'wdParentClassLabel\\': \\'geochemistry\\'} {\\'wdSubclass\\': \\'Q25530597\\', \\'wdParentClass\\': \\'Q161764\\', \\'wdSubclassLabel\\': \\'hydrogeochemistry\\', \\'wdParentClassLabel\\': \\'geochemistry\\'} {\\'wdSubclass\\': \\'Q113726448\\', \\'wdParentClass\\': \\'Q161764\\', \\'wdSubclassLabel\\': \\'environmental geochemistry\\', \\'wdParentClassLabel\\': \\'geochemistry\\'} {\\'wdSubclass\\': \\'Q12058749\\', \\'wdParentClass\\': \\'Q161764\\', \\'wdSubclassLabel\\': \\'thermobarometry\\', \\'wdParentClassLabel\\': \\'geochemistry\\'} {\\'wdSubclass\\': \\'Q911801\\', \\'wdParentClass\\': \\'Q161764\\', \\'wdSubclassLabel\\': \\'cosmochemistry\\', \\'wdParentClassLabel\\': \\'geochemistry\\'} {\\'wdSubclass\\': \\'Q912065\\', \\'wdParentClass\\': \\'Q161764\\', \\'wdSubclassLabel\\': \\'hydrochemistry\\', \\'wdParentClassLabel\\': \\'geochemistry\\'} {\\'wdSubclass\\': \\'Q864379\\', \\'wdParentClass\\': \\'Q161764\\', \\'wdSubclassLabel\\': \\'biogeochemistry\\', \\'wdParentClassLabel\\': \\'geochemistry\\'} {\\'wdSubclass\\': \\'Q114023779\\', \\'wdParentClass\\': \\'Q161764\\', \\'wdSubclassLabel\\': \\'radiogeochemistry\\', \\'wdParentClassLabel\\': \\'geochemistry\\'} {\\'wdSubclass\\': \\'Q113077482\\', \\'wdParentClass\\': \\'Q161764\\', \\'wdSubclassLabel\\': \\'inorganic geochemistry\\', \\'wdParentClassLabel\\': \\'geochemistry\\'} {\\'wdSubclass\\': \\'Q2729912\\', \\'wdParentClass\\': \\'Q161764\\', \\'wdSubclassLabel\\': \\'chemostratigraphy\\', \\'wdParentClassLabel\\': \\'geochemistry\\'} {\\'wdSubclass\\': \\'Q3760196\\', \\'wdParentClass\\': \\'Q161764\\', \\'wdSubclassLabel\\': \\'petroleum geochemistry\\', \\'wdParentClassLabel\\': \\'geochemistry\\'} {\\'wdSubclass\\': \\'Q2274700\\', \\'wdParentClass\\': \\'Q161764\\', \\'wdSubclassLabel\\': \\'Organic geochemistry\\', \\'wdParentClassLabel\\': \\'geochemistry\\'} {\\'wdSubclass\\': \\'Q114047879\\', \\'wdParentClass\\': \\'Q161764\\', \\'wdSubclassLabel\\': \\'soil geochemistry\\', \\'wdParentClassLabel\\': \\'geochemistry\\'} {\\'wdSubclass\\': \\'Q4530266\\', \\'wdParentClass\\': \\'Q161764\\', \\'wdSubclassLabel\\': \\'ecological geochemistry\\', \\'wdParentClassLabel\\': \\'geochemistry\\'} {\\'wdSubclass\\': \\'Q743257\\', \\'wdParentClass\\': \\'Q161764\\', \\'wdSubclassLabel\\': \\'soil chemistry\\', \\'wdParentClassLabel\\': \\'geochemistry\\'} {\\'wdSubclass\\': \\'Q113095682\\', \\'wdParentClass\\': \\'Q161764\\', \\'wdSubclassLabel\\': \\'exploration geochemistry\\', \\'wdParentClassLabel\\': \\'geochemistry\\'} {\\'wdSubclass\\': \\'Q2556886\\', \\'wdParentClass\\': \\'Q321150\\', \\'wdSubclassLabel\\': \\'mathematical chemistry\\', \\'wdParentClassLabel\\': \\'theoretical chemistry\\'} {\\'wdSubclass\\': \\'Q5265605\\', \\'wdParentClass\\': \\'Q3489716\\', \\'wdSubclassLabel\\': \\'detection of fire accelerants\\', \\'wdParentClassLabel\\': \\'forensic chemistry\\'} {\\'wdSubclass\\': \\'Q587862\\', \\'wdParentClass\\': \\'Q3489716\\', \\'wdSubclassLabel\\': \\'forensic toxicology\\', \\'wdParentClassLabel\\': \\'forensic chemistry\\'} {\\'wdSubclass\\': \\'Q115582861\\', \\'wdParentClass\\': \\'Q7218\\', \\'wdSubclassLabel\\': \\'cardiotoxicology\\', \\'wdParentClassLabel\\': \\'toxicology\\'} {\\'wdSubclass\\': \\'Q3536003\\', \\'wdParentClass\\': \\'Q7218\\', \\'wdSubclassLabel\\': \\'radiotoxicology\\', \\'wdParentClassLabel\\': \\'toxicology\\'} {\\'wdSubclass\\': \\'Q6005582\\', \\'wdParentClass\\': \\'Q7218\\', \\'wdSubclassLabel\\': \\'immunotoxicology\\', \\'wdParentClassLabel\\': \\'toxicology\\'} {\\'wdSubclass\\': \\'Q113548804\\', \\'wdParentClass\\': \\'Q7218\\', \\'wdSubclassLabel\\': \\'industrial toxicology\\', \\'wdParentClassLabel\\': \\'toxicology\\'} {\\'wdSubclass\\': \\'Q105409336\\', \\'wdParentClass\\': \\'Q7218\\', \\'wdSubclassLabel\\': \\'Evolutionary toxicology\\', \\'wdParentClassLabel\\': \\'toxicology\\'} {\\'wdSubclass\\': \\'Q2518429\\', \\'wdParentClass\\': \\'Q7218\\', \\'wdSubclassLabel\\': \\'nanotoxicology\\', \\'wdParentClassLabel\\': \\'toxicology\\'} {\\'wdSubclass\\': \\'Q108366378\\', \\'wdParentClass\\': \\'Q7218\\', \\'wdSubclassLabel\\': \\'chemical and environmental toxicology\\', \\'wdParentClassLabel\\': \\'toxicology\\'} {\\'wdSubclass\\': \\'Q113884085\\', \\'wdParentClass\\': \\'Q7218\\', \\'wdSubclassLabel\\': \\'genetic toxicology\\', \\'wdParentClassLabel\\': \\'toxicology\\'} {\\'wdSubclass\\': \\'Q21693208\\', \\'wdParentClass\\': \\'Q7218\\', \\'wdSubclassLabel\\': \\'occupational toxicology\\', \\'wdParentClassLabel\\': \\'toxicology\\'} {\\'wdSubclass\\': \\'Q6947231\\', \\'wdParentClass\\': \\'Q7218\\', \\'wdSubclassLabel\\': \\'mycotoxicology\\', \\'wdParentClassLabel\\': \\'toxicology\\'} {\\'wdSubclass\\': \\'Q113884060\\', \\'wdParentClass\\': \\'Q7218\\', \\'wdSubclassLabel\\': \\'developmental toxicology\\', \\'wdParentClassLabel\\': \\'toxicology\\'} {\\'wdSubclass\\': \\'Q113884064\\', \\'wdParentClass\\': \\'Q7218\\', \\'wdSubclassLabel\\': \\'clinical toxicology\\', \\'wdParentClassLabel\\': \\'toxicology\\'} {\\'wdSubclass\\': \\'Q113884167\\', \\'wdParentClass\\': \\'Q7218\\', \\'wdSubclassLabel\\': \\'general toxicology\\', \\'wdParentClassLabel\\': \\'toxicology\\'} {\\'wdSubclass\\': \\'Q113884197\\', \\'wdParentClass\\': \\'Q7218\\', \\'wdSubclassLabel\\': \\'experimental toxicology\\', \\'wdParentClassLabel\\': \\'toxicology\\'} {\\'wdSubclass\\': \\'Q113884141\\', \\'wdParentClass\\': \\'Q7218\\', \\'wdSubclassLabel\\': \\'military toxicology\\', \\'wdParentClassLabel\\': \\'toxicology\\'} {\\'wdSubclass\\': \\'Q113884235\\', \\'wdParentClass\\': \\'Q7218\\', \\'wdSubclassLabel\\': \\'analytical toxicology\\', \\'wdParentClassLabel\\': \\'toxicology\\'} {\\'wdSubclass\\': \\'Q113884056\\', \\'wdParentClass\\': \\'Q7218\\', \\'wdSubclassLabel\\': \\'veterinary toxicology\\', \\'wdParentClassLabel\\': \\'toxicology\\'} {\\'wdSubclass\\': \\'Q587862\\', \\'wdParentClass\\': \\'Q7218\\', \\'wdSubclassLabel\\': \\'forensic toxicology\\', \\'wdParentClassLabel\\': \\'toxicology\\'} {\\'wdSubclass\\': \\'Q112417293\\', \\'wdParentClass\\': \\'Q7218\\', \\'wdSubclassLabel\\': \\'neurotoxicology\\', \\'wdParentClassLabel\\': \\'toxicology\\'} {\\'wdSubclass\\': \\'Q1009245\\', \\'wdParentClass\\': \\'Q7218\\', \\'wdSubclassLabel\\': \\'genotoxicity\\', \\'wdParentClassLabel\\': \\'toxicology\\'} {\\'wdSubclass\\': \\'Q113884229\\', \\'wdParentClass\\': \\'Q7218\\', \\'wdSubclassLabel\\': \\'cytotoxicology\\', \\'wdParentClassLabel\\': \\'toxicology\\'} {\\'wdSubclass\\': \\'Q113884058\\', \\'wdParentClass\\': \\'Q7218\\', \\'wdSubclassLabel\\': \\'water toxicology\\', \\'wdParentClassLabel\\': \\'toxicology\\'} {\\'wdSubclass\\': \\'Q113884218\\', \\'wdParentClass\\': \\'Q7218\\', \\'wdSubclassLabel\\': \\'nutritive toxicology\\', \\'wdParentClassLabel\\': \\'toxicology\\'} {\\'wdSubclass\\': \\'Q113884260\\', \\'wdParentClass\\': \\'Q7218\\', \\'wdSubclassLabel\\': \\'molecular toxicology\\', \\'wdParentClassLabel\\': \\'toxicology\\'} {\\'wdSubclass\\': \\'Q3995923\\', \\'wdParentClass\\': \\'Q7218\\', \\'wdSubclassLabel\\': \\'environmental toxicology\\', \\'wdParentClassLabel\\': \\'toxicology\\'} {\\'wdSubclass\\': \\'Q841450\\', \\'wdParentClass\\': \\'Q7218\\', \\'wdSubclassLabel\\': \\'toxicogenomics\\', \\'wdParentClassLabel\\': \\'toxicology\\'} {\\'wdSubclass\\': \\'Q105089897\\', \\'wdParentClass\\': \\'Q634314\\', \\'wdSubclassLabel\\': \\'adsorption calorimetry\\', \\'wdParentClassLabel\\': \\'calorimetry\\'} {\\'wdSubclass\\': \\'Q904893\\', \\'wdParentClass\\': \\'Q634314\\', \\'wdSubclassLabel\\': \\'differential scanning calorimetry\\', \\'wdParentClassLabel\\': \\'calorimetry\\'} {\\'wdSubclass\\': \\'Q1661446\\', \\'wdParentClass\\': \\'Q634314\\', \\'wdSubclassLabel\\': \\'Indirect calorimetry\\', \\'wdParentClassLabel\\': \\'calorimetry\\'} {\\'wdSubclass\\': \\'Q110245477\\', \\'wdParentClass\\': \\'Q110245486\\', \\'wdSubclassLabel\\': \\'statistical mechanics in chemistry\\', \\'wdParentClassLabel\\': \\'theoretical and computational chemistry\\'} {\\'wdSubclass\\': \\'Q369472\\', \\'wdParentClass\\': \\'Q110245486\\', \\'wdSubclassLabel\\': \\'computational chemistry\\', \\'wdParentClassLabel\\': \\'theoretical and computational chemistry\\'} {\\'wdSubclass\\': \\'Q188403\\', \\'wdParentClass\\': \\'Q110245486\\', \\'wdSubclassLabel\\': \\'quantum chemistry\\', \\'wdParentClassLabel\\': \\'theoretical and computational chemistry\\'} {\\'wdSubclass\\': \\'Q911772\\', \\'wdParentClass\\': \\'Q11491273\\', \\'wdSubclassLabel\\': \\'chemical technology\\', \\'wdParentClassLabel\\': \\'applied chemistry\\'} {\\'wdSubclass\\': \\'Q903767\\', \\'wdParentClass\\': \\'Q11491273\\', \\'wdSubclassLabel\\': \\'chemurgy\\', \\'wdParentClassLabel\\': \\'applied chemistry\\'} {\\'wdSubclass\\': \\'Q4661718\\', \\'wdParentClass\\': \\'Q4456813\\', \\'wdSubclassLabel\\': \\'activation\\', \\'wdParentClassLabel\\': \\'technical chemistry\\'} {\\'wdSubclass\\': \\'Q910067\\', \\'wdParentClass\\': \\'Q2329\\', \\'wdSubclassLabel\\': \\'chemometrics\\', \\'wdParentClassLabel\\': \\'chemistry\\'} {\\'wdSubclass\\': \\'Q1925986\\', \\'wdParentClass\\': \\'Q2329\\', \\'wdSubclassLabel\\': \\'zythology\\', \\'wdParentClassLabel\\': \\'chemistry\\'} {\\'wdSubclass\\': \\'Q4456813\\', \\'wdParentClass\\': \\'Q2329\\', \\'wdSubclassLabel\\': \\'technical chemistry\\', \\'wdParentClassLabel\\': \\'chemistry\\'} {\\'wdSubclass\\': \\'Q899212\\', \\'wdParentClass\\': \\'Q2329\\', \\'wdSubclassLabel\\': \\'combinatorial chemistry\\', \\'wdParentClassLabel\\': \\'chemistry\\'} {\\'wdSubclass\\': \\'Q909501\\', \\'wdParentClass\\': \\'Q2329\\', \\'wdSubclassLabel\\': \\'crystal chemistry\\', \\'wdParentClassLabel\\': \\'chemistry\\'} {\\'wdSubclass\\': \\'Q909495\\', \\'wdParentClass\\': \\'Q2329\\', \\'wdSubclassLabel\\': \\'interface and colloid science\\', \\'wdParentClassLabel\\': \\'chemistry\\'} {\\'wdSubclass\\': \\'Q910164\\', \\'wdParentClass\\': \\'Q2329\\', \\'wdSubclassLabel\\': \\'cheminformatics\\', \\'wdParentClassLabel\\': \\'chemistry\\'} {\\'wdSubclass\\': \\'Q5125767\\', \\'wdParentClass\\': \\'Q2329\\', \\'wdSubclassLabel\\': \\'clandestine chemistry\\', \\'wdParentClassLabel\\': \\'chemistry\\'} {\\'wdSubclass\\': \\'Q9164697\\', \\'wdParentClass\\': \\'Q2329\\', \\'wdSubclassLabel\\': \\'balneochemistry\\', \\'wdParentClassLabel\\': \\'chemistry\\'} {\\'wdSubclass\\': \\'Q910172\\', \\'wdParentClass\\': \\'Q2329\\', \\'wdSubclassLabel\\': \\'food chemistry\\', \\'wdParentClassLabel\\': \\'chemistry\\'} {\\'wdSubclass\\': \\'Q2466273\\', \\'wdParentClass\\': \\'Q2329\\', \\'wdSubclassLabel\\': \\'immunochemistry\\', \\'wdParentClassLabel\\': \\'chemistry\\'} {\\'wdSubclass\\': \\'Q700919\\', \\'wdParentClass\\': \\'Q2329\\', \\'wdSubclassLabel\\': \\'chemical ecology\\', \\'wdParentClassLabel\\': \\'chemistry\\'} {\\'wdSubclass\\': \\'Q161764\\', \\'wdParentClass\\': \\'Q2329\\', \\'wdSubclassLabel\\': \\'geochemistry\\', \\'wdParentClassLabel\\': \\'chemistry\\'} {\\'wdSubclass\\': \\'Q2963660\\', \\'wdParentClass\\': \\'Q2329\\', \\'wdSubclassLabel\\': \\'wet chemistry\\', \\'wdParentClassLabel\\': \\'chemistry\\'} {\\'wdSubclass\\': \\'Q5384482\\', \\'wdParentClass\\': \\'Q2329\\', \\'wdSubclassLabel\\': \\'equilibrium chemistry\\', \\'wdParentClassLabel\\': \\'chemistry\\'} {\\'wdSubclass\\': \\'Q321150\\', \\'wdParentClass\\': \\'Q2329\\', \\'wdSubclassLabel\\': \\'theoretical chemistry\\', \\'wdParentClassLabel\\': \\'chemistry\\'} {\\'wdSubclass\\': \\'Q3489716\\', \\'wdParentClass\\': \\'Q2329\\', \\'wdSubclassLabel\\': \\'forensic chemistry\\', \\'wdParentClassLabel\\': \\'chemistry\\'} {\\'wdSubclass\\': \\'Q756449\\', \\'wdParentClass\\': \\'Q2329\\', \\'wdSubclassLabel\\': \\'supramolecular chemistry\\', \\'wdParentClassLabel\\': \\'chemistry\\'} {\\'wdSubclass\\': \\'Q614304\\', \\'wdParentClass\\': \\'Q2329\\', \\'wdSubclassLabel\\': \\'pharmacy\\', \\'wdParentClassLabel\\': \\'chemistry\\'} {\\'wdSubclass\\': \\'Q287919\\', \\'wdParentClass\\': \\'Q2329\\', \\'wdSubclassLabel\\': \\'atmospheric chemistry\\', \\'wdParentClassLabel\\': \\'chemistry\\'} {\\'wdSubclass\\': \\'Q2963661\\', \\'wdParentClass\\': \\'Q2329\\', \\'wdSubclassLabel\\': \\'synthetic chemistry\\', \\'wdParentClassLabel\\': \\'chemistry\\'} {\\'wdSubclass\\': \\'Q7076133\\', \\'wdParentClass\\': \\'Q2329\\', \\'wdSubclassLabel\\': \\'ocean chemistry\\', \\'wdParentClassLabel\\': \\'chemistry\\'} {\\'wdSubclass\\': \\'Q725361\\', \\'wdParentClass\\': \\'Q2329\\', \\'wdSubclassLabel\\': \\'green chemistry\\', \\'wdParentClassLabel\\': \\'chemistry\\'} {\\'wdSubclass\\': \\'Q900614\\', \\'wdParentClass\\': \\'Q2329\\', \\'wdSubclassLabel\\': \\'Carbochemistry\\', \\'wdParentClassLabel\\': \\'chemistry\\'} {\\'wdSubclass\\': \\'Q848763\\', \\'wdParentClass\\': \\'Q2329\\', \\'wdSubclassLabel\\': \\'amateur chemistry\\', \\'wdParentClassLabel\\': \\'chemistry\\'} {\\'wdSubclass\\': \\'Q1069192\\', \\'wdParentClass\\': \\'Q2329\\', \\'wdSubclassLabel\\': \\'chemical reaction network theory\\', \\'wdParentClassLabel\\': \\'chemistry\\'} {\\'wdSubclass\\': \\'Q2072035\\', \\'wdParentClass\\': \\'Q2329\\', \\'wdSubclassLabel\\': \\'persistence\\', \\'wdParentClassLabel\\': \\'chemistry\\'} {\\'wdSubclass\\': \\'Q528130\\', \\'wdParentClass\\': \\'Q2329\\', \\'wdSubclassLabel\\': \\'chemical oceanography\\', \\'wdParentClassLabel\\': \\'chemistry\\'} {\\'wdSubclass\\': \\'Q901098\\', \\'wdParentClass\\': \\'Q2329\\', \\'wdSubclassLabel\\': \\'mechanochemistry\\', \\'wdParentClassLabel\\': \\'chemistry\\'} {\\'wdSubclass\\': \\'Q634314\\', \\'wdParentClass\\': \\'Q2329\\', \\'wdSubclassLabel\\': \\'calorimetry\\', \\'wdParentClassLabel\\': \\'chemistry\\'} {\\'wdSubclass\\': \\'Q2511885\\', \\'wdParentClass\\': \\'Q2329\\', \\'wdSubclassLabel\\': \\'Chloro chemistry\\', \\'wdParentClassLabel\\': \\'chemistry\\'} {\\'wdSubclass\\': \\'Q905377\\', \\'wdParentClass\\': \\'Q2329\\', \\'wdSubclassLabel\\': \\'microwave chemistry\\', \\'wdParentClassLabel\\': \\'chemistry\\'} {\\'wdSubclass\\': \\'Q7244973\\', \\'wdParentClass\\': \\'Q2329\\', \\'wdSubclassLabel\\': \\'laser chemistry\\', \\'wdParentClassLabel\\': \\'chemistry\\'} {\\'wdSubclass\\': \\'Q321355\\', \\'wdParentClass\\': \\'Q2329\\', \\'wdSubclassLabel\\': \\'environmental chemistry\\', \\'wdParentClassLabel\\': \\'chemistry\\'} {\\'wdSubclass\\': \\'Q6745636\\', \\'wdParentClass\\': \\'Q2329\\', \\'wdSubclassLabel\\': \\'industrial chemistry\\', \\'wdParentClassLabel\\': \\'chemistry\\'} {\\'wdSubclass\\': \\'Q1443081\\', \\'wdParentClass\\': \\'Q2329\\', \\'wdSubclassLabel\\': \\'nanochemistry\\', \\'wdParentClassLabel\\': \\'chemistry\\'} {\\'wdSubclass\\': \\'Q58900610\\', \\'wdParentClass\\': \\'Q2329\\', \\'wdSubclassLabel\\': \\'histocytochemistry\\', \\'wdParentClassLabel\\': \\'chemistry\\'} {\\'wdSubclass\\': \\'Q11944355\\', \\'wdParentClass\\': \\'Q2329\\', \\'wdSubclassLabel\\': \\'Biomimetic chemistry\\', \\'wdParentClassLabel\\': \\'chemistry\\'} {\\'wdSubclass\\': \\'Q1069216\\', \\'wdParentClass\\': \\'Q2329\\', \\'wdSubclassLabel\\': \\'microscale chemistry\\', \\'wdParentClassLabel\\': \\'chemistry\\'} {\\'wdSubclass\\': \\'Q14906784\\', \\'wdParentClass\\': \\'Q2329\\', \\'wdSubclassLabel\\': \\'organohalfnium chemistry\\', \\'wdParentClassLabel\\': \\'chemistry\\'} {\\'wdSubclass\\': \\'Q11165\\', \\'wdParentClass\\': \\'Q2329\\', \\'wdSubclassLabel\\': \\'inorganic chemistry\\', \\'wdParentClassLabel\\': \\'chemistry\\'} {\\'wdSubclass\\': \\'Q55611105\\', \\'wdParentClass\\': \\'Q2329\\', \\'wdSubclassLabel\\': \\'ethnochemistry\\', \\'wdParentClassLabel\\': \\'chemistry\\'} {\\'wdSubclass\\': \\'Q12030270\\', \\'wdParentClass\\': \\'Q2329\\', \\'wdSubclassLabel\\': \\'cosmetic chemistry\\', \\'wdParentClassLabel\\': \\'chemistry\\'} {\\'wdSubclass\\': \\'Q113135490\\', \\'wdParentClass\\': \\'Q2329\\', \\'wdSubclassLabel\\': \\'macromolecular and materials chemistry\\', \\'wdParentClassLabel\\': \\'chemistry\\'} {\\'wdSubclass\\': \\'Q14906778\\', \\'wdParentClass\\': \\'Q2329\\', \\'wdSubclassLabel\\': \\'Organo-osmium chemistry\\', \\'wdParentClassLabel\\': \\'chemistry\\'} {\\'wdSubclass\\': \\'Q12168144\\', \\'wdParentClass\\': \\'Q2329\\', \\'wdSubclassLabel\\': \\'semiconductors chemistry\\', \\'wdParentClassLabel\\': \\'chemistry\\'} {\\'wdSubclass\\': \\'Q11351\\', \\'wdParentClass\\': \\'Q2329\\', \\'wdSubclassLabel\\': \\'organic chemistry\\', \\'wdParentClassLabel\\': \\'chemistry\\'} {\\'wdSubclass\\': \\'Q65245625\\', \\'wdParentClass\\': \\'Q2329\\', \\'wdSubclassLabel\\': \\'Systems chemistry\\', \\'wdParentClassLabel\\': \\'chemistry\\'} {\\'wdSubclass\\': \\'Q112342208\\', \\'wdParentClass\\': \\'Q2329\\', \\'wdSubclassLabel\\': \\'experimental chemistry\\', \\'wdParentClassLabel\\': \\'chemistry\\'} {\\'wdSubclass\\': \\'Q119808974\\', \\'wdParentClass\\': \\'Q2329\\', \\'wdSubclassLabel\\': \\'fire science\\', \\'wdParentClassLabel\\': \\'chemistry\\'} {\\'wdSubclass\\': \\'Q119534140\\', \\'wdParentClass\\': \\'Q2329\\', \\'wdSubclassLabel\\': \\'acetylene reduction\\', \\'wdParentClassLabel\\': \\'chemistry\\'} {\\'wdSubclass\\': \\'Q23023867\\', \\'wdParentClass\\': \\'Q2329\\', \\'wdSubclassLabel\\': \\'clay chemistry\\', \\'wdParentClassLabel\\': \\'chemistry\\'} {\\'wdSubclass\\': \\'Q115864634\\', \\'wdParentClass\\': \\'Q2329\\', \\'wdSubclassLabel\\': \\'aquaphotomics\\', \\'wdParentClassLabel\\': \\'chemistry\\'} {\\'wdSubclass\\': \\'Q27964550\\', \\'wdParentClass\\': \\'Q2329\\', \\'wdSubclassLabel\\': \\'acid–base chemistry\\', \\'wdParentClassLabel\\': \\'chemistry\\'} {\\'wdSubclass\\': \\'Q11491273\\', \\'wdParentClass\\': \\'Q2329\\', \\'wdSubclassLabel\\': \\'applied chemistry\\', \\'wdParentClassLabel\\': \\'chemistry\\'} {\\'wdSubclass\\': \\'Q112341069\\', \\'wdParentClass\\': \\'Q2329\\', \\'wdSubclassLabel\\': \\'colloid chemistry\\', \\'wdParentClassLabel\\': \\'chemistry\\'} {\\'wdSubclass\\': \\'Q115625228\\', \\'wdParentClass\\': \\'Q2329\\', \\'wdSubclassLabel\\': \\'interfacial thermodynamics\\', \\'wdParentClassLabel\\': \\'chemistry\\'} {\\'wdSubclass\\': \\'Q119809477\\', \\'wdParentClass\\': \\'Q2329\\', \\'wdSubclassLabel\\': \\'water science\\', \\'wdParentClassLabel\\': \\'chemistry\\'} {\\'wdSubclass\\': \\'q11372\\', \\'wdParentClass\\': \\'Q2329\\', \\'wdSubclassLabel\\': \\'q11372\\', \\'wdParentClassLabel\\': \\'chemistry\\'} {\\'wdSubclass\\': \\'q2346\\', \\'wdParentClass\\': \\'Q2329\\', \\'wdSubclassLabel\\': \\'q2346\\', \\'wdParentClassLabel\\': \\'chemistry\\'} {\\'wdSubclass\\': \\'Q20098721\\', \\'wdParentClass\\': \\'Q2329\\', \\'wdSubclassLabel\\': \\'tribochemistry\\', \\'wdParentClassLabel\\': \\'chemistry\\'} {\\'wdSubclass\\': \\'Q9189409\\', \\'wdParentClass\\': \\'Q2329\\', \\'wdSubclassLabel\\': \\'medicinal and biomolecular chemistry\\', \\'wdParentClassLabel\\': \\'chemistry\\'} {\\'wdSubclass\\': \\'Q14906788\\', \\'wdParentClass\\': \\'Q2329\\', \\'wdSubclassLabel\\': \\'Organo-molybdenum chemistry\\', \\'wdParentClassLabel\\': \\'chemistry\\'} {\\'wdSubclass\\': \\'Q13033340\\', \\'wdParentClass\\': \\'Q2329\\', \\'wdSubclassLabel\\': \\'Chemistry in Belarus\\', \\'wdParentClassLabel\\': \\'chemistry\\'} {\\'wdSubclass\\': \\'Q50490180\\', \\'wdParentClass\\': \\'Q2329\\', \\'wdSubclassLabel\\': \\'protein science\\', \\'wdParentClassLabel\\': \\'chemistry\\'} {\\'wdSubclass\\': \\'Q12373158\\', \\'wdParentClass\\': \\'Q2329\\', \\'wdSubclassLabel\\': \\'oil shale chemistry\\', \\'wdParentClassLabel\\': \\'chemistry\\'} {\\'wdSubclass\\': \\'Q20097254\\', \\'wdParentClass\\': \\'Q2329\\', \\'wdSubclassLabel\\': \\'peat chemistry\\', \\'wdParentClassLabel\\': \\'chemistry\\'} {\\'wdSubclass\\': \\'Q112805970\\', \\'wdParentClass\\': \\'Q2329\\', \\'wdSubclassLabel\\': \\'Molecular Chemistry\\', \\'wdParentClassLabel\\': \\'chemistry\\'} {\\'wdSubclass\\': \\'Q111189176\\', \\'wdParentClass\\': \\'Q2329\\', \\'wdSubclassLabel\\': \\'Robotic Chemistry\\', \\'wdParentClassLabel\\': \\'chemistry\\'} {\\'wdSubclass\\': \\'Q18418694\\', \\'wdParentClass\\': \\'Q2329\\', \\'wdSubclassLabel\\': \\'Crystallography\\', \\'wdParentClassLabel\\': \\'chemistry\\'} {\\'wdSubclass\\': \\'Q110245486\\', \\'wdParentClass\\': \\'Q2329\\', \\'wdSubclassLabel\\': \\'theoretical and computational chemistry\\', \\'wdParentClassLabel\\': \\'chemistry\\'} {\\'wdSubclass\\': \\'Q13963438\\', \\'wdParentClass\\': \\'Q2329\\', \\'wdSubclassLabel\\': \\'Organo-tantalum chemistry\\', \\'wdParentClassLabel\\': \\'chemistry\\'} {\\'wdSubclass\\': \\'Q11680018\\', \\'wdParentClass\\': \\'Q2329\\', \\'wdSubclassLabel\\': \\'astrochemistry\\', \\'wdParentClassLabel\\': \\'chemistry\\'} {\\'wdSubclass\\': \\'Q14906777\\', \\'wdParentClass\\': \\'Q2329\\', \\'wdSubclassLabel\\': \\'Organo-indium chemistry\\', \\'wdParentClassLabel\\': \\'chemistry\\'} {\\'wdSubclass\\': \\'Q11944354\\', \\'wdParentClass\\': \\'Q2329\\', \\'wdSubclassLabel\\': \\'material chemistry\\', \\'wdParentClassLabel\\': \\'chemistry\\'} {\\'wdSubclass\\': \\'Q115156390\\', \\'wdParentClass\\': \\'Q2329\\', \\'wdSubclassLabel\\': \\'molecular chemistry\\', \\'wdParentClassLabel\\': \\'chemistry\\'} {\\'wdSubclass\\': \\'Q14906790\\', \\'wdParentClass\\': \\'Q2329\\', \\'wdSubclassLabel\\': \\'Organo-thallium chemistry\\', \\'wdParentClassLabel\\': \\'chemistry\\'} {\\'wdSubclass\\': \\'Q4497764\\', \\'wdParentClass\\': \\'Q2329\\', \\'wdSubclassLabel\\': \\'chemmotology\\', \\'wdParentClassLabel\\': \\'chemistry\\'} {\\'wdSubclass\\': \\'Q4497746\\', \\'wdParentClass\\': \\'Q2329\\', \\'wdSubclassLabel\\': \\'silicate chemistry\\', \\'wdParentClassLabel\\': \\'chemistry\\'} {\\'wdSubclass\\': \\'Q910020\\', \\'wdParentClass\\': \\'Q2329\\', \\'wdSubclassLabel\\': \\'Locant\\', \\'wdParentClassLabel\\': \\'chemistry\\'} {\\'wdSubclass\\': \\'Q7218\\', \\'wdParentClass\\': \\'Q2329\\', \\'wdSubclassLabel\\': \\'toxicology\\', \\'wdParentClassLabel\\': \\'chemistry\\'} {\\'wdSubclass\\': \\'Q110402777\\', \\'wdParentClass\\': \\'Q2329\\', \\'wdSubclassLabel\\': \\'Māori chemistry\\', \\'wdParentClassLabel\\': \\'chemistry\\'}', metadata={'source': 'chemistry_schema/chemistry_classes.txt'})]\n",
      "Cleaning the text in each document\n",
      "Merging the documents\n",
      "[Document(page_content=\"{'wdSubclassQ5014087wdParentClassQ27868211wdSubclassLabelCSF/serum albumin ratiowdParentClassLabelmedical tests on cerebrospinal fluidwdSubclassQ29643832wdParentClassQ27868211wdSubclassLabelabnormality of the cerebrospinal fluidwdParentClassLabelmedical tests on cerebrospinal fluidwdSubclassQ104045804wdParentClassQ27868211wdSubclassLabelcerebrospinal fluid culturewdParentClassLabelmedical tests on cerebrospinal fluidwdSubclassQ3109350wdParentClassQ27868211wdSubclassLabelCSF glucosewdParentClassLabelmedical tests on cerebrospinal fluidwdSubclassQ3408236wdParentClassQ27868211wdSubclassLabelCSF total proteinwdParentClassLabelmedical tests on cerebrospinal fluidwdSubclassQ14471999wdParentClassQ27868211wdSubclassLabelPandy's testwdParentClassLabelmedical tests on cerebrospinal fluidwdSubclassQ5014091wdParentClassQ27868211wdSubclassLabelCSF albuminwdParentClassLabelmedical tests on cerebrospinal fluidwdSubclassQ5014086wdParentClassQ27868211wdSubclassLabelCSF/serum glucose ratiowdParentClassLabelmedical tests on cerebrospinal fluidwdSubclassQ105252429wdParentClassQ7094wdSubclassLabelprotein chemistrywdParentClassLabelbiochemistrywdSubclassQ115135905wdParentClassQ7094wdSubclassLabelfood biochemistrywdParentClassLabelbiochemistrywdSubclassQ69953721wdParentClassQ7094wdSubclassLabelcarbohydrate biochemistrywdParentClassLabelbiochemistrywdSubclassQ114049618wdParentClassQ7094wdSubclassLabelphotobiochemistrywdParentClassLabelbiochemistrywdSubclassQ979585wdParentClassQ7094wdSubclassLabelPathological ChemistrywdParentClassLabelbiochemistrywdSubclassQ12384484wdParentClassQ7094wdSubclassLabelcell biochemistrywdParentClassLabelbiochemistrywdSubclassQ112956198wdParentClassQ7094wdSubclassLabelCrop and pasture biochemistry and physiologywdParentClassLabelbiochemistrywdSubclassQ12149006wdParentClassQ7094wdSubclassLabelmetabolomicswdParentClassLabelbiochemistrywdSubclassQ6005502wdParentClassQ7094wdSubclassLabelImmunocytochemistrywdParentClassLabelbiochemistrywdSubclassQ71102948wdParentClassQ7094wdSubclassLabelpathobiochemistrywdParentClassLabelbiochemistrywdSubclassQ21714785wdParentClassQ7094wdSubclassLabelpost-mortem chemistrywdParentClassLabelbiochemistrywdSubclassQ98247633wdParentClassQ7094wdSubclassLabelbioanalytical chemistrywdParentClassLabelbiochemistrywdSubclassQ117793945wdParentClassQ7094wdSubclassLabelfood biochemistrywdParentClassLabelbiochemistrywdSubclassQ13040410wdParentClassQ7094wdSubclassLabelIons in the bodywdParentClassLabelbiochemistrywdSubclassq883112wdParentClassQ7094wdSubclassLabelq883112wdParentClassLabelbiochemistrywdSubclassQ113853579wdParentClassQ7094wdSubclassLabelxenobiochemistrywdParentClassLabelbiochemistrywdSubclassQ11909413wdParentClassQ7094wdSubclassLabelQ11909413wdParentClassLabelbiochemistrywdSubclassQ115160648wdParentClassQ7094wdSubclassLabelmolecular biochemistrywdParentClassLabelbiochemistrywdSubclassQ2880775wdParentClassQ7094wdSubclassLabelenzymologywdParentClassLabelbiochemistrywdSubclassQ117485357wdParentClassQ7094wdSubclassLabelmarine biochemistrywdParentClassLabelbiochemistrywdSubclassQ16335159wdParentClassQ7094wdSubclassLabelfluxomicswdParentClassLabelbiochemistrywdSubclassQ4218483wdParentClassQ7094wdSubclassLabelquantum biochemistrywdParentClassLabelbiochemistrywdSubclassQ97182622wdParentClassQ7094wdSubclassLabelplant biochemistrywdParentClassLabelbiochemistrywdSubclassQ1418791wdParentClassQ7094wdSubclassLabeldrug discoverywdParentClassLabelbiochemistrywdSubclassQ741206wdParentClassQ7094wdSubclassLabelglycomicswdParentClassLabelbiochemistrywdSubclassQ20456623wdParentClassQ7094wdSubclassLabelQ20456623wdParentClassLabelbiochemistrywdSubclassQ27868211wdParentClassQ849994wdSubclassLabelmedical tests on cerebrospinal fluidwdParentClassLabelclinical chemistrywdSubclassQ113134526wdParentClassQ849994wdSubclassLabelproteins and peptides in medical biochemistrywdParentClassLabelclinical chemistrywdSubclassQ71102948wdParentClassQ849994wdSubclassLabelpathobiochemistrywdParentClassLabelclinical chemistrywdSubclassQ113134501wdParentClassQ849994wdSubclassLabelamino acids and metabolites in medical biochemistrywdParentClassLabelclinical chemistrywdSubclassQ1359801wdParentClassQ849994wdSubclassLabelliver function testswdParentClassLabelclinical chemistrywdSubclassQ864640wdParentClassQ11351wdSubclassLabelbioorganic chemistrywdParentClassLabelorganic chemistrywdSubclassQ110259383wdParentClassQ11351wdSubclassLabelorganic green chemistrywdParentClassLabelorganic chemistrywdSubclassQ493630wdParentClassQ11351wdSubclassLabelpetrochemistrywdParentClassLabelorganic chemistrywdSubclassQ731154wdParentClassQ11351wdSubclassLabelchemical biologywdParentClassLabelorganic chemistrywdSubclassQ5508274wdParentClassQ11351wdSubclassLabelfullerene chemistrywdParentClassLabelorganic chemistrywdSubclassQ60876408wdParentClassQ11351wdSubclassLabelMeyer-Hartmann reactionwdParentClassLabelorganic chemistrywdSubclassQ243455wdParentClassQ11351wdSubclassLabelmedicinal chemistrywdParentClassLabelorganic chemistrywdSubclassQ640068wdParentClassQ11351wdSubclassLabelphytochemistrywdParentClassLabelorganic chemistrywdSubclassQ60875687wdParentClassQ11351wdSubclassLabelNagata ReactionwdParentClassLabelorganic chemistrywdSubclassQ864661wdParentClassQ11351wdSubclassLabelbiophysical chemistrywdParentClassLabelorganic chemistrywdSubclassQ750446wdParentClassQ11351wdSubclassLabelpolymer chemistrywdParentClassLabelorganic chemistrywdSubclassQ55739706wdParentClassQ11351wdSubclassLabelorganonitrogen chemistrywdParentClassLabelorganic chemistrywdSubclassQ652513wdParentClassQ11351wdSubclassLabelphysical organic chemistrywdParentClassLabelorganic chemistrywdSubclassQ1090893wdParentClassQ11351wdSubclassLabelorganofluorine chemistrywdParentClassLabelorganic chemistrywdSubclassQ7094wdParentClassQ11351wdSubclassLabelbiochemistrywdParentClassLabelorganic chemistrywdSubclassQ60876181wdParentClassQ11351wdSubclassLabelRothemund reactionwdParentClassLabelorganic chemistrywdSubclassQ15840367wdParentClassQ11351wdSubclassLabelpharmaceutical chemistrywdParentClassLabelorganic chemistrywdSubclassQ115252785wdParentClassQ11351wdSubclassLabelQ115252785wdParentClassLabelorganic chemistrywdSubclassQ4531151wdParentClassQ11351wdSubclassLabelQ4531151wdParentClassLabelorganic chemistrywdSubclassQ849994wdParentClassQ11351wdSubclassLabelclinical chemistrywdParentClassLabelorganic chemistrywdSubclassQ786278wdParentClassQ11351wdSubclassLabelneurochemistrywdParentClassLabelorganic chemistrywdSubclassQ60876258wdParentClassQ11351wdSubclassLabelBart reactionwdParentClassLabelorganic chemistrywdSubclassQ73212187wdParentClassQ2198549wdSubclassLabeldrug evaluationwdParentClassLabeldrug developmentwdSubclassQ2991682wdParentClassQ2198549wdSubclassLabeldrug designwdParentClassLabeldrug developmentwdSubclassQ1418791wdParentClassQ2198549wdSubclassLabeldrug discoverywdParentClassLabeldrug developmentwdSubclassQ3378585wdParentClassQ614304wdSubclassLabelmilitary pharmacywdParentClassLabelpharmacywdSubclassQ2198549wdParentClassQ614304wdSubclassLabeldrug developmentwdParentClassLabelpharmacywdSubclassQ3378584wdParentClassQ614304wdSubclassLabelhumanitarian pharmacywdParentClassLabelpharmacywdSubclassQ1782340wdParentClassQ614304wdSubclassLabelSpagyricwdParentClassLabelpharmacywdSubclassQ391148wdParentClassQ614304wdSubclassLabelhistory of pharmacywdParentClassLabelpharmacywdSubclassQ107395629wdParentClassQ614304wdSubclassLabelindustrial pharmacywdParentClassLabelpharmacywdSubclassQ155491wdParentClassQ614304wdSubclassLabelclinical pharmacywdParentClassLabelpharmacywdSubclassQ1000889wdParentClassQ614304wdSubclassLabelemergency and disaster pharmacywdParentClassLabelpharmacywdSubclassQ16992268wdParentClassQ614304wdSubclassLabelHydrophilizationwdParentClassLabelpharmacywdSubclassQ3417008wdParentClassQ614304wdSubclassLabelNuclear pharmacywdParentClassLabelpharmacywdSubclassQ2447485wdParentClassQ614304wdSubclassLabelQ2447485wdParentClassLabelpharmacywdSubclassQ388618wdParentClassQ614304wdSubclassLabelhospital pharmacywdParentClassLabelpharmacywdSubclassQ1474765wdParentClassQ614304wdSubclassLabelgalenic formulationwdParentClassLabelpharmacywdSubclassQ112252029wdParentClassQ614304wdSubclassLabelbiopharmacywdParentClassLabelpharmacywdSubclassQ7180824wdParentClassQ614304wdSubclassLabelpharmacy practicewdParentClassLabelpharmacywdSubclassQ113141546wdParentClassQ113135490wdSubclassLabelstructure and dynamics of materialswdParentClassLabelmacromolecular and materials chemistrywdSubclassQ113135537wdParentClassQ113135490wdSubclassLabelphysical chemistry of materialswdParentClassLabelmacromolecular and materials chemistrywdSubclassQ110245453wdParentClassQ113135490wdSubclassLabeltheory and design of materialswdParentClassLabelmacromolecular and materials chemistrywdSubclassQ756449wdParentClassQ113135490wdSubclassLabelsupramolecular chemistrywdParentClassLabelmacromolecular and materials chemistrywdSubclassQ110245428wdParentClassQ113135490wdSubclassLabelmacromolecular materials researchwdParentClassLabelmacromolecular and materials chemistrywdSubclassQ1443081wdParentClassQ113135490wdSubclassLabelnanochemistrywdParentClassLabelmacromolecular and materials chemistrywdSubclassQ899656wdParentClassQ67577480wdSubclassLabelprotein structure predictionwdParentClassLabelstructure predictionwdSubclassQ901663wdParentClassQ67577480wdSubclassLabelmolecular dynamics simulationwdParentClassLabelstructure predictionwdSubclassQ113444274wdParentClassQ67577480wdSubclassLabelsecondary structure predictionwdParentClassLabelstructure predictionwdSubclassQ7068225wdParentClassQ67577480wdSubclassLabelNucleic acid structure predictionwdParentClassLabelstructure predictionwdSubclassQ13195799wdParentClassQ11165wdSubclassLabelphysical inorganic chemistrywdParentClassLabelinorganic chemistrywdSubclassQ803925wdParentClassQ11165wdSubclassLabelbioinorganic chemistrywdParentClassLabelinorganic chemistrywdSubclassQ5063652wdParentClassQ11165wdSubclassLabelceramic chemistrywdParentClassLabelinorganic chemistrywdSubclassQ3674740wdParentClassQ11165wdSubclassLabelcoordination chemistrywdParentClassLabelinorganic chemistrywdSubclassQ237200wdParentClassQ11165wdSubclassLabelorganometallic chemistrywdParentClassLabelinorganic chemistrywdSubclassQ67577480wdParentClassQ910164wdSubclassLabelstructure predictionwdParentClassLabelcheminformaticswdSubclassQ29156727wdParentClassQ910164wdSubclassLabelcheminformatics softwarewdParentClassLabelcheminformaticswdSubclassQ4112105wdParentClassQ910164wdSubclassLabelvirtual screeningwdParentClassLabelcheminformaticswdSubclassQ114737329wdParentClassQ910164wdSubclassLabelQuantitative Structure–Property RelationshipwdParentClassLabelcheminformaticswdSubclassQ369472wdParentClassQ910164wdSubclassLabelcomputational chemistrywdParentClassLabelcheminformaticswdSubclassQ766383wdParentClassQ910164wdSubclassLabelquantitative structure-activity relationshipwdParentClassLabelcheminformaticswdSubclassQ1674549wdParentClassQ161764wdSubclassLabelisotope geochemistrywdParentClassLabelgeochemistrywdSubclassQ113547642wdParentClassQ161764wdSubclassLabelanalytical geochemistrywdParentClassLabelgeochemistrywdSubclassQ18352840wdParentClassQ161764wdSubclassLabelaqueous geochemistrywdParentClassLabelgeochemistrywdSubclassQ25530597wdParentClassQ161764wdSubclassLabelhydrogeochemistrywdParentClassLabelgeochemistrywdSubclassQ113726448wdParentClassQ161764wdSubclassLabelenvironmental geochemistrywdParentClassLabelgeochemistrywdSubclassQ12058749wdParentClassQ161764wdSubclassLabelthermobarometrywdParentClassLabelgeochemistrywdSubclassQ911801wdParentClassQ161764wdSubclassLabelcosmochemistrywdParentClassLabelgeochemistrywdSubclassQ912065wdParentClassQ161764wdSubclassLabelhydrochemistrywdParentClassLabelgeochemistrywdSubclassQ864379wdParentClassQ161764wdSubclassLabelbiogeochemistrywdParentClassLabelgeochemistrywdSubclassQ114023779wdParentClassQ161764wdSubclassLabelradiogeochemistrywdParentClassLabelgeochemistrywdSubclassQ113077482wdParentClassQ161764wdSubclassLabelinorganic geochemistrywdParentClassLabelgeochemistrywdSubclassQ2729912wdParentClassQ161764wdSubclassLabelchemostratigraphywdParentClassLabelgeochemistrywdSubclassQ3760196wdParentClassQ161764wdSubclassLabelpetroleum geochemistrywdParentClassLabelgeochemistrywdSubclassQ2274700wdParentClassQ161764wdSubclassLabelOrganic geochemistrywdParentClassLabelgeochemistrywdSubclassQ114047879wdParentClassQ161764wdSubclassLabelsoil geochemistrywdParentClassLabelgeochemistrywdSubclassQ4530266wdParentClassQ161764wdSubclassLabelecological geochemistrywdParentClassLabelgeochemistrywdSubclassQ743257wdParentClassQ161764wdSubclassLabelsoil chemistrywdParentClassLabelgeochemistrywdSubclassQ113095682wdParentClassQ161764wdSubclassLabelexploration geochemistrywdParentClassLabelgeochemistrywdSubclassQ2556886wdParentClassQ321150wdSubclassLabelmathematical chemistrywdParentClassLabeltheoretical chemistrywdSubclassQ5265605wdParentClassQ3489716wdSubclassLabeldetection of fire accelerantswdParentClassLabelforensic chemistrywdSubclassQ587862wdParentClassQ3489716wdSubclassLabelforensic toxicologywdParentClassLabelforensic chemistrywdSubclassQ115582861wdParentClassQ7218wdSubclassLabelcardiotoxicologywdParentClassLabeltoxicologywdSubclassQ3536003wdParentClassQ7218wdSubclassLabelradiotoxicologywdParentClassLabeltoxicologywdSubclassQ6005582wdParentClassQ7218wdSubclassLabelimmunotoxicologywdParentClassLabeltoxicologywdSubclassQ113548804wdParentClassQ7218wdSubclassLabelindustrial toxicologywdParentClassLabeltoxicologywdSubclassQ105409336wdParentClassQ7218wdSubclassLabelEvolutionary toxicologywdParentClassLabeltoxicologywdSubclassQ2518429wdParentClassQ7218wdSubclassLabelnanotoxicologywdParentClassLabeltoxicologywdSubclassQ108366378wdParentClassQ7218wdSubclassLabelchemical and environmental toxicologywdParentClassLabeltoxicologywdSubclassQ113884085wdParentClassQ7218wdSubclassLabelgenetic toxicologywdParentClassLabeltoxicologywdSubclassQ21693208wdParentClassQ7218wdSubclassLabeloccupational toxicologywdParentClassLabeltoxicologywdSubclassQ6947231wdParentClassQ7218wdSubclassLabelmycotoxicologywdParentClassLabeltoxicologywdSubclassQ113884060wdParentClassQ7218wdSubclassLabeldevelopmental toxicologywdParentClassLabeltoxicologywdSubclassQ113884064wdParentClassQ7218wdSubclassLabelclinical toxicologywdParentClassLabeltoxicologywdSubclassQ113884167wdParentClassQ7218wdSubclassLabelgeneral toxicologywdParentClassLabeltoxicologywdSubclassQ113884197wdParentClassQ7218wdSubclassLabelexperimental toxicologywdParentClassLabeltoxicologywdSubclassQ113884141wdParentClassQ7218wdSubclassLabelmilitary toxicologywdParentClassLabeltoxicologywdSubclassQ113884235wdParentClassQ7218wdSubclassLabelanalytical toxicologywdParentClassLabeltoxicologywdSubclassQ113884056wdParentClassQ7218wdSubclassLabelveterinary toxicologywdParentClassLabeltoxicologywdSubclassQ587862wdParentClassQ7218wdSubclassLabelforensic toxicologywdParentClassLabeltoxicologywdSubclassQ112417293wdParentClassQ7218wdSubclassLabelneurotoxicologywdParentClassLabeltoxicologywdSubclassQ1009245wdParentClassQ7218wdSubclassLabelgenotoxicitywdParentClassLabeltoxicologywdSubclassQ113884229wdParentClassQ7218wdSubclassLabelcytotoxicologywdParentClassLabeltoxicologywdSubclassQ113884058wdParentClassQ7218wdSubclassLabelwater toxicologywdParentClassLabeltoxicologywdSubclassQ113884218wdParentClassQ7218wdSubclassLabelnutritive toxicologywdParentClassLabeltoxicologywdSubclassQ113884260wdParentClassQ7218wdSubclassLabelmolecular toxicologywdParentClassLabeltoxicologywdSubclassQ3995923wdParentClassQ7218wdSubclassLabelenvironmental toxicologywdParentClassLabeltoxicologywdSubclassQ841450wdParentClassQ7218wdSubclassLabeltoxicogenomicswdParentClassLabeltoxicologywdSubclassQ105089897wdParentClassQ634314wdSubclassLabeladsorption calorimetrywdParentClassLabelcalorimetrywdSubclassQ904893wdParentClassQ634314wdSubclassLabeldifferential scanning calorimetrywdParentClassLabelcalorimetrywdSubclassQ1661446wdParentClassQ634314wdSubclassLabelIndirect calorimetrywdParentClassLabelcalorimetrywdSubclassQ110245477wdParentClassQ110245486wdSubclassLabelstatistical mechanics in chemistrywdParentClassLabeltheoretical and computational chemistrywdSubclassQ369472wdParentClassQ110245486wdSubclassLabelcomputational chemistrywdParentClassLabeltheoretical and computational chemistrywdSubclassQ188403wdParentClassQ110245486wdSubclassLabelquantum chemistrywdParentClassLabeltheoretical and computational chemistrywdSubclassQ911772wdParentClassQ11491273wdSubclassLabelchemical technologywdParentClassLabelapplied chemistrywdSubclassQ903767wdParentClassQ11491273wdSubclassLabelchemurgywdParentClassLabelapplied chemistrywdSubclassQ4661718wdParentClassQ4456813wdSubclassLabelactivationwdParentClassLabeltechnical chemistrywdSubclassQ910067wdParentClassQ2329wdSubclassLabelchemometricswdParentClassLabelchemistrywdSubclassQ1925986wdParentClassQ2329wdSubclassLabelzythologywdParentClassLabelchemistrywdSubclassQ4456813wdParentClassQ2329wdSubclassLabeltechnical chemistrywdParentClassLabelchemistrywdSubclassQ899212wdParentClassQ2329wdSubclassLabelcombinatorial chemistrywdParentClassLabelchemistrywdSubclassQ909501wdParentClassQ2329wdSubclassLabelcrystal chemistrywdParentClassLabelchemistrywdSubclassQ909495wdParentClassQ2329wdSubclassLabelinterface and colloid sciencewdParentClassLabelchemistrywdSubclassQ910164wdParentClassQ2329wdSubclassLabelcheminformaticswdParentClassLabelchemistrywdSubclassQ5125767wdParentClassQ2329wdSubclassLabelclandestine chemistrywdParentClassLabelchemistrywdSubclassQ9164697wdParentClassQ2329wdSubclassLabelbalneochemistrywdParentClassLabelchemistrywdSubclassQ910172wdParentClassQ2329wdSubclassLabelfood chemistrywdParentClassLabelchemistrywdSubclassQ2466273wdParentClassQ2329wdSubclassLabelimmunochemistrywdParentClassLabelchemistrywdSubclassQ700919wdParentClassQ2329wdSubclassLabelchemical ecologywdParentClassLabelchemistrywdSubclassQ161764wdParentClassQ2329wdSubclassLabelgeochemistrywdParentClassLabelchemistrywdSubclassQ2963660wdParentClassQ2329wdSubclassLabelwet chemistrywdParentClassLabelchemistrywdSubclassQ5384482wdParentClassQ2329wdSubclassLabelequilibrium chemistrywdParentClassLabelchemistrywdSubclassQ321150wdParentClassQ2329wdSubclassLabeltheoretical chemistrywdParentClassLabelchemistrywdSubclassQ3489716wdParentClassQ2329wdSubclassLabelforensic chemistrywdParentClassLabelchemistrywdSubclassQ756449wdParentClassQ2329wdSubclassLabelsupramolecular chemistrywdParentClassLabelchemistrywdSubclassQ614304wdParentClassQ2329wdSubclassLabelpharmacywdParentClassLabelchemistrywdSubclassQ287919wdParentClassQ2329wdSubclassLabelatmospheric chemistrywdParentClassLabelchemistrywdSubclassQ2963661wdParentClassQ2329wdSubclassLabelsynthetic chemistrywdParentClassLabelchemistrywdSubclassQ7076133wdParentClassQ2329wdSubclassLabelocean chemistrywdParentClassLabelchemistrywdSubclassQ725361wdParentClassQ2329wdSubclassLabelgreen chemistrywdParentClassLabelchemistrywdSubclassQ900614wdParentClassQ2329wdSubclassLabelCarbochemistrywdParentClassLabelchemistrywdSubclassQ848763wdParentClassQ2329wdSubclassLabelamateur chemistrywdParentClassLabelchemistrywdSubclassQ1069192wdParentClassQ2329wdSubclassLabelchemical reaction network theorywdParentClassLabelchemistrywdSubclassQ2072035wdParentClassQ2329wdSubclassLabelpersistencewdParentClassLabelchemistrywdSubclassQ528130wdParentClassQ2329wdSubclassLabelchemical oceanographywdParentClassLabelchemistrywdSubclassQ901098wdParentClassQ2329wdSubclassLabelmechanochemistrywdParentClassLabelchemistrywdSubclassQ634314wdParentClassQ2329wdSubclassLabelcalorimetrywdParentClassLabelchemistrywdSubclassQ2511885wdParentClassQ2329wdSubclassLabelChloro chemistrywdParentClassLabelchemistrywdSubclassQ905377wdParentClassQ2329wdSubclassLabelmicrowave chemistrywdParentClassLabelchemistrywdSubclassQ7244973wdParentClassQ2329wdSubclassLabellaser chemistrywdParentClassLabelchemistrywdSubclassQ321355wdParentClassQ2329wdSubclassLabelenvironmental chemistrywdParentClassLabelchemistrywdSubclassQ6745636wdParentClassQ2329wdSubclassLabelindustrial chemistrywdParentClassLabelchemistrywdSubclassQ1443081wdParentClassQ2329wdSubclassLabelnanochemistrywdParentClassLabelchemistrywdSubclassQ58900610wdParentClassQ2329wdSubclassLabelhistocytochemistrywdParentClassLabelchemistrywdSubclassQ11944355wdParentClassQ2329wdSubclassLabelBiomimetic chemistrywdParentClassLabelchemistrywdSubclassQ1069216wdParentClassQ2329wdSubclassLabelmicroscale chemistrywdParentClassLabelchemistrywdSubclassQ14906784wdParentClassQ2329wdSubclassLabelorganohalfnium chemistrywdParentClassLabelchemistrywdSubclassQ11165wdParentClassQ2329wdSubclassLabelinorganic chemistrywdParentClassLabelchemistrywdSubclassQ55611105wdParentClassQ2329wdSubclassLabelethnochemistrywdParentClassLabelchemistrywdSubclassQ12030270wdParentClassQ2329wdSubclassLabelcosmetic chemistrywdParentClassLabelchemistrywdSubclassQ113135490wdParentClassQ2329wdSubclassLabelmacromolecular and materials chemistrywdParentClassLabelchemistrywdSubclassQ14906778wdParentClassQ2329wdSubclassLabelOrgano-osmium chemistrywdParentClassLabelchemistrywdSubclassQ12168144wdParentClassQ2329wdSubclassLabelsemiconductors chemistrywdParentClassLabelchemistrywdSubclassQ11351wdParentClassQ2329wdSubclassLabelorganic chemistrywdParentClassLabelchemistrywdSubclassQ65245625wdParentClassQ2329wdSubclassLabelSystems chemistrywdParentClassLabelchemistrywdSubclassQ112342208wdParentClassQ2329wdSubclassLabelexperimental chemistrywdParentClassLabelchemistrywdSubclassQ119808974wdParentClassQ2329wdSubclassLabelfire sciencewdParentClassLabelchemistrywdSubclassQ119534140wdParentClassQ2329wdSubclassLabelacetylene reductionwdParentClassLabelchemistrywdSubclassQ23023867wdParentClassQ2329wdSubclassLabelclay chemistrywdParentClassLabelchemistrywdSubclassQ115864634wdParentClassQ2329wdSubclassLabelaquaphotomicswdParentClassLabelchemistrywdSubclassQ27964550wdParentClassQ2329wdSubclassLabelacid–base chemistrywdParentClassLabelchemistrywdSubclassQ11491273wdParentClassQ2329wdSubclassLabelapplied chemistrywdParentClassLabelchemistrywdSubclassQ112341069wdParentClassQ2329wdSubclassLabelcolloid chemistrywdParentClassLabelchemistrywdSubclassQ115625228wdParentClassQ2329wdSubclassLabelinterfacial thermodynamicswdParentClassLabelchemistrywdSubclassQ119809477wdParentClassQ2329wdSubclassLabelwater sciencewdParentClassLabelchemistrywdSubclassq11372wdParentClassQ2329wdSubclassLabelq11372wdParentClassLabelchemistrywdSubclassq2346wdParentClassQ2329wdSubclassLabelq2346wdParentClassLabelchemistrywdSubclassQ20098721wdParentClassQ2329wdSubclassLabeltribochemistrywdParentClassLabelchemistrywdSubclassQ9189409wdParentClassQ2329wdSubclassLabelmedicinal and biomolecular chemistrywdParentClassLabelchemistrywdSubclassQ14906788wdParentClassQ2329wdSubclassLabelOrgano-molybdenum chemistrywdParentClassLabelchemistrywdSubclassQ13033340wdParentClassQ2329wdSubclassLabelChemistry in BelaruswdParentClassLabelchemistrywdSubclassQ50490180wdParentClassQ2329wdSubclassLabelprotein sciencewdParentClassLabelchemistrywdSubclassQ12373158wdParentClassQ2329wdSubclassLabeloil shale chemistrywdParentClassLabelchemistrywdSubclassQ20097254wdParentClassQ2329wdSubclassLabelpeat chemistrywdParentClassLabelchemistrywdSubclassQ112805970wdParentClassQ2329wdSubclassLabelMolecular ChemistrywdParentClassLabelchemistrywdSubclassQ111189176wdParentClassQ2329wdSubclassLabelRobotic ChemistrywdParentClassLabelchemistrywdSubclassQ18418694wdParentClassQ2329wdSubclassLabelCrystallographywdParentClassLabelchemistrywdSubclassQ110245486wdParentClassQ2329wdSubclassLabeltheoretical and computational chemistrywdParentClassLabelchemistrywdSubclassQ13963438wdParentClassQ2329wdSubclassLabelOrgano-tantalum chemistrywdParentClassLabelchemistrywdSubclassQ11680018wdParentClassQ2329wdSubclassLabelastrochemistrywdParentClassLabelchemistrywdSubclassQ14906777wdParentClassQ2329wdSubclassLabelOrgano-indium chemistrywdParentClassLabelchemistrywdSubclassQ11944354wdParentClassQ2329wdSubclassLabelmaterial chemistrywdParentClassLabelchemistrywdSubclassQ115156390wdParentClassQ2329wdSubclassLabelmolecular chemistrywdParentClassLabelchemistrywdSubclassQ14906790wdParentClassQ2329wdSubclassLabelOrgano-thallium chemistrywdParentClassLabelchemistrywdSubclassQ4497764wdParentClassQ2329wdSubclassLabelchemmotologywdParentClassLabelchemistrywdSubclassQ4497746wdParentClassQ2329wdSubclassLabelsilicate chemistrywdParentClassLabelchemistrywdSubclassQ910020wdParentClassQ2329wdSubclassLabelLocantwdParentClassLabelchemistrywdSubclassQ7218wdParentClassQ2329wdSubclassLabeltoxicologywdParentClassLabelchemistrywdSubclassQ110402777wdParentClassQ2329wdSubclassLabelMāori chemistrywdParentClassLabelchemistry'}\", metadata={'source': 'chemistry_schema/chemistry_classes.txt'})]\n"
     ]
    },
    {
     "name": "stdout",
     "output_type": "stream",
     "text": [
      "Min: 6413\n",
      "        Avg: 6413\n",
      "        Max: 6413\n"
     ]
    },
    {
     "data": {
      "image/png": "[encoded data removed]",
      "text/plain": [
       "<Figure size 1200x600 with 1 Axes>"
      ]
     },
     "metadata": {},
     "output_type": "display_data"
    },
    {
     "name": "stdout",
     "output_type": "stream",
     "text": [
      "Split the documents\n",
      "You have 15 document(s) in your data\n",
      "[Document(page_content=\"{'wdSubclassQ5014087wdParentClassQ27868211wdSubclassLabelCSF/serum albumin ratiowdParentClassLabelmedical tests on cerebrospinal fluidwdSubclassQ29643832wdParentClassQ27868211wdSubclassLabelabnormality of the cerebrospinal fluidwdParentClassLabelmedical tests on cerebrospinal fluidwdSubclassQ104045804wdParentClassQ27868211wdSubclassLabelcerebrospinal fluid culturewdParentClassLabelmedical tests on cerebrospinal fluidwdSubclassQ3109350wdParentClassQ27868211wdSubclassLabelCSF glucosewdParentClassLabelmedical tests on cerebrospinal fluidwdSubclassQ3408236wdParentClassQ27868211wdSubclassLabelCSF total proteinwdParentClassLabelmedical tests on cerebrospinal fluidwdSubclassQ14471999wdParentClassQ27868211wdSubclassLabelPandy's testwdParentClassLabelmedical tests on cerebrospinal fluidwdSubclassQ5014091wdParentClassQ27868211wdSubclassLabelCSF albuminwdParentClassLabelmedical tests on cerebrospinal fluidwdSubclassQ5014086wdParentClassQ27868211wdSubclassLabelCSF/serum glucose ratiowdParentClassLabelmedical tests on cerebrospinal fluidwdSubclassQ105252429wdParentClassQ7094wdSubclassLabelprotein chemistrywdParentClassLabelbiochemistrywdSubclassQ115135905wdParentClassQ7094wdSubclassLabelfood biochemistrywdParentClassLabelbiochemistrywdSubclassQ69953721wdParentClassQ7094wdSubclassLabelcarbohydrate biochemistrywdParentClassLabelbiochemistrywdSubclassQ114049618wdParentClassQ7094wdSubclassLabelphotobiochemistrywdParentClassLabelbiochemistrywdSubclassQ979585wdParentClassQ7094wdSubclassLabelPathological ChemistrywdParentClassLabelbiochemistrywdSubclassQ12384484wdParentClassQ7094wdSubclassLabelcell biochemistrywdParentClassLabelbiochemistrywdSubclassQ112956198wdParentClassQ7094wdSubclassLabelCrop and pasture biochemistry and\", metadata={}), Document(page_content='and pasture biochemistry and physiologywdParentClassLabelbiochemistrywdSubclassQ12149006wdParentClassQ7094wdSubclassLabelmetabolomicswdParentClassLabelbiochemistrywdSubclassQ6005502wdParentClassQ7094wdSubclassLabelImmunocytochemistrywdParentClassLabelbiochemistrywdSubclassQ71102948wdParentClassQ7094wdSubclassLabelpathobiochemistrywdParentClassLabelbiochemistrywdSubclassQ21714785wdParentClassQ7094wdSubclassLabelpost-mortem chemistrywdParentClassLabelbiochemistrywdSubclassQ98247633wdParentClassQ7094wdSubclassLabelbioanalytical chemistrywdParentClassLabelbiochemistrywdSubclassQ117793945wdParentClassQ7094wdSubclassLabelfood biochemistrywdParentClassLabelbiochemistrywdSubclassQ13040410wdParentClassQ7094wdSubclassLabelIons in the bodywdParentClassLabelbiochemistrywdSubclassq883112wdParentClassQ7094wdSubclassLabelq883112wdParentClassLabelbiochemistrywdSubclassQ113853579wdParentClassQ7094wdSubclassLabelxenobiochemistrywdParentClassLabelbiochemistrywdSubclassQ11909413wdParentClassQ7094wdSubclassLabelQ11909413wdParentClassLabelbiochemistrywdSubclassQ115160648wdParentClassQ7094wdSubclassLabelmolecular biochemistrywdParentClassLabelbiochemistrywdSubclassQ2880775wdParentClassQ7094wdSubclassLabelenzymologywdParentClassLabelbiochemistrywdSubclassQ117485357wdParentClassQ7094wdSubclassLabelmarine biochemistrywdParentClassLabelbiochemistrywdSubclassQ16335159wdParentClassQ7094wdSubclassLabelfluxomicswdParentClassLabelbiochemistrywdSubclassQ4218483wdParentClassQ7094wdSubclassLabelquantum biochemistrywdParentClassLabelbiochemistrywdSubclassQ97182622wdParentClassQ7094wdSubclassLabelplant biochemistrywdParentClassLabelbiochemistrywdSubclassQ1418791wdParentClassQ7094wdSubclassLabeldrug', metadata={}), Document(page_content='discoverywdParentClassLabelbiochemistrywdSubclassQ741206wdParentClassQ7094wdSubclassLabelglycomicswdParentClassLabelbiochemistrywdSubclassQ20456623wdParentClassQ7094wdSubclassLabelQ20456623wdParentClassLabelbiochemistrywdSubclassQ27868211wdParentClassQ849994wdSubclassLabelmedical tests on cerebrospinal fluidwdParentClassLabelclinical chemistrywdSubclassQ113134526wdParentClassQ849994wdSubclassLabelproteins and peptides in medical biochemistrywdParentClassLabelclinical chemistrywdSubclassQ71102948wdParentClassQ849994wdSubclassLabelpathobiochemistrywdParentClassLabelclinical chemistrywdSubclassQ113134501wdParentClassQ849994wdSubclassLabelamino acids and metabolites in medical biochemistrywdParentClassLabelclinical chemistrywdSubclassQ1359801wdParentClassQ849994wdSubclassLabelliver function testswdParentClassLabelclinical chemistrywdSubclassQ864640wdParentClassQ11351wdSubclassLabelbioorganic chemistrywdParentClassLabelorganic chemistrywdSubclassQ110259383wdParentClassQ11351wdSubclassLabelorganic green chemistrywdParentClassLabelorganic chemistrywdSubclassQ493630wdParentClassQ11351wdSubclassLabelpetrochemistrywdParentClassLabelorganic chemistrywdSubclassQ731154wdParentClassQ11351wdSubclassLabelchemical biologywdParentClassLabelorganic chemistrywdSubclassQ5508274wdParentClassQ11351wdSubclassLabelfullerene chemistrywdParentClassLabelorganic chemistrywdSubclassQ60876408wdParentClassQ11351wdSubclassLabelMeyer-Hartmann reactionwdParentClassLabelorganic chemistrywdSubclassQ243455wdParentClassQ11351wdSubclassLabelmedicinal chemistrywdParentClassLabelorganic chemistrywdSubclassQ640068wdParentClassQ11351wdSubclassLabelphytochemistrywdParentClassLabelorganic chemistrywdSubclassQ60875687wdParentClassQ11351wdSubclassLabelNagata ReactionwdParentClassLabelorganic chemistrywdSubclassQ864661wdParentClassQ11351wdSubclassLabelbiophysical chemistrywdParentClassLabelorganic', metadata={}), Document(page_content='chemistrywdSubclassQ864661wdParentClassQ11351wdSubclassLabelbiophysical chemistrywdParentClassLabelorganic chemistrywdSubclassQ750446wdParentClassQ11351wdSubclassLabelpolymer chemistrywdParentClassLabelorganic chemistrywdSubclassQ55739706wdParentClassQ11351wdSubclassLabelorganonitrogen chemistrywdParentClassLabelorganic chemistrywdSubclassQ652513wdParentClassQ11351wdSubclassLabelphysical organic chemistrywdParentClassLabelorganic chemistrywdSubclassQ1090893wdParentClassQ11351wdSubclassLabelorganofluorine chemistrywdParentClassLabelorganic chemistrywdSubclassQ7094wdParentClassQ11351wdSubclassLabelbiochemistrywdParentClassLabelorganic chemistrywdSubclassQ60876181wdParentClassQ11351wdSubclassLabelRothemund reactionwdParentClassLabelorganic chemistrywdSubclassQ15840367wdParentClassQ11351wdSubclassLabelpharmaceutical chemistrywdParentClassLabelorganic chemistrywdSubclassQ115252785wdParentClassQ11351wdSubclassLabelQ115252785wdParentClassLabelorganic chemistrywdSubclassQ4531151wdParentClassQ11351wdSubclassLabelQ4531151wdParentClassLabelorganic chemistrywdSubclassQ849994wdParentClassQ11351wdSubclassLabelclinical chemistrywdParentClassLabelorganic chemistrywdSubclassQ786278wdParentClassQ11351wdSubclassLabelneurochemistrywdParentClassLabelorganic chemistrywdSubclassQ60876258wdParentClassQ11351wdSubclassLabelBart reactionwdParentClassLabelorganic chemistrywdSubclassQ73212187wdParentClassQ2198549wdSubclassLabeldrug evaluationwdParentClassLabeldrug developmentwdSubclassQ2991682wdParentClassQ2198549wdSubclassLabeldrug designwdParentClassLabeldrug developmentwdSubclassQ1418791wdParentClassQ2198549wdSubclassLabeldrug discoverywdParentClassLabeldrug developmentwdSubclassQ3378585wdParentClassQ614304wdSubclassLabelmilitary pharmacywdParentClassLabelpharmacywdSubclassQ2198549wdParentClassQ614304wdSubclassLabeldrug', metadata={}), Document(page_content='developmentwdParentClassLabelpharmacywdSubclassQ3378584wdParentClassQ614304wdSubclassLabelhumanitarian pharmacywdParentClassLabelpharmacywdSubclassQ1782340wdParentClassQ614304wdSubclassLabelSpagyricwdParentClassLabelpharmacywdSubclassQ391148wdParentClassQ614304wdSubclassLabelhistory of pharmacywdParentClassLabelpharmacywdSubclassQ107395629wdParentClassQ614304wdSubclassLabelindustrial pharmacywdParentClassLabelpharmacywdSubclassQ155491wdParentClassQ614304wdSubclassLabelclinical pharmacywdParentClassLabelpharmacywdSubclassQ1000889wdParentClassQ614304wdSubclassLabelemergency and disaster pharmacywdParentClassLabelpharmacywdSubclassQ16992268wdParentClassQ614304wdSubclassLabelHydrophilizationwdParentClassLabelpharmacywdSubclassQ3417008wdParentClassQ614304wdSubclassLabelNuclear pharmacywdParentClassLabelpharmacywdSubclassQ2447485wdParentClassQ614304wdSubclassLabelQ2447485wdParentClassLabelpharmacywdSubclassQ388618wdParentClassQ614304wdSubclassLabelhospital pharmacywdParentClassLabelpharmacywdSubclassQ1474765wdParentClassQ614304wdSubclassLabelgalenic formulationwdParentClassLabelpharmacywdSubclassQ112252029wdParentClassQ614304wdSubclassLabelbiopharmacywdParentClassLabelpharmacywdSubclassQ7180824wdParentClassQ614304wdSubclassLabelpharmacy practicewdParentClassLabelpharmacywdSubclassQ113141546wdParentClassQ113135490wdSubclassLabelstructure and dynamics of materialswdParentClassLabelmacromolecular and materials chemistrywdSubclassQ113135537wdParentClassQ113135490wdSubclassLabelphysical chemistry of materialswdParentClassLabelmacromolecular and materials chemistrywdSubclassQ110245453wdParentClassQ113135490wdSubclassLabeltheory and design of materialswdParentClassLabelmacromolecular and materials chemistrywdSubclassQ756449wdParentClassQ113135490wdSubclassLabelsupramolecular', metadata={}), Document(page_content='materials chemistrywdSubclassQ756449wdParentClassQ113135490wdSubclassLabelsupramolecular chemistrywdParentClassLabelmacromolecular and materials chemistrywdSubclassQ110245428wdParentClassQ113135490wdSubclassLabelmacromolecular materials researchwdParentClassLabelmacromolecular and materials chemistrywdSubclassQ1443081wdParentClassQ113135490wdSubclassLabelnanochemistrywdParentClassLabelmacromolecular and materials chemistrywdSubclassQ899656wdParentClassQ67577480wdSubclassLabelprotein structure predictionwdParentClassLabelstructure predictionwdSubclassQ901663wdParentClassQ67577480wdSubclassLabelmolecular dynamics simulationwdParentClassLabelstructure predictionwdSubclassQ113444274wdParentClassQ67577480wdSubclassLabelsecondary structure predictionwdParentClassLabelstructure predictionwdSubclassQ7068225wdParentClassQ67577480wdSubclassLabelNucleic acid structure predictionwdParentClassLabelstructure predictionwdSubclassQ13195799wdParentClassQ11165wdSubclassLabelphysical inorganic chemistrywdParentClassLabelinorganic chemistrywdSubclassQ803925wdParentClassQ11165wdSubclassLabelbioinorganic chemistrywdParentClassLabelinorganic chemistrywdSubclassQ5063652wdParentClassQ11165wdSubclassLabelceramic chemistrywdParentClassLabelinorganic chemistrywdSubclassQ3674740wdParentClassQ11165wdSubclassLabelcoordination chemistrywdParentClassLabelinorganic chemistrywdSubclassQ237200wdParentClassQ11165wdSubclassLabelorganometallic chemistrywdParentClassLabelinorganic chemistrywdSubclassQ67577480wdParentClassQ910164wdSubclassLabelstructure predictionwdParentClassLabelcheminformaticswdSubclassQ29156727wdParentClassQ910164wdSubclassLabelcheminformatics softwarewdParentClassLabelcheminformaticswdSubclassQ4112105wdParentClassQ910164wdSubclassLabelvirtual screeningwdParentClassLabelcheminformaticswdSubclassQ114737329wdParentClassQ910164wdSubclassLabelQuantitative Structure–Property RelationshipwdParentClassLabelcheminformaticswdSubclassQ369472wdParentClassQ910164wdSubclassLabelcomputational', metadata={}), Document(page_content='chemistrywdParentClassLabelcheminformaticswdSubclassQ766383wdParentClassQ910164wdSubclassLabelquantitative structure-activity relationshipwdParentClassLabelcheminformaticswdSubclassQ1674549wdParentClassQ161764wdSubclassLabelisotope geochemistrywdParentClassLabelgeochemistrywdSubclassQ113547642wdParentClassQ161764wdSubclassLabelanalytical geochemistrywdParentClassLabelgeochemistrywdSubclassQ18352840wdParentClassQ161764wdSubclassLabelaqueous geochemistrywdParentClassLabelgeochemistrywdSubclassQ25530597wdParentClassQ161764wdSubclassLabelhydrogeochemistrywdParentClassLabelgeochemistrywdSubclassQ113726448wdParentClassQ161764wdSubclassLabelenvironmental geochemistrywdParentClassLabelgeochemistrywdSubclassQ12058749wdParentClassQ161764wdSubclassLabelthermobarometrywdParentClassLabelgeochemistrywdSubclassQ911801wdParentClassQ161764wdSubclassLabelcosmochemistrywdParentClassLabelgeochemistrywdSubclassQ912065wdParentClassQ161764wdSubclassLabelhydrochemistrywdParentClassLabelgeochemistrywdSubclassQ864379wdParentClassQ161764wdSubclassLabelbiogeochemistrywdParentClassLabelgeochemistrywdSubclassQ114023779wdParentClassQ161764wdSubclassLabelradiogeochemistrywdParentClassLabelgeochemistrywdSubclassQ113077482wdParentClassQ161764wdSubclassLabelinorganic geochemistrywdParentClassLabelgeochemistrywdSubclassQ2729912wdParentClassQ161764wdSubclassLabelchemostratigraphywdParentClassLabelgeochemistrywdSubclassQ3760196wdParentClassQ161764wdSubclassLabelpetroleum geochemistrywdParentClassLabelgeochemistrywdSubclassQ2274700wdParentClassQ161764wdSubclassLabelOrganic geochemistrywdParentClassLabelgeochemistrywdSubclassQ114047879wdParentClassQ161764wdSubclassLabelsoil geochemistrywdParentClassLabelgeochemistrywdSubclassQ4530266wdParentClassQ161764wdSubclassLabelecological', metadata={}), Document(page_content='geochemistrywdParentClassLabelgeochemistrywdSubclassQ743257wdParentClassQ161764wdSubclassLabelsoil chemistrywdParentClassLabelgeochemistrywdSubclassQ113095682wdParentClassQ161764wdSubclassLabelexploration geochemistrywdParentClassLabelgeochemistrywdSubclassQ2556886wdParentClassQ321150wdSubclassLabelmathematical chemistrywdParentClassLabeltheoretical chemistrywdSubclassQ5265605wdParentClassQ3489716wdSubclassLabeldetection of fire accelerantswdParentClassLabelforensic chemistrywdSubclassQ587862wdParentClassQ3489716wdSubclassLabelforensic toxicologywdParentClassLabelforensic chemistrywdSubclassQ115582861wdParentClassQ7218wdSubclassLabelcardiotoxicologywdParentClassLabeltoxicologywdSubclassQ3536003wdParentClassQ7218wdSubclassLabelradiotoxicologywdParentClassLabeltoxicologywdSubclassQ6005582wdParentClassQ7218wdSubclassLabelimmunotoxicologywdParentClassLabeltoxicologywdSubclassQ113548804wdParentClassQ7218wdSubclassLabelindustrial toxicologywdParentClassLabeltoxicologywdSubclassQ105409336wdParentClassQ7218wdSubclassLabelEvolutionary toxicologywdParentClassLabeltoxicologywdSubclassQ2518429wdParentClassQ7218wdSubclassLabelnanotoxicologywdParentClassLabeltoxicologywdSubclassQ108366378wdParentClassQ7218wdSubclassLabelchemical and environmental toxicologywdParentClassLabeltoxicologywdSubclassQ113884085wdParentClassQ7218wdSubclassLabelgenetic toxicologywdParentClassLabeltoxicologywdSubclassQ21693208wdParentClassQ7218wdSubclassLabeloccupational toxicologywdParentClassLabeltoxicologywdSubclassQ6947231wdParentClassQ7218wdSubclassLabelmycotoxicologywdParentClassLabeltoxicologywdSubclassQ113884060wdParentClassQ7218wdSubclassLabeldevelopmental toxicologywdParentClassLabeltoxicologywdSubclassQ113884064wdParentClassQ7218wdSubclassLabelclinical', metadata={}), Document(page_content='toxicologywdParentClassLabeltoxicologywdSubclassQ113884167wdParentClassQ7218wdSubclassLabelgeneral toxicologywdParentClassLabeltoxicologywdSubclassQ113884197wdParentClassQ7218wdSubclassLabelexperimental toxicologywdParentClassLabeltoxicologywdSubclassQ113884141wdParentClassQ7218wdSubclassLabelmilitary toxicologywdParentClassLabeltoxicologywdSubclassQ113884235wdParentClassQ7218wdSubclassLabelanalytical toxicologywdParentClassLabeltoxicologywdSubclassQ113884056wdParentClassQ7218wdSubclassLabelveterinary toxicologywdParentClassLabeltoxicologywdSubclassQ587862wdParentClassQ7218wdSubclassLabelforensic toxicologywdParentClassLabeltoxicologywdSubclassQ112417293wdParentClassQ7218wdSubclassLabelneurotoxicologywdParentClassLabeltoxicologywdSubclassQ1009245wdParentClassQ7218wdSubclassLabelgenotoxicitywdParentClassLabeltoxicologywdSubclassQ113884229wdParentClassQ7218wdSubclassLabelcytotoxicologywdParentClassLabeltoxicologywdSubclassQ113884058wdParentClassQ7218wdSubclassLabelwater toxicologywdParentClassLabeltoxicologywdSubclassQ113884218wdParentClassQ7218wdSubclassLabelnutritive toxicologywdParentClassLabeltoxicologywdSubclassQ113884260wdParentClassQ7218wdSubclassLabelmolecular toxicologywdParentClassLabeltoxicologywdSubclassQ3995923wdParentClassQ7218wdSubclassLabelenvironmental toxicologywdParentClassLabeltoxicologywdSubclassQ841450wdParentClassQ7218wdSubclassLabeltoxicogenomicswdParentClassLabeltoxicologywdSubclassQ105089897wdParentClassQ634314wdSubclassLabeladsorption calorimetrywdParentClassLabelcalorimetrywdSubclassQ904893wdParentClassQ634314wdSubclassLabeldifferential scanning', metadata={}), Document(page_content='scanning calorimetrywdParentClassLabelcalorimetrywdSubclassQ1661446wdParentClassQ634314wdSubclassLabelIndirect calorimetrywdParentClassLabelcalorimetrywdSubclassQ110245477wdParentClassQ110245486wdSubclassLabelstatistical mechanics in chemistrywdParentClassLabeltheoretical and computational chemistrywdSubclassQ369472wdParentClassQ110245486wdSubclassLabelcomputational chemistrywdParentClassLabeltheoretical and computational chemistrywdSubclassQ188403wdParentClassQ110245486wdSubclassLabelquantum chemistrywdParentClassLabeltheoretical and computational chemistrywdSubclassQ911772wdParentClassQ11491273wdSubclassLabelchemical technologywdParentClassLabelapplied chemistrywdSubclassQ903767wdParentClassQ11491273wdSubclassLabelchemurgywdParentClassLabelapplied chemistrywdSubclassQ4661718wdParentClassQ4456813wdSubclassLabelactivationwdParentClassLabeltechnical chemistrywdSubclassQ910067wdParentClassQ2329wdSubclassLabelchemometricswdParentClassLabelchemistrywdSubclassQ1925986wdParentClassQ2329wdSubclassLabelzythologywdParentClassLabelchemistrywdSubclassQ4456813wdParentClassQ2329wdSubclassLabeltechnical chemistrywdParentClassLabelchemistrywdSubclassQ899212wdParentClassQ2329wdSubclassLabelcombinatorial chemistrywdParentClassLabelchemistrywdSubclassQ909501wdParentClassQ2329wdSubclassLabelcrystal chemistrywdParentClassLabelchemistrywdSubclassQ909495wdParentClassQ2329wdSubclassLabelinterface and colloid sciencewdParentClassLabelchemistrywdSubclassQ910164wdParentClassQ2329wdSubclassLabelcheminformaticswdParentClassLabelchemistrywdSubclassQ5125767wdParentClassQ2329wdSubclassLabelclandestine chemistrywdParentClassLabelchemistrywdSubclassQ9164697wdParentClassQ2329wdSubclassLabelbalneochemistrywdParentClassLabelchemistrywdSubclassQ910172wdParentClassQ2329wdSubclassLabelfood', metadata={}), Document(page_content='chemistrywdParentClassLabelchemistrywdSubclassQ2466273wdParentClassQ2329wdSubclassLabelimmunochemistrywdParentClassLabelchemistrywdSubclassQ700919wdParentClassQ2329wdSubclassLabelchemical ecologywdParentClassLabelchemistrywdSubclassQ161764wdParentClassQ2329wdSubclassLabelgeochemistrywdParentClassLabelchemistrywdSubclassQ2963660wdParentClassQ2329wdSubclassLabelwet chemistrywdParentClassLabelchemistrywdSubclassQ5384482wdParentClassQ2329wdSubclassLabelequilibrium chemistrywdParentClassLabelchemistrywdSubclassQ321150wdParentClassQ2329wdSubclassLabeltheoretical chemistrywdParentClassLabelchemistrywdSubclassQ3489716wdParentClassQ2329wdSubclassLabelforensic chemistrywdParentClassLabelchemistrywdSubclassQ756449wdParentClassQ2329wdSubclassLabelsupramolecular chemistrywdParentClassLabelchemistrywdSubclassQ614304wdParentClassQ2329wdSubclassLabelpharmacywdParentClassLabelchemistrywdSubclassQ287919wdParentClassQ2329wdSubclassLabelatmospheric chemistrywdParentClassLabelchemistrywdSubclassQ2963661wdParentClassQ2329wdSubclassLabelsynthetic chemistrywdParentClassLabelchemistrywdSubclassQ7076133wdParentClassQ2329wdSubclassLabelocean chemistrywdParentClassLabelchemistrywdSubclassQ725361wdParentClassQ2329wdSubclassLabelgreen chemistrywdParentClassLabelchemistrywdSubclassQ900614wdParentClassQ2329wdSubclassLabelCarbochemistrywdParentClassLabelchemistrywdSubclassQ848763wdParentClassQ2329wdSubclassLabelamateur chemistrywdParentClassLabelchemistrywdSubclassQ1069192wdParentClassQ2329wdSubclassLabelchemical reaction network theorywdParentClassLabelchemistrywdSubclassQ2072035wdParentClassQ2329wdSubclassLabelpersistencewdParentClassLabelchemistrywdSubclassQ528130wdParentClassQ2329wdSubclassLabelchemical', metadata={}), Document(page_content='oceanographywdParentClassLabelchemistrywdSubclassQ901098wdParentClassQ2329wdSubclassLabelmechanochemistrywdParentClassLabelchemistrywdSubclassQ634314wdParentClassQ2329wdSubclassLabelcalorimetrywdParentClassLabelchemistrywdSubclassQ2511885wdParentClassQ2329wdSubclassLabelChloro chemistrywdParentClassLabelchemistrywdSubclassQ905377wdParentClassQ2329wdSubclassLabelmicrowave chemistrywdParentClassLabelchemistrywdSubclassQ7244973wdParentClassQ2329wdSubclassLabellaser chemistrywdParentClassLabelchemistrywdSubclassQ321355wdParentClassQ2329wdSubclassLabelenvironmental chemistrywdParentClassLabelchemistrywdSubclassQ6745636wdParentClassQ2329wdSubclassLabelindustrial chemistrywdParentClassLabelchemistrywdSubclassQ1443081wdParentClassQ2329wdSubclassLabelnanochemistrywdParentClassLabelchemistrywdSubclassQ58900610wdParentClassQ2329wdSubclassLabelhistocytochemistrywdParentClassLabelchemistrywdSubclassQ11944355wdParentClassQ2329wdSubclassLabelBiomimetic chemistrywdParentClassLabelchemistrywdSubclassQ1069216wdParentClassQ2329wdSubclassLabelmicroscale chemistrywdParentClassLabelchemistrywdSubclassQ14906784wdParentClassQ2329wdSubclassLabelorganohalfnium chemistrywdParentClassLabelchemistrywdSubclassQ11165wdParentClassQ2329wdSubclassLabelinorganic chemistrywdParentClassLabelchemistrywdSubclassQ55611105wdParentClassQ2329wdSubclassLabelethnochemistrywdParentClassLabelchemistrywdSubclassQ12030270wdParentClassQ2329wdSubclassLabelcosmetic chemistrywdParentClassLabelchemistrywdSubclassQ113135490wdParentClassQ2329wdSubclassLabelmacromolecular and materials chemistrywdParentClassLabelchemistrywdSubclassQ14906778wdParentClassQ2329wdSubclassLabelOrgano-osmium chemistrywdParentClassLabelchemistrywdSubclassQ12168144wdParentClassQ2329wdSubclassLabelsemiconductors', metadata={}), Document(page_content='chemistrywdParentClassLabelchemistrywdSubclassQ11351wdParentClassQ2329wdSubclassLabelorganic chemistrywdParentClassLabelchemistrywdSubclassQ65245625wdParentClassQ2329wdSubclassLabelSystems chemistrywdParentClassLabelchemistrywdSubclassQ112342208wdParentClassQ2329wdSubclassLabelexperimental chemistrywdParentClassLabelchemistrywdSubclassQ119808974wdParentClassQ2329wdSubclassLabelfire sciencewdParentClassLabelchemistrywdSubclassQ119534140wdParentClassQ2329wdSubclassLabelacetylene reductionwdParentClassLabelchemistrywdSubclassQ23023867wdParentClassQ2329wdSubclassLabelclay chemistrywdParentClassLabelchemistrywdSubclassQ115864634wdParentClassQ2329wdSubclassLabelaquaphotomicswdParentClassLabelchemistrywdSubclassQ27964550wdParentClassQ2329wdSubclassLabelacid–base chemistrywdParentClassLabelchemistrywdSubclassQ11491273wdParentClassQ2329wdSubclassLabelapplied chemistrywdParentClassLabelchemistrywdSubclassQ112341069wdParentClassQ2329wdSubclassLabelcolloid chemistrywdParentClassLabelchemistrywdSubclassQ115625228wdParentClassQ2329wdSubclassLabelinterfacial thermodynamicswdParentClassLabelchemistrywdSubclassQ119809477wdParentClassQ2329wdSubclassLabelwater sciencewdParentClassLabelchemistrywdSubclassq11372wdParentClassQ2329wdSubclassLabelq11372wdParentClassLabelchemistrywdSubclassq2346wdParentClassQ2329wdSubclassLabelq2346wdParentClassLabelchemistrywdSubclassQ20098721wdParentClassQ2329wdSubclassLabeltribochemistrywdParentClassLabelchemistrywdSubclassQ9189409wdParentClassQ2329wdSubclassLabelmedicinal and biomolecular chemistrywdParentClassLabelchemistrywdSubclassQ14906788wdParentClassQ2329wdSubclassLabelOrgano-molybdenum chemistrywdParentClassLabelchemistrywdSubclassQ13033340wdParentClassQ2329wdSubclassLabelChemistry in', metadata={}), Document(page_content='in BelaruswdParentClassLabelchemistrywdSubclassQ50490180wdParentClassQ2329wdSubclassLabelprotein sciencewdParentClassLabelchemistrywdSubclassQ12373158wdParentClassQ2329wdSubclassLabeloil shale chemistrywdParentClassLabelchemistrywdSubclassQ20097254wdParentClassQ2329wdSubclassLabelpeat chemistrywdParentClassLabelchemistrywdSubclassQ112805970wdParentClassQ2329wdSubclassLabelMolecular ChemistrywdParentClassLabelchemistrywdSubclassQ111189176wdParentClassQ2329wdSubclassLabelRobotic ChemistrywdParentClassLabelchemistrywdSubclassQ18418694wdParentClassQ2329wdSubclassLabelCrystallographywdParentClassLabelchemistrywdSubclassQ110245486wdParentClassQ2329wdSubclassLabeltheoretical and computational chemistrywdParentClassLabelchemistrywdSubclassQ13963438wdParentClassQ2329wdSubclassLabelOrgano-tantalum chemistrywdParentClassLabelchemistrywdSubclassQ11680018wdParentClassQ2329wdSubclassLabelastrochemistrywdParentClassLabelchemistrywdSubclassQ14906777wdParentClassQ2329wdSubclassLabelOrgano-indium chemistrywdParentClassLabelchemistrywdSubclassQ11944354wdParentClassQ2329wdSubclassLabelmaterial chemistrywdParentClassLabelchemistrywdSubclassQ115156390wdParentClassQ2329wdSubclassLabelmolecular chemistrywdParentClassLabelchemistrywdSubclassQ14906790wdParentClassQ2329wdSubclassLabelOrgano-thallium chemistrywdParentClassLabelchemistrywdSubclassQ4497764wdParentClassQ2329wdSubclassLabelchemmotologywdParentClassLabelchemistrywdSubclassQ4497746wdParentClassQ2329wdSubclassLabelsilicate chemistrywdParentClassLabelchemistrywdSubclassQ910020wdParentClassQ2329wdSubclassLabelLocantwdParentClassLabelchemistrywdSubclassQ7218wdParentClassQ2329wdSubclassLabeltoxicologywdParentClassLabelchemistrywdSubclassQ110402777wdParentClassQ2329wdSubclassLabelMāori', metadata={}), Document(page_content=\"chemistrywdParentClassLabelchemistry'}\", metadata={})]\n",
      "Min: 7\n",
      "        Avg: 431\n",
      "        Max: 478\n"
     ]
    },
    {
     "data": {
      "image/png": "[encoded data removed]",
      "text/plain": [
       "<Figure size 1200x600 with 1 Axes>"
      ]
     },
     "metadata": {},
     "output_type": "display_data"
    },
    {
     "name": "stdout",
     "output_type": "stream",
     "text": [
      "You have 15 document(s) remaining after filtering in your data\n",
      "Tool schema explorer was created\n"
     ]
    }
   ],
   "source": [
    "# PDFs\n",
    "dir='chemistry_schema'\n",
    "ext='txt'  # the string pattern for matching the files in the folder\n",
    "search_strings_and_replacements = [\n",
    "    (r\"2:51 PMWhy \", \"\"),\n",
    "    (r'test234',''),\n",
    "    (r\":\", \" =\"),\n",
    "    (r\"{\", \"NEW CLASS: \")\n",
    "    ]\n",
    "\n",
    "search_strings_and_replacements = [\n",
    "    (r\"2:51 PMWhy \", \"\"),\n",
    "    (r'test234','')]\n",
    "\n",
    "# Chunking\n",
    "chunk_size=500\n",
    "chunk_overlap=25\n",
    "\n",
    "# Tool name\n",
    "tool_name='schema explorer'\n",
    "tool_desc = \"\"\"\n",
    "Q&A rdf schema - useful for questions and information about the schema of the rdf. This tool can also be used for follow up questions from the user or agent.\n",
    "\"\"\"\n",
    "chain_type='stuff' #'stuff' or 'map_reduce'\n",
    "#chain_type='map_reduce' #'stuff' or 'map_reduce'\n",
    "#model_name=\"gpt-4\" #or 'gpt-3.5-turbo'\n",
    "model_name=\"gpt-3.5-turbo\" #or 'gpt-3.5-turbo'\n",
    "temperature=0.7\n",
    "max_tokens=1500\n",
    "\n",
    "agent_tool_generator = AgentToolFromPDFs(\n",
    "    dir,\n",
    "    ext,\n",
    "    search_strings_and_replacements,\n",
    "    chunk_size,\n",
    "    chunk_overlap,\n",
    "    tool_name,\n",
    "    tool_desc,\n",
    "    chain_type,\n",
    "    model_name,\n",
    "    temperature,\n",
    "    max_tokens,\n",
    ")\n",
    "\n",
    "tool_name_schema = agent_tool_generator.generate_an_agent_tool()"
   ]
  },
  {
   "cell_type": "markdown",
   "id": "064a2756",
   "metadata": {},
   "source": [
    "## Tool 2 - generate sparql query\n",
    "\n",
    "Generates a template sparql query with placeholders for entities and properties that need to be found"
   ]
  },
  {
   "cell_type": "code",
   "execution_count": 9,
   "id": "47b2687c",
   "metadata": {},
   "outputs": [],
   "source": [
    "class SPARQLTemplate():\n",
    "    def __init__(self, \n",
    "                 template, \n",
    "                 examples, \n",
    "                 tool_name,\n",
    "                 tool_desc,\n",
    "                 model_name,\n",
    "                 temperature,\n",
    "                 max_tokens,):\n",
    "        self.template = self.set_template(template)\n",
    "        self.examples = examples\n",
    "        self.tool_name = tool_name\n",
    "        self.tool_desc = tool_desc\n",
    "        self.model_name = model_name\n",
    "        self.temperature = temperature\n",
    "        self.max_tokens = max_tokens\n",
    "        \n",
    "    def set_template(self, template):\n",
    "        self.template = template\n",
    "        \n",
    "    def generate_prompt(self):\n",
    "        self.example_prompt = PromptTemplate(input_variables=[\"question\", \"answer\"], template=\"Question: {question}\\n {answer}\")\n",
    "        self.prompt = FewShotPromptTemplate(\n",
    "                        examples=self.examples, \n",
    "                        example_prompt=self.example_prompt, \n",
    "                        suffix='Generate a SPARQL query template to answer {input}. Do not assume you know the p and q values for any concepts.', \n",
    "                        input_variables=[\"input\"]\n",
    "                    )\n",
    "    \n",
    "    def generate_tool(self):\n",
    "        self.generate_prompt()\n",
    "        OPENAI_API_KEY = os.getenv(\"OPENAI_API_KEY\")\n",
    "        \n",
    "        # initiate llm\n",
    "        llm = ChatOpenAI(\n",
    "                model_name=self.model_name,\n",
    "                temperature=self.temperature,\n",
    "                max_tokens=self.max_tokens,\n",
    "                openai_api_key=OPENAI_API_KEY,\n",
    "\n",
    "            )\n",
    "        \n",
    "        \n",
    "        \n",
    "        llm_chain = LLMChain(llm=llm, prompt=self.prompt)\n",
    "        \n",
    "        tool = [\n",
    "            Tool(\n",
    "                func=llm_chain,\n",
    "                description=self.tool_desc,\n",
    "                name=self.tool_name,\n",
    "            )\n",
    "        ]\n",
    "        \n",
    "        print(f'Tool {self.tool_name} was created')\n",
    "        return tool\n",
    "        "
   ]
  },
  {
   "cell_type": "code",
   "execution_count": 10,
   "id": "94ecccd9",
   "metadata": {},
   "outputs": [],
   "source": [
    "# Set up the base template\n",
    "gen_template = \"\"\"\n",
    "Generate a SPARQL query template to answer {question}. \n",
    "Do not assume you know the p and q values for any concepts.\n",
    "For the template use variable names with '!' in front as place holders for p and q values or literals that you will need.\n",
    "Examples above show how to use placeholders.\n",
    "Return the resulting SPARQL query template. \n",
    "\n",
    "When generating sparql:\n",
    "* Never use PREFIX\n",
    "* Try to avoid \"count\" and \"filter\" queries if possible\n",
    "* Never enclose the sparql in back-quotes\n",
    "* keep it as simple as possible\n",
    "\"\"\""
   ]
  },
  {
   "cell_type": "code",
   "execution_count": 11,
   "id": "82dcde82",
   "metadata": {},
   "outputs": [],
   "source": [
    "examples = [\n",
    "  {\n",
    "    \"question\": \"List 100 types of cats\",\n",
    "    \"answer\": \n",
    "\"\"\"\n",
    "SELECT ?item ?itemLabel\n",
    "WHERE ?item !type_property !cat_class.\n",
    "LIMIT 100\n",
    "\"\"\"\n",
    "  },\n",
    "  {\n",
    "    \"question\": \"How many letters are in the swedish alphabet?\",\n",
    "    \"answer\": \n",
    "\"\"\"\n",
    "SELECT (COUNT(?lexemeId) as ?count)\n",
    "WHERE {{\n",
    "?lexemeId !lang !swedish_entity;\n",
    "        !type ?lemma.\n",
    "?lexemeId !category !letter\n",
    "}}  \n",
    "\"\"\"\n",
    "  }\n",
    "]"
   ]
  },
  {
   "cell_type": "code",
   "execution_count": 12,
   "id": "1f48ccd5",
   "metadata": {},
   "outputs": [],
   "source": [
    "tool_name = 'SPARQLTemplateTool'\n",
    "tool_desc = 'Useful for generating a SPARQL template before retrieving p and q identifiers and after understanding the schema. Input to tool should be a question.'\n",
    "model_name = \"gpt-3.5-turbo\"\n",
    "temperature = 0\n",
    "max_tokens = 1500"
   ]
  },
  {
   "cell_type": "code",
   "execution_count": 13,
   "id": "ed024667",
   "metadata": {},
   "outputs": [
    {
     "name": "stdout",
     "output_type": "stream",
     "text": [
      "Tool SPARQLTemplateTool was created\n"
     ]
    }
   ],
   "source": [
    "SPARQLTemplate_instance = SPARQLTemplate(gen_template,\n",
    "                                            examples,\n",
    "                                            tool_name,\n",
    "                                            tool_desc,\n",
    "                                            model_name,\n",
    "                                            temperature,\n",
    "                                            max_tokens)\n",
    "\n",
    "SPARQLTemplate_instance.generate_prompt()\n",
    "tool_sparql_template = SPARQLTemplate_instance.generate_tool()"
   ]
  },
  {
   "cell_type": "markdown",
   "id": "3c7df32d",
   "metadata": {},
   "source": [
    "## Tool 3 - retrieve identifiers"
   ]
  },
  {
   "cell_type": "code",
   "execution_count": 14,
   "id": "3d14b66d",
   "metadata": {},
   "outputs": [],
   "source": [
    "def nested_value(data, path):\n",
    "    current = data\n",
    "    for key in path:\n",
    "        try:\n",
    "            current = current[key]\n",
    "        except:\n",
    "            return None\n",
    "    return current\n",
    "\n",
    "def identifier_lookup(search, entity_type = \"item\",\n",
    "                 url= \"https://www.wikidata.org/w/api.php\",\n",
    "                 limit = 50, # max number for Wikidata API entity search\n",
    "                 info_type = ['label', 'description'] # information to include with id\n",
    "                ):    \n",
    "    headers = {\n",
    "        'Accept': 'application/json'\n",
    "    }\n",
    "    \n",
    "    params = {\n",
    "        \"action\": 'wbsearchentities',\n",
    "        \"search\": search,\n",
    "        \"language\": 'en',\n",
    "        \"type\": entity_type,\n",
    "        \"limit\": limit,\n",
    "        \"format\": \"json\"\n",
    "    }\n",
    "\n",
    "    \n",
    "    response = requests.get(url, headers=headers, params=params)\n",
    "        \n",
    "    if response.status_code == 200:\n",
    "        num_return = len(nested_value(response.json(),['search']))\n",
    "        if info_type == None:\n",
    "            titles = [nested_value(response.json(),['search', x, 'id']).split(':')[-1] for x in range(num_return)]\n",
    "        else:\n",
    "            # create dictionary of label and description for each id and checks if label and/or description exist\n",
    "            titles = [{nested_value(response.json(),['search', x, 'id']).split(':')[-1]:\n",
    "                       {it:nested_value(response.json(),['search', x, 'display', it, 'value']) for it in info_type}} for x in range(num_return)]\n",
    "        if titles is None:\n",
    "            return f\"I couldn't find any {entity_type} for '{search}'. Please rephrase your request and try again\"\n",
    "        \n",
    "        return titles[:(min(len(titles),15))]\n",
    "    else:\n",
    "        return \"Sorry, I got an error. Please try again.\""
   ]
  },
  {
   "cell_type": "code",
   "execution_count": 15,
   "id": "c46c5191",
   "metadata": {},
   "outputs": [],
   "source": [
    "tools_IDLookup = [\n",
    "    Tool(\n",
    "    name = 'ItemLookup',\n",
    "    description = 'Use when you need to know the q-number for an item in order to generate a sparql request. \\\n",
    "        Provides a list of possible q-numbers. Choose the best based on the label and description.',\n",
    "    func = lambda item: identifier_lookup(item, entity_type='item')\n",
    "), Tool(\n",
    "    name = 'PropertyLookup',\n",
    "    description = 'Use when you need to know the p-number for a property in order to generate a sparql request. \\\n",
    "        Provides a list of possible p-numbers. Choose the best based on the label and description',\n",
    "    func = lambda item: identifier_lookup(item, entity_type='property')\n",
    ")]"
   ]
  },
  {
   "cell_type": "markdown",
   "id": "83f056bf",
   "metadata": {},
   "source": [
    "### Attempt to use prompt template"
   ]
  },
  {
   "cell_type": "code",
   "execution_count": 106,
   "id": "f8c6ecdf",
   "metadata": {},
   "outputs": [],
   "source": [
    "item_template = \"\"\"\n",
    "Find the best q-number for {input} using the tools available: \\\n",
    "1. ItemLookup\n",
    "\n",
    "Return the best q-number with the label and description in context of this question: {question}\n",
    "\"\"\"\n",
    "\n",
    "property_template = \"\"\"\n",
    "Find the best p-number for {input} using the tools available: \\\n",
    "1. PropertyLookup\n",
    "\n",
    "Return the best p-number with the label and description in context of this question: {question}. \n",
    "\n",
    "Note: don't answer the question.\n",
    "\"\"\"\n",
    "\n",
    "item_tool = [Tool(\n",
    "    name = 'ItemLookup',\n",
    "    description = 'Use when you need to know the q-number for an item in order to generate a sparql request. \\\n",
    "        Provides a list of possible q-numbers. Choose the best based on the label and description.',\n",
    "    func = lambda item: identifier_lookup(item, entity_type='item')\n",
    ")]\n",
    "    \n",
    "property_tool = [Tool(\n",
    "    name = 'PropertyLookup',\n",
    "    description = 'Use when you need to know the p-number for a property in order to generate a sparql request. \\\n",
    "        Provides a list of possible p-numbers. Choose the best based on the label and description.',\n",
    "    func = lambda item: identifier_lookup(item, entity_type='property')\n",
    ")]\n",
    "\n",
    "def make_tool(template, tools, tool_name):\n",
    "    id_prompt = PromptTemplate(\n",
    "        input_variables=['input', 'question'],\n",
    "        template = template\n",
    "    )\n",
    "\n",
    "    llm = ChatOpenAI(temperature=0.8, model=\"gpt-3.5-turbo\", verbose=True)\n",
    "    llm_chain = LLMChain(prompt=id_prompt, llm=llm, verbose = True)\n",
    "    id_agent = initialize_agent(tools, llm, agent=AgentType.OPENAI_FUNCTIONS, verbose = True)\n",
    "    \n",
    "    if tool_name == 'ItemLookup':\n",
    "        tool_desc = 'Use when you need to know the q-number for an item. \\\n",
    "        Input should be a search term and the original question.'\n",
    "    elif tool_name == 'PropertyLookup':\n",
    "        tool_desc = 'Use when you need to know the p-number for an item. \\\n",
    "        Input should be a search term and the original question.'\n",
    "    \n",
    "    id_tool = Tool(\n",
    "        name = tool_name,\n",
    "        description = tool_desc,\n",
    "        func = id_agent.run\n",
    "    )\n",
    "    return id_agent\n",
    "    return id_tool\n",
    "    \n",
    "#tools_IDLookup = [make_tool(item_template, item_tool, 'ItemLookup'),  make_tool(property_template, property_tool, 'PropertyLookup')]"
   ]
  },
  {
   "cell_type": "code",
   "execution_count": 107,
   "id": "897ee798",
   "metadata": {},
   "outputs": [],
   "source": [
    "item_lookup = make_tool(item_template, item_tool, 'ItemLookup')\n",
    "property_lookup = make_tool(property_template, property_tool, 'PropertyLookup')"
   ]
  },
  {
   "cell_type": "code",
   "execution_count": 108,
   "id": "b2168b18",
   "metadata": {},
   "outputs": [
    {
     "name": "stdout",
     "output_type": "stream",
     "text": [
      "\n",
      "\n",
      "\u001b[1m> Entering new  chain...\u001b[0m\n",
      "\u001b[32;1m\u001b[1;3m\n",
      "Invoking: `PropertyLookup` with `number of children`\n",
      "\n",
      "\n",
      "\u001b[0m\u001b[36;1m\u001b[1;3m{'P1971': {'label': 'number of children', 'description': 'number of children of the person'}}\u001b[0m\u001b[32;1m\u001b[1;3mThe property number for \"number of children\" is P1971.\u001b[0m\n",
      "\n",
      "\u001b[1m> Finished chain.\u001b[0m\n"
     ]
    },
    {
     "data": {
      "text/plain": [
       "'The property number for \"number of children\" is P1971.'"
      ]
     },
     "execution_count": 108,
     "metadata": {},
     "output_type": "execute_result"
    }
   ],
   "source": [
    "property_lookup.run(['number of children', 'How many children did Bach have?'])"
   ]
  },
  {
   "cell_type": "code",
   "execution_count": 46,
   "id": "62b307ea",
   "metadata": {},
   "outputs": [
    {
     "name": "stdout",
     "output_type": "stream",
     "text": [
      "\n",
      "\n",
      "\u001b[1m> Entering new  chain...\u001b[0m\n",
      "\u001b[32;1m\u001b[1;3m\n",
      "Invoking: `ItemLookup` with `Bach`\n",
      "\n",
      "\n",
      "\u001b[0m\u001b[36;1m\u001b[1;3m[{'Q1339': {'label': 'Johann Sebastian Bach', 'description': 'German composer (1685–1750)'}}, {'Q1409748': {'label': 'Bach', 'description': 'family name'}}, {'Q936005': {'label': 'Bach', 'description': 'commune in Lot, France'}}, {'Q679998': {'label': 'Bach', 'description': 'municipality in Reutte District, Tyrol, Austria'}}, {'Q144189': {'label': '1814 Bach', 'description': 'main-belt asteroid discovered in 1931'}}, {'Q584238': {'label': 'BACH motif', 'description': 'Musical motif consisting of B flat, A, C, B natural, used by J. S. Bach and other composers'}}, {'Q1072625': {'label': 'Bach', 'description': 'crater on Mercury'}}, {'Q1861386': {'label': 'Bach', 'description': 'French actor and singer'}}, {'Q163727': {'label': \"bachelor's degree\", 'description': 'undergraduate academic degree lasting from three to seven years'}}, {'Q18036478': {'label': 'ACOT7', 'description': 'protein-coding gene in the species Homo sapiens'}}, {'Q6828338': {'label': 'Michael Bach', 'description': 'German botanist and entomologist (1808–1878)'}}, {'Q485369': {'label': 'Bäch', 'description': 'village in Schwyz, Switzerland'}}, {'Q55773643': {'label': 'Paul Bach', 'description': 'German painter (1866–1919)'}}, {'Q1765120': {'label': 'Bachelor of Arts', 'description': \"bachelor's degree awarded for undergraduate study in liberal arts, the sciences or both\"}}, {'Q24405115': {'label': 'Acot7', 'description': 'protein-coding gene in the species Rattus norvegicus'}}]\u001b[0m\u001b[32;1m\u001b[1;3mI found several items related to \"Bach\". The most relevant one is \"Johann Sebastian Bach\" (Q1339), a German composer. Is that the Bach you're referring to?\u001b[0m\n",
      "\n",
      "\u001b[1m> Finished chain.\u001b[0m\n"
     ]
    },
    {
     "data": {
      "text/plain": [
       "'I found several items related to \"Bach\". The most relevant one is \"Johann Sebastian Bach\" (Q1339), a German composer. Is that the Bach you\\'re referring to?'"
      ]
     },
     "execution_count": 46,
     "metadata": {},
     "output_type": "execute_result"
    }
   ],
   "source": [
    "item_lookup.run(['Bach', 'How many children did Bach have?'])"
   ]
  },
  {
   "cell_type": "code",
   "execution_count": null,
   "id": "800ab1b1",
   "metadata": {},
   "outputs": [],
   "source": [
    "item_template = \"\"\"\n",
    "Find the best q-number for {input} using the tools available: \\\n",
    "1. ItemLookup\n",
    "\"\"\"\n",
    "\n",
    "property_template = \"\"\"\n",
    "Find the best p-number for {input} using the tools available: \\\n",
    "1. PropertyLookup\n",
    "\"\"\"\n",
    "\n",
    "#If property not found, use ItemLookup for the property. \n",
    "#If item not found,use PropertyLookup for the item. \n",
    "\n",
    "#Example input: {{ \"entities\": [\"organism\", \"beta-sitosterol\"], \"properties\": [\"contain\"] }}\n",
    "\n",
    "#Find the identifiers for these: {input}\n",
    "\n",
    "\n",
    "id_prompt = PromptTemplate(\n",
    "    input_variables=['input', 'type'],\n",
    "    template = id_template\n",
    ")\n",
    "\n",
    "llm = ChatOpenAI(temperature=0.8, model=\"gpt-4-32k\")\n",
    "llm_chain = LLMChain(prompt=id_prompt, llm=llm)\n",
    "id_agent = initialize_agent(tools_IDLookup, llm, agent=AgentType.OPENAI_FUNCTIONS, verbose = True)\n",
    "\n",
    "#id_agent.agent.llm_chain.prompt.template = id_prompt"
   ]
  },
  {
   "cell_type": "code",
   "execution_count": null,
   "id": "7664a9b1",
   "metadata": {},
   "outputs": [],
   "source": [
    "id_tools = Tool(\n",
    "    name = 'IDAgent',\n",
    "    description = 'Use when you need to lookup the identifier for an object. Expects list of [type, item] for input',\n",
    "    func = id_agent.run\n",
    ")"
   ]
  },
  {
   "cell_type": "code",
   "execution_count": null,
   "id": "a28473e3",
   "metadata": {},
   "outputs": [],
   "source": [
    "id_agent.run('what is the best p-number for child?')"
   ]
  },
  {
   "cell_type": "markdown",
   "id": "37d3c4cd",
   "metadata": {},
   "source": [
    "## Tool 3b - retrieve identifiers without API"
   ]
  },
  {
   "cell_type": "code",
   "execution_count": 154,
   "id": "6495a98c",
   "metadata": {},
   "outputs": [],
   "source": [
    "def identifier_lookup2(search, entity_type = \"entity\",\n",
    "                 limit = 50, # max number for Wikidata API entity search\n",
    "                 info_type = ['label', 'description'] # information to include with id\n",
    "                ):    \n",
    "\n",
    "    search = f\"'{search}'\"\n",
    "    SPARQL_template = \"\"\"\n",
    "    SELECT DISTINCT ?entity ?entityLabel ?entityDescription\n",
    "    WHERE {{\n",
    "    {{\n",
    "        {{?entity skos:altLabel {searchstr}@en .}}\n",
    "        UNION\n",
    "        {{?entity rdfs:label {searchstr}@en .}}  \n",
    "        OPTIONAL {{\n",
    "          ?entity schema:description ?entityDescription .\n",
    "          FILTER (lang(?entityDescription) = \"en\")\n",
    "        }}\n",
    "        SERVICE wikibase:label {{\n",
    "        bd:serviceParam wikibase:language \"en\" .\n",
    "       }}\n",
    "      }}\n",
    "    }} \n",
    "    \"\"\" \n",
    "    try: \n",
    "        output = run_sparql(SPARQL_template.format(searchstr=search))\n",
    "    \n",
    "\n",
    "        formatted_data = {}\n",
    "\n",
    "        for item in output:\n",
    "            entity_id = item['entity']['value'].split('/')[-1]\n",
    "            label = item['entityLabel']['value']\n",
    "            description = item.get('entityDescription', {}).get('value', '')\n",
    "            item_type = 'property' if entity_id[0] == 'P' else 'entity'\n",
    "            print(item_type, entity_type)\n",
    "            if item_type == entity_type:\n",
    "                formatted_data[entity_id] = {'label': label, 'description': description}\n",
    "        return formatted_data\n",
    "    except:\n",
    "        return \"Sorry, I got an error. Please try again.\""
   ]
  },
  {
   "cell_type": "code",
   "execution_count": 155,
   "id": "f335218a",
   "metadata": {},
   "outputs": [],
   "source": [
    "item_template = \"\"\"\n",
    "Find the best q-number for {input} using the tools available: \\\n",
    "1. ItemLookup2\n",
    "\n",
    "Return the best q-number with the label and description in context of this question: {question}\n",
    "\"\"\"\n",
    "\n",
    "property_template = \"\"\"\n",
    "Find the best p-number for {input} using the tools available: \\\n",
    "1. PropertyLookup2\n",
    "\n",
    "Return the best p-number with the label and description in context of this question: {question}. \n",
    "\n",
    "Note: don't answer the question.\n",
    "\"\"\"\n",
    "\n",
    "item_tool = [Tool(\n",
    "    name = 'ItemLookup2',\n",
    "    description = 'Use when you need to know the q-number for an item in order to generate a sparql request. \\\n",
    "        Provides a list of possible q-numbers. Choose the best based on the label and description.',\n",
    "    func = lambda item: identifier_lookup2(item, entity_type='entity')\n",
    ")]\n",
    "    \n",
    "property_tool = [Tool(\n",
    "    name = 'PropertyLookup2',\n",
    "    description = 'Use when you need to know the p-number for a property in order to generate a sparql request. \\\n",
    "        Provides a list of possible p-numbers. Choose the best based on the label and description.',\n",
    "    func = lambda item: identifier_lookup2(item, entity_type='property')\n",
    ")]\n",
    "\n",
    "def make_tool(template, tools, tool_name):\n",
    "    id_prompt = PromptTemplate(\n",
    "        input_variables=['input', 'question'],\n",
    "        template = template\n",
    "    )\n",
    "\n",
    "    llm = ChatOpenAI(temperature=0.8, model=\"gpt-3.5-turbo\", verbose=True)\n",
    "    llm_chain = LLMChain(prompt=id_prompt, llm=llm, verbose = True)\n",
    "    id_agent = initialize_agent(tools, llm, agent=AgentType.OPENAI_FUNCTIONS, verbose = True)\n",
    "    return id_agent\n",
    "    \n",
    "    if tool_name == 'ItemLookup':\n",
    "        tool_desc = 'Use when you need to know the q-number for an item. \\\n",
    "        Input should be a search term and the original question.'\n",
    "    elif tool_name == 'PropertyLookup':\n",
    "        tool_desc = 'Use when you need to know the p-number for an item. \\\n",
    "        Input should be a search term and the original question.'\n",
    "    \n",
    "    id_tool = Tool(\n",
    "        name = tool_name,\n",
    "        description = tool_desc,\n",
    "        func = id_agent.run\n",
    "    )\n",
    "    \n",
    "    return id_tool\n",
    "    \n",
    "#tools_IDLookup = [make_tool(item_template, item_tool, 'ItemLookup'),  make_tool(property_template, property_tool, 'PropertyLookup')]"
   ]
  },
  {
   "cell_type": "code",
   "execution_count": 139,
   "id": "39e2726f",
   "metadata": {},
   "outputs": [],
   "source": [
    "item_lookup = make_tool(item_template, item_tool, 'ItemLookup')\n",
    "property_lookup = make_tool(property_template, property_tool, 'PropertyLookup')"
   ]
  },
  {
   "cell_type": "code",
   "execution_count": 140,
   "id": "6f586858",
   "metadata": {},
   "outputs": [],
   "source": [
    "tools_IDLookup2 = [item_lookup, property_lookup]"
   ]
  },
  {
   "cell_type": "code",
   "execution_count": null,
   "id": "6a923277",
   "metadata": {},
   "outputs": [],
   "source": [
    "{'question': 'what policies have been proposed to address the issue of income inequality in the developing world?', 'text': '{ \"entities\": [\"policy\", \"issue\", \"income inequality\", \"developing world\"], \"properties\": [\"proposal\"] }'}"
   ]
  },
  {
   "cell_type": "code",
   "execution_count": 156,
   "id": "1087c8dc",
   "metadata": {},
   "outputs": [
    {
     "name": "stdout",
     "output_type": "stream",
     "text": [
      "\n",
      "\n",
      "\u001b[1m> Entering new  chain...\u001b[0m\n",
      "\u001b[32;1m\u001b[1;3m\n",
      "Invoking: `ItemLookup2` with `Bach`\n",
      "\n",
      "\n",
      "\u001b[0m\u001b[36;1m\u001b[1;3mSorry, I got an error. Please try again.\u001b[0m\u001b[32;1m\u001b[1;3m\n",
      "Invoking: `ItemLookup2` with `Johann Sebastian Bach`\n",
      "\n",
      "\n",
      "\u001b[0mentity item\n",
      "entity item\n",
      "entity item\n",
      "entity item\n",
      "entity item\n",
      "entity item\n",
      "entity item\n",
      "entity item\n",
      "entity item\n",
      "entity item\n",
      "entity item\n",
      "entity item\n",
      "entity item\n",
      "\u001b[36;1m\u001b[1;3m{}\u001b[0m\u001b[32;1m\u001b[1;3mI apologize, but I couldn't find any information about the number of children Johann Sebastian Bach had.\u001b[0m\n",
      "\n",
      "\u001b[1m> Finished chain.\u001b[0m\n"
     ]
    },
    {
     "data": {
      "text/plain": [
       "{'input': ['Bach', 'How many children did Bach have?'],\n",
       " 'output': \"I apologize, but I couldn't find any information about the number of children Johann Sebastian Bach had.\"}"
      ]
     },
     "execution_count": 156,
     "metadata": {},
     "output_type": "execute_result"
    }
   ],
   "source": [
    "item_lookup(['Bach', 'How many children did Bach have?'])"
   ]
  },
  {
   "cell_type": "code",
   "execution_count": 134,
   "id": "b5e4d1da",
   "metadata": {},
   "outputs": [
    {
     "data": {
      "text/plain": [
       "{'Q1156854': {'label': 'policy',\n",
       "  'description': 'principle or protocol to guide decisions and achieve rational outcomes'}}"
      ]
     },
     "execution_count": 134,
     "metadata": {},
     "output_type": "execute_result"
    }
   ],
   "source": [
    "results = identifier_lookup('policy')\n",
    "results"
   ]
  },
  {
   "cell_type": "code",
   "execution_count": 104,
   "id": "0d9d62e2",
   "metadata": {},
   "outputs": [
    {
     "data": {
      "text/plain": [
       "{'P40': {'label': 'child',\n",
       "  'description': 'subject has object as child. Do not use for stepchildren—use \"relative\" (P1038), qualified with \"type of kinship\" (P1039)',\n",
       "  'type': 'property'},\n",
       " 'P1971': {'label': 'number of children',\n",
       "  'description': 'number of children of the person',\n",
       "  'type': 'property'}}"
      ]
     },
     "execution_count": 104,
     "metadata": {},
     "output_type": "execute_result"
    }
   ],
   "source": [
    "results = identifier_lookup('children', entity_type='property')\n",
    "results"
   ]
  },
  {
   "cell_type": "markdown",
   "id": "faf8ad64",
   "metadata": {},
   "source": [
    "## Tool 4 - extract entity & property keywords"
   ]
  },
  {
   "cell_type": "code",
   "execution_count": 59,
   "id": "f8c19093",
   "metadata": {},
   "outputs": [],
   "source": [
    "template = \"\"\"\n",
    "You are an ontologist and your job is to identify keywords related to entities and properties for a given question.\n",
    "Format: {{ \"entities\": [\"<entity_1>\", ...], \"properties\": [\"<property_1>\", ...] }} \n",
    "Note that all nouns should be singular and verbs in the present tense.\n",
    "\n",
    "Example: \n",
    "\n",
    "Question: \"Can you retrieve the title of all the journal articles published in Webology in 2021?\" \n",
    "{{ \"entities\": [\"journal article\", \"journal\"], \"properties\": [\"title\", \"publication date\"] }}\n",
    "\n",
    "Question: {question}\n",
    "\"\"\""
   ]
  },
  {
   "cell_type": "code",
   "execution_count": 60,
   "id": "0344e369",
   "metadata": {},
   "outputs": [],
   "source": [
    "tool_name = 'ExtractKeywords'\n",
    "tool_desc = 'Useful for extracting entity and property keywords based on a question. Input to tool should be a question.'\n",
    "model_name = \"gpt-4\"\n",
    "temperature = 0.8\n",
    "max_tokens = 1500\n",
    "\n",
    "prompt_template = PromptTemplate(input_variables=['question'], template=template)\n",
    "\n",
    "OPENAI_API_KEY = os.getenv(\"OPENAI_API_KEY\")\n",
    "        \n",
    "# initiate llm\n",
    "llm = ChatOpenAI(\n",
    "        model_name=model_name,\n",
    "        temperature=temperature,\n",
    "        max_tokens=max_tokens,\n",
    "        openai_api_key=OPENAI_API_KEY,\n",
    "\n",
    "    )\n",
    "        \n",
    "        \n",
    "        \n",
    "llm_chain = LLMChain(llm=llm, prompt=prompt_template)\n",
    "        \n",
    "tool_extract_keywords = [\n",
    "    Tool(\n",
    "        func=llm_chain,\n",
    "        description=tool_desc,\n",
    "        name=tool_name,\n",
    "    )]"
   ]
  },
  {
   "cell_type": "code",
   "execution_count": 61,
   "id": "80a46bb3",
   "metadata": {},
   "outputs": [
    {
     "data": {
      "text/plain": [
       "{'question': 'What are the compounds present in Mouse-ear cress (Arabidopsis thaliana) or its child taxa?',\n",
       " 'text': '{ \"entities\": [\"compound\", \"Mouse-ear cress\", \"Arabidopsis thaliana\", \"child taxa\"], \"properties\": [\"presence\"] }'}"
      ]
     },
     "execution_count": 61,
     "metadata": {},
     "output_type": "execute_result"
    }
   ],
   "source": [
    "llm_chain('What are the compounds present in Mouse-ear cress (Arabidopsis thaliana) or its child taxa?')"
   ]
  },
  {
   "cell_type": "markdown",
   "id": "8bab03fb",
   "metadata": {},
   "source": [
    "## Tool 5 - run SPARQL query"
   ]
  },
  {
   "cell_type": "code",
   "execution_count": 50,
   "id": "81ba9e51",
   "metadata": {},
   "outputs": [],
   "source": [
    "import sys\n",
    "from SPARQLWrapper import SPARQLWrapper, JSON\n",
    "\n",
    "endpoint_url = \"https://query.wikidata.org/sparql\"\n",
    "user_agent = \"SPARQL_AI/%s.%s\" % (sys.version_info[0], sys.version_info[1])\n",
    "\n",
    "\n",
    "def run_sparql(query, \n",
    "               url='https://query.wikidata.org/sparql', \n",
    "               wikidata_user_agent = \"SPARQL_AI/%s.%s\" % (sys.version_info[0], sys.version_info[1])):\n",
    "    sparql = SPARQLWrapper(url, agent=wikidata_user_agent)\n",
    "    sparql.setQuery(query)\n",
    "    sparql.setReturnFormat(JSON)\n",
    "    results = nested_value(sparql.query().convert(), ['results', 'bindings'])\n",
    "    return results\n",
    "\n",
    "run_sparql_tool = Tool(\n",
    "        name = \"SparqlQueryRunner\",\n",
    "        func=run_sparql,\n",
    "        description=\"Useful to run Sparql queries after keywords have been extracted and identifiers have been found.\"\n",
    "    )    "
   ]
  },
  {
   "cell_type": "markdown",
   "id": "7cc5be51",
   "metadata": {},
   "source": [
    "## Tool 6 - evaluate results"
   ]
  },
  {
   "cell_type": "markdown",
   "id": "b403c727",
   "metadata": {},
   "source": [
    "## Tool 7 - visualize results\n",
    "\n",
    "https://pypi.org/project/VizKG/"
   ]
  },
  {
   "cell_type": "code",
   "execution_count": 157,
   "id": "660e2de9",
   "metadata": {},
   "outputs": [],
   "source": [
    "import matplotlib.pyplot as plt\n",
    "import networkx as nx\n",
    "from SPARQLWrapper import SPARQLWrapper, JSON\n",
    "\n",
    "# Set your SPARQL endpoint here\n",
    "\n",
    "def query_and_graph(query, viz=True):\n",
    "    endpoint_url = \"https://query.wikidata.org/sparql\"\n",
    "    sparql = SPARQLWrapper(endpoint_url)\n",
    "\n",
    "    # Your SPARQL query\n",
    "    sparql.setQuery(query)\n",
    "\n",
    "    sparql.setReturnFormat(JSON)\n",
    "    results = sparql.query().convert()\n",
    "    \n",
    "    if viz:\n",
    "\n",
    "        # Create a directed graph\n",
    "        G = nx.DiGraph()\n",
    "        variables = results['head']['vars']\n",
    "        \n",
    "        edge_labels = {}\n",
    "\n",
    "        for result in results[\"results\"][\"bindings\"]:\n",
    "            \n",
    "            subj = result[variables[0]][\"value\"]\n",
    "            obj = result[variables[2]][\"value\"]\n",
    "\n",
    "            # Add an edge to the graph\n",
    "            G.add_edge(subj, obj)\n",
    "            edge_labels[(subj, obj)] = result[variables[1]][\"value\"]\n",
    "\n",
    "        # Draw the graph\n",
    "        plt.figure(figsize=(10, 10))\n",
    "        pos = nx.spring_layout(G)  # positions for all nodes\n",
    "\n",
    "        # nodes\n",
    "        nx.draw_networkx_nodes(G, pos, node_size=500)\n",
    "        # edges\n",
    "        nx.draw_networkx_edges(G, pos, edgelist=G.edges(), edge_color='black')\n",
    "        # labels\n",
    "        nx.draw_networkx_labels(G, pos, font_size=10, font_family='sans-serif')\n",
    "        nx.draw_networkx_edge_labels(G, pos, edge_labels = edge_labels)\n",
    "        plt.axis('off')\n",
    "        plt.show()\n",
    "    \n",
    "    return results\n"
   ]
  },
  {
   "cell_type": "code",
   "execution_count": 158,
   "id": "454f6ed5",
   "metadata": {},
   "outputs": [],
   "source": [
    "test_query1 = \"\"\"\n",
    "SELECT ?countryLabel ('has_capital' as ?relation) ?capitalLabel WHERE {\n",
    "  ?country wdt:P31 wd:Q3624078;        # Country is instance of sovereign state\n",
    "          wdt:P30 wd:Q46;              # Country is in Europe\n",
    "          wdt:P36 ?capital.            # Capital\n",
    "  SERVICE wikibase:label { bd:serviceParam wikibase:language \"[AUTO_LANGUAGE],en\". }\n",
    "}\n",
    "LIMIT 10\n",
    "\"\"\"\n",
    "\n",
    "test_query2 = \"\"\"\n",
    "PREFIX wd: <http://www.wikidata.org/entity/>\n",
    "CONSTRUCT {?laureateLabel wdt:P166 ?awardLabel . \n",
    "           ?laureateLabel ?propLabel ?awardLabel\n",
    "            } WHERE {\n",
    "  ?award wdt:P31 wd:Q7191;             # Instance of Nobel Prize\n",
    "         ps:P166 wd:Q38104;           # Award received is Nobel Prize in Physics\n",
    "         wdt:P585 ?date.               # Point in time\n",
    "  ?laureate p:P166 ?award.\n",
    "  ?laureate ?prop ?value\n",
    "  BIND(year(?date) AS ?year)\n",
    "  FILTER(?year = 2020)\n",
    "  SERVICE wikibase:label { bd:serviceParam wikibase:language \"[AUTO_LANGUAGE],en\". }\n",
    "}\n",
    "LIMIT 100\n",
    "\"\"\"\n",
    "\n",
    "test_query3 = \"\"\"\n",
    "PREFIX wd: <http://www.wikidata.org/entity/>\n",
    "PREFIX wdt: <http://www.wikidata.org/prop/direct/>\n",
    "CONSTRUCT {?book wdt:P50 wd:Q34660} WHERE {\n",
    "  ?book wdt:P50 wd:Q34660.             # J.K. Rowling is author of the book\n",
    "  SERVICE wikibase:label { bd:serviceParam wikibase:language \"[AUTO_LANGUAGE],en\". }\n",
    "}\n",
    "\"\"\"\n",
    "\n",
    "test_query4 = \"\"\"\n",
    "CONSTRUCT {?child wdt:P569 ?birthYear.\n",
    "            wd:Q1339 wdt:P40 ?child }\n",
    "WHERE {\n",
    "  wd:Q1339 wdt:P40 ?child. # Johann Sebastian Bach's children\n",
    "  ?child wdt:P569 ?dob. # Date of birth\n",
    "  BIND(year(?dob) AS ?birthYear)\n",
    "  SERVICE wikibase:label { bd:serviceParam wikibase:language \"[AUTO_LANGUAGE],en\". }\n",
    "}\n",
    "ORDER BY ?birthYear\n",
    "\"\"\""
   ]
  },
  {
   "cell_type": "code",
   "execution_count": 160,
   "id": "268d05a4",
   "metadata": {},
   "outputs": [
    {
     "name": "stdout",
     "output_type": "stream",
     "text": [
      "You haven’t selected the chart type for your query result visualization.\n",
      "Based on your query result data, we suggest to choose one of the following chart type: ['dimensions', 'wordcloud', 'treemap', 'sunburstchart', 'table']\n",
      "\n",
      "We show below two of them ('dimensions', 'table') as illustrations: \n"
     ]
    },
    {
     "data": {
      "application/vnd.plotly.v1+json": {
       "config": {
        "plotlyServerURL": "https://plot.ly"
       },
       "data": [
        {
         "link": {
          "source": [
           0,
           1,
           2,
           3,
           4,
           5,
           6,
           7,
           8,
           9,
           10,
           11,
           12,
           13,
           14,
           15,
           16,
           7,
           18,
           19
          ],
          "target": [
           10,
           11,
           12,
           13,
           14,
           15,
           16,
           17,
           18,
           19,
           20,
           20,
           20,
           20,
           20,
           20,
           20,
           20,
           20,
           20
          ],
          "value": [
           1,
           1,
           1,
           1,
           1,
           1,
           1,
           1,
           1,
           1,
           1,
           1,
           1,
           1,
           1,
           1,
           1,
           1,
           1,
           1
          ]
         },
         "node": {
          "label": [
           "Kingdom of the Netherlands",
           "Kingdom of Denmark",
           "Norway",
           "Republic of Ireland",
           "Hungary",
           "Spain",
           "Belgium",
           "Luxembourg",
           "Finland",
           "Sweden",
           "Amsterdam",
           "Copenhagen",
           "Oslo",
           "Dublin",
           "Budapest",
           "Madrid",
           "City of Brussels",
           "Luxembourg",
           "Helsinki",
           "Stockholm",
           "has_capital",
           "has_capital",
           "has_capital",
           "has_capital",
           "has_capital",
           "has_capital",
           "has_capital",
           "has_capital",
           "has_capital",
           "has_capital"
          ]
         },
         "type": "sankey"
        }
       ],
       "layout": {
        "template": {
         "data": {
          "bar": [
           {
            "error_x": {
             "color": "#2a3f5f"
            },
            "error_y": {
             "color": "#2a3f5f"
            },
            "marker": {
             "line": {
              "color": "#E5ECF6",
              "width": 0.5
             }
            },
            "type": "bar"
           }
          ],
          "barpolar": [
           {
            "marker": {
             "line": {
              "color": "#E5ECF6",
              "width": 0.5
             }
            },
            "type": "barpolar"
           }
          ],
          "carpet": [
           {
            "aaxis": {
             "endlinecolor": "#2a3f5f",
             "gridcolor": "white",
             "linecolor": "white",
             "minorgridcolor": "white",
             "startlinecolor": "#2a3f5f"
            },
            "baxis": {
             "endlinecolor": "#2a3f5f",
             "gridcolor": "white",
             "linecolor": "white",
             "minorgridcolor": "white",
             "startlinecolor": "#2a3f5f"
            },
            "type": "carpet"
           }
          ],
          "choropleth": [
           {
            "colorbar": {
             "outlinewidth": 0,
             "ticks": ""
            },
            "type": "choropleth"
           }
          ],
          "contour": [
           {
            "colorbar": {
             "outlinewidth": 0,
             "ticks": ""
            },
            "colorscale": [
             [
              0,
              "#0d0887"
             ],
             [
              0.1111111111111111,
              "#46039f"
             ],
             [
              0.2222222222222222,
              "#7201a8"
             ],
             [
              0.3333333333333333,
              "#9c179e"
             ],
             [
              0.4444444444444444,
              "#bd3786"
             ],
             [
              0.5555555555555556,
              "#d8576b"
             ],
             [
              0.6666666666666666,
              "#ed7953"
             ],
             [
              0.7777777777777778,
              "#fb9f3a"
             ],
             [
              0.8888888888888888,
              "#fdca26"
             ],
             [
              1,
              "#f0f921"
             ]
            ],
            "type": "contour"
           }
          ],
          "contourcarpet": [
           {
            "colorbar": {
             "outlinewidth": 0,
             "ticks": ""
            },
            "type": "contourcarpet"
           }
          ],
          "heatmap": [
           {
            "colorbar": {
             "outlinewidth": 0,
             "ticks": ""
            },
            "colorscale": [
             [
              0,
              "#0d0887"
             ],
             [
              0.1111111111111111,
              "#46039f"
             ],
             [
              0.2222222222222222,
              "#7201a8"
             ],
             [
              0.3333333333333333,
              "#9c179e"
             ],
             [
              0.4444444444444444,
              "#bd3786"
             ],
             [
              0.5555555555555556,
              "#d8576b"
             ],
             [
              0.6666666666666666,
              "#ed7953"
             ],
             [
              0.7777777777777778,
              "#fb9f3a"
             ],
             [
              0.8888888888888888,
              "#fdca26"
             ],
             [
              1,
              "#f0f921"
             ]
            ],
            "type": "heatmap"
           }
          ],
          "heatmapgl": [
           {
            "colorbar": {
             "outlinewidth": 0,
             "ticks": ""
            },
            "colorscale": [
             [
              0,
              "#0d0887"
             ],
             [
              0.1111111111111111,
              "#46039f"
             ],
             [
              0.2222222222222222,
              "#7201a8"
             ],
             [
              0.3333333333333333,
              "#9c179e"
             ],
             [
              0.4444444444444444,
              "#bd3786"
             ],
             [
              0.5555555555555556,
              "#d8576b"
             ],
             [
              0.6666666666666666,
              "#ed7953"
             ],
             [
              0.7777777777777778,
              "#fb9f3a"
             ],
             [
              0.8888888888888888,
              "#fdca26"
             ],
             [
              1,
              "#f0f921"
             ]
            ],
            "type": "heatmapgl"
           }
          ],
          "histogram": [
           {
            "marker": {
             "colorbar": {
              "outlinewidth": 0,
              "ticks": ""
             }
            },
            "type": "histogram"
           }
          ],
          "histogram2d": [
           {
            "colorbar": {
             "outlinewidth": 0,
             "ticks": ""
            },
            "colorscale": [
             [
              0,
              "#0d0887"
             ],
             [
              0.1111111111111111,
              "#46039f"
             ],
             [
              0.2222222222222222,
              "#7201a8"
             ],
             [
              0.3333333333333333,
              "#9c179e"
             ],
             [
              0.4444444444444444,
              "#bd3786"
             ],
             [
              0.5555555555555556,
              "#d8576b"
             ],
             [
              0.6666666666666666,
              "#ed7953"
             ],
             [
              0.7777777777777778,
              "#fb9f3a"
             ],
             [
              0.8888888888888888,
              "#fdca26"
             ],
             [
              1,
              "#f0f921"
             ]
            ],
            "type": "histogram2d"
           }
          ],
          "histogram2dcontour": [
           {
            "colorbar": {
             "outlinewidth": 0,
             "ticks": ""
            },
            "colorscale": [
             [
              0,
              "#0d0887"
             ],
             [
              0.1111111111111111,
              "#46039f"
             ],
             [
              0.2222222222222222,
              "#7201a8"
             ],
             [
              0.3333333333333333,
              "#9c179e"
             ],
             [
              0.4444444444444444,
              "#bd3786"
             ],
             [
              0.5555555555555556,
              "#d8576b"
             ],
             [
              0.6666666666666666,
              "#ed7953"
             ],
             [
              0.7777777777777778,
              "#fb9f3a"
             ],
             [
              0.8888888888888888,
              "#fdca26"
             ],
             [
              1,
              "#f0f921"
             ]
            ],
            "type": "histogram2dcontour"
           }
          ],
          "mesh3d": [
           {
            "colorbar": {
             "outlinewidth": 0,
             "ticks": ""
            },
            "type": "mesh3d"
           }
          ],
          "parcoords": [
           {
            "line": {
             "colorbar": {
              "outlinewidth": 0,
              "ticks": ""
             }
            },
            "type": "parcoords"
           }
          ],
          "pie": [
           {
            "automargin": true,
            "type": "pie"
           }
          ],
          "scatter": [
           {
            "marker": {
             "colorbar": {
              "outlinewidth": 0,
              "ticks": ""
             }
            },
            "type": "scatter"
           }
          ],
          "scatter3d": [
           {
            "line": {
             "colorbar": {
              "outlinewidth": 0,
              "ticks": ""
             }
            },
            "marker": {
             "colorbar": {
              "outlinewidth": 0,
              "ticks": ""
             }
            },
            "type": "scatter3d"
           }
          ],
          "scattercarpet": [
           {
            "marker": {
             "colorbar": {
              "outlinewidth": 0,
              "ticks": ""
             }
            },
            "type": "scattercarpet"
           }
          ],
          "scattergeo": [
           {
            "marker": {
             "colorbar": {
              "outlinewidth": 0,
              "ticks": ""
             }
            },
            "type": "scattergeo"
           }
          ],
          "scattergl": [
           {
            "marker": {
             "colorbar": {
              "outlinewidth": 0,
              "ticks": ""
             }
            },
            "type": "scattergl"
           }
          ],
          "scattermapbox": [
           {
            "marker": {
             "colorbar": {
              "outlinewidth": 0,
              "ticks": ""
             }
            },
            "type": "scattermapbox"
           }
          ],
          "scatterpolar": [
           {
            "marker": {
             "colorbar": {
              "outlinewidth": 0,
              "ticks": ""
             }
            },
            "type": "scatterpolar"
           }
          ],
          "scatterpolargl": [
           {
            "marker": {
             "colorbar": {
              "outlinewidth": 0,
              "ticks": ""
             }
            },
            "type": "scatterpolargl"
           }
          ],
          "scatterternary": [
           {
            "marker": {
             "colorbar": {
              "outlinewidth": 0,
              "ticks": ""
             }
            },
            "type": "scatterternary"
           }
          ],
          "surface": [
           {
            "colorbar": {
             "outlinewidth": 0,
             "ticks": ""
            },
            "colorscale": [
             [
              0,
              "#0d0887"
             ],
             [
              0.1111111111111111,
              "#46039f"
             ],
             [
              0.2222222222222222,
              "#7201a8"
             ],
             [
              0.3333333333333333,
              "#9c179e"
             ],
             [
              0.4444444444444444,
              "#bd3786"
             ],
             [
              0.5555555555555556,
              "#d8576b"
             ],
             [
              0.6666666666666666,
              "#ed7953"
             ],
             [
              0.7777777777777778,
              "#fb9f3a"
             ],
             [
              0.8888888888888888,
              "#fdca26"
             ],
             [
              1,
              "#f0f921"
             ]
            ],
            "type": "surface"
           }
          ],
          "table": [
           {
            "cells": {
             "fill": {
              "color": "#EBF0F8"
             },
             "line": {
              "color": "white"
             }
            },
            "header": {
             "fill": {
              "color": "#C8D4E3"
             },
             "line": {
              "color": "white"
             }
            },
            "type": "table"
           }
          ]
         },
         "layout": {
          "annotationdefaults": {
           "arrowcolor": "#2a3f5f",
           "arrowhead": 0,
           "arrowwidth": 1
          },
          "autotypenumbers": "strict",
          "coloraxis": {
           "colorbar": {
            "outlinewidth": 0,
            "ticks": ""
           }
          },
          "colorscale": {
           "diverging": [
            [
             0,
             "#8e0152"
            ],
            [
             0.1,
             "#c51b7d"
            ],
            [
             0.2,
             "#de77ae"
            ],
            [
             0.3,
             "#f1b6da"
            ],
            [
             0.4,
             "#fde0ef"
            ],
            [
             0.5,
             "#f7f7f7"
            ],
            [
             0.6,
             "#e6f5d0"
            ],
            [
             0.7,
             "#b8e186"
            ],
            [
             0.8,
             "#7fbc41"
            ],
            [
             0.9,
             "#4d9221"
            ],
            [
             1,
             "#276419"
            ]
           ],
           "sequential": [
            [
             0,
             "#0d0887"
            ],
            [
             0.1111111111111111,
             "#46039f"
            ],
            [
             0.2222222222222222,
             "#7201a8"
            ],
            [
             0.3333333333333333,
             "#9c179e"
            ],
            [
             0.4444444444444444,
             "#bd3786"
            ],
            [
             0.5555555555555556,
             "#d8576b"
            ],
            [
             0.6666666666666666,
             "#ed7953"
            ],
            [
             0.7777777777777778,
             "#fb9f3a"
            ],
            [
             0.8888888888888888,
             "#fdca26"
            ],
            [
             1,
             "#f0f921"
            ]
           ],
           "sequentialminus": [
            [
             0,
             "#0d0887"
            ],
            [
             0.1111111111111111,
             "#46039f"
            ],
            [
             0.2222222222222222,
             "#7201a8"
            ],
            [
             0.3333333333333333,
             "#9c179e"
            ],
            [
             0.4444444444444444,
             "#bd3786"
            ],
            [
             0.5555555555555556,
             "#d8576b"
            ],
            [
             0.6666666666666666,
             "#ed7953"
            ],
            [
             0.7777777777777778,
             "#fb9f3a"
            ],
            [
             0.8888888888888888,
             "#fdca26"
            ],
            [
             1,
             "#f0f921"
            ]
           ]
          },
          "colorway": [
           "#636efa",
           "#EF553B",
           "#00cc96",
           "#ab63fa",
           "#FFA15A",
           "#19d3f3",
           "#FF6692",
           "#B6E880",
           "#FF97FF",
           "#FECB52"
          ],
          "font": {
           "color": "#2a3f5f"
          },
          "geo": {
           "bgcolor": "white",
           "lakecolor": "white",
           "landcolor": "#E5ECF6",
           "showlakes": true,
           "showland": true,
           "subunitcolor": "white"
          },
          "hoverlabel": {
           "align": "left"
          },
          "hovermode": "closest",
          "mapbox": {
           "style": "light"
          },
          "paper_bgcolor": "white",
          "plot_bgcolor": "#E5ECF6",
          "polar": {
           "angularaxis": {
            "gridcolor": "white",
            "linecolor": "white",
            "ticks": ""
           },
           "bgcolor": "#E5ECF6",
           "radialaxis": {
            "gridcolor": "white",
            "linecolor": "white",
            "ticks": ""
           }
          },
          "scene": {
           "xaxis": {
            "backgroundcolor": "#E5ECF6",
            "gridcolor": "white",
            "gridwidth": 2,
            "linecolor": "white",
            "showbackground": true,
            "ticks": "",
            "zerolinecolor": "white"
           },
           "yaxis": {
            "backgroundcolor": "#E5ECF6",
            "gridcolor": "white",
            "gridwidth": 2,
            "linecolor": "white",
            "showbackground": true,
            "ticks": "",
            "zerolinecolor": "white"
           },
           "zaxis": {
            "backgroundcolor": "#E5ECF6",
            "gridcolor": "white",
            "gridwidth": 2,
            "linecolor": "white",
            "showbackground": true,
            "ticks": "",
            "zerolinecolor": "white"
           }
          },
          "shapedefaults": {
           "line": {
            "color": "#2a3f5f"
           }
          },
          "ternary": {
           "aaxis": {
            "gridcolor": "white",
            "linecolor": "white",
            "ticks": ""
           },
           "baxis": {
            "gridcolor": "white",
            "linecolor": "white",
            "ticks": ""
           },
           "bgcolor": "#E5ECF6",
           "caxis": {
            "gridcolor": "white",
            "linecolor": "white",
            "ticks": ""
           }
          },
          "title": {
           "x": 0.05
          },
          "xaxis": {
           "automargin": true,
           "gridcolor": "white",
           "linecolor": "white",
           "ticks": "",
           "title": {
            "standoff": 15
           },
           "zerolinecolor": "white",
           "zerolinewidth": 2
          },
          "yaxis": {
           "automargin": true,
           "gridcolor": "white",
           "linecolor": "white",
           "ticks": "",
           "title": {
            "standoff": 15
           },
           "zerolinecolor": "white",
           "zerolinewidth": 2
          }
         }
        }
       }
      },
      "text/html": [
       "<div>                            <div id=\"325b4f11-537a-4eaa-8708-ca5f448d8d80\" class=\"plotly-graph-div\" style=\"height:525px; width:100%;\"></div>            <script type=\"text/javascript\">                require([\"plotly\"], function(Plotly) {                    window.PLOTLYENV=window.PLOTLYENV || {};                                    if (document.getElementById(\"325b4f11-537a-4eaa-8708-ca5f448d8d80\")) {                    Plotly.newPlot(                        \"325b4f11-537a-4eaa-8708-ca5f448d8d80\",                        [{\"link\": {\"source\": [0, 1, 2, 3, 4, 5, 6, 7, 8, 9, 10, 11, 12, 13, 14, 15, 16, 7, 18, 19], \"target\": [10, 11, 12, 13, 14, 15, 16, 17, 18, 19, 20, 20, 20, 20, 20, 20, 20, 20, 20, 20], \"value\": [1, 1, 1, 1, 1, 1, 1, 1, 1, 1, 1, 1, 1, 1, 1, 1, 1, 1, 1, 1]}, \"node\": {\"label\": [\"Kingdom of the Netherlands\", \"Kingdom of Denmark\", \"Norway\", \"Republic of Ireland\", \"Hungary\", \"Spain\", \"Belgium\", \"Luxembourg\", \"Finland\", \"Sweden\", \"Amsterdam\", \"Copenhagen\", \"Oslo\", \"Dublin\", \"Budapest\", \"Madrid\", \"City of Brussels\", \"Luxembourg\", \"Helsinki\", \"Stockholm\", \"has_capital\", \"has_capital\", \"has_capital\", \"has_capital\", \"has_capital\", \"has_capital\", \"has_capital\", \"has_capital\", \"has_capital\", \"has_capital\"]}, \"type\": \"sankey\"}],                        {\"template\": {\"data\": {\"bar\": [{\"error_x\": {\"color\": \"#2a3f5f\"}, \"error_y\": {\"color\": \"#2a3f5f\"}, \"marker\": {\"line\": {\"color\": \"#E5ECF6\", \"width\": 0.5}}, \"type\": \"bar\"}], \"barpolar\": [{\"marker\": {\"line\": {\"color\": \"#E5ECF6\", \"width\": 0.5}}, \"type\": \"barpolar\"}], \"carpet\": [{\"aaxis\": {\"endlinecolor\": \"#2a3f5f\", \"gridcolor\": \"white\", \"linecolor\": \"white\", \"minorgridcolor\": \"white\", \"startlinecolor\": \"#2a3f5f\"}, \"baxis\": {\"endlinecolor\": \"#2a3f5f\", \"gridcolor\": \"white\", \"linecolor\": \"white\", \"minorgridcolor\": \"white\", \"startlinecolor\": \"#2a3f5f\"}, \"type\": \"carpet\"}], \"choropleth\": [{\"colorbar\": {\"outlinewidth\": 0, \"ticks\": \"\"}, \"type\": \"choropleth\"}], \"contour\": [{\"colorbar\": {\"outlinewidth\": 0, \"ticks\": \"\"}, \"colorscale\": [[0.0, \"#0d0887\"], [0.1111111111111111, \"#46039f\"], [0.2222222222222222, \"#7201a8\"], [0.3333333333333333, \"#9c179e\"], [0.4444444444444444, \"#bd3786\"], [0.5555555555555556, \"#d8576b\"], [0.6666666666666666, \"#ed7953\"], [0.7777777777777778, \"#fb9f3a\"], [0.8888888888888888, \"#fdca26\"], [1.0, \"#f0f921\"]], \"type\": \"contour\"}], \"contourcarpet\": [{\"colorbar\": {\"outlinewidth\": 0, \"ticks\": \"\"}, \"type\": \"contourcarpet\"}], \"heatmap\": [{\"colorbar\": {\"outlinewidth\": 0, \"ticks\": \"\"}, \"colorscale\": [[0.0, \"#0d0887\"], [0.1111111111111111, \"#46039f\"], [0.2222222222222222, \"#7201a8\"], [0.3333333333333333, \"#9c179e\"], [0.4444444444444444, \"#bd3786\"], [0.5555555555555556, \"#d8576b\"], [0.6666666666666666, \"#ed7953\"], [0.7777777777777778, \"#fb9f3a\"], [0.8888888888888888, \"#fdca26\"], [1.0, \"#f0f921\"]], \"type\": \"heatmap\"}], \"heatmapgl\": [{\"colorbar\": {\"outlinewidth\": 0, \"ticks\": \"\"}, \"colorscale\": [[0.0, \"#0d0887\"], [0.1111111111111111, \"#46039f\"], [0.2222222222222222, \"#7201a8\"], [0.3333333333333333, \"#9c179e\"], [0.4444444444444444, \"#bd3786\"], [0.5555555555555556, \"#d8576b\"], [0.6666666666666666, \"#ed7953\"], [0.7777777777777778, \"#fb9f3a\"], [0.8888888888888888, \"#fdca26\"], [1.0, \"#f0f921\"]], \"type\": \"heatmapgl\"}], \"histogram\": [{\"marker\": {\"colorbar\": {\"outlinewidth\": 0, \"ticks\": \"\"}}, \"type\": \"histogram\"}], \"histogram2d\": [{\"colorbar\": {\"outlinewidth\": 0, \"ticks\": \"\"}, \"colorscale\": [[0.0, \"#0d0887\"], [0.1111111111111111, \"#46039f\"], [0.2222222222222222, \"#7201a8\"], [0.3333333333333333, \"#9c179e\"], [0.4444444444444444, \"#bd3786\"], [0.5555555555555556, \"#d8576b\"], [0.6666666666666666, \"#ed7953\"], [0.7777777777777778, \"#fb9f3a\"], [0.8888888888888888, \"#fdca26\"], [1.0, \"#f0f921\"]], \"type\": \"histogram2d\"}], \"histogram2dcontour\": [{\"colorbar\": {\"outlinewidth\": 0, \"ticks\": \"\"}, \"colorscale\": [[0.0, \"#0d0887\"], [0.1111111111111111, \"#46039f\"], [0.2222222222222222, \"#7201a8\"], [0.3333333333333333, \"#9c179e\"], [0.4444444444444444, \"#bd3786\"], [0.5555555555555556, \"#d8576b\"], [0.6666666666666666, \"#ed7953\"], [0.7777777777777778, \"#fb9f3a\"], [0.8888888888888888, \"#fdca26\"], [1.0, \"#f0f921\"]], \"type\": \"histogram2dcontour\"}], \"mesh3d\": [{\"colorbar\": {\"outlinewidth\": 0, \"ticks\": \"\"}, \"type\": \"mesh3d\"}], \"parcoords\": [{\"line\": {\"colorbar\": {\"outlinewidth\": 0, \"ticks\": \"\"}}, \"type\": \"parcoords\"}], \"pie\": [{\"automargin\": true, \"type\": \"pie\"}], \"scatter\": [{\"marker\": {\"colorbar\": {\"outlinewidth\": 0, \"ticks\": \"\"}}, \"type\": \"scatter\"}], \"scatter3d\": [{\"line\": {\"colorbar\": {\"outlinewidth\": 0, \"ticks\": \"\"}}, \"marker\": {\"colorbar\": {\"outlinewidth\": 0, \"ticks\": \"\"}}, \"type\": \"scatter3d\"}], \"scattercarpet\": [{\"marker\": {\"colorbar\": {\"outlinewidth\": 0, \"ticks\": \"\"}}, \"type\": \"scattercarpet\"}], \"scattergeo\": [{\"marker\": {\"colorbar\": {\"outlinewidth\": 0, \"ticks\": \"\"}}, \"type\": \"scattergeo\"}], \"scattergl\": [{\"marker\": {\"colorbar\": {\"outlinewidth\": 0, \"ticks\": \"\"}}, \"type\": \"scattergl\"}], \"scattermapbox\": [{\"marker\": {\"colorbar\": {\"outlinewidth\": 0, \"ticks\": \"\"}}, \"type\": \"scattermapbox\"}], \"scatterpolar\": [{\"marker\": {\"colorbar\": {\"outlinewidth\": 0, \"ticks\": \"\"}}, \"type\": \"scatterpolar\"}], \"scatterpolargl\": [{\"marker\": {\"colorbar\": {\"outlinewidth\": 0, \"ticks\": \"\"}}, \"type\": \"scatterpolargl\"}], \"scatterternary\": [{\"marker\": {\"colorbar\": {\"outlinewidth\": 0, \"ticks\": \"\"}}, \"type\": \"scatterternary\"}], \"surface\": [{\"colorbar\": {\"outlinewidth\": 0, \"ticks\": \"\"}, \"colorscale\": [[0.0, \"#0d0887\"], [0.1111111111111111, \"#46039f\"], [0.2222222222222222, \"#7201a8\"], [0.3333333333333333, \"#9c179e\"], [0.4444444444444444, \"#bd3786\"], [0.5555555555555556, \"#d8576b\"], [0.6666666666666666, \"#ed7953\"], [0.7777777777777778, \"#fb9f3a\"], [0.8888888888888888, \"#fdca26\"], [1.0, \"#f0f921\"]], \"type\": \"surface\"}], \"table\": [{\"cells\": {\"fill\": {\"color\": \"#EBF0F8\"}, \"line\": {\"color\": \"white\"}}, \"header\": {\"fill\": {\"color\": \"#C8D4E3\"}, \"line\": {\"color\": \"white\"}}, \"type\": \"table\"}]}, \"layout\": {\"annotationdefaults\": {\"arrowcolor\": \"#2a3f5f\", \"arrowhead\": 0, \"arrowwidth\": 1}, \"autotypenumbers\": \"strict\", \"coloraxis\": {\"colorbar\": {\"outlinewidth\": 0, \"ticks\": \"\"}}, \"colorscale\": {\"diverging\": [[0, \"#8e0152\"], [0.1, \"#c51b7d\"], [0.2, \"#de77ae\"], [0.3, \"#f1b6da\"], [0.4, \"#fde0ef\"], [0.5, \"#f7f7f7\"], [0.6, \"#e6f5d0\"], [0.7, \"#b8e186\"], [0.8, \"#7fbc41\"], [0.9, \"#4d9221\"], [1, \"#276419\"]], \"sequential\": [[0.0, \"#0d0887\"], [0.1111111111111111, \"#46039f\"], [0.2222222222222222, \"#7201a8\"], [0.3333333333333333, \"#9c179e\"], [0.4444444444444444, \"#bd3786\"], [0.5555555555555556, \"#d8576b\"], [0.6666666666666666, \"#ed7953\"], [0.7777777777777778, \"#fb9f3a\"], [0.8888888888888888, \"#fdca26\"], [1.0, \"#f0f921\"]], \"sequentialminus\": [[0.0, \"#0d0887\"], [0.1111111111111111, \"#46039f\"], [0.2222222222222222, \"#7201a8\"], [0.3333333333333333, \"#9c179e\"], [0.4444444444444444, \"#bd3786\"], [0.5555555555555556, \"#d8576b\"], [0.6666666666666666, \"#ed7953\"], [0.7777777777777778, \"#fb9f3a\"], [0.8888888888888888, \"#fdca26\"], [1.0, \"#f0f921\"]]}, \"colorway\": [\"#636efa\", \"#EF553B\", \"#00cc96\", \"#ab63fa\", \"#FFA15A\", \"#19d3f3\", \"#FF6692\", \"#B6E880\", \"#FF97FF\", \"#FECB52\"], \"font\": {\"color\": \"#2a3f5f\"}, \"geo\": {\"bgcolor\": \"white\", \"lakecolor\": \"white\", \"landcolor\": \"#E5ECF6\", \"showlakes\": true, \"showland\": true, \"subunitcolor\": \"white\"}, \"hoverlabel\": {\"align\": \"left\"}, \"hovermode\": \"closest\", \"mapbox\": {\"style\": \"light\"}, \"paper_bgcolor\": \"white\", \"plot_bgcolor\": \"#E5ECF6\", \"polar\": {\"angularaxis\": {\"gridcolor\": \"white\", \"linecolor\": \"white\", \"ticks\": \"\"}, \"bgcolor\": \"#E5ECF6\", \"radialaxis\": {\"gridcolor\": \"white\", \"linecolor\": \"white\", \"ticks\": \"\"}}, \"scene\": {\"xaxis\": {\"backgroundcolor\": \"#E5ECF6\", \"gridcolor\": \"white\", \"gridwidth\": 2, \"linecolor\": \"white\", \"showbackground\": true, \"ticks\": \"\", \"zerolinecolor\": \"white\"}, \"yaxis\": {\"backgroundcolor\": \"#E5ECF6\", \"gridcolor\": \"white\", \"gridwidth\": 2, \"linecolor\": \"white\", \"showbackground\": true, \"ticks\": \"\", \"zerolinecolor\": \"white\"}, \"zaxis\": {\"backgroundcolor\": \"#E5ECF6\", \"gridcolor\": \"white\", \"gridwidth\": 2, \"linecolor\": \"white\", \"showbackground\": true, \"ticks\": \"\", \"zerolinecolor\": \"white\"}}, \"shapedefaults\": {\"line\": {\"color\": \"#2a3f5f\"}}, \"ternary\": {\"aaxis\": {\"gridcolor\": \"white\", \"linecolor\": \"white\", \"ticks\": \"\"}, \"baxis\": {\"gridcolor\": \"white\", \"linecolor\": \"white\", \"ticks\": \"\"}, \"bgcolor\": \"#E5ECF6\", \"caxis\": {\"gridcolor\": \"white\", \"linecolor\": \"white\", \"ticks\": \"\"}}, \"title\": {\"x\": 0.05}, \"xaxis\": {\"automargin\": true, \"gridcolor\": \"white\", \"linecolor\": \"white\", \"ticks\": \"\", \"title\": {\"standoff\": 15}, \"zerolinecolor\": \"white\", \"zerolinewidth\": 2}, \"yaxis\": {\"automargin\": true, \"gridcolor\": \"white\", \"linecolor\": \"white\", \"ticks\": \"\", \"title\": {\"standoff\": 15}, \"zerolinecolor\": \"white\", \"zerolinewidth\": 2}}}},                        {\"responsive\": true}                    ).then(function(){\n",
       "                            \n",
       "var gd = document.getElementById('325b4f11-537a-4eaa-8708-ca5f448d8d80');\n",
       "var x = new MutationObserver(function (mutations, observer) {{\n",
       "        var display = window.getComputedStyle(gd).display;\n",
       "        if (!display || display === 'none') {{\n",
       "            console.log([gd, 'removed!']);\n",
       "            Plotly.purge(gd);\n",
       "            observer.disconnect();\n",
       "        }}\n",
       "}});\n",
       "\n",
       "// Listen for the removal of the full notebook cells\n",
       "var notebookContainer = gd.closest('#notebook-container');\n",
       "if (notebookContainer) {{\n",
       "    x.observe(notebookContainer, {childList: true});\n",
       "}}\n",
       "\n",
       "// Listen for the clearing of the current output cell\n",
       "var outputEl = gd.closest('.output');\n",
       "if (outputEl) {{\n",
       "    x.observe(outputEl, {childList: true});\n",
       "}}\n",
       "\n",
       "                        })                };                });            </script>        </div>"
      ]
     },
     "metadata": {},
     "output_type": "display_data"
    },
    {
     "data": {
      "text/html": [
       "<div>\n",
       "<style scoped>\n",
       "    .dataframe tbody tr th:only-of-type {\n",
       "        vertical-align: middle;\n",
       "    }\n",
       "\n",
       "    .dataframe tbody tr th {\n",
       "        vertical-align: top;\n",
       "    }\n",
       "\n",
       "    .dataframe thead th {\n",
       "        text-align: right;\n",
       "    }\n",
       "</style>\n",
       "<table border=\"1\" class=\"dataframe\">\n",
       "  <thead>\n",
       "    <tr style=\"text-align: right;\">\n",
       "      <th></th>\n",
       "      <th>countryLabel</th>\n",
       "      <th>capitalLabel</th>\n",
       "      <th>relation</th>\n",
       "    </tr>\n",
       "  </thead>\n",
       "  <tbody>\n",
       "    <tr>\n",
       "      <th>0</th>\n",
       "      <td>Kingdom of the Netherlands</td>\n",
       "      <td>Amsterdam</td>\n",
       "      <td>has_capital</td>\n",
       "    </tr>\n",
       "    <tr>\n",
       "      <th>1</th>\n",
       "      <td>Kingdom of Denmark</td>\n",
       "      <td>Copenhagen</td>\n",
       "      <td>has_capital</td>\n",
       "    </tr>\n",
       "    <tr>\n",
       "      <th>2</th>\n",
       "      <td>Norway</td>\n",
       "      <td>Oslo</td>\n",
       "      <td>has_capital</td>\n",
       "    </tr>\n",
       "    <tr>\n",
       "      <th>3</th>\n",
       "      <td>Republic of Ireland</td>\n",
       "      <td>Dublin</td>\n",
       "      <td>has_capital</td>\n",
       "    </tr>\n",
       "    <tr>\n",
       "      <th>4</th>\n",
       "      <td>Hungary</td>\n",
       "      <td>Budapest</td>\n",
       "      <td>has_capital</td>\n",
       "    </tr>\n",
       "    <tr>\n",
       "      <th>5</th>\n",
       "      <td>Spain</td>\n",
       "      <td>Madrid</td>\n",
       "      <td>has_capital</td>\n",
       "    </tr>\n",
       "    <tr>\n",
       "      <th>6</th>\n",
       "      <td>Belgium</td>\n",
       "      <td>City of Brussels</td>\n",
       "      <td>has_capital</td>\n",
       "    </tr>\n",
       "    <tr>\n",
       "      <th>7</th>\n",
       "      <td>Luxembourg</td>\n",
       "      <td>Luxembourg</td>\n",
       "      <td>has_capital</td>\n",
       "    </tr>\n",
       "    <tr>\n",
       "      <th>8</th>\n",
       "      <td>Finland</td>\n",
       "      <td>Helsinki</td>\n",
       "      <td>has_capital</td>\n",
       "    </tr>\n",
       "    <tr>\n",
       "      <th>9</th>\n",
       "      <td>Sweden</td>\n",
       "      <td>Stockholm</td>\n",
       "      <td>has_capital</td>\n",
       "    </tr>\n",
       "  </tbody>\n",
       "</table>\n",
       "</div>"
      ],
      "text/plain": [
       "                 countryLabel      capitalLabel     relation\n",
       "0  Kingdom of the Netherlands         Amsterdam  has_capital\n",
       "1          Kingdom of Denmark        Copenhagen  has_capital\n",
       "2                      Norway              Oslo  has_capital\n",
       "3         Republic of Ireland            Dublin  has_capital\n",
       "4                     Hungary          Budapest  has_capital\n",
       "5                       Spain            Madrid  has_capital\n",
       "6                     Belgium  City of Brussels  has_capital\n",
       "7                  Luxembourg        Luxembourg  has_capital\n",
       "8                     Finland          Helsinki  has_capital\n",
       "9                      Sweden         Stockholm  has_capital"
      ]
     },
     "metadata": {},
     "output_type": "display_data"
    }
   ],
   "source": [
    "import VizKG.visualize as vkg\n",
    "\n",
    "endpoint_url = \"https://query.wikidata.org/sparql\"\n",
    "chart = vkg(sparql_query=test_query1, sparql_service_url=endpoint_url)\n",
    "chart.plot()"
   ]
  },
  {
   "cell_type": "code",
   "execution_count": 161,
   "id": "9e1e848a",
   "metadata": {},
   "outputs": [
    {
     "data": {
      "image/png": "[encoded data removed]",
      "text/plain": [
       "<Figure size 1000x1000 with 1 Axes>"
      ]
     },
     "metadata": {},
     "output_type": "display_data"
    }
   ],
   "source": [
    "results1 = query_and_graph(test_query1)"
   ]
  },
  {
   "cell_type": "code",
   "execution_count": null,
   "id": "ec7157ad",
   "metadata": {},
   "outputs": [],
   "source": [
    "results2 = query_and_graph(test_query3)"
   ]
  },
  {
   "cell_type": "code",
   "execution_count": null,
   "id": "f56e1b34",
   "metadata": {},
   "outputs": [],
   "source": [
    "results3 = query_and_graph(test_query4)"
   ]
  },
  {
   "cell_type": "markdown",
   "id": "f9c4c075",
   "metadata": {},
   "source": [
    "# Build Agent"
   ]
  },
  {
   "cell_type": "markdown",
   "id": "db8be45d",
   "metadata": {},
   "source": [
    "AgentType.OPENAI_FUNCTIONS doesn't work with the vectorDB + RetrievalQA model. "
   ]
  },
  {
   "cell_type": "code",
   "execution_count": 125,
   "id": "4f67f39c",
   "metadata": {},
   "outputs": [],
   "source": [
    "all_tools = tools_IDLookup  + tool_extract_keywords + [run_sparql_tool] #+ tool_sparql_template"
   ]
  },
  {
   "cell_type": "code",
   "execution_count": 126,
   "id": "04b09a0b",
   "metadata": {},
   "outputs": [],
   "source": [
    "general_template = \"\"\"\n",
    "You are trying to generate a SPARQL query based on a natural language question. \n",
    "Use the tools in the following order:\n",
    "1. ExtractKeywords\n",
    "2. IDAgent (for each item in the output of ExtractKeywords)\n",
    "3. Run SPARQL query\n",
    "\n",
    "\n",
    "Note:\n",
    "* Include LIMIT 50 in sparql query\n",
    "* If no identifiers found in ItemLookup try PropertyLookup\n",
    "* If no identifiers found in PropertyLookup try ItemLookup\n",
    "* DO NOT assume any q-numbers or p-numbers\n",
    "\n",
    "\n",
    "Question: {question}\n",
    "\"\"\"\n",
    "\n",
    "#3. SparqlQueryRunner (do NOT assume identifiers, must use ExtractKeywords and IdentifierLookup)"
   ]
  },
  {
   "cell_type": "code",
   "execution_count": 127,
   "id": "c9d0b70d",
   "metadata": {},
   "outputs": [],
   "source": [
    "prompt = PromptTemplate(\n",
    "    template=general_template,\n",
    "    input_variables=[\"question\"]\n",
    ")"
   ]
  },
  {
   "cell_type": "code",
   "execution_count": 128,
   "id": "c276edae",
   "metadata": {},
   "outputs": [],
   "source": [
    "llm = ChatOpenAI(temperature=0.8, model=\"gpt-4\")\n",
    "#llm_chain = LLMChain(llm=llm, prompt=prompt)\n",
    "agent = initialize_agent(all_tools, llm, agent=AgentType.OPENAI_FUNCTIONS, verbose = True)"
   ]
  },
  {
   "cell_type": "code",
   "execution_count": 129,
   "id": "38a71301",
   "metadata": {},
   "outputs": [
    {
     "name": "stdout",
     "output_type": "stream",
     "text": [
      "\n",
      "\n",
      "\u001b[1m> Entering new  chain...\u001b[0m\n",
      "\u001b[32;1m\u001b[1;3m\n",
      "Invoking: `ExtractKeywords` with `what policies have been proposed to address the issue of income inequality in the developing world?`\n",
      "\n",
      "\n",
      "\u001b[0m\u001b[38;5;200m\u001b[1;3m{'question': 'what policies have been proposed to address the issue of income inequality in the developing world?', 'text': '{ \"entities\": [\"policy\", \"issue\", \"income inequality\", \"developing world\"], \"properties\": [\"proposal\"] }'}\u001b[0m\u001b[32;1m\u001b[1;3m\n",
      "Invoking: `ItemLookup` with `policy`\n",
      "\n",
      "\n",
      "\u001b[0m\u001b[36;1m\u001b[1;3m{}\u001b[0m\u001b[32;1m\u001b[1;3m\n",
      "Invoking: `PropertyLookup` with `policy`\n",
      "\n",
      "\n",
      "\u001b[0m\u001b[33;1m\u001b[1;3m{}\u001b[0m\u001b[32;1m\u001b[1;3m\n",
      "Invoking: `ItemLookup` with `issue`\n",
      "\n",
      "\n",
      "\u001b[0m\u001b[36;1m\u001b[1;3m{}\u001b[0m\u001b[32;1m\u001b[1;3m\n",
      "Invoking: `PropertyLookup` with `issue`\n",
      "\n",
      "\n",
      "\u001b[0m\u001b[33;1m\u001b[1;3m{'P433': {'label': 'issue', 'description': 'issue of a newspaper, a scientific journal or magazine for reference purpose'}, 'P40': {'label': 'child', 'description': 'subject has object as child. Do not use for stepchildren—use \"relative\" (P1038), qualified with \"type of kinship\" (P1039)'}}\u001b[0m\u001b[32;1m\u001b[1;3m\n",
      "Invoking: `ItemLookup` with `income inequality`\n",
      "\n",
      "\n",
      "\u001b[0m\u001b[36;1m\u001b[1;3m{}\u001b[0m\u001b[32;1m\u001b[1;3m\n",
      "Invoking: `PropertyLookup` with `income inequality`\n",
      "\n",
      "\n",
      "\u001b[0m\u001b[33;1m\u001b[1;3m{}\u001b[0m\u001b[32;1m\u001b[1;3m\n",
      "Invoking: `ItemLookup` with `developing world`\n",
      "\n",
      "\n",
      "\u001b[0m\u001b[36;1m\u001b[1;3m{}\u001b[0m\u001b[32;1m\u001b[1;3m\n",
      "Invoking: `PropertyLookup` with `developing world`\n",
      "\n",
      "\n",
      "\u001b[0m\u001b[33;1m\u001b[1;3m{}\u001b[0m\u001b[32;1m\u001b[1;3m\n",
      "Invoking: `ItemLookup` with `proposal`\n",
      "\n",
      "\n",
      "\u001b[0m\u001b[36;1m\u001b[1;3m{}\u001b[0m\u001b[32;1m\u001b[1;3m\n",
      "Invoking: `PropertyLookup` with `proposal`\n",
      "\n",
      "\n",
      "\u001b[0m\u001b[33;1m\u001b[1;3m{'P3254': {'label': 'property proposal discussion', 'description': 'URL of the page (or page section) on which the creation of the property was discussed'}}\u001b[0m\u001b[32;1m\u001b[1;3mBased on the keywords extracted and the lookups performed, it appears that we were not able to find specific identifiers (q-numbers or p-numbers) for most of the keywords. Given that the question is inquiry about \"policies\" and \"proposals\" related to \"income inequality\" in the \"developing world\", it might not be feasible to generate a SPARQL query since the identifiers needed for such specific and contextual information are not available in the knowledge graph. It appears this question might be better suited for a text corpus or document database that contains detailed information on the specifics of policies and proposals.\u001b[0m\n",
      "\n",
      "\u001b[1m> Finished chain.\u001b[0m\n"
     ]
    },
    {
     "data": {
      "text/plain": [
       "'Based on the keywords extracted and the lookups performed, it appears that we were not able to find specific identifiers (q-numbers or p-numbers) for most of the keywords. Given that the question is inquiry about \"policies\" and \"proposals\" related to \"income inequality\" in the \"developing world\", it might not be feasible to generate a SPARQL query since the identifiers needed for such specific and contextual information are not available in the knowledge graph. It appears this question might be better suited for a text corpus or document database that contains detailed information on the specifics of policies and proposals.'"
      ]
     },
     "execution_count": 129,
     "metadata": {},
     "output_type": "execute_result"
    }
   ],
   "source": [
    "format_prompt = general_template.format(question='what policies have been proposed to address the issue of income inequality in the developing world?')\n",
    "agent.run(format_prompt)"
   ]
  },
  {
   "cell_type": "code",
   "execution_count": 74,
   "id": "986b271b",
   "metadata": {},
   "outputs": [
    {
     "name": "stdout",
     "output_type": "stream",
     "text": [
      "\n",
      "\n",
      "\u001b[1m> Entering new  chain...\u001b[0m\n",
      "\u001b[32;1m\u001b[1;3m\n",
      "Invoking: `ExtractKeywords` with `how many children does Bach have?`\n",
      "\n",
      "\n",
      "\u001b[0m\u001b[38;5;200m\u001b[1;3m{'question': 'how many children does Bach have?', 'text': '{ \"entities\": [\"Bach\", \"child\"], \"properties\": [\"quantity\"] }'}\u001b[0m\u001b[32;1m\u001b[1;3m\n",
      "Invoking: `ItemLookup` with `Bach`\n",
      "\n",
      "\n",
      "\u001b[0m\u001b[36;1m\u001b[1;3m[{'Q1339': {'label': 'Johann Sebastian Bach', 'description': 'German composer (1685–1750)'}}, {'Q1409748': {'label': 'Bach', 'description': 'family name'}}, {'Q936005': {'label': 'Bach', 'description': 'commune in Lot, France'}}, {'Q679998': {'label': 'Bach', 'description': 'municipality in Reutte District, Tyrol, Austria'}}, {'Q144189': {'label': '1814 Bach', 'description': 'main-belt asteroid discovered in 1931'}}, {'Q584238': {'label': 'BACH motif', 'description': 'Musical motif consisting of B flat, A, C, B natural, used by J. S. Bach and other composers'}}, {'Q1072625': {'label': 'Bach', 'description': 'crater on Mercury'}}, {'Q1861386': {'label': 'Bach', 'description': 'French actor and singer'}}, {'Q163727': {'label': \"bachelor's degree\", 'description': 'undergraduate academic degree lasting from three to seven years'}}, {'Q18036478': {'label': 'ACOT7', 'description': 'protein-coding gene in the species Homo sapiens'}}, {'Q6828338': {'label': 'Michael Bach', 'description': 'German botanist and entomologist (1808–1878)'}}, {'Q485369': {'label': 'Bäch', 'description': 'village in Schwyz, Switzerland'}}, {'Q55773643': {'label': 'Paul Bach', 'description': 'German painter (1866–1919)'}}, {'Q1765120': {'label': 'Bachelor of Arts', 'description': \"bachelor's degree awarded for undergraduate study in liberal arts, the sciences or both\"}}, {'Q24405115': {'label': 'Acot7', 'description': 'protein-coding gene in the species Rattus norvegicus'}}]\u001b[0m\u001b[32;1m\u001b[1;3m\n",
      "Invoking: `ItemLookup` with `child`\n",
      "\n",
      "\n",
      "\u001b[0m\u001b[36;1m\u001b[1;3m[{'Q7569': {'label': 'child', 'description': 'human between birth and puberty'}}, {'Q5097678': {'label': 'Child: Care, Health and Development', 'description': 'peer-reviewed public health journal'}}, {'Q10954511': {'label': 'Child', 'description': 'family name'}}, {'Q466024': {'label': 'The Child', 'description': '2005 film by Luc Dardenne, Jean-Pierre Dardenne'}}, {'Q29514218': {'label': 'child', 'description': 'first-degree relative, direct descendant of parent'}}, {'Q55786730': {'label': 'primary interstitial lung disease specific to childhood', 'description': 'human disease'}}, {'Q249722': {'label': '4580 Child', 'description': 'asteroid'}}, {'Q38404': {'label': 'autism', 'description': 'neurodevelopmental condition'}}, {'Q131539': {'label': \"children's literature\", 'description': 'stories, books, magazines, and poems that are primarily written for children'}}, {'Q186676': {'label': 'stuttering', 'description': 'Speech disorder in which the flow of speech is disrupted by involuntary repetitions and prolongations of sounds, syllables, words, or phrases as well as involuntary silent pauses or blocks in which the person who stutters is unable to produce sounds'}}, {'Q4565487': {'label': 'Child', 'description': 'band'}}, {'Q16857188': {'label': 'Elias Childe', 'description': 'British painter'}}, {'Q65933004': {'label': 'child', 'description': 'inverse label for properties P22/P25'}}, {'Q64214947': {'label': 'Child', 'description': None}}, {'Q47115478': {'label': 'Marion Child', 'description': 'American botanist (1906- )'}}]\u001b[0m\u001b[32;1m\u001b[1;3m\n",
      "Invoking: `PropertyLookup` with `child`\n",
      "\n",
      "\n",
      "\u001b[0m\u001b[33;1m\u001b[1;3m[{'P40': {'label': 'child', 'description': 'subject has object as child. Do not use for stepchildren—use \"relative\" (P1038), qualified with \"type of kinship\" (P1039)'}}, {'P22': {'label': 'father', 'description': 'male parent of the subject. For stepfather, use \"stepparent\" (P3448)'}}, {'P25': {'label': 'mother', 'description': 'female parent of the subject. For stepmother, use \"stepparent\" (P3448)'}}, {'P1971': {'label': 'number of children', 'description': 'number of children of the person'}}, {'P6191': {'label': 'language style', 'description': 'to denote of the way a sense of a word is used, e.g., slang, vulgarism, babytalk, colloquialism, etc.'}}, {'P398': {'label': 'child astronomical body', 'description': 'minor body that belongs to the item'}}, {'P816': {'label': 'decays to', 'description': 'what isotope does this radioactive isotope decay to'}}, {'P8647': {'label': \"Library of Congress Children's Subject Headings ID\", 'description': \"identifier for a heading in the Library of Congress Children's Subject Headigns\"}}]\u001b[0m\u001b[32;1m\u001b[1;3m\n",
      "Invoking: `SparqlQueryRunner` with `SELECT ?childCount WHERE { wd:Q1339 wdt:P1971 ?childCount .} LIMIT 50`\n",
      "responded: {content}\n",
      "\n",
      "\u001b[0m\u001b[36;1m\u001b[1;3m[{'childCount': {'datatype': 'http://www.w3.org/2001/XMLSchema#decimal', 'type': 'literal', 'value': '20'}}]\u001b[0m\u001b[32;1m\u001b[1;3mJohann Sebastian Bach had 20 children.\u001b[0m\n",
      "\n",
      "\u001b[1m> Finished chain.\u001b[0m\n"
     ]
    },
    {
     "data": {
      "text/plain": [
       "'Johann Sebastian Bach had 20 children.'"
      ]
     },
     "execution_count": 74,
     "metadata": {},
     "output_type": "execute_result"
    }
   ],
   "source": [
    "format_prompt = general_template.format(question='how many children does Bach?')\n",
    "agent.run(format_prompt)"
   ]
  },
  {
   "cell_type": "code",
   "execution_count": 75,
   "id": "efa9251f",
   "metadata": {},
   "outputs": [
    {
     "name": "stdout",
     "output_type": "stream",
     "text": [
      "\n",
      "\n",
      "\u001b[1m> Entering new  chain...\u001b[0m\n",
      "\u001b[32;1m\u001b[1;3m\n",
      "Invoking: `ExtractKeywords` with `What are the compounds present in Mouse-ear cress (Arabidopsis thaliana)?`\n",
      "\n",
      "\n",
      "\u001b[0m\u001b[38;5;200m\u001b[1;3m{'question': 'What are the compounds present in Mouse-ear cress (Arabidopsis thaliana)?', 'text': '{ \"entities\": [\"compound\", \"Mouse-ear cress\", \"Arabidopsis thaliana\"], \"properties\": [\"presence\"] }'}\u001b[0m\u001b[32;1m\u001b[1;3m\n",
      "Invoking: `ItemLookup` with `Mouse-ear cress`\n",
      "\n",
      "\n",
      "\u001b[0m\u001b[36;1m\u001b[1;3m[{'Q158695': {'label': 'Arabidopsis thaliana', 'description': 'species of plant'}}]\u001b[0m\u001b[32;1m\u001b[1;3m\n",
      "Invoking: `ItemLookup` with `compound`\n",
      "\n",
      "\n",
      "\u001b[0m\u001b[36;1m\u001b[1;3m[{'Q11173': {'label': 'chemical compound', 'description': 'pure chemical substance consisting of two or more different chemical elements'}}, {'Q245423': {'label': 'compound', 'description': 'lexeme that consists of more than one stem'}}, {'Q91752': {'label': 'compound', 'description': 'type of fortification'}}, {'Q5156823': {'label': 'compound', 'description': 'cluster of buildings in an enclosure'}}, {'Q190875': {'label': 'cortisol', 'description': 'steroid hormone, in the glucocorticoid class of hormones; when used as a medication, it is known as hydrocortisone'}}, {'Q55669357': {'label': 'compound', 'description': None}}, {'Q117360495': {'label': 'Asalofa Compound Offa', 'description': 'The Name Of Compound in Offa, Kwara State Nigeria'}}, {'Q103898660': {'label': 'Compound', 'description': 'encyclopedia article'}}, {'Q413918': {'label': 'isoflurane', 'description': 'chemical compound'}}, {'Q2470517': {'label': 'record', 'description': 'information block that is part of a database (data row)'}}, {'Q29042997': {'label': 'double surname', 'description': 'family name that is a combination of two other family names'}}, {'Q59199015': {'label': 'group of stereoisomers', 'description': 'set of several stereoisomers'}}, {'Q1243157': {'label': 'double name', 'description': 'given name that is a combination of two other given names separated by a space'}}, {'Q617792': {'label': 'compound locomotive', 'description': 'steam locomotive which uses the exhaust from one (set of) cylinder(s) to power another (set of) cylinder(s)'}}, {'Q423185': {'label': 'cortisone', 'description': 'one of the main hormones released by the adrenal gland in response to stress'}}]\u001b[0m\u001b[32;1m\u001b[1;3m\n",
      "Invoking: `PropertyLookup` with `presence`\n",
      "\n",
      "\n",
      "\u001b[0m\u001b[33;1m\u001b[1;3m[{'P8523': {'label': 'Présence Compositrices composer ID', 'description': 'identifier of a female composer on the website Présence Compositrices'}}, {'P8665': {'label': 'Présence Compositrices work ID', 'description': 'identifier of a work on the website Présence Compositrices'}}, {'P9180': {'label': 'number of at bats', 'description': 'number of batting attempts in a baseball career or game(s)'}}]\u001b[0m\u001b[32;1m\u001b[1;3m\n",
      "Invoking: `PropertyLookup` with `compound`\n",
      "\n",
      "\n",
      "\u001b[0m\u001b[33;1m\u001b[1;3m[{'P5238': {'label': 'combines lexemes', 'description': 'lexemes combined in this lexeme'}}, {'P5548': {'label': 'object form', 'description': \"(qualifier) statement applies only to listed forms of statement's object\"}}]\u001b[0m\u001b[32;1m\u001b[1;3m\n",
      "Invoking: `ItemLookup` with `presence`\n",
      "\n",
      "\n",
      "\u001b[0m\u001b[36;1m\u001b[1;3m[{'Q215408': {'label': 'Presence', 'description': '1976 studio album by Led Zeppelin'}}, {'Q7240915': {'label': 'Presence: Teleoperators & Virtual Environments', 'description': 'journal'}}, {'Q24255051': {'label': 'presence', 'description': 'act of being present'}}, {'Q3212032': {'label': 'Presence', 'description': 'The Most Supreme GODHEAD in DC Universe'}}, {'Q4379218': {'label': 'Presence', 'description': '1992 film directed by Andreï Dobrovolski'}}, {'Q3402394': {'label': 'Presence', 'description': 'UK musical group'}}, {'Q12048317': {'label': 'presence', 'description': \"the 'now' in the consciousness of the subject as described by phenomenology\"}}, {'Q7758055': {'label': 'The Presence', 'description': '2010 film'}}, {'Q17231315': {'label': 'PRESENCE', 'description': None}}, {'Q19888978': {'label': 'Presence', 'description': 'painting by Shirazeh Houshiary (MoMA, 2468.2001)'}}, {'Q115175697': {'label': 'Presence', 'description': None}}, {'Q114528567': {'label': 'Presence', 'description': 'episode of NewsRadio (S2 E19)'}}, {'Q19882610': {'label': 'Presence', 'description': 'painting by Shirazeh Houshiary'}}, {'Q3409081': {'label': 'Presence', 'description': 'fictional character in the Marvel Comics Universe with the real name Sergei Krylov'}}, {'Q18244816': {'label': 'Presence', 'description': '2003 film by Jan Troell'}}]\u001b[0m\u001b[32;1m\u001b[1;3m\n",
      "Invoking: `SparqlQueryRunner` with `SELECT ?compound WHERE { wd:Q158695 wdt:P31 ?compound . } LIMIT 50`\n",
      "\n",
      "\n",
      "\u001b[0m\u001b[36;1m\u001b[1;3m[{'compound': {'type': 'uri', 'value': 'http://www.wikidata.org/entity/Q16521'}}, {'compound': {'type': 'uri', 'value': 'http://www.wikidata.org/entity/Q213907'}}]\u001b[0m\u001b[32;1m\u001b[1;3mThe compounds present in Mouse-ear cress (Arabidopsis thaliana) are:\n",
      "1. [Taxon](http://www.wikidata.org/entity/Q16521)\n",
      "2. [Eukaryote](http://www.wikidata.org/entity/Q213907)\u001b[0m\n",
      "\n",
      "\u001b[1m> Finished chain.\u001b[0m\n"
     ]
    },
    {
     "data": {
      "text/plain": [
       "'The compounds present in Mouse-ear cress (Arabidopsis thaliana) are:\\n1. [Taxon](http://www.wikidata.org/entity/Q16521)\\n2. [Eukaryote](http://www.wikidata.org/entity/Q213907)'"
      ]
     },
     "execution_count": 75,
     "metadata": {},
     "output_type": "execute_result"
    }
   ],
   "source": [
    "format_prompt = general_template.format(question='What are the compounds present in Mouse-ear cress (Arabidopsis thaliana)?')\n",
    "agent.run(format_prompt)\n"
   ]
  },
  {
   "cell_type": "code",
   "execution_count": 69,
   "id": "252df319",
   "metadata": {},
   "outputs": [
    {
     "name": "stdout",
     "output_type": "stream",
     "text": [
      "\n",
      "\n",
      "\u001b[1m> Entering new  chain...\u001b[0m\n",
      "\u001b[32;1m\u001b[1;3m\n",
      "Invoking: `ExtractKeywords` with `Which organisms are known to contain beta-sitosterol?`\n",
      "\n",
      "\n",
      "\u001b[0m\u001b[38;5;200m\u001b[1;3m{'question': 'Which organisms are known to contain beta-sitosterol?', 'text': '{ \"entities\": [\"organism\", \"beta-sitosterol\"], \"properties\": [\"contain\"] }'}\u001b[0m\u001b[32;1m\u001b[1;3m\n",
      "Invoking: `ItemLookup` with `organism`\n",
      "\n",
      "\n",
      "\u001b[0m\u001b[36;1m\u001b[1;3m[{'Q7239': {'label': 'organism', 'description': 'any contiguous alive physical entity; entity or being that is living; an individual living thing, such as one animal, plant, fungus, or bacterium'}}, {'Q1297766': {'label': 'organism (biology)', 'description': 'system of organs of a living being in its entirety'}}, {'Q182726': {'label': 'GMO', 'description': 'organisms whose genetic material has been altered using genetic engineering methods'}}, {'Q55983715': {'label': 'organisms known by a particular common name', 'description': 'living organism Wikidata metaclass'}}, {'Q15753936': {'label': 'Organisms Diversity and Evolution', 'description': 'journal'}}, {'Q55597235': {'label': 'organism form', 'description': 'different stages, states, and types of an organism'}}, {'Q21191119': {'label': 'organismal biology', 'description': 'biology at the level of the organism'}}, {'Q16334298': {'label': 'group of living things', 'description': 'set of live physical entities of any nature'}}, {'Q289472': {'label': 'biogenic substance', 'description': 'substance produced by life processes; it may be either constituents, or secretions, of plants or animals'}}, {'Q22299433': {'label': 'multicellular organismal process', 'description': 'any biological process, occurring at the level of a multicellular organism, pertinent to its function.'}}, {'Q206678': {'label': 'OTE', 'description': 'Greek telecommunication company'}}, {'Q22294230': {'label': 'organism system development', 'description': 'development of an organismal system over time, from formation to mature structure'}}, {'Q103843042': {'label': 'organism subdivision type', 'description': None}}, {'Q22276616': {'label': 'macromolecule metabolic process', 'description': 'The chemical reactions and pathways involving macromolecules, any molecule of high relative molecular mass, the structure of which essentially comprises the multiple repetition of units derived, actually or conceptually, from molecules of low relativ'}}, {'Q103907369': {'label': 'biogenic substance type', 'description': 'metaclass for substances produced by some anatomical structures or derived from some inhaled or ingested substances that have been modified by anatomical structures'}}]\u001b[0m\u001b[32;1m\u001b[1;3m\n",
      "Invoking: `ItemLookup` with `beta-sitosterol`\n",
      "\n",
      "\n",
      "\u001b[0m\u001b[36;1m\u001b[1;3m[{'Q121802': {'label': 'beta-sitosterol', 'description': 'chemical compound'}}, {'Q15410900': {'label': 'sitogluside', 'description': 'chemical compound'}}, {'Q104415326': {'label': 'beta-Sitosterol 3-O-beta-D-galactopyranoside', 'description': None}}, {'Q27137775': {'label': 'β-sitosteryl acetate', 'description': 'chemical compound'}}, {'Q27136065': {'label': 'sitoindoside I', 'description': 'chemical compound'}}, {'Q105121861': {'label': 'beta-Sitosterol palmitate', 'description': None}}, {'Q22321678': {'label': 'beta-sitosterol UDP-glucosyltransferase activity', 'description': 'Catalysis of the reaction: UDP-glucose + a beta-sitosterol = UDP + O-glucosyl-beta-sitosterol.'}}, {'Q27135116': {'label': \"beta-sitosterol glucoside-3'-O-hexacosanoicate\", 'description': 'chemical compound'}}, {'Q34698702': {'label': 'Beta-sitosterolemia and xanthomatosis. A newly described lipid storage disease in two sisters', 'description': 'scientific article'}}, {'Q46819655': {'label': 'beta-Sitosterol and beta-sitosterol glucoside stimulate human peripheral blood lymphocyte proliferation: implications for their use as an immunomodulatory vitamin combination.', 'description': 'scientific article published in December 1996'}}, {'Q40415307': {'label': 'beta-Sitosterol modulates antioxidant enzyme response in RAW 264.7 macrophages', 'description': 'scientific article'}}, {'Q39770800': {'label': 'Beta-sitosterol exhibits anti-inflammatory activity in human aortic endothelial cells', 'description': 'scientific article'}}, {'Q41951362': {'label': 'Beta-sitosterolemia and xanthomatosis', 'description': 'scientific article published on February 26, 1976'}}, {'Q30714513': {'label': 'beta-sitosterol for the treatment of benign prostatic hyperplasia: a systematic review', 'description': 'scientific article'}}, {'Q38505298': {'label': 'Beta-sitosterol induces anti-proliferation and apoptosis in human leukemic U937 cells through activation of caspase-3 and induction of Bax/Bcl-2 ratio', 'description': 'scientific article published on July 2007'}}]\u001b[0m\u001b[32;1m\u001b[1;3m\n",
      "Invoking: `PropertyLookup` with `contain`\n",
      "\n",
      "\n",
      "\u001b[0m\u001b[33;1m\u001b[1;3m[{'P527': {'label': 'has part(s)', 'description': 'part of this subject; inverse property of \"part of\" (P361). See also \"has parts of the class\" (P2670).'}}, {'P361': {'label': 'part of', 'description': 'object of which the subject is a part (if this subject is already part of object A which is a part of object B, then please only make the subject part of object A), inverse property of \"has part\" (P527, see also \"has parts of the class\" (P2670))'}}, {'P150': {'label': 'contains the administrative territorial entity', 'description': '(list of) direct subdivisions of an administrative territorial entity'}}, {'P5238': {'label': 'combines lexemes', 'description': 'lexemes combined in this lexeme'}}, {'P2635': {'label': 'number of parts of this work', 'description': 'the number of parts that a work comprises'}}, {'P2670': {'label': 'has part(s) of the class', 'description': 'the subject instance (the subject is not a class) has one or more parts of the object class'}}, {'P1383': {'label': 'contains settlement', 'description': 'settlement which an administrative division contains'}}, {'P5425': {'label': 'Han character in this lexeme', 'description': 'Han character(s) this lexeme consists of'}}, {'P3781': {'label': 'has active ingredient', 'description': 'has part biologically active component; inverse of \"active ingredient in\" (P3780)'}}, {'P4330': {'label': 'contains', 'description': 'item or substance located within this item but not part of it'}}, {'P6333': {'label': 'title of broader work', 'description': 'title of website, journal or other work in which an article (or other publication) is published in. Use \"published in\" (P1433) instead if possible.'}}, {'P1574': {'label': 'exemplar of', 'description': 'property for manuscripts, autographs, incunabula, distinct printed copies'}}, {'P9813': {'label': 'container', 'description': 'the type or representing item that is located outside of and is not part of the item and fully contains it to protect it from outside elements'}}, {'P6186': {'label': 'category for eponymous categories', 'description': 'Wikimedia category that contains subcategories dedicated to specific instances of the said item'}}, {'P10888': {'label': 'contains the statistical territorial entity', 'description': '(list of) statistical territorial entities which are direct subdivisions of another statistical or administrative territorial entity'}}]\u001b[0m\u001b[32;1m\u001b[1;3mPREFIX wd: <http://www.wikidata.org/entity/>\n",
      "PREFIX wdt: <http://www.wikidata.org/prop/direct/>\n",
      "PREFIX rdfs: <http://www.wikimedia.org/2000/01/rdf-schema#>\n",
      "\n",
      "SELECT ?organism ?organismLabel\n",
      "WHERE\n",
      "{\n",
      "  ?organism wdt:P527 wd:Q121802 .\n",
      "  SERVICE wikibase:label { bd:serviceParam wikibase:language \"[AUTO_LANGUAGE],en\". }\n",
      "}\n",
      "LIMIT 50\u001b[0m\n",
      "\n",
      "\u001b[1m> Finished chain.\u001b[0m\n"
     ]
    },
    {
     "data": {
      "text/plain": [
       "'PREFIX wd: <http://www.wikidata.org/entity/>\\nPREFIX wdt: <http://www.wikidata.org/prop/direct/>\\nPREFIX rdfs: <http://www.wikimedia.org/2000/01/rdf-schema#>\\n\\nSELECT ?organism ?organismLabel\\nWHERE\\n{\\n  ?organism wdt:P527 wd:Q121802 .\\n  SERVICE wikibase:label { bd:serviceParam wikibase:language \"[AUTO_LANGUAGE],en\". }\\n}\\nLIMIT 50'"
      ]
     },
     "execution_count": 69,
     "metadata": {},
     "output_type": "execute_result"
    }
   ],
   "source": [
    "format_prompt = general_template.format(question='Which organisms are known to contain beta-sitosterol?')\n",
    "agent.run(format_prompt)"
   ]
  },
  {
   "cell_type": "markdown",
   "id": "bd25174c",
   "metadata": {},
   "source": [
    "## chat react agent with memory and tool_name_schema"
   ]
  },
  {
   "cell_type": "code",
   "execution_count": null,
   "id": "f8d176c7",
   "metadata": {},
   "outputs": [],
   "source": [
    "all_tools = tools_IDLookup + [run_sparql_tool] + tool_sparql_template + tool_name_schema"
   ]
  },
  {
   "cell_type": "code",
   "execution_count": null,
   "id": "90571f3c",
   "metadata": {},
   "outputs": [],
   "source": [
    "# Memory\n",
    "memory_key = \"chat_history\"\n",
    "k = 1\n",
    "\n",
    "# Model\n",
    "#model_name=\"gpt-3.5-turbo\" #or 'gpt-3.5-turbo'\n",
    "model_name = \"gpt-4\"\n",
    "temperature = 0.8\n",
    "max_tokens = 3500\n",
    "max_iterations = 5\n",
    "early_stopping_method = \"generate\"\n",
    "\n",
    "class AgentManager:\n",
    "    def __init__(self):\n",
    "        self.memory = None\n",
    "        self.llm = None\n",
    "        self.sys_msg = \"\"\"\n",
    "        You are an agent that helps answering the question using the tools available. You are an expert in SPARQL queries and wikidata schema. \n",
    "        If needed, use the google search tool to collect the identifiers.\n",
    "        For the sentence provided, generate a corresponding SPARQL request.\n",
    "        \"\"\"\n",
    "        #Use first-person pronouns to ensure a personal, engaging voice. The text must ultimately a page long (800 words). \n",
    "        self.conversational_agent = None\n",
    "\n",
    "    def initialize_conversational_agent(self, agent, tools, memory_key=memory_key, k=k, return_messages=True,\n",
    "                                        model_name=model_name, temperature=temperature, max_tokens=max_tokens, verbose=True, max_iterations=max_iterations,\n",
    "                                        early_stopping_method=early_stopping_method):\n",
    "\n",
    "        self.memory = ConversationBufferWindowMemory(\n",
    "            memory_key=memory_key,\n",
    "            k=k,\n",
    "            return_messages=return_messages\n",
    "        )\n",
    "\n",
    "        self.llm = ChatOpenAI(\n",
    "            model_name=model_name,\n",
    "            temperature=temperature,\n",
    "            max_tokens=max_tokens,\n",
    "            openai_api_key=os.getenv(\"OPENAI_API_KEY\")\n",
    "        )\n",
    "\n",
    "        from langchain.agents import initialize_agent\n",
    "\n",
    "        self.conversational_agent = initialize_agent(\n",
    "            agent=agent,\n",
    "            tools=tools,\n",
    "            llm=self.llm,\n",
    "            verbose=verbose,\n",
    "            max_iterations=max_iterations,\n",
    "            early_stopping_method=early_stopping_method,\n",
    "            memory=self.memory,\n",
    "        )\n",
    "\n",
    "    def create_prompt(self, tools):\n",
    "        prompt = self.conversational_agent.agent.create_prompt(\n",
    "            system_message=self.sys_msg,\n",
    "            tools=tools\n",
    "        )\n",
    "        self.conversational_agent.agent.llm_chain.prompt = prompt\n",
    "\n",
    "chatbot = AgentManager()\n",
    "chatbot.initialize_conversational_agent(agent='chat-conversational-react-description', tools=all_tools)\n",
    "chatbot.create_prompt(tools=all_tools)"
   ]
  },
  {
   "cell_type": "code",
   "execution_count": null,
   "id": "7307fdd9",
   "metadata": {},
   "outputs": [],
   "source": [
    "chatbot.conversational_agent('describe the chemistry schema?')"
   ]
  }
 ],
 "metadata": {
  "kernelspec": {
   "display_name": "Python 3 (ipykernel)",
   "language": "python",
   "name": "python3"
  },
  "language_info": {
   "codemirror_mode": {
    "name": "ipython",
    "version": 3
   },
   "file_extension": ".py",
   "mimetype": "text/x-python",
   "name": "python",
   "nbconvert_exporter": "python",
   "pygments_lexer": "ipython3",
   "version": "3.11.3"
  }
 },
 "nbformat": 4,
 "nbformat_minor": 5
}
