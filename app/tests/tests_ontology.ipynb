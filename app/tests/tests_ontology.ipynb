{
 "cells": [
  {
   "cell_type": "code",
   "execution_count": null,
   "metadata": {},
   "outputs": [],
   "source": []
  },
  {
   "cell_type": "code",
   "execution_count": null,
   "metadata": {},
   "outputs": [],
   "source": []
  },
  {
   "cell_type": "code",
   "execution_count": 16,
   "metadata": {},
   "outputs": [],
   "source": [
    "from SPARQLWrapper import SPARQLWrapper, JSON\n",
    "from rdflib import Graph, URIRef, Namespace, Literal\n",
    "import rdflib\n",
    "from tqdm import tqdm\n",
    "import re\n",
    "from typing import List, Tuple\n",
    "import tiktoken\n"
   ]
  },
  {
   "cell_type": "code",
   "execution_count": 49,
   "metadata": {},
   "outputs": [],
   "source": [
    "## utils\n",
    "\n",
    "def token_counter(text: str) -> int:\n",
    "    tokenizer = tiktoken.encoding_for_model(model_name='gpt-4')\n",
    "    tokens = tokenizer.encode(text)\n",
    "    return len(tokens)"
   ]
  },
  {
   "cell_type": "code",
   "execution_count": 63,
   "metadata": {},
   "outputs": [],
   "source": [
    "# old queries\n",
    "query1 = f\"\"\"\n",
    "SELECT DISTINCT ?class ?property (SAMPLE(?value) AS ?sampleValue)\n",
    "    WHERE {{\n",
    "        ?class a <{class_uri}> .\n",
    "        {{\n",
    "            SELECT DISTINCT ?instance ?property ?value\n",
    "            WHERE {{\n",
    "                ?instance a ?class .\n",
    "                ?instance ?property ?value .\n",
    "            }}\n",
    "            LIMIT 10000\n",
    "        }}\n",
    "    }}\n",
    "    GROUP BY ?class ?property\n",
    "\"\"\"\n",
    "\n",
    "query2= f\"\"\"\n",
    "\n",
    "SELECT ?property (SAMPLE(COALESCE(?type, STR(DATATYPE(?value)), \"Untyped\")) AS ?valueType) WHERE {{\n",
    "  ?instance a <{class_uri}> ;\n",
    "            ?property ?value .\n",
    "  OPTIONAL {{\n",
    "    FILTER (!isLiteral(?value))\n",
    "    ?value a ?type .\n",
    "  }}\n",
    "}} GROUP BY ?property ?type\n",
    "LIMIT 100000\n",
    "    \"\"\"\n"
   ]
  },
  {
   "cell_type": "code",
   "execution_count": 15,
   "metadata": {},
   "outputs": [
    {
     "name": "stderr",
     "output_type": "stream",
     "text": [
      "processing classes:   2%|▏         | 1/48 [00:00<00:04,  9.88it/s]"
     ]
    },
    {
     "name": "stdout",
     "output_type": "stream",
     "text": [
      "processing http://www.w3.org/1999/02/22-rdf-syntax-ns#XMLLiteral\n",
      "processing http://www.w3.org/2001/XMLSchema#nonNegativeInteger\n"
     ]
    },
    {
     "name": "stderr",
     "output_type": "stream",
     "text": [
      "processing classes:   4%|▍         | 2/48 [00:00<00:08,  5.42it/s]"
     ]
    },
    {
     "name": "stdout",
     "output_type": "stream",
     "text": [
      "processing http://www.w3.org/2001/XMLSchema#string\n",
      "processing https://enpkg.commons-lab.org/kg/RawMaterial\n"
     ]
    },
    {
     "name": "stderr",
     "output_type": "stream",
     "text": [
      "processing classes:   8%|▊         | 4/48 [00:00<00:06,  6.59it/s]"
     ]
    },
    {
     "name": "stdout",
     "output_type": "stream",
     "text": [
      "processing https://enpkg.commons-lab.org/kg/LFpair\n"
     ]
    },
    {
     "name": "stderr",
     "output_type": "stream",
     "text": [
      "processing classes:  12%|█▎        | 6/48 [00:01<00:07,  5.84it/s]"
     ]
    },
    {
     "name": "stdout",
     "output_type": "stream",
     "text": [
      "processing https://enpkg.commons-lab.org/kg/WDChemical\n",
      "processing https://enpkg.commons-lab.org/kg/WDTaxon\n"
     ]
    },
    {
     "name": "stderr",
     "output_type": "stream",
     "text": [
      "processing classes:  17%|█▋        | 8/48 [00:01<00:06,  6.19it/s]"
     ]
    },
    {
     "name": "stdout",
     "output_type": "stream",
     "text": [
      "processing https://enpkg.commons-lab.org/kg/InChIkey2D\n",
      "processing https://enpkg.commons-lab.org/kg/InChIkey\n"
     ]
    },
    {
     "name": "stderr",
     "output_type": "stream",
     "text": [
      "processing classes:  21%|██        | 10/48 [00:01<00:06,  5.71it/s]"
     ]
    },
    {
     "name": "stdout",
     "output_type": "stream",
     "text": [
      "processing https://enpkg.commons-lab.org/kg/LabExtract\n",
      "processing https://enpkg.commons-lab.org/kg/LCMSAnalysisPos\n"
     ]
    },
    {
     "name": "stderr",
     "output_type": "stream",
     "text": [
      "processing classes:  23%|██▎       | 11/48 [00:01<00:06,  5.81it/s]"
     ]
    },
    {
     "name": "stdout",
     "output_type": "stream",
     "text": [
      "processing https://enpkg.commons-lab.org/kg/LCMSFeatureList\n"
     ]
    },
    {
     "name": "stderr",
     "output_type": "stream",
     "text": [
      "processing classes:  27%|██▋       | 13/48 [00:04<00:21,  1.61it/s]"
     ]
    },
    {
     "name": "stdout",
     "output_type": "stream",
     "text": [
      "processing https://enpkg.commons-lab.org/kg/SiriusCanopusAnnotation\n",
      "processing https://enpkg.commons-lab.org/kg/LCMSFeature\n"
     ]
    },
    {
     "name": "stderr",
     "output_type": "stream",
     "text": [
      "processing classes:  31%|███▏      | 15/48 [00:04<00:13,  2.47it/s]"
     ]
    },
    {
     "name": "stdout",
     "output_type": "stream",
     "text": [
      "processing https://enpkg.commons-lab.org/kg/Spec2VecLoss\n",
      "processing https://enpkg.commons-lab.org/kg/NPCClass\n"
     ]
    },
    {
     "name": "stderr",
     "output_type": "stream",
     "text": [
      "processing classes:  33%|███▎      | 16/48 [00:04<00:10,  3.15it/s]"
     ]
    },
    {
     "name": "stdout",
     "output_type": "stream",
     "text": [
      "processing https://enpkg.commons-lab.org/kg/NPCSuperclass\n"
     ]
    },
    {
     "name": "stderr",
     "output_type": "stream",
     "text": [
      "processing classes:  38%|███▊      | 18/48 [00:06<00:12,  2.36it/s]"
     ]
    },
    {
     "name": "stdout",
     "output_type": "stream",
     "text": [
      "processing https://enpkg.commons-lab.org/kg/Spec2VecPeak\n",
      "processing https://enpkg.commons-lab.org/kg/SiriusStructureAnnotation\n"
     ]
    },
    {
     "name": "stderr",
     "output_type": "stream",
     "text": [
      "processing classes:  40%|███▉      | 19/48 [00:06<00:10,  2.86it/s]"
     ]
    },
    {
     "name": "stdout",
     "output_type": "stream",
     "text": [
      "processing https://enpkg.commons-lab.org/kg/Spec2VecDoc\n"
     ]
    },
    {
     "name": "stderr",
     "output_type": "stream",
     "text": [
      "processing classes:  44%|████▍     | 21/48 [00:07<00:10,  2.66it/s]"
     ]
    },
    {
     "name": "stdout",
     "output_type": "stream",
     "text": [
      "processing https://enpkg.commons-lab.org/kg/IsdbAnnotation\n",
      "processing https://enpkg.commons-lab.org/kg/NPCPathway\n"
     ]
    },
    {
     "name": "stderr",
     "output_type": "stream",
     "text": [
      "processing classes:  48%|████▊     | 23/48 [00:07<00:06,  3.84it/s]"
     ]
    },
    {
     "name": "stdout",
     "output_type": "stream",
     "text": [
      "processing https://enpkg.commons-lab.org/kg/LCMSAnalysisNeg\n",
      "processing https://enpkg.commons-lab.org/module/L610ugml\n"
     ]
    },
    {
     "name": "stderr",
     "output_type": "stream",
     "text": [
      "processing classes:  52%|█████▏    | 25/48 [00:07<00:04,  4.76it/s]"
     ]
    },
    {
     "name": "stdout",
     "output_type": "stream",
     "text": [
      "processing https://enpkg.commons-lab.org/module/Ldono10ugml\n",
      "processing https://enpkg.commons-lab.org/module/Ldono2ugml\n"
     ]
    },
    {
     "name": "stderr",
     "output_type": "stream",
     "text": [
      "processing classes:  56%|█████▋    | 27/48 [00:08<00:07,  2.64it/s]"
     ]
    },
    {
     "name": "stdout",
     "output_type": "stream",
     "text": [
      "processing https://enpkg.commons-lab.org/module/Tbrucei10ugml\n",
      "processing https://enpkg.commons-lab.org/module/Tbrucei2ugml\n"
     ]
    },
    {
     "name": "stderr",
     "output_type": "stream",
     "text": [
      "processing classes:  60%|██████    | 29/48 [00:09<00:06,  3.15it/s]"
     ]
    },
    {
     "name": "stdout",
     "output_type": "stream",
     "text": [
      "processing https://enpkg.commons-lab.org/module/Tcruzi10ugml\n",
      "processing https://enpkg.commons-lab.org/module/ChEMBLTarget\n"
     ]
    },
    {
     "name": "stderr",
     "output_type": "stream",
     "text": [
      "processing classes:  65%|██████▍   | 31/48 [00:09<00:03,  4.70it/s]"
     ]
    },
    {
     "name": "stdout",
     "output_type": "stream",
     "text": [
      "processing https://enpkg.commons-lab.org/kg/LabBlank\n",
      "processing https://enpkg.commons-lab.org/kg/LabQc\n",
      "processing https://enpkg.commons-lab.org/module/ChEMBLAssayResults\n"
     ]
    },
    {
     "name": "stderr",
     "output_type": "stream",
     "text": [
      "processing classes:  71%|███████   | 34/48 [00:10<00:02,  5.85it/s]"
     ]
    },
    {
     "name": "stdout",
     "output_type": "stream",
     "text": [
      "processing https://enpkg.commons-lab.org/module/ChEMBLAssay\n",
      "processing https://enpkg.commons-lab.org/module/ChEMBLChemical\n"
     ]
    },
    {
     "name": "stderr",
     "output_type": "stream",
     "text": [
      "processing classes:  75%|███████▌  | 36/48 [00:12<00:06,  1.96it/s]"
     ]
    },
    {
     "name": "stdout",
     "output_type": "stream",
     "text": [
      "processing https://enpkg.commons-lab.org/module/ChEMBLDocument\n",
      "processing https://enpkg.commons-lab.org/kg/LabObject\n"
     ]
    },
    {
     "name": "stderr",
     "output_type": "stream",
     "text": [
      "processing classes:  77%|███████▋  | 37/48 [00:12<00:04,  2.38it/s]"
     ]
    },
    {
     "name": "stdout",
     "output_type": "stream",
     "text": [
      "processing https://enpkg.commons-lab.org/kg/BioAssayResults\n"
     ]
    },
    {
     "name": "stderr",
     "output_type": "stream",
     "text": [
      "processing classes:  79%|███████▉  | 38/48 [00:13<00:06,  1.60it/s]"
     ]
    },
    {
     "name": "stdout",
     "output_type": "stream",
     "text": [
      "processing https://enpkg.commons-lab.org/kg/MS2Spectrum\n"
     ]
    },
    {
     "name": "stderr",
     "output_type": "stream",
     "text": [
      "processing classes:  83%|████████▎ | 40/48 [00:14<00:03,  2.36it/s]"
     ]
    },
    {
     "name": "stdout",
     "output_type": "stream",
     "text": [
      "processing https://enpkg.commons-lab.org/kg/LCMSAnalysis\n",
      "processing https://enpkg.commons-lab.org/kg/Annotation\n"
     ]
    },
    {
     "name": "stderr",
     "output_type": "stream",
     "text": [
      "processing classes:  85%|████████▌ | 41/48 [00:14<00:02,  2.79it/s]"
     ]
    },
    {
     "name": "stdout",
     "output_type": "stream",
     "text": [
      "processing https://enpkg.commons-lab.org/kg/GNPSAnnotation\n"
     ]
    },
    {
     "name": "stderr",
     "output_type": "stream",
     "text": [
      "processing classes:  90%|████████▉ | 43/48 [00:14<00:01,  3.58it/s]"
     ]
    },
    {
     "name": "stdout",
     "output_type": "stream",
     "text": [
      "processing https://enpkg.commons-lab.org/kg/SpectralPair\n",
      "processing https://enpkg.commons-lab.org/kg/ChemicalEntity\n"
     ]
    },
    {
     "name": "stderr",
     "output_type": "stream",
     "text": [
      "processing classes:  94%|█████████▍| 45/48 [00:16<00:01,  2.40it/s]"
     ]
    },
    {
     "name": "stdout",
     "output_type": "stream",
     "text": [
      "processing https://enpkg.commons-lab.org/kg/ChemicalTaxonomy\n",
      "processing https://enpkg.commons-lab.org/kg/XRef\n"
     ]
    },
    {
     "name": "stderr",
     "output_type": "stream",
     "text": [
      "processing classes:  98%|█████████▊| 47/48 [00:16<00:00,  3.50it/s]"
     ]
    },
    {
     "name": "stdout",
     "output_type": "stream",
     "text": [
      "processing https://enpkg.commons-lab.org/kg/spec2vec\n",
      "processing https://enpkg.commons-lab.org/module/SwissTPHBioAssay\n"
     ]
    },
    {
     "name": "stderr",
     "output_type": "stream",
     "text": [
      "processing classes: 100%|██████████| 48/48 [00:16<00:00,  2.91it/s]\n"
     ]
    }
   ],
   "source": [
    "\n",
    "\n",
    "# Initialize the SPARQL endpoint\n",
    "sparql = SPARQLWrapper('https://enpkg.commons-lab.org/graphdb/repositories/ENPKG')\n",
    "\n",
    "def get_classes():\n",
    "    # Query to get distinct classes\n",
    "    sparql.setQuery(\"\"\"\n",
    "    SELECT DISTINCT ?class WHERE {\n",
    "        ?class a rdfs:Class .\n",
    "    }\n",
    "    \"\"\")\n",
    "    sparql.setReturnFormat(JSON)\n",
    "    results = sparql.query().convert()\n",
    "    return [result[\"class\"][\"value\"] for result in results[\"results\"][\"bindings\"]]\n",
    "\n",
    "def get_properties_and_sample_values(class_uri):\n",
    "    # Query to get properties and values of instances of a class, limited to 100 instances\n",
    "    sparql.setQuery(f\"\"\"\n",
    "    SELECT ?property (SAMPLE(COALESCE(?type, STR(DATATYPE(?value)), \"Untyped\")) AS ?valueType) WHERE {{\n",
    "      {{\n",
    "        SELECT ?instance WHERE {{\n",
    "          ?instance a <{class_uri}> .\n",
    "        }} LIMIT 1000\n",
    "      }}\n",
    "      ?instance ?property ?value .\n",
    "      OPTIONAL {{\n",
    "        ?value a ?type .\n",
    "      }}\n",
    "    }}\n",
    "    GROUP BY ?property ?type\n",
    "    LIMIT 300\n",
    "    \"\"\")\n",
    "    sparql.setReturnFormat(JSON)\n",
    "    results = sparql.query().convert()\n",
    "    # return [(result[\"property\"][\"value\"], result[\"valueType\"][\"value\"]) for result in results[\"results\"][\"bindings\"]]\n",
    "    excluded_uris = [\n",
    "            \"http://www.w3.org/1999/02/22-rdf-syntax-ns#type\",\n",
    "            \"http://www.w3.org/2000/01/rdf-schema#label\",\n",
    "            \"http://www.w3.org/2000/01/rdf-schema#comment\",\n",
    "            \"http://www.w3.org/2000/01/rdf-schema#Class\",\n",
    "            \"http://xmlns.com/foaf/0.1/depiction\"\n",
    "        ]\n",
    "    # Filter out properties with alphanumeric (hexadecimal) sequences after an underscore\n",
    "    filtered_results = []\n",
    "    for result in results[\"results\"][\"bindings\"]:\n",
    "        property_uri = result[\"property\"][\"value\"]\n",
    "\n",
    "        # Regex to match properties that do NOT have a hexadecimal sequence after an underscore\n",
    "        if not re.search(r'_([0-9a-fA-F]+)', property_uri) and property_uri not in excluded_uris:\n",
    "            filtered_results.append((property_uri, result[\"valueType\"][\"value\"]))\n",
    "\n",
    "    return filtered_results\n",
    "\n",
    "g = Graph()\n",
    "RDF = Namespace(\"http://www.w3.org/1999/02/22-rdf-syntax-ns#\")\n",
    "RDFS = Namespace(\"http://www.w3.org/2000/01/rdf-schema#\")\n",
    "FOAF = Namespace(\"http://xmlns.com/foaf/0.1/\")\n",
    "\n",
    "classes = get_classes()\n",
    "for class_uri in tqdm(classes, desc=\"processing classes\"):\n",
    "    print('processing', class_uri)\n",
    "    class_ref = URIRef(class_uri)\n",
    "    properties_and_values = get_properties_and_sample_values(class_uri)\n",
    "    for property_uri, sample_value in properties_and_values:\n",
    "        property_ref = URIRef(property_uri)\n",
    "        sample_value_ref = URIRef(sample_value)\n",
    "        g.add((class_ref, property_ref, sample_value_ref))\n",
    "\n",
    "\n",
    "# 9.7 seconds with LIMIT = 100 -> incomplete schemas\n",
    "# 15 seconds with LIMIT = 1000 \n",
    "# 42 seconds with LIMIT = 10000"
   ]
  },
  {
   "cell_type": "code",
   "execution_count": 16,
   "metadata": {},
   "outputs": [
    {
     "name": "stdout",
     "output_type": "stream",
     "text": [
      "@prefix ns1: <https://enpkg.commons-lab.org/kg/> .\n",
      "@prefix ns2: <https://enpkg.commons-lab.org/module/> .\n",
      "@prefix xsd: <http://www.w3.org/2001/XMLSchema#> .\n",
      "\n",
      "ns1:Annotation ns1:has_InChIkey2D ns1:InChIkey2D ;\n",
      "    ns1:has_ionization xsd:string ;\n",
      "    ns1:has_sirius_score xsd:float ;\n",
      "    ns1:has_spectral_score xsd:float ;\n",
      "    ns1:has_taxo_score xsd:float ;\n",
      "    ns1:has_zodiac_score xsd:float .\n",
      "\n",
      "ns1:BioAssayResults ns2:inhibition_percentage xsd:float ;\n",
      "    ns2:target_id ns1:XRef,\n",
      "        ns2:ChEMBLTarget .\n",
      "\n",
      "ns1:IsdbAnnotation ns1:has_InChIkey2D ns1:InChIkey2D ;\n",
      "    ns1:has_spectral_score xsd:float ;\n",
      "    ns1:has_taxo_score xsd:float .\n",
      "\n",
      "ns1:LCMSFeatureList ns1:has_ionization xsd:string .\n",
      "\n",
      "ns1:LFpair ns1:has_member ns1:LCMSFeature,\n",
      "        ns1:MS2Spectrum ;\n",
      "    ns1:has_mn_params <Untyped> .\n",
      "\n",
      "ns1:LabBlank ns1:has_LCMS ns1:LCMSAnalysis,\n",
      "        ns1:LCMSAnalysisNeg .\n",
      "\n",
      "ns1:LabQc ns1:has_LCMS ns1:LCMSAnalysis,\n",
      "        ns1:LCMSAnalysisNeg .\n",
      "\n",
      "ns1:RawMaterial ns1:has_LCMS xsd:string,\n",
      "        ns1:WDTaxon,\n",
      "        ns1:XRef ;\n",
      "    ns1:has_lab_process ns1:LabExtract,\n",
      "        ns1:LabObject ;\n",
      "    ns1:has_unresolved_taxon <Untyped> ;\n",
      "    ns1:has_wd_id ns1:WDTaxon,\n",
      "        ns1:XRef ;\n",
      "    ns1:submitted_taxon xsd:string ;\n",
      "    ns2:has_organe <Untyped> ;\n",
      "    ns2:has_subsystem <Untyped> ;\n",
      "    ns2:has_tissue <Untyped> .\n",
      "\n",
      "ns1:SiriusStructureAnnotation ns1:has_InChIkey2D ns1:InChIkey2D ;\n",
      "    ns1:has_ionization xsd:string ;\n",
      "    ns1:has_sirius_score xsd:float ;\n",
      "    ns1:has_zodiac_score xsd:float .\n",
      "\n",
      "ns1:Spec2VecDoc ns1:has_spec2vec_loss ns1:Spec2VecLoss,\n",
      "        ns1:spec2vec ;\n",
      "    ns1:has_spec2vec_peak ns1:Spec2VecPeak,\n",
      "        ns1:spec2vec .\n",
      "\n",
      "ns1:SpectralPair ns1:has_member ns1:LCMSFeature,\n",
      "        ns1:MS2Spectrum ;\n",
      "    ns1:has_mn_params <Untyped> .\n",
      "\n",
      "ns2:ChEMBLAssayResults ns2:activity_relation xsd:string ;\n",
      "    ns2:activity_type xsd:string ;\n",
      "    ns2:activity_unit xsd:string ;\n",
      "    ns2:activity_value xsd:float ;\n",
      "    ns2:assay_id ns1:XRef,\n",
      "        ns2:ChEMBLAssay ;\n",
      "    ns2:target_id ns1:XRef,\n",
      "        ns2:ChEMBLTarget ;\n",
      "    ns2:target_name xsd:string .\n",
      "\n",
      "ns2:ChEMBLDocument ns2:journal_name xsd:string .\n",
      "\n",
      "ns2:L610ugml ns2:inhibition_percentage xsd:float .\n",
      "\n",
      "ns2:Ldono10ugml ns2:inhibition_percentage xsd:float ;\n",
      "    ns2:target_id ns1:XRef,\n",
      "        ns2:ChEMBLTarget .\n",
      "\n",
      "ns2:Ldono2ugml ns2:inhibition_percentage xsd:float ;\n",
      "    ns2:target_id ns1:XRef,\n",
      "        ns2:ChEMBLTarget .\n",
      "\n",
      "ns2:SwissTPHBioAssay ns2:inhibition_percentage xsd:float ;\n",
      "    ns2:target_id ns1:XRef,\n",
      "        ns2:ChEMBLTarget .\n",
      "\n",
      "ns2:Tbrucei10ugml ns2:inhibition_percentage xsd:float ;\n",
      "    ns2:target_id ns1:XRef,\n",
      "        ns2:ChEMBLTarget .\n",
      "\n",
      "ns2:Tbrucei2ugml ns2:inhibition_percentage xsd:float ;\n",
      "    ns2:target_id ns1:XRef,\n",
      "        ns2:ChEMBLTarget .\n",
      "\n",
      "ns2:Tcruzi10ugml ns2:inhibition_percentage xsd:float ;\n",
      "    ns2:target_id ns1:XRef,\n",
      "        ns2:ChEMBLTarget .\n",
      "\n",
      "ns1:ChemicalEntity ns1:has_npc_pathway ns1:ChemicalTaxonomy,\n",
      "        ns1:NPCClass,\n",
      "        ns1:NPCPathway,\n",
      "        ns1:NPCSuperclass ;\n",
      "    ns1:has_npc_superclass ns1:ChemicalTaxonomy,\n",
      "        ns1:NPCClass,\n",
      "        ns1:NPCPathway,\n",
      "        ns1:NPCSuperclass ;\n",
      "    ns1:has_smiles xsd:string ;\n",
      "    ns1:has_wd_id ns1:WDChemical,\n",
      "        ns1:XRef .\n",
      "\n",
      "ns1:InChIkey ns1:has_npc_pathway ns1:ChemicalTaxonomy,\n",
      "        ns1:NPCClass,\n",
      "        ns1:NPCPathway,\n",
      "        ns1:NPCSuperclass ;\n",
      "    ns1:has_npc_superclass ns1:ChemicalTaxonomy,\n",
      "        ns1:NPCClass,\n",
      "        ns1:NPCPathway,\n",
      "        ns1:NPCSuperclass ;\n",
      "    ns1:has_smiles xsd:string ;\n",
      "    ns1:has_wd_id ns1:WDChemical,\n",
      "        ns1:XRef .\n",
      "\n",
      "ns1:LCMSAnalysisPos ns1:has_gnpslcms_link <Untyped> ;\n",
      "    ns1:has_massive_license <Untyped> .\n",
      "\n",
      "ns1:LCMSFeature ns1:has_ionization xsd:string ;\n",
      "    ns1:has_parent_mass xsd:float ;\n",
      "    ns1:has_raw_spectrum xsd:string ;\n",
      "    ns1:has_retention_time xsd:float ;\n",
      "    ns1:has_row_id xsd:decimal ;\n",
      "    ns1:has_usi xsd:string .\n",
      "\n",
      "ns1:LabExtract ns1:has_LCMS ns1:LCMSAnalysis,\n",
      "        ns1:LCMSAnalysisNeg,\n",
      "        ns1:LCMSAnalysisPos .\n",
      "\n",
      "ns1:LabObject ns1:has_LCMS xsd:string,\n",
      "        ns1:LCMSAnalysis,\n",
      "        ns1:LCMSAnalysisNeg,\n",
      "        ns1:LCMSAnalysisPos,\n",
      "        ns1:WDTaxon,\n",
      "        ns1:XRef ;\n",
      "    ns1:has_lab_process ns1:LabExtract,\n",
      "        ns1:LabObject ;\n",
      "    ns1:has_unresolved_taxon <Untyped> ;\n",
      "    ns1:has_wd_id ns1:WDTaxon,\n",
      "        ns1:XRef ;\n",
      "    ns1:submitted_taxon xsd:string ;\n",
      "    ns2:has_organe <Untyped> ;\n",
      "    ns2:has_subsystem <Untyped> ;\n",
      "    ns2:has_tissue <Untyped> .\n",
      "\n",
      "ns1:MS2Spectrum ns1:has_ionization xsd:string ;\n",
      "    ns1:has_parent_mass xsd:float ;\n",
      "    ns1:has_raw_spectrum xsd:string ;\n",
      "    ns1:has_retention_time xsd:float ;\n",
      "    ns1:has_row_id xsd:decimal ;\n",
      "    ns1:has_usi xsd:string .\n",
      "\n",
      "ns1:Spec2VecLoss ns1:has_value xsd:float .\n",
      "\n",
      "ns1:Spec2VecPeak ns1:has_value xsd:float .\n",
      "\n",
      "ns1:InChIkey2D ns1:has_npc_pathway ns1:ChemicalTaxonomy,\n",
      "        ns1:NPCClass,\n",
      "        ns1:NPCPathway,\n",
      "        ns1:NPCSuperclass ;\n",
      "    ns1:has_npc_superclass ns1:ChemicalTaxonomy,\n",
      "        ns1:NPCClass,\n",
      "        ns1:NPCPathway,\n",
      "        ns1:NPCSuperclass ;\n",
      "    ns1:has_smiles xsd:string ;\n",
      "    ns1:is_InChIkey2D_of ns1:ChemicalEntity,\n",
      "        ns1:InChIkey .\n",
      "\n",
      "ns1:LCMSAnalysis ns1:has_gnpslcms_link <Untyped> ;\n",
      "    ns1:has_massive_license <Untyped> .\n",
      "\n",
      "ns1:LCMSAnalysisNeg ns1:has_gnpslcms_link <Untyped> ;\n",
      "    ns1:has_massive_license <Untyped> .\n",
      "\n",
      "ns1:spec2vec ns1:has_spec2vec_loss ns1:Spec2VecLoss,\n",
      "        ns1:spec2vec ;\n",
      "    ns1:has_spec2vec_peak ns1:Spec2VecPeak,\n",
      "        ns1:spec2vec ;\n",
      "    ns1:has_value xsd:float .\n",
      "\n",
      "ns2:ChEMBLTarget ns2:target_name xsd:string .\n",
      "\n",
      "\n"
     ]
    }
   ],
   "source": [
    "print(g.serialize(format='turtle'))"
   ]
  },
  {
   "cell_type": "code",
   "execution_count": 50,
   "metadata": {},
   "outputs": [
    {
     "name": "stdout",
     "output_type": "stream",
     "text": [
      "Number of tokens: 1930\n"
     ]
    }
   ],
   "source": [
    "\n",
    "print(f\"Number of tokens: {token_counter(g.serialize(format='turtle'))}\")\n"
   ]
  },
  {
   "cell_type": "markdown",
   "metadata": {},
   "source": [
    "## RDFLIB"
   ]
  },
  {
   "cell_type": "markdown",
   "metadata": {},
   "source": [
    "### init"
   ]
  },
  {
   "cell_type": "code",
   "execution_count": 1,
   "metadata": {},
   "outputs": [],
   "source": [
    "import rdflib\n",
    "from rdflib.graph import DATASET_DEFAULT_GRAPH_ID as default\n",
    "from rdflib.plugins.stores import sparqlstore"
   ]
  },
  {
   "cell_type": "code",
   "execution_count": 2,
   "metadata": {},
   "outputs": [],
   "source": [
    "_store = sparqlstore.SPARQLStore()\n",
    "_store.open('https://enpkg.commons-lab.org/graphdb/repositories/ENPKG')\n",
    "graph = rdflib.Graph(_store, bind_namespaces=\"none\")"
   ]
  },
  {
   "cell_type": "markdown",
   "metadata": {},
   "source": [
    "### Get Classes, Com, Example"
   ]
  },
  {
   "cell_type": "code",
   "execution_count": 60,
   "metadata": {},
   "outputs": [],
   "source": [
    "from rdflib.exceptions import ParserError\n",
    "from rdflib.query import ResultRow\n",
    "\n",
    "query = \"\"\"\n",
    "SELECT DISTINCT ?cls ?com (SAMPLE(?instance) AS ?example)\n",
    "WHERE {\n",
    "    ?cls a rdfs:Class . \n",
    "    OPTIONAL { ?cls rdfs:comment ?com }\n",
    "    OPTIONAL { ?instance a ?cls }\n",
    "}\n",
    "GROUP BY ?cls ?com\n",
    "\"\"\"\n",
    "res = graph.query(query_object=query)\n",
    "res = [r for r in res if isinstance(r, ResultRow)]"
   ]
  },
  {
   "cell_type": "code",
   "execution_count": 7,
   "metadata": {},
   "outputs": [
    {
     "data": {
      "text/plain": [
       "[(rdflib.term.URIRef('http://www.w3.org/1999/02/22-rdf-syntax-ns#XMLLiteral'),\n",
       "  None,\n",
       "  None),\n",
       " (rdflib.term.URIRef('http://www.w3.org/2001/XMLSchema#nonNegativeInteger'),\n",
       "  None,\n",
       "  None),\n",
       " (rdflib.term.URIRef('http://www.w3.org/2001/XMLSchema#string'), None, None),\n",
       " (rdflib.term.URIRef('https://enpkg.commons-lab.org/kg/RawMaterial'),\n",
       "  rdflib.term.Literal('A raw laboratory biological material, i.e. before extraction'),\n",
       "  rdflib.term.URIRef('https://enpkg.commons-lab.org/kg/walth_ind_aerparts')),\n",
       " (rdflib.term.URIRef('https://enpkg.commons-lab.org/kg/LFpair'),\n",
       "  rdflib.term.Literal('A pair of 2 LCMSFeature'),\n",
       "  rdflib.term.URIRef('https://enpkg.commons-lab.org/kg/lcms_feature_pair_mzspec:MSV000088521:SC_AP_Wi_DCM_features_ms2_pos.mgf:scan:9_mzspec:MSV000088521:SC_AP_Wi_DCM_features_ms2_pos.mgf:scan:59')),\n",
       " (rdflib.term.URIRef('https://enpkg.commons-lab.org/kg/WDChemical'),\n",
       "  rdflib.term.Literal('Cross-reference to a chemical entity in Wikidata'),\n",
       "  rdflib.term.URIRef('http://www.wikidata.org/entity/Q94518604')),\n",
       " (rdflib.term.URIRef('https://enpkg.commons-lab.org/kg/WDTaxon'),\n",
       "  rdflib.term.Literal('Cross-reference to a taxon in Wikidata'),\n",
       "  rdflib.term.URIRef('http://www.wikidata.org/entity/Q10878263')),\n",
       " (rdflib.term.URIRef('https://enpkg.commons-lab.org/kg/InChIkey2D'),\n",
       "  rdflib.term.Literal('The first 14 characters of an InChIKey, often returned by MS-based annotation tools'),\n",
       "  rdflib.term.URIRef('https://enpkg.commons-lab.org/kg/ZZYIERSLRCSWBJ')),\n",
       " (rdflib.term.URIRef('https://enpkg.commons-lab.org/kg/InChIkey'),\n",
       "  rdflib.term.Literal('A chemical structure represented by its InChIKey'),\n",
       "  rdflib.term.URIRef('https://enpkg.commons-lab.org/kg/ZZZQPOQWMWIOMQ-UHFFFAOYSA-N')),\n",
       " (rdflib.term.URIRef('https://enpkg.commons-lab.org/kg/LabExtract'),\n",
       "  rdflib.term.Literal('A natural extract obtained from the processing of a RawMaterial'),\n",
       "  rdflib.term.URIRef('https://enpkg.commons-lab.org/kg/LP_P03_36')),\n",
       " (rdflib.term.URIRef('https://enpkg.commons-lab.org/kg/LCMSAnalysisPos'),\n",
       "  rdflib.term.Literal('An LCMS analysis in positive ionization mode (pos)'),\n",
       "  rdflib.term.URIRef('https://enpkg.commons-lab.org/kg/050418_LP__P03_35_pos.mzML')),\n",
       " (rdflib.term.URIRef('https://enpkg.commons-lab.org/kg/LCMSFeatureList'),\n",
       "  rdflib.term.Literal('A list of LCMS features obtained from the processing of a given LCMS analysis'),\n",
       "  rdflib.term.URIRef('https://enpkg.commons-lab.org/kg/SC_AP_Wi_DCM_lcms_feature_list_pos')),\n",
       " (rdflib.term.URIRef('https://enpkg.commons-lab.org/kg/SiriusCanopusAnnotation'),\n",
       "  rdflib.term.Literal('A spectrum chemical class annotation by SIRIUS-CANOPUS'),\n",
       "  rdflib.term.URIRef('https://enpkg.commons-lab.org/kg/canopus_mzspec:MSV000088521:SC_AP_Wi_DCM_features_ms2_pos.mgf:scan:997')),\n",
       " (rdflib.term.URIRef('https://enpkg.commons-lab.org/kg/LCMSFeature'),\n",
       "  rdflib.term.Literal('An LCMS feature from a processed LCMS analysis'),\n",
       "  rdflib.term.URIRef('https://enpkg.commons-lab.org/kg/lcms_feature_mzspec:MSV000088521:SC_AP_Wi_DCM_features_ms2_pos.mgf:scan:913')),\n",
       " (rdflib.term.URIRef('https://enpkg.commons-lab.org/kg/Spec2VecLoss'),\n",
       "  rdflib.term.Literal('A Spec2VecLoss that partly characterizes an MS2Spectrum'),\n",
       "  rdflib.term.URIRef('https://enpkg.commons-lab.org/kg/loss_184.55')),\n",
       " (rdflib.term.URIRef('https://enpkg.commons-lab.org/kg/NPCClass'),\n",
       "  rdflib.term.Literal('A NPClassifier (NPC) chemical class'),\n",
       "  rdflib.term.URIRef('https://enpkg.commons-lab.org/kg/npc_Carotenoids_C50,_Iu_Iu')),\n",
       " (rdflib.term.URIRef('https://enpkg.commons-lab.org/kg/NPCSuperclass'),\n",
       "  rdflib.term.Literal('A NPClassifier (NPC) chemical superclass'),\n",
       "  rdflib.term.URIRef('https://enpkg.commons-lab.org/kg/npc_Carotenoids_C50')),\n",
       " (rdflib.term.URIRef('https://enpkg.commons-lab.org/kg/Spec2VecPeak'),\n",
       "  rdflib.term.Literal('A Spec2VecPeak that partly characterizes an MS2 spectrum'),\n",
       "  rdflib.term.URIRef('https://enpkg.commons-lab.org/kg/peak_1097.93')),\n",
       " (rdflib.term.URIRef('https://enpkg.commons-lab.org/kg/SiriusStructureAnnotation'),\n",
       "  rdflib.term.Literal('A spectrum structural annotation by SIRIUS'),\n",
       "  rdflib.term.URIRef('https://enpkg.commons-lab.org/kg/sirius_mzspec:MSV000088521:SC_AP_Wi_DCM_features_ms2_pos.mgf:scan:999')),\n",
       " (rdflib.term.URIRef('https://enpkg.commons-lab.org/kg/Spec2VecDoc'),\n",
       "  rdflib.term.Literal('An ensemble of Spec2VecPeak and Spec2VecLoss objects that characterizes an MS2Spectrum'),\n",
       "  rdflib.term.URIRef('https://enpkg.commons-lab.org/kg/spec2vec_doc_mzspec:MSV000088521:SC_AP_Wi_DCM_features_ms2_pos.mgf:scan:999')),\n",
       " (rdflib.term.URIRef('https://enpkg.commons-lab.org/kg/IsdbAnnotation'),\n",
       "  rdflib.term.Literal('A spectrum structural annotation by comparison with an in-silico spectral DB, coupled to chemical and taxonomical reweighting'),\n",
       "  rdflib.term.URIRef('https://enpkg.commons-lab.org/kg/isdb_mzspec:MSV000088521:SC_AP_Wi_DCM_features_ms2_pos.mgf:scan:997')),\n",
       " (rdflib.term.URIRef('https://enpkg.commons-lab.org/kg/NPCPathway'),\n",
       "  rdflib.term.Literal('A NPClassifier (NPC) chemical pathway'),\n",
       "  rdflib.term.URIRef('https://enpkg.commons-lab.org/kg/npc_Polyketides')),\n",
       " (rdflib.term.URIRef('https://enpkg.commons-lab.org/kg/LCMSAnalysisNeg'),\n",
       "  rdflib.term.Literal('An LCMS analysis in negative ionization mode (neg)'),\n",
       "  rdflib.term.URIRef('https://enpkg.commons-lab.org/kg/VGF138_H11_neg.mzXML')),\n",
       " (rdflib.term.URIRef('https://enpkg.commons-lab.org/module/L610ugml'),\n",
       "  rdflib.term.Literal('A screening result at 10ug/mL from a phenotypic assay against L6 cells'),\n",
       "  rdflib.term.URIRef('https://enpkg.commons-lab.org/module/VGF138_H11_L6_10ugml')),\n",
       " (rdflib.term.URIRef('https://enpkg.commons-lab.org/module/Ldono10ugml'),\n",
       "  rdflib.term.Literal('A screening result at 10ug/mL from a phenotypic assay against L.donovani'),\n",
       "  rdflib.term.URIRef('https://enpkg.commons-lab.org/module/VGF138_H06_Ldonovani_10ugml')),\n",
       " (rdflib.term.URIRef('https://enpkg.commons-lab.org/module/Ldono2ugml'),\n",
       "  rdflib.term.Literal('A screening result at 2ug/mL from a phenotypic assay against L.donovani'),\n",
       "  rdflib.term.URIRef('https://enpkg.commons-lab.org/module/VGF138_H11_Ldonovani_2ugml')),\n",
       " (rdflib.term.URIRef('https://enpkg.commons-lab.org/module/Tbrucei10ugml'),\n",
       "  rdflib.term.Literal('A screening result at 10ug/mL from a phenotypic assay against T.brucei rhodesiense'),\n",
       "  rdflib.term.URIRef('https://enpkg.commons-lab.org/module/VGF138_H11_Tbruceirhod_10ugml')),\n",
       " (rdflib.term.URIRef('https://enpkg.commons-lab.org/module/Tbrucei2ugml'),\n",
       "  rdflib.term.Literal('A screening result at 2ug/mL from a phenotypic assay against T.brucei rhodesiense'),\n",
       "  rdflib.term.URIRef('https://enpkg.commons-lab.org/module/VGF138_H11_Tbruceirhod_2ugml')),\n",
       " (rdflib.term.URIRef('https://enpkg.commons-lab.org/module/Tcruzi10ugml'),\n",
       "  rdflib.term.Literal('A screening result at 10ug/mL from a phenotypic assay against T.cruzi'),\n",
       "  rdflib.term.URIRef('https://enpkg.commons-lab.org/module/VGF138_H11_Tcruzi_10ugml')),\n",
       " (rdflib.term.URIRef('https://enpkg.commons-lab.org/module/ChEMBLTarget'),\n",
       "  rdflib.term.Literal('A ChEMBL target'),\n",
       "  rdflib.term.URIRef('https://www.ebi.ac.uk/chembl/target_report_card/CHEMBL368')),\n",
       " (rdflib.term.URIRef('https://enpkg.commons-lab.org/kg/LabBlank'),\n",
       "  rdflib.term.Literal('A blank sample'),\n",
       "  rdflib.term.URIRef('https://enpkg.commons-lab.org/kg/VGF138_F12')),\n",
       " (rdflib.term.URIRef('https://enpkg.commons-lab.org/kg/LabQc'),\n",
       "  rdflib.term.Literal('A quality control (QC) sample'),\n",
       "  rdflib.term.URIRef('https://enpkg.commons-lab.org/kg/VGF138_H01')),\n",
       " (rdflib.term.URIRef('https://enpkg.commons-lab.org/module/ChEMBLAssayResults'),\n",
       "  rdflib.term.Literal('A ChEMBL assay result'),\n",
       "  rdflib.term.URIRef('https://enpkg.commons-lab.org/module/chembl_activity_9998')),\n",
       " (rdflib.term.URIRef('https://enpkg.commons-lab.org/module/ChEMBLAssay'),\n",
       "  rdflib.term.Literal('A ChEMBL assay'),\n",
       "  rdflib.term.URIRef('https://www.ebi.ac.uk/chembl/assay_report_card/CHEMBL916936')),\n",
       " (rdflib.term.URIRef('https://enpkg.commons-lab.org/module/ChEMBLChemical'),\n",
       "  rdflib.term.Literal('A ChEMBL chemical'),\n",
       "  rdflib.term.URIRef('https://www.ebi.ac.uk/chembl/compound_report_card/CHEMBL3474571')),\n",
       " (rdflib.term.URIRef('https://enpkg.commons-lab.org/module/ChEMBLDocument'),\n",
       "  rdflib.term.Literal('A ChEMBL document'),\n",
       "  rdflib.term.URIRef('https://www.ebi.ac.uk/chembl/document_report_card/CHEMBL1143259')),\n",
       " (rdflib.term.URIRef('https://enpkg.commons-lab.org/kg/LabObject'),\n",
       "  rdflib.term.Literal('An object that correspond to a physical laboratory object'),\n",
       "  rdflib.term.URIRef('https://enpkg.commons-lab.org/kg/V112049GP-01')),\n",
       " (rdflib.term.URIRef('https://enpkg.commons-lab.org/kg/BioAssayResults'),\n",
       "  rdflib.term.Literal('An object to store bioactivity results'),\n",
       "  rdflib.term.URIRef('https://enpkg.commons-lab.org/module/VGF138_H11_Tbruceirhod_2ugml')),\n",
       " (rdflib.term.URIRef('https://enpkg.commons-lab.org/kg/MS2Spectrum'),\n",
       "  rdflib.term.Literal('A fragmentation mass spectrometry (or MS2) spectrum'),\n",
       "  rdflib.term.URIRef('https://enpkg.commons-lab.org/kg/lcms_feature_mzspec:MSV000088521:SC_AP_Wi_DCM_features_ms2_pos.mgf:scan:993')),\n",
       " (rdflib.term.URIRef('https://enpkg.commons-lab.org/kg/LCMSAnalysis'),\n",
       "  rdflib.term.Literal('An LCMS analysis in a given ionization mode (pos or neg)'),\n",
       "  rdflib.term.URIRef('https://enpkg.commons-lab.org/kg/140424_PMA_SC_AP_Wi_DCM_ddMS2_pos.mzML')),\n",
       " (rdflib.term.URIRef('https://enpkg.commons-lab.org/kg/Annotation'),\n",
       "  rdflib.term.Literal('A spectral annotation'),\n",
       "  rdflib.term.URIRef('https://enpkg.commons-lab.org/kg/isdb_mzspec:MSV000088521:SC_AP_Wi_DCM_features_ms2_pos.mgf:scan:992')),\n",
       " (rdflib.term.URIRef('https://enpkg.commons-lab.org/kg/GNPSAnnotation'),\n",
       "  rdflib.term.Literal('A spectrum structural annotation by GNPS'),\n",
       "  None),\n",
       " (rdflib.term.URIRef('https://enpkg.commons-lab.org/kg/SpectralPair'),\n",
       "  rdflib.term.Literal('A pair of 2 MS2Spectra'),\n",
       "  rdflib.term.URIRef('https://enpkg.commons-lab.org/kg/lcms_feature_pair_mzspec:MSV000088521:SC_AP_Wi_DCM_features_ms2_pos.mgf:scan:9_mzspec:MSV000088521:SC_AP_Wi_DCM_features_ms2_pos.mgf:scan:41')),\n",
       " (rdflib.term.URIRef('https://enpkg.commons-lab.org/kg/ChemicalEntity'),\n",
       "  None,\n",
       "  rdflib.term.URIRef('https://enpkg.commons-lab.org/kg/ZZZQPOQWMWIOMQ-UHFFFAOYSA-N')),\n",
       " (rdflib.term.URIRef('https://enpkg.commons-lab.org/kg/ChemicalTaxonomy'),\n",
       "  None,\n",
       "  rdflib.term.URIRef('https://enpkg.commons-lab.org/kg/npc_Carotenoids_C40,_I2_I§')),\n",
       " (rdflib.term.URIRef('https://enpkg.commons-lab.org/kg/XRef'),\n",
       "  rdflib.term.Literal('Any cross-reference'),\n",
       "  rdflib.term.URIRef('https://enpkg.commons-lab.org/module/chembl_activity_9997')),\n",
       " (rdflib.term.URIRef('https://enpkg.commons-lab.org/kg/spec2vec'),\n",
       "  rdflib.term.Literal('A spec2vec-related object'),\n",
       "  rdflib.term.URIRef('https://enpkg.commons-lab.org/kg/spec2vec_doc_mzspec:MSV000088521:SC_AP_Wi_DCM_features_ms2_pos.mgf:scan:999')),\n",
       " (rdflib.term.URIRef('https://enpkg.commons-lab.org/module/SwissTPHBioAssay'),\n",
       "  rdflib.term.Literal('A bioasay result from Swiss Tropical and Public Health Institute (sTPH)'),\n",
       "  rdflib.term.URIRef('https://enpkg.commons-lab.org/module/VGF138_H11_Tcruzi_10ugml'))]"
      ]
     },
     "execution_count": 7,
     "metadata": {},
     "output_type": "execute_result"
    }
   ],
   "source": [
    "res"
   ]
  },
  {
   "cell_type": "code",
   "execution_count": 9,
   "metadata": {},
   "outputs": [
    {
     "data": {
      "text/plain": [
       "'<http://www.w3.org/1999/02/22-rdf-syntax-ns#XMLLiteral> (XMLLiteral, None, None), <http://www.w3.org/2001/XMLSchema#nonNegativeInteger> (nonNegativeInteger, None, None), <http://www.w3.org/2001/XMLSchema#string> (string, None, None), <https://enpkg.commons-lab.org/kg/RawMaterial> (RawMaterial, A raw laboratory biological material, i.e. before extraction, https://enpkg.commons-lab.org/kg/walth_ind_aerparts), <https://enpkg.commons-lab.org/kg/LFpair> (LFpair, A pair of 2 LCMSFeature, https://enpkg.commons-lab.org/kg/lcms_feature_pair_mzspec:MSV000088521:SC_AP_Wi_DCM_features_ms2_pos.mgf:scan:9_mzspec:MSV000088521:SC_AP_Wi_DCM_features_ms2_pos.mgf:scan:59), <https://enpkg.commons-lab.org/kg/WDChemical> (WDChemical, Cross-reference to a chemical entity in Wikidata, http://www.wikidata.org/entity/Q94518604), <https://enpkg.commons-lab.org/kg/WDTaxon> (WDTaxon, Cross-reference to a taxon in Wikidata, http://www.wikidata.org/entity/Q10878263), <https://enpkg.commons-lab.org/kg/InChIkey2D> (InChIkey2D, The first 14 characters of an InChIKey, often returned by MS-based annotation tools, https://enpkg.commons-lab.org/kg/ZZYIERSLRCSWBJ), <https://enpkg.commons-lab.org/kg/InChIkey> (InChIkey, A chemical structure represented by its InChIKey, https://enpkg.commons-lab.org/kg/ZZZQPOQWMWIOMQ-UHFFFAOYSA-N), <https://enpkg.commons-lab.org/kg/LabExtract> (LabExtract, A natural extract obtained from the processing of a RawMaterial, https://enpkg.commons-lab.org/kg/LP_P03_36), <https://enpkg.commons-lab.org/kg/LCMSAnalysisPos> (LCMSAnalysisPos, An LCMS analysis in positive ionization mode (pos), https://enpkg.commons-lab.org/kg/050418_LP__P03_35_pos.mzML), <https://enpkg.commons-lab.org/kg/LCMSFeatureList> (LCMSFeatureList, A list of LCMS features obtained from the processing of a given LCMS analysis, https://enpkg.commons-lab.org/kg/SC_AP_Wi_DCM_lcms_feature_list_pos), <https://enpkg.commons-lab.org/kg/SiriusCanopusAnnotation> (SiriusCanopusAnnotation, A spectrum chemical class annotation by SIRIUS-CANOPUS, https://enpkg.commons-lab.org/kg/canopus_mzspec:MSV000088521:SC_AP_Wi_DCM_features_ms2_pos.mgf:scan:997), <https://enpkg.commons-lab.org/kg/LCMSFeature> (LCMSFeature, An LCMS feature from a processed LCMS analysis, https://enpkg.commons-lab.org/kg/lcms_feature_mzspec:MSV000088521:SC_AP_Wi_DCM_features_ms2_pos.mgf:scan:913), <https://enpkg.commons-lab.org/kg/Spec2VecLoss> (Spec2VecLoss, A Spec2VecLoss that partly characterizes an MS2Spectrum, https://enpkg.commons-lab.org/kg/loss_184.55), <https://enpkg.commons-lab.org/kg/NPCClass> (NPCClass, A NPClassifier (NPC) chemical class, https://enpkg.commons-lab.org/kg/npc_Carotenoids_C50,_Iu_Iu), <https://enpkg.commons-lab.org/kg/NPCSuperclass> (NPCSuperclass, A NPClassifier (NPC) chemical superclass, https://enpkg.commons-lab.org/kg/npc_Carotenoids_C50), <https://enpkg.commons-lab.org/kg/Spec2VecPeak> (Spec2VecPeak, A Spec2VecPeak that partly characterizes an MS2 spectrum, https://enpkg.commons-lab.org/kg/peak_1097.93), <https://enpkg.commons-lab.org/kg/SiriusStructureAnnotation> (SiriusStructureAnnotation, A spectrum structural annotation by SIRIUS, https://enpkg.commons-lab.org/kg/sirius_mzspec:MSV000088521:SC_AP_Wi_DCM_features_ms2_pos.mgf:scan:999), <https://enpkg.commons-lab.org/kg/Spec2VecDoc> (Spec2VecDoc, An ensemble of Spec2VecPeak and Spec2VecLoss objects that characterizes an MS2Spectrum, https://enpkg.commons-lab.org/kg/spec2vec_doc_mzspec:MSV000088521:SC_AP_Wi_DCM_features_ms2_pos.mgf:scan:999), <https://enpkg.commons-lab.org/kg/IsdbAnnotation> (IsdbAnnotation, A spectrum structural annotation by comparison with an in-silico spectral DB, coupled to chemical and taxonomical reweighting, https://enpkg.commons-lab.org/kg/isdb_mzspec:MSV000088521:SC_AP_Wi_DCM_features_ms2_pos.mgf:scan:997), <https://enpkg.commons-lab.org/kg/NPCPathway> (NPCPathway, A NPClassifier (NPC) chemical pathway, https://enpkg.commons-lab.org/kg/npc_Polyketides), <https://enpkg.commons-lab.org/kg/LCMSAnalysisNeg> (LCMSAnalysisNeg, An LCMS analysis in negative ionization mode (neg), https://enpkg.commons-lab.org/kg/VGF138_H11_neg.mzXML), <https://enpkg.commons-lab.org/module/L610ugml> (L610ugml, A screening result at 10ug/mL from a phenotypic assay against L6 cells, https://enpkg.commons-lab.org/module/VGF138_H11_L6_10ugml), <https://enpkg.commons-lab.org/module/Ldono10ugml> (Ldono10ugml, A screening result at 10ug/mL from a phenotypic assay against L.donovani, https://enpkg.commons-lab.org/module/VGF138_H06_Ldonovani_10ugml), <https://enpkg.commons-lab.org/module/Ldono2ugml> (Ldono2ugml, A screening result at 2ug/mL from a phenotypic assay against L.donovani, https://enpkg.commons-lab.org/module/VGF138_H11_Ldonovani_2ugml), <https://enpkg.commons-lab.org/module/Tbrucei10ugml> (Tbrucei10ugml, A screening result at 10ug/mL from a phenotypic assay against T.brucei rhodesiense, https://enpkg.commons-lab.org/module/VGF138_H11_Tbruceirhod_10ugml), <https://enpkg.commons-lab.org/module/Tbrucei2ugml> (Tbrucei2ugml, A screening result at 2ug/mL from a phenotypic assay against T.brucei rhodesiense, https://enpkg.commons-lab.org/module/VGF138_H11_Tbruceirhod_2ugml), <https://enpkg.commons-lab.org/module/Tcruzi10ugml> (Tcruzi10ugml, A screening result at 10ug/mL from a phenotypic assay against T.cruzi, https://enpkg.commons-lab.org/module/VGF138_H11_Tcruzi_10ugml), <https://enpkg.commons-lab.org/module/ChEMBLTarget> (ChEMBLTarget, A ChEMBL target, https://www.ebi.ac.uk/chembl/target_report_card/CHEMBL368), <https://enpkg.commons-lab.org/kg/LabBlank> (LabBlank, A blank sample, https://enpkg.commons-lab.org/kg/VGF138_F12), <https://enpkg.commons-lab.org/kg/LabQc> (LabQc, A quality control (QC) sample, https://enpkg.commons-lab.org/kg/VGF138_H01), <https://enpkg.commons-lab.org/module/ChEMBLAssayResults> (ChEMBLAssayResults, A ChEMBL assay result, https://enpkg.commons-lab.org/module/chembl_activity_9998), <https://enpkg.commons-lab.org/module/ChEMBLAssay> (ChEMBLAssay, A ChEMBL assay, https://www.ebi.ac.uk/chembl/assay_report_card/CHEMBL916936), <https://enpkg.commons-lab.org/module/ChEMBLChemical> (ChEMBLChemical, A ChEMBL chemical, https://www.ebi.ac.uk/chembl/compound_report_card/CHEMBL3474571), <https://enpkg.commons-lab.org/module/ChEMBLDocument> (ChEMBLDocument, A ChEMBL document, https://www.ebi.ac.uk/chembl/document_report_card/CHEMBL1143259), <https://enpkg.commons-lab.org/kg/LabObject> (LabObject, An object that correspond to a physical laboratory object, https://enpkg.commons-lab.org/kg/V112049GP-01), <https://enpkg.commons-lab.org/kg/BioAssayResults> (BioAssayResults, An object to store bioactivity results, https://enpkg.commons-lab.org/module/VGF138_H11_Tbruceirhod_2ugml), <https://enpkg.commons-lab.org/kg/MS2Spectrum> (MS2Spectrum, A fragmentation mass spectrometry (or MS2) spectrum, https://enpkg.commons-lab.org/kg/lcms_feature_mzspec:MSV000088521:SC_AP_Wi_DCM_features_ms2_pos.mgf:scan:993), <https://enpkg.commons-lab.org/kg/LCMSAnalysis> (LCMSAnalysis, An LCMS analysis in a given ionization mode (pos or neg), https://enpkg.commons-lab.org/kg/140424_PMA_SC_AP_Wi_DCM_ddMS2_pos.mzML), <https://enpkg.commons-lab.org/kg/Annotation> (Annotation, A spectral annotation, https://enpkg.commons-lab.org/kg/isdb_mzspec:MSV000088521:SC_AP_Wi_DCM_features_ms2_pos.mgf:scan:992), <https://enpkg.commons-lab.org/kg/GNPSAnnotation> (GNPSAnnotation, A spectrum structural annotation by GNPS, None), <https://enpkg.commons-lab.org/kg/SpectralPair> (SpectralPair, A pair of 2 MS2Spectra, https://enpkg.commons-lab.org/kg/lcms_feature_pair_mzspec:MSV000088521:SC_AP_Wi_DCM_features_ms2_pos.mgf:scan:9_mzspec:MSV000088521:SC_AP_Wi_DCM_features_ms2_pos.mgf:scan:41), <https://enpkg.commons-lab.org/kg/ChemicalEntity> (ChemicalEntity, None, https://enpkg.commons-lab.org/kg/ZZZQPOQWMWIOMQ-UHFFFAOYSA-N), <https://enpkg.commons-lab.org/kg/ChemicalTaxonomy> (ChemicalTaxonomy, None, https://enpkg.commons-lab.org/kg/npc_Carotenoids_C40,_I2_I§), <https://enpkg.commons-lab.org/kg/XRef> (XRef, Any cross-reference, https://enpkg.commons-lab.org/module/chembl_activity_9997), <https://enpkg.commons-lab.org/kg/spec2vec> (spec2vec, A spec2vec-related object, https://enpkg.commons-lab.org/kg/spec2vec_doc_mzspec:MSV000088521:SC_AP_Wi_DCM_features_ms2_pos.mgf:scan:999), <https://enpkg.commons-lab.org/module/SwissTPHBioAssay> (SwissTPHBioAssay, A bioasay result from Swiss Tropical and Public Health Institute (sTPH), https://enpkg.commons-lab.org/module/VGF138_H11_Tcruzi_10ugml)'"
      ]
     },
     "execution_count": 9,
     "metadata": {},
     "output_type": "execute_result"
    }
   ],
   "source": [
    "def _get_local_name(iri: str) -> str:\n",
    "    if \"#\" in iri:\n",
    "        local_name = iri.split(\"#\")[-1]\n",
    "    elif \"/\" in iri:\n",
    "        local_name = iri.split(\"/\")[-1]\n",
    "    else:\n",
    "        raise ValueError(f\"Unexpected IRI '{iri}', contains neither '#' nor '/'.\")\n",
    "    return local_name\n",
    "\n",
    "def _res_to_str(res: rdflib.query.ResultRow, var: str) -> str:\n",
    "    return (\n",
    "        \"<\"\n",
    "        + str(res[var])\n",
    "        + \"> (\"\n",
    "        + _get_local_name(res[var])\n",
    "        + \", \"\n",
    "        + str(res[\"com\"])\n",
    "        + \", \"\n",
    "        + str(res[\"example\"])\n",
    "        + \")\"\n",
    "    )\n",
    "    \n",
    "\", \".join([_res_to_str(r, \"cls\") for r in res])"
   ]
  },
  {
   "cell_type": "markdown",
   "metadata": {},
   "source": [
    "#### how to pass ResultRow value to the prop/value query"
   ]
  },
  {
   "cell_type": "code",
   "execution_count": 13,
   "metadata": {},
   "outputs": [
    {
     "name": "stdout",
     "output_type": "stream",
     "text": [
      "\n",
      "    SELECT ?property (SAMPLE(COALESCE(?type, STR(DATATYPE(?value)), \"Untyped\")) AS ?valueType) WHERE {\n",
      "      {\n",
      "        SELECT ?instance WHERE {\n",
      "          ?instance a <https://enpkg.commons-lab.org/kg/InChIkey2D> .\n",
      "        } LIMIT 1000\n",
      "      }\n",
      "      ?instance ?property ?value .\n",
      "      OPTIONAL {\n",
      "        ?value a ?type .\n",
      "      }\n",
      "    }\n",
      "    GROUP BY ?property ?type\n",
      "    LIMIT 300\n",
      "    \n"
     ]
    }
   ],
   "source": [
    "query2 = \"\"\"\n",
    "    SELECT ?property (SAMPLE(COALESCE(?type, STR(DATATYPE(?value)), \"Untyped\")) AS ?valueType) WHERE {{\n",
    "      {{\n",
    "        SELECT ?instance WHERE {{\n",
    "          ?instance a <{class_uri}> .\n",
    "        }} LIMIT 1000\n",
    "      }}\n",
    "      ?instance ?property ?value .\n",
    "      OPTIONAL {{\n",
    "        ?value a ?type .\n",
    "      }}\n",
    "    }}\n",
    "    GROUP BY ?property ?type\n",
    "    LIMIT 300\n",
    "    \"\"\"\n",
    "    \n",
    "query2 = query2.format(class_uri=res[7][\"cls\"])\n",
    "print(query2)"
   ]
  },
  {
   "cell_type": "markdown",
   "metadata": {},
   "source": [
    "## function to automate query2 "
   ]
  },
  {
   "cell_type": "code",
   "execution_count": 15,
   "metadata": {},
   "outputs": [
    {
     "name": "stderr",
     "output_type": "stream",
     "text": [
      "  2%|▏         | 1/48 [00:00<00:07,  6.28it/s]"
     ]
    },
    {
     "name": "stdout",
     "output_type": "stream",
     "text": [
      "http://www.w3.org/1999/02/22-rdf-syntax-ns#XMLLiteral\n",
      "[]\n",
      "http://www.w3.org/2001/XMLSchema#nonNegativeInteger\n"
     ]
    },
    {
     "name": "stderr",
     "output_type": "stream",
     "text": [
      "  6%|▋         | 3/48 [00:00<00:06,  6.55it/s]"
     ]
    },
    {
     "name": "stdout",
     "output_type": "stream",
     "text": [
      "[]\n",
      "http://www.w3.org/2001/XMLSchema#string\n",
      "[]\n",
      "https://enpkg.commons-lab.org/kg/RawMaterial\n"
     ]
    },
    {
     "name": "stderr",
     "output_type": "stream",
     "text": [
      "  8%|▊         | 4/48 [00:00<00:08,  5.17it/s]"
     ]
    },
    {
     "name": "stdout",
     "output_type": "stream",
     "text": [
      "[('https://enpkg.commons-lab.org/kg/has_lab_process', 'https://enpkg.commons-lab.org/kg/LabExtract'), ('https://enpkg.commons-lab.org/kg/has_lab_process', 'https://enpkg.commons-lab.org/kg/LabObject'), ('https://enpkg.commons-lab.org/kg/submitted_taxon', 'http://www.w3.org/2001/XMLSchema#string'), ('https://enpkg.commons-lab.org/kg/has_LCMS', 'https://enpkg.commons-lab.org/kg/WDTaxon'), ('https://enpkg.commons-lab.org/kg/has_LCMS', 'https://enpkg.commons-lab.org/kg/XRef'), ('https://enpkg.commons-lab.org/kg/has_LCMS', 'http://www.w3.org/2001/XMLSchema#string'), ('https://enpkg.commons-lab.org/kg/has_wd_id', 'https://enpkg.commons-lab.org/kg/WDTaxon'), ('https://enpkg.commons-lab.org/kg/has_wd_id', 'https://enpkg.commons-lab.org/kg/XRef'), ('https://enpkg.commons-lab.org/kg/has_unresolved_taxon', 'Untyped'), ('https://enpkg.commons-lab.org/module/has_organe', 'Untyped'), ('https://enpkg.commons-lab.org/module/has_subsystem', 'Untyped'), ('https://enpkg.commons-lab.org/module/has_tissue', 'Untyped')]\n",
      "https://enpkg.commons-lab.org/kg/LFpair\n"
     ]
    },
    {
     "name": "stderr",
     "output_type": "stream",
     "text": [
      " 12%|█▎        | 6/48 [00:01<00:08,  4.93it/s]"
     ]
    },
    {
     "name": "stdout",
     "output_type": "stream",
     "text": [
      "[('https://enpkg.commons-lab.org/kg/has_mn_params', 'Untyped'), ('https://enpkg.commons-lab.org/kg/has_member', 'https://enpkg.commons-lab.org/kg/LCMSFeature'), ('https://enpkg.commons-lab.org/kg/has_member', 'https://enpkg.commons-lab.org/kg/MS2Spectrum')]\n",
      "https://enpkg.commons-lab.org/kg/WDChemical\n",
      "[]\n",
      "https://enpkg.commons-lab.org/kg/WDTaxon\n"
     ]
    },
    {
     "name": "stderr",
     "output_type": "stream",
     "text": [
      " 15%|█▍        | 7/48 [00:01<00:08,  4.99it/s]"
     ]
    },
    {
     "name": "stdout",
     "output_type": "stream",
     "text": [
      "[]\n",
      "https://enpkg.commons-lab.org/kg/InChIkey2D\n"
     ]
    },
    {
     "name": "stderr",
     "output_type": "stream",
     "text": [
      " 17%|█▋        | 8/48 [00:01<00:08,  4.60it/s]"
     ]
    },
    {
     "name": "stdout",
     "output_type": "stream",
     "text": [
      "[('https://enpkg.commons-lab.org/kg/has_npc_pathway', 'https://enpkg.commons-lab.org/kg/NPCPathway'), ('https://enpkg.commons-lab.org/kg/has_npc_pathway', 'https://enpkg.commons-lab.org/kg/ChemicalTaxonomy'), ('https://enpkg.commons-lab.org/kg/has_npc_superclass', 'https://enpkg.commons-lab.org/kg/NPCClass'), ('https://enpkg.commons-lab.org/kg/has_npc_superclass', 'https://enpkg.commons-lab.org/kg/NPCSuperclass'), ('https://enpkg.commons-lab.org/kg/has_npc_superclass', 'https://enpkg.commons-lab.org/kg/NPCPathway'), ('https://enpkg.commons-lab.org/kg/has_npc_superclass', 'https://enpkg.commons-lab.org/kg/ChemicalTaxonomy'), ('https://enpkg.commons-lab.org/kg/has_smiles', 'http://www.w3.org/2001/XMLSchema#string'), ('https://enpkg.commons-lab.org/kg/is_InChIkey2D_of', 'https://enpkg.commons-lab.org/kg/InChIkey'), ('https://enpkg.commons-lab.org/kg/is_InChIkey2D_of', 'https://enpkg.commons-lab.org/kg/ChemicalEntity'), ('https://enpkg.commons-lab.org/kg/has_npc_pathway', 'https://enpkg.commons-lab.org/kg/NPCClass'), ('https://enpkg.commons-lab.org/kg/has_npc_pathway', 'https://enpkg.commons-lab.org/kg/NPCSuperclass')]\n",
      "https://enpkg.commons-lab.org/kg/InChIkey\n"
     ]
    },
    {
     "name": "stderr",
     "output_type": "stream",
     "text": [
      " 19%|█▉        | 9/48 [00:01<00:08,  4.36it/s]"
     ]
    },
    {
     "name": "stdout",
     "output_type": "stream",
     "text": [
      "[('https://enpkg.commons-lab.org/kg/has_wd_id', 'https://enpkg.commons-lab.org/kg/WDChemical'), ('https://enpkg.commons-lab.org/kg/has_wd_id', 'https://enpkg.commons-lab.org/kg/XRef'), ('https://enpkg.commons-lab.org/kg/has_npc_pathway', 'https://enpkg.commons-lab.org/kg/NPCPathway'), ('https://enpkg.commons-lab.org/kg/has_npc_pathway', 'https://enpkg.commons-lab.org/kg/ChemicalTaxonomy'), ('https://enpkg.commons-lab.org/kg/has_npc_superclass', 'https://enpkg.commons-lab.org/kg/NPCClass'), ('https://enpkg.commons-lab.org/kg/has_npc_superclass', 'https://enpkg.commons-lab.org/kg/NPCSuperclass'), ('https://enpkg.commons-lab.org/kg/has_npc_superclass', 'https://enpkg.commons-lab.org/kg/NPCPathway'), ('https://enpkg.commons-lab.org/kg/has_npc_superclass', 'https://enpkg.commons-lab.org/kg/ChemicalTaxonomy'), ('https://enpkg.commons-lab.org/kg/has_smiles', 'http://www.w3.org/2001/XMLSchema#string'), ('https://enpkg.commons-lab.org/kg/has_npc_pathway', 'https://enpkg.commons-lab.org/kg/NPCClass'), ('https://enpkg.commons-lab.org/kg/has_npc_pathway', 'https://enpkg.commons-lab.org/kg/NPCSuperclass')]\n",
      "https://enpkg.commons-lab.org/kg/LabExtract\n"
     ]
    },
    {
     "name": "stderr",
     "output_type": "stream",
     "text": [
      " 21%|██        | 10/48 [00:02<00:09,  4.02it/s]"
     ]
    },
    {
     "name": "stdout",
     "output_type": "stream",
     "text": [
      "[('https://enpkg.commons-lab.org/kg/has_LCMS', 'https://enpkg.commons-lab.org/kg/LCMSAnalysisPos'), ('https://enpkg.commons-lab.org/kg/has_LCMS', 'https://enpkg.commons-lab.org/kg/LCMSAnalysis'), ('https://enpkg.commons-lab.org/kg/has_LCMS', 'https://enpkg.commons-lab.org/kg/LCMSAnalysisNeg')]\n",
      "https://enpkg.commons-lab.org/kg/LCMSAnalysisPos\n"
     ]
    },
    {
     "name": "stderr",
     "output_type": "stream",
     "text": [
      " 23%|██▎       | 11/48 [00:02<00:09,  4.03it/s]"
     ]
    },
    {
     "name": "stdout",
     "output_type": "stream",
     "text": [
      "[('https://enpkg.commons-lab.org/kg/has_gnpslcms_link', 'Untyped'), ('https://enpkg.commons-lab.org/kg/has_massive_license', 'Untyped')]\n",
      "https://enpkg.commons-lab.org/kg/LCMSFeatureList\n"
     ]
    },
    {
     "name": "stderr",
     "output_type": "stream",
     "text": [
      " 25%|██▌       | 12/48 [00:04<00:34,  1.05it/s]"
     ]
    },
    {
     "name": "stdout",
     "output_type": "stream",
     "text": [
      "[('https://enpkg.commons-lab.org/kg/has_ionization', 'http://www.w3.org/2001/XMLSchema#string')]\n",
      "https://enpkg.commons-lab.org/kg/SiriusCanopusAnnotation\n"
     ]
    },
    {
     "name": "stderr",
     "output_type": "stream",
     "text": [
      " 27%|██▋       | 13/48 [00:05<00:25,  1.35it/s]"
     ]
    },
    {
     "name": "stdout",
     "output_type": "stream",
     "text": [
      "[]\n",
      "https://enpkg.commons-lab.org/kg/LCMSFeature\n"
     ]
    },
    {
     "name": "stderr",
     "output_type": "stream",
     "text": [
      " 29%|██▉       | 14/48 [00:05<00:21,  1.60it/s]"
     ]
    },
    {
     "name": "stdout",
     "output_type": "stream",
     "text": [
      "[('https://enpkg.commons-lab.org/kg/has_ionization', 'http://www.w3.org/2001/XMLSchema#string'), ('https://enpkg.commons-lab.org/kg/has_parent_mass', 'http://www.w3.org/2001/XMLSchema#float'), ('https://enpkg.commons-lab.org/kg/has_raw_spectrum', 'http://www.w3.org/2001/XMLSchema#string'), ('https://enpkg.commons-lab.org/kg/has_retention_time', 'http://www.w3.org/2001/XMLSchema#float'), ('https://enpkg.commons-lab.org/kg/has_row_id', 'http://www.w3.org/2001/XMLSchema#decimal'), ('https://enpkg.commons-lab.org/kg/has_usi', 'http://www.w3.org/2001/XMLSchema#string')]\n",
      "https://enpkg.commons-lab.org/kg/Spec2VecLoss\n"
     ]
    },
    {
     "name": "stderr",
     "output_type": "stream",
     "text": [
      " 31%|███▏      | 15/48 [00:05<00:16,  2.00it/s]"
     ]
    },
    {
     "name": "stdout",
     "output_type": "stream",
     "text": [
      "[('https://enpkg.commons-lab.org/kg/has_value', 'http://www.w3.org/2001/XMLSchema#float')]\n",
      "https://enpkg.commons-lab.org/kg/NPCClass\n",
      "[]\n"
     ]
    },
    {
     "name": "stderr",
     "output_type": "stream",
     "text": [
      " 35%|███▌      | 17/48 [00:06<00:10,  2.95it/s]"
     ]
    },
    {
     "name": "stdout",
     "output_type": "stream",
     "text": [
      "https://enpkg.commons-lab.org/kg/NPCSuperclass\n",
      "[]\n",
      "https://enpkg.commons-lab.org/kg/Spec2VecPeak\n"
     ]
    },
    {
     "name": "stderr",
     "output_type": "stream",
     "text": [
      " 38%|███▊      | 18/48 [00:06<00:09,  3.32it/s]"
     ]
    },
    {
     "name": "stdout",
     "output_type": "stream",
     "text": [
      "[('https://enpkg.commons-lab.org/kg/has_value', 'http://www.w3.org/2001/XMLSchema#float')]\n",
      "https://enpkg.commons-lab.org/kg/SiriusStructureAnnotation\n"
     ]
    },
    {
     "name": "stderr",
     "output_type": "stream",
     "text": [
      " 40%|███▉      | 19/48 [00:06<00:08,  3.52it/s]"
     ]
    },
    {
     "name": "stdout",
     "output_type": "stream",
     "text": [
      "[('https://enpkg.commons-lab.org/kg/has_ionization', 'http://www.w3.org/2001/XMLSchema#string'), ('https://enpkg.commons-lab.org/kg/has_InChIkey2D', 'https://enpkg.commons-lab.org/kg/InChIkey2D'), ('https://enpkg.commons-lab.org/kg/has_sirius_score', 'http://www.w3.org/2001/XMLSchema#float'), ('https://enpkg.commons-lab.org/kg/has_zodiac_score', 'http://www.w3.org/2001/XMLSchema#float')]\n",
      "https://enpkg.commons-lab.org/kg/Spec2VecDoc\n"
     ]
    },
    {
     "name": "stderr",
     "output_type": "stream",
     "text": [
      " 42%|████▏     | 20/48 [00:07<00:12,  2.28it/s]"
     ]
    },
    {
     "name": "stdout",
     "output_type": "stream",
     "text": [
      "[('https://enpkg.commons-lab.org/kg/has_spec2vec_loss', 'https://enpkg.commons-lab.org/kg/Spec2VecLoss'), ('https://enpkg.commons-lab.org/kg/has_spec2vec_loss', 'https://enpkg.commons-lab.org/kg/spec2vec'), ('https://enpkg.commons-lab.org/kg/has_spec2vec_peak', 'https://enpkg.commons-lab.org/kg/Spec2VecPeak'), ('https://enpkg.commons-lab.org/kg/has_spec2vec_peak', 'https://enpkg.commons-lab.org/kg/spec2vec')]\n",
      "https://enpkg.commons-lab.org/kg/IsdbAnnotation\n"
     ]
    },
    {
     "name": "stderr",
     "output_type": "stream",
     "text": [
      " 46%|████▌     | 22/48 [00:07<00:08,  3.17it/s]"
     ]
    },
    {
     "name": "stdout",
     "output_type": "stream",
     "text": [
      "[('https://enpkg.commons-lab.org/kg/has_InChIkey2D', 'https://enpkg.commons-lab.org/kg/InChIkey2D'), ('https://enpkg.commons-lab.org/kg/has_spectral_score', 'http://www.w3.org/2001/XMLSchema#float'), ('https://enpkg.commons-lab.org/kg/has_taxo_score', 'http://www.w3.org/2001/XMLSchema#float')]\n",
      "https://enpkg.commons-lab.org/kg/NPCPathway\n",
      "[]\n",
      "https://enpkg.commons-lab.org/kg/LCMSAnalysisNeg\n"
     ]
    },
    {
     "name": "stderr",
     "output_type": "stream",
     "text": [
      " 48%|████▊     | 23/48 [00:08<00:07,  3.42it/s]"
     ]
    },
    {
     "name": "stdout",
     "output_type": "stream",
     "text": [
      "[('https://enpkg.commons-lab.org/kg/has_gnpslcms_link', 'Untyped'), ('https://enpkg.commons-lab.org/kg/has_massive_license', 'Untyped')]\n",
      "https://enpkg.commons-lab.org/module/L610ugml\n"
     ]
    },
    {
     "name": "stderr",
     "output_type": "stream",
     "text": [
      " 50%|█████     | 24/48 [00:08<00:06,  3.65it/s]"
     ]
    },
    {
     "name": "stdout",
     "output_type": "stream",
     "text": [
      "[('https://enpkg.commons-lab.org/module/inhibition_percentage', 'http://www.w3.org/2001/XMLSchema#float')]\n",
      "https://enpkg.commons-lab.org/module/Ldono10ugml\n"
     ]
    },
    {
     "name": "stderr",
     "output_type": "stream",
     "text": [
      " 52%|█████▏    | 25/48 [00:08<00:06,  3.80it/s]"
     ]
    },
    {
     "name": "stdout",
     "output_type": "stream",
     "text": [
      "[('https://enpkg.commons-lab.org/module/inhibition_percentage', 'http://www.w3.org/2001/XMLSchema#float'), ('https://enpkg.commons-lab.org/module/target_id', 'https://enpkg.commons-lab.org/module/ChEMBLTarget'), ('https://enpkg.commons-lab.org/module/target_id', 'https://enpkg.commons-lab.org/kg/XRef')]\n",
      "https://enpkg.commons-lab.org/module/Ldono2ugml\n"
     ]
    },
    {
     "name": "stderr",
     "output_type": "stream",
     "text": [
      " 54%|█████▍    | 26/48 [00:08<00:05,  3.98it/s]"
     ]
    },
    {
     "name": "stdout",
     "output_type": "stream",
     "text": [
      "[('https://enpkg.commons-lab.org/module/inhibition_percentage', 'http://www.w3.org/2001/XMLSchema#float'), ('https://enpkg.commons-lab.org/module/target_id', 'https://enpkg.commons-lab.org/module/ChEMBLTarget'), ('https://enpkg.commons-lab.org/module/target_id', 'https://enpkg.commons-lab.org/kg/XRef')]\n",
      "https://enpkg.commons-lab.org/module/Tbrucei10ugml\n"
     ]
    },
    {
     "name": "stderr",
     "output_type": "stream",
     "text": [
      " 56%|█████▋    | 27/48 [00:08<00:05,  4.11it/s]"
     ]
    },
    {
     "name": "stdout",
     "output_type": "stream",
     "text": [
      "[('https://enpkg.commons-lab.org/module/inhibition_percentage', 'http://www.w3.org/2001/XMLSchema#float'), ('https://enpkg.commons-lab.org/module/target_id', 'https://enpkg.commons-lab.org/module/ChEMBLTarget'), ('https://enpkg.commons-lab.org/module/target_id', 'https://enpkg.commons-lab.org/kg/XRef')]\n",
      "https://enpkg.commons-lab.org/module/Tbrucei2ugml\n"
     ]
    },
    {
     "name": "stderr",
     "output_type": "stream",
     "text": [
      " 58%|█████▊    | 28/48 [00:09<00:04,  4.17it/s]"
     ]
    },
    {
     "name": "stdout",
     "output_type": "stream",
     "text": [
      "[('https://enpkg.commons-lab.org/module/inhibition_percentage', 'http://www.w3.org/2001/XMLSchema#float'), ('https://enpkg.commons-lab.org/module/target_id', 'https://enpkg.commons-lab.org/module/ChEMBLTarget'), ('https://enpkg.commons-lab.org/module/target_id', 'https://enpkg.commons-lab.org/kg/XRef')]\n",
      "https://enpkg.commons-lab.org/module/Tcruzi10ugml\n"
     ]
    },
    {
     "name": "stderr",
     "output_type": "stream",
     "text": [
      " 62%|██████▎   | 30/48 [00:09<00:03,  4.62it/s]"
     ]
    },
    {
     "name": "stdout",
     "output_type": "stream",
     "text": [
      "[('https://enpkg.commons-lab.org/module/inhibition_percentage', 'http://www.w3.org/2001/XMLSchema#float'), ('https://enpkg.commons-lab.org/module/target_id', 'https://enpkg.commons-lab.org/module/ChEMBLTarget'), ('https://enpkg.commons-lab.org/module/target_id', 'https://enpkg.commons-lab.org/kg/XRef')]\n",
      "https://enpkg.commons-lab.org/module/ChEMBLTarget\n",
      "[('https://enpkg.commons-lab.org/module/target_name', 'http://www.w3.org/2001/XMLSchema#string')]\n",
      "https://enpkg.commons-lab.org/kg/LabBlank\n"
     ]
    },
    {
     "name": "stderr",
     "output_type": "stream",
     "text": [
      " 67%|██████▋   | 32/48 [00:09<00:03,  5.17it/s]"
     ]
    },
    {
     "name": "stdout",
     "output_type": "stream",
     "text": [
      "[('https://enpkg.commons-lab.org/kg/has_LCMS', 'https://enpkg.commons-lab.org/kg/LCMSAnalysisNeg'), ('https://enpkg.commons-lab.org/kg/has_LCMS', 'https://enpkg.commons-lab.org/kg/LCMSAnalysis')]\n",
      "https://enpkg.commons-lab.org/kg/LabQc\n",
      "[('https://enpkg.commons-lab.org/kg/has_LCMS', 'https://enpkg.commons-lab.org/kg/LCMSAnalysisNeg'), ('https://enpkg.commons-lab.org/kg/has_LCMS', 'https://enpkg.commons-lab.org/kg/LCMSAnalysis')]\n",
      "https://enpkg.commons-lab.org/module/ChEMBLAssayResults\n"
     ]
    },
    {
     "name": "stderr",
     "output_type": "stream",
     "text": [
      " 71%|███████   | 34/48 [00:10<00:02,  4.75it/s]"
     ]
    },
    {
     "name": "stdout",
     "output_type": "stream",
     "text": [
      "[('https://enpkg.commons-lab.org/module/target_id', 'https://enpkg.commons-lab.org/module/ChEMBLTarget'), ('https://enpkg.commons-lab.org/module/target_id', 'https://enpkg.commons-lab.org/kg/XRef'), ('https://enpkg.commons-lab.org/module/activity_relation', 'http://www.w3.org/2001/XMLSchema#string'), ('https://enpkg.commons-lab.org/module/activity_type', 'http://www.w3.org/2001/XMLSchema#string'), ('https://enpkg.commons-lab.org/module/activity_unit', 'http://www.w3.org/2001/XMLSchema#string'), ('https://enpkg.commons-lab.org/module/activity_value', 'http://www.w3.org/2001/XMLSchema#float'), ('https://enpkg.commons-lab.org/module/assay_id', 'https://enpkg.commons-lab.org/module/ChEMBLAssay'), ('https://enpkg.commons-lab.org/module/assay_id', 'https://enpkg.commons-lab.org/kg/XRef'), ('https://enpkg.commons-lab.org/module/target_name', 'http://www.w3.org/2001/XMLSchema#string')]\n",
      "https://enpkg.commons-lab.org/module/ChEMBLAssay\n",
      "[]\n",
      "https://enpkg.commons-lab.org/module/ChEMBLChemical\n"
     ]
    },
    {
     "name": "stderr",
     "output_type": "stream",
     "text": [
      " 75%|███████▌  | 36/48 [00:10<00:02,  4.91it/s]"
     ]
    },
    {
     "name": "stdout",
     "output_type": "stream",
     "text": [
      "[]\n",
      "https://enpkg.commons-lab.org/module/ChEMBLDocument\n",
      "[('https://enpkg.commons-lab.org/module/journal_name', 'http://www.w3.org/2001/XMLSchema#string')]\n",
      "https://enpkg.commons-lab.org/kg/LabObject\n"
     ]
    },
    {
     "name": "stderr",
     "output_type": "stream",
     "text": [
      " 77%|███████▋  | 37/48 [00:11<00:02,  4.61it/s]"
     ]
    },
    {
     "name": "stdout",
     "output_type": "stream",
     "text": [
      "[('https://enpkg.commons-lab.org/kg/has_lab_process', 'https://enpkg.commons-lab.org/kg/LabExtract'), ('https://enpkg.commons-lab.org/kg/has_lab_process', 'https://enpkg.commons-lab.org/kg/LabObject'), ('https://enpkg.commons-lab.org/kg/submitted_taxon', 'http://www.w3.org/2001/XMLSchema#string'), ('https://enpkg.commons-lab.org/kg/has_LCMS', 'https://enpkg.commons-lab.org/kg/WDTaxon'), ('https://enpkg.commons-lab.org/kg/has_LCMS', 'https://enpkg.commons-lab.org/kg/XRef'), ('https://enpkg.commons-lab.org/kg/has_LCMS', 'http://www.w3.org/2001/XMLSchema#string'), ('https://enpkg.commons-lab.org/kg/has_wd_id', 'https://enpkg.commons-lab.org/kg/WDTaxon'), ('https://enpkg.commons-lab.org/kg/has_wd_id', 'https://enpkg.commons-lab.org/kg/XRef'), ('https://enpkg.commons-lab.org/kg/has_LCMS', 'https://enpkg.commons-lab.org/kg/LCMSAnalysisPos'), ('https://enpkg.commons-lab.org/kg/has_LCMS', 'https://enpkg.commons-lab.org/kg/LCMSAnalysis'), ('https://enpkg.commons-lab.org/kg/has_unresolved_taxon', 'Untyped'), ('https://enpkg.commons-lab.org/module/has_organe', 'Untyped'), ('https://enpkg.commons-lab.org/module/has_subsystem', 'Untyped'), ('https://enpkg.commons-lab.org/module/has_tissue', 'Untyped'), ('https://enpkg.commons-lab.org/kg/has_LCMS', 'https://enpkg.commons-lab.org/kg/LCMSAnalysisNeg')]\n",
      "https://enpkg.commons-lab.org/kg/BioAssayResults\n"
     ]
    },
    {
     "name": "stderr",
     "output_type": "stream",
     "text": [
      " 79%|███████▉  | 38/48 [00:11<00:02,  4.60it/s]"
     ]
    },
    {
     "name": "stdout",
     "output_type": "stream",
     "text": [
      "[('https://enpkg.commons-lab.org/module/inhibition_percentage', 'http://www.w3.org/2001/XMLSchema#float'), ('https://enpkg.commons-lab.org/module/target_id', 'https://enpkg.commons-lab.org/module/ChEMBLTarget'), ('https://enpkg.commons-lab.org/module/target_id', 'https://enpkg.commons-lab.org/kg/XRef')]\n",
      "https://enpkg.commons-lab.org/kg/MS2Spectrum\n"
     ]
    },
    {
     "name": "stderr",
     "output_type": "stream",
     "text": [
      " 81%|████████▏ | 39/48 [00:11<00:02,  3.94it/s]"
     ]
    },
    {
     "name": "stdout",
     "output_type": "stream",
     "text": [
      "[('https://enpkg.commons-lab.org/kg/has_ionization', 'http://www.w3.org/2001/XMLSchema#string'), ('https://enpkg.commons-lab.org/kg/has_parent_mass', 'http://www.w3.org/2001/XMLSchema#float'), ('https://enpkg.commons-lab.org/kg/has_raw_spectrum', 'http://www.w3.org/2001/XMLSchema#string'), ('https://enpkg.commons-lab.org/kg/has_retention_time', 'http://www.w3.org/2001/XMLSchema#float'), ('https://enpkg.commons-lab.org/kg/has_row_id', 'http://www.w3.org/2001/XMLSchema#decimal'), ('https://enpkg.commons-lab.org/kg/has_usi', 'http://www.w3.org/2001/XMLSchema#string')]\n",
      "https://enpkg.commons-lab.org/kg/LCMSAnalysis\n"
     ]
    },
    {
     "name": "stderr",
     "output_type": "stream",
     "text": [
      " 83%|████████▎ | 40/48 [00:11<00:02,  3.98it/s]"
     ]
    },
    {
     "name": "stdout",
     "output_type": "stream",
     "text": [
      "[('https://enpkg.commons-lab.org/kg/has_gnpslcms_link', 'Untyped'), ('https://enpkg.commons-lab.org/kg/has_massive_license', 'Untyped')]\n",
      "https://enpkg.commons-lab.org/kg/Annotation\n"
     ]
    },
    {
     "name": "stderr",
     "output_type": "stream",
     "text": [
      " 88%|████████▊ | 42/48 [00:12<00:01,  4.56it/s]"
     ]
    },
    {
     "name": "stdout",
     "output_type": "stream",
     "text": [
      "[('https://enpkg.commons-lab.org/kg/has_InChIkey2D', 'https://enpkg.commons-lab.org/kg/InChIkey2D'), ('https://enpkg.commons-lab.org/kg/has_spectral_score', 'http://www.w3.org/2001/XMLSchema#float'), ('https://enpkg.commons-lab.org/kg/has_taxo_score', 'http://www.w3.org/2001/XMLSchema#float'), ('https://enpkg.commons-lab.org/kg/has_ionization', 'http://www.w3.org/2001/XMLSchema#string'), ('https://enpkg.commons-lab.org/kg/has_sirius_score', 'http://www.w3.org/2001/XMLSchema#float'), ('https://enpkg.commons-lab.org/kg/has_zodiac_score', 'http://www.w3.org/2001/XMLSchema#float')]\n",
      "https://enpkg.commons-lab.org/kg/GNPSAnnotation\n",
      "[]\n",
      "https://enpkg.commons-lab.org/kg/SpectralPair\n"
     ]
    },
    {
     "name": "stderr",
     "output_type": "stream",
     "text": [
      " 90%|████████▉ | 43/48 [00:12<00:01,  4.45it/s]"
     ]
    },
    {
     "name": "stdout",
     "output_type": "stream",
     "text": [
      "[('https://enpkg.commons-lab.org/kg/has_mn_params', 'Untyped'), ('https://enpkg.commons-lab.org/kg/has_member', 'https://enpkg.commons-lab.org/kg/LCMSFeature'), ('https://enpkg.commons-lab.org/kg/has_member', 'https://enpkg.commons-lab.org/kg/MS2Spectrum')]\n",
      "https://enpkg.commons-lab.org/kg/ChemicalEntity\n"
     ]
    },
    {
     "name": "stderr",
     "output_type": "stream",
     "text": [
      " 92%|█████████▏| 44/48 [00:12<00:00,  4.36it/s]"
     ]
    },
    {
     "name": "stdout",
     "output_type": "stream",
     "text": [
      "[('https://enpkg.commons-lab.org/kg/has_wd_id', 'https://enpkg.commons-lab.org/kg/WDChemical'), ('https://enpkg.commons-lab.org/kg/has_wd_id', 'https://enpkg.commons-lab.org/kg/XRef'), ('https://enpkg.commons-lab.org/kg/has_npc_pathway', 'https://enpkg.commons-lab.org/kg/NPCPathway'), ('https://enpkg.commons-lab.org/kg/has_npc_pathway', 'https://enpkg.commons-lab.org/kg/ChemicalTaxonomy'), ('https://enpkg.commons-lab.org/kg/has_npc_superclass', 'https://enpkg.commons-lab.org/kg/NPCClass'), ('https://enpkg.commons-lab.org/kg/has_npc_superclass', 'https://enpkg.commons-lab.org/kg/NPCSuperclass'), ('https://enpkg.commons-lab.org/kg/has_npc_superclass', 'https://enpkg.commons-lab.org/kg/NPCPathway'), ('https://enpkg.commons-lab.org/kg/has_npc_superclass', 'https://enpkg.commons-lab.org/kg/ChemicalTaxonomy'), ('https://enpkg.commons-lab.org/kg/has_smiles', 'http://www.w3.org/2001/XMLSchema#string'), ('https://enpkg.commons-lab.org/kg/has_npc_pathway', 'https://enpkg.commons-lab.org/kg/NPCClass'), ('https://enpkg.commons-lab.org/kg/has_npc_pathway', 'https://enpkg.commons-lab.org/kg/NPCSuperclass')]\n",
      "https://enpkg.commons-lab.org/kg/ChemicalTaxonomy\n"
     ]
    },
    {
     "name": "stderr",
     "output_type": "stream",
     "text": [
      " 94%|█████████▍| 45/48 [00:13<00:00,  4.14it/s]"
     ]
    },
    {
     "name": "stdout",
     "output_type": "stream",
     "text": [
      "[]\n",
      "https://enpkg.commons-lab.org/kg/XRef\n"
     ]
    },
    {
     "name": "stderr",
     "output_type": "stream",
     "text": [
      " 96%|█████████▌| 46/48 [00:13<00:00,  3.69it/s]"
     ]
    },
    {
     "name": "stdout",
     "output_type": "stream",
     "text": [
      "[]\n",
      "https://enpkg.commons-lab.org/kg/spec2vec\n"
     ]
    },
    {
     "name": "stderr",
     "output_type": "stream",
     "text": [
      " 98%|█████████▊| 47/48 [00:13<00:00,  3.70it/s]"
     ]
    },
    {
     "name": "stdout",
     "output_type": "stream",
     "text": [
      "[('https://enpkg.commons-lab.org/kg/has_spec2vec_loss', 'https://enpkg.commons-lab.org/kg/Spec2VecLoss'), ('https://enpkg.commons-lab.org/kg/has_spec2vec_loss', 'https://enpkg.commons-lab.org/kg/spec2vec'), ('https://enpkg.commons-lab.org/kg/has_spec2vec_peak', 'https://enpkg.commons-lab.org/kg/Spec2VecPeak'), ('https://enpkg.commons-lab.org/kg/has_spec2vec_peak', 'https://enpkg.commons-lab.org/kg/spec2vec'), ('https://enpkg.commons-lab.org/kg/has_value', 'http://www.w3.org/2001/XMLSchema#float')]\n",
      "https://enpkg.commons-lab.org/module/SwissTPHBioAssay\n"
     ]
    },
    {
     "name": "stderr",
     "output_type": "stream",
     "text": [
      "100%|██████████| 48/48 [00:13<00:00,  3.47it/s]"
     ]
    },
    {
     "name": "stdout",
     "output_type": "stream",
     "text": [
      "[('https://enpkg.commons-lab.org/module/inhibition_percentage', 'http://www.w3.org/2001/XMLSchema#float'), ('https://enpkg.commons-lab.org/module/target_id', 'https://enpkg.commons-lab.org/module/ChEMBLTarget'), ('https://enpkg.commons-lab.org/module/target_id', 'https://enpkg.commons-lab.org/kg/XRef')]\n"
     ]
    },
    {
     "name": "stderr",
     "output_type": "stream",
     "text": [
      "\n"
     ]
    }
   ],
   "source": [
    "\n",
    "\n",
    "def get_prop_and_val_types(class_uri: str) -> List[Tuple[str, str, str]]:\n",
    "    query = \"\"\"\n",
    "    SELECT ?property (SAMPLE(COALESCE(?type, STR(DATATYPE(?value)), \"Untyped\")) AS ?valueType) WHERE {{\n",
    "      {{\n",
    "        SELECT ?instance WHERE {{\n",
    "          ?instance a <{class_uri}> .\n",
    "        }} LIMIT 1000\n",
    "      }}\n",
    "      ?instance ?property ?value .\n",
    "      OPTIONAL {{\n",
    "        ?value a ?type .\n",
    "      }}\n",
    "    }}\n",
    "    GROUP BY ?property ?type\n",
    "    LIMIT 300\n",
    "    \"\"\"\n",
    "    query = query.format(class_uri=class_uri)\n",
    "    res = graph.query(query_object=query)\n",
    "    res = [r for r in res if isinstance(r, ResultRow)]\n",
    "    res = [(str(r[\"property\"]), str(r[\"valueType\"])) for r in res]\n",
    "    excluded_uris = [\n",
    "        \"http://www.w3.org/1999/02/22-rdf-syntax-ns#type\",\n",
    "        \"http://www.w3.org/2000/01/rdf-schema#label\",\n",
    "        \"http://www.w3.org/2000/01/rdf-schema#comment\",\n",
    "        \"http://www.w3.org/2000/01/rdf-schema#Class\",\n",
    "        \"http://xmlns.com/foaf/0.1/depiction\"\n",
    "    ]\n",
    "    # Filter out properties with alphanumeric (hexadecimal) sequences after an underscore\n",
    "    filtered_results = []\n",
    "    for property_uri, value_type in res:\n",
    "        # Regex to match properties that do NOT have a hexadecimal sequence after an underscore\n",
    "        if not re.search(r'_([0-9a-fA-F]+)', property_uri) and property_uri not in excluded_uris:\n",
    "            filtered_results.append((property_uri, value_type))\n",
    "            \n",
    "    return filtered_results\n",
    "  \n",
    "for r in tqdm(res):\n",
    "    print(r[\"cls\"])\n",
    "    print(get_prop_and_val_types(r[\"cls\"]))"
   ]
  },
  {
   "cell_type": "markdown",
   "metadata": {},
   "source": [
    "## constructing ttl schemas"
   ]
  },
  {
   "cell_type": "code",
   "execution_count": 81,
   "metadata": {},
   "outputs": [],
   "source": [
    "g = Graph()\n",
    "\n",
    "for r in res:\n",
    "    class_ref = URIRef(str(r[\"cls\"]))\n",
    "    properties_and_values = get_prop_and_val_types(str(r[\"cls\"]))\n",
    "    for property_uri, sample_value in properties_and_values:\n",
    "        property_ref = URIRef(property_uri)\n",
    "        sample_value_ref = URIRef(sample_value)\n",
    "        g.add((class_ref, property_ref, sample_value_ref))"
   ]
  },
  {
   "cell_type": "code",
   "execution_count": 21,
   "metadata": {},
   "outputs": [
    {
     "name": "stdout",
     "output_type": "stream",
     "text": [
      "@prefix ns1: <https://enpkg.commons-lab.org/kg/> .\n",
      "@prefix ns2: <https://enpkg.commons-lab.org/module/> .\n",
      "@prefix xsd: <http://www.w3.org/2001/XMLSchema#> .\n",
      "\n",
      "ns1:Annotation ns1:has_InChIkey2D ns1:InChIkey2D ;\n",
      "    ns1:has_ionization xsd:string ;\n",
      "    ns1:has_sirius_score xsd:float ;\n",
      "    ns1:has_spectral_score xsd:float ;\n",
      "    ns1:has_taxo_score xsd:float ;\n",
      "    ns1:has_zodiac_score xsd:float .\n",
      "\n",
      "ns1:BioAssayResults ns2:inhibition_percentage xsd:float ;\n",
      "    ns2:target_id ns1:XRef,\n",
      "        ns2:ChEMBLTarget .\n",
      "\n",
      "ns1:IsdbAnnotation ns1:has_InChIkey2D ns1:InChIkey2D ;\n",
      "    ns1:has_spectral_score xsd:float ;\n",
      "    ns1:has_taxo_score xsd:float .\n",
      "\n",
      "ns1:LCMSFeatureList ns1:has_ionization xsd:string .\n",
      "\n",
      "ns1:LFpair ns1:has_member ns1:LCMSFeature,\n",
      "        ns1:MS2Spectrum ;\n",
      "    ns1:has_mn_params <Untyped> .\n",
      "\n",
      "ns1:LabBlank ns1:has_LCMS ns1:LCMSAnalysis,\n",
      "        ns1:LCMSAnalysisNeg .\n",
      "\n",
      "ns1:LabQc ns1:has_LCMS ns1:LCMSAnalysis,\n",
      "        ns1:LCMSAnalysisNeg .\n",
      "\n",
      "ns1:RawMaterial ns1:has_LCMS xsd:string,\n",
      "        ns1:WDTaxon,\n",
      "        ns1:XRef ;\n",
      "    ns1:has_lab_process ns1:LabExtract,\n",
      "        ns1:LabObject ;\n",
      "    ns1:has_unresolved_taxon <Untyped> ;\n",
      "    ns1:has_wd_id ns1:WDTaxon,\n",
      "        ns1:XRef ;\n",
      "    ns1:submitted_taxon xsd:string ;\n",
      "    ns2:has_organe <Untyped> ;\n",
      "    ns2:has_subsystem <Untyped> ;\n",
      "    ns2:has_tissue <Untyped> .\n",
      "\n",
      "ns1:SiriusStructureAnnotation ns1:has_InChIkey2D ns1:InChIkey2D ;\n",
      "    ns1:has_ionization xsd:string ;\n",
      "    ns1:has_sirius_score xsd:float ;\n",
      "    ns1:has_zodiac_score xsd:float .\n",
      "\n",
      "ns1:Spec2VecDoc ns1:has_spec2vec_loss ns1:Spec2VecLoss,\n",
      "        ns1:spec2vec ;\n",
      "    ns1:has_spec2vec_peak ns1:Spec2VecPeak,\n",
      "        ns1:spec2vec .\n",
      "\n",
      "ns1:SpectralPair ns1:has_member ns1:LCMSFeature,\n",
      "        ns1:MS2Spectrum ;\n",
      "    ns1:has_mn_params <Untyped> .\n",
      "\n",
      "ns2:ChEMBLAssayResults ns2:activity_relation xsd:string ;\n",
      "    ns2:activity_type xsd:string ;\n",
      "    ns2:activity_unit xsd:string ;\n",
      "    ns2:activity_value xsd:float ;\n",
      "    ns2:assay_id ns1:XRef,\n",
      "        ns2:ChEMBLAssay ;\n",
      "    ns2:target_id ns1:XRef,\n",
      "        ns2:ChEMBLTarget ;\n",
      "    ns2:target_name xsd:string .\n",
      "\n",
      "ns2:ChEMBLDocument ns2:journal_name xsd:string .\n",
      "\n",
      "ns2:L610ugml ns2:inhibition_percentage xsd:float .\n",
      "\n",
      "ns2:Ldono10ugml ns2:inhibition_percentage xsd:float ;\n",
      "    ns2:target_id ns1:XRef,\n",
      "        ns2:ChEMBLTarget .\n",
      "\n",
      "ns2:Ldono2ugml ns2:inhibition_percentage xsd:float ;\n",
      "    ns2:target_id ns1:XRef,\n",
      "        ns2:ChEMBLTarget .\n",
      "\n",
      "ns2:SwissTPHBioAssay ns2:inhibition_percentage xsd:float ;\n",
      "    ns2:target_id ns1:XRef,\n",
      "        ns2:ChEMBLTarget .\n",
      "\n",
      "ns2:Tbrucei10ugml ns2:inhibition_percentage xsd:float ;\n",
      "    ns2:target_id ns1:XRef,\n",
      "        ns2:ChEMBLTarget .\n",
      "\n",
      "ns2:Tbrucei2ugml ns2:inhibition_percentage xsd:float ;\n",
      "    ns2:target_id ns1:XRef,\n",
      "        ns2:ChEMBLTarget .\n",
      "\n",
      "ns2:Tcruzi10ugml ns2:inhibition_percentage xsd:float ;\n",
      "    ns2:target_id ns1:XRef,\n",
      "        ns2:ChEMBLTarget .\n",
      "\n",
      "ns1:ChemicalEntity ns1:has_npc_pathway ns1:ChemicalTaxonomy,\n",
      "        ns1:NPCClass,\n",
      "        ns1:NPCPathway,\n",
      "        ns1:NPCSuperclass ;\n",
      "    ns1:has_npc_superclass ns1:ChemicalTaxonomy,\n",
      "        ns1:NPCClass,\n",
      "        ns1:NPCPathway,\n",
      "        ns1:NPCSuperclass ;\n",
      "    ns1:has_smiles xsd:string ;\n",
      "    ns1:has_wd_id ns1:WDChemical,\n",
      "        ns1:XRef .\n",
      "\n",
      "ns1:InChIkey ns1:has_npc_pathway ns1:ChemicalTaxonomy,\n",
      "        ns1:NPCClass,\n",
      "        ns1:NPCPathway,\n",
      "        ns1:NPCSuperclass ;\n",
      "    ns1:has_npc_superclass ns1:ChemicalTaxonomy,\n",
      "        ns1:NPCClass,\n",
      "        ns1:NPCPathway,\n",
      "        ns1:NPCSuperclass ;\n",
      "    ns1:has_smiles xsd:string ;\n",
      "    ns1:has_wd_id ns1:WDChemical,\n",
      "        ns1:XRef .\n",
      "\n",
      "ns1:LCMSAnalysisPos ns1:has_gnpslcms_link <Untyped> ;\n",
      "    ns1:has_massive_license <Untyped> .\n",
      "\n",
      "ns1:LCMSFeature ns1:has_ionization xsd:string ;\n",
      "    ns1:has_parent_mass xsd:float ;\n",
      "    ns1:has_raw_spectrum xsd:string ;\n",
      "    ns1:has_retention_time xsd:float ;\n",
      "    ns1:has_row_id xsd:decimal ;\n",
      "    ns1:has_usi xsd:string .\n",
      "\n",
      "ns1:LabExtract ns1:has_LCMS ns1:LCMSAnalysis,\n",
      "        ns1:LCMSAnalysisNeg,\n",
      "        ns1:LCMSAnalysisPos .\n",
      "\n",
      "ns1:LabObject ns1:has_LCMS xsd:string,\n",
      "        ns1:LCMSAnalysis,\n",
      "        ns1:LCMSAnalysisNeg,\n",
      "        ns1:LCMSAnalysisPos,\n",
      "        ns1:WDTaxon,\n",
      "        ns1:XRef ;\n",
      "    ns1:has_lab_process ns1:LabExtract,\n",
      "        ns1:LabObject ;\n",
      "    ns1:has_unresolved_taxon <Untyped> ;\n",
      "    ns1:has_wd_id ns1:WDTaxon,\n",
      "        ns1:XRef ;\n",
      "    ns1:submitted_taxon xsd:string ;\n",
      "    ns2:has_organe <Untyped> ;\n",
      "    ns2:has_subsystem <Untyped> ;\n",
      "    ns2:has_tissue <Untyped> .\n",
      "\n",
      "ns1:MS2Spectrum ns1:has_ionization xsd:string ;\n",
      "    ns1:has_parent_mass xsd:float ;\n",
      "    ns1:has_raw_spectrum xsd:string ;\n",
      "    ns1:has_retention_time xsd:float ;\n",
      "    ns1:has_row_id xsd:decimal ;\n",
      "    ns1:has_usi xsd:string .\n",
      "\n",
      "ns1:Spec2VecLoss ns1:has_value xsd:float .\n",
      "\n",
      "ns1:Spec2VecPeak ns1:has_value xsd:float .\n",
      "\n",
      "ns1:InChIkey2D ns1:has_npc_pathway ns1:ChemicalTaxonomy,\n",
      "        ns1:NPCClass,\n",
      "        ns1:NPCPathway,\n",
      "        ns1:NPCSuperclass ;\n",
      "    ns1:has_npc_superclass ns1:ChemicalTaxonomy,\n",
      "        ns1:NPCClass,\n",
      "        ns1:NPCPathway,\n",
      "        ns1:NPCSuperclass ;\n",
      "    ns1:has_smiles xsd:string ;\n",
      "    ns1:is_InChIkey2D_of ns1:ChemicalEntity,\n",
      "        ns1:InChIkey .\n",
      "\n",
      "ns1:LCMSAnalysis ns1:has_gnpslcms_link <Untyped> ;\n",
      "    ns1:has_massive_license <Untyped> .\n",
      "\n",
      "ns1:LCMSAnalysisNeg ns1:has_gnpslcms_link <Untyped> ;\n",
      "    ns1:has_massive_license <Untyped> .\n",
      "\n",
      "ns1:spec2vec ns1:has_spec2vec_loss ns1:Spec2VecLoss,\n",
      "        ns1:spec2vec ;\n",
      "    ns1:has_spec2vec_peak ns1:Spec2VecPeak,\n",
      "        ns1:spec2vec ;\n",
      "    ns1:has_value xsd:float .\n",
      "\n",
      "ns2:ChEMBLTarget ns2:target_name xsd:string .\n",
      "\n",
      "\n"
     ]
    }
   ],
   "source": [
    "print(g.serialize(format='turtle'))"
   ]
  },
  {
   "cell_type": "markdown",
   "metadata": {},
   "source": [
    "### merging Classes and turtle schemas"
   ]
  },
  {
   "cell_type": "code",
   "execution_count": 43,
   "metadata": {},
   "outputs": [],
   "source": [
    "schemas = f\"In the following, each IRI is followed by the local name and optionally its description and optionally an example. \\n\" + \\\n",
    "f\"The RDF graph supports the following node types:\\n\" + \\\n",
    "f'{\", \".join([_res_to_str(r, \"cls\") for r in res])}\\n'+ \\\n",
    "f\"The RDF graph supports the following relationships:\\n\" + \\\n",
    "f\"{g.serialize(format='turtle')}\""
   ]
  },
  {
   "cell_type": "code",
   "execution_count": 39,
   "metadata": {},
   "outputs": [
    {
     "name": "stdout",
     "output_type": "stream",
     "text": [
      "final schema \n",
      " In the following, each IRI is followed by the local name and optionally its description and optionally an example. \n",
      "The RDF graph supports the following node types:\n",
      "<http://www.w3.org/1999/02/22-rdf-syntax-ns#XMLLiteral> (XMLLiteral, None, None), <http://www.w3.org/2001/XMLSchema#nonNegativeInteger> (nonNegativeInteger, None, None), <http://www.w3.org/2001/XMLSchema#string> (string, None, None), <https://enpkg.commons-lab.org/kg/RawMaterial> (RawMaterial, A raw laboratory biological material, i.e. before extraction, https://enpkg.commons-lab.org/kg/walth_ind_aerparts), <https://enpkg.commons-lab.org/kg/LFpair> (LFpair, A pair of 2 LCMSFeature, https://enpkg.commons-lab.org/kg/lcms_feature_pair_mzspec:MSV000088521:SC_AP_Wi_DCM_features_ms2_pos.mgf:scan:9_mzspec:MSV000088521:SC_AP_Wi_DCM_features_ms2_pos.mgf:scan:59), <https://enpkg.commons-lab.org/kg/WDChemical> (WDChemical, Cross-reference to a chemical entity in Wikidata, http://www.wikidata.org/entity/Q94518604), <https://enpkg.commons-lab.org/kg/WDTaxon> (WDTaxon, Cross-reference to a taxon in Wikidata, http://www.wikidata.org/entity/Q10878263), <https://enpkg.commons-lab.org/kg/InChIkey2D> (InChIkey2D, The first 14 characters of an InChIKey, often returned by MS-based annotation tools, https://enpkg.commons-lab.org/kg/ZZYIERSLRCSWBJ), <https://enpkg.commons-lab.org/kg/InChIkey> (InChIkey, A chemical structure represented by its InChIKey, https://enpkg.commons-lab.org/kg/ZZZQPOQWMWIOMQ-UHFFFAOYSA-N), <https://enpkg.commons-lab.org/kg/LabExtract> (LabExtract, A natural extract obtained from the processing of a RawMaterial, https://enpkg.commons-lab.org/kg/LP_P03_36), <https://enpkg.commons-lab.org/kg/LCMSAnalysisPos> (LCMSAnalysisPos, An LCMS analysis in positive ionization mode (pos), https://enpkg.commons-lab.org/kg/050418_LP__P03_35_pos.mzML), <https://enpkg.commons-lab.org/kg/LCMSFeatureList> (LCMSFeatureList, A list of LCMS features obtained from the processing of a given LCMS analysis, https://enpkg.commons-lab.org/kg/SC_AP_Wi_DCM_lcms_feature_list_pos), <https://enpkg.commons-lab.org/kg/SiriusCanopusAnnotation> (SiriusCanopusAnnotation, A spectrum chemical class annotation by SIRIUS-CANOPUS, https://enpkg.commons-lab.org/kg/canopus_mzspec:MSV000088521:SC_AP_Wi_DCM_features_ms2_pos.mgf:scan:997), <https://enpkg.commons-lab.org/kg/LCMSFeature> (LCMSFeature, An LCMS feature from a processed LCMS analysis, https://enpkg.commons-lab.org/kg/lcms_feature_mzspec:MSV000088521:SC_AP_Wi_DCM_features_ms2_pos.mgf:scan:913), <https://enpkg.commons-lab.org/kg/Spec2VecLoss> (Spec2VecLoss, A Spec2VecLoss that partly characterizes an MS2Spectrum, https://enpkg.commons-lab.org/kg/loss_184.55), <https://enpkg.commons-lab.org/kg/NPCClass> (NPCClass, A NPClassifier (NPC) chemical class, https://enpkg.commons-lab.org/kg/npc_Carotenoids_C50,_Iu_Iu), <https://enpkg.commons-lab.org/kg/NPCSuperclass> (NPCSuperclass, A NPClassifier (NPC) chemical superclass, https://enpkg.commons-lab.org/kg/npc_Carotenoids_C50), <https://enpkg.commons-lab.org/kg/Spec2VecPeak> (Spec2VecPeak, A Spec2VecPeak that partly characterizes an MS2 spectrum, https://enpkg.commons-lab.org/kg/peak_1097.93), <https://enpkg.commons-lab.org/kg/SiriusStructureAnnotation> (SiriusStructureAnnotation, A spectrum structural annotation by SIRIUS, https://enpkg.commons-lab.org/kg/sirius_mzspec:MSV000088521:SC_AP_Wi_DCM_features_ms2_pos.mgf:scan:999), <https://enpkg.commons-lab.org/kg/Spec2VecDoc> (Spec2VecDoc, An ensemble of Spec2VecPeak and Spec2VecLoss objects that characterizes an MS2Spectrum, https://enpkg.commons-lab.org/kg/spec2vec_doc_mzspec:MSV000088521:SC_AP_Wi_DCM_features_ms2_pos.mgf:scan:999), <https://enpkg.commons-lab.org/kg/IsdbAnnotation> (IsdbAnnotation, A spectrum structural annotation by comparison with an in-silico spectral DB, coupled to chemical and taxonomical reweighting, https://enpkg.commons-lab.org/kg/isdb_mzspec:MSV000088521:SC_AP_Wi_DCM_features_ms2_pos.mgf:scan:997), <https://enpkg.commons-lab.org/kg/NPCPathway> (NPCPathway, A NPClassifier (NPC) chemical pathway, https://enpkg.commons-lab.org/kg/npc_Polyketides), <https://enpkg.commons-lab.org/kg/LCMSAnalysisNeg> (LCMSAnalysisNeg, An LCMS analysis in negative ionization mode (neg), https://enpkg.commons-lab.org/kg/VGF138_H11_neg.mzXML), <https://enpkg.commons-lab.org/module/L610ugml> (L610ugml, A screening result at 10ug/mL from a phenotypic assay against L6 cells, https://enpkg.commons-lab.org/module/VGF138_H11_L6_10ugml), <https://enpkg.commons-lab.org/module/Ldono10ugml> (Ldono10ugml, A screening result at 10ug/mL from a phenotypic assay against L.donovani, https://enpkg.commons-lab.org/module/VGF138_H06_Ldonovani_10ugml), <https://enpkg.commons-lab.org/module/Ldono2ugml> (Ldono2ugml, A screening result at 2ug/mL from a phenotypic assay against L.donovani, https://enpkg.commons-lab.org/module/VGF138_H11_Ldonovani_2ugml), <https://enpkg.commons-lab.org/module/Tbrucei10ugml> (Tbrucei10ugml, A screening result at 10ug/mL from a phenotypic assay against T.brucei rhodesiense, https://enpkg.commons-lab.org/module/VGF138_H11_Tbruceirhod_10ugml), <https://enpkg.commons-lab.org/module/Tbrucei2ugml> (Tbrucei2ugml, A screening result at 2ug/mL from a phenotypic assay against T.brucei rhodesiense, https://enpkg.commons-lab.org/module/VGF138_H11_Tbruceirhod_2ugml), <https://enpkg.commons-lab.org/module/Tcruzi10ugml> (Tcruzi10ugml, A screening result at 10ug/mL from a phenotypic assay against T.cruzi, https://enpkg.commons-lab.org/module/VGF138_H11_Tcruzi_10ugml), <https://enpkg.commons-lab.org/module/ChEMBLTarget> (ChEMBLTarget, A ChEMBL target, https://www.ebi.ac.uk/chembl/target_report_card/CHEMBL368), <https://enpkg.commons-lab.org/kg/LabBlank> (LabBlank, A blank sample, https://enpkg.commons-lab.org/kg/VGF138_F12), <https://enpkg.commons-lab.org/kg/LabQc> (LabQc, A quality control (QC) sample, https://enpkg.commons-lab.org/kg/VGF138_H01), <https://enpkg.commons-lab.org/module/ChEMBLAssayResults> (ChEMBLAssayResults, A ChEMBL assay result, https://enpkg.commons-lab.org/module/chembl_activity_9998), <https://enpkg.commons-lab.org/module/ChEMBLAssay> (ChEMBLAssay, A ChEMBL assay, https://www.ebi.ac.uk/chembl/assay_report_card/CHEMBL916936), <https://enpkg.commons-lab.org/module/ChEMBLChemical> (ChEMBLChemical, A ChEMBL chemical, https://www.ebi.ac.uk/chembl/compound_report_card/CHEMBL3474571), <https://enpkg.commons-lab.org/module/ChEMBLDocument> (ChEMBLDocument, A ChEMBL document, https://www.ebi.ac.uk/chembl/document_report_card/CHEMBL1143259), <https://enpkg.commons-lab.org/kg/LabObject> (LabObject, An object that correspond to a physical laboratory object, https://enpkg.commons-lab.org/kg/V112049GP-01), <https://enpkg.commons-lab.org/kg/BioAssayResults> (BioAssayResults, An object to store bioactivity results, https://enpkg.commons-lab.org/module/VGF138_H11_Tbruceirhod_2ugml), <https://enpkg.commons-lab.org/kg/MS2Spectrum> (MS2Spectrum, A fragmentation mass spectrometry (or MS2) spectrum, https://enpkg.commons-lab.org/kg/lcms_feature_mzspec:MSV000088521:SC_AP_Wi_DCM_features_ms2_pos.mgf:scan:993), <https://enpkg.commons-lab.org/kg/LCMSAnalysis> (LCMSAnalysis, An LCMS analysis in a given ionization mode (pos or neg), https://enpkg.commons-lab.org/kg/140424_PMA_SC_AP_Wi_DCM_ddMS2_pos.mzML), <https://enpkg.commons-lab.org/kg/Annotation> (Annotation, A spectral annotation, https://enpkg.commons-lab.org/kg/isdb_mzspec:MSV000088521:SC_AP_Wi_DCM_features_ms2_pos.mgf:scan:992), <https://enpkg.commons-lab.org/kg/GNPSAnnotation> (GNPSAnnotation, A spectrum structural annotation by GNPS, None), <https://enpkg.commons-lab.org/kg/SpectralPair> (SpectralPair, A pair of 2 MS2Spectra, https://enpkg.commons-lab.org/kg/lcms_feature_pair_mzspec:MSV000088521:SC_AP_Wi_DCM_features_ms2_pos.mgf:scan:9_mzspec:MSV000088521:SC_AP_Wi_DCM_features_ms2_pos.mgf:scan:41), <https://enpkg.commons-lab.org/kg/ChemicalEntity> (ChemicalEntity, None, https://enpkg.commons-lab.org/kg/ZZZQPOQWMWIOMQ-UHFFFAOYSA-N), <https://enpkg.commons-lab.org/kg/ChemicalTaxonomy> (ChemicalTaxonomy, None, https://enpkg.commons-lab.org/kg/npc_Carotenoids_C40,_I2_I§), <https://enpkg.commons-lab.org/kg/XRef> (XRef, Any cross-reference, https://enpkg.commons-lab.org/module/chembl_activity_9997), <https://enpkg.commons-lab.org/kg/spec2vec> (spec2vec, A spec2vec-related object, https://enpkg.commons-lab.org/kg/spec2vec_doc_mzspec:MSV000088521:SC_AP_Wi_DCM_features_ms2_pos.mgf:scan:999), <https://enpkg.commons-lab.org/module/SwissTPHBioAssay> (SwissTPHBioAssay, A bioasay result from Swiss Tropical and Public Health Institute (sTPH), https://enpkg.commons-lab.org/module/VGF138_H11_Tcruzi_10ugml)\n",
      "The RDF graph supports the following relationships:\n",
      "@prefix ns1: <https://enpkg.commons-lab.org/kg/> .\n",
      "@prefix ns2: <https://enpkg.commons-lab.org/module/> .\n",
      "@prefix xsd: <http://www.w3.org/2001/XMLSchema#> .\n",
      "\n",
      "ns1:Annotation ns1:has_InChIkey2D ns1:InChIkey2D ;\n",
      "    ns1:has_ionization xsd:string ;\n",
      "    ns1:has_sirius_score xsd:float ;\n",
      "    ns1:has_spectral_score xsd:float ;\n",
      "    ns1:has_taxo_score xsd:float ;\n",
      "    ns1:has_zodiac_score xsd:float .\n",
      "\n",
      "ns1:BioAssayResults ns2:inhibition_percentage xsd:float ;\n",
      "    ns2:target_id ns1:XRef,\n",
      "        ns2:ChEMBLTarget .\n",
      "\n",
      "ns1:IsdbAnnotation ns1:has_InChIkey2D ns1:InChIkey2D ;\n",
      "    ns1:has_spectral_score xsd:float ;\n",
      "    ns1:has_taxo_score xsd:float .\n",
      "\n",
      "ns1:LCMSFeatureList ns1:has_ionization xsd:string .\n",
      "\n",
      "ns1:LFpair ns1:has_member ns1:LCMSFeature,\n",
      "        ns1:MS2Spectrum ;\n",
      "    ns1:has_mn_params <Untyped> .\n",
      "\n",
      "ns1:LabBlank ns1:has_LCMS ns1:LCMSAnalysis,\n",
      "        ns1:LCMSAnalysisNeg .\n",
      "\n",
      "ns1:LabQc ns1:has_LCMS ns1:LCMSAnalysis,\n",
      "        ns1:LCMSAnalysisNeg .\n",
      "\n",
      "ns1:RawMaterial ns1:has_LCMS xsd:string,\n",
      "        ns1:WDTaxon,\n",
      "        ns1:XRef ;\n",
      "    ns1:has_lab_process ns1:LabExtract,\n",
      "        ns1:LabObject ;\n",
      "    ns1:has_unresolved_taxon <Untyped> ;\n",
      "    ns1:has_wd_id ns1:WDTaxon,\n",
      "        ns1:XRef ;\n",
      "    ns1:submitted_taxon xsd:string ;\n",
      "    ns2:has_organe <Untyped> ;\n",
      "    ns2:has_subsystem <Untyped> ;\n",
      "    ns2:has_tissue <Untyped> .\n",
      "\n",
      "ns1:SiriusStructureAnnotation ns1:has_InChIkey2D ns1:InChIkey2D ;\n",
      "    ns1:has_ionization xsd:string ;\n",
      "    ns1:has_sirius_score xsd:float ;\n",
      "    ns1:has_zodiac_score xsd:float .\n",
      "\n",
      "ns1:Spec2VecDoc ns1:has_spec2vec_loss ns1:Spec2VecLoss,\n",
      "        ns1:spec2vec ;\n",
      "    ns1:has_spec2vec_peak ns1:Spec2VecPeak,\n",
      "        ns1:spec2vec .\n",
      "\n",
      "ns1:SpectralPair ns1:has_member ns1:LCMSFeature,\n",
      "        ns1:MS2Spectrum ;\n",
      "    ns1:has_mn_params <Untyped> .\n",
      "\n",
      "ns2:ChEMBLAssayResults ns2:activity_relation xsd:string ;\n",
      "    ns2:activity_type xsd:string ;\n",
      "    ns2:activity_unit xsd:string ;\n",
      "    ns2:activity_value xsd:float ;\n",
      "    ns2:assay_id ns1:XRef,\n",
      "        ns2:ChEMBLAssay ;\n",
      "    ns2:target_id ns1:XRef,\n",
      "        ns2:ChEMBLTarget ;\n",
      "    ns2:target_name xsd:string .\n",
      "\n",
      "ns2:ChEMBLDocument ns2:journal_name xsd:string .\n",
      "\n",
      "ns2:L610ugml ns2:inhibition_percentage xsd:float .\n",
      "\n",
      "ns2:Ldono10ugml ns2:inhibition_percentage xsd:float ;\n",
      "    ns2:target_id ns1:XRef,\n",
      "        ns2:ChEMBLTarget .\n",
      "\n",
      "ns2:Ldono2ugml ns2:inhibition_percentage xsd:float ;\n",
      "    ns2:target_id ns1:XRef,\n",
      "        ns2:ChEMBLTarget .\n",
      "\n",
      "ns2:SwissTPHBioAssay ns2:inhibition_percentage xsd:float ;\n",
      "    ns2:target_id ns1:XRef,\n",
      "        ns2:ChEMBLTarget .\n",
      "\n",
      "ns2:Tbrucei10ugml ns2:inhibition_percentage xsd:float ;\n",
      "    ns2:target_id ns1:XRef,\n",
      "        ns2:ChEMBLTarget .\n",
      "\n",
      "ns2:Tbrucei2ugml ns2:inhibition_percentage xsd:float ;\n",
      "    ns2:target_id ns1:XRef,\n",
      "        ns2:ChEMBLTarget .\n",
      "\n",
      "ns2:Tcruzi10ugml ns2:inhibition_percentage xsd:float ;\n",
      "    ns2:target_id ns1:XRef,\n",
      "        ns2:ChEMBLTarget .\n",
      "\n",
      "ns1:ChemicalEntity ns1:has_npc_pathway ns1:ChemicalTaxonomy,\n",
      "        ns1:NPCClass,\n",
      "        ns1:NPCPathway,\n",
      "        ns1:NPCSuperclass ;\n",
      "    ns1:has_npc_superclass ns1:ChemicalTaxonomy,\n",
      "        ns1:NPCClass,\n",
      "        ns1:NPCPathway,\n",
      "        ns1:NPCSuperclass ;\n",
      "    ns1:has_smiles xsd:string ;\n",
      "    ns1:has_wd_id ns1:WDChemical,\n",
      "        ns1:XRef .\n",
      "\n",
      "ns1:InChIkey ns1:has_npc_pathway ns1:ChemicalTaxonomy,\n",
      "        ns1:NPCClass,\n",
      "        ns1:NPCPathway,\n",
      "        ns1:NPCSuperclass ;\n",
      "    ns1:has_npc_superclass ns1:ChemicalTaxonomy,\n",
      "        ns1:NPCClass,\n",
      "        ns1:NPCPathway,\n",
      "        ns1:NPCSuperclass ;\n",
      "    ns1:has_smiles xsd:string ;\n",
      "    ns1:has_wd_id ns1:WDChemical,\n",
      "        ns1:XRef .\n",
      "\n",
      "ns1:LCMSAnalysisPos ns1:has_gnpslcms_link <Untyped> ;\n",
      "    ns1:has_massive_license <Untyped> .\n",
      "\n",
      "ns1:LCMSFeature ns1:has_ionization xsd:string ;\n",
      "    ns1:has_parent_mass xsd:float ;\n",
      "    ns1:has_raw_spectrum xsd:string ;\n",
      "    ns1:has_retention_time xsd:float ;\n",
      "    ns1:has_row_id xsd:decimal ;\n",
      "    ns1:has_usi xsd:string .\n",
      "\n",
      "ns1:LabExtract ns1:has_LCMS ns1:LCMSAnalysis,\n",
      "        ns1:LCMSAnalysisNeg,\n",
      "        ns1:LCMSAnalysisPos .\n",
      "\n",
      "ns1:LabObject ns1:has_LCMS xsd:string,\n",
      "        ns1:LCMSAnalysis,\n",
      "        ns1:LCMSAnalysisNeg,\n",
      "        ns1:LCMSAnalysisPos,\n",
      "        ns1:WDTaxon,\n",
      "        ns1:XRef ;\n",
      "    ns1:has_lab_process ns1:LabExtract,\n",
      "        ns1:LabObject ;\n",
      "    ns1:has_unresolved_taxon <Untyped> ;\n",
      "    ns1:has_wd_id ns1:WDTaxon,\n",
      "        ns1:XRef ;\n",
      "    ns1:submitted_taxon xsd:string ;\n",
      "    ns2:has_organe <Untyped> ;\n",
      "    ns2:has_subsystem <Untyped> ;\n",
      "    ns2:has_tissue <Untyped> .\n",
      "\n",
      "ns1:MS2Spectrum ns1:has_ionization xsd:string ;\n",
      "    ns1:has_parent_mass xsd:float ;\n",
      "    ns1:has_raw_spectrum xsd:string ;\n",
      "    ns1:has_retention_time xsd:float ;\n",
      "    ns1:has_row_id xsd:decimal ;\n",
      "    ns1:has_usi xsd:string .\n",
      "\n",
      "ns1:Spec2VecLoss ns1:has_value xsd:float .\n",
      "\n",
      "ns1:Spec2VecPeak ns1:has_value xsd:float .\n",
      "\n",
      "ns1:InChIkey2D ns1:has_npc_pathway ns1:ChemicalTaxonomy,\n",
      "        ns1:NPCClass,\n",
      "        ns1:NPCPathway,\n",
      "        ns1:NPCSuperclass ;\n",
      "    ns1:has_npc_superclass ns1:ChemicalTaxonomy,\n",
      "        ns1:NPCClass,\n",
      "        ns1:NPCPathway,\n",
      "        ns1:NPCSuperclass ;\n",
      "    ns1:has_smiles xsd:string ;\n",
      "    ns1:is_InChIkey2D_of ns1:ChemicalEntity,\n",
      "        ns1:InChIkey .\n",
      "\n",
      "ns1:LCMSAnalysis ns1:has_gnpslcms_link <Untyped> ;\n",
      "    ns1:has_massive_license <Untyped> .\n",
      "\n",
      "ns1:LCMSAnalysisNeg ns1:has_gnpslcms_link <Untyped> ;\n",
      "    ns1:has_massive_license <Untyped> .\n",
      "\n",
      "ns1:spec2vec ns1:has_spec2vec_loss ns1:Spec2VecLoss,\n",
      "        ns1:spec2vec ;\n",
      "    ns1:has_spec2vec_peak ns1:Spec2VecPeak,\n",
      "        ns1:spec2vec ;\n",
      "    ns1:has_value xsd:float .\n",
      "\n",
      "ns2:ChEMBLTarget ns2:target_name xsd:string .\n",
      "\n",
      "\n"
     ]
    }
   ],
   "source": [
    "print('final schema \\n', schemas)"
   ]
  },
  {
   "cell_type": "code",
   "execution_count": 48,
   "metadata": {},
   "outputs": [
    {
     "name": "stdout",
     "output_type": "stream",
     "text": [
      "Number of tokens: 4684\n"
     ]
    }
   ],
   "source": [
    "\n",
    "print(f\"Number of tokens: {token_counter(schemas)}\")\n"
   ]
  },
  {
   "cell_type": "markdown",
   "metadata": {},
   "source": [
    "## reduce number of tokens"
   ]
  },
  {
   "cell_type": "code",
   "execution_count": 77,
   "metadata": {},
   "outputs": [
    {
     "data": {
      "text/plain": [
       "'<rdf:XMLLiteral> (XMLLiteral, None, None), <xsd:nonNegativeInteger> (nonNegativeInteger, None, None), <xsd:string> (string, None, None), <ns1:RawMaterial> (RawMaterial, A raw laboratory biological material, i.e. before extraction, ns1:V112049GP-01), <ns1:LFpair> (LFpair, A pair of 2 LCMSFeature, ns1:lcms_feature_pair_mzspec:MSV000088521:SC_AP_Wi_DCM_features_ms2_pos.mgf:scan:9_mzspec:MSV000088521:SC_AP_Wi_DCM_features_ms2_pos.mgf:scan:59), <ns1:WDChemical> (WDChemical, Cross-reference to a chemical entity in Wikidata, http://www.wikidata.org/entity/Q834660), <ns1:WDTaxon> (WDTaxon, Cross-reference to a taxon in Wikidata, http://www.wikidata.org/entity/Q15552476), <ns1:InChIkey2D> (InChIkey2D, The first 14 characters of an InChIKey, often returned by MS-based annotation tools, ns1:ZZZQPOQWMWIOMQ), <ns1:InChIkey> (InChIkey, A chemical structure represented by its InChIKey, ns1:ZZZQPOQWMWIOMQ-UHFFFAOYSA-N), <ns1:LabExtract> (LabExtract, A natural extract obtained from the processing of a RawMaterial, ns1:SC_AP_Wi_DCM), <ns1:LCMSAnalysisPos> (LCMSAnalysisPos, An LCMS analysis in positive ionization mode (pos), ns1:140424_PMA_SC_AP_Wi_DCM_ddMS2_pos.mzML), <ns1:LCMSFeatureList> (LCMSFeatureList, A list of LCMS features obtained from the processing of a given LCMS analysis, ns1:LP_P03_35_lcms_feature_list_pos), <ns1:SiriusCanopusAnnotation> (SiriusCanopusAnnotation, A spectrum chemical class annotation by SIRIUS-CANOPUS, ns1:canopus_mzspec:MSV000088521:SC_AP_Wi_DCM_features_ms2_pos.mgf:scan:999), <ns1:LCMSFeature> (LCMSFeature, An LCMS feature from a processed LCMS analysis, ns1:lcms_feature_mzspec:MSV000088521:SC_AP_Wi_DCM_features_ms2_pos.mgf:scan:955), <ns1:Spec2VecLoss> (Spec2VecLoss, A Spec2VecLoss that partly characterizes an MS2Spectrum, ns1:loss_62.78), <ns1:NPCClass> (NPCClass, A NPClassifier (NPC) chemical class, ns1:npc_Carotenoids_C50,_Iu_Iu), <ns1:NPCSuperclass> (NPCSuperclass, A NPClassifier (NPC) chemical superclass, ns1:npc_Alkylresorsinols), <ns1:Spec2VecPeak> (Spec2VecPeak, A Spec2VecPeak that partly characterizes an MS2 spectrum, ns1:peak_1097.93), <ns1:SiriusStructureAnnotation> (SiriusStructureAnnotation, A spectrum structural annotation by SIRIUS, ns1:sirius_mzspec:MSV000088521:SC_AP_Wi_DCM_features_ms2_pos.mgf:scan:999), <ns1:Spec2VecDoc> (Spec2VecDoc, An ensemble of Spec2VecPeak and Spec2VecLoss objects that characterizes an MS2Spectrum, ns1:spec2vec_doc_mzspec:MSV000088521:SC_AP_Wi_DCM_features_ms2_pos.mgf:scan:999), <ns1:IsdbAnnotation> (IsdbAnnotation, A spectrum structural annotation by comparison with an in-silico spectral DB, coupled to chemical and taxonomical reweighting, ns1:isdb_mzspec:MSV000088521:SC_AP_Wi_DCM_features_ms2_pos.mgf:scan:999), <ns1:NPCPathway> (NPCPathway, A NPClassifier (NPC) chemical pathway, ns1:npc_Unknown), <ns1:LCMSAnalysisNeg> (LCMSAnalysisNeg, An LCMS analysis in negative ionization mode (neg), ns1:VGF138_H06_neg.mzXML), <ns2:L610ugml> (L610ugml, A screening result at 10ug/mL from a phenotypic assay against L6 cells, ns2:VGF138_H11_L6_10ugml), <ns2:Ldono10ugml> (Ldono10ugml, A screening result at 10ug/mL from a phenotypic assay against L.donovani, ns2:VGF138_H11_Ldonovani_10ugml), <ns2:Ldono2ugml> (Ldono2ugml, A screening result at 2ug/mL from a phenotypic assay against L.donovani, ns2:VGF138_H11_Ldonovani_2ugml), <ns2:Tbrucei10ugml> (Tbrucei10ugml, A screening result at 10ug/mL from a phenotypic assay against T.brucei rhodesiense, ns2:VGF138_H11_Tbruceirhod_10ugml), <ns2:Tbrucei2ugml> (Tbrucei2ugml, A screening result at 2ug/mL from a phenotypic assay against T.brucei rhodesiense, ns2:VGF138_H06_Tbruceirhod_2ugml), <ns2:Tcruzi10ugml> (Tcruzi10ugml, A screening result at 10ug/mL from a phenotypic assay against T.cruzi, ns2:VGF138_H06_Tcruzi_10ugml), <ns2:ChEMBLTarget> (ChEMBLTarget, A ChEMBL target, https://www.ebi.ac.uk/chembl/target_report_card/CHEMBL367), <ns1:LabBlank> (LabBlank, A blank sample, ns1:VGF138_F12), <ns1:LabQc> (LabQc, A quality control (QC) sample, ns1:VGF138_H01), <ns2:ChEMBLAssayResults> (ChEMBLAssayResults, A ChEMBL assay result, ns2:chembl_activity_9999), <ns2:ChEMBLAssay> (ChEMBLAssay, A ChEMBL assay, https://www.ebi.ac.uk/chembl/assay_report_card/CHEMBL916938), <ns2:ChEMBLChemical> (ChEMBLChemical, A ChEMBL chemical, https://www.ebi.ac.uk/chembl/compound_report_card/CHEMBL3474571), <ns2:ChEMBLDocument> (ChEMBLDocument, A ChEMBL document, https://www.ebi.ac.uk/chembl/document_report_card/CHEMBL1154711), <ns1:LabObject> (LabObject, An object that correspond to a physical laboratory object, ns1:SC_AP_Wi_DCM), <ns1:BioAssayResults> (BioAssayResults, An object to store bioactivity results, ns2:VGF138_H11_Tcruzi_10ugml), <ns1:MS2Spectrum> (MS2Spectrum, A fragmentation mass spectrometry (or MS2) spectrum, ns1:lcms_feature_mzspec:MSV000088521:SC_AP_Wi_DCM_features_ms2_pos.mgf:scan:998), <ns1:LCMSAnalysis> (LCMSAnalysis, An LCMS analysis in a given ionization mode (pos or neg), ns1:140424_PMA_SC_AP_Wi_DCM_ddMS2_pos.mzML), <ns1:Annotation> (Annotation, A spectral annotation, ns1:isdb_mzspec:MSV000088521:SC_AP_Wi_DCM_features_ms2_pos.mgf:scan:999), <ns1:GNPSAnnotation> (GNPSAnnotation, A spectrum structural annotation by GNPS, None), <ns1:SpectralPair> (SpectralPair, A pair of 2 MS2Spectra, ns1:lcms_feature_pair_mzspec:MSV000088521:SC_AP_Wi_DCM_features_ms2_pos.mgf:scan:9_mzspec:MSV000088521:SC_AP_Wi_DCM_features_ms2_pos.mgf:scan:41), <ns1:ChemicalEntity> (ChemicalEntity, None, ns1:ZZTYGMCMIRMYIB-MFKMUULPSA-N), <ns1:ChemicalTaxonomy> (ChemicalTaxonomy, None, ns1:npc_Carotenoids_C50,_Iu_Iu), <ns1:XRef> (XRef, Any cross-reference, ns2:chembl_activity_9998), <ns1:spec2vec> (spec2vec, A spec2vec-related object, ns1:spec2vec_doc_mzspec:MSV000088521:SC_AP_Wi_DCM_features_ms2_pos.mgf:scan:999), <ns2:SwissTPHBioAssay> (SwissTPHBioAssay, A bioasay result from Swiss Tropical and Public Health Institute (sTPH), ns2:VGF138_H11_Tcruzi_10ugml)'"
      ]
     },
     "execution_count": 77,
     "metadata": {},
     "output_type": "execute_result"
    }
   ],
   "source": [
    "def _get_local_name(iri: str) -> str:\n",
    "    for sep in ['#', '/']:\n",
    "        prefix, found, local_name = iri.rpartition(sep)\n",
    "        if found:\n",
    "            return local_name\n",
    "    raise ValueError(f\"Unexpected IRI '{iri}', contains neither '#' nor '/'.\")\n",
    "\n",
    "def _format_text(text, namespaces):\n",
    "    if text is None:\n",
    "        return text\n",
    "    for key, url in namespaces:\n",
    "        text = text.replace(url, f\"{key}:\")\n",
    "    return text\n",
    "\n",
    "def _res_to_str(res, var, namespaces) -> str:\n",
    "    formatted_var = _format_text(str(res[var]), namespaces)\n",
    "    local_name = _get_local_name(res[var])\n",
    "    formatted_example = _format_text(str(res[\"example\"]), namespaces)\n",
    "    return f\"<{formatted_var}> ({local_name}, {res['com']}, {formatted_example})\"\n",
    "\n",
    "# Assuming 'res' is a list of rdflib.query.ResultRow objects and 'g' has a namespaces() method:\n",
    "namespaces = list(g.namespaces())  # Assuming 'g' is defined and has a namespaces method\n",
    "\", \".join([_res_to_str(r, \"cls\", namespaces) for r in res])\n"
   ]
  },
  {
   "cell_type": "code",
   "execution_count": 78,
   "metadata": {},
   "outputs": [
    {
     "name": "stdout",
     "output_type": "stream",
     "text": [
      "In the following, each IRI is followed by the local name and optionally its description and optionally an example. \n",
      "The RDF graph supports the following node types:\n",
      "<rdf:XMLLiteral> (XMLLiteral, None, None), <xsd:nonNegativeInteger> (nonNegativeInteger, None, None), <xsd:string> (string, None, None), <ns1:RawMaterial> (RawMaterial, A raw laboratory biological material, i.e. before extraction, ns1:V112049GP-01), <ns1:LFpair> (LFpair, A pair of 2 LCMSFeature, ns1:lcms_feature_pair_mzspec:MSV000088521:SC_AP_Wi_DCM_features_ms2_pos.mgf:scan:9_mzspec:MSV000088521:SC_AP_Wi_DCM_features_ms2_pos.mgf:scan:59), <ns1:WDChemical> (WDChemical, Cross-reference to a chemical entity in Wikidata, http://www.wikidata.org/entity/Q834660), <ns1:WDTaxon> (WDTaxon, Cross-reference to a taxon in Wikidata, http://www.wikidata.org/entity/Q15552476), <ns1:InChIkey2D> (InChIkey2D, The first 14 characters of an InChIKey, often returned by MS-based annotation tools, ns1:ZZZQPOQWMWIOMQ), <ns1:InChIkey> (InChIkey, A chemical structure represented by its InChIKey, ns1:ZZZQPOQWMWIOMQ-UHFFFAOYSA-N), <ns1:LabExtract> (LabExtract, A natural extract obtained from the processing of a RawMaterial, ns1:SC_AP_Wi_DCM), <ns1:LCMSAnalysisPos> (LCMSAnalysisPos, An LCMS analysis in positive ionization mode (pos), ns1:140424_PMA_SC_AP_Wi_DCM_ddMS2_pos.mzML), <ns1:LCMSFeatureList> (LCMSFeatureList, A list of LCMS features obtained from the processing of a given LCMS analysis, ns1:LP_P03_35_lcms_feature_list_pos), <ns1:SiriusCanopusAnnotation> (SiriusCanopusAnnotation, A spectrum chemical class annotation by SIRIUS-CANOPUS, ns1:canopus_mzspec:MSV000088521:SC_AP_Wi_DCM_features_ms2_pos.mgf:scan:999), <ns1:LCMSFeature> (LCMSFeature, An LCMS feature from a processed LCMS analysis, ns1:lcms_feature_mzspec:MSV000088521:SC_AP_Wi_DCM_features_ms2_pos.mgf:scan:955), <ns1:Spec2VecLoss> (Spec2VecLoss, A Spec2VecLoss that partly characterizes an MS2Spectrum, ns1:loss_62.78), <ns1:NPCClass> (NPCClass, A NPClassifier (NPC) chemical class, ns1:npc_Carotenoids_C50,_Iu_Iu), <ns1:NPCSuperclass> (NPCSuperclass, A NPClassifier (NPC) chemical superclass, ns1:npc_Alkylresorsinols), <ns1:Spec2VecPeak> (Spec2VecPeak, A Spec2VecPeak that partly characterizes an MS2 spectrum, ns1:peak_1097.93), <ns1:SiriusStructureAnnotation> (SiriusStructureAnnotation, A spectrum structural annotation by SIRIUS, ns1:sirius_mzspec:MSV000088521:SC_AP_Wi_DCM_features_ms2_pos.mgf:scan:999), <ns1:Spec2VecDoc> (Spec2VecDoc, An ensemble of Spec2VecPeak and Spec2VecLoss objects that characterizes an MS2Spectrum, ns1:spec2vec_doc_mzspec:MSV000088521:SC_AP_Wi_DCM_features_ms2_pos.mgf:scan:999), <ns1:IsdbAnnotation> (IsdbAnnotation, A spectrum structural annotation by comparison with an in-silico spectral DB, coupled to chemical and taxonomical reweighting, ns1:isdb_mzspec:MSV000088521:SC_AP_Wi_DCM_features_ms2_pos.mgf:scan:999), <ns1:NPCPathway> (NPCPathway, A NPClassifier (NPC) chemical pathway, ns1:npc_Unknown), <ns1:LCMSAnalysisNeg> (LCMSAnalysisNeg, An LCMS analysis in negative ionization mode (neg), ns1:VGF138_H06_neg.mzXML), <ns2:L610ugml> (L610ugml, A screening result at 10ug/mL from a phenotypic assay against L6 cells, ns2:VGF138_H11_L6_10ugml), <ns2:Ldono10ugml> (Ldono10ugml, A screening result at 10ug/mL from a phenotypic assay against L.donovani, ns2:VGF138_H11_Ldonovani_10ugml), <ns2:Ldono2ugml> (Ldono2ugml, A screening result at 2ug/mL from a phenotypic assay against L.donovani, ns2:VGF138_H11_Ldonovani_2ugml), <ns2:Tbrucei10ugml> (Tbrucei10ugml, A screening result at 10ug/mL from a phenotypic assay against T.brucei rhodesiense, ns2:VGF138_H11_Tbruceirhod_10ugml), <ns2:Tbrucei2ugml> (Tbrucei2ugml, A screening result at 2ug/mL from a phenotypic assay against T.brucei rhodesiense, ns2:VGF138_H06_Tbruceirhod_2ugml), <ns2:Tcruzi10ugml> (Tcruzi10ugml, A screening result at 10ug/mL from a phenotypic assay against T.cruzi, ns2:VGF138_H06_Tcruzi_10ugml), <ns2:ChEMBLTarget> (ChEMBLTarget, A ChEMBL target, https://www.ebi.ac.uk/chembl/target_report_card/CHEMBL367), <ns1:LabBlank> (LabBlank, A blank sample, ns1:VGF138_F12), <ns1:LabQc> (LabQc, A quality control (QC) sample, ns1:VGF138_H01), <ns2:ChEMBLAssayResults> (ChEMBLAssayResults, A ChEMBL assay result, ns2:chembl_activity_9999), <ns2:ChEMBLAssay> (ChEMBLAssay, A ChEMBL assay, https://www.ebi.ac.uk/chembl/assay_report_card/CHEMBL916938), <ns2:ChEMBLChemical> (ChEMBLChemical, A ChEMBL chemical, https://www.ebi.ac.uk/chembl/compound_report_card/CHEMBL3474571), <ns2:ChEMBLDocument> (ChEMBLDocument, A ChEMBL document, https://www.ebi.ac.uk/chembl/document_report_card/CHEMBL1154711), <ns1:LabObject> (LabObject, An object that correspond to a physical laboratory object, ns1:SC_AP_Wi_DCM), <ns1:BioAssayResults> (BioAssayResults, An object to store bioactivity results, ns2:VGF138_H11_Tcruzi_10ugml), <ns1:MS2Spectrum> (MS2Spectrum, A fragmentation mass spectrometry (or MS2) spectrum, ns1:lcms_feature_mzspec:MSV000088521:SC_AP_Wi_DCM_features_ms2_pos.mgf:scan:998), <ns1:LCMSAnalysis> (LCMSAnalysis, An LCMS analysis in a given ionization mode (pos or neg), ns1:140424_PMA_SC_AP_Wi_DCM_ddMS2_pos.mzML), <ns1:Annotation> (Annotation, A spectral annotation, ns1:isdb_mzspec:MSV000088521:SC_AP_Wi_DCM_features_ms2_pos.mgf:scan:999), <ns1:GNPSAnnotation> (GNPSAnnotation, A spectrum structural annotation by GNPS, None), <ns1:SpectralPair> (SpectralPair, A pair of 2 MS2Spectra, ns1:lcms_feature_pair_mzspec:MSV000088521:SC_AP_Wi_DCM_features_ms2_pos.mgf:scan:9_mzspec:MSV000088521:SC_AP_Wi_DCM_features_ms2_pos.mgf:scan:41), <ns1:ChemicalEntity> (ChemicalEntity, None, ns1:ZZTYGMCMIRMYIB-MFKMUULPSA-N), <ns1:ChemicalTaxonomy> (ChemicalTaxonomy, None, ns1:npc_Carotenoids_C50,_Iu_Iu), <ns1:XRef> (XRef, Any cross-reference, ns2:chembl_activity_9998), <ns1:spec2vec> (spec2vec, A spec2vec-related object, ns1:spec2vec_doc_mzspec:MSV000088521:SC_AP_Wi_DCM_features_ms2_pos.mgf:scan:999), <ns2:SwissTPHBioAssay> (SwissTPHBioAssay, A bioasay result from Swiss Tropical and Public Health Institute (sTPH), ns2:VGF138_H11_Tcruzi_10ugml)\n",
      "The RDF graph supports the following relationships:\n",
      "@prefix ns1: <https://enpkg.commons-lab.org/kg/> .\n",
      "@prefix ns2: <https://enpkg.commons-lab.org/module/> .\n",
      "@prefix xsd: <http://www.w3.org/2001/XMLSchema#> .\n",
      "\n",
      "ns1:Annotation ns1:has_InChIkey2D ns1:InChIkey2D ;\n",
      "    ns1:has_ionization xsd:string ;\n",
      "    ns1:has_sirius_score xsd:float ;\n",
      "    ns1:has_spectral_score xsd:float ;\n",
      "    ns1:has_taxo_score xsd:float ;\n",
      "    ns1:has_zodiac_score xsd:float .\n",
      "\n",
      "ns1:BioAssayResults ns2:inhibition_percentage xsd:float ;\n",
      "    ns2:target_id ns1:XRef,\n",
      "        ns2:ChEMBLTarget .\n",
      "\n",
      "ns1:IsdbAnnotation ns1:has_InChIkey2D ns1:InChIkey2D ;\n",
      "    ns1:has_spectral_score xsd:float ;\n",
      "    ns1:has_taxo_score xsd:float .\n",
      "\n",
      "ns1:LCMSFeatureList ns1:has_ionization xsd:string .\n",
      "\n",
      "ns1:LFpair ns1:has_member ns1:LCMSFeature,\n",
      "        ns1:MS2Spectrum ;\n",
      "    ns1:has_mn_params <Untyped> .\n",
      "\n",
      "ns1:LabBlank ns1:has_LCMS ns1:LCMSAnalysis,\n",
      "        ns1:LCMSAnalysisNeg .\n",
      "\n",
      "ns1:LabQc ns1:has_LCMS ns1:LCMSAnalysis,\n",
      "        ns1:LCMSAnalysisNeg .\n",
      "\n",
      "ns1:RawMaterial ns1:has_LCMS xsd:string,\n",
      "        ns1:WDTaxon,\n",
      "        ns1:XRef ;\n",
      "    ns1:has_lab_process ns1:LabExtract,\n",
      "        ns1:LabObject ;\n",
      "    ns1:has_unresolved_taxon <Untyped> ;\n",
      "    ns1:has_wd_id ns1:WDTaxon,\n",
      "        ns1:XRef ;\n",
      "    ns1:submitted_taxon xsd:string ;\n",
      "    ns2:has_organe <Untyped> ;\n",
      "    ns2:has_subsystem <Untyped> ;\n",
      "    ns2:has_tissue <Untyped> .\n",
      "\n",
      "ns1:SiriusStructureAnnotation ns1:has_InChIkey2D ns1:InChIkey2D ;\n",
      "    ns1:has_ionization xsd:string ;\n",
      "    ns1:has_sirius_score xsd:float ;\n",
      "    ns1:has_zodiac_score xsd:float .\n",
      "\n",
      "ns1:Spec2VecDoc ns1:has_spec2vec_loss ns1:Spec2VecLoss,\n",
      "        ns1:spec2vec ;\n",
      "    ns1:has_spec2vec_peak ns1:Spec2VecPeak,\n",
      "        ns1:spec2vec .\n",
      "\n",
      "ns1:SpectralPair ns1:has_member ns1:LCMSFeature,\n",
      "        ns1:MS2Spectrum ;\n",
      "    ns1:has_mn_params <Untyped> .\n",
      "\n",
      "ns2:ChEMBLAssayResults ns2:activity_relation xsd:string ;\n",
      "    ns2:activity_type xsd:string ;\n",
      "    ns2:activity_unit xsd:string ;\n",
      "    ns2:activity_value xsd:float ;\n",
      "    ns2:assay_id ns1:XRef,\n",
      "        ns2:ChEMBLAssay ;\n",
      "    ns2:target_id ns1:XRef,\n",
      "        ns2:ChEMBLTarget ;\n",
      "    ns2:target_name xsd:string .\n",
      "\n",
      "ns2:ChEMBLDocument ns2:journal_name xsd:string .\n",
      "\n",
      "ns2:L610ugml ns2:inhibition_percentage xsd:float .\n",
      "\n",
      "ns2:Ldono10ugml ns2:inhibition_percentage xsd:float ;\n",
      "    ns2:target_id ns1:XRef,\n",
      "        ns2:ChEMBLTarget .\n",
      "\n",
      "ns2:Ldono2ugml ns2:inhibition_percentage xsd:float ;\n",
      "    ns2:target_id ns1:XRef,\n",
      "        ns2:ChEMBLTarget .\n",
      "\n",
      "ns2:SwissTPHBioAssay ns2:inhibition_percentage xsd:float ;\n",
      "    ns2:target_id ns1:XRef,\n",
      "        ns2:ChEMBLTarget .\n",
      "\n",
      "ns2:Tbrucei10ugml ns2:inhibition_percentage xsd:float ;\n",
      "    ns2:target_id ns1:XRef,\n",
      "        ns2:ChEMBLTarget .\n",
      "\n",
      "ns2:Tbrucei2ugml ns2:inhibition_percentage xsd:float ;\n",
      "    ns2:target_id ns1:XRef,\n",
      "        ns2:ChEMBLTarget .\n",
      "\n",
      "ns2:Tcruzi10ugml ns2:inhibition_percentage xsd:float ;\n",
      "    ns2:target_id ns1:XRef,\n",
      "        ns2:ChEMBLTarget .\n",
      "\n",
      "ns1:ChemicalEntity ns1:has_npc_pathway ns1:ChemicalTaxonomy,\n",
      "        ns1:NPCClass,\n",
      "        ns1:NPCPathway,\n",
      "        ns1:NPCSuperclass ;\n",
      "    ns1:has_npc_superclass ns1:ChemicalTaxonomy,\n",
      "        ns1:NPCClass,\n",
      "        ns1:NPCPathway,\n",
      "        ns1:NPCSuperclass ;\n",
      "    ns1:has_smiles xsd:string ;\n",
      "    ns1:has_wd_id ns1:WDChemical,\n",
      "        ns1:XRef .\n",
      "\n",
      "ns1:InChIkey ns1:has_npc_pathway ns1:ChemicalTaxonomy,\n",
      "        ns1:NPCClass,\n",
      "        ns1:NPCPathway,\n",
      "        ns1:NPCSuperclass ;\n",
      "    ns1:has_npc_superclass ns1:ChemicalTaxonomy,\n",
      "        ns1:NPCClass,\n",
      "        ns1:NPCPathway,\n",
      "        ns1:NPCSuperclass ;\n",
      "    ns1:has_smiles xsd:string ;\n",
      "    ns1:has_wd_id ns1:WDChemical,\n",
      "        ns1:XRef .\n",
      "\n",
      "ns1:LCMSAnalysisPos ns1:has_gnpslcms_link <Untyped> ;\n",
      "    ns1:has_massive_license <Untyped> .\n",
      "\n",
      "ns1:LCMSFeature ns1:has_ionization xsd:string ;\n",
      "    ns1:has_parent_mass xsd:float ;\n",
      "    ns1:has_raw_spectrum xsd:string ;\n",
      "    ns1:has_retention_time xsd:float ;\n",
      "    ns1:has_row_id xsd:decimal ;\n",
      "    ns1:has_usi xsd:string .\n",
      "\n",
      "ns1:LabExtract ns1:has_LCMS ns1:LCMSAnalysis,\n",
      "        ns1:LCMSAnalysisNeg,\n",
      "        ns1:LCMSAnalysisPos .\n",
      "\n",
      "ns1:LabObject ns1:has_LCMS xsd:string,\n",
      "        ns1:LCMSAnalysis,\n",
      "        ns1:LCMSAnalysisNeg,\n",
      "        ns1:LCMSAnalysisPos,\n",
      "        ns1:WDTaxon,\n",
      "        ns1:XRef ;\n",
      "    ns1:has_lab_process ns1:LabExtract,\n",
      "        ns1:LabObject ;\n",
      "    ns1:has_unresolved_taxon <Untyped> ;\n",
      "    ns1:has_wd_id ns1:WDTaxon,\n",
      "        ns1:XRef ;\n",
      "    ns1:submitted_taxon xsd:string ;\n",
      "    ns2:has_organe <Untyped> ;\n",
      "    ns2:has_subsystem <Untyped> ;\n",
      "    ns2:has_tissue <Untyped> .\n",
      "\n",
      "ns1:MS2Spectrum ns1:has_ionization xsd:string ;\n",
      "    ns1:has_parent_mass xsd:float ;\n",
      "    ns1:has_raw_spectrum xsd:string ;\n",
      "    ns1:has_retention_time xsd:float ;\n",
      "    ns1:has_row_id xsd:decimal ;\n",
      "    ns1:has_usi xsd:string .\n",
      "\n",
      "ns1:Spec2VecLoss ns1:has_value xsd:float .\n",
      "\n",
      "ns1:Spec2VecPeak ns1:has_value xsd:float .\n",
      "\n",
      "ns1:InChIkey2D ns1:has_npc_pathway ns1:ChemicalTaxonomy,\n",
      "        ns1:NPCClass,\n",
      "        ns1:NPCPathway,\n",
      "        ns1:NPCSuperclass ;\n",
      "    ns1:has_npc_superclass ns1:ChemicalTaxonomy,\n",
      "        ns1:NPCClass,\n",
      "        ns1:NPCPathway,\n",
      "        ns1:NPCSuperclass ;\n",
      "    ns1:has_smiles xsd:string ;\n",
      "    ns1:is_InChIkey2D_of ns1:ChemicalEntity,\n",
      "        ns1:InChIkey .\n",
      "\n",
      "ns1:LCMSAnalysis ns1:has_gnpslcms_link <Untyped> ;\n",
      "    ns1:has_massive_license <Untyped> .\n",
      "\n",
      "ns1:LCMSAnalysisNeg ns1:has_gnpslcms_link <Untyped> ;\n",
      "    ns1:has_massive_license <Untyped> .\n",
      "\n",
      "ns1:spec2vec ns1:has_spec2vec_loss ns1:Spec2VecLoss,\n",
      "        ns1:spec2vec ;\n",
      "    ns1:has_spec2vec_peak ns1:Spec2VecPeak,\n",
      "        ns1:spec2vec ;\n",
      "    ns1:has_value xsd:float .\n",
      "\n",
      "ns2:ChEMBLTarget ns2:target_name xsd:string .\n",
      "\n",
      "\n"
     ]
    }
   ],
   "source": [
    "schemas = f\"In the following, each IRI is followed by the local name and optionally its description and optionally an example. \\n\" + \\\n",
    "f\"The RDF graph supports the following node types:\\n\" + \\\n",
    "f'{\", \".join([_res_to_str(r, \"cls\", namespaces) for r in res])}\\n'+ \\\n",
    "f\"The RDF graph supports the following relationships:\\n\" + \\\n",
    "f\"{g.serialize(format='turtle')}\"\n",
    "\n",
    "print(schemas)\n"
   ]
  },
  {
   "cell_type": "code",
   "execution_count": 80,
   "metadata": {},
   "outputs": [
    {
     "name": "stdout",
     "output_type": "stream",
     "text": [
      "[('brick', rdflib.term.URIRef('https://brickschema.org/schema/Brick#')), ('csvw', rdflib.term.URIRef('http://www.w3.org/ns/csvw#')), ('dc', rdflib.term.URIRef('http://purl.org/dc/elements/1.1/')), ('dcat', rdflib.term.URIRef('http://www.w3.org/ns/dcat#')), ('dcmitype', rdflib.term.URIRef('http://purl.org/dc/dcmitype/')), ('dcterms', rdflib.term.URIRef('http://purl.org/dc/terms/')), ('dcam', rdflib.term.URIRef('http://purl.org/dc/dcam/')), ('doap', rdflib.term.URIRef('http://usefulinc.com/ns/doap#')), ('foaf', rdflib.term.URIRef('http://xmlns.com/foaf/0.1/')), ('geo', rdflib.term.URIRef('http://www.opengis.net/ont/geosparql#')), ('odrl', rdflib.term.URIRef('http://www.w3.org/ns/odrl/2/')), ('org', rdflib.term.URIRef('http://www.w3.org/ns/org#')), ('prof', rdflib.term.URIRef('http://www.w3.org/ns/dx/prof/')), ('prov', rdflib.term.URIRef('http://www.w3.org/ns/prov#')), ('qb', rdflib.term.URIRef('http://purl.org/linked-data/cube#')), ('schema', rdflib.term.URIRef('https://schema.org/')), ('sh', rdflib.term.URIRef('http://www.w3.org/ns/shacl#')), ('skos', rdflib.term.URIRef('http://www.w3.org/2004/02/skos/core#')), ('sosa', rdflib.term.URIRef('http://www.w3.org/ns/sosa/')), ('ssn', rdflib.term.URIRef('http://www.w3.org/ns/ssn/')), ('time', rdflib.term.URIRef('http://www.w3.org/2006/time#')), ('vann', rdflib.term.URIRef('http://purl.org/vocab/vann/')), ('void', rdflib.term.URIRef('http://rdfs.org/ns/void#')), ('wgs', rdflib.term.URIRef('https://www.w3.org/2003/01/geo/wgs84_pos#')), ('owl', rdflib.term.URIRef('http://www.w3.org/2002/07/owl#')), ('rdf', rdflib.term.URIRef('http://www.w3.org/1999/02/22-rdf-syntax-ns#')), ('rdfs', rdflib.term.URIRef('http://www.w3.org/2000/01/rdf-schema#')), ('xsd', rdflib.term.URIRef('http://www.w3.org/2001/XMLSchema#')), ('xml', rdflib.term.URIRef('http://www.w3.org/XML/1998/namespace')), ('ns1', rdflib.term.URIRef('https://enpkg.commons-lab.org/kg/')), ('ns2', rdflib.term.URIRef('https://enpkg.commons-lab.org/module/'))]\n"
     ]
    }
   ],
   "source": [
    "print(namespaces)"
   ]
  },
  {
   "cell_type": "code",
   "execution_count": 79,
   "metadata": {},
   "outputs": [
    {
     "name": "stdout",
     "output_type": "stream",
     "text": [
      "Number of tokens: 4093\n"
     ]
    }
   ],
   "source": [
    "print(f\"Number of tokens: {token_counter(schemas)}\")"
   ]
  }
 ],
 "metadata": {
  "kernelspec": {
   "display_name": "kgai",
   "language": "python",
   "name": "python3"
  },
  "language_info": {
   "codemirror_mode": {
    "name": "ipython",
    "version": 3
   },
   "file_extension": ".py",
   "mimetype": "text/x-python",
   "name": "python",
   "nbconvert_exporter": "python",
   "pygments_lexer": "ipython3",
   "version": "3.11.6"
  }
 },
 "nbformat": 4,
 "nbformat_minor": 2
}
