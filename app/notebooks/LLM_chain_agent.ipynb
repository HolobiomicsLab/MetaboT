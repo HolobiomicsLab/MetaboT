{
 "cells": [
  {
   "cell_type": "code",
   "execution_count": null,
   "metadata": {
    "ExecuteTime": {
     "end_time": "2024-03-26T14:25:49.535807Z",
     "start_time": "2024-03-26T14:25:49.522979Z"
    }
   },
   "outputs": [
    {
     "name": "stdout",
     "output_type": "stream",
     "text": [
      "Requirement already satisfied: langgraph in /home/ytaghzou/anaconda3/lib/python3.12/site-packages (0.2.53)\n",
      "Requirement already satisfied: langchain-core!=0.3.0,!=0.3.1,!=0.3.10,!=0.3.11,!=0.3.12,!=0.3.13,!=0.3.14,!=0.3.2,!=0.3.3,!=0.3.4,!=0.3.5,!=0.3.6,!=0.3.7,!=0.3.8,!=0.3.9,<0.4.0,>=0.2.43 in /home/ytaghzou/anaconda3/lib/python3.12/site-packages (from langgraph) (0.3.16)\n",
      "Requirement already satisfied: langgraph-checkpoint<3.0.0,>=2.0.4 in /home/ytaghzou/anaconda3/lib/python3.12/site-packages (from langgraph) (2.0.6)\n",
      "Requirement already satisfied: langgraph-sdk<0.2.0,>=0.1.32 in /home/ytaghzou/anaconda3/lib/python3.12/site-packages (from langgraph) (0.1.36)\n",
      "Requirement already satisfied: PyYAML>=5.3 in /home/ytaghzou/anaconda3/lib/python3.12/site-packages (from langchain-core!=0.3.0,!=0.3.1,!=0.3.10,!=0.3.11,!=0.3.12,!=0.3.13,!=0.3.14,!=0.3.2,!=0.3.3,!=0.3.4,!=0.3.5,!=0.3.6,!=0.3.7,!=0.3.8,!=0.3.9,<0.4.0,>=0.2.43->langgraph) (6.0.1)\n",
      "Requirement already satisfied: jsonpatch<2.0,>=1.33 in /home/ytaghzou/anaconda3/lib/python3.12/site-packages (from langchain-core!=0.3.0,!=0.3.1,!=0.3.10,!=0.3.11,!=0.3.12,!=0.3.13,!=0.3.14,!=0.3.2,!=0.3.3,!=0.3.4,!=0.3.5,!=0.3.6,!=0.3.7,!=0.3.8,!=0.3.9,<0.4.0,>=0.2.43->langgraph) (1.33)\n",
      "Requirement already satisfied: langsmith<0.2.0,>=0.1.125 in /home/ytaghzou/anaconda3/lib/python3.12/site-packages (from langchain-core!=0.3.0,!=0.3.1,!=0.3.10,!=0.3.11,!=0.3.12,!=0.3.13,!=0.3.14,!=0.3.2,!=0.3.3,!=0.3.4,!=0.3.5,!=0.3.6,!=0.3.7,!=0.3.8,!=0.3.9,<0.4.0,>=0.2.43->langgraph) (0.1.142)\n",
      "Requirement already satisfied: packaging<25,>=23.2 in /home/ytaghzou/anaconda3/lib/python3.12/site-packages (from langchain-core!=0.3.0,!=0.3.1,!=0.3.10,!=0.3.11,!=0.3.12,!=0.3.13,!=0.3.14,!=0.3.2,!=0.3.3,!=0.3.4,!=0.3.5,!=0.3.6,!=0.3.7,!=0.3.8,!=0.3.9,<0.4.0,>=0.2.43->langgraph) (24.1)\n",
      "Requirement already satisfied: pydantic<3.0.0,>=2.7.4 in /home/ytaghzou/anaconda3/lib/python3.12/site-packages (from langchain-core!=0.3.0,!=0.3.1,!=0.3.10,!=0.3.11,!=0.3.12,!=0.3.13,!=0.3.14,!=0.3.2,!=0.3.3,!=0.3.4,!=0.3.5,!=0.3.6,!=0.3.7,!=0.3.8,!=0.3.9,<0.4.0,>=0.2.43->langgraph) (2.10.1)\n",
      "Requirement already satisfied: tenacity!=8.4.0,<10.0.0,>=8.1.0 in /home/ytaghzou/anaconda3/lib/python3.12/site-packages (from langchain-core!=0.3.0,!=0.3.1,!=0.3.10,!=0.3.11,!=0.3.12,!=0.3.13,!=0.3.14,!=0.3.2,!=0.3.3,!=0.3.4,!=0.3.5,!=0.3.6,!=0.3.7,!=0.3.8,!=0.3.9,<0.4.0,>=0.2.43->langgraph) (8.2.3)\n",
      "Requirement already satisfied: typing-extensions>=4.7 in /home/ytaghzou/anaconda3/lib/python3.12/site-packages (from langchain-core!=0.3.0,!=0.3.1,!=0.3.10,!=0.3.11,!=0.3.12,!=0.3.13,!=0.3.14,!=0.3.2,!=0.3.3,!=0.3.4,!=0.3.5,!=0.3.6,!=0.3.7,!=0.3.8,!=0.3.9,<0.4.0,>=0.2.43->langgraph) (4.12.2)\n",
      "Requirement already satisfied: msgpack<2.0.0,>=1.1.0 in /home/ytaghzou/anaconda3/lib/python3.12/site-packages (from langgraph-checkpoint<3.0.0,>=2.0.4->langgraph) (1.1.0)\n",
      "Requirement already satisfied: httpx>=0.25.2 in /home/ytaghzou/anaconda3/lib/python3.12/site-packages (from langgraph-sdk<0.2.0,>=0.1.32->langgraph) (0.27.0)\n",
      "Requirement already satisfied: httpx-sse>=0.4.0 in /home/ytaghzou/anaconda3/lib/python3.12/site-packages (from langgraph-sdk<0.2.0,>=0.1.32->langgraph) (0.4.0)\n",
      "Requirement already satisfied: orjson>=3.10.1 in /home/ytaghzou/anaconda3/lib/python3.12/site-packages (from langgraph-sdk<0.2.0,>=0.1.32->langgraph) (3.10.11)\n",
      "Requirement already satisfied: anyio in /home/ytaghzou/anaconda3/lib/python3.12/site-packages (from httpx>=0.25.2->langgraph-sdk<0.2.0,>=0.1.32->langgraph) (4.2.0)\n",
      "Requirement already satisfied: certifi in /home/ytaghzou/anaconda3/lib/python3.12/site-packages (from httpx>=0.25.2->langgraph-sdk<0.2.0,>=0.1.32->langgraph) (2024.8.30)\n",
      "Requirement already satisfied: httpcore==1.* in /home/ytaghzou/anaconda3/lib/python3.12/site-packages (from httpx>=0.25.2->langgraph-sdk<0.2.0,>=0.1.32->langgraph) (1.0.2)\n",
      "Requirement already satisfied: idna in /home/ytaghzou/anaconda3/lib/python3.12/site-packages (from httpx>=0.25.2->langgraph-sdk<0.2.0,>=0.1.32->langgraph) (3.7)\n",
      "Requirement already satisfied: sniffio in /home/ytaghzou/anaconda3/lib/python3.12/site-packages (from httpx>=0.25.2->langgraph-sdk<0.2.0,>=0.1.32->langgraph) (1.3.0)\n",
      "Requirement already satisfied: h11<0.15,>=0.13 in /home/ytaghzou/anaconda3/lib/python3.12/site-packages (from httpcore==1.*->httpx>=0.25.2->langgraph-sdk<0.2.0,>=0.1.32->langgraph) (0.14.0)\n",
      "Requirement already satisfied: jsonpointer>=1.9 in /home/ytaghzou/anaconda3/lib/python3.12/site-packages (from jsonpatch<2.0,>=1.33->langchain-core!=0.3.0,!=0.3.1,!=0.3.10,!=0.3.11,!=0.3.12,!=0.3.13,!=0.3.14,!=0.3.2,!=0.3.3,!=0.3.4,!=0.3.5,!=0.3.6,!=0.3.7,!=0.3.8,!=0.3.9,<0.4.0,>=0.2.43->langgraph) (2.1)\n",
      "Requirement already satisfied: requests<3,>=2 in /home/ytaghzou/anaconda3/lib/python3.12/site-packages (from langsmith<0.2.0,>=0.1.125->langchain-core!=0.3.0,!=0.3.1,!=0.3.10,!=0.3.11,!=0.3.12,!=0.3.13,!=0.3.14,!=0.3.2,!=0.3.3,!=0.3.4,!=0.3.5,!=0.3.6,!=0.3.7,!=0.3.8,!=0.3.9,<0.4.0,>=0.2.43->langgraph) (2.32.3)\n",
      "Requirement already satisfied: requests-toolbelt<2.0.0,>=1.0.0 in /home/ytaghzou/anaconda3/lib/python3.12/site-packages (from langsmith<0.2.0,>=0.1.125->langchain-core!=0.3.0,!=0.3.1,!=0.3.10,!=0.3.11,!=0.3.12,!=0.3.13,!=0.3.14,!=0.3.2,!=0.3.3,!=0.3.4,!=0.3.5,!=0.3.6,!=0.3.7,!=0.3.8,!=0.3.9,<0.4.0,>=0.2.43->langgraph) (1.0.0)\n",
      "Requirement already satisfied: annotated-types>=0.6.0 in /home/ytaghzou/anaconda3/lib/python3.12/site-packages (from pydantic<3.0.0,>=2.7.4->langchain-core!=0.3.0,!=0.3.1,!=0.3.10,!=0.3.11,!=0.3.12,!=0.3.13,!=0.3.14,!=0.3.2,!=0.3.3,!=0.3.4,!=0.3.5,!=0.3.6,!=0.3.7,!=0.3.8,!=0.3.9,<0.4.0,>=0.2.43->langgraph) (0.6.0)\n",
      "Requirement already satisfied: pydantic-core==2.27.1 in /home/ytaghzou/anaconda3/lib/python3.12/site-packages (from pydantic<3.0.0,>=2.7.4->langchain-core!=0.3.0,!=0.3.1,!=0.3.10,!=0.3.11,!=0.3.12,!=0.3.13,!=0.3.14,!=0.3.2,!=0.3.3,!=0.3.4,!=0.3.5,!=0.3.6,!=0.3.7,!=0.3.8,!=0.3.9,<0.4.0,>=0.2.43->langgraph) (2.27.1)\n",
      "Requirement already satisfied: charset-normalizer<4,>=2 in /home/ytaghzou/anaconda3/lib/python3.12/site-packages (from requests<3,>=2->langsmith<0.2.0,>=0.1.125->langchain-core!=0.3.0,!=0.3.1,!=0.3.10,!=0.3.11,!=0.3.12,!=0.3.13,!=0.3.14,!=0.3.2,!=0.3.3,!=0.3.4,!=0.3.5,!=0.3.6,!=0.3.7,!=0.3.8,!=0.3.9,<0.4.0,>=0.2.43->langgraph) (3.3.2)\n",
      "Requirement already satisfied: urllib3<3,>=1.21.1 in /home/ytaghzou/anaconda3/lib/python3.12/site-packages (from requests<3,>=2->langsmith<0.2.0,>=0.1.125->langchain-core!=0.3.0,!=0.3.1,!=0.3.10,!=0.3.11,!=0.3.12,!=0.3.13,!=0.3.14,!=0.3.2,!=0.3.3,!=0.3.4,!=0.3.5,!=0.3.6,!=0.3.7,!=0.3.8,!=0.3.9,<0.4.0,>=0.2.43->langgraph) (2.2.3)\n",
      "Note: you may need to restart the kernel to use updated packages.\n",
      "Collecting codeinterpreterapi\n",
      "  Downloading codeinterpreterapi-0.1.20-py3-none-any.whl.metadata (6.9 kB)\n",
      "Collecting codeboxapi==0.1.19 (from codeinterpreterapi)\n",
      "  Using cached codeboxapi-0.1.19-py3-none-any.whl.metadata (3.0 kB)\n",
      "Collecting langchain-openai (from codeinterpreterapi)\n",
      "  Using cached langchain_openai-0.2.9-py3-none-any.whl.metadata (2.6 kB)\n",
      "Collecting langchain<0.2,>=0.1 (from codeinterpreterapi)\n",
      "  Downloading langchain-0.1.20-py3-none-any.whl.metadata (13 kB)\n",
      "Requirement already satisfied: pyzmq==25.1.2 in /home/ytaghzou/anaconda3/lib/python3.12/site-packages (from codeinterpreterapi) (25.1.2)\n",
      "Requirement already satisfied: aiohttp>=3.9 in /home/ytaghzou/anaconda3/lib/python3.12/site-packages (from codeboxapi==0.1.19->codeinterpreterapi) (3.10.5)\n",
      "Requirement already satisfied: pydantic-settings>=2 in /home/ytaghzou/anaconda3/lib/python3.12/site-packages (from codeboxapi==0.1.19->codeinterpreterapi) (2.6.1)\n",
      "Requirement already satisfied: pydantic>=2 in /home/ytaghzou/anaconda3/lib/python3.12/site-packages (from codeboxapi==0.1.19->codeinterpreterapi) (2.10.1)\n",
      "Requirement already satisfied: requests>=2 in /home/ytaghzou/anaconda3/lib/python3.12/site-packages (from codeboxapi==0.1.19->codeinterpreterapi) (2.32.3)\n",
      "Collecting websockets>=12 (from codeboxapi==0.1.19->codeinterpreterapi)\n",
      "  Downloading websockets-14.1-cp312-cp312-manylinux_2_5_x86_64.manylinux1_x86_64.manylinux_2_17_x86_64.manylinux2014_x86_64.whl.metadata (6.7 kB)\n",
      "Requirement already satisfied: PyYAML>=5.3 in /home/ytaghzou/anaconda3/lib/python3.12/site-packages (from langchain<0.2,>=0.1->codeinterpreterapi) (6.0.1)\n",
      "Requirement already satisfied: SQLAlchemy<3,>=1.4 in /home/ytaghzou/anaconda3/lib/python3.12/site-packages (from langchain<0.2,>=0.1->codeinterpreterapi) (2.0.34)\n",
      "Requirement already satisfied: dataclasses-json<0.7,>=0.5.7 in /home/ytaghzou/anaconda3/lib/python3.12/site-packages (from langchain<0.2,>=0.1->codeinterpreterapi) (0.6.7)\n",
      "Collecting langchain-community<0.1,>=0.0.38 (from langchain<0.2,>=0.1->codeinterpreterapi)\n",
      "  Downloading langchain_community-0.0.38-py3-none-any.whl.metadata (8.7 kB)\n",
      "Collecting langchain-core<0.2.0,>=0.1.52 (from langchain<0.2,>=0.1->codeinterpreterapi)\n",
      "  Downloading langchain_core-0.1.53-py3-none-any.whl.metadata (5.9 kB)\n",
      "Collecting langchain-text-splitters<0.1,>=0.0.1 (from langchain<0.2,>=0.1->codeinterpreterapi)\n",
      "  Downloading langchain_text_splitters-0.0.2-py3-none-any.whl.metadata (2.2 kB)\n",
      "Requirement already satisfied: langsmith<0.2.0,>=0.1.17 in /home/ytaghzou/anaconda3/lib/python3.12/site-packages (from langchain<0.2,>=0.1->codeinterpreterapi) (0.1.142)\n",
      "Requirement already satisfied: numpy<2,>=1 in /home/ytaghzou/anaconda3/lib/python3.12/site-packages (from langchain<0.2,>=0.1->codeinterpreterapi) (1.26.4)\n",
      "Requirement already satisfied: tenacity<9.0.0,>=8.1.0 in /home/ytaghzou/anaconda3/lib/python3.12/site-packages (from langchain<0.2,>=0.1->codeinterpreterapi) (8.2.3)\n",
      "INFO: pip is looking at multiple versions of langchain-openai to determine which version is compatible with other requirements. This could take a while.\n",
      "Collecting langchain-openai (from codeinterpreterapi)\n",
      "  Using cached langchain_openai-0.2.8-py3-none-any.whl.metadata (2.6 kB)\n",
      "  Using cached langchain_openai-0.2.7-py3-none-any.whl.metadata (2.6 kB)\n",
      "  Downloading langchain_openai-0.2.6-py3-none-any.whl.metadata (2.6 kB)\n",
      "  Downloading langchain_openai-0.2.5-py3-none-any.whl.metadata (2.6 kB)\n",
      "  Downloading langchain_openai-0.2.4-py3-none-any.whl.metadata (2.6 kB)\n",
      "  Downloading langchain_openai-0.2.3-py3-none-any.whl.metadata (2.6 kB)\n",
      "  Downloading langchain_openai-0.2.2-py3-none-any.whl.metadata (2.6 kB)\n",
      "INFO: pip is still looking at multiple versions of langchain-openai to determine which version is compatible with other requirements. This could take a while.\n",
      "  Downloading langchain_openai-0.2.1-py3-none-any.whl.metadata (2.6 kB)\n",
      "  Downloading langchain_openai-0.2.0-py3-none-any.whl.metadata (2.6 kB)\n",
      "  Downloading langchain_openai-0.1.25-py3-none-any.whl.metadata (2.6 kB)\n",
      "  Downloading langchain_openai-0.1.24-py3-none-any.whl.metadata (2.6 kB)\n",
      "  Downloading langchain_openai-0.1.23-py3-none-any.whl.metadata (2.6 kB)\n",
      "INFO: This is taking longer than usual. You might need to provide the dependency resolver with stricter constraints to reduce runtime. See https://pip.pypa.io/warnings/backtracking for guidance. If you want to abort this run, press Ctrl + C.\n",
      "  Downloading langchain_openai-0.1.22-py3-none-any.whl.metadata (2.6 kB)\n",
      "  Downloading langchain_openai-0.1.20-py3-none-any.whl.metadata (2.6 kB)\n",
      "  Downloading langchain_openai-0.1.19-py3-none-any.whl.metadata (2.6 kB)\n",
      "  Downloading langchain_openai-0.1.17-py3-none-any.whl.metadata (2.5 kB)\n",
      "  Downloading langchain_openai-0.1.16-py3-none-any.whl.metadata (2.5 kB)\n",
      "  Downloading langchain_openai-0.1.15-py3-none-any.whl.metadata (2.5 kB)\n",
      "  Downloading langchain_openai-0.1.14-py3-none-any.whl.metadata (2.5 kB)\n",
      "  Downloading langchain_openai-0.1.13-py3-none-any.whl.metadata (2.5 kB)\n",
      "  Downloading langchain_openai-0.1.12-py3-none-any.whl.metadata (2.5 kB)\n",
      "  Downloading langchain_openai-0.1.11-py3-none-any.whl.metadata (2.5 kB)\n",
      "  Downloading langchain_openai-0.1.10-py3-none-any.whl.metadata (2.5 kB)\n",
      "  Downloading langchain_openai-0.1.9-py3-none-any.whl.metadata (2.5 kB)\n",
      "  Downloading langchain_openai-0.1.8-py3-none-any.whl.metadata (2.5 kB)\n",
      "  Downloading langchain_openai-0.1.7-py3-none-any.whl.metadata (2.5 kB)\n",
      "Requirement already satisfied: openai<2.0.0,>=1.24.0 in /home/ytaghzou/anaconda3/lib/python3.12/site-packages (from langchain-openai->codeinterpreterapi) (1.54.4)\n",
      "Requirement already satisfied: tiktoken<1,>=0.7 in /home/ytaghzou/anaconda3/lib/python3.12/site-packages (from langchain-openai->codeinterpreterapi) (0.8.0)\n",
      "Requirement already satisfied: aiohappyeyeballs>=2.3.0 in /home/ytaghzou/anaconda3/lib/python3.12/site-packages (from aiohttp>=3.9->codeboxapi==0.1.19->codeinterpreterapi) (2.4.0)\n",
      "Requirement already satisfied: aiosignal>=1.1.2 in /home/ytaghzou/anaconda3/lib/python3.12/site-packages (from aiohttp>=3.9->codeboxapi==0.1.19->codeinterpreterapi) (1.2.0)\n",
      "Requirement already satisfied: attrs>=17.3.0 in /home/ytaghzou/anaconda3/lib/python3.12/site-packages (from aiohttp>=3.9->codeboxapi==0.1.19->codeinterpreterapi) (23.1.0)\n",
      "Requirement already satisfied: frozenlist>=1.1.1 in /home/ytaghzou/anaconda3/lib/python3.12/site-packages (from aiohttp>=3.9->codeboxapi==0.1.19->codeinterpreterapi) (1.4.0)\n",
      "Requirement already satisfied: multidict<7.0,>=4.5 in /home/ytaghzou/anaconda3/lib/python3.12/site-packages (from aiohttp>=3.9->codeboxapi==0.1.19->codeinterpreterapi) (6.0.4)\n",
      "Requirement already satisfied: yarl<2.0,>=1.0 in /home/ytaghzou/anaconda3/lib/python3.12/site-packages (from aiohttp>=3.9->codeboxapi==0.1.19->codeinterpreterapi) (1.11.0)\n",
      "Requirement already satisfied: marshmallow<4.0.0,>=3.18.0 in /home/ytaghzou/anaconda3/lib/python3.12/site-packages (from dataclasses-json<0.7,>=0.5.7->langchain<0.2,>=0.1->codeinterpreterapi) (3.23.1)\n",
      "Requirement already satisfied: typing-inspect<1,>=0.4.0 in /home/ytaghzou/anaconda3/lib/python3.12/site-packages (from dataclasses-json<0.7,>=0.5.7->langchain<0.2,>=0.1->codeinterpreterapi) (0.9.0)\n",
      "Requirement already satisfied: jsonpatch<2.0,>=1.33 in /home/ytaghzou/anaconda3/lib/python3.12/site-packages (from langchain-core<0.2.0,>=0.1.52->langchain<0.2,>=0.1->codeinterpreterapi) (1.33)\n",
      "Collecting packaging<24.0,>=23.2 (from langchain-core<0.2.0,>=0.1.52->langchain<0.2,>=0.1->codeinterpreterapi)\n",
      "  Downloading packaging-23.2-py3-none-any.whl.metadata (3.2 kB)\n",
      "Requirement already satisfied: httpx<1,>=0.23.0 in /home/ytaghzou/anaconda3/lib/python3.12/site-packages (from langsmith<0.2.0,>=0.1.17->langchain<0.2,>=0.1->codeinterpreterapi) (0.27.0)\n",
      "Requirement already satisfied: orjson<4.0.0,>=3.9.14 in /home/ytaghzou/anaconda3/lib/python3.12/site-packages (from langsmith<0.2.0,>=0.1.17->langchain<0.2,>=0.1->codeinterpreterapi) (3.10.11)\n",
      "Requirement already satisfied: requests-toolbelt<2.0.0,>=1.0.0 in /home/ytaghzou/anaconda3/lib/python3.12/site-packages (from langsmith<0.2.0,>=0.1.17->langchain<0.2,>=0.1->codeinterpreterapi) (1.0.0)\n",
      "Requirement already satisfied: anyio<5,>=3.5.0 in /home/ytaghzou/anaconda3/lib/python3.12/site-packages (from openai<2.0.0,>=1.24.0->langchain-openai->codeinterpreterapi) (4.2.0)\n",
      "Requirement already satisfied: distro<2,>=1.7.0 in /home/ytaghzou/anaconda3/lib/python3.12/site-packages (from openai<2.0.0,>=1.24.0->langchain-openai->codeinterpreterapi) (1.9.0)\n",
      "Requirement already satisfied: jiter<1,>=0.4.0 in /home/ytaghzou/anaconda3/lib/python3.12/site-packages (from openai<2.0.0,>=1.24.0->langchain-openai->codeinterpreterapi) (0.7.1)\n",
      "Requirement already satisfied: sniffio in /home/ytaghzou/anaconda3/lib/python3.12/site-packages (from openai<2.0.0,>=1.24.0->langchain-openai->codeinterpreterapi) (1.3.0)\n",
      "Requirement already satisfied: tqdm>4 in /home/ytaghzou/anaconda3/lib/python3.12/site-packages (from openai<2.0.0,>=1.24.0->langchain-openai->codeinterpreterapi) (4.66.5)\n",
      "Requirement already satisfied: typing-extensions<5,>=4.11 in /home/ytaghzou/anaconda3/lib/python3.12/site-packages (from openai<2.0.0,>=1.24.0->langchain-openai->codeinterpreterapi) (4.12.2)\n",
      "Requirement already satisfied: annotated-types>=0.6.0 in /home/ytaghzou/anaconda3/lib/python3.12/site-packages (from pydantic>=2->codeboxapi==0.1.19->codeinterpreterapi) (0.6.0)\n",
      "Requirement already satisfied: pydantic-core==2.27.1 in /home/ytaghzou/anaconda3/lib/python3.12/site-packages (from pydantic>=2->codeboxapi==0.1.19->codeinterpreterapi) (2.27.1)\n",
      "Requirement already satisfied: python-dotenv>=0.21.0 in /home/ytaghzou/anaconda3/lib/python3.12/site-packages (from pydantic-settings>=2->codeboxapi==0.1.19->codeinterpreterapi) (0.21.0)\n",
      "Requirement already satisfied: charset-normalizer<4,>=2 in /home/ytaghzou/anaconda3/lib/python3.12/site-packages (from requests>=2->codeboxapi==0.1.19->codeinterpreterapi) (3.3.2)\n",
      "Requirement already satisfied: idna<4,>=2.5 in /home/ytaghzou/anaconda3/lib/python3.12/site-packages (from requests>=2->codeboxapi==0.1.19->codeinterpreterapi) (3.7)\n",
      "Requirement already satisfied: urllib3<3,>=1.21.1 in /home/ytaghzou/anaconda3/lib/python3.12/site-packages (from requests>=2->codeboxapi==0.1.19->codeinterpreterapi) (2.2.3)\n",
      "Requirement already satisfied: certifi>=2017.4.17 in /home/ytaghzou/anaconda3/lib/python3.12/site-packages (from requests>=2->codeboxapi==0.1.19->codeinterpreterapi) (2024.8.30)\n",
      "Requirement already satisfied: greenlet!=0.4.17 in /home/ytaghzou/anaconda3/lib/python3.12/site-packages (from SQLAlchemy<3,>=1.4->langchain<0.2,>=0.1->codeinterpreterapi) (3.0.1)\n",
      "Requirement already satisfied: regex>=2022.1.18 in /home/ytaghzou/anaconda3/lib/python3.12/site-packages (from tiktoken<1,>=0.7->langchain-openai->codeinterpreterapi) (2024.9.11)\n",
      "Requirement already satisfied: httpcore==1.* in /home/ytaghzou/anaconda3/lib/python3.12/site-packages (from httpx<1,>=0.23.0->langsmith<0.2.0,>=0.1.17->langchain<0.2,>=0.1->codeinterpreterapi) (1.0.2)\n",
      "Requirement already satisfied: h11<0.15,>=0.13 in /home/ytaghzou/anaconda3/lib/python3.12/site-packages (from httpcore==1.*->httpx<1,>=0.23.0->langsmith<0.2.0,>=0.1.17->langchain<0.2,>=0.1->codeinterpreterapi) (0.14.0)\n",
      "Requirement already satisfied: jsonpointer>=1.9 in /home/ytaghzou/anaconda3/lib/python3.12/site-packages (from jsonpatch<2.0,>=1.33->langchain-core<0.2.0,>=0.1.52->langchain<0.2,>=0.1->codeinterpreterapi) (2.1)\n",
      "Requirement already satisfied: mypy-extensions>=0.3.0 in /home/ytaghzou/anaconda3/lib/python3.12/site-packages (from typing-inspect<1,>=0.4.0->dataclasses-json<0.7,>=0.5.7->langchain<0.2,>=0.1->codeinterpreterapi) (1.0.0)\n",
      "Downloading codeinterpreterapi-0.1.20-py3-none-any.whl (19 kB)\n",
      "Using cached codeboxapi-0.1.19-py3-none-any.whl (13 kB)\n",
      "Downloading langchain-0.1.20-py3-none-any.whl (1.0 MB)\n",
      "\u001b[?25l   \u001b[38;5;237m━━━━━━━━━━━━━━━━━━━━━━━━━━━━━━━━━━━━━━━━\u001b[0m \u001b[32m0.0/1.0 MB\u001b[0m \u001b[31m?\u001b[0m eta \u001b[36m-:--:--\u001b[0m\n",
      "\n",
      "\u001b[2K   \u001b[38;2;114;156;31m━━━━━━━━━━━━━━━━━━━━━━━━━━━━━━━━━━━━━━━━\u001b[0m \u001b[32m1.0/1.0 MB\u001b[0m \u001b[31m8.4 MB/s\u001b[0m eta \u001b[36m0:00:00\u001b[0m\n",
      "\u001b[?25h\n",
      "Downloading langchain_openai-0.1.7-py3-none-any.whl (34 kB)\n",
      "Downloading langchain_community-0.0.38-py3-none-any.whl (2.0 MB)\n",
      "\u001b[?25l   \u001b[38;5;237m━━━━━━━━━━━━━━━━━━━━━━━━━━━━━━━━━━━━━━━━\u001b[0m \u001b[32m0.0/2.0 MB\u001b[0m \u001b[31m?\u001b[0m eta \u001b[36m-:--:--\u001b[0m\n",
      "\n",
      "\u001b[2K   \u001b[38;2;114;156;31m━━━━━━━━━━━━━━━━━━━━━━━━━━━━━━━━━━━━━━━━\u001b[0m \u001b[32m2.0/2.0 MB\u001b[0m \u001b[31m12.4 MB/s\u001b[0m eta \u001b[36m0:00:00\u001b[0m\n",
      "\u001b[?25h\n",
      "Downloading langchain_core-0.1.53-py3-none-any.whl (303 kB)\n",
      "Downloading langchain_text_splitters-0.0.2-py3-none-any.whl (23 kB)\n",
      "Downloading websockets-14.1-cp312-cp312-manylinux_2_5_x86_64.manylinux1_x86_64.manylinux_2_17_x86_64.manylinux2014_x86_64.whl (169 kB)\n",
      "Downloading packaging-23.2-py3-none-any.whl (53 kB)\n",
      "Installing collected packages: websockets, packaging, langchain-core, codeboxapi, langchain-text-splitters, langchain-openai, langchain-community, langchain, codeinterpreterapi\n",
      "  Attempting uninstall: packaging\n",
      "    Found existing installation: packaging 24.1\n",
      "    Uninstalling packaging-24.1:\n",
      "      Successfully uninstalled packaging-24.1\n",
      "  Attempting uninstall: langchain-core\n",
      "    Found existing installation: langchain-core 0.3.16\n",
      "    Uninstalling langchain-core-0.3.16:\n",
      "      Successfully uninstalled langchain-core-0.3.16\n",
      "  Attempting uninstall: langchain-text-splitters\n",
      "    Found existing installation: langchain-text-splitters 0.3.2\n",
      "    Uninstalling langchain-text-splitters-0.3.2:\n",
      "      Successfully uninstalled langchain-text-splitters-0.3.2\n",
      "  Attempting uninstall: langchain-community\n",
      "    Found existing installation: langchain-community 0.3.6\n",
      "    Uninstalling langchain-community-0.3.6:\n",
      "      Successfully uninstalled langchain-community-0.3.6\n",
      "  Attempting uninstall: langchain\n",
      "    Found existing installation: langchain 0.3.7\n",
      "    Uninstalling langchain-0.3.7:\n",
      "      Successfully uninstalled langchain-0.3.7\n",
      "\u001b[31mERROR: pip's dependency resolver does not currently take into account all the packages that are installed. This behaviour is the source of the following dependency conflicts.\n",
      "langgraph 0.2.53 requires langchain-core!=0.3.0,!=0.3.1,!=0.3.10,!=0.3.11,!=0.3.12,!=0.3.13,!=0.3.14,!=0.3.2,!=0.3.3,!=0.3.4,!=0.3.5,!=0.3.6,!=0.3.7,!=0.3.8,!=0.3.9,<0.4.0,>=0.2.43, but you have langchain-core 0.1.53 which is incompatible.\n",
      "langchain-ollama 0.2.0 requires langchain-core<0.4.0,>=0.3.0, but you have langchain-core 0.1.53 which is incompatible.\n",
      "langgraph-checkpoint 2.0.6 requires langchain-core<0.4,>=0.2.38, but you have langchain-core 0.1.53 which is incompatible.\u001b[0m\u001b[31m\n",
      "\u001b[0mSuccessfully installed codeboxapi-0.1.19 codeinterpreterapi-0.1.20 langchain-0.1.20 langchain-community-0.0.38 langchain-core-0.1.53 langchain-openai-0.1.7 langchain-text-splitters-0.0.2 packaging-23.2 websockets-14.1\n",
      "Note: you may need to restart the kernel to use updated packages.\n"
     ]
    }
   ],
   "source": [
    "from dotenv import load_dotenv\n",
    "import os\n",
    "\n",
    "# Load the environment variables from the .env file\n",
    "#load_dotenv()\n",
    "\n",
    "#Configuring the log system to work on Jupyter notebook\n",
    "import logging\n",
    "import sys\n",
    "import os\n",
    "import datetime\n",
    "\n",
    "# Define the path to your log file\n",
    "log_file_path = 'kgbot.log'\n",
    "\n",
    "# Check if the log file already exists and delete it if it does\n",
    "if os.path.exists(log_file_path):\n",
    "    os.remove(log_file_path)\n",
    "\n",
    "class StreamToLogger:\n",
    "    def __init__(self, logger, log_level=logging.INFO, echo=True):\n",
    "        self.logger = logger\n",
    "        self.log_level = log_level\n",
    "        self.echo = echo\n",
    "        self.original_stdout = sys.__stdout__  # Use sys.__stdout__ to ensure the original stdout\n",
    "        self._is_logging = False  # Guard to prevent recursion\n",
    "\n",
    "    def write(self, buf):\n",
    "        if self._is_logging:\n",
    "            return  # Avoid recursion\n",
    "\n",
    "        self._is_logging = True\n",
    "        try:\n",
    "            if buf.rstrip():\n",
    "                for line in buf.rstrip().splitlines():\n",
    "                    self.logger.log(self.log_level, line.rstrip())\n",
    "                    if self.echo:\n",
    "                        self.original_stdout.write(line + '\\n')\n",
    "        finally:\n",
    "            self._is_logging = False\n",
    "\n",
    "    def flush(self):\n",
    "        pass\n",
    "\n",
    "for handler in logging.root.handlers[:]:\n",
    "    logging.root.removeHandler(handler)\n",
    "\n",
    "# Set up the logging configuration\n",
    "logging.getLogger().setLevel(logging.INFO)\n",
    "\n",
    "fh = logging.FileHandler(log_file_path, mode='a')\n",
    "fh.setLevel(logging.DEBUG)\n",
    "formatter = logging.Formatter('%(levelname)s - %(message)s')\n",
    "fh.setFormatter(formatter)\n",
    "\n",
    "# Create a specific logger for stdout redirection\n",
    "stdout_logger = logging.getLogger('stdoutLogger')\n",
    "stdout_logger.setLevel(logging.INFO)\n",
    "stdout_logger.addHandler(fh)  # Add only the file handler to this logger\n",
    "\n",
    "# Redirect stdout to StreamToLogger\n",
    "stream_to_logger = StreamToLogger(stdout_logger, log_level=logging.INFO, echo=True)\n",
    "sys.stdout = stream_to_logger\n",
    "\n",
    "print(f\"Starting KGBot - {datetime.datetime.now().strftime('%d-%m-%Y %H:%M:%S')}\")"
   ]
  },
  {
   "cell_type": "code",
   "execution_count": null,
   "metadata": {
    "ExecuteTime": {
     "end_time": "2024-03-26T14:25:50.185036Z",
     "start_time": "2024-03-26T14:25:50.177515Z"
    }
   },
   "outputs": [],
   "source": [
    "# #Setting up the LangSmith\n",
    "# #For now, all runs will be stored in the \"KGBot Testing - GPT4\"\n",
    "# #If you want to separate the traces to have a better control of specific traces.\n",
    "# #Metadata as llm version and temperature can be obtained from traces.\n",
    "import os\n",
    "\n",
    "os.environ[\"LANGCHAIN_TRACING_V2\"] = \"true\"\n",
    "os.environ[\"LANGCHAIN_PROJECT\"] = (\n",
    "    f\"KGBot Testing - Interpreter_agent\"  # Please update the name here if you want to create a new project for separating the traces.\n",
    ")\n",
    "os.environ[\"LANGCHAIN_ENDPOINT\"] = \"https://api.smith.langchain.com\"\n",
    "from langsmith import Client\n",
    "\n",
    "client = Client()\n",
    "\n",
    "# #Check if the client was initialized\n",
    "print(f\"Langchain client was initialized: {client}\")"
   ]
  },
  {
   "cell_type": "code",
   "execution_count": 17,
   "metadata": {},
   "outputs": [],
   "source": [
    "%pip install codeinterpreterapi"
   ]
  },
  {
   "cell_type": "code",
   "execution_count": 18,
   "metadata": {
    "ExecuteTime": {
     "end_time": "2024-03-18T10:56:08.917047Z",
     "start_time": "2024-03-18T10:56:07.351667Z"
    }
   },
   "outputs": [
    {
     "ename": "ImportError",
     "evalue": "cannot import name 'LazyClassAttribute' from 'pydantic._internal._utils' (/home/ytaghzou/anaconda3/lib/python3.12/site-packages/pydantic/_internal/_utils.py)",
     "output_type": "error",
     "traceback": [
      "\u001b[0;31m---------------------------------------------------------------------------\u001b[0m",
      "\u001b[0;31mImportError\u001b[0m                               Traceback (most recent call last)",
      "Cell \u001b[0;32mIn[18], line 21\u001b[0m\n\u001b[1;32m     19\u001b[0m \u001b[38;5;66;03m# langchain output parser for OpenAI functions\u001b[39;00m\n\u001b[1;32m     20\u001b[0m \u001b[38;5;28;01mfrom\u001b[39;00m \u001b[38;5;21;01mlangchain\u001b[39;00m\u001b[38;5;21;01m.\u001b[39;00m\u001b[38;5;21;01moutput_parsers\u001b[39;00m\u001b[38;5;21;01m.\u001b[39;00m\u001b[38;5;21;01mopenai_functions\u001b[39;00m \u001b[38;5;28;01mimport\u001b[39;00m JsonOutputFunctionsParser\n\u001b[0;32m---> 21\u001b[0m \u001b[38;5;28;01mfrom\u001b[39;00m \u001b[38;5;21;01mcodeinterpreterapi\u001b[39;00m \u001b[38;5;28;01mimport\u001b[39;00m CodeInterpreterSession, File\n\u001b[1;32m     22\u001b[0m \u001b[38;5;66;03m# typing imports for type hinting\u001b[39;00m\n\u001b[1;32m     23\u001b[0m \u001b[38;5;28;01mfrom\u001b[39;00m \u001b[38;5;21;01mtyping\u001b[39;00m \u001b[38;5;28;01mimport\u001b[39;00m Annotated, List, Tuple, Union,  Any, Dict, Optional, Sequence, TypedDict\n",
      "File \u001b[0;32m~/anaconda3/lib/python3.12/site-packages/codeinterpreterapi/__init__.py:4\u001b[0m\n\u001b[1;32m      1\u001b[0m \u001b[38;5;28;01mfrom\u001b[39;00m \u001b[38;5;21;01m.\u001b[39;00m \u001b[38;5;28;01mimport\u001b[39;00m _patch_parser  \u001b[38;5;66;03m# noqa\u001b[39;00m\n\u001b[1;32m      3\u001b[0m \u001b[38;5;28;01mfrom\u001b[39;00m \u001b[38;5;21;01mcodeinterpreterapi\u001b[39;00m\u001b[38;5;21;01m.\u001b[39;00m\u001b[38;5;21;01mconfig\u001b[39;00m \u001b[38;5;28;01mimport\u001b[39;00m settings\n\u001b[0;32m----> 4\u001b[0m \u001b[38;5;28;01mfrom\u001b[39;00m \u001b[38;5;21;01mcodeinterpreterapi\u001b[39;00m\u001b[38;5;21;01m.\u001b[39;00m\u001b[38;5;21;01mschema\u001b[39;00m \u001b[38;5;28;01mimport\u001b[39;00m File\n\u001b[1;32m      5\u001b[0m \u001b[38;5;28;01mfrom\u001b[39;00m \u001b[38;5;21;01mcodeinterpreterapi\u001b[39;00m\u001b[38;5;21;01m.\u001b[39;00m\u001b[38;5;21;01msession\u001b[39;00m \u001b[38;5;28;01mimport\u001b[39;00m CodeInterpreterSession\n\u001b[1;32m      8\u001b[0m __all__ \u001b[38;5;241m=\u001b[39m [\n\u001b[1;32m      9\u001b[0m     \u001b[38;5;124m\"\u001b[39m\u001b[38;5;124mCodeInterpreterSession\u001b[39m\u001b[38;5;124m\"\u001b[39m,\n\u001b[1;32m     10\u001b[0m     \u001b[38;5;124m\"\u001b[39m\u001b[38;5;124mFile\u001b[39m\u001b[38;5;124m\"\u001b[39m,\n\u001b[1;32m     11\u001b[0m     \u001b[38;5;124m\"\u001b[39m\u001b[38;5;124msettings\u001b[39m\u001b[38;5;124m\"\u001b[39m,\n\u001b[1;32m     12\u001b[0m ]\n",
      "File \u001b[0;32m~/anaconda3/lib/python3.12/site-packages/codeinterpreterapi/schema.py:4\u001b[0m\n\u001b[1;32m      1\u001b[0m \u001b[38;5;28;01mimport\u001b[39;00m \u001b[38;5;21;01masyncio\u001b[39;00m\n\u001b[1;32m      2\u001b[0m \u001b[38;5;28;01mfrom\u001b[39;00m \u001b[38;5;21;01mtyping\u001b[39;00m \u001b[38;5;28;01mimport\u001b[39;00m Any\n\u001b[0;32m----> 4\u001b[0m \u001b[38;5;28;01mfrom\u001b[39;00m \u001b[38;5;21;01mcodeboxapi\u001b[39;00m\u001b[38;5;21;01m.\u001b[39;00m\u001b[38;5;21;01mschema\u001b[39;00m \u001b[38;5;28;01mimport\u001b[39;00m CodeBoxStatus\n\u001b[1;32m      5\u001b[0m \u001b[38;5;28;01mfrom\u001b[39;00m \u001b[38;5;21;01mlangchain_core\u001b[39;00m\u001b[38;5;21;01m.\u001b[39;00m\u001b[38;5;21;01mmessages\u001b[39;00m \u001b[38;5;28;01mimport\u001b[39;00m AIMessage, HumanMessage\n\u001b[1;32m      6\u001b[0m \u001b[38;5;28;01mfrom\u001b[39;00m \u001b[38;5;21;01mlangchain_core\u001b[39;00m\u001b[38;5;21;01m.\u001b[39;00m\u001b[38;5;21;01mpydantic_v1\u001b[39;00m \u001b[38;5;28;01mimport\u001b[39;00m BaseModel\n",
      "File \u001b[0;32m~/anaconda3/lib/python3.12/site-packages/codeboxapi/__init__.py:8\u001b[0m\n\u001b[1;32m      1\u001b[0m \u001b[38;5;124;03m\"\"\"\u001b[39;00m\n\u001b[1;32m      2\u001b[0m \u001b[38;5;124;03mCodeBox is the simplest cloud infrastructure for your LLM Apps and Services.\u001b[39;00m\n\u001b[1;32m      3\u001b[0m \n\u001b[0;32m   (...)\u001b[0m\n\u001b[1;32m      6\u001b[0m \u001b[38;5;124;03mand interacting with Codebox instances.\u001b[39;00m\n\u001b[1;32m      7\u001b[0m \u001b[38;5;124;03m\"\"\"\u001b[39;00m\n\u001b[0;32m----> 8\u001b[0m \u001b[38;5;28;01mfrom\u001b[39;00m \u001b[38;5;21;01mcodeboxapi\u001b[39;00m\u001b[38;5;21;01m.\u001b[39;00m\u001b[38;5;21;01mbox\u001b[39;00m\u001b[38;5;21;01m.\u001b[39;00m\u001b[38;5;21;01mcodebox\u001b[39;00m \u001b[38;5;28;01mimport\u001b[39;00m CodeBox\n\u001b[1;32m      9\u001b[0m \u001b[38;5;28;01mfrom\u001b[39;00m \u001b[38;5;21;01mcodeboxapi\u001b[39;00m\u001b[38;5;21;01m.\u001b[39;00m\u001b[38;5;21;01mconfig\u001b[39;00m \u001b[38;5;28;01mimport\u001b[39;00m settings\n\u001b[1;32m     10\u001b[0m \u001b[38;5;28;01mfrom\u001b[39;00m \u001b[38;5;21;01mcodeboxapi\u001b[39;00m\u001b[38;5;21;01m.\u001b[39;00m\u001b[38;5;21;01mutils\u001b[39;00m \u001b[38;5;28;01mimport\u001b[39;00m set_api_key\n",
      "File \u001b[0;32m~/anaconda3/lib/python3.12/site-packages/codeboxapi/box/__init__.py:9\u001b[0m\n\u001b[1;32m      1\u001b[0m \u001b[38;5;124;03m\"\"\"\u001b[39;00m\n\u001b[1;32m      2\u001b[0m \u001b[38;5;124;03mThis module contains the box classes that are used to run code in a sandboxed\u001b[39;00m\n\u001b[1;32m      3\u001b[0m \u001b[38;5;124;03menvironment. The `BaseBox` class is the base class for all box classes.\u001b[39;00m\n\u001b[1;32m      4\u001b[0m \u001b[38;5;124;03mThe `LocalBox` class is used to run code in a local testing environment. The\u001b[39;00m\n\u001b[1;32m      5\u001b[0m \u001b[38;5;124;03m`CodeBox` class is used to run code in a remote sandboxed environment.\u001b[39;00m\n\u001b[1;32m      6\u001b[0m \u001b[38;5;124;03m\"\"\"\u001b[39;00m\n\u001b[1;32m      8\u001b[0m \u001b[38;5;28;01mfrom\u001b[39;00m \u001b[38;5;21;01m.\u001b[39;00m\u001b[38;5;21;01mbasebox\u001b[39;00m \u001b[38;5;28;01mimport\u001b[39;00m BaseBox\n\u001b[0;32m----> 9\u001b[0m \u001b[38;5;28;01mfrom\u001b[39;00m \u001b[38;5;21;01m.\u001b[39;00m\u001b[38;5;21;01mcodebox\u001b[39;00m \u001b[38;5;28;01mimport\u001b[39;00m CodeBox\n\u001b[1;32m     10\u001b[0m \u001b[38;5;28;01mfrom\u001b[39;00m \u001b[38;5;21;01m.\u001b[39;00m\u001b[38;5;21;01mlocalbox\u001b[39;00m \u001b[38;5;28;01mimport\u001b[39;00m LocalBox\n\u001b[1;32m     12\u001b[0m __all__ \u001b[38;5;241m=\u001b[39m [\n\u001b[1;32m     13\u001b[0m     \u001b[38;5;124m\"\u001b[39m\u001b[38;5;124mBaseBox\u001b[39m\u001b[38;5;124m\"\u001b[39m,\n\u001b[1;32m     14\u001b[0m     \u001b[38;5;124m\"\u001b[39m\u001b[38;5;124mCodeBox\u001b[39m\u001b[38;5;124m\"\u001b[39m,\n\u001b[1;32m     15\u001b[0m     \u001b[38;5;124m\"\u001b[39m\u001b[38;5;124mLocalBox\u001b[39m\u001b[38;5;124m\"\u001b[39m,\n\u001b[1;32m     16\u001b[0m ]\n",
      "File \u001b[0;32m~/anaconda3/lib/python3.12/site-packages/codeboxapi/box/codebox.py:44\u001b[0m\n\u001b[1;32m     41\u001b[0m \u001b[38;5;28;01mfrom\u001b[39;00m \u001b[38;5;21;01maiohttp\u001b[39;00m \u001b[38;5;28;01mimport\u001b[39;00m ClientSession\n\u001b[1;32m     43\u001b[0m \u001b[38;5;28;01mfrom\u001b[39;00m \u001b[38;5;21;01mcodeboxapi\u001b[39;00m\u001b[38;5;21;01m.\u001b[39;00m\u001b[38;5;21;01mbox\u001b[39;00m\u001b[38;5;21;01m.\u001b[39;00m\u001b[38;5;21;01mbasebox\u001b[39;00m \u001b[38;5;28;01mimport\u001b[39;00m BaseBox\n\u001b[0;32m---> 44\u001b[0m \u001b[38;5;28;01mfrom\u001b[39;00m \u001b[38;5;21;01mcodeboxapi\u001b[39;00m\u001b[38;5;21;01m.\u001b[39;00m\u001b[38;5;21;01mconfig\u001b[39;00m \u001b[38;5;28;01mimport\u001b[39;00m settings\n\u001b[1;32m     45\u001b[0m \u001b[38;5;28;01mfrom\u001b[39;00m \u001b[38;5;21;01mcodeboxapi\u001b[39;00m\u001b[38;5;21;01m.\u001b[39;00m\u001b[38;5;21;01mschema\u001b[39;00m \u001b[38;5;28;01mimport\u001b[39;00m CodeBoxFile, CodeBoxOutput, CodeBoxStatus\n\u001b[1;32m     46\u001b[0m \u001b[38;5;28;01mfrom\u001b[39;00m \u001b[38;5;21;01mcodeboxapi\u001b[39;00m\u001b[38;5;21;01m.\u001b[39;00m\u001b[38;5;21;01mutils\u001b[39;00m \u001b[38;5;28;01mimport\u001b[39;00m abase_request, base_request\n",
      "File \u001b[0;32m~/anaconda3/lib/python3.12/site-packages/codeboxapi/config.py:9\u001b[0m\n\u001b[1;32m      6\u001b[0m \u001b[38;5;28;01mfrom\u001b[39;00m \u001b[38;5;21;01mtyping\u001b[39;00m \u001b[38;5;28;01mimport\u001b[39;00m Optional\n\u001b[1;32m      8\u001b[0m \u001b[38;5;28;01mfrom\u001b[39;00m \u001b[38;5;21;01mdotenv\u001b[39;00m \u001b[38;5;28;01mimport\u001b[39;00m load_dotenv\n\u001b[0;32m----> 9\u001b[0m \u001b[38;5;28;01mfrom\u001b[39;00m \u001b[38;5;21;01mpydantic_settings\u001b[39;00m \u001b[38;5;28;01mimport\u001b[39;00m BaseSettings\n\u001b[1;32m     11\u001b[0m \u001b[38;5;66;03m# .env file\u001b[39;00m\n\u001b[1;32m     12\u001b[0m load_dotenv(\u001b[38;5;124m\"\u001b[39m\u001b[38;5;124m./.env\u001b[39m\u001b[38;5;124m\"\u001b[39m)\n",
      "File \u001b[0;32m~/anaconda3/lib/python3.12/site-packages/pydantic_settings/__init__.py:1\u001b[0m\n\u001b[0;32m----> 1\u001b[0m \u001b[38;5;28;01mfrom\u001b[39;00m \u001b[38;5;21;01m.\u001b[39;00m\u001b[38;5;21;01mmain\u001b[39;00m \u001b[38;5;28;01mimport\u001b[39;00m BaseSettings, CliApp, SettingsConfigDict\n\u001b[1;32m      2\u001b[0m \u001b[38;5;28;01mfrom\u001b[39;00m \u001b[38;5;21;01m.\u001b[39;00m\u001b[38;5;21;01msources\u001b[39;00m \u001b[38;5;28;01mimport\u001b[39;00m (\n\u001b[1;32m      3\u001b[0m     CLI_SUPPRESS,\n\u001b[1;32m      4\u001b[0m     AzureKeyVaultSettingsSource,\n\u001b[0;32m   (...)\u001b[0m\n\u001b[1;32m     21\u001b[0m     get_subcommand,\n\u001b[1;32m     22\u001b[0m )\n\u001b[1;32m     23\u001b[0m \u001b[38;5;28;01mfrom\u001b[39;00m \u001b[38;5;21;01m.\u001b[39;00m\u001b[38;5;21;01mversion\u001b[39;00m \u001b[38;5;28;01mimport\u001b[39;00m VERSION\n",
      "File \u001b[0;32m~/anaconda3/lib/python3.12/site-packages/pydantic_settings/main.py:11\u001b[0m\n\u001b[1;32m      9\u001b[0m \u001b[38;5;28;01mfrom\u001b[39;00m \u001b[38;5;21;01mpydantic\u001b[39;00m\u001b[38;5;21;01m.\u001b[39;00m\u001b[38;5;21;01m_internal\u001b[39;00m\u001b[38;5;21;01m.\u001b[39;00m\u001b[38;5;21;01m_signature\u001b[39;00m \u001b[38;5;28;01mimport\u001b[39;00m _field_name_for_signature\n\u001b[1;32m     10\u001b[0m \u001b[38;5;28;01mfrom\u001b[39;00m \u001b[38;5;21;01mpydantic\u001b[39;00m\u001b[38;5;21;01m.\u001b[39;00m\u001b[38;5;21;01m_internal\u001b[39;00m\u001b[38;5;21;01m.\u001b[39;00m\u001b[38;5;21;01m_utils\u001b[39;00m \u001b[38;5;28;01mimport\u001b[39;00m deep_update, is_model_class\n\u001b[0;32m---> 11\u001b[0m \u001b[38;5;28;01mfrom\u001b[39;00m \u001b[38;5;21;01mpydantic\u001b[39;00m\u001b[38;5;21;01m.\u001b[39;00m\u001b[38;5;21;01mdataclasses\u001b[39;00m \u001b[38;5;28;01mimport\u001b[39;00m is_pydantic_dataclass\n\u001b[1;32m     12\u001b[0m \u001b[38;5;28;01mfrom\u001b[39;00m \u001b[38;5;21;01mpydantic\u001b[39;00m\u001b[38;5;21;01m.\u001b[39;00m\u001b[38;5;21;01mmain\u001b[39;00m \u001b[38;5;28;01mimport\u001b[39;00m BaseModel\n\u001b[1;32m     14\u001b[0m \u001b[38;5;28;01mfrom\u001b[39;00m \u001b[38;5;21;01m.\u001b[39;00m\u001b[38;5;21;01msources\u001b[39;00m \u001b[38;5;28;01mimport\u001b[39;00m (\n\u001b[1;32m     15\u001b[0m     ENV_FILE_SENTINEL,\n\u001b[1;32m     16\u001b[0m     CliSettingsSource,\n\u001b[0;32m   (...)\u001b[0m\n\u001b[1;32m     27\u001b[0m     get_subcommand,\n\u001b[1;32m     28\u001b[0m )\n",
      "File \u001b[0;32m~/anaconda3/lib/python3.12/site-packages/pydantic/dataclasses.py:14\u001b[0m\n\u001b[1;32m     11\u001b[0m \u001b[38;5;28;01mfrom\u001b[39;00m \u001b[38;5;21;01mtyping_extensions\u001b[39;00m \u001b[38;5;28;01mimport\u001b[39;00m Literal, TypeGuard, dataclass_transform\n\u001b[1;32m     13\u001b[0m \u001b[38;5;28;01mfrom\u001b[39;00m \u001b[38;5;21;01m.\u001b[39;00m\u001b[38;5;21;01m_internal\u001b[39;00m \u001b[38;5;28;01mimport\u001b[39;00m _config, _decorators, _namespace_utils, _typing_extra\n\u001b[0;32m---> 14\u001b[0m \u001b[38;5;28;01mfrom\u001b[39;00m \u001b[38;5;21;01m.\u001b[39;00m\u001b[38;5;21;01m_internal\u001b[39;00m \u001b[38;5;28;01mimport\u001b[39;00m _dataclasses \u001b[38;5;28;01mas\u001b[39;00m _pydantic_dataclasses\n\u001b[1;32m     15\u001b[0m \u001b[38;5;28;01mfrom\u001b[39;00m \u001b[38;5;21;01m.\u001b[39;00m\u001b[38;5;21;01m_migration\u001b[39;00m \u001b[38;5;28;01mimport\u001b[39;00m getattr_migration\n\u001b[1;32m     16\u001b[0m \u001b[38;5;28;01mfrom\u001b[39;00m \u001b[38;5;21;01m.\u001b[39;00m\u001b[38;5;21;01mconfig\u001b[39;00m \u001b[38;5;28;01mimport\u001b[39;00m ConfigDict\n",
      "File \u001b[0;32m~/anaconda3/lib/python3.12/site-packages/pydantic/_internal/_dataclasses.py:30\u001b[0m\n\u001b[1;32m     28\u001b[0m \u001b[38;5;28;01mfrom\u001b[39;00m \u001b[38;5;21;01m.\u001b[39;00m\u001b[38;5;21;01m_schema_generation_shared\u001b[39;00m \u001b[38;5;28;01mimport\u001b[39;00m CallbackGetCoreSchemaHandler\n\u001b[1;32m     29\u001b[0m \u001b[38;5;28;01mfrom\u001b[39;00m \u001b[38;5;21;01m.\u001b[39;00m\u001b[38;5;21;01m_signature\u001b[39;00m \u001b[38;5;28;01mimport\u001b[39;00m generate_pydantic_signature\n\u001b[0;32m---> 30\u001b[0m \u001b[38;5;28;01mfrom\u001b[39;00m \u001b[38;5;21;01m.\u001b[39;00m\u001b[38;5;21;01m_utils\u001b[39;00m \u001b[38;5;28;01mimport\u001b[39;00m LazyClassAttribute\n\u001b[1;32m     32\u001b[0m \u001b[38;5;28;01mif\u001b[39;00m typing\u001b[38;5;241m.\u001b[39mTYPE_CHECKING:\n\u001b[1;32m     33\u001b[0m     \u001b[38;5;28;01mfrom\u001b[39;00m \u001b[38;5;21;01m_typeshed\u001b[39;00m \u001b[38;5;28;01mimport\u001b[39;00m DataclassInstance \u001b[38;5;28;01mas\u001b[39;00m StandardDataclass\n",
      "\u001b[0;31mImportError\u001b[0m: cannot import name 'LazyClassAttribute' from 'pydantic._internal._utils' (/home/ytaghzou/anaconda3/lib/python3.12/site-packages/pydantic/_internal/_utils.py)"
     ]
    }
   ],
   "source": [
    "# langchain imports for agent and prompt handling\n",
    "from langchain.agents import Tool, AgentExecutor, LLMSingleActionAgent, AgentOutputParser \n",
    "from langchain.prompts import BaseChatPromptTemplate\n",
    "from langchain.utilities import SerpAPIWrapper\n",
    "from langchain.chains.llm import LLMChain\n",
    "from langchain_ollama import ChatOllama\n",
    "from langchain.agents import create_openai_tools_agent\n",
    "from langchain import hub\n",
    "\n",
    "# langgraph imports for prebuilt tool invocation\n",
    "from langgraph.prebuilt import ToolInvocation\n",
    "from langgraph.graph import StateGraph, END\n",
    "\n",
    "# langchain_core imports for message handling and action schema\n",
    "from langchain_core.messages import BaseMessage, HumanMessage, FunctionMessage\n",
    "from langchain_core.prompts import ChatPromptTemplate, MessagesPlaceholder \n",
    "from langchain.schema import AgentAction, AgentFinish, HumanMessage\n",
    "\n",
    "# langchain output parser for OpenAI functions\n",
    "from langchain.output_parsers.openai_functions import JsonOutputFunctionsParser\n",
    "from codeinterpreterapi import CodeInterpreterSession, File\n",
    "# typing imports for type hinting\n",
    "from typing import Annotated, List, Tuple, Union,  Any, Dict, Optional, Sequence, TypedDict\n",
    "import operator\n",
    "import functools\n",
    "\n",
    "# Standard library imports for JSON and regular expressions\n",
    "import json\n",
    "import re\n",
    "from importlib import reload\n",
    "# Custom imports for RDF graph manipulation and chemical, target, taxon, and SPARQL resolution\n",
    "from app.core.graph_management.RdfGraphCustom import RdfGraph\n",
    "# from smile_resolver import smiles_to_inchikey\n",
    "# from chemical_resolver import ChemicalResolver\n",
    "# from target_resolver import target_name_to_target_id\n",
    "# from taxon_resolver import TaxonResolver\n",
    "from app.core.agents.sparql import GraphSparqlQAChain\n",
    "from app.core.memory.custom_sqlite_file import SqliteSaver\n",
    "# from log_search import LogMemoryAccessTool\n",
    "\n",
    "# langchain pydantic for base model definitions\n",
    "from pydantic import BaseModel, Field\n",
    "\n",
    "# langchain tools for base, structured tool definitions, and tool decorators\n",
    "from langchain.tools import BaseTool, StructuredTool, tool\n",
    "\n",
    "# Standard library import for object serialization\n",
    "import pickle\n"
   ]
  },
  {
   "cell_type": "code",
   "execution_count": 11,
   "metadata": {
    "ExecuteTime": {
     "end_time": "2024-03-18T10:56:26.594380Z",
     "start_time": "2024-03-18T10:56:09.856932Z"
    },
    "scrolled": true
   },
   "outputs": [
    {
     "ename": "NameError",
     "evalue": "name 'RdfGraph' is not defined",
     "output_type": "error",
     "traceback": [
      "\u001b[0;31m---------------------------------------------------------------------------\u001b[0m",
      "\u001b[0;31mNameError\u001b[0m                                 Traceback (most recent call last)",
      "Cell \u001b[0;32mIn[11], line 6\u001b[0m\n\u001b[1;32m      3\u001b[0m endpoint_url \u001b[38;5;241m=\u001b[39m \u001b[38;5;124m'\u001b[39m\u001b[38;5;124mhttps://enpkg.commons-lab.org/graphdb/repositories/ENPKG\u001b[39m\u001b[38;5;124m'\u001b[39m \u001b[38;5;66;03m#remove\u001b[39;00m\n\u001b[1;32m      4\u001b[0m \u001b[38;5;66;03m#create function put to main\u001b[39;00m\n\u001b[1;32m      5\u001b[0m \u001b[38;5;66;03m# init with the endpoint url\u001b[39;00m\n\u001b[0;32m----> 6\u001b[0m graph \u001b[38;5;241m=\u001b[39m \u001b[43mRdfGraph\u001b[49m(\n\u001b[1;32m      7\u001b[0m     query_endpoint\u001b[38;5;241m=\u001b[39mendpoint_url,\n\u001b[1;32m      8\u001b[0m     standard\u001b[38;5;241m=\u001b[39m\u001b[38;5;124m\"\u001b[39m\u001b[38;5;124mrdf\u001b[39m\u001b[38;5;124m\"\u001b[39m)\n\u001b[1;32m     10\u001b[0m \u001b[38;5;66;03m# #OR\u001b[39;00m\n\u001b[1;32m     11\u001b[0m \n\u001b[1;32m     12\u001b[0m \u001b[38;5;66;03m# graph = RdfGraph(\u001b[39;00m\n\u001b[0;32m   (...)\u001b[0m\n\u001b[1;32m     17\u001b[0m \n\u001b[1;32m     18\u001b[0m \u001b[38;5;66;03m# save the graph on disk\u001b[39;00m\n\u001b[1;32m     19\u001b[0m \u001b[38;5;28;01mwith\u001b[39;00m \u001b[38;5;28mopen\u001b[39m(\u001b[38;5;124m'\u001b[39m\u001b[38;5;124m../graphs/graph.pkl\u001b[39m\u001b[38;5;124m'\u001b[39m, \u001b[38;5;124m'\u001b[39m\u001b[38;5;124mwb\u001b[39m\u001b[38;5;124m'\u001b[39m) \u001b[38;5;28;01mas\u001b[39;00m output_file:\n",
      "\u001b[0;31mNameError\u001b[0m: name 'RdfGraph' is not defined"
     ]
    }
   ],
   "source": [
    "####################### Instantiate the graph #######################\n",
    "\n",
    "endpoint_url = 'https://enpkg.commons-lab.org/graphdb/repositories/ENPKG' #remove\n",
    "#create function put to main\n",
    "# init with the endpoint url\n",
    "graph = RdfGraph(\n",
    "    query_endpoint=endpoint_url,\n",
    "    standard=\"rdf\")\n",
    "\n",
    "# #OR\n",
    "\n",
    "# graph = RdfGraph(\n",
    "#     query_endpoint=endpoint_url,\n",
    "#     standard=\"rdf\",\n",
    "#     schema_file='../graphs/schema.ttl')\n",
    "\n",
    "\n",
    "# save the graph on disk\n",
    "with open('../graphs/graph.pkl', 'wb') as output_file:\n",
    "    pickle.dump(graph, output_file)\n",
    "    \n",
    "\n",
    "####################### Load the graph from disk #######################\n",
    "    \n",
    "# # load the graph from disk\n",
    "# with open('../graphs/graph.pkl', 'rb') as input_file:\n",
    "#     graph = pickle.load(input_file)\n",
    "    \n",
    "print(graph.get_schema)"
   ]
  },
  {
   "cell_type": "code",
   "execution_count": null,
   "metadata": {
    "ExecuteTime": {
     "end_time": "2024-03-15T14:20:11.935844Z",
     "start_time": "2024-03-15T14:20:11.904246Z"
    },
    "collapsed": false,
    "jupyter": {
     "outputs_hidden": false
    }
   },
   "outputs": [],
   "source": [
    "# Initial setup: defining the temperature for the model and specifying model IDs for GPT-4 usage\n",
    "temperature = 0.3\n",
    "model_id_gpt4 = \"gpt-4\"\n",
    "model_id = \"gpt-4-0125-preview\"\n",
    "\n",
    "# Create instances of the ChatOpenAI class for interacting with the GPT-4 models.\n",
    "# These instances are configured for specific model versions, with retries and verbose logging enabled.\n",
    "# defining gpt4 llm for supervisor\n",
    "llm_gpt4 = ChatOpenAI(\n",
    "    temperature=temperature, model=model_id_gpt4, max_retries=3, verbose=True, model_kwargs={\n",
    "                        \"top_p\": 0.95,\n",
    "                        }\n",
    ")  # Instance for default GPT-4 model\n",
    "\n",
    "llm = ChatOpenAI(\n",
    "    temperature=temperature,\n",
    "    model=model_id,  # This instance uses a specific GPT-4 turbo model.\n",
    "    max_retries=3,\n",
    "    verbose=True,\n",
    ")  # Instance for GPT-4 0125-preview model.\n",
    "\n",
    "\n",
    "# Setup a GraphSparqlQAChain instance for executing SPARQL queries against a knowledge graph.\n",
    "# This instance utilizes the llm model for processing and the graph object for data querying.\n",
    "sparql_chain = GraphSparqlQAChain.from_llm(llm_gpt4, graph=graph, verbose=True)\n",
    "\n",
    "# Initialize chemical and taxon resolver tools with the llm model for specialized query processing.\n",
    "chem_res = ChemicalResolver.from_llm(llm=llm, verbose=True)\n",
    "taxon_res = TaxonResolver()\n",
    "\n",
    "\n",
    "# Pydantic models for structured input to the resolver tools.\n",
    "class ChemicalInput(BaseModel):\n",
    "    query: str = Field(description=\"natural product compound string\")\n",
    "\n",
    "\n",
    "class SparqlInput(BaseModel):\n",
    "    question: str = Field(description=\"the original question from the user\")\n",
    "    entities: str = Field(\n",
    "        description=\"strings containing for all entities, entity name and the corresponding entity identifier\"\n",
    "    )\n",
    "\n",
    "\n",
    "# Define a list of structured tools for chemical, taxon, target, and SMILES conversion resolution.\n",
    "# def tools_resolver_creator():\n",
    "tools_resolver = [\n",
    "    StructuredTool.from_function(\n",
    "        name=\"CHEMICAL_RESOLVER\",\n",
    "        func=chem_res.run,\n",
    "        description=\"The function takes a natural product compound string as input and returns a InChIKey, if InChIKey not found, it returns the NPCClass, NPCPathway or NPCSuperClass.\",\n",
    "        args_schema=ChemicalInput,\n",
    "    ),\n",
    "    StructuredTool.from_function(\n",
    "        name=\"TAXON_RESOLVER\",\n",
    "        func=taxon_res.query_wikidata,\n",
    "        description=\"The function takes a taxon string as input and returns the wikidata ID.\",\n",
    "    ),\n",
    "    StructuredTool.from_function(\n",
    "        name=\"TARGET_RESOLVER\",\n",
    "        func=target_name_to_target_id,\n",
    "        description=\"The function takes a target string as input and returns the ChEMBLTarget IRI.\",\n",
    "    ),\n",
    "    StructuredTool.from_function(\n",
    "        name=\"SMILE_CONVERTER\",\n",
    "        func=smiles_to_inchikey,\n",
    "        description=\"The function takes a SMILES string as input and returns the InChIKey notation of the molecule.\",\n",
    "    ),\n",
    "]\n",
    "\n",
    "\n",
    "# Define a list for the SPARQL query runner tool, used for executing knowledge graph queries.\n",
    "tool_sparql = [\n",
    "    StructuredTool.from_function(\n",
    "        name=\"SPARQL_QUERY_RUNNER\",\n",
    "        func=sparql_chain.run,\n",
    "        description=\"The agent resolve the user's question by querying the knowledge graph database. Input should be a question and the resolved entities in the question. The output is the answer to the question and path to the file containing the SPARQL output.\",\n",
    "        args_schema=SparqlInput,\n",
    "        # return_direct=True,\n",
    "    )\n",
    "]\n",
    "\n",
    "\n",
    "# Generate a list of tool names for reference or display purposes.\n",
    "tool_names = [\n",
    "    tool.name for tool in tools_resolver\n",
    "]  # List of tool names from the resolver tools."
   ]
  },
  {
   "cell_type": "markdown",
   "metadata": {
    "collapsed": false,
    "jupyter": {
     "outputs_hidden": false
    }
   },
   "source": [
    "#  Helper Utilities to create agent"
   ]
  },
  {
   "cell_type": "code",
   "execution_count": null,
   "metadata": {
    "ExecuteTime": {
     "end_time": "2024-03-15T14:20:14.311971Z",
     "start_time": "2024-03-15T14:20:14.306761Z"
    },
    "collapsed": false,
    "jupyter": {
     "outputs_hidden": false
    }
   },
   "outputs": [],
   "source": [
    "def create_agent(llm: ChatOpenAI, tools: list, system_prompt: str):\n",
    "    \"\"\"\n",
    "    Creates an AgentExecutor with LLM, set of tools, and system prompt.\n",
    "\n",
    "    This function initializes a chat prompt template with a system message, placeholders for messages,\n",
    "    and an agent scratchpad. It then creates an agent using the specified LLM and tools,\n",
    "    and wraps this agent in an AgentExecutor for execution.\n",
    "\n",
    "    Parameters:\n",
    "    - llm (ChatOpenAI): The language model to be used by the agent for generating responses.\n",
    "    - tools (list): A list of tools (functions or utilities) that the agent can use to perform actions or generate responses.\n",
    "    - system_prompt (str): A string that provides initial instructions or information to the agent. This is used to set up the context for the agent's operations.\n",
    "\n",
    "    Returns:\n",
    "    - AgentExecutor: An executor object that manages the execution of the agent, allowing the agent to process input and use tools as defined.\n",
    "    \"\"\"\n",
    "\n",
    "    # Initialize a ChatPromptTemplate with a system message, placeholders for incoming messages, and an agent scratchpad.\n",
    "    # This template structures the input to the language model, integrating static and dynamic content.\n",
    "    prompt = ChatPromptTemplate.from_messages(\n",
    "        [\n",
    "            (\n",
    "                \"system\",\n",
    "                system_prompt,\n",
    "            ),\n",
    "            MessagesPlaceholder(variable_name=\"messages\"),\n",
    "            MessagesPlaceholder(variable_name=\"agent_scratchpad\"),\n",
    "        ]\n",
    "    )\n",
    "\n",
    "    # Create an agent using the provided language model, tools, and the structured prompt.\n",
    "    # This agent can interact with users, process input, and use tools based on the prompt template.\n",
    "    agent = create_openai_tools_agent(llm, tools, prompt)\n",
    "\n",
    "    # Initialize an AgentExecutor to manage and execute the agent's operations.\n",
    "    # The executor facilitates the interaction between the agent and the tools, handling execution logic.\n",
    "    executor = AgentExecutor(agent=agent, tools=tools, verbose=True)\n",
    "    return executor"
   ]
  },
  {
   "cell_type": "markdown",
   "metadata": {
    "collapsed": false,
    "jupyter": {
     "outputs_hidden": false
    }
   },
   "source": [
    "# Create Agent Supervisor\n"
   ]
  },
  {
   "cell_type": "code",
   "execution_count": null,
   "metadata": {
    "ExecuteTime": {
     "end_time": "2024-03-15T14:20:15.387626Z",
     "start_time": "2024-03-15T14:20:15.383731Z"
    },
    "collapsed": false,
    "jupyter": {
     "outputs_hidden": false
    }
   },
   "outputs": [],
   "source": [
    "# Define a list of agent names that will be part of the supervisor system.\n",
    "members = [\"ENPKG_agent\", \"Sparql_query_runner\", \"Interpreter_agent\"]\n",
    "\n",
    "# Define the system prompt that outlines the role and responsibilities of the supervisor agent,\n",
    "# including instructions on how to delegate tasks to specialized agents based on the user's question.\n",
    "system_prompt = \"\"\"You are a supervisor. As the supervisor, your primary role is to coordinate the flow of information between agents and ensure the appropriate processing of the user question based on its content. You have access to a team of specialized agents: {members}.\n",
    "\n",
    "Here is a list of steps to help you accomplish your role:\n",
    "\n",
    "Analyse the user question and delegate functions to the specialized agents below if needed:\n",
    "If the question mentions any of the following entities: natural product compound, chemical name, taxon name, target, SMILES structure, or numerical value delegate the question to the ENPKG_agent. ENPKG_agent would provide resolved entities needed to generate SPARQL query. For example if the question mentions either caffeine, or Desmodium heterophyllum call ENPKG_agent.\n",
    "\n",
    "If you have answers from the agent mentioned above, you provide those answers with the user question to the Sparql_query_runner.\n",
    "\n",
    "If the question does not mention chemical name, taxon name, target name, nor SMILES structure, delegate the question to the agent Sparql_query_runner. The Sparql_query_runner agent will perform further processing and provide the path containing the SPARQL output.\n",
    "\n",
    "If the Sparql_query_runner provides a SPARQL query and the path to the file containing the SPARQL output without directly providing the answer (implying that the answer is too long to be directly included), then delegate this information to the Interpreter_agent for further analysis and interpretation. Provide the Interpreter_agent with the question, SPARQL query, and the path to the file provided by the Sparql_query_runner. Await the Interpreter_agent's response for the final answer.\n",
    "\n",
    "Once the Interpreter_agent has completed its task mark the process as FINISH. Do not call the Interpreter_agent again.\n",
    "\n",
    "If the Sparql_query_runner agent provides a SPARQL query, the path to the file containing the SPARQL output and final answer to the question, and there is no immediate need for further interpretation, normally mark the process as FINISH. However, if there is a need to visualize the results (regardless of the length of the SPARQL output), also call the Interpreter_agent to generate the necessary plot, chart, or graph based on the SPARQL output. The need for visualization should be assessed based on the user's request or if the nature of the data implies that visualization would enhance understanding. Once the Interpreter_agent has completed its task mark the process as FINISH. Do not call the Interpreter_agent again.\n",
    "\n",
    "For example, the user provides the following question: For features from Melochia umbellata in PI mode with SIRIUS annotations, get the ones for which a feature in NI mode with the same retention time has the same SIRIUS annotation. Since the question mentions Melochia umbellata you should firstly delegate it to the ENPKG_agent which would provide wikidata IRI with TAXON_RESOLVER tool, then, you should delegate the question together with the output generated by ENPKG_agent to the Sparql_query_runner agent. Afterwards, if the Sparql_query_runner agent provided the answer to the question, SPARQL query and path to the file containing the SPARQL output and there is no need to visualize the output you should mark the process as FINISH. If the Sparql_query_runner agent  provided only SPARQL query and path to the file you should call Interpreter_agent which would interpret the results provided by Sparql_query_runner to generate the final response to the question.\n",
    "\n",
    "Avoid calling the same agent if this agent has already been called previously and provided the answer. For example, if you have called ENPKG_agent and it provided InChIKey for chemical compound do not call this agent again.\n",
    "\n",
    "Always tell the user the SPARQL query that has been returned by the Sparql_query_runner.\n",
    "\n",
    "If the agent does not provide the expected output mark the process as FINISH.\n",
    "\n",
    "Remember, your efficiency in routing the questions accurately and collecting responses is crucial for the seamless operation of our system. If you don't know the answer to any of the steps, please say explicitly and help the user by providing a query that you think will be better interpreted.\n",
    "\"\"\"\n",
    "\n",
    "\n",
    "# Function to create a team supervisor agent that routes tasks based on user questions.\n",
    "def create_team_supervisor(llm: ChatOpenAI, system_prompt, members) -> str:\n",
    "    \"\"\"\n",
    "    Configures and returns a supervisor agent setup with decision-making logic for task routing.\n",
    "\n",
    "    The supervisor uses a provided language model (llm) to analyze user questions and decides whether to delegate\n",
    "    the question to specialized agents (members), or to mark the process as finished based on predefined criteria.\n",
    "\n",
    "    Parameters:\n",
    "    - llm (ChatOpenAI): The language model to be used for processing and routing decisions.\n",
    "    - system_prompt (str): A detailed prompt describing the supervisor's role and decision-making guidelines.\n",
    "    - members (list): A list of specialized agents available for task delegation.\n",
    "\n",
    "    Returns:\n",
    "    - str: A configured prompt or agent setup that integrates routing logic for processing user questions.\n",
    "    \"\"\"\n",
    "    options = [\"FINISH\"] + members\n",
    "    function_def = {\n",
    "        \"name\": \"route\",\n",
    "        \"description\": \"Select the next role.\",\n",
    "        \"parameters\": {\n",
    "            \"title\": \"routeSchema\",\n",
    "            \"type\": \"object\",\n",
    "            \"properties\": {\n",
    "                \"next\": {\n",
    "                    \"title\": \"Next\",\n",
    "                    \"anyOf\": [\n",
    "                        {\"enum\": options},\n",
    "                    ],\n",
    "                },\n",
    "            },\n",
    "            \"required\": [\"next\"],\n",
    "        },\n",
    "    }\n",
    "    prompt = ChatPromptTemplate.from_messages(\n",
    "        [\n",
    "            (\"system\", system_prompt),\n",
    "            MessagesPlaceholder(variable_name=\"messages\"),\n",
    "            (\n",
    "                \"system\",\n",
    "                \"Given the conversation above, who should act next?\"\n",
    "                \" Or should we FINISH? Select one of: {options}\",\n",
    "            ),\n",
    "        ]\n",
    "    ).partial(options=str(options), members=\", \".join(members))\n",
    "    return (\n",
    "        prompt\n",
    "        | llm.bind_functions(functions=[function_def], function_call=\"route\")\n",
    "        | JsonOutputFunctionsParser()\n",
    "    )"
   ]
  },
  {
   "cell_type": "markdown",
   "metadata": {
    "collapsed": false,
    "jupyter": {
     "outputs_hidden": false
    }
   },
   "source": [
    "## Defining separate agents"
   ]
  },
  {
   "cell_type": "code",
   "execution_count": null,
   "metadata": {
    "ExecuteTime": {
     "end_time": "2024-03-15T14:20:16.625162Z",
     "start_time": "2024-03-15T14:20:16.620628Z"
    },
    "collapsed": false,
    "jupyter": {
     "outputs_hidden": false
    }
   },
   "outputs": [],
   "source": [
    "# Define the system message for the entity resolution agent (resolver) responsible for processing user questions.\n",
    "# This message includes instructions for the agent on how to handle different types of entities mentioned in questions.\n",
    "system_message_resolver = \"\"\"You are an entity resolution agent for the Sparql_query_runner. If this prompt has reached you, it is for a specific and significant reason. It is imperative that you read the instructions and details provided carefully and thoroughly.\n",
    "You have access to the following tools:\n",
    "{tool_names}\n",
    "You should analyze the question and provide resolved entities for the entities mentioned in the question to the supervisor using the tools available to you. Here is a list of steps to help you accomplish your role:\n",
    "\n",
    "If the question ask anything about any entities that could be natural product compound, find the relevant IRI to this chemical class using CHEMICAL_RESOLVER tool. Input is the chemical class name. For example, if salicin is mentioned in the question, provide its IRI using CHEMICAL_RESOLVER, input is salicin. \n",
    "\n",
    "If a taxon is mentioned, find what is its wikidata IRI with TAXON_RESOLVER. Input is the taxon name. For example, if the question mentions acer saccharum, you should provide its wikidata IRI using TAXON_RESOLVER tool. \n",
    "\n",
    "If a target is mentioned, find the ChEMBLTarget IRI of the target using TARGET_RESOLVER tool. Input is the target name.\n",
    "\n",
    "If a SMILE structure is mentioned, find what is the InChIKey notation of the molecule using SMILE_CONVERTER tool. Input is the SMILE structure. For example, if there is a string with similar structure to CCC12CCCN3C1C4(CC3) in the question, provide it to SMILE_CONVERTER.\n",
    "        \n",
    "Give me units relevant to numerical values in this question. Return nothing if units for value is not provided.\n",
    "Be sure to say that these are the units of the quantities found in the knowledge graph.\n",
    "Here is the list of units to find:\n",
    "    \"retention time\": \"minutes\",\n",
    "    \"activity value\": null, \n",
    "    \"feature area\": \"absolute count or intensity\", \n",
    "    \"relative feature area\": \"normalized area in percentage\", \n",
    "    \"parent mass\": \"ppm (parts-per-million) for m/z\",\n",
    "    \"mass difference\": \"delta m/z\", \n",
    "    \"cosine\": \"score from 0 to 1. 1 = identical spectra. 0 = completely different spectra\"\n",
    "\n",
    " You do not have to answer the question, your task is to provide resolved entities mentioned in the question using the tools available to you. For example, if the question mentions Hibiscus rosa-sinensis provide its wikidata IRI using TAXON_RESOLVER tool.\n",
    " \n",
    " You are required to submit only the final answer to the supervisor.\n",
    "        \n",
    "\"\"\".format(\n",
    "    tool_names=\"\\n\".join(tool_names)\n",
    ")\n",
    "\n",
    "\n",
    "# Create an agent for entity resolution based on the instructions provided in `system_message_resolver`.\n",
    "enpkg_agent = create_agent(llm_gpt4, tools_resolver, system_message_resolver)\n",
    "\n",
    "\n",
    "# Create an agent for running SPARQL queries based on user requests and resolved entities provided by other agents.\n",
    "system_message_sparql = \"\"\"You are SPARQL query runner, you take as input the user request and resolved entities provided by other agents, generate a SPARQL query, run it on the knowledge graph and answer to the question using SPARQL_QUERY_RUNNER tool. Specifically, when providing user request and resolved entities to the SPARQL_QUERY_RUNNER tool, format them as 'entity from the question has entity type entity resolution'. For example, you should provide the following input: catharanthus roseus has the Wikidata IRI https://www.wikidata.org/wiki/Q161093. Ensure this format is strictly adhered to for effective querying.  \n",
    "\n",
    "If the output of the SPARQL_QUERY_RUNNER tool consists of only generated SPARQL query and path to the file containing the SPARQL output, you will need to generate a dictionary as output from your process. This dictionary should contain exactly three key-value pairs:\n",
    "question: The key should be a string named 'question' and the value should be the natural language question you were asked to translate into a SPARQL query.\n",
    "generated_sparql_query: The key should be a string named 'generated_sparql_query' and the value should be the SPARQL query you generated based on the natural language question.\n",
    "file_path: The key should be a string named 'file_path' and the value should be the absolute path to the file where the generated SPARQL query is saved. In this case provide the generated dictionary to the supervisor which would call the Interpreter agent to further interpret the results.\n",
    "\n",
    "If the output of the SPARQL_QUERY_RUNNER tool consists of generated SPARQL query, path to the file containing the SPARQL output and the SPARQL output then you need to generate the final answer to the question based on the SPARQL output. Provide the final answer to the question together with the dictionary containing the question, generated_sparql_query and file_path. The dictionary should contain exactly three key-value pairs:\n",
    "question: The key should be a string named 'question' and the value should be the natural language question you were asked to translate into a SPARQL query.\n",
    "generated_sparql_query: The key should be a string named 'generated_sparql_query' and the value should be the SPARQL query you generated based on the natural language question.\n",
    "file_path: The key should be a string named 'file_path' and the value should be the absolute path to the file where the generated SPARQL query is saved.\n",
    " Provide the final answer to the supervisor.\n",
    "\"\"\"\n",
    "\n",
    "sparql_query_agent = create_agent(llm, tool_sparql, system_message_sparql)"
   ]
  },
  {
   "cell_type": "markdown",
   "metadata": {},
   "source": [
    "## Defining interpreter agent"
   ]
  },
  {
   "cell_type": "code",
   "execution_count": null,
   "metadata": {
    "ExecuteTime": {
     "end_time": "2024-03-26T14:26:12.179256Z",
     "start_time": "2024-03-26T14:26:12.155240Z"
    }
   },
   "outputs": [],
   "source": [
    "interpreter_session = CodeInterpreterSession()\n",
    "\n",
    "\n",
    "class InterpreterInput(BaseModel):\n",
    "    question: str = Field(description=\"the original question from the user\")\n",
    "    generated_sparql_query: str = Field(description=\"the generated SPARQL query\")\n",
    "    file_path: str = Field(\n",
    "        description=\"file path where result of generated SPARQL query is stored\"\n",
    "    )\n",
    "\n",
    "\n",
    "def interpreter_logic(question, generated_sparql_query, file_path) -> None:\n",
    "    \"\"\"Interprets the results of a SPARQL query based on user's question.\n",
    "\n",
    "    Args:\n",
    "        question (str): The original question from the user.\n",
    "        generated_sparql_query (str): The generated SPARQL query.\n",
    "        file_path (str): The file path where the result of the generated SPARQL query is stored.\n",
    "\n",
    "    Returns:\n",
    "        None: Outputs the response after interpreting the SPARQL results.\n",
    "    \"\"\"\n",
    "    # context manager for start/stop of the session\n",
    "    # define the user request\n",
    "    print(f\"Interpreting {question}\")\n",
    "    print(f\"SPARQL query: {generated_sparql_query}\")\n",
    "    print(f\"File path: {file_path}\")\n",
    "    with CodeInterpreterSession() as session:\n",
    "        user_request = f\"\"\"You are an interpreter agent. Your task is to analyze the output related to a SPARQL query, which could be in two forms:\n",
    "         If the output of the Sparql_query_runner agent is only the dictionary containing question: \"{question}\", generated SPARQL query: \"{generated_sparql_query}\" which was used to query the knowledge graph to answer to the question and path: \"{file_path}\" containing the SPARQL output then you should review the provided dataset from the file and SPARQL query to provide a clear, concise answer to the question. Additionally, if visualization of the results is necessary (e.g., when the SPARQL output is large or complex), you should provide an appropriate visualization, such as a bar chart, diagram, or plot, to effectively communicate the answer.\n",
    "         If the output of the Sparql_query_runner agent contains the answer to the question together with the dictionary containing the question: \"{question}\", generated SPARQL query: \"{generated_sparql_query}\" and path: \"{file_path}\", then you should analyze this output and provide visualization of the answer to the question. \n",
    "         The type of visualization – bar chart, diagram, or plot – will depend on the nature of the SPARQL output and the best way to represent the answer to the question clearly.\n",
    "         Submit only the final answer to the supervisor. Indicate the format of the dataset for appropriate handling. \"\"\"\n",
    "        files = [\n",
    "            File.from_path(file_path),\n",
    "        ]\n",
    "\n",
    "        # generate the response\n",
    "        response = session.generate_response(user_request, files=files)\n",
    "        # output the response (text + image)\n",
    "        response.show()\n",
    "        return response.content\n",
    "\n",
    "\n",
    "interpreter_tool = StructuredTool.from_function(\n",
    "    name=\"INTERPRETER_TOOL\",\n",
    "    func=interpreter_logic,\n",
    "    description=\"The function takes an original user question, generated sparql query, and generated sparql query result stored in file_path and returns interpreted answer content\",\n",
    "    args_schema=InterpreterInput,\n",
    ")\n",
    "system_message_interpreter = \"\"\"You are an interpreter agent. Your main role is to analyze outputs from the Sparql_query_runner agent using the INTERPRETER_TOOL. The outputs from the Sparql_query_runner agent can be of two types:\n",
    "\n",
    "The output is a dictionary containing 'question', 'generated_sparql_query', and 'file_path'. This typically happens when the Sparql_query_runner agent has executed a query to fetch results for a complex question. Your task is to provide this dictionary directly to the INTERPRETER_TOOL to get a concise answer. Ensure you format the dictionary correctly and include all necessary information so the INTERPRETER_TOOL can process it efficiently.\n",
    "\n",
    "The output directly contains the answer to the question but still comes within a dictionary that includes the 'question', 'generated_sparql_query', and 'file_path'. Even if the answer is directly provided, your role remains to pass this entire dictionary to the INTERPRETER_TOOL. The tool requires this structured input to validate and format the final answer properly.\n",
    "\n",
    "In both scenarios, your primary function is to ensure that the INTERPRETER_TOOL receives the necessary information in a structured dictionary format. This allows the tool to analyze the SPARQL query's output thoroughly and provide a clear, concise answer to the initial question.\"\"\"\n",
    "\n",
    "interpreter_agent = create_agent(llm, [interpreter_tool], system_message_interpreter)\n",
    "\n",
    "print(\"Interpreter agent created\")"
   ]
  },
  {
   "cell_type": "markdown",
   "metadata": {},
   "source": [
    "# Defining Entry Agent"
   ]
  },
  {
   "cell_type": "code",
   "execution_count": null,
   "metadata": {},
   "outputs": [],
   "source": [
    "class QueryInput(BaseModel):\n",
    "    query: str = Field(description=\"Query string to search in memory logs.\")\n",
    "\n",
    "def memory_access_tool_creator():\n",
    "    # Function adjusted to accept keyword arguments\n",
    "    def memory_tool(**kwargs) -> Dict[str, Any]:\n",
    "        # Create a QueryInput instance from kwargs\n",
    "        query_input = QueryInput(**kwargs)\n",
    "        \n",
    "        # Instantiate LogMemoryAccessTool with its default parameters\n",
    "        new_memory_tool_instance = LogMemoryAccessTool()\n",
    "\n",
    "        # Directly use the generated answer method since we're focusing on generating responses\n",
    "        return new_memory_tool_instance.generate_answer(query_input=query_input)\n",
    "\n",
    "    # Assuming StructuredTool and its usage is similar to how you'd implement it based on your framework or requirements\n",
    "    new_memory_access_tool = StructuredTool.from_function(\n",
    "        name=\"NEW_MEMORY_ACCESS_QUERY_RUNNER\",\n",
    "        func=memory_tool,\n",
    "        description=\"Generates an answer based on the logs and the provided query without explicitly calling the input.\",\n",
    "        args_schema=QueryInput,  # Ensure this matches your expected input schema\n",
    "    )\n",
    "    \n",
    "    return new_memory_access_tool\n",
    "\n",
    "tool_memory = memory_access_tool_creator()\n",
    "\n",
    "# Creating the Entry Agent prompt\n",
    "# 1. Determine if the question is within the knowledge domain of our system, which includes chemistry, natural products chemistry, mass spectrometry, biology, metabolomics, knowledge graphs, and related areas.\n",
    "entry_agent_promtp = \"\"\"\n",
    "You are the first point of contact for user questions in a team of LLMs designed to answer technical questions involving the retrieval and interpretation of information from a Knowledge Graph Database of LC-MS Metabolomics of Natural Products. As the entry agent, you need to be very succint in your communications and answer only what you are instructed to. You should not answer questions out of your role. Your replies will be used by other LLMs as imputs, so it should strictly contain only what you are instructed to do.  \n",
    "\n",
    "Your role is to interpret the question sent by the user to you and to identify if the question is a \"New Knowledge Question\", a clarification you asked for a New Knowledge Question or a \"Help me understand Question\" and take actions based on this.\n",
    "\n",
    "A New Knowledge Question would be a question that requires information that you don't have available information at the moment and are not asking to explain results from previous questions. Those questions should be contained in the domains of Metabolomics, Chemistry, Mass Spectometry, Biology and Natural Products chemistry, and can include, for example, asking about compounds in a certain organism, to select and count the number of features containing a chemical entity, etc. If you identify that the question sent is a New Knowledge Question, you have to do the following:\n",
    "\n",
    "1. Check if the question requires clarification, focusing on these considerations:\n",
    "    - ONLY IF common usual names are mentioned, there is need for clarification on the specific species or taxa, as common names could refer to multiple entities. Some examples are provided:\n",
    "    -> The question \"How many compounds annotated in positive mode in the extracts of mint contain a benzene substructure?\" needs clarification since mint could refer to several species of the Mentha genus.\n",
    "    -> The question \"Select all compounds annotated in positive mode containing a benzene substructure\" don't need specification, since it implies that it whishes to select all compounds containing the benzene substructure from all organisms.\n",
    "    - ONLY IF the question includes unfinished scientific taxa specification, there is need for clarification only if the question implies specificity is needed. Some examples are provided:\n",
    "    -> The question \"Select all compounds from the genus Cedrus\" don't need clarification since it is already specifying that wants all species in the Cedrus genus.\n",
    "    -> The question \"Which species of Arabidopsis contains more compounds annotated in negative mode in the database?\" don't need clarification since it wants to compare all species from the genus Arabidopsis.\n",
    "    -> The question \"What compounds contain a spermidine substructure from Arabdopsis?\" needs clarification since it don't implies that wants the genus and also don't specify the species. \n",
    "    - For questions involving ionization mode without specification, ask whether positive or negative mode information is sought, as the database separates these details. If no ionization mode is specified, this implies that the question is asking for both positive and negative ionization mode. \n",
    "    - Remember: If the question does not mention a specific taxa and the context does not imply a need for such specificity, assume the question is asking for all taxa available in the database. There is no need for clarification in such cases.\n",
    "    - Similarly, if a chemical entity isn't specified, assume the query encompasses all chemical entities within the scope of the question. \n",
    "\n",
    "2. If you detected that there's need for clarification, you have to reply what information do you want to be more precise. If there's no need for clarification, reply \"Starting the processing of the question\"\n",
    "3. When the user clarified your previous doubt, you have to now reply the original question and the clarification, as your answer will be used by the next LLM.\n",
    "\n",
    "\n",
    "A \"Help me understand Question\" would be a follow up question, asking for explaining or providing more information about any previous answer. In this case, you have to:  \n",
    "\n",
    "1. Utilize previous conversations stored in the your memory for context when replyng to it, enabling more informed explanation about previous answers. If there's no information about it in your previous interactions, you should invoke your tool {tool} to search for information on the log. The input for the tool is what you want to search in the log. Use the answer given by the tool to help you reply back to the user. If there's also no information in the log, just reply that you don't have the information the user is looking for.\n",
    "\n",
    "You can also identify the need for transforming a \"Help me understand question\" in to a \"New Knowledge Question\". This would be a specific case when the user wants a explanation for a previous answer, but this explanation needs new information, that has to be searched on the database. In this case, you can formulate a question to be searched in the database based on previous conversation and the new information needed. \n",
    "\n",
    "If the question is outside of your knowledge or scope, don't reply anything. Other members of your team will tackle the issue.\n",
    "\n",
    "\"\"\".format(tool=tool_memory.name)\n",
    "\n",
    "entry_agent = create_agent(llm_gpt4, [tool_memory], entry_agent_promtp)\n",
    "\n",
    "print(\"Entry agent created\")"
   ]
  },
  {
   "cell_type": "markdown",
   "metadata": {
    "collapsed": false,
    "jupyter": {
     "outputs_hidden": false
    }
   },
   "source": [
    "# Construct Graph"
   ]
  },
  {
   "cell_type": "code",
   "execution_count": null,
   "metadata": {
    "ExecuteTime": {
     "end_time": "2024-03-15T14:20:21.071452Z",
     "start_time": "2024-03-15T14:20:21.065227Z"
    },
    "collapsed": false,
    "jupyter": {
     "outputs_hidden": false
    }
   },
   "outputs": [],
   "source": [
    "# The agent state is the input to each node in the graph\n",
    "class AgentState(TypedDict):\n",
    "    # The annotation tells the graph that new messages will always\n",
    "    # be added to the current states\n",
    "    messages: Annotated[Sequence[BaseMessage], operator.add]\n",
    "    # The 'next' field indicates where to route to next\n",
    "    next: str\n",
    "\n",
    "\n",
    "# function to define nodes\n",
    "def agent_node(state, agent, name):\n",
    "    result = agent.invoke(state)\n",
    "    return {\"messages\": [HumanMessage(content=result[\"output\"], name=name)]}\n",
    "\n",
    "\n",
    "# creating nodes for each agent\n",
    "entry_node= functools.partial(agent_node, agent=entry_agent, name=\"Entry_Agent\")\n",
    "enpkg_node = functools.partial(agent_node, agent=enpkg_agent, name=\"ENPKG_agent\")\n",
    "sparql_query_node = functools.partial(\n",
    "    agent_node, agent=sparql_query_agent, name=\"Sparql_query_runner\"\n",
    ")\n",
    "interpreter_agent_node = functools.partial(\n",
    "    agent_node, agent=interpreter_agent, name=\"Interpreter_agent\"\n",
    ")\n",
    "supervisor_agent = create_team_supervisor(llm_gpt4, system_prompt, members)\n",
    "\n",
    "# creating the workflow and adding nodes to it\n",
    "workflow = StateGraph(AgentState)\n",
    "workflow.add_node(\"Entry_Agent\", entry_node)\n",
    "workflow.add_node(\"ENPKG_agent\", enpkg_node)\n",
    "workflow.add_node(\"Sparql_query_runner\", sparql_query_node)\n",
    "workflow.add_node(\"supervisor\", supervisor_agent)\n",
    "workflow.add_node(\"Interpreter_agent\", interpreter_agent_node)\n",
    "\n",
    "#Adding edges\n",
    "\n",
    "# Connecting Entry agent and supervisor\n",
    "workflow.add_edge(\"Entry_Agent\", \"supervisor\")\n",
    "\n",
    "# connect all the edges in the graph\n",
    "for member in members:\n",
    "    # We want our workers to ALWAYS \"report back\" to the supervisor when done\n",
    "    workflow.add_edge(member, \"supervisor\")\n",
    "\n",
    "workflow.add_conditional_edges(\n",
    "    \"supervisor\",\n",
    "    lambda x: x[\"next\"],\n",
    "    {\n",
    "        \"ENPKG_agent\": \"ENPKG_agent\",\n",
    "        \"Sparql_query_runner\": \"Sparql_query_runner\",\n",
    "        \"Interpreter_agent\": \"Interpreter_agent\",\n",
    "        \"FINISH\": END,\n",
    "    },\n",
    ")\n",
    "\n",
    "memory = SqliteSaver()\n",
    "\n",
    "workflow.set_entry_point(\"Entry_Agent\")\n",
    "app = workflow.compile(checkpointer=memory)\n",
    "\n",
    "print(\"KGBot was compiled using LangGraph and it's ready!\")"
   ]
  },
  {
   "cell_type": "code",
   "execution_count": null,
   "metadata": {
    "ExecuteTime": {
     "end_time": "2024-03-15T14:20:25.975134Z",
     "start_time": "2024-03-15T14:20:25.959673Z"
    },
    "collapsed": false,
    "jupyter": {
     "outputs_hidden": false
    }
   },
   "outputs": [],
   "source": [
    "q1 = \"How many features (pos ionization and neg ionization modes) have the same SIRIUS/CSI:FingerID and ISDB annotation by comparing the InCHIKey of the annotations?\"\n",
    "q1_bis = \"How many features (pos ionization and neg ionization modes) have the same SIRIUS/CSI:FingerID and ISDB annotation by comparing the InCHIKey2D of the annotations?\"\n",
    "q2 = \"Which extracts have features (pos ionization mode) annotated as the class, aspidosperma-type alkaloids, by CANOPUS with a probability score above 0.5, ordered by the decreasing count of features as aspidosperma-type alkaloids? Group by extract.\"\n",
    "q3 = \"Among the structural annotations from the Tabernaemontana coffeoides (Apocynaceae) seeds extract taxon , which ones contain an aspidospermidine substructure?\"\n",
    "q4 = \"Among the SIRIUS structural annotations from the Tabernaemontana coffeoides (Apocynaceae) seeds extract, which ones are reported in the Tabernaemontana genus in Wikidata?\"\n",
    "q5 = \"Which compounds have annotations with chembl assay results indicating reported activity against T. cruzi by looking at the cosmic, zodiac and taxo scores?\"\n",
    "q5_bis = \"Which compounds have annotations with chembl assay results indicating reported activity against Trypanosoma cruzi by looking at the cosmic, zodiac and taxo scores?\"\n",
    "q6 = \"Filter the pos ionization mode features of the Melochia umbellata taxon annotated as [M+H]+ by SIRIUS to keep the ones for which a feature in neg ionization mode is detected with the same retention time (+/- 3 seconds) and a mass corresponding to the [M-H]- adduct (+/- 5ppm).\"\n",
    "q7 = \"For features from the Melochia umbellata taxon in pos ionization mode with SIRIUS annotations, get the ones for which a feature in neg ionization mode with the same retention time (+/- 3 seconds) has the same SIRIUS annotation by comparing the InCHIKey 2D. Return the features, retention times, and InChIKey2D\"\n",
    "q8 = \"Which features were annotated as 'Tetraketide meroterpenoids' by SIRIUS, and how many such features were found for each species and plant part?\"\n",
    "q9 = \"What are all distinct submitted taxons for the extracts in the knowledge graph?\"\n",
    "q10 = \"What are the taxons, lab process and label (if one exists) for each sample? Sort by sample and then lab process\"\n",
    "q11 = \"Count all the species per family in the collection\"\n",
    "\n",
    "q12 = \"Taxons can be found in enpkg:LabExtract. Find the best URI of the Taxon in the context of this question : \\n Among the structural annotations from the Tabernaemontana coffeoides (Apocynaceae) seeds extract taxon , which ones contain an aspidospermidine substructure, CCC12CCCN3C1C4(CC3)C(CC2)NC5=CC=CC=C45?\"\n",
    "q13 = \"Which compounds annotated in the active extract of Melochia umbellata have activity against Trypanosoma cruzi reported (in ChEMBL)?\"\n",
    "q14 = \"What are the variations in the concentration of key active compounds found in Tabernaemontana coffeoides seed extracts across different sample collections?\"\n",
    "q15 = \"Which compounds are detected most in Tabernaemontana genus?\"\n",
    "q16 = (\n",
    "    \"What are the most frequently detected compounds in the leaves of the Tabernaemontana genus? \"\n",
    "    \" over of features annotated as certain chemical classes vary across different Tabernaemontana genus extracts in the ENPKG, with a focus on features identified in positive ionization mode and annotated by CANOPUS with a probability score above 0.5?\"\n",
    ")\n",
    "q17 = \" For all the plant extracts plot the distribution of number of features per sample retention time vs mass to charge ratio\"\n",
    "q18 = \"What are the most frequently observed chemical compounds in Tabernaemontana genus? Provide a bar chart.\""
   ]
  },
  {
   "cell_type": "code",
   "execution_count": null,
   "metadata": {
    "ExecuteTime": {
     "end_time": "2024-03-12T09:57:35.184809Z",
     "start_time": "2024-03-12T09:57:35.182143Z"
    },
    "collapsed": false,
    "jupyter": {
     "outputs_hidden": false
    }
   },
   "outputs": [],
   "source": [
    "import requests\n",
    "\n",
    "def test_sparql_endpoint(endpoint):\n",
    "    \"\"\"\n",
    "    Tests the validity of a SPARQL endpoint by sending a simple ASK query.\n",
    "    Parameters:\n",
    "    - endpoint (str): The URL of the SPARQL endpoint to test.\n",
    "    Returns:\n",
    "    - bool: True if the endpoint is valid and responsive, False otherwise.\n",
    "    \"\"\"\n",
    "    test_query = {\"query\": \"ASK WHERE { ?s ?p ?o } LIMIT 1\"}\n",
    "    headers = {\"Accept\": \"application/sparql-results+json\"}\n",
    "    try:\n",
    "        response = requests.get(endpoint, params=test_query, headers=headers)\n",
    "        response.raise_for_status()  # Ensures HTTP request was successful\n",
    "        # Validate response format\n",
    "        if response.json() is not None:\n",
    "            print(\"Succesfully connected to the endpoint\")\n",
    "            return True\n",
    "        else:\n",
    "            print(\"The endpoint did not return a valid SPARQL result.\")\n",
    "            return False\n",
    "\n",
    "    except requests.RequestException as e:\n",
    "        print(f\"Failed to connect to the endpoint: {e}\")\n",
    "        return False"
   ]
  },
  {
   "cell_type": "code",
   "execution_count": null,
   "metadata": {
    "ExecuteTime": {
     "end_time": "2024-03-12T09:57:35.997845Z",
     "start_time": "2024-03-12T09:57:35.921363Z"
    },
    "collapsed": false,
    "jupyter": {
     "outputs_hidden": false
    }
   },
   "outputs": [],
   "source": [
    "result = test_sparql_endpoint(endpoint_url)\n",
    "print(result)"
   ]
  },
  {
   "cell_type": "code",
   "execution_count": null,
   "metadata": {
    "ExecuteTime": {
     "end_time": "2024-03-14T15:16:19.900116Z",
     "start_time": "2024-03-14T15:15:36.222617Z"
    },
    "collapsed": false,
    "jupyter": {
     "outputs_hidden": false
    }
   },
   "outputs": [],
   "source": [
    "# Testing for the first question\n",
    "\n",
    "for s in app.stream(\n",
    "    {\"messages\": [HumanMessage(content=q1_bis)]},\n",
    "    {\"configurable\": {\"thread_id\": \"1\"}} #The thread_id is the conversation identifier. The memory is indexed by thread_id, so setting a different one will search in another thread_id.\n",
    "):\n",
    "    if \"__end__\" in s:\n",
    "        print(s)\n",
    "        print(\"----\")"
   ]
  },
  {
   "cell_type": "code",
   "execution_count": 13,
   "metadata": {
    "ExecuteTime": {
     "end_time": "2024-03-26T13:57:03.422213Z",
     "start_time": "2024-03-26T13:56:08.559132Z"
    },
    "collapsed": false,
    "jupyter": {
     "outputs_hidden": false
    }
   },
   "outputs": [],
   "source": [
    "# Testing for the memory of the first question\n",
    "\n",
    "for s in app.stream(\n",
    "    {\"messages\": [HumanMessage(content=\"Can you explain your last answer better?\")]},\n",
    "    {\"configurable\": {\"thread_id\": \"1\"}} #The thread_id is the conversation identifier. The memory is indexed by thread_id, so setting a different one will search in another thread_id.\n",
    "):\n",
    "    if \"__end__\" in s:\n",
    "        print(s)\n",
    "        print(\"----\")"
   ]
  },
  {
   "cell_type": "code",
   "execution_count": null,
   "metadata": {
    "ExecuteTime": {
     "end_time": "2024-03-15T13:44:28.483550Z",
     "start_time": "2024-03-15T13:40:57.907843Z"
    },
    "collapsed": false,
    "jupyter": {
     "outputs_hidden": false
    }
   },
   "outputs": [],
   "source": [
    "for s in app.stream(\n",
    "    {\"messages\": [HumanMessage(content=q7)]},\n",
    "    {\"recursion_limit\": 100},\n",
    "):\n",
    "    if \"__end__\" in s:\n",
    "        print(s)\n",
    "        print(\"----\")"
   ]
  },
  {
   "cell_type": "code",
   "execution_count": null,
   "metadata": {
    "ExecuteTime": {
     "end_time": "2024-03-14T14:59:48.976995Z",
     "start_time": "2024-03-14T14:56:38.706357Z"
    },
    "collapsed": false,
    "jupyter": {
     "outputs_hidden": false
    }
   },
   "outputs": [],
   "source": [
    "for s in app.stream(\n",
    "    {\"messages\": [HumanMessage(content=q2)]},\n",
    "    {\"recursion_limit\": 100},\n",
    "):\n",
    "    if \"__end__\" in s:\n",
    "        print(s)\n",
    "        print(\"----\")"
   ]
  },
  {
   "cell_type": "markdown",
   "metadata": {
    "collapsed": false,
    "jupyter": {
     "outputs_hidden": false
    }
   },
   "source": []
  },
  {
   "cell_type": "code",
   "execution_count": null,
   "metadata": {
    "ExecuteTime": {
     "end_time": "2024-03-15T10:51:28.950749Z",
     "start_time": "2024-03-15T10:50:13.179626Z"
    },
    "collapsed": false,
    "jupyter": {
     "outputs_hidden": false
    }
   },
   "outputs": [],
   "source": [
    "for s in app.stream(\n",
    "    {\"messages\": [HumanMessage(content=q2)]},\n",
    "    {\"recursion_limit\": 100},\n",
    "):\n",
    "    if \"__end__\" in s:\n",
    "        print(s)\n",
    "        print(\"----\")"
   ]
  },
  {
   "cell_type": "code",
   "execution_count": null,
   "metadata": {
    "ExecuteTime": {
     "end_time": "2024-03-15T14:21:50.467383Z",
     "start_time": "2024-03-15T14:20:51.287785Z"
    },
    "collapsed": false,
    "jupyter": {
     "outputs_hidden": false
    }
   },
   "outputs": [],
   "source": [
    "for s in app.stream(\n",
    "    {\"messages\": [HumanMessage(content=q6)]},\n",
    "    {\"recursion_limit\": 100},\n",
    "):\n",
    "    if \"__end__\" in s:\n",
    "        print(s)\n",
    "        print(\"----\")"
   ]
  },
  {
   "cell_type": "code",
   "execution_count": null,
   "metadata": {
    "collapsed": false,
    "jupyter": {
     "outputs_hidden": false
    }
   },
   "outputs": [],
   "source": [
    "for s in app.stream(\n",
    "    {\"messages\": [HumanMessage(content=q3)]},\n",
    "    {\"recursion_limit\": 100},\n",
    "):\n",
    "    if \"__end__\" in s:\n",
    "        print(s)\n",
    "        print(\"----\")"
   ]
  },
  {
   "cell_type": "code",
   "execution_count": null,
   "metadata": {
    "collapsed": false,
    "jupyter": {
     "outputs_hidden": false
    }
   },
   "outputs": [],
   "source": [
    "def process_stream(app, q2):\n",
    "    results = []  # Initialize an empty list to store results\n",
    "    try:\n",
    "        # Iterate over the stream from app.stream()\n",
    "        for s in app.stream(\n",
    "            {\n",
    "                \"messages\": [\n",
    "                    HumanMessage(\n",
    "                        content=q2\n",
    "                    )  # Assuming q2 is the content of the message\n",
    "                ]\n",
    "            },\n",
    "            {\"recursion_limit\": 100},  # Additional options for the stream\n",
    "        ):\n",
    "            # Check if \"__end__\" is not in the stream output\n",
    "            if \"__end__\" not in s:\n",
    "                results.append(\n",
    "                    s\n",
    "                )  # Append the stream output to results list instead of printing\n",
    "    except Exception as e:\n",
    "        print(f\"An error occurred: {e}\")\n",
    "    return results  # Return the list of results"
   ]
  },
  {
   "cell_type": "code",
   "execution_count": null,
   "metadata": {
    "collapsed": false,
    "jupyter": {
     "outputs_hidden": false
    }
   },
   "outputs": [],
   "source": [
    "def process_stream(question):\n",
    "    \"\"\"\n",
    "    Iterates over messages from app.stream(), printing each message until an \"__end__\" flag is encountered.\n",
    "\n",
    "    :param question: The question to be sent as part of the initial stream request.\n",
    "    \"\"\"\n",
    "    # Define the parameters for app.stream() as described\n",
    "    stream_params = {\n",
    "        \"messages\": [{\"content\": question}],\n",
    "    }\n",
    "    stream_options = {\"recursion_limit\": 100}\n",
    "\n",
    "    try:\n",
    "        for s in app.stream(stream_params, stream_options):\n",
    "            if \"__end__\" not in s:\n",
    "                print(s)\n",
    "                print(\"----\")\n",
    "            else:\n",
    "                break  # Exit the loop if \"__end__\" is encountered\n",
    "    except Exception as e:\n",
    "        print(f\"An error occurred during streaming: {e}\")"
   ]
  },
  {
   "cell_type": "code",
   "execution_count": 1,
   "metadata": {
    "ExecuteTime": {
     "end_time": "2024-05-02T10:46:46.102394Z",
     "start_time": "2024-05-02T10:46:45.026198Z"
    },
    "collapsed": false,
    "jupyter": {
     "outputs_hidden": false
    }
   },
   "outputs": [
    {
     "name": "stdout",
     "output_type": "stream",
     "text": [
      "app.core.agents.sparql.tool_wikidata_query - INFO - Executing SPARQL query: \n",
      "            \n",
      "       PREFIX wd: <http://www.wikidata.org/entity/>\n",
      "       PREFIX wdt: <http://www.wikidata.org/prop/direct/>\n",
      "         \n",
      "            SELECT ?wd_id   \n",
      "            WHERE {\n",
      "                 BIND(wd:Q15376858 AS ?wd_sp)\n",
      "                # Ensure the genus is actually a genus (and not a higher clade)\n",
      "                ?genus wdt:P31 wd:Q16521; # instance of taxon\n",
      "                wdt:P105 wd:Q34740; # taxonomic rank of genus\n",
      "                ^wdt:P171* ?wd_sp .\n",
      "                # Get all child taxa of the genus Tabernaemontana\n",
      "                ?childtaxa wdt:P171* ?genus.\n",
      "                ?wd_id wdt:P703 ?childtaxa\n",
      "           }\n",
      "           \n",
      "app.core.agents.sparql.tool_wikidata_query - INFO - Query was successful and results were retrieved.\n",
      "app.core.agents.sparql.tool_wikidata_query - INFO - Wikidata IDs of annotations found.\n"
     ]
    }
   ],
   "source": [
    "from app.core.agents.sparql.tool_wikidata_query import WikidataStructureSearch\n",
    "search=WikidataStructureSearch()\n",
    "result=search.tool_func(\"Q15376858\")"
   ]
  },
  {
   "cell_type": "code",
   "execution_count": 2,
   "metadata": {
    "ExecuteTime": {
     "end_time": "2024-05-02T10:47:06.896019Z",
     "start_time": "2024-05-02T10:47:06.885544Z"
    },
    "collapsed": false,
    "jupyter": {
     "outputs_hidden": false
    }
   },
   "outputs": [
    {
     "name": "stdout",
     "output_type": "stream",
     "text": [
      "['http://www.wikidata.org/entity/Q121802', 'http://www.wikidata.org/entity/Q181003', 'http://www.wikidata.org/entity/Q191700', 'http://www.wikidata.org/entity/Q193572', 'http://www.wikidata.org/entity/Q229970', 'http://www.wikidata.org/entity/Q408428', 'http://www.wikidata.org/entity/Q409366', 'http://www.wikidata.org/entity/Q409439', 'http://www.wikidata.org/entity/Q409455', 'http://www.wikidata.org/entity/Q412957', 'http://www.wikidata.org/entity/Q416260', 'http://www.wikidata.org/entity/Q417831', 'http://www.wikidata.org/entity/Q418975', 'http://www.wikidata.org/entity/Q418993', 'http://www.wikidata.org/entity/Q419672', 'http://www.wikidata.org/entity/Q425004', 'http://www.wikidata.org/entity/Q586501', 'http://www.wikidata.org/entity/Q2356148', 'http://www.wikidata.org/entity/Q2501558', 'http://www.wikidata.org/entity/Q2756479', 'http://www.wikidata.org/entity/Q4015903', 'http://www.wikidata.org/entity/Q5015902', 'http://www.wikidata.org/entity/Q5172181', 'http://www.wikidata.org/entity/Q5984343', 'http://www.wikidata.org/entity/Q15079655', 'http://www.wikidata.org/entity/Q15410890', 'http://www.wikidata.org/entity/Q15410900', 'http://www.wikidata.org/entity/Q15410923', 'http://www.wikidata.org/entity/Q15426222', 'http://www.wikidata.org/entity/Q15634126', 'http://www.wikidata.org/entity/Q21099578', 'http://www.wikidata.org/entity/Q22911782', 'http://www.wikidata.org/entity/Q27103707', 'http://www.wikidata.org/entity/Q27104976', 'http://www.wikidata.org/entity/Q27105225', 'http://www.wikidata.org/entity/Q27107223', 'http://www.wikidata.org/entity/Q27138834', 'http://www.wikidata.org/entity/Q27138840', 'http://www.wikidata.org/entity/Q27138841', 'http://www.wikidata.org/entity/Q27138847', 'http://www.wikidata.org/entity/Q27278686', 'http://www.wikidata.org/entity/Q27896595', 'http://www.wikidata.org/entity/Q59354331', 'http://www.wikidata.org/entity/Q72443990', 'http://www.wikidata.org/entity/Q72461346', 'http://www.wikidata.org/entity/Q76755609', 'http://www.wikidata.org/entity/Q82062633', 'http://www.wikidata.org/entity/Q82095348', 'http://www.wikidata.org/entity/Q82916141', 'http://www.wikidata.org/entity/Q82934336', 'http://www.wikidata.org/entity/Q82994796', 'http://www.wikidata.org/entity/Q83034242', 'http://www.wikidata.org/entity/Q83095851', 'http://www.wikidata.org/entity/Q96375411', 'http://www.wikidata.org/entity/Q96383119', 'http://www.wikidata.org/entity/Q96407548', 'http://www.wikidata.org/entity/Q104180067', 'http://www.wikidata.org/entity/Q104195886', 'http://www.wikidata.org/entity/Q104250516', 'http://www.wikidata.org/entity/Q104252751', 'http://www.wikidata.org/entity/Q104252752', 'http://www.wikidata.org/entity/Q104252759', 'http://www.wikidata.org/entity/Q104252760', 'http://www.wikidata.org/entity/Q104253156', 'http://www.wikidata.org/entity/Q104375565', 'http://www.wikidata.org/entity/Q104375567', 'http://www.wikidata.org/entity/Q104375570', 'http://www.wikidata.org/entity/Q104386343', 'http://www.wikidata.org/entity/Q104386351', 'http://www.wikidata.org/entity/Q104386353', 'http://www.wikidata.org/entity/Q104396823', 'http://www.wikidata.org/entity/Q104397765', 'http://www.wikidata.org/entity/Q104397941', 'http://www.wikidata.org/entity/Q104401545', 'http://www.wikidata.org/entity/Q104401547', 'http://www.wikidata.org/entity/Q104403305', 'http://www.wikidata.org/entity/Q104403607', 'http://www.wikidata.org/entity/Q104667356', 'http://www.wikidata.org/entity/Q104888205', 'http://www.wikidata.org/entity/Q104888209', 'http://www.wikidata.org/entity/Q104888247', 'http://www.wikidata.org/entity/Q104888317', 'http://www.wikidata.org/entity/Q104888454', 'http://www.wikidata.org/entity/Q104888617', 'http://www.wikidata.org/entity/Q104888754', 'http://www.wikidata.org/entity/Q104888922', 'http://www.wikidata.org/entity/Q104888962', 'http://www.wikidata.org/entity/Q104888963', 'http://www.wikidata.org/entity/Q104888971', 'http://www.wikidata.org/entity/Q104912138', 'http://www.wikidata.org/entity/Q104914141', 'http://www.wikidata.org/entity/Q104917263', 'http://www.wikidata.org/entity/Q104919188', 'http://www.wikidata.org/entity/Q104919755', 'http://www.wikidata.org/entity/Q104919756', 'http://www.wikidata.org/entity/Q104920419', 'http://www.wikidata.org/entity/Q104964769', 'http://www.wikidata.org/entity/Q104974377', 'http://www.wikidata.org/entity/Q104990994', 'http://www.wikidata.org/entity/Q104994708', 'http://www.wikidata.org/entity/Q104999390', 'http://www.wikidata.org/entity/Q105011266', 'http://www.wikidata.org/entity/Q105033042', 'http://www.wikidata.org/entity/Q105091167', 'http://www.wikidata.org/entity/Q105102673', 'http://www.wikidata.org/entity/Q105145592', 'http://www.wikidata.org/entity/Q105150008', 'http://www.wikidata.org/entity/Q105150010', 'http://www.wikidata.org/entity/Q105160181', 'http://www.wikidata.org/entity/Q105160182', 'http://www.wikidata.org/entity/Q105161331', 'http://www.wikidata.org/entity/Q105161332', 'http://www.wikidata.org/entity/Q105167429', 'http://www.wikidata.org/entity/Q105167451', 'http://www.wikidata.org/entity/Q105167883', 'http://www.wikidata.org/entity/Q105172655', 'http://www.wikidata.org/entity/Q105178696', 'http://www.wikidata.org/entity/Q105182647', 'http://www.wikidata.org/entity/Q105188206', 'http://www.wikidata.org/entity/Q105203419', 'http://www.wikidata.org/entity/Q105206894', 'http://www.wikidata.org/entity/Q105206896', 'http://www.wikidata.org/entity/Q105207575', 'http://www.wikidata.org/entity/Q105217182', 'http://www.wikidata.org/entity/Q105219921', 'http://www.wikidata.org/entity/Q105223737', 'http://www.wikidata.org/entity/Q105237527', 'http://www.wikidata.org/entity/Q105239730', 'http://www.wikidata.org/entity/Q105270360', 'http://www.wikidata.org/entity/Q105270361', 'http://www.wikidata.org/entity/Q105285475', 'http://www.wikidata.org/entity/Q105285577', 'http://www.wikidata.org/entity/Q105285732', 'http://www.wikidata.org/entity/Q105287392', 'http://www.wikidata.org/entity/Q105290505', 'http://www.wikidata.org/entity/Q105292300', 'http://www.wikidata.org/entity/Q105298708', 'http://www.wikidata.org/entity/Q105303928', 'http://www.wikidata.org/entity/Q105304362', 'http://www.wikidata.org/entity/Q105327884', 'http://www.wikidata.org/entity/Q105341975', 'http://www.wikidata.org/entity/Q105342125', 'http://www.wikidata.org/entity/Q105344277', 'http://www.wikidata.org/entity/Q105345749', 'http://www.wikidata.org/entity/Q105345750', 'http://www.wikidata.org/entity/Q105372303', 'http://www.wikidata.org/entity/Q105372306', 'http://www.wikidata.org/entity/Q105382843', 'http://www.wikidata.org/entity/Q106045486', 'http://www.wikidata.org/entity/Q110077791', 'http://www.wikidata.org/entity/Q110079117', 'http://www.wikidata.org/entity/Q110079252', 'http://www.wikidata.org/entity/Q110080059', 'http://www.wikidata.org/entity/Q110184970', 'http://www.wikidata.org/entity/Q110193685', 'http://www.wikidata.org/entity/Q110193686', 'http://www.wikidata.org/entity/Q110193687', 'http://www.wikidata.org/entity/Q111734428', 'http://www.wikidata.org/entity/Q115950952', 'http://www.wikidata.org/entity/Q115950953', 'http://www.wikidata.org/entity/Q117835250', 'http://www.wikidata.org/entity/Q117835251', 'http://www.wikidata.org/entity/Q117835274', 'http://www.wikidata.org/entity/Q124634283', 'http://www.wikidata.org/entity/Q124634296', 'http://www.wikidata.org/entity/Q124634308', 'http://www.wikidata.org/entity/Q124634314', 'http://www.wikidata.org/entity/Q409439', 'http://www.wikidata.org/entity/Q27105225', 'http://www.wikidata.org/entity/Q27138841', 'http://www.wikidata.org/entity/Q27278686', 'http://www.wikidata.org/entity/Q96407548', 'http://www.wikidata.org/entity/Q104197955', 'http://www.wikidata.org/entity/Q104249853', 'http://www.wikidata.org/entity/Q104252759', 'http://www.wikidata.org/entity/Q104253041', 'http://www.wikidata.org/entity/Q104253156', 'http://www.wikidata.org/entity/Q104375570', 'http://www.wikidata.org/entity/Q104386343', 'http://www.wikidata.org/entity/Q104386353', 'http://www.wikidata.org/entity/Q104394891', 'http://www.wikidata.org/entity/Q104397765', 'http://www.wikidata.org/entity/Q104403496', 'http://www.wikidata.org/entity/Q104403498', 'http://www.wikidata.org/entity/Q104403500', 'http://www.wikidata.org/entity/Q104888247', 'http://www.wikidata.org/entity/Q104994708', 'http://www.wikidata.org/entity/Q104999390', 'http://www.wikidata.org/entity/Q105000691', 'http://www.wikidata.org/entity/Q105105026', 'http://www.wikidata.org/entity/Q105110682', 'http://www.wikidata.org/entity/Q105150008', 'http://www.wikidata.org/entity/Q105150009', 'http://www.wikidata.org/entity/Q105239730', 'http://www.wikidata.org/entity/Q105267647', 'http://www.wikidata.org/entity/Q105267652', 'http://www.wikidata.org/entity/Q105283353', 'http://www.wikidata.org/entity/Q105288267', 'http://www.wikidata.org/entity/Q105340233', 'http://www.wikidata.org/entity/Q105343283', 'http://www.wikidata.org/entity/Q5015902', 'http://www.wikidata.org/entity/Q5172181', 'http://www.wikidata.org/entity/Q104180067', 'http://www.wikidata.org/entity/Q104375567', 'http://www.wikidata.org/entity/Q105265131', 'http://www.wikidata.org/entity/Q106045486', 'http://www.wikidata.org/entity/Q110080095', 'http://www.wikidata.org/entity/Q117835251', 'http://www.wikidata.org/entity/Q124634348', 'http://www.wikidata.org/entity/Q5172181', 'http://www.wikidata.org/entity/Q5984343', 'http://www.wikidata.org/entity/Q15425759', 'http://www.wikidata.org/entity/Q15634128', 'http://www.wikidata.org/entity/Q27105815', 'http://www.wikidata.org/entity/Q27278686', 'http://www.wikidata.org/entity/Q104252346', 'http://www.wikidata.org/entity/Q104252748', 'http://www.wikidata.org/entity/Q104252751', 'http://www.wikidata.org/entity/Q104252759', 'http://www.wikidata.org/entity/Q104394432', 'http://www.wikidata.org/entity/Q104394891', 'http://www.wikidata.org/entity/Q104403497', 'http://www.wikidata.org/entity/Q104403498', 'http://www.wikidata.org/entity/Q104667356', 'http://www.wikidata.org/entity/Q105006665', 'http://www.wikidata.org/entity/Q105280156', 'http://www.wikidata.org/entity/Q105293098', 'http://www.wikidata.org/entity/Q5015902', 'http://www.wikidata.org/entity/Q5172181', 'http://www.wikidata.org/entity/Q27108406', 'http://www.wikidata.org/entity/Q27138840', 'http://www.wikidata.org/entity/Q104167434', 'http://www.wikidata.org/entity/Q104253157', 'http://www.wikidata.org/entity/Q104253159', 'http://www.wikidata.org/entity/Q104888583', 'http://www.wikidata.org/entity/Q105167451', 'http://www.wikidata.org/entity/Q105236140', 'http://www.wikidata.org/entity/Q5015902', 'http://www.wikidata.org/entity/Q5172181', 'http://www.wikidata.org/entity/Q5984343', 'http://www.wikidata.org/entity/Q21099578', 'http://www.wikidata.org/entity/Q82062633', 'http://www.wikidata.org/entity/Q82095348', 'http://www.wikidata.org/entity/Q104252751', 'http://www.wikidata.org/entity/Q104252752', 'http://www.wikidata.org/entity/Q104386351', 'http://www.wikidata.org/entity/Q104403305', 'http://www.wikidata.org/entity/Q104919188', 'http://www.wikidata.org/entity/Q105167451', 'http://www.wikidata.org/entity/Q105206896', 'http://www.wikidata.org/entity/Q110080059', 'http://www.wikidata.org/entity/Q117835251', 'http://www.wikidata.org/entity/Q5015902', 'http://www.wikidata.org/entity/Q5172181', 'http://www.wikidata.org/entity/Q15427938', 'http://www.wikidata.org/entity/Q15634126', 'http://www.wikidata.org/entity/Q21099578', 'http://www.wikidata.org/entity/Q21099582', 'http://www.wikidata.org/entity/Q27105240', 'http://www.wikidata.org/entity/Q27108337', 'http://www.wikidata.org/entity/Q82062633', 'http://www.wikidata.org/entity/Q82995669', 'http://www.wikidata.org/entity/Q83034242', 'http://www.wikidata.org/entity/Q104252010', 'http://www.wikidata.org/entity/Q104252751', 'http://www.wikidata.org/entity/Q104375567', 'http://www.wikidata.org/entity/Q104375570', 'http://www.wikidata.org/entity/Q104386351', 'http://www.wikidata.org/entity/Q104396148', 'http://www.wikidata.org/entity/Q104919188', 'http://www.wikidata.org/entity/Q104999390', 'http://www.wikidata.org/entity/Q105015571', 'http://www.wikidata.org/entity/Q105161021', 'http://www.wikidata.org/entity/Q105196969', 'http://www.wikidata.org/entity/Q105196970', 'http://www.wikidata.org/entity/Q111734416', 'http://www.wikidata.org/entity/Q5172181', 'http://www.wikidata.org/entity/Q104917544', 'http://www.wikidata.org/entity/Q104922335', 'http://www.wikidata.org/entity/Q105301286', 'http://www.wikidata.org/entity/Q5015902', 'http://www.wikidata.org/entity/Q5172181', 'http://www.wikidata.org/entity/Q5984343', 'http://www.wikidata.org/entity/Q15634126', 'http://www.wikidata.org/entity/Q27135222', 'http://www.wikidata.org/entity/Q104252751', 'http://www.wikidata.org/entity/Q104375567', 'http://www.wikidata.org/entity/Q409455', 'http://www.wikidata.org/entity/Q4015903', 'http://www.wikidata.org/entity/Q5015902', 'http://www.wikidata.org/entity/Q5172181', 'http://www.wikidata.org/entity/Q82934336', 'http://www.wikidata.org/entity/Q83112450', 'http://www.wikidata.org/entity/Q96383119', 'http://www.wikidata.org/entity/Q96407548', 'http://www.wikidata.org/entity/Q104250516', 'http://www.wikidata.org/entity/Q104252751', 'http://www.wikidata.org/entity/Q104252760', 'http://www.wikidata.org/entity/Q104386343', 'http://www.wikidata.org/entity/Q104392591', 'http://www.wikidata.org/entity/Q105372645', 'http://www.wikidata.org/entity/Q105379340', 'http://www.wikidata.org/entity/Q110202890', 'http://www.wikidata.org/entity/Q117835274', 'http://www.wikidata.org/entity/Q124634175', 'http://www.wikidata.org/entity/Q5015902', 'http://www.wikidata.org/entity/Q15410234', 'http://www.wikidata.org/entity/Q27105225', 'http://www.wikidata.org/entity/Q409455', 'http://www.wikidata.org/entity/Q5015902', 'http://www.wikidata.org/entity/Q5172181', 'http://www.wikidata.org/entity/Q82095348', 'http://www.wikidata.org/entity/Q104375567', 'http://www.wikidata.org/entity/Q104386351', 'http://www.wikidata.org/entity/Q105000101', 'http://www.wikidata.org/entity/Q105167451', 'http://www.wikidata.org/entity/Q105203419', 'http://www.wikidata.org/entity/Q106045486', 'http://www.wikidata.org/entity/Q106045550', 'http://www.wikidata.org/entity/Q22911782', 'http://www.wikidata.org/entity/Q104994708', 'http://www.wikidata.org/entity/Q105239730', 'http://www.wikidata.org/entity/Q117835274', 'http://www.wikidata.org/entity/Q117835451', 'http://www.wikidata.org/entity/Q2501558', 'http://www.wikidata.org/entity/Q15079655', 'http://www.wikidata.org/entity/Q27104976', 'http://www.wikidata.org/entity/Q27105225', 'http://www.wikidata.org/entity/Q27108621', 'http://www.wikidata.org/entity/Q83108410', 'http://www.wikidata.org/entity/Q104253156', 'http://www.wikidata.org/entity/Q104386343', 'http://www.wikidata.org/entity/Q105006399', 'http://www.wikidata.org/entity/Q105265131', 'http://www.wikidata.org/entity/Q409455', 'http://www.wikidata.org/entity/Q4015903', 'http://www.wikidata.org/entity/Q5015902', 'http://www.wikidata.org/entity/Q5172181', 'http://www.wikidata.org/entity/Q5984343', 'http://www.wikidata.org/entity/Q21099578', 'http://www.wikidata.org/entity/Q27105225', 'http://www.wikidata.org/entity/Q27105708', 'http://www.wikidata.org/entity/Q27107223', 'http://www.wikidata.org/entity/Q82062633', 'http://www.wikidata.org/entity/Q104180067', 'http://www.wikidata.org/entity/Q104250516', 'http://www.wikidata.org/entity/Q104252751', 'http://www.wikidata.org/entity/Q104252752', 'http://www.wikidata.org/entity/Q104252760', 'http://www.wikidata.org/entity/Q104375567', 'http://www.wikidata.org/entity/Q104386343', 'http://www.wikidata.org/entity/Q104403305', 'http://www.wikidata.org/entity/Q104888489', 'http://www.wikidata.org/entity/Q104888922', 'http://www.wikidata.org/entity/Q104919755', 'http://www.wikidata.org/entity/Q104919757', 'http://www.wikidata.org/entity/Q104967669', 'http://www.wikidata.org/entity/Q104967672', 'http://www.wikidata.org/entity/Q105033042', 'http://www.wikidata.org/entity/Q105137449', 'http://www.wikidata.org/entity/Q105150009', 'http://www.wikidata.org/entity/Q105167451', 'http://www.wikidata.org/entity/Q105204135', 'http://www.wikidata.org/entity/Q105223755', 'http://www.wikidata.org/entity/Q105233583', 'http://www.wikidata.org/entity/Q105255636', 'http://www.wikidata.org/entity/Q106045518', 'http://www.wikidata.org/entity/Q110077741', 'http://www.wikidata.org/entity/Q117835251', 'http://www.wikidata.org/entity/Q419964', 'http://www.wikidata.org/entity/Q5015902', 'http://www.wikidata.org/entity/Q5172181', 'http://www.wikidata.org/entity/Q5984343', 'http://www.wikidata.org/entity/Q82070787', 'http://www.wikidata.org/entity/Q104250516', 'http://www.wikidata.org/entity/Q104252751', 'http://www.wikidata.org/entity/Q104375565', 'http://www.wikidata.org/entity/Q104386353', 'http://www.wikidata.org/entity/Q105239730', 'http://www.wikidata.org/entity/Q105327884', 'http://www.wikidata.org/entity/Q105386857', 'http://www.wikidata.org/entity/Q409455', 'http://www.wikidata.org/entity/Q412226', 'http://www.wikidata.org/entity/Q5015902', 'http://www.wikidata.org/entity/Q5172181', 'http://www.wikidata.org/entity/Q5984343', 'http://www.wikidata.org/entity/Q15425759', 'http://www.wikidata.org/entity/Q15634126', 'http://www.wikidata.org/entity/Q15634128', 'http://www.wikidata.org/entity/Q27105225', 'http://www.wikidata.org/entity/Q27105810', 'http://www.wikidata.org/entity/Q27134637', 'http://www.wikidata.org/entity/Q27134638', 'http://www.wikidata.org/entity/Q27134640', 'http://www.wikidata.org/entity/Q27134641', 'http://www.wikidata.org/entity/Q27134644', 'http://www.wikidata.org/entity/Q27134645', 'http://www.wikidata.org/entity/Q27293767', 'http://www.wikidata.org/entity/Q82934336', 'http://www.wikidata.org/entity/Q83112450', 'http://www.wikidata.org/entity/Q96407548', 'http://www.wikidata.org/entity/Q104252751', 'http://www.wikidata.org/entity/Q104252759', 'http://www.wikidata.org/entity/Q104253041', 'http://www.wikidata.org/entity/Q104375565', 'http://www.wikidata.org/entity/Q104375567', 'http://www.wikidata.org/entity/Q104375570', 'http://www.wikidata.org/entity/Q104386343', 'http://www.wikidata.org/entity/Q104392591', 'http://www.wikidata.org/entity/Q104393357', 'http://www.wikidata.org/entity/Q104396826', 'http://www.wikidata.org/entity/Q104397765', 'http://www.wikidata.org/entity/Q104397766', 'http://www.wikidata.org/entity/Q104397941', 'http://www.wikidata.org/entity/Q104400424', 'http://www.wikidata.org/entity/Q104403497', 'http://www.wikidata.org/entity/Q104403615', 'http://www.wikidata.org/entity/Q104667178', 'http://www.wikidata.org/entity/Q104910660', 'http://www.wikidata.org/entity/Q104913723', 'http://www.wikidata.org/entity/Q104913724', 'http://www.wikidata.org/entity/Q104937684', 'http://www.wikidata.org/entity/Q104938010', 'http://www.wikidata.org/entity/Q104955712', 'http://www.wikidata.org/entity/Q104968139', 'http://www.wikidata.org/entity/Q104968448', 'http://www.wikidata.org/entity/Q104980514', 'http://www.wikidata.org/entity/Q104985527', 'http://www.wikidata.org/entity/Q104987727', 'http://www.wikidata.org/entity/Q104994153', 'http://www.wikidata.org/entity/Q104994154', 'http://www.wikidata.org/entity/Q104994523', 'http://www.wikidata.org/entity/Q104994708', 'http://www.wikidata.org/entity/Q104999390', 'http://www.wikidata.org/entity/Q105015531', 'http://www.wikidata.org/entity/Q105015533', 'http://www.wikidata.org/entity/Q105033042', 'http://www.wikidata.org/entity/Q105035077', 'http://www.wikidata.org/entity/Q105035078', 'http://www.wikidata.org/entity/Q105115592', 'http://www.wikidata.org/entity/Q105117367', 'http://www.wikidata.org/entity/Q105117369', 'http://www.wikidata.org/entity/Q105125971', 'http://www.wikidata.org/entity/Q105129306', 'http://www.wikidata.org/entity/Q105129308', 'http://www.wikidata.org/entity/Q105144399', 'http://www.wikidata.org/entity/Q105144433', 'http://www.wikidata.org/entity/Q105147178', 'http://www.wikidata.org/entity/Q105147179', 'http://www.wikidata.org/entity/Q105147916', 'http://www.wikidata.org/entity/Q105148551', 'http://www.wikidata.org/entity/Q105150507', 'http://www.wikidata.org/entity/Q105154851', 'http://www.wikidata.org/entity/Q105154852', 'http://www.wikidata.org/entity/Q105161247', 'http://www.wikidata.org/entity/Q105161250', 'http://www.wikidata.org/entity/Q105171582', 'http://www.wikidata.org/entity/Q105205356', 'http://www.wikidata.org/entity/Q105205358', 'http://www.wikidata.org/entity/Q105208324', 'http://www.wikidata.org/entity/Q105208326', 'http://www.wikidata.org/entity/Q105213606', 'http://www.wikidata.org/entity/Q105215317', 'http://www.wikidata.org/entity/Q105215318', 'http://www.wikidata.org/entity/Q105223421', 'http://www.wikidata.org/entity/Q105234034', 'http://www.wikidata.org/entity/Q105237303', 'http://www.wikidata.org/entity/Q105242662', 'http://www.wikidata.org/entity/Q105244343', 'http://www.wikidata.org/entity/Q105265459', 'http://www.wikidata.org/entity/Q105280156', 'http://www.wikidata.org/entity/Q105283887', 'http://www.wikidata.org/entity/Q105289836', 'http://www.wikidata.org/entity/Q105289837', 'http://www.wikidata.org/entity/Q105292459', 'http://www.wikidata.org/entity/Q105301303', 'http://www.wikidata.org/entity/Q105304261', 'http://www.wikidata.org/entity/Q105327884', 'http://www.wikidata.org/entity/Q105346611', 'http://www.wikidata.org/entity/Q105351794', 'http://www.wikidata.org/entity/Q105372303', 'http://www.wikidata.org/entity/Q105372819', 'http://www.wikidata.org/entity/Q105372821', 'http://www.wikidata.org/entity/Q105385237', 'http://www.wikidata.org/entity/Q106045518', 'http://www.wikidata.org/entity/Q110184970', 'http://www.wikidata.org/entity/Q110185139', 'http://www.wikidata.org/entity/Q110187668', 'http://www.wikidata.org/entity/Q110188072', 'http://www.wikidata.org/entity/Q111734433', 'http://www.wikidata.org/entity/Q115970122', 'http://www.wikidata.org/entity/Q115970324', 'http://www.wikidata.org/entity/Q117835124', 'http://www.wikidata.org/entity/Q117835236', 'http://www.wikidata.org/entity/Q117835237', 'http://www.wikidata.org/entity/Q117835238', 'http://www.wikidata.org/entity/Q117835239', 'http://www.wikidata.org/entity/Q117835240', 'http://www.wikidata.org/entity/Q117835241', 'http://www.wikidata.org/entity/Q117835244', 'http://www.wikidata.org/entity/Q412226', 'http://www.wikidata.org/entity/Q425004', 'http://www.wikidata.org/entity/Q2501558', 'http://www.wikidata.org/entity/Q2756479', 'http://www.wikidata.org/entity/Q4015903', 'http://www.wikidata.org/entity/Q5015902', 'http://www.wikidata.org/entity/Q5172181', 'http://www.wikidata.org/entity/Q5984343', 'http://www.wikidata.org/entity/Q7673043', 'http://www.wikidata.org/entity/Q15410234', 'http://www.wikidata.org/entity/Q15410890', 'http://www.wikidata.org/entity/Q15410924', 'http://www.wikidata.org/entity/Q15425302', 'http://www.wikidata.org/entity/Q15634126', 'http://www.wikidata.org/entity/Q21099578', 'http://www.wikidata.org/entity/Q22911782', 'http://www.wikidata.org/entity/Q25212241', 'http://www.wikidata.org/entity/Q27104976', 'http://www.wikidata.org/entity/Q27108380', 'http://www.wikidata.org/entity/Q27108621', 'http://www.wikidata.org/entity/Q82095348', 'http://www.wikidata.org/entity/Q82995669', 'http://www.wikidata.org/entity/Q83095851', 'http://www.wikidata.org/entity/Q83112450', 'http://www.wikidata.org/entity/Q96383119', 'http://www.wikidata.org/entity/Q104180067', 'http://www.wikidata.org/entity/Q104195886', 'http://www.wikidata.org/entity/Q104202380', 'http://www.wikidata.org/entity/Q104250908', 'http://www.wikidata.org/entity/Q104252751', 'http://www.wikidata.org/entity/Q104252752', 'http://www.wikidata.org/entity/Q104252759', 'http://www.wikidata.org/entity/Q104375565', 'http://www.wikidata.org/entity/Q104375567', 'http://www.wikidata.org/entity/Q104375569', 'http://www.wikidata.org/entity/Q104375570', 'http://www.wikidata.org/entity/Q104394432', 'http://www.wikidata.org/entity/Q104403497', 'http://www.wikidata.org/entity/Q104667254', 'http://www.wikidata.org/entity/Q104917544', 'http://www.wikidata.org/entity/Q104922335', 'http://www.wikidata.org/entity/Q104964769', 'http://www.wikidata.org/entity/Q104970072', 'http://www.wikidata.org/entity/Q104999390', 'http://www.wikidata.org/entity/Q105121578', 'http://www.wikidata.org/entity/Q105167451', 'http://www.wikidata.org/entity/Q105171582', 'http://www.wikidata.org/entity/Q105190002', 'http://www.wikidata.org/entity/Q105203419', 'http://www.wikidata.org/entity/Q105280153', 'http://www.wikidata.org/entity/Q105280156', 'http://www.wikidata.org/entity/Q105285732', 'http://www.wikidata.org/entity/Q105285735', 'http://www.wikidata.org/entity/Q105285737', 'http://www.wikidata.org/entity/Q105301286', 'http://www.wikidata.org/entity/Q105375349', 'http://www.wikidata.org/entity/Q110184970', 'http://www.wikidata.org/entity/Q110184971', 'http://www.wikidata.org/entity/Q111734401', 'http://www.wikidata.org/entity/Q117835251', 'http://www.wikidata.org/entity/Q117835451', 'http://www.wikidata.org/entity/Q409455', 'http://www.wikidata.org/entity/Q5172181', 'http://www.wikidata.org/entity/Q5984343', 'http://www.wikidata.org/entity/Q15410924', 'http://www.wikidata.org/entity/Q21099578', 'http://www.wikidata.org/entity/Q22911782', 'http://www.wikidata.org/entity/Q27106694', 'http://www.wikidata.org/entity/Q27278686', 'http://www.wikidata.org/entity/Q72461343', 'http://www.wikidata.org/entity/Q72500673', 'http://www.wikidata.org/entity/Q82062633', 'http://www.wikidata.org/entity/Q82095348', 'http://www.wikidata.org/entity/Q96383119', 'http://www.wikidata.org/entity/Q104252751', 'http://www.wikidata.org/entity/Q104375565', 'http://www.wikidata.org/entity/Q104403498', 'http://www.wikidata.org/entity/Q104989208', 'http://www.wikidata.org/entity/Q104999390', 'http://www.wikidata.org/entity/Q105033042', 'http://www.wikidata.org/entity/Q105113971', 'http://www.wikidata.org/entity/Q105181081', 'http://www.wikidata.org/entity/Q105206894', 'http://www.wikidata.org/entity/Q105206896', 'http://www.wikidata.org/entity/Q105217784', 'http://www.wikidata.org/entity/Q105233563', 'http://www.wikidata.org/entity/Q105311736', 'http://www.wikidata.org/entity/Q106045446', 'http://www.wikidata.org/entity/Q106045486', 'http://www.wikidata.org/entity/Q110078332', 'http://www.wikidata.org/entity/Q110079583', 'http://www.wikidata.org/entity/Q110080059', 'http://www.wikidata.org/entity/Q110080095', 'http://www.wikidata.org/entity/Q110080499', 'http://www.wikidata.org/entity/Q115950964', 'http://www.wikidata.org/entity/Q124634353', 'http://www.wikidata.org/entity/Q125699745', 'http://www.wikidata.org/entity/Q5015902', 'http://www.wikidata.org/entity/Q5172181', 'http://www.wikidata.org/entity/Q82070787', 'http://www.wikidata.org/entity/Q117835245', 'http://www.wikidata.org/entity/Q117835248', 'http://www.wikidata.org/entity/Q117835249', 'http://www.wikidata.org/entity/Q117835256', 'http://www.wikidata.org/entity/Q117835269', 'http://www.wikidata.org/entity/Q117835274', 'http://www.wikidata.org/entity/Q117835345', 'http://www.wikidata.org/entity/Q117835380', 'http://www.wikidata.org/entity/Q117835451', 'http://www.wikidata.org/entity/Q117835453', 'http://www.wikidata.org/entity/Q117835454', 'http://www.wikidata.org/entity/Q117835455', 'http://www.wikidata.org/entity/Q117835457', 'http://www.wikidata.org/entity/Q117835458', 'http://www.wikidata.org/entity/Q117835459', 'http://www.wikidata.org/entity/Q117835466', 'http://www.wikidata.org/entity/Q117835469', 'http://www.wikidata.org/entity/Q117835470', 'http://www.wikidata.org/entity/Q117835471', 'http://www.wikidata.org/entity/Q117835472', 'http://www.wikidata.org/entity/Q124634281', 'http://www.wikidata.org/entity/Q124634291', 'http://www.wikidata.org/entity/Q124634292', 'http://www.wikidata.org/entity/Q124634293', 'http://www.wikidata.org/entity/Q124634294', 'http://www.wikidata.org/entity/Q124634295', 'http://www.wikidata.org/entity/Q124634313', 'http://www.wikidata.org/entity/Q124634319', 'http://www.wikidata.org/entity/Q124634320', 'http://www.wikidata.org/entity/Q124634321', 'http://www.wikidata.org/entity/Q124634322', 'http://www.wikidata.org/entity/Q124634335', 'http://www.wikidata.org/entity/Q124634344', 'http://www.wikidata.org/entity/Q124634373', 'http://www.wikidata.org/entity/Q5015902', 'http://www.wikidata.org/entity/Q5172181', 'http://www.wikidata.org/entity/Q15634126', 'http://www.wikidata.org/entity/Q27105225', 'http://www.wikidata.org/entity/Q27138847', 'http://www.wikidata.org/entity/Q27278686', 'http://www.wikidata.org/entity/Q82897267', 'http://www.wikidata.org/entity/Q104252759', 'http://www.wikidata.org/entity/Q104375567', 'http://www.wikidata.org/entity/Q104386343', 'http://www.wikidata.org/entity/Q104386351', 'http://www.wikidata.org/entity/Q104394891', 'http://www.wikidata.org/entity/Q104396820', 'http://www.wikidata.org/entity/Q104403304', 'http://www.wikidata.org/entity/Q104403612', 'http://www.wikidata.org/entity/Q104403615', 'http://www.wikidata.org/entity/Q105163629', 'http://www.wikidata.org/entity/Q105167451', 'http://www.wikidata.org/entity/Q105195450', 'http://www.wikidata.org/entity/Q105298708', 'http://www.wikidata.org/entity/Q105352237', 'http://www.wikidata.org/entity/Q105352238', 'http://www.wikidata.org/entity/Q106045530', 'http://www.wikidata.org/entity/Q111734433', 'http://www.wikidata.org/entity/Q117835124', 'http://www.wikidata.org/entity/Q117835251', 'http://www.wikidata.org/entity/Q117835274', 'http://www.wikidata.org/entity/Q5172181', 'http://www.wikidata.org/entity/Q104252752', 'http://www.wikidata.org/entity/Q117835251', 'http://www.wikidata.org/entity/Q416225', 'http://www.wikidata.org/entity/Q15410269', 'http://www.wikidata.org/entity/Q27138838', 'http://www.wikidata.org/entity/Q105247215', 'http://www.wikidata.org/entity/Q5015902', 'http://www.wikidata.org/entity/Q5172181', 'http://www.wikidata.org/entity/Q5984343', 'http://www.wikidata.org/entity/Q27105815', 'http://www.wikidata.org/entity/Q82070787', 'http://www.wikidata.org/entity/Q82095348', 'http://www.wikidata.org/entity/Q96383119', 'http://www.wikidata.org/entity/Q104252751', 'http://www.wikidata.org/entity/Q104919756', 'http://www.wikidata.org/entity/Q105215603', 'http://www.wikidata.org/entity/Q105386857', 'http://www.wikidata.org/entity/Q110078019', 'http://www.wikidata.org/entity/Q110078487', 'http://www.wikidata.org/entity/Q409455', 'http://www.wikidata.org/entity/Q5015902', 'http://www.wikidata.org/entity/Q15425302', 'http://www.wikidata.org/entity/Q22911782', 'http://www.wikidata.org/entity/Q82070787', 'http://www.wikidata.org/entity/Q82951561', 'http://www.wikidata.org/entity/Q104250516', 'http://www.wikidata.org/entity/Q104386343', 'http://www.wikidata.org/entity/Q104392591', 'http://www.wikidata.org/entity/Q104919756', 'http://www.wikidata.org/entity/Q105150009', 'http://www.wikidata.org/entity/Q105167451', 'http://www.wikidata.org/entity/Q105234675', 'http://www.wikidata.org/entity/Q110185745', 'http://www.wikidata.org/entity/Q117835231', 'http://www.wikidata.org/entity/Q5015902', 'http://www.wikidata.org/entity/Q5172181', 'http://www.wikidata.org/entity/Q21099578', 'http://www.wikidata.org/entity/Q409366', 'http://www.wikidata.org/entity/Q104386351', 'http://www.wikidata.org/entity/Q104919756', 'http://www.wikidata.org/entity/Q105167451', 'http://www.wikidata.org/entity/Q117835251', 'http://www.wikidata.org/entity/Q124634277', 'http://www.wikidata.org/entity/Q124634278', 'http://www.wikidata.org/entity/Q121802', 'http://www.wikidata.org/entity/Q425004', 'http://www.wikidata.org/entity/Q2756479', 'http://www.wikidata.org/entity/Q5015902', 'http://www.wikidata.org/entity/Q5172181', 'http://www.wikidata.org/entity/Q15410234', 'http://www.wikidata.org/entity/Q15410924', 'http://www.wikidata.org/entity/Q22911782', 'http://www.wikidata.org/entity/Q27104976', 'http://www.wikidata.org/entity/Q27105225', 'http://www.wikidata.org/entity/Q27106694', 'http://www.wikidata.org/entity/Q27107223', 'http://www.wikidata.org/entity/Q27138840', 'http://www.wikidata.org/entity/Q27138841', 'http://www.wikidata.org/entity/Q27138847', 'http://www.wikidata.org/entity/Q27278686', 'http://www.wikidata.org/entity/Q59354331', 'http://www.wikidata.org/entity/Q72461343', 'http://www.wikidata.org/entity/Q72500673', 'http://www.wikidata.org/entity/Q82062633', 'http://www.wikidata.org/entity/Q82095113', 'http://www.wikidata.org/entity/Q104250516', 'http://www.wikidata.org/entity/Q104252759', 'http://www.wikidata.org/entity/Q104252760', 'http://www.wikidata.org/entity/Q104253041', 'http://www.wikidata.org/entity/Q104253156', 'http://www.wikidata.org/entity/Q104375565', 'http://www.wikidata.org/entity/Q104375570', 'http://www.wikidata.org/entity/Q104386343', 'http://www.wikidata.org/entity/Q104394432', 'http://www.wikidata.org/entity/Q104403497', 'http://www.wikidata.org/entity/Q104403498', 'http://www.wikidata.org/entity/Q104667356', 'http://www.wikidata.org/entity/Q104888583', 'http://www.wikidata.org/entity/Q104989208', 'http://www.wikidata.org/entity/Q104999390', 'http://www.wikidata.org/entity/Q105113971', 'http://www.wikidata.org/entity/Q105133343', 'http://www.wikidata.org/entity/Q105150009', 'http://www.wikidata.org/entity/Q105167451', 'http://www.wikidata.org/entity/Q105167883', 'http://www.wikidata.org/entity/Q105173778', 'http://www.wikidata.org/entity/Q105181073', 'http://www.wikidata.org/entity/Q105181081', 'http://www.wikidata.org/entity/Q105216154', 'http://www.wikidata.org/entity/Q105233561', 'http://www.wikidata.org/entity/Q105233563', 'http://www.wikidata.org/entity/Q105236140', 'http://www.wikidata.org/entity/Q105239730', 'http://www.wikidata.org/entity/Q105281338', 'http://www.wikidata.org/entity/Q105298706', 'http://www.wikidata.org/entity/Q105298707', 'http://www.wikidata.org/entity/Q105298708', 'http://www.wikidata.org/entity/Q105298746', 'http://www.wikidata.org/entity/Q105298750', 'http://www.wikidata.org/entity/Q106045486', 'http://www.wikidata.org/entity/Q106045530', 'http://www.wikidata.org/entity/Q110077295', 'http://www.wikidata.org/entity/Q110080095', 'http://www.wikidata.org/entity/Q110080499', 'http://www.wikidata.org/entity/Q117835251', 'http://www.wikidata.org/entity/Q117835380', 'http://www.wikidata.org/entity/Q117835451', 'http://www.wikidata.org/entity/Q124634202', 'http://www.wikidata.org/entity/Q124634203', 'http://www.wikidata.org/entity/Q124634204', 'http://www.wikidata.org/entity/Q124634205', 'http://www.wikidata.org/entity/Q124634207', 'http://www.wikidata.org/entity/Q124634209', 'http://www.wikidata.org/entity/Q124634210', 'http://www.wikidata.org/entity/Q124634211', 'http://www.wikidata.org/entity/Q124634212', 'http://www.wikidata.org/entity/Q125699745', 'http://www.wikidata.org/entity/Q407426', 'http://www.wikidata.org/entity/Q409455', 'http://www.wikidata.org/entity/Q4015903', 'http://www.wikidata.org/entity/Q5015902', 'http://www.wikidata.org/entity/Q5172181', 'http://www.wikidata.org/entity/Q5984343', 'http://www.wikidata.org/entity/Q7673043', 'http://www.wikidata.org/entity/Q15079655', 'http://www.wikidata.org/entity/Q15634126', 'http://www.wikidata.org/entity/Q72500673', 'http://www.wikidata.org/entity/Q82934336', 'http://www.wikidata.org/entity/Q82952711', 'http://www.wikidata.org/entity/Q83112450', 'http://www.wikidata.org/entity/Q96383119', 'http://www.wikidata.org/entity/Q96407548', 'http://www.wikidata.org/entity/Q104180067', 'http://www.wikidata.org/entity/Q104250516', 'http://www.wikidata.org/entity/Q104252751', 'http://www.wikidata.org/entity/Q104252760', 'http://www.wikidata.org/entity/Q104375567', 'http://www.wikidata.org/entity/Q104375570', 'http://www.wikidata.org/entity/Q409455', 'http://www.wikidata.org/entity/Q4015903', 'http://www.wikidata.org/entity/Q5015902', 'http://www.wikidata.org/entity/Q5172181', 'http://www.wikidata.org/entity/Q15410234', 'http://www.wikidata.org/entity/Q15425259', 'http://www.wikidata.org/entity/Q15425302', 'http://www.wikidata.org/entity/Q22911782', 'http://www.wikidata.org/entity/Q27105783', 'http://www.wikidata.org/entity/Q27138840', 'http://www.wikidata.org/entity/Q82070787', 'http://www.wikidata.org/entity/Q104252748', 'http://www.wikidata.org/entity/Q104252751', 'http://www.wikidata.org/entity/Q104252760', 'http://www.wikidata.org/entity/Q104403305', 'http://www.wikidata.org/entity/Q105116720', 'http://www.wikidata.org/entity/Q105167451', 'http://www.wikidata.org/entity/Q105215603', 'http://www.wikidata.org/entity/Q105239730', 'http://www.wikidata.org/entity/Q105386857', 'http://www.wikidata.org/entity/Q412226', 'http://www.wikidata.org/entity/Q5172181', 'http://www.wikidata.org/entity/Q15410234', 'http://www.wikidata.org/entity/Q15425302', 'http://www.wikidata.org/entity/Q22911782', 'http://www.wikidata.org/entity/Q25212241', 'http://www.wikidata.org/entity/Q105280156', 'http://www.wikidata.org/entity/Q4015903', 'http://www.wikidata.org/entity/Q5015902', 'http://www.wikidata.org/entity/Q5172181', 'http://www.wikidata.org/entity/Q22911782', 'http://www.wikidata.org/entity/Q27278686', 'http://www.wikidata.org/entity/Q104252748', 'http://www.wikidata.org/entity/Q105280156', 'http://www.wikidata.org/entity/Q106045486', 'http://www.wikidata.org/entity/Q110185139', 'http://www.wikidata.org/entity/Q409455', 'http://www.wikidata.org/entity/Q5015902', 'http://www.wikidata.org/entity/Q5172181', 'http://www.wikidata.org/entity/Q15425302', 'http://www.wikidata.org/entity/Q22911782', 'http://www.wikidata.org/entity/Q83112450', 'http://www.wikidata.org/entity/Q104252751', 'http://www.wikidata.org/entity/Q110078019', 'http://www.wikidata.org/entity/Q104386343', 'http://www.wikidata.org/entity/Q104386351', 'http://www.wikidata.org/entity/Q104392591', 'http://www.wikidata.org/entity/Q104396823', 'http://www.wikidata.org/entity/Q104397267', 'http://www.wikidata.org/entity/Q104397765', 'http://www.wikidata.org/entity/Q104403496', 'http://www.wikidata.org/entity/Q104403497', 'http://www.wikidata.org/entity/Q104403498', 'http://www.wikidata.org/entity/Q104403500', 'http://www.wikidata.org/entity/Q104967669', 'http://www.wikidata.org/entity/Q104967672', 'http://www.wikidata.org/entity/Q104994705', 'http://www.wikidata.org/entity/Q104994708', 'http://www.wikidata.org/entity/Q104999390', 'http://www.wikidata.org/entity/Q105033042', 'http://www.wikidata.org/entity/Q105135440', 'http://www.wikidata.org/entity/Q105150009', 'http://www.wikidata.org/entity/Q105171582', 'http://www.wikidata.org/entity/Q105233583', 'http://www.wikidata.org/entity/Q105255636', 'http://www.wikidata.org/entity/Q105255638', 'http://www.wikidata.org/entity/Q105386857', 'http://www.wikidata.org/entity/Q106045435', 'http://www.wikidata.org/entity/Q106045486', 'http://www.wikidata.org/entity/Q106045497', 'http://www.wikidata.org/entity/Q106045518', 'http://www.wikidata.org/entity/Q110077741', 'http://www.wikidata.org/entity/Q110077791', 'http://www.wikidata.org/entity/Q110078599', 'http://www.wikidata.org/entity/Q110079252', 'http://www.wikidata.org/entity/Q110080095', 'http://www.wikidata.org/entity/Q117835251', 'http://www.wikidata.org/entity/Q117835274', 'http://www.wikidata.org/entity/Q117835290', 'http://www.wikidata.org/entity/Q117835384', 'http://www.wikidata.org/entity/Q117835451', 'http://www.wikidata.org/entity/Q124634351', 'http://www.wikidata.org/entity/Q125699745', 'http://www.wikidata.org/entity/Q5172181', 'http://www.wikidata.org/entity/Q104396820', 'http://www.wikidata.org/entity/Q104396821', 'http://www.wikidata.org/entity/Q104396822', 'http://www.wikidata.org/entity/Q104396823', 'http://www.wikidata.org/entity/Q104396826', 'http://www.wikidata.org/entity/Q117835251', 'http://www.wikidata.org/entity/Q117835274', 'http://www.wikidata.org/entity/Q5984343', 'http://www.wikidata.org/entity/Q15410924', 'http://www.wikidata.org/entity/Q15410966', 'http://www.wikidata.org/entity/Q27106694', 'http://www.wikidata.org/entity/Q27278686', 'http://www.wikidata.org/entity/Q72500673', 'http://www.wikidata.org/entity/Q82095113', 'http://www.wikidata.org/entity/Q96383119', 'http://www.wikidata.org/entity/Q104252752', 'http://www.wikidata.org/entity/Q104403498', 'http://www.wikidata.org/entity/Q104999390', 'http://www.wikidata.org/entity/Q105113971', 'http://www.wikidata.org/entity/Q105140295', 'http://www.wikidata.org/entity/Q105171582', 'http://www.wikidata.org/entity/Q105181073', 'http://www.wikidata.org/entity/Q105239730', 'http://www.wikidata.org/entity/Q105298706', 'http://www.wikidata.org/entity/Q105298707', 'http://www.wikidata.org/entity/Q110080499', 'http://www.wikidata.org/entity/Q125699745', 'http://www.wikidata.org/entity/Q5015902', 'http://www.wikidata.org/entity/Q5172181', 'http://www.wikidata.org/entity/Q5984343', 'http://www.wikidata.org/entity/Q10359556', 'http://www.wikidata.org/entity/Q15425759', 'http://www.wikidata.org/entity/Q21099578', 'http://www.wikidata.org/entity/Q22911782', 'http://www.wikidata.org/entity/Q27107223', 'http://www.wikidata.org/entity/Q27108337', 'http://www.wikidata.org/entity/Q27110226', 'http://www.wikidata.org/entity/Q27134637', 'http://www.wikidata.org/entity/Q27275019', 'http://www.wikidata.org/entity/Q72500673', 'http://www.wikidata.org/entity/Q82054121', 'http://www.wikidata.org/entity/Q82062633', 'http://www.wikidata.org/entity/Q82095348', 'http://www.wikidata.org/entity/Q96383119', 'http://www.wikidata.org/entity/Q96407548', 'http://www.wikidata.org/entity/Q104250516', 'http://www.wikidata.org/entity/Q104252003', 'http://www.wikidata.org/entity/Q104252752', 'http://www.wikidata.org/entity/Q104386343', 'http://www.wikidata.org/entity/Q104386351', 'http://www.wikidata.org/entity/Q104394810', 'http://www.wikidata.org/entity/Q104396821', 'http://www.wikidata.org/entity/Q104396822', 'http://www.wikidata.org/entity/Q104396826', 'http://www.wikidata.org/entity/Q104397267', 'http://www.wikidata.org/entity/Q104397765', 'http://www.wikidata.org/entity/Q104398658', 'http://www.wikidata.org/entity/Q104402785', 'http://www.wikidata.org/entity/Q104402786', 'http://www.wikidata.org/entity/Q104888489', 'http://www.wikidata.org/entity/Q104888922', 'http://www.wikidata.org/entity/Q104994708', 'http://www.wikidata.org/entity/Q105000063', 'http://www.wikidata.org/entity/Q105009477', 'http://www.wikidata.org/entity/Q105015571', 'http://www.wikidata.org/entity/Q105150009', 'http://www.wikidata.org/entity/Q105233583', 'http://www.wikidata.org/entity/Q105283886', 'http://www.wikidata.org/entity/Q105298706', 'http://www.wikidata.org/entity/Q105298708', 'http://www.wikidata.org/entity/Q105298750', 'http://www.wikidata.org/entity/Q105347100', 'http://www.wikidata.org/entity/Q106045549', 'http://www.wikidata.org/entity/Q110079306', 'http://www.wikidata.org/entity/Q110079626', 'http://www.wikidata.org/entity/Q117835132', 'http://www.wikidata.org/entity/Q117835274', 'http://www.wikidata.org/entity/Q117835423', 'http://www.wikidata.org/entity/Q117835441', 'http://www.wikidata.org/entity/Q117835451', 'http://www.wikidata.org/entity/Q124634280', 'http://www.wikidata.org/entity/Q125699745', 'http://www.wikidata.org/entity/Q409455', 'http://www.wikidata.org/entity/Q5015902', 'http://www.wikidata.org/entity/Q5172181', 'http://www.wikidata.org/entity/Q5984343', 'http://www.wikidata.org/entity/Q27105708', 'http://www.wikidata.org/entity/Q82070787', 'http://www.wikidata.org/entity/Q82095348', 'http://www.wikidata.org/entity/Q104252751', 'http://www.wikidata.org/entity/Q104252752', 'http://www.wikidata.org/entity/Q104392591', 'http://www.wikidata.org/entity/Q104919756', 'http://www.wikidata.org/entity/Q104920759', 'http://www.wikidata.org/entity/Q105167451', 'http://www.wikidata.org/entity/Q105206896', 'http://www.wikidata.org/entity/Q105233583', 'http://www.wikidata.org/entity/Q105386857', 'http://www.wikidata.org/entity/Q106045452', 'http://www.wikidata.org/entity/Q117835251', 'http://www.wikidata.org/entity/Q4015903', 'http://www.wikidata.org/entity/Q5015902', 'http://www.wikidata.org/entity/Q21099578', 'http://www.wikidata.org/entity/Q96383119', 'http://www.wikidata.org/entity/Q104392591', 'http://www.wikidata.org/entity/Q105167451', 'http://www.wikidata.org/entity/Q105273313', 'http://www.wikidata.org/entity/Q110204269', 'http://www.wikidata.org/entity/Q117835285', 'http://www.wikidata.org/entity/Q409455', 'http://www.wikidata.org/entity/Q5015902', 'http://www.wikidata.org/entity/Q5172181', 'http://www.wikidata.org/entity/Q104252751', 'http://www.wikidata.org/entity/Q104392591', 'http://www.wikidata.org/entity/Q105203411', 'http://www.wikidata.org/entity/Q106045486', 'http://www.wikidata.org/entity/Q110080095', 'http://www.wikidata.org/entity/Q33495', 'http://www.wikidata.org/entity/Q111812', 'http://www.wikidata.org/entity/Q2501558', 'http://www.wikidata.org/entity/Q5015902', 'http://www.wikidata.org/entity/Q5172181', 'http://www.wikidata.org/entity/Q27108621', 'http://www.wikidata.org/entity/Q72461346', 'http://www.wikidata.org/entity/Q104252054', 'http://www.wikidata.org/entity/Q104252759', 'http://www.wikidata.org/entity/Q104375567', 'http://www.wikidata.org/entity/Q104403271', 'http://www.wikidata.org/entity/Q104403272', 'http://www.wikidata.org/entity/Q104403273', 'http://www.wikidata.org/entity/Q105118953', 'http://www.wikidata.org/entity/Q105302971', 'http://www.wikidata.org/entity/Q105302972', 'http://www.wikidata.org/entity/Q5015902', 'http://www.wikidata.org/entity/Q5172181', 'http://www.wikidata.org/entity/Q27105783', 'http://www.wikidata.org/entity/Q27138847', 'http://www.wikidata.org/entity/Q82095348', 'http://www.wikidata.org/entity/Q96383119', 'http://www.wikidata.org/entity/Q104396148', 'http://www.wikidata.org/entity/Q104403615', 'http://www.wikidata.org/entity/Q105167451', 'http://www.wikidata.org/entity/Q105206896', 'http://www.wikidata.org/entity/Q105239730', 'http://www.wikidata.org/entity/Q106045486', 'http://www.wikidata.org/entity/Q110080059', 'http://www.wikidata.org/entity/Q110080095', 'http://www.wikidata.org/entity/Q117835251', 'http://www.wikidata.org/entity/Q105228007', 'http://www.wikidata.org/entity/Q105386856', 'http://www.wikidata.org/entity/Q105386857', 'http://www.wikidata.org/entity/Q110078019', 'http://www.wikidata.org/entity/Q5015902', 'http://www.wikidata.org/entity/Q22911787', 'http://www.wikidata.org/entity/Q104401043', 'http://www.wikidata.org/entity/Q105386857', 'http://www.wikidata.org/entity/Q15427938', 'http://www.wikidata.org/entity/Q104403461', 'http://www.wikidata.org/entity/Q104974041', 'http://www.wikidata.org/entity/Q121802', 'http://www.wikidata.org/entity/Q409366', 'http://www.wikidata.org/entity/Q5015902', 'http://www.wikidata.org/entity/Q5172181', 'http://www.wikidata.org/entity/Q15425302', 'http://www.wikidata.org/entity/Q15634128', 'http://www.wikidata.org/entity/Q27104976', 'http://www.wikidata.org/entity/Q82070787', 'http://www.wikidata.org/entity/Q104250908', 'http://www.wikidata.org/entity/Q104252752', 'http://www.wikidata.org/entity/Q104252759', 'http://www.wikidata.org/entity/Q104252760', 'http://www.wikidata.org/entity/Q104375567', 'http://www.wikidata.org/entity/Q104386343', 'http://www.wikidata.org/entity/Q104386351', 'http://www.wikidata.org/entity/Q104392591', 'http://www.wikidata.org/entity/Q104394705', 'http://www.wikidata.org/entity/Q104888922', 'http://www.wikidata.org/entity/Q104967672', 'http://www.wikidata.org/entity/Q105167451', 'http://www.wikidata.org/entity/Q105255636', 'http://www.wikidata.org/entity/Q105255638', 'http://www.wikidata.org/entity/Q105280156', 'http://www.wikidata.org/entity/Q106045497', 'http://www.wikidata.org/entity/Q110077741', 'http://www.wikidata.org/entity/Q110078599', 'http://www.wikidata.org/entity/Q117835251', 'http://www.wikidata.org/entity/Q117835290', 'http://www.wikidata.org/entity/Q117835384', 'http://www.wikidata.org/entity/Q117835451', 'http://www.wikidata.org/entity/Q409455', 'http://www.wikidata.org/entity/Q2356148', 'http://www.wikidata.org/entity/Q5015902', 'http://www.wikidata.org/entity/Q19596766', 'http://www.wikidata.org/entity/Q27106097', 'http://www.wikidata.org/entity/Q59354331', 'http://www.wikidata.org/entity/Q82933667', 'http://www.wikidata.org/entity/Q82951561', 'http://www.wikidata.org/entity/Q96407548', 'http://www.wikidata.org/entity/Q104252751', 'http://www.wikidata.org/entity/Q104252759', 'http://www.wikidata.org/entity/Q104375567', 'http://www.wikidata.org/entity/Q104386351', 'http://www.wikidata.org/entity/Q104392591', 'http://www.wikidata.org/entity/Q104393357', 'http://www.wikidata.org/entity/Q104394432', 'http://www.wikidata.org/entity/Q104394810', 'http://www.wikidata.org/entity/Q104394814', 'http://www.wikidata.org/entity/Q104396826', 'http://www.wikidata.org/entity/Q104397765', 'http://www.wikidata.org/entity/Q104397766', 'http://www.wikidata.org/entity/Q104397941', 'http://www.wikidata.org/entity/Q104401545', 'http://www.wikidata.org/entity/Q104667048', 'http://www.wikidata.org/entity/Q104667049', 'http://www.wikidata.org/entity/Q104888247', 'http://www.wikidata.org/entity/Q104888293', 'http://www.wikidata.org/entity/Q104888317', 'http://www.wikidata.org/entity/Q104913314', 'http://www.wikidata.org/entity/Q104932449', 'http://www.wikidata.org/entity/Q104944409', 'http://www.wikidata.org/entity/Q104986406', 'http://www.wikidata.org/entity/Q104986407', 'http://www.wikidata.org/entity/Q105033042', 'http://www.wikidata.org/entity/Q105033729', 'http://www.wikidata.org/entity/Q105100575', 'http://www.wikidata.org/entity/Q105121579', 'http://www.wikidata.org/entity/Q105127688', 'http://www.wikidata.org/entity/Q105127689', 'http://www.wikidata.org/entity/Q105129910', 'http://www.wikidata.org/entity/Q105152362', 'http://www.wikidata.org/entity/Q105152365', 'http://www.wikidata.org/entity/Q105161246', 'http://www.wikidata.org/entity/Q105161249', 'http://www.wikidata.org/entity/Q105161331', 'http://www.wikidata.org/entity/Q105167451', 'http://www.wikidata.org/entity/Q105178696', 'http://www.wikidata.org/entity/Q105182613', 'http://www.wikidata.org/entity/Q105184074', 'http://www.wikidata.org/entity/Q105215603', 'http://www.wikidata.org/entity/Q105216154', 'http://www.wikidata.org/entity/Q105233563', 'http://www.wikidata.org/entity/Q105237303', 'http://www.wikidata.org/entity/Q105265412', 'http://www.wikidata.org/entity/Q105267647', 'http://www.wikidata.org/entity/Q105267652', 'http://www.wikidata.org/entity/Q105269235', 'http://www.wikidata.org/entity/Q105281338', 'http://www.wikidata.org/entity/Q105324359', 'http://www.wikidata.org/entity/Q105324362', 'http://www.wikidata.org/entity/Q105327498', 'http://www.wikidata.org/entity/Q105342953', 'http://www.wikidata.org/entity/Q105375720', 'http://www.wikidata.org/entity/Q105386889', 'http://www.wikidata.org/entity/Q106045435', 'http://www.wikidata.org/entity/Q110077791', 'http://www.wikidata.org/entity/Q110078199', 'http://www.wikidata.org/entity/Q110185139', 'http://www.wikidata.org/entity/Q111734428', 'http://www.wikidata.org/entity/Q117835274', 'http://www.wikidata.org/entity/Q117835392', 'http://www.wikidata.org/entity/Q104396823', 'http://www.wikidata.org/entity/Q104967672', 'http://www.wikidata.org/entity/Q104994708', 'http://www.wikidata.org/entity/Q105150009', 'http://www.wikidata.org/entity/Q105233583', 'http://www.wikidata.org/entity/Q105255638', 'http://www.wikidata.org/entity/Q106045486', 'http://www.wikidata.org/entity/Q106045518', 'http://www.wikidata.org/entity/Q110077741', 'http://www.wikidata.org/entity/Q110078599', 'http://www.wikidata.org/entity/Q110080095', 'http://www.wikidata.org/entity/Q117835274', 'http://www.wikidata.org/entity/Q117835451', 'http://www.wikidata.org/entity/Q5015902', 'http://www.wikidata.org/entity/Q5172181', 'http://www.wikidata.org/entity/Q104253156', 'http://www.wikidata.org/entity/Q5015902', 'http://www.wikidata.org/entity/Q5172181', 'http://www.wikidata.org/entity/Q5984343', 'http://www.wikidata.org/entity/Q96383119', 'http://www.wikidata.org/entity/Q104252751', 'http://www.wikidata.org/entity/Q104397267', 'http://www.wikidata.org/entity/Q105233583', 'http://www.wikidata.org/entity/Q105239730', 'http://www.wikidata.org/entity/Q105327884', 'http://www.wikidata.org/entity/Q4015903', 'http://www.wikidata.org/entity/Q5015902', 'http://www.wikidata.org/entity/Q5015902', 'http://www.wikidata.org/entity/Q105386857', 'http://www.wikidata.org/entity/Q412957', 'http://www.wikidata.org/entity/Q5015902', 'http://www.wikidata.org/entity/Q5172181', 'http://www.wikidata.org/entity/Q104252751', 'http://www.wikidata.org/entity/Q104375567', 'http://www.wikidata.org/entity/Q104395675', 'http://www.wikidata.org/entity/Q104396148', 'http://www.wikidata.org/entity/Q104403303', 'http://www.wikidata.org/entity/Q105116589', 'http://www.wikidata.org/entity/Q105372556', 'http://www.wikidata.org/entity/Q22911782', 'http://www.wikidata.org/entity/Q104994708', 'http://www.wikidata.org/entity/Q105239730', 'http://www.wikidata.org/entity/Q117835274', 'http://www.wikidata.org/entity/Q117835451', 'http://www.wikidata.org/entity/Q104386351', 'http://www.wikidata.org/entity/Q5172181', 'http://www.wikidata.org/entity/Q22911782', 'http://www.wikidata.org/entity/Q27108337', 'http://www.wikidata.org/entity/Q104397658', 'http://www.wikidata.org/entity/Q104403461', 'http://www.wikidata.org/entity/Q105239730', 'http://www.wikidata.org/entity/Q117835411', 'http://www.wikidata.org/entity/Q117835451', 'http://www.wikidata.org/entity/Q124634177', 'http://www.wikidata.org/entity/Q124634215', 'http://www.wikidata.org/entity/Q124634216', 'http://www.wikidata.org/entity/Q124634218', 'http://www.wikidata.org/entity/Q124634219', 'http://www.wikidata.org/entity/Q124634220', 'http://www.wikidata.org/entity/Q124634221', 'http://www.wikidata.org/entity/Q124634222', 'http://www.wikidata.org/entity/Q124634223', 'http://www.wikidata.org/entity/Q124634224', 'http://www.wikidata.org/entity/Q124634225', 'http://www.wikidata.org/entity/Q124634226', 'http://www.wikidata.org/entity/Q409455', 'http://www.wikidata.org/entity/Q425004', 'http://www.wikidata.org/entity/Q2501558', 'http://www.wikidata.org/entity/Q5015902', 'http://www.wikidata.org/entity/Q5172181', 'http://www.wikidata.org/entity/Q5984343', 'http://www.wikidata.org/entity/Q27108621', 'http://www.wikidata.org/entity/Q27135905', 'http://www.wikidata.org/entity/Q104252752', 'http://www.wikidata.org/entity/Q104375565', 'http://www.wikidata.org/entity/Q104375567', 'http://www.wikidata.org/entity/Q104386353', 'http://www.wikidata.org/entity/Q104397267', 'http://www.wikidata.org/entity/Q104403303', 'http://www.wikidata.org/entity/Q104403304', 'http://www.wikidata.org/entity/Q104403305', 'http://www.wikidata.org/entity/Q105033042', 'http://www.wikidata.org/entity/Q105167451', 'http://www.wikidata.org/entity/Q110184970', 'http://www.wikidata.org/entity/Q117835251', 'http://www.wikidata.org/entity/Q117835468', 'http://www.wikidata.org/entity/Q5984343', 'http://www.wikidata.org/entity/Q7673043', 'http://www.wikidata.org/entity/Q117835384', 'http://www.wikidata.org/entity/Q409455', 'http://www.wikidata.org/entity/Q5015902', 'http://www.wikidata.org/entity/Q15079655', 'http://www.wikidata.org/entity/Q83112450', 'http://www.wikidata.org/entity/Q104250516', 'http://www.wikidata.org/entity/Q104252751', 'http://www.wikidata.org/entity/Q104386343', 'http://www.wikidata.org/entity/Q104392591', 'http://www.wikidata.org/entity/Q104394808', 'http://www.wikidata.org/entity/Q105150009', 'http://www.wikidata.org/entity/Q105167451', 'http://www.wikidata.org/entity/Q105233583', 'http://www.wikidata.org/entity/Q105239730', 'http://www.wikidata.org/entity/Q110077295', 'http://www.wikidata.org/entity/Q15425759', 'http://www.wikidata.org/entity/Q27106487', 'http://www.wikidata.org/entity/Q105167451', 'http://www.wikidata.org/entity/Q105273312', 'http://www.wikidata.org/entity/Q105298746', 'http://www.wikidata.org/entity/Q110204269', 'http://www.wikidata.org/entity/Q117835285', 'http://www.wikidata.org/entity/Q124634302', 'http://www.wikidata.org/entity/Q409455', 'http://www.wikidata.org/entity/Q4015903', 'http://www.wikidata.org/entity/Q5015902', 'http://www.wikidata.org/entity/Q5172181', 'http://www.wikidata.org/entity/Q5984343', 'http://www.wikidata.org/entity/Q15425302', 'http://www.wikidata.org/entity/Q15634126', 'http://www.wikidata.org/entity/Q15634128', 'http://www.wikidata.org/entity/Q22911782', 'http://www.wikidata.org/entity/Q27278686', 'http://www.wikidata.org/entity/Q72461343', 'http://www.wikidata.org/entity/Q83112450', 'http://www.wikidata.org/entity/Q104195886', 'http://www.wikidata.org/entity/Q104252748', 'http://www.wikidata.org/entity/Q104252751', 'http://www.wikidata.org/entity/Q104252759', 'http://www.wikidata.org/entity/Q104375567', 'http://www.wikidata.org/entity/Q104375569', 'http://www.wikidata.org/entity/Q104392591', 'http://www.wikidata.org/entity/Q104393357', 'http://www.wikidata.org/entity/Q104394432', 'http://www.wikidata.org/entity/Q104394891', 'http://www.wikidata.org/entity/Q104667356', 'http://www.wikidata.org/entity/Q104989208', 'http://www.wikidata.org/entity/Q105171582', 'http://www.wikidata.org/entity/Q105185528', 'http://www.wikidata.org/entity/Q105205356', 'http://www.wikidata.org/entity/Q105230247', 'http://www.wikidata.org/entity/Q105280156', 'http://www.wikidata.org/entity/Q106045486', 'http://www.wikidata.org/entity/Q106045518', 'http://www.wikidata.org/entity/Q110078019', 'http://www.wikidata.org/entity/Q110185139', 'http://www.wikidata.org/entity/Q110204409', 'http://www.wikidata.org/entity/Q117835251', 'http://www.wikidata.org/entity/Q117835451', 'http://www.wikidata.org/entity/Q5015902', 'http://www.wikidata.org/entity/Q5172181', 'http://www.wikidata.org/entity/Q5984343', 'http://www.wikidata.org/entity/Q82095348', 'http://www.wikidata.org/entity/Q104375569', 'http://www.wikidata.org/entity/Q409366', 'http://www.wikidata.org/entity/Q409455', 'http://www.wikidata.org/entity/Q4015903', 'http://www.wikidata.org/entity/Q5015902', 'http://www.wikidata.org/entity/Q5172181', 'http://www.wikidata.org/entity/Q5984343', 'http://www.wikidata.org/entity/Q15410234', 'http://www.wikidata.org/entity/Q15425259', 'http://www.wikidata.org/entity/Q15425302', 'http://www.wikidata.org/entity/Q15425759', 'http://www.wikidata.org/entity/Q15634126', 'http://www.wikidata.org/entity/Q15634128', 'http://www.wikidata.org/entity/Q21099578', 'http://www.wikidata.org/entity/Q21099582', 'http://www.wikidata.org/entity/Q22911782', 'http://www.wikidata.org/entity/Q27105783', 'http://www.wikidata.org/entity/Q27105815', 'http://www.wikidata.org/entity/Q27108337', 'http://www.wikidata.org/entity/Q27108406', 'http://www.wikidata.org/entity/Q27136660', 'http://www.wikidata.org/entity/Q27138840', 'http://www.wikidata.org/entity/Q27138847', 'http://www.wikidata.org/entity/Q27151406', 'http://www.wikidata.org/entity/Q82070787', 'http://www.wikidata.org/entity/Q82916141', 'http://www.wikidata.org/entity/Q104250908', 'http://www.wikidata.org/entity/Q104251263', 'http://www.wikidata.org/entity/Q104252748', 'http://www.wikidata.org/entity/Q104252751', 'http://www.wikidata.org/entity/Q104252752', 'http://www.wikidata.org/entity/Q104252760', 'http://www.wikidata.org/entity/Q104253041', 'http://www.wikidata.org/entity/Q104375567', 'http://www.wikidata.org/entity/Q104386351', 'http://www.wikidata.org/entity/Q104393357', 'http://www.wikidata.org/entity/Q104397267', 'http://www.wikidata.org/entity/Q104397658', 'http://www.wikidata.org/entity/Q104403304', 'http://www.wikidata.org/entity/Q104403305', 'http://www.wikidata.org/entity/Q104403612', 'http://www.wikidata.org/entity/Q104403615', 'http://www.wikidata.org/entity/Q104403616', 'http://www.wikidata.org/entity/Q104403617', 'http://www.wikidata.org/entity/Q105015571', 'http://www.wikidata.org/entity/Q105116720', 'http://www.wikidata.org/entity/Q105155455', 'http://www.wikidata.org/entity/Q105161021', 'http://www.wikidata.org/entity/Q105167451', 'http://www.wikidata.org/entity/Q105215603', 'http://www.wikidata.org/entity/Q105239730', 'http://www.wikidata.org/entity/Q105263033', 'http://www.wikidata.org/entity/Q105265131', 'http://www.wikidata.org/entity/Q105280156', 'http://www.wikidata.org/entity/Q105321902', 'http://www.wikidata.org/entity/Q105327751', 'http://www.wikidata.org/entity/Q105329903', 'http://www.wikidata.org/entity/Q105331369', 'http://www.wikidata.org/entity/Q105351403', 'http://www.wikidata.org/entity/Q105351404', 'http://www.wikidata.org/entity/Q105382843', 'http://www.wikidata.org/entity/Q105386857', 'http://www.wikidata.org/entity/Q110185139', 'http://www.wikidata.org/entity/Q110185745', 'http://www.wikidata.org/entity/Q111734416', 'http://www.wikidata.org/entity/Q111734433', 'http://www.wikidata.org/entity/Q117835231', 'http://www.wikidata.org/entity/Q117835251', 'http://www.wikidata.org/entity/Q117835380', 'http://www.wikidata.org/entity/Q117835383', 'http://www.wikidata.org/entity/Q117835451', 'http://www.wikidata.org/entity/Q124634274', 'http://www.wikidata.org/entity/Q124634371', 'http://www.wikidata.org/entity/Q27138847', 'http://www.wikidata.org/entity/Q104252012', 'http://www.wikidata.org/entity/Q104252759', 'http://www.wikidata.org/entity/Q104386343', 'http://www.wikidata.org/entity/Q104396821', 'http://www.wikidata.org/entity/Q104396822', 'http://www.wikidata.org/entity/Q104396826', 'http://www.wikidata.org/entity/Q105160277', 'http://www.wikidata.org/entity/Q105167451', 'http://www.wikidata.org/entity/Q105283015', 'http://www.wikidata.org/entity/Q124634181', 'http://www.wikidata.org/entity/Q5015902', 'http://www.wikidata.org/entity/Q5172181', 'http://www.wikidata.org/entity/Q5984343', 'http://www.wikidata.org/entity/Q22911782', 'http://www.wikidata.org/entity/Q27278686', 'http://www.wikidata.org/entity/Q82095348', 'http://www.wikidata.org/entity/Q82994796', 'http://www.wikidata.org/entity/Q104249853', 'http://www.wikidata.org/entity/Q104252751', 'http://www.wikidata.org/entity/Q104252752', 'http://www.wikidata.org/entity/Q104375565', 'http://www.wikidata.org/entity/Q104403303', 'http://www.wikidata.org/entity/Q104942639', 'http://www.wikidata.org/entity/Q105181081', 'http://www.wikidata.org/entity/Q105203419', 'http://www.wikidata.org/entity/Q105205356', 'http://www.wikidata.org/entity/Q105206896', 'http://www.wikidata.org/entity/Q105265131', 'http://www.wikidata.org/entity/Q105267648', 'http://www.wikidata.org/entity/Q105267651', 'http://www.wikidata.org/entity/Q106045425', 'http://www.wikidata.org/entity/Q106045530', 'http://www.wikidata.org/entity/Q110077582', 'http://www.wikidata.org/entity/Q110080059', 'http://www.wikidata.org/entity/Q117835451', 'http://www.wikidata.org/entity/Q96376633', 'http://www.wikidata.org/entity/Q104386343', 'http://www.wikidata.org/entity/Q104967672', 'http://www.wikidata.org/entity/Q104994708', 'http://www.wikidata.org/entity/Q105255638', 'http://www.wikidata.org/entity/Q110077741', 'http://www.wikidata.org/entity/Q110078599', 'http://www.wikidata.org/entity/Q117835274', 'http://www.wikidata.org/entity/Q117835384', 'http://www.wikidata.org/entity/Q121802', 'http://www.wikidata.org/entity/Q2501558', 'http://www.wikidata.org/entity/Q5015902', 'http://www.wikidata.org/entity/Q5172181', 'http://www.wikidata.org/entity/Q15410234', 'http://www.wikidata.org/entity/Q15410900', 'http://www.wikidata.org/entity/Q15410924', 'http://www.wikidata.org/entity/Q15425759', 'http://www.wikidata.org/entity/Q22911782', 'http://www.wikidata.org/entity/Q27104976', 'http://www.wikidata.org/entity/Q27105708', 'http://www.wikidata.org/entity/Q27108621', 'http://www.wikidata.org/entity/Q27135905', 'http://www.wikidata.org/entity/Q104195507', 'http://www.wikidata.org/entity/Q104249853', 'http://www.wikidata.org/entity/Q104252760', 'http://www.wikidata.org/entity/Q104375567', 'http://www.wikidata.org/entity/Q104403303', 'http://www.wikidata.org/entity/Q104403497', 'http://www.wikidata.org/entity/Q104403498', 'http://www.wikidata.org/entity/Q104667356', 'http://www.wikidata.org/entity/Q104667505', 'http://www.wikidata.org/entity/Q104667684', 'http://www.wikidata.org/entity/Q105136630', 'http://www.wikidata.org/entity/Q105171582', 'http://www.wikidata.org/entity/Q105233583', 'http://www.wikidata.org/entity/Q105298750', 'http://www.wikidata.org/entity/Q106045486', 'http://www.wikidata.org/entity/Q110178942', 'http://www.wikidata.org/entity/Q110179526', 'http://www.wikidata.org/entity/Q117835451', 'http://www.wikidata.org/entity/Q5015902', 'http://www.wikidata.org/entity/Q5172181', 'http://www.wikidata.org/entity/Q5984343', 'http://www.wikidata.org/entity/Q15427938', 'http://www.wikidata.org/entity/Q15634126', 'http://www.wikidata.org/entity/Q22911782', 'http://www.wikidata.org/entity/Q27105225', 'http://www.wikidata.org/entity/Q27108337', 'http://www.wikidata.org/entity/Q27138847', 'http://www.wikidata.org/entity/Q82095348', 'http://www.wikidata.org/entity/Q82989718', 'http://www.wikidata.org/entity/Q83000283', 'http://www.wikidata.org/entity/Q83095851', 'http://www.wikidata.org/entity/Q96376633', 'http://www.wikidata.org/entity/Q104250516', 'http://www.wikidata.org/entity/Q104252010', 'http://www.wikidata.org/entity/Q104252751', 'http://www.wikidata.org/entity/Q104375567', 'http://www.wikidata.org/entity/Q104375570', 'http://www.wikidata.org/entity/Q104394705', 'http://www.wikidata.org/entity/Q104396148', 'http://www.wikidata.org/entity/Q104397658', 'http://www.wikidata.org/entity/Q104397941', 'http://www.wikidata.org/entity/Q104402785', 'http://www.wikidata.org/entity/Q104403303', 'http://www.wikidata.org/entity/Q104403461', 'http://www.wikidata.org/entity/Q104403615', 'http://www.wikidata.org/entity/Q104967672', 'http://www.wikidata.org/entity/Q104986408', 'http://www.wikidata.org/entity/Q104994708', 'http://www.wikidata.org/entity/Q104999390', 'http://www.wikidata.org/entity/Q105033042', 'http://www.wikidata.org/entity/Q105033043', 'http://www.wikidata.org/entity/Q105150009', 'http://www.wikidata.org/entity/Q105161021', 'http://www.wikidata.org/entity/Q105167451', 'http://www.wikidata.org/entity/Q105203419', 'http://www.wikidata.org/entity/Q105204134', 'http://www.wikidata.org/entity/Q105239730', 'http://www.wikidata.org/entity/Q105255638', 'http://www.wikidata.org/entity/Q105269926', 'http://www.wikidata.org/entity/Q105285732', 'http://www.wikidata.org/entity/Q105285733', 'http://www.wikidata.org/entity/Q110077741', 'http://www.wikidata.org/entity/Q110077791', 'http://www.wikidata.org/entity/Q110078599', 'http://www.wikidata.org/entity/Q110079306', 'http://www.wikidata.org/entity/Q110176071', 'http://www.wikidata.org/entity/Q110178831', 'http://www.wikidata.org/entity/Q110179099', 'http://www.wikidata.org/entity/Q110179563', 'http://www.wikidata.org/entity/Q110179587', 'http://www.wikidata.org/entity/Q110188509', 'http://www.wikidata.org/entity/Q110188510', 'http://www.wikidata.org/entity/Q111734433', 'http://www.wikidata.org/entity/Q117835251', 'http://www.wikidata.org/entity/Q117835274', 'http://www.wikidata.org/entity/Q117835384', 'http://www.wikidata.org/entity/Q117835451', 'http://www.wikidata.org/entity/Q5015902', 'http://www.wikidata.org/entity/Q5172181', 'http://www.wikidata.org/entity/Q5984343', 'http://www.wikidata.org/entity/Q21099578', 'http://www.wikidata.org/entity/Q21099582', 'http://www.wikidata.org/entity/Q22911782', 'http://www.wikidata.org/entity/Q27105225', 'http://www.wikidata.org/entity/Q27108337', 'http://www.wikidata.org/entity/Q27278686', 'http://www.wikidata.org/entity/Q82095348', 'http://www.wikidata.org/entity/Q82897267', 'http://www.wikidata.org/entity/Q83005538', 'http://www.wikidata.org/entity/Q83095851', 'http://www.wikidata.org/entity/Q104197955', 'http://www.wikidata.org/entity/Q104250516', 'http://www.wikidata.org/entity/Q104252752', 'http://www.wikidata.org/entity/Q104252757', 'http://www.wikidata.org/entity/Q104252759', 'http://www.wikidata.org/entity/Q104252760', 'http://www.wikidata.org/entity/Q104253156', 'http://www.wikidata.org/entity/Q104375565', 'http://www.wikidata.org/entity/Q104375567', 'http://www.wikidata.org/entity/Q104386343', 'http://www.wikidata.org/entity/Q104386351', 'http://www.wikidata.org/entity/Q104386353', 'http://www.wikidata.org/entity/Q104394808', 'http://www.wikidata.org/entity/Q104394810', 'http://www.wikidata.org/entity/Q104394814', 'http://www.wikidata.org/entity/Q104396822', 'http://www.wikidata.org/entity/Q104397267', 'http://www.wikidata.org/entity/Q104667356', 'http://www.wikidata.org/entity/Q104888489', 'http://www.wikidata.org/entity/Q104888922', 'http://www.wikidata.org/entity/Q105150009', 'http://www.wikidata.org/entity/Q105161021', 'http://www.wikidata.org/entity/Q105167451', 'http://www.wikidata.org/entity/Q105171582', 'http://www.wikidata.org/entity/Q105181073', 'http://www.wikidata.org/entity/Q105181081', 'http://www.wikidata.org/entity/Q105184074', 'http://www.wikidata.org/entity/Q105203419', 'http://www.wikidata.org/entity/Q105223754', 'http://www.wikidata.org/entity/Q105242464', 'http://www.wikidata.org/entity/Q105267652', 'http://www.wikidata.org/entity/Q105285735', 'http://www.wikidata.org/entity/Q105379340', 'http://www.wikidata.org/entity/Q105382843', 'http://www.wikidata.org/entity/Q106045530', 'http://www.wikidata.org/entity/Q110078487', 'http://www.wikidata.org/entity/Q110184970', 'http://www.wikidata.org/entity/Q110204397', 'http://www.wikidata.org/entity/Q111734416', 'http://www.wikidata.org/entity/Q117835116', 'http://www.wikidata.org/entity/Q117835251', 'http://www.wikidata.org/entity/Q117835382', 'http://www.wikidata.org/entity/Q117835451', 'http://www.wikidata.org/entity/Q124634298', 'http://www.wikidata.org/entity/Q124634299', 'http://www.wikidata.org/entity/Q124634300', 'http://www.wikidata.org/entity/Q124634317', 'http://www.wikidata.org/entity/Q4015903', 'http://www.wikidata.org/entity/Q5015902', 'http://www.wikidata.org/entity/Q5172181', 'http://www.wikidata.org/entity/Q27138847', 'http://www.wikidata.org/entity/Q82095348', 'http://www.wikidata.org/entity/Q104252751', 'http://www.wikidata.org/entity/Q104252760', 'http://www.wikidata.org/entity/Q104396826', 'http://www.wikidata.org/entity/Q105152785', 'http://www.wikidata.org/entity/Q105167451', 'http://www.wikidata.org/entity/Q105203411', 'http://www.wikidata.org/entity/Q105239730', 'http://www.wikidata.org/entity/Q105285732', 'http://www.wikidata.org/entity/Q106045499', 'http://www.wikidata.org/entity/Q111734836', 'http://www.wikidata.org/entity/Q117835251', 'http://www.wikidata.org/entity/Q117835292', 'http://www.wikidata.org/entity/Q5172181', 'http://www.wikidata.org/entity/Q15410924', 'http://www.wikidata.org/entity/Q96383119', 'http://www.wikidata.org/entity/Q96407548', 'http://www.wikidata.org/entity/Q104250516', 'http://www.wikidata.org/entity/Q104994708', 'http://www.wikidata.org/entity/Q105150009', 'http://www.wikidata.org/entity/Q117835129', 'http://www.wikidata.org/entity/Q117835130', 'http://www.wikidata.org/entity/Q117835274', 'http://www.wikidata.org/entity/Q105378627', 'http://www.wikidata.org/entity/Q124634324', 'http://www.wikidata.org/entity/Q104252752', 'http://www.wikidata.org/entity/Q104375568', 'http://www.wikidata.org/entity/Q106045518', 'http://www.wikidata.org/entity/Q15410924', 'http://www.wikidata.org/entity/Q27104976', 'http://www.wikidata.org/entity/Q105267647', 'http://www.wikidata.org/entity/Q105298706', 'http://www.wikidata.org/entity/Q117835251', 'http://www.wikidata.org/entity/Q124634290', 'http://www.wikidata.org/entity/Q5015902', 'http://www.wikidata.org/entity/Q5172181', 'http://www.wikidata.org/entity/Q15410924', 'http://www.wikidata.org/entity/Q15425259', 'http://www.wikidata.org/entity/Q15425759', 'http://www.wikidata.org/entity/Q27138847', 'http://www.wikidata.org/entity/Q59354331', 'http://www.wikidata.org/entity/Q72461343', 'http://www.wikidata.org/entity/Q104249816', 'http://www.wikidata.org/entity/Q104250516', 'http://www.wikidata.org/entity/Q104252759', 'http://www.wikidata.org/entity/Q104252760', 'http://www.wikidata.org/entity/Q104253041', 'http://www.wikidata.org/entity/Q104253156', 'http://www.wikidata.org/entity/Q104375570', 'http://www.wikidata.org/entity/Q104386343', 'http://www.wikidata.org/entity/Q104386351', 'http://www.wikidata.org/entity/Q104394432', 'http://www.wikidata.org/entity/Q104394891', 'http://www.wikidata.org/entity/Q104397269', 'http://www.wikidata.org/entity/Q104403497', 'http://www.wikidata.org/entity/Q104403498', 'http://www.wikidata.org/entity/Q104920177', 'http://www.wikidata.org/entity/Q104989208', 'http://www.wikidata.org/entity/Q104999390', 'http://www.wikidata.org/entity/Q105024999', 'http://www.wikidata.org/entity/Q105025000', 'http://www.wikidata.org/entity/Q105029980', 'http://www.wikidata.org/entity/Q105150008', 'http://www.wikidata.org/entity/Q105298708', 'http://www.wikidata.org/entity/Q105379340', 'http://www.wikidata.org/entity/Q105380820', 'http://www.wikidata.org/entity/Q106045486', 'http://www.wikidata.org/entity/Q117835380', 'http://www.wikidata.org/entity/Q117835391', 'http://www.wikidata.org/entity/Q117835450', 'http://www.wikidata.org/entity/Q117835451', 'http://www.wikidata.org/entity/Q117835467', 'http://www.wikidata.org/entity/Q124634288', 'http://www.wikidata.org/entity/Q124634289', 'http://www.wikidata.org/entity/Q124634297', 'http://www.wikidata.org/entity/Q4015903', 'http://www.wikidata.org/entity/Q5015902', 'http://www.wikidata.org/entity/Q5172181', 'http://www.wikidata.org/entity/Q5984343', 'http://www.wikidata.org/entity/Q22911782', 'http://www.wikidata.org/entity/Q27138847', 'http://www.wikidata.org/entity/Q27278686', 'http://www.wikidata.org/entity/Q82989718', 'http://www.wikidata.org/entity/Q83005538', 'http://www.wikidata.org/entity/Q96383119', 'http://www.wikidata.org/entity/Q104197955', 'http://www.wikidata.org/entity/Q104252752', 'http://www.wikidata.org/entity/Q104252760', 'http://www.wikidata.org/entity/Q104253156', 'http://www.wikidata.org/entity/Q104375569', 'http://www.wikidata.org/entity/Q104386351', 'http://www.wikidata.org/entity/Q104396148', 'http://www.wikidata.org/entity/Q104667506', 'http://www.wikidata.org/entity/Q104956530', 'http://www.wikidata.org/entity/Q105033810', 'http://www.wikidata.org/entity/Q105034202', 'http://www.wikidata.org/entity/Q105034203', 'http://www.wikidata.org/entity/Q105135440', 'http://www.wikidata.org/entity/Q105135441', 'http://www.wikidata.org/entity/Q105135442', 'http://www.wikidata.org/entity/Q105140593', 'http://www.wikidata.org/entity/Q105140594', 'http://www.wikidata.org/entity/Q105152779', 'http://www.wikidata.org/entity/Q105171276', 'http://www.wikidata.org/entity/Q105171278', 'http://www.wikidata.org/entity/Q105192486', 'http://www.wikidata.org/entity/Q105203411', 'http://www.wikidata.org/entity/Q105242464', 'http://www.wikidata.org/entity/Q105274831', 'http://www.wikidata.org/entity/Q105285599', 'http://www.wikidata.org/entity/Q105368268', 'http://www.wikidata.org/entity/Q105375720', 'http://www.wikidata.org/entity/Q105386856', 'http://www.wikidata.org/entity/Q105386857', 'http://www.wikidata.org/entity/Q106045486', 'http://www.wikidata.org/entity/Q110080095', 'http://www.wikidata.org/entity/Q110204397', 'http://www.wikidata.org/entity/Q111726782', 'http://www.wikidata.org/entity/Q111726816', 'http://www.wikidata.org/entity/Q117835251', 'http://www.wikidata.org/entity/Q117835451', 'http://www.wikidata.org/entity/Q5015902', 'http://www.wikidata.org/entity/Q5172181', 'http://www.wikidata.org/entity/Q15425259', 'http://www.wikidata.org/entity/Q15427938', 'http://www.wikidata.org/entity/Q27105955', 'http://www.wikidata.org/entity/Q27108406', 'http://www.wikidata.org/entity/Q27138847', 'http://www.wikidata.org/entity/Q59354331', 'http://www.wikidata.org/entity/Q82933667', 'http://www.wikidata.org/entity/Q104386343', 'http://www.wikidata.org/entity/Q104392591', 'http://www.wikidata.org/entity/Q104397766', 'http://www.wikidata.org/entity/Q105033042', 'http://www.wikidata.org/entity/Q105233583', 'http://www.wikidata.org/entity/Q105238294', 'http://www.wikidata.org/entity/Q5015902', 'http://www.wikidata.org/entity/Q5172181', 'http://www.wikidata.org/entity/Q82070787', 'http://www.wikidata.org/entity/Q104957442', 'http://www.wikidata.org/entity/Q105146172', 'http://www.wikidata.org/entity/Q105242015', 'http://www.wikidata.org/entity/Q105242018', 'http://www.wikidata.org/entity/Q105363912', 'http://www.wikidata.org/entity/Q105363913', 'http://www.wikidata.org/entity/Q5015902', 'http://www.wikidata.org/entity/Q5172181', 'http://www.wikidata.org/entity/Q15634126', 'http://www.wikidata.org/entity/Q21099578', 'http://www.wikidata.org/entity/Q82894950', 'http://www.wikidata.org/entity/Q104252751', 'http://www.wikidata.org/entity/Q104375567', 'http://www.wikidata.org/entity/Q105167451', 'http://www.wikidata.org/entity/Q110184970', 'http://www.wikidata.org/entity/Q117835251', 'http://www.wikidata.org/entity/Q5172181', 'http://www.wikidata.org/entity/Q117835251', 'http://www.wikidata.org/entity/Q5172181', 'http://www.wikidata.org/entity/Q15634126', 'http://www.wikidata.org/entity/Q82994796', 'http://www.wikidata.org/entity/Q104403304', 'http://www.wikidata.org/entity/Q104403612', 'http://www.wikidata.org/entity/Q104944410', 'http://www.wikidata.org/entity/Q105270361', 'http://www.wikidata.org/entity/Q104180067', 'http://www.wikidata.org/entity/Q117835251', 'http://www.wikidata.org/entity/Q96383119', 'http://www.wikidata.org/entity/Q104167434', 'http://www.wikidata.org/entity/Q104250516', 'http://www.wikidata.org/entity/Q104252010', 'http://www.wikidata.org/entity/Q105100167', 'http://www.wikidata.org/entity/Q105150009', 'http://www.wikidata.org/entity/Q105167451', 'http://www.wikidata.org/entity/Q105185528', 'http://www.wikidata.org/entity/Q105239730', 'http://www.wikidata.org/entity/Q105386857', 'http://www.wikidata.org/entity/Q117835251', 'http://www.wikidata.org/entity/Q117835298', 'http://www.wikidata.org/entity/Q124634346', 'http://www.wikidata.org/entity/Q5015902', 'http://www.wikidata.org/entity/Q5172181', 'http://www.wikidata.org/entity/Q5984343', 'http://www.wikidata.org/entity/Q21099578', 'http://www.wikidata.org/entity/Q82095348', 'http://www.wikidata.org/entity/Q82934025', 'http://www.wikidata.org/entity/Q96383119', 'http://www.wikidata.org/entity/Q104252751', 'http://www.wikidata.org/entity/Q104252752', 'http://www.wikidata.org/entity/Q104397267', 'http://www.wikidata.org/entity/Q104888489', 'http://www.wikidata.org/entity/Q105203411', 'http://www.wikidata.org/entity/Q105233583', 'http://www.wikidata.org/entity/Q105239730', 'http://www.wikidata.org/entity/Q105327884', 'http://www.wikidata.org/entity/Q117835251', 'http://www.wikidata.org/entity/Q409455', 'http://www.wikidata.org/entity/Q22911782', 'http://www.wikidata.org/entity/Q104250516', 'http://www.wikidata.org/entity/Q104392591', 'http://www.wikidata.org/entity/Q105215603', 'http://www.wikidata.org/entity/Q105239730', 'http://www.wikidata.org/entity/Q5015902', 'http://www.wikidata.org/entity/Q5172181', 'http://www.wikidata.org/entity/Q15634126', 'http://www.wikidata.org/entity/Q104252759', 'http://www.wikidata.org/entity/Q104375567', 'http://www.wikidata.org/entity/Q104375570', 'http://www.wikidata.org/entity/Q104393357', 'http://www.wikidata.org/entity/Q104397941', 'http://www.wikidata.org/entity/Q104667356', 'http://www.wikidata.org/entity/Q104999390', 'http://www.wikidata.org/entity/Q105006663', 'http://www.wikidata.org/entity/Q105133499', 'http://www.wikidata.org/entity/Q105188388', 'http://www.wikidata.org/entity/Q105380553', 'http://www.wikidata.org/entity/Q110185139', 'http://www.wikidata.org/entity/Q124634273', 'http://www.wikidata.org/entity/Q124634275', 'http://www.wikidata.org/entity/Q124634315', 'http://www.wikidata.org/entity/Q124634316', 'http://www.wikidata.org/entity/Q419964', 'http://www.wikidata.org/entity/Q5015902', 'http://www.wikidata.org/entity/Q5172181', 'http://www.wikidata.org/entity/Q5984343', 'http://www.wikidata.org/entity/Q15634126', 'http://www.wikidata.org/entity/Q21099578', 'http://www.wikidata.org/entity/Q21099582', 'http://www.wikidata.org/entity/Q27107223', 'http://www.wikidata.org/entity/Q72489417', 'http://www.wikidata.org/entity/Q82070787', 'http://www.wikidata.org/entity/Q104250516', 'http://www.wikidata.org/entity/Q104252751', 'http://www.wikidata.org/entity/Q104375565', 'http://www.wikidata.org/entity/Q104386343', 'http://www.wikidata.org/entity/Q104386353', 'http://www.wikidata.org/entity/Q104394889', 'http://www.wikidata.org/entity/Q105127987', 'http://www.wikidata.org/entity/Q105167451', 'http://www.wikidata.org/entity/Q105239730', 'http://www.wikidata.org/entity/Q105327884', 'http://www.wikidata.org/entity/Q105386857', 'http://www.wikidata.org/entity/Q106045518', 'http://www.wikidata.org/entity/Q117835251', 'http://www.wikidata.org/entity/Q117835382', 'http://www.wikidata.org/entity/Q409455', 'http://www.wikidata.org/entity/Q5015902', 'http://www.wikidata.org/entity/Q5984343', 'http://www.wikidata.org/entity/Q22911787', 'http://www.wikidata.org/entity/Q82054121', 'http://www.wikidata.org/entity/Q82995669', 'http://www.wikidata.org/entity/Q96407548', 'http://www.wikidata.org/entity/Q104252759', 'http://www.wikidata.org/entity/Q104375567', 'http://www.wikidata.org/entity/Q104401044', 'http://www.wikidata.org/entity/Q104994708', 'http://www.wikidata.org/entity/Q110177515', 'http://www.wikidata.org/entity/Q110177517', 'http://www.wikidata.org/entity/Q110177735', 'http://www.wikidata.org/entity/Q110177736', 'http://www.wikidata.org/entity/Q117835274', 'http://www.wikidata.org/entity/Q124634182', 'http://www.wikidata.org/entity/Q124634229', 'http://www.wikidata.org/entity/Q409455', 'http://www.wikidata.org/entity/Q15079655', 'http://www.wikidata.org/entity/Q27105225', 'http://www.wikidata.org/entity/Q27105708', 'http://www.wikidata.org/entity/Q5172181', 'http://www.wikidata.org/entity/Q96407548', 'http://www.wikidata.org/entity/Q409455', 'http://www.wikidata.org/entity/Q5015902', 'http://www.wikidata.org/entity/Q5172181', 'http://www.wikidata.org/entity/Q5984343', 'http://www.wikidata.org/entity/Q82070787', 'http://www.wikidata.org/entity/Q104252751', 'http://www.wikidata.org/entity/Q105206896', 'http://www.wikidata.org/entity/Q105233583', 'http://www.wikidata.org/entity/Q105386857', 'http://www.wikidata.org/entity/Q106045452', 'http://www.wikidata.org/entity/Q15427938', 'http://www.wikidata.org/entity/Q104403461', 'http://www.wikidata.org/entity/Q104974041', 'http://www.wikidata.org/entity/Q416225', 'http://www.wikidata.org/entity/Q15410269', 'http://www.wikidata.org/entity/Q5015902', 'http://www.wikidata.org/entity/Q5172181', 'http://www.wikidata.org/entity/Q96383119', 'http://www.wikidata.org/entity/Q104252751']\n"
     ]
    }
   ],
   "source": [
    "print(result)"
   ]
  },
  {
   "cell_type": "code",
   "execution_count": 8,
   "metadata": {
    "ExecuteTime": {
     "end_time": "2024-05-02T13:44:54.710606Z",
     "start_time": "2024-05-02T13:44:54.691434Z"
    },
    "collapsed": false,
    "jupyter": {
     "outputs_hidden": false
    }
   },
   "outputs": [
    {
     "name": "stdout",
     "output_type": "stream",
     "text": [
      "First few rows of DataFrame 1:\n",
      "                                    wd_id\n",
      "0  http://www.wikidata.org/entity/Q121802\n",
      "1  http://www.wikidata.org/entity/Q181003\n",
      "2  http://www.wikidata.org/entity/Q191700\n",
      "3  http://www.wikidata.org/entity/Q193572\n",
      "4  http://www.wikidata.org/entity/Q229970\n",
      "First few rows of DataFrame 2:\n",
      "                                       wd_id\n",
      "0  http://www.wikidata.org/entity/Q105190459\n",
      "1   http://www.wikidata.org/entity/Q27157877\n",
      "2   http://www.wikidata.org/entity/Q27115982\n",
      "3   http://www.wikidata.org/entity/Q83046700\n",
      "4  http://www.wikidata.org/entity/Q105232843\n",
      "Common IDs found:\n",
      "                                          wd_id\n",
      "9        http://www.wikidata.org/entity/Q412957\n",
      "10       http://www.wikidata.org/entity/Q416260\n",
      "21      http://www.wikidata.org/entity/Q5015902\n",
      "22      http://www.wikidata.org/entity/Q5172181\n",
      "23      http://www.wikidata.org/entity/Q5984343\n",
      "30     http://www.wikidata.org/entity/Q21099578\n",
      "43     http://www.wikidata.org/entity/Q72443990\n",
      "47     http://www.wikidata.org/entity/Q82095348\n",
      "55     http://www.wikidata.org/entity/Q96407548\n",
      "56    http://www.wikidata.org/entity/Q104180067\n",
      "60    http://www.wikidata.org/entity/Q104252752\n",
      "65    http://www.wikidata.org/entity/Q104375567\n",
      "71    http://www.wikidata.org/entity/Q104397765\n",
      "80    http://www.wikidata.org/entity/Q104888247\n",
      "97    http://www.wikidata.org/entity/Q104974377\n",
      "99    http://www.wikidata.org/entity/Q104994708\n",
      "112   http://www.wikidata.org/entity/Q105167429\n",
      "113   http://www.wikidata.org/entity/Q105167451\n",
      "132   http://www.wikidata.org/entity/Q105285732\n",
      "135   http://www.wikidata.org/entity/Q105292300\n",
      "136   http://www.wikidata.org/entity/Q105298708\n",
      "189   http://www.wikidata.org/entity/Q105105026\n",
      "229    http://www.wikidata.org/entity/Q27108406\n",
      "231   http://www.wikidata.org/entity/Q104167434\n",
      "279   http://www.wikidata.org/entity/Q105301286\n",
      "332   http://www.wikidata.org/entity/Q105006399\n",
      "382      http://www.wikidata.org/entity/Q412226\n",
      "422   http://www.wikidata.org/entity/Q104938010\n",
      "505    http://www.wikidata.org/entity/Q15425259\n",
      "525    http://www.wikidata.org/entity/Q25212241\n",
      "590   http://www.wikidata.org/entity/Q104396820\n",
      "624   http://www.wikidata.org/entity/Q110078487\n",
      "722   http://www.wikidata.org/entity/Q104202380\n",
      "733   http://www.wikidata.org/entity/Q104667254\n",
      "747   http://www.wikidata.org/entity/Q105285735\n",
      "748   http://www.wikidata.org/entity/Q105285737\n",
      "750   http://www.wikidata.org/entity/Q105375349\n",
      "785   http://www.wikidata.org/entity/Q110079583\n",
      "851   http://www.wikidata.org/entity/Q105298706\n",
      "852   http://www.wikidata.org/entity/Q105298707\n",
      "874      http://www.wikidata.org/entity/Q407426\n",
      "907   http://www.wikidata.org/entity/Q104994705\n",
      "975    http://www.wikidata.org/entity/Q82054121\n",
      "1093  http://www.wikidata.org/entity/Q104974041\n",
      "1130   http://www.wikidata.org/entity/Q82933667\n",
      "1280  http://www.wikidata.org/entity/Q105185528\n",
      "1404   http://www.wikidata.org/entity/Q96376633\n",
      "1486  http://www.wikidata.org/entity/Q105285733\n",
      "1491  http://www.wikidata.org/entity/Q110176071\n",
      "1493  http://www.wikidata.org/entity/Q110179099\n",
      "1497  http://www.wikidata.org/entity/Q110188510\n",
      "1519  http://www.wikidata.org/entity/Q104252757\n",
      "1764  http://www.wikidata.org/entity/Q104394889\n"
     ]
    }
   ],
   "source": [
    "import pandas as pd\n",
    "\n",
    "def find_common_wikidata_ids(file_path1, file_path2, output_file_path):\n",
    "    # Read the CSV files\n",
    "    \n",
    "   \n",
    "    df1 = pd.read_csv(file_path1)\n",
    "    df2 = pd.read_csv(file_path2)\n",
    "\n",
    "    # Print the first few rows of each dataframe to help debugging\n",
    "    print(\"First few rows of DataFrame 1:\")\n",
    "    print(df1.head())\n",
    "    print(\"First few rows of DataFrame 2:\")\n",
    "    print(df2.head())\n",
    "\n",
    "    # Clean data: strip any whitespace from the Wikidata ID strings\n",
    "    df1.iloc[:, 0] = df1.iloc[:, 0].str.strip()\n",
    "    df2.iloc[:, 0] = df2.iloc[:, 0].str.strip()\n",
    "\n",
    "    # Convert data to string in case they are not\n",
    "    df1.iloc[:, 0] = df1.iloc[:, 0].astype(str)\n",
    "    df2.iloc[:, 0] = df2.iloc[:, 0].astype(str)\n",
    "\n",
    "    # Find common IDs\n",
    "    common_ids = df1[df1.iloc[:, 0].isin(df2.iloc[:, 0])]\n",
    "    common_ids = common_ids.drop_duplicates()\n",
    "    # Output the found common IDs\n",
    "    print(\"Common IDs found:\")\n",
    "    print(common_ids)\n",
    "    common_ids = common_ids.drop_duplicates()\n",
    "\n",
    "    # Save the common IDs to a new CSV file\n",
    "    common_ids.to_csv(output_file_path, index=False)\n",
    "\n",
    "# Example usage:\n",
    "find_common_wikidata_ids('/Users/madinabekbergenova/Downloads/query.csv', '/Users/madinabekbergenova/Downloads/query-result (1).csv', '/Users/madinabekbergenova/Desktop/LLMs/shared_ids.csv')"
   ]
  },
  {
   "cell_type": "code",
   "execution_count": null,
   "metadata": {
    "collapsed": false,
    "jupyter": {
     "outputs_hidden": false
    }
   },
   "outputs": [],
   "source": []
  }
 ],
 "metadata": {
  "kernelspec": {
   "display_name": "kgbot",
   "language": "python",
   "name": "python3"
  },
  "language_info": {
   "codemirror_mode": {
    "name": "ipython",
    "version": 3
   },
   "file_extension": ".py",
   "mimetype": "text/x-python",
   "name": "python",
   "nbconvert_exporter": "python",
   "pygments_lexer": "ipython3",
   "version": "3.13.0"
  }
 },
 "nbformat": 4,
 "nbformat_minor": 4
}
