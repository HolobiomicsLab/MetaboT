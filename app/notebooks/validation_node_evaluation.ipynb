{
 "cells": [
  {
   "cell_type": "markdown",
   "metadata": {},
   "source": [
    "### Create DataSet"
   ]
  },
  {
   "cell_type": "code",
   "execution_count": null,
   "metadata": {},
   "outputs": [],
   "source": [
    "from langsmith import Client\n",
    "client = Client()"
   ]
  },
  {
   "cell_type": "code",
   "execution_count": null,
   "metadata": {},
   "outputs": [],
   "source": [
    "examples = client.list_shared_examples(share_token=\"206cb644-3dd4-4713-878b-cd1ae980c103\")"
   ]
  },
  {
   "cell_type": "code",
   "execution_count": null,
   "metadata": {},
   "outputs": [],
   "source": [
    "new_examples = set()"
   ]
  },
  {
   "cell_type": "code",
   "execution_count": null,
   "metadata": {},
   "outputs": [],
   "source": [
    "for example in examples:\n",
    "    new_examples.add((example.inputs[\"messages\"][0][\"content\"],\"supervisor\"))\n"
   ]
  },
  {
   "cell_type": "code",
   "execution_count": null,
   "metadata": {},
   "outputs": [],
   "source": [
    "import csv\n",
    "\n",
    "\n",
    "file_path = \"/home/ytaghzou/Téléchargements/Not valid questions - Sheet1.csv\"\n",
    "\n",
    "# Open the CSV file\n",
    "with open(file_path, newline='') as csvfile:\n",
    "    csvreader = csv.reader(csvfile)\n",
    "    \n",
    "    # Skip the header (if there is one)\n",
    "    header = next(csvreader)\n",
    "    \n",
    "    # Read the rows\n",
    "    for row in csvreader:\n",
    "        new_examples.add((row[0].strip(),\"__end__\"))\n"
   ]
  },
  {
   "cell_type": "code",
   "execution_count": null,
   "metadata": {},
   "outputs": [],
   "source": [
    "len(new_examples)"
   ]
  },
  {
   "cell_type": "code",
   "execution_count": null,
   "metadata": {},
   "outputs": [],
   "source": [
    "new_examples = list(new_examples)"
   ]
  },
  {
   "cell_type": "code",
   "execution_count": null,
   "metadata": {},
   "outputs": [],
   "source": [
    "dataset_name = \"KGBot Evaluation: Validation Step\"\n",
    "if client.has_dataset(dataset_name=dataset_name):\n",
    "    client.delete_dataset(dataset_name=dataset_name)\n",
    "\n",
    "dataset = client.create_dataset(dataset_name=dataset_name)\n",
    "client.create_examples(\n",
    "    inputs = [{\"question\":ex[0]} for ex in new_examples],\n",
    "    outputs = [{\"route\": ex[1]} for ex in new_examples],\n",
    "    dataset_id=dataset.id\n",
    ")"
   ]
  },
  {
   "cell_type": "markdown",
   "metadata": {},
   "source": [
    "# Prepare Evaluation"
   ]
  },
  {
   "cell_type": "code",
   "execution_count": null,
   "metadata": {},
   "outputs": [],
   "source": [
    "from langsmith import Client\n",
    "client = Client()"
   ]
  },
  {
   "cell_type": "code",
   "execution_count": null,
   "metadata": {},
   "outputs": [],
   "source": [
    "dataset = client.read_dataset(dataset_name=\"KGBot Evaluation: Validation Step\")\n",
    "dataset.example_count"
   ]
  },
  {
   "cell_type": "code",
   "execution_count": null,
   "metadata": {},
   "outputs": [],
   "source": [
    "import os\n",
    "import sys\n",
    "\n",
    "module_path = os.path.abspath(os.path.join('..', '..'))  # Adjust the dots as needed\n",
    "print(module_path)\n",
    "if module_path not in sys.path:\n",
    "    sys.path.append(module_path)\n",
    "\n",
    "if os.path.exists(\"./app/config/logs\") == False:\n",
    "    os.makedirs(\"./app/config/logs\")"
   ]
  },
  {
   "cell_type": "code",
   "execution_count": null,
   "metadata": {},
   "outputs": [],
   "source": [
    "from app.core.main_studio import app\n",
    "from langchain_core.messages import HumanMessage, AIMessage\n",
    "from app.core.workflow.langraph_workflow import router\n",
    "\n",
    "\n",
    "# Target function for running the relevant step\n",
    "async def run_validator_classifier(input: str) -> dict:\n",
    "\n",
    "    state = {\n",
    "        \"messages\": [\n",
    "            HumanMessage(f\"Starting the processing of the question: {input['question']}\", name=\"Entry_Agent\")\n",
    "        ]\n",
    "    }\n",
    "    answer = await app.nodes['Validator'].ainvoke(state)\n",
    "    goto = router(answer)\n",
    "    return {\"route\": goto}"
   ]
  },
  {
   "cell_type": "code",
   "execution_count": null,
   "metadata": {},
   "outputs": [],
   "source": [
    "# Evaluator\n",
    "def correct(outputs: dict, reference_outputs: dict) -> bool:\n",
    "    \"\"\"Check if the agent chose the correct route.\"\"\"\n",
    "    return outputs[\"route\"] == reference_outputs[\"route\"]"
   ]
  },
  {
   "cell_type": "code",
   "execution_count": null,
   "metadata": {},
   "outputs": [],
   "source": [
    "# Run evaluation\n",
    "experiment_results = await client.aevaluate(\n",
    "    run_validator_classifier,\n",
    "    data=dataset.name,\n",
    "    evaluators=[correct],\n",
    "    experiment_prefix=\"kgbot-evaluation-single-step-deepseek_r1\",\n",
    "    max_concurrency=4,\n",
    ")\n",
    "experiment_results.to_pandas()"
   ]
  }
 ],
 "metadata": {
  "kernelspec": {
   "display_name": "kgbot",
   "language": "python",
   "name": "python3"
  },
  "language_info": {
   "codemirror_mode": {
    "name": "ipython",
    "version": 3
   },
   "file_extension": ".py",
   "mimetype": "text/x-python",
   "name": "python",
   "nbconvert_exporter": "python",
   "pygments_lexer": "ipython3",
   "version": "3.12.8"
  }
 },
 "nbformat": 4,
 "nbformat_minor": 2
}
