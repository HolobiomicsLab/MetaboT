{
 "cells": [
  {
   "cell_type": "markdown",
   "metadata": {},
   "source": [
    "### Create DataSet"
   ]
  },
  {
   "cell_type": "code",
   "execution_count": null,
   "metadata": {},
   "outputs": [],
   "source": [
    "from langsmith import Client\n",
    "client = Client()"
   ]
  },
  {
   "cell_type": "code",
   "execution_count": null,
   "metadata": {},
   "outputs": [],
   "source": [
    "examples = client.list_shared_examples(share_token=\"206cb644-3dd4-4713-878b-cd1ae980c103\")"
   ]
  },
  {
   "cell_type": "code",
   "execution_count": null,
   "metadata": {},
   "outputs": [],
   "source": [
    "new_examples = set()"
   ]
  },
  {
   "cell_type": "code",
   "execution_count": null,
   "metadata": {},
   "outputs": [],
   "source": [
    "import re\n",
    "\n",
    "def find_sparql_queries(message: str):\n",
    "    return re.findall(\"```sparql(.*)```\", message, re.DOTALL)"
   ]
  },
  {
   "cell_type": "code",
   "execution_count": null,
   "metadata": {},
   "outputs": [],
   "source": [
    "msg = \"The retention times and parent masses of LCMS features annotated as Terpenoids by CANOPUS in Tabernaemontana coffeoides have been retrieved. Here is the information:\\n\\n- **SPARQL Query**: \\n  ```sparql\\n  PREFIX ns1: <https://enpkg.commons-lab.org/kg/>\\n  PREFIX ns2: <https://enpkg.commons-lab.org/module/>\\n\\n  SELECT ?retentionTime ?parentMass\\n  WHERE {\\n      ?rawMaterial ns1:has_wd_id <http://www.wikidata.org/entity/Q15376858> .\\n      ?rawMaterial ns1:has_lab_process ?labExtract .\\n      ?labExtract ns1:has_LCMS ?analysis .\\n      ?analysis ns1:has_lcms_feature_list ?featureList .\\n      ?featureList ns1:has_lcms_feature ?feature .\\n      ?feature ns1:has_canopus_annotation ?annotation .\\n      ?annotation ns1:has_canopus_npc_pathway <https://enpkg.commons-lab.org/kg/npc_Terpenoids> .\\n      ?feature ns1:has_retention_time ?retentionTime .\\n      ?feature ns1:has_parent_mass ?parentMass .\\n  }\\n  ```\\n\\n- **File Path**: The results are saved in the file located at `/var/folders/20/4kgcw5656h12ss_nj18mndwm0000gn/T/kgbot/610f86c362554edfa3e22989fd52acdf/tmpgt4cvneq.csv`.\\n\\nPlease check the file for detailed results.\"\n",
    "\n",
    "find_sparql_queries(msg)"
   ]
  },
  {
   "cell_type": "code",
   "execution_count": null,
   "metadata": {},
   "outputs": [],
   "source": [
    "from typing import List\n",
    "\n",
    "\n",
    "found_sparql_queries = 0\n",
    "\n",
    "node_inputs = []\n",
    "\n",
    "for ex_index, ex in enumerate(examples):\n",
    "    last_message_index_before_query = -1\n",
    "    example_sparql_queries = 0 \n",
    "    for message_index, message in enumerate(ex.outputs[\"__end__\"][\"messages\"]):\n",
    "        if isinstance(message[\"content\"], str):\n",
    "            sparql_queries = find_sparql_queries(message[\"content\"])\n",
    "            if len(sparql_queries) > 0:\n",
    "                example_sparql_queries += len(sparql_queries)\n",
    "                last_message_index_before_query = message_index\n",
    "    \n",
    "    if last_message_index_before_query != -1:\n",
    "        found_sparql_queries += 1\n",
    "        print(f\"In example {ex_index} => {example_sparql_queries} have been found => last message index {last_message_index_before_query}\")\n",
    "\n",
    "        node_inputs.append({\"index\": ex_index, \"messages\":ex.outputs[\"__end__\"][\"messages\"][:last_message_index_before_query]})\n",
    "    \n",
    "    else:\n",
    "        print(f\"In question `{ex.outputs[\"__end__\"][\"messages\"][0][\"content\"]}` no sparql query was found!\")\n",
    "        node_inputs.append({\"index\":ex_index, \"messages\":\"no_message\"})\n",
    "\n",
    "\n",
    "print(f\"We found {found_sparql_queries} queries overall\")\n"
   ]
  },
  {
   "cell_type": "code",
   "execution_count": null,
   "metadata": {},
   "outputs": [],
   "source": [
    "node_inputs"
   ]
  },
  {
   "cell_type": "code",
   "execution_count": null,
   "metadata": {},
   "outputs": [],
   "source": [
    "node_inputs[35]"
   ]
  },
  {
   "cell_type": "code",
   "execution_count": null,
   "metadata": {},
   "outputs": [],
   "source": [
    "node_inputs[35].update({\"messages\":examples[35].outputs[\"__end__\"][\"messages\"][:4]})"
   ]
  },
  {
   "cell_type": "code",
   "execution_count": null,
   "metadata": {},
   "outputs": [],
   "source": [
    "from typing import List\n",
    "\n",
    "\n",
    "found_sparql_queries = 0\n",
    "\n",
    "query_outputs = []\n",
    "\n",
    "for ex_index, ex in enumerate(examples):\n",
    "    last_message_index_before_query = -1\n",
    "    example_sparql_queries = 0 \n",
    "    found_query = \"\"\n",
    "    for message_index, message in enumerate(ex.outputs[\"__end__\"][\"messages\"]):\n",
    "        if isinstance(message[\"content\"], str):\n",
    "            sparql_queries = find_sparql_queries(message[\"content\"])\n",
    "            if len(sparql_queries) > 0:\n",
    "                example_sparql_queries += len(sparql_queries)\n",
    "                last_message_index_before_query = message_index\n",
    "                found_query = sparql_queries[0]\n",
    "    \n",
    "    if last_message_index_before_query != -1:\n",
    "        found_sparql_queries += 1\n",
    "        print(f\"In example {ex_index} => {example_sparql_queries} have been found => last message index {last_message_index_before_query}\")\n",
    "\n",
    "        query_outputs.append({\"index\": ex_index, \"query\": found_query})\n",
    "    \n",
    "    else:\n",
    "        print(f\"In question `{ex.outputs[\"__end__\"][\"messages\"][0][\"content\"]}` no sparql query was found!\")\n",
    "        query_outputs.append({\"index\":ex_index, \"query\":\"no_query\"})\n",
    "\n",
    "\n",
    "print(f\"We found {found_sparql_queries} queries overall\")\n"
   ]
  },
  {
   "cell_type": "code",
   "execution_count": null,
   "metadata": {},
   "outputs": [],
   "source": [
    "query_outputs[22]"
   ]
  },
  {
   "cell_type": "code",
   "execution_count": null,
   "metadata": {},
   "outputs": [],
   "source": [
    "query_outputs[22].update({\"query\": \"\\n PREFIX ns1: <https://enpkg.commons-lab.org/kg/>\\\\nPREFIX ns2: <https://enpkg.commons-lab.org/module/>\\\\n\\\\nSELECT ?InChIkey2D (COUNT(?InChIkey2D) AS ?frequency)\\\\nWHERE {\\\\n    ?rawMaterial ns1:has_wd_id <http://www.wikidata.org/entity/Q157756> .\\\\n    ?rawMaterial ns1:has_lab_process ?labExtract .\\\\n    ?labExtract ns1:has_LCMS ?analysis .\\\\n    ?analysis ns1:has_lcms_feature_list ?feature_list .\\\\n    ?feature_list ns1:has_lcms_feature ?feature .\\\\n    ?feature ns1:has_sirius_annotation ?annotation .\\\\n    ?annotation ns1:has_InChIkey2D ?InChIkey2D .\\\\n}\\\\nGROUP BY ?InChIkey2D\\\\nORDER BY DESC(?frequency)\"})"
   ]
  },
  {
   "cell_type": "code",
   "execution_count": null,
   "metadata": {},
   "outputs": [],
   "source": [
    "node_inputs"
   ]
  },
  {
   "cell_type": "code",
   "execution_count": null,
   "metadata": {},
   "outputs": [],
   "source": [
    "for example in examples:\n",
    "    new_examples.add((example.inputs[\"messages\"][0][\"content\"],\"supervisor\"))\n"
   ]
  },
  {
   "cell_type": "code",
   "execution_count": null,
   "metadata": {},
   "outputs": [],
   "source": [
    "dataset_name = \"KGBot Evaluation: SPARQL Generation Step\"\n",
    "if client.has_dataset(dataset_name=dataset_name):\n",
    "    client.delete_dataset(dataset_name=dataset_name)\n",
    "\n",
    "dataset = client.create_dataset(dataset_name=dataset_name)\n",
    "client.create_examples(\n",
    "    inputs = [{\"messages\":ex[\"messages\"]} for ex in node_inputs],\n",
    "    outputs = [{\"query\": ex[\"query\"]} for ex in query_outputs],\n",
    "    dataset_id=dataset.id\n",
    ")"
   ]
  },
  {
   "cell_type": "code",
   "execution_count": null,
   "metadata": {},
   "outputs": [],
   "source": [
    "from rdflib.plugins.sparql.algebra import translateQuery\n",
    "from rdflib.plugins.sparql.parser import parseQuery\n",
    "\n",
    "def verify_query(query) -> bool:\n",
    "    \n",
    "    try:\n",
    "        translateQuery(parseQuery(query))\n",
    "    except Exception as e:\n",
    "        return False\n",
    "\n",
    "    return True"
   ]
  },
  {
   "cell_type": "code",
   "execution_count": null,
   "metadata": {},
   "outputs": [],
   "source": [
    "examples_dataset_v1 = client.list_examples(dataset_name=\"KGBot Evaluation: SPARQL Generation Step\")\n",
    "\n",
    "for ex in examples_dataset_v1:\n",
    "    if not verify_query(ex.outputs[\"query\"]):\n",
    "        print(f\"{ex.inputs[\"messages\"][0][\"content\"]}\")"
   ]
  },
  {
   "cell_type": "markdown",
   "metadata": {},
   "source": [
    "# Prepare Evaluation"
   ]
  },
  {
   "cell_type": "code",
   "execution_count": null,
   "metadata": {},
   "outputs": [],
   "source": [
    "from langsmith import Client\n",
    "client = Client()"
   ]
  },
  {
   "cell_type": "code",
   "execution_count": null,
   "metadata": {},
   "outputs": [],
   "source": [
    "dataset = client.read_dataset(dataset_name=\"KGBot Evaluation: SPARQL Generation Step\")\n",
    "\n",
    "dataset.example_count"
   ]
  },
  {
   "cell_type": "code",
   "execution_count": null,
   "metadata": {},
   "outputs": [],
   "source": [
    "import os\n",
    "import sys\n",
    "\n",
    "module_path = os.path.abspath(os.path.join('..', '..'))  # Adjust the dots as needed\n",
    "print(module_path)\n",
    "if module_path not in sys.path:\n",
    "    sys.path.append(module_path)\n",
    "\n",
    "if os.path.exists(\"./app/config/logs\") == False:\n",
    "    os.makedirs(\"./app/config/logs\")"
   ]
  },
  {
   "cell_type": "code",
   "execution_count": null,
   "metadata": {},
   "outputs": [],
   "source": [
    "from app.core.main_studio import app\n",
    "\n",
    "\n",
    "# Target function for running the relevant step\n",
    "async def run_validator_classifier(input: dict) -> dict:\n",
    "\n",
    "    query = \"\"\n",
    "    \n",
    "    try:\n",
    "        async for event in app.nodes['Sparql_query_runner'].astream_events(input,version=\"v1\"):\n",
    "            if (event[\"event\"] == \"on_tool_end\" and event[\"name\"] == \"SPARQL_QUERY_RUNNER\"):\n",
    "                try:\n",
    "                    # print(f\"The Event is: | {event} |\")\n",
    "                    # print(f\"The generated query is: | {event['data'][\"output\"][\"result\"][\"query\"]} |\" , flush=True)\n",
    "                    query = event['data'][\"output\"][\"result\"][\"query\"]\n",
    "                except:\n",
    "                    # print(\"\\n\\nAn error was raised\\n\\n\")\n",
    "                    pass\n",
    "            # print(event)\n",
    "    except:\n",
    "        pass\n",
    "\n",
    "    return {\"query\": query}"
   ]
  },
  {
   "cell_type": "code",
   "execution_count": null,
   "metadata": {},
   "outputs": [],
   "source": [
    "from rdflib.plugins.sparql.algebra import translateQuery\n",
    "from rdflib.plugins.sparql.parser import parseQuery\n",
    "\n",
    "def verify_query(query) -> bool:\n",
    "    \n",
    "    try:\n",
    "        translateQuery(parseQuery(query))\n",
    "    except Exception as e:\n",
    "        return False\n",
    "\n",
    "    return True"
   ]
  },
  {
   "cell_type": "code",
   "execution_count": null,
   "metadata": {},
   "outputs": [],
   "source": [
    "# Evaluator\n",
    "def correct(outputs: dict, reference_outputs: dict) -> bool:\n",
    "    \"\"\"Check if the agent generated a correct query.\"\"\"\n",
    "    return verify_query(outputs[\"query\"]) "
   ]
  },
  {
   "cell_type": "code",
   "execution_count": null,
   "metadata": {},
   "outputs": [],
   "source": [
    "# Run evaluation\n",
    "experiment_results = await client.aevaluate(\n",
    "    run_validator_classifier,\n",
    "    data=dataset.name,\n",
    "    evaluators=[correct],\n",
    "    experiment_prefix=\"kgbot-single-sparql-hf-llama3.3:70b\",\n",
    "    max_concurrency=4,\n",
    ")\n",
    "experiment_results.to_pandas()"
   ]
  },
  {
   "cell_type": "markdown",
   "metadata": {},
   "source": [
    "# Local Testing"
   ]
  },
  {
   "cell_type": "code",
   "execution_count": null,
   "metadata": {},
   "outputs": [],
   "source": [
    "examples_it = client.list_examples(dataset_name=\"KGBot Evaluation: SPARQL Generation Step\")\n",
    "examples = []\n",
    "for ex in examples_it:\n",
    "    examples.append(ex)"
   ]
  },
  {
   "cell_type": "code",
   "execution_count": null,
   "metadata": {},
   "outputs": [],
   "source": [
    "examples[42].inputs"
   ]
  },
  {
   "cell_type": "code",
   "execution_count": null,
   "metadata": {},
   "outputs": [],
   "source": [
    "result = await run_validator_classifier(examples[42].inputs)"
   ]
  },
  {
   "cell_type": "code",
   "execution_count": null,
   "metadata": {},
   "outputs": [],
   "source": [
    "count = 0\n",
    "for ex in examples[:3]:\n",
    "    try:\n",
    "        result = await run_validator_classifier(ex.inputs)\n",
    "        if [\"query\"] != \"\":\n",
    "            count +=1\n",
    "    except:\n",
    "        pass"
   ]
  },
  {
   "cell_type": "code",
   "execution_count": null,
   "metadata": {},
   "outputs": [],
   "source": [
    "count"
   ]
  }
 ],
 "metadata": {
  "kernelspec": {
   "display_name": "kgbot",
   "language": "python",
   "name": "python3"
  },
  "language_info": {
   "codemirror_mode": {
    "name": "ipython",
    "version": 3
   },
   "file_extension": ".py",
   "mimetype": "text/x-python",
   "name": "python",
   "nbconvert_exporter": "python",
   "pygments_lexer": "ipython3",
   "version": "3.13.0"
  }
 },
 "nbformat": 4,
 "nbformat_minor": 2
}
