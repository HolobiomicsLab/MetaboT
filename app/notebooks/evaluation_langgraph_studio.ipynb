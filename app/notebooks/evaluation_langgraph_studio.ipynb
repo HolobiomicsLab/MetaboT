{
 "cells": [
  {
   "cell_type": "markdown",
   "metadata": {
    "vscode": {
     "languageId": "plaintext"
    }
   },
   "source": [
    "# Evaluating Trajectory"
   ]
  },
  {
   "cell_type": "code",
   "execution_count": 1,
   "metadata": {},
   "outputs": [],
   "source": [
    "from dotenv import load_dotenv\n",
    "\n",
    "\n",
    "import os\n",
    "from langsmith import Client\n",
    "from langchain_core.messages import BaseMessage, HumanMessage\n",
    "from langgraph.graph import StateGraph\n",
    "# Load environment variables\n",
    "load_dotenv()\n",
    "\n",
    "\n",
    "# Set environment variables\n",
    "os.environ[\"LANGCHAIN_TRACING_V2\"] = \"true\"\n",
    "os.environ[\"LANGCHAIN_PROJECT\"] = (\n",
    "        f\"KGBot Testing - problematic queries\"  # Please update the name here if you want to create a new project for separating the traces.\n",
    "    )\n",
    "os.environ[\"LANGCHAIN_ENDPOINT\"] = \"https://api.smith.langchain.com\"\n"
   ]
  },
  {
   "cell_type": "code",
   "execution_count": 2,
   "metadata": {},
   "outputs": [],
   "source": [
    "client = Client()"
   ]
  },
  {
   "cell_type": "code",
   "execution_count": 3,
   "metadata": {},
   "outputs": [
    {
     "name": "stdout",
     "output_type": "stream",
     "text": [
      "name='Toxicity Analysis' description='Analyze how toxic these statements are' data_type=<DataType.kv: 'kv'> id=UUID('310d304f-0699-44e4-8157-fb34cd816868') created_at=datetime.datetime(2025, 1, 8, 11, 6, 18, 940464, tzinfo=datetime.timezone.utc) modified_at=datetime.datetime(2025, 1, 8, 11, 6, 18, 940464, tzinfo=datetime.timezone.utc) example_count=9 session_count=2 last_session_start_time=datetime.datetime(2025, 1, 8, 12, 8, 12, 643327) inputs_schema={'type': 'object', 'title': 'dataset_input_schema', 'required': ['statement'], 'properties': {'statement': {'type': 'string'}}} outputs_schema={'type': 'object', 'title': 'dataset_output_schema', 'required': ['class'], 'properties': {'class': {'type': 'string'}}} transformations=None\n",
      "name='Meeting Transcripts' description='A dataset of meeting transcripts' data_type=<DataType.kv: 'kv'> id=UUID('2d7e36e5-6c54-4694-962c-8344163058f0') created_at=datetime.datetime(2025, 1, 8, 10, 5, 37, 384802, tzinfo=datetime.timezone.utc) modified_at=datetime.datetime(2025, 1, 8, 10, 5, 37, 384802, tzinfo=datetime.timezone.utc) example_count=5 session_count=6 last_session_start_time=datetime.datetime(2025, 1, 8, 10, 40, 3, 254907) inputs_schema={'type': 'object', 'title': 'dataset_input_schema', 'required': ['transcript'], 'properties': {'transcript': {'type': 'string'}}} outputs_schema={'type': 'object', 'title': 'dataset_output_schema', 'required': [], 'properties': {}} transformations=None\n",
      "name='RAG Application Golden Dataset' description='' data_type=<DataType.kv: 'kv'> id=UUID('ce9e7fad-56bd-4c11-a999-6546ab6fddc2') created_at=datetime.datetime(2025, 1, 7, 15, 32, 3, 445769, tzinfo=datetime.timezone.utc) modified_at=datetime.datetime(2025, 1, 7, 15, 48, 3, 637658, tzinfo=datetime.timezone.utc) example_count=10 session_count=2 last_session_start_time=datetime.datetime(2025, 1, 8, 9, 52, 43, 906822) inputs_schema={'type': 'object', 'title': 'dataset_input_schema', 'required': ['question'], 'properties': {'question': {'type': 'string'}}} outputs_schema={'type': 'object', 'title': 'dataset_output_schema', 'required': ['output'], 'properties': {'output': {'type': 'string'}}} transformations=None\n",
      "name='kgbot-rag' description='' data_type=<DataType.kv: 'kv'> id=UUID('ec7189cd-c9f8-4102-bd7d-f4b123e94545') created_at=datetime.datetime(2024, 12, 24, 15, 27, 43, 1747, tzinfo=datetime.timezone.utc) modified_at=datetime.datetime(2024, 12, 24, 15, 27, 43, 1747, tzinfo=datetime.timezone.utc) example_count=5 session_count=0 last_session_start_time=None inputs_schema={'type': 'object', 'title': 'dataset_input_schema', 'required': [], 'properties': {}} outputs_schema={'type': 'object', 'title': 'dataset_output_schema', 'required': [], 'properties': {}} transformations=None\n"
     ]
    }
   ],
   "source": [
    "for d in client.list_datasets():\n",
    "    print(d)"
   ]
  },
  {
   "cell_type": "code",
   "execution_count": null,
   "metadata": {},
   "outputs": [],
   "source": [
    "dataset = client. read_dataset(dataset_name=\"benchmark_langgraph_studio\")\n",
    "dataset.example_count"
   ]
  },
  {
   "cell_type": "code",
   "execution_count": 9,
   "metadata": {},
   "outputs": [
    {
     "data": {
      "text/plain": [
       "50"
      ]
     },
     "execution_count": 9,
     "metadata": {},
     "output_type": "execute_result"
    }
   ],
   "source": [
    "dataset = client.read_shared_dataset(\"206cb644-3dd4-4713-878b-cd1ae980c103\")\n",
    "dataset.example_count"
   ]
  },
  {
   "cell_type": "code",
   "execution_count": 4,
   "metadata": {},
   "outputs": [
    {
     "data": {
      "text/plain": [
       "10"
      ]
     },
     "execution_count": 4,
     "metadata": {},
     "output_type": "execute_result"
    }
   ],
   "source": [
    "dataset = client.read_shared_dataset(\"9e9edf3b-1584-481d-9756-1453cad4b24b\")\n",
    "dataset.example_count"
   ]
  },
  {
   "cell_type": "code",
   "execution_count": 6,
   "metadata": {},
   "outputs": [],
   "source": [
    "dataset_test = client.clone_public_dataset(token_or_url=\"9e9edf3b-1584-481d-9756-1453cad4b24b\",dataset_name=\"benchmark_langgraph_studio\")"
   ]
  },
  {
   "cell_type": "code",
   "execution_count": 12,
   "metadata": {},
   "outputs": [
    {
     "data": {
      "text/plain": [
       "<generator object Client.list_examples at 0x708df40976e0>"
      ]
     },
     "execution_count": 12,
     "metadata": {},
     "output_type": "execute_result"
    }
   ],
   "source": [
    "examples = client.list_examples(dataset_id=\"9e9edf3b-1584-481d-9756-1453cad4b24b\")\n",
    "examples"
   ]
  },
  {
   "cell_type": "code",
   "execution_count": 11,
   "metadata": {},
   "outputs": [
    {
     "name": "stdout",
     "output_type": "stream",
     "text": [
      "0\n"
     ]
    }
   ],
   "source": [
    "count = 0 \n",
    "for e in examples:\n",
    "    count += 1\n",
    "\n",
    "print(count)"
   ]
  },
  {
   "cell_type": "code",
   "execution_count": null,
   "metadata": {},
   "outputs": [],
   "source": [
    "client.create_dataset(dataset_name=dataset.name)\n",
    "\n",
    "dataset_name = dataset.name\n",
    "if not client.has_dataset(dataset_name=dataset.name):\n",
    "    dataset = client.create_dataset(dataset_name=dataset.name)\n",
    "    client.create_examples(\n",
    "        inputs = [{\"messages\": ex[\"messages\"]} for ex in examples],\n",
    "        outputs = [{\"route\": ex[\"route\"]} for ex in examples],\n",
    "        dataset_id=dataset.id\n",
    "    )\n"
   ]
  },
  {
   "cell_type": "code",
   "execution_count": 3,
   "metadata": {},
   "outputs": [],
   "source": [
    "from langsmith import Client\n",
    "\n",
    "\n",
    "client = Client()\n",
    "dataset_test = client.clone_public_dataset(token_or_url=\"https://smith.langchain.com/public/8e740ebf-b462-4fa7-8a76-af55abd47a56/d\")"
   ]
  }
 ],
 "metadata": {
  "kernelspec": {
   "display_name": "kgbot",
   "language": "python",
   "name": "python3"
  },
  "language_info": {
   "codemirror_mode": {
    "name": "ipython",
    "version": 3
   },
   "file_extension": ".py",
   "mimetype": "text/x-python",
   "name": "python",
   "nbconvert_exporter": "python",
   "pygments_lexer": "ipython3",
   "version": "3.13.0"
  }
 },
 "nbformat": 4,
 "nbformat_minor": 2
}
