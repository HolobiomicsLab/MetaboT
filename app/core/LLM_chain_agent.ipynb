{
 "cells": [
  {
   "cell_type": "code",
   "execution_count": 14,
   "metadata": {
    "ExecuteTime": {
     "end_time": "2024-03-26T14:25:49.535807Z",
     "start_time": "2024-03-26T14:25:49.522979Z"
    }
   },
   "outputs": [
    {
     "data": {
      "text/plain": "True"
     },
     "execution_count": 14,
     "metadata": {},
     "output_type": "execute_result"
    }
   ],
   "source": [
    "from dotenv import load_dotenv\n",
    "import os\n",
    "\n",
    "# Load the environment variables from the .env file\n",
    "load_dotenv()"
   ]
  },
  {
   "cell_type": "code",
   "execution_count": 15,
   "metadata": {
    "ExecuteTime": {
     "end_time": "2024-03-26T14:25:50.185036Z",
     "start_time": "2024-03-26T14:25:50.177515Z"
    }
   },
   "outputs": [
    {
     "name": "stdout",
     "output_type": "stream",
     "text": [
      "Client (API URL: https://api.smith.langchain.com)\n"
     ]
    }
   ],
   "source": [
    "# #Setting up the LangSmith\n",
    "# #For now, all runs will be stored in the \"KGBot Testing - GPT4\"\n",
    "# #If you want to separate the traces to have a better control of specific traces.\n",
    "# #Metadata as llm version and temperature can be obtained from traces.\n",
    "os.environ[\"LANGCHAIN_TRACING_V2\"] = \"true\"\n",
    "os.environ[\"LANGCHAIN_PROJECT\"] = (\n",
    "    f\"KGBot Testing - Interpreter_agent\"  # Please update the name here if you want to create a new project for separating the traces.\n",
    ")\n",
    "os.environ[\"LANGCHAIN_ENDPOINT\"] = \"https://api.smith.langchain.com\"\n",
    "from langsmith import Client\n",
    "\n",
    "client = Client()\n",
    "\n",
    "# #Check if the client was initialized\n",
    "print(client)"
   ]
  },
  {
   "cell_type": "code",
   "execution_count": 16,
   "metadata": {
    "ExecuteTime": {
     "end_time": "2024-03-26T14:25:50.953395Z",
     "start_time": "2024-03-26T14:25:50.948521Z"
    }
   },
   "outputs": [],
   "source": [
    "# langchain imports for agent and prompt handling\n",
    "from langchain.agents import Tool, AgentExecutor, LLMSingleActionAgent, AgentOutputParser \n",
    "from langchain.prompts import BaseChatPromptTemplate\n",
    "from langchain.utilities import SerpAPIWrapper\n",
    "from langchain.chains.llm import LLMChain\n",
    "from langchain_openai import ChatOpenAI\n",
    "from langchain.agents import create_openai_tools_agent\n",
    "from langchain import hub\n",
    "\n",
    "# langgraph imports for prebuilt tool invocation\n",
    "from langgraph.prebuilt import ToolInvocation\n",
    "from langgraph.graph import StateGraph, END\n",
    "\n",
    "# langchain_core imports for message handling and action schema\n",
    "from langchain_core.messages import BaseMessage, HumanMessage, FunctionMessage\n",
    "from langchain_core.prompts import ChatPromptTemplate, MessagesPlaceholder \n",
    "from langchain.schema import AgentAction, AgentFinish, HumanMessage\n",
    "\n",
    "# langchain output parser for OpenAI functions\n",
    "from langchain.output_parsers.openai_functions import JsonOutputFunctionsParser\n",
    "from codeinterpreterapi import CodeInterpreterSession, File\n",
    "# typing imports for type hinting\n",
    "from typing import Annotated, List, Tuple, Union,  Any, Dict, Optional, Sequence, TypedDict\n",
    "import operator\n",
    "import functools\n",
    "\n",
    "# Standard library imports for JSON and regular expressions\n",
    "import json\n",
    "import re\n",
    "from importlib import reload\n",
    "import sparql  \n",
    "reload(sparql)\n",
    "# Custom imports for RDF graph manipulation and chemical, target, taxon, and SPARQL resolution\n",
    "from RdfGraphCustom import RdfGraph\n",
    "from smile_resolver import smiles_to_inchikey\n",
    "from chemical_resolver import ChemicalResolver\n",
    "from target_resolver import target_name_to_target_id\n",
    "from taxon_resolver import TaxonResolver\n",
    "from sparql import GraphSparqlQAChain\n",
    "\n",
    "# langchain pydantic for base model definitions\n",
    "from langchain.pydantic_v1 import BaseModel, Field\n",
    "\n",
    "# langchain tools for base, structured tool definitions, and tool decorators\n",
    "from langchain.tools import BaseTool, StructuredTool, tool\n",
    "\n",
    "# Standard library import for object serialization\n",
    "import pickle\n",
    "\n",
    "import sys\n",
    "import logging\n",
    "\n",
    "\n",
    "\n"
   ]
  },
  {
   "cell_type": "code",
   "execution_count": 17,
   "metadata": {
    "ExecuteTime": {
     "end_time": "2024-03-26T14:26:03.720133Z",
     "start_time": "2024-03-26T14:25:51.631193Z"
    }
   },
   "outputs": [
    {
     "name": "stderr",
     "output_type": "stream",
     "text": [
      "2024-03-26 15:25:51,630 - INFO - query \n",
      "    SELECT DISTINCT ?cls ?com ?label\n",
      "        WHERE {\n",
      "            ?cls a rdfs:Class . \n",
      "            OPTIONAL { ?cls rdfs:comment ?com }\n",
      "            OPTIONAL { ?cls rdfs:label ?label }\n",
      "        }\n",
      "        GROUP BY ?cls ?com ?label\n",
      "    \n",
      "Adding classes to graph: 100%|██████████| 50/50 [00:11<00:00,  4.18it/s]\n",
      "2024-03-26 15:26:03,709 - INFO - namespaces [('brick', 'https://brickschema.org/schema/Brick#'), ('csvw', 'http://www.w3.org/ns/csvw#'), ('dc', 'http://purl.org/dc/elements/1.1/'), ('dcat', 'http://www.w3.org/ns/dcat#'), ('dcmitype', 'http://purl.org/dc/dcmitype/'), ('dcterms', 'http://purl.org/dc/terms/'), ('dcam', 'http://purl.org/dc/dcam/'), ('doap', 'http://usefulinc.com/ns/doap#'), ('foaf', 'http://xmlns.com/foaf/0.1/'), ('geo', 'http://www.opengis.net/ont/geosparql#'), ('odrl', 'http://www.w3.org/ns/odrl/2/'), ('org', 'http://www.w3.org/ns/org#'), ('prof', 'http://www.w3.org/ns/dx/prof/'), ('prov', 'http://www.w3.org/ns/prov#'), ('qb', 'http://purl.org/linked-data/cube#'), ('schema', 'https://schema.org/'), ('sh', 'http://www.w3.org/ns/shacl#'), ('skos', 'http://www.w3.org/2004/02/skos/core#'), ('sosa', 'http://www.w3.org/ns/sosa/'), ('ssn', 'http://www.w3.org/ns/ssn/'), ('time', 'http://www.w3.org/2006/time#'), ('vann', 'http://purl.org/vocab/vann/'), ('void', 'http://rdfs.org/ns/void#'), ('wgs', 'https://www.w3.org/2003/01/geo/wgs84_pos#'), ('owl', 'http://www.w3.org/2002/07/owl#'), ('rdf', 'http://www.w3.org/1999/02/22-rdf-syntax-ns#'), ('rdfs', 'http://www.w3.org/2000/01/rdf-schema#'), ('xsd', 'http://www.w3.org/2001/XMLSchema#'), ('xml', 'http://www.w3.org/XML/1998/namespace'), ('ns1', 'https://enpkg.commons-lab.org/module/'), ('ns2', 'https://enpkg.commons-lab.org/kg/')]\n",
      "2024-03-26 15:26:03,713 - INFO - number of tokens 5893\n"
     ]
    },
    {
     "name": "stdout",
     "output_type": "stream",
     "text": [
      "The namespace prefixes are: [('brick', 'https://brickschema.org/schema/Brick#'), ('csvw', 'http://www.w3.org/ns/csvw#'), ('dc', 'http://purl.org/dc/elements/1.1/'), ('dcat', 'http://www.w3.org/ns/dcat#'), ('dcmitype', 'http://purl.org/dc/dcmitype/'), ('dcterms', 'http://purl.org/dc/terms/'), ('dcam', 'http://purl.org/dc/dcam/'), ('doap', 'http://usefulinc.com/ns/doap#'), ('foaf', 'http://xmlns.com/foaf/0.1/'), ('geo', 'http://www.opengis.net/ont/geosparql#'), ('odrl', 'http://www.w3.org/ns/odrl/2/'), ('org', 'http://www.w3.org/ns/org#'), ('prof', 'http://www.w3.org/ns/dx/prof/'), ('prov', 'http://www.w3.org/ns/prov#'), ('qb', 'http://purl.org/linked-data/cube#'), ('schema', 'https://schema.org/'), ('sh', 'http://www.w3.org/ns/shacl#'), ('skos', 'http://www.w3.org/2004/02/skos/core#'), ('sosa', 'http://www.w3.org/ns/sosa/'), ('ssn', 'http://www.w3.org/ns/ssn/'), ('time', 'http://www.w3.org/2006/time#'), ('vann', 'http://purl.org/vocab/vann/'), ('void', 'http://rdfs.org/ns/void#'), ('wgs', 'https://www.w3.org/2003/01/geo/wgs84_pos#'), ('owl', 'http://www.w3.org/2002/07/owl#'), ('rdf', 'http://www.w3.org/1999/02/22-rdf-syntax-ns#'), ('rdfs', 'http://www.w3.org/2000/01/rdf-schema#'), ('xsd', 'http://www.w3.org/2001/XMLSchema#'), ('xml', 'http://www.w3.org/XML/1998/namespace'), ('ns1', 'https://enpkg.commons-lab.org/module/'), ('ns2', 'https://enpkg.commons-lab.org/kg/')]\n",
      "In the following, each URI is followed by the local name and optionally its rdfs:Label, and optionally its rdfs:comment. \n",
      "The RDF graph supports the following node types:\n",
      "<rdf:XMLLiteral> (XMLLiteral, , ), <xsd:nonNegativeInteger> (nonNegativeInteger, , ), <xsd:string> (string, , ), <ns2:RawMaterial> (RawMaterial, A RawMaterial, A raw laboratory biological material, i.e. before extraction), <ns2:LFpair> (LFpair, pair of LCMSFeature, A pair of 2 LCMSFeature), <ns2:WDChemical> (WDChemical, Cross-reference to a chemical entity in Wikidata, Cross-reference to a chemical entity in Wikidata), <ns2:WDTaxon> (WDTaxon, Cross-reference to a taxon in Wikidata, Cross-reference to a taxon in Wikidata), <ns2:InChIkey2D> (InChIkey2D, 2D InChIKey, The first 14 characters of an InChIKey, often returned by MS-based annotation tools), <ns2:InChIkey> (InChIkey, InChIKey, A chemical structure represented by its InChIKey), <ns2:LabExtract> (LabExtract, A LabExtract, A natural extract obtained from the processing of a RawMaterial), <ns2:LCMSAnalysisPos> (LCMSAnalysisPos, Pos LCMS analysis, An LCMS analysis in positive ionization mode (pos)), <ns2:LCMSFeatureList> (LCMSFeatureList, Feature list, A list of LCMS features obtained from the processing of a given LCMS analysis), <ns2:SiriusCanopusAnnotation> (SiriusCanopusAnnotation, CANOPUS chemical class annotation, A spectrum chemical class annotation by SIRIUS-CANOPUS), <ns2:LCMSFeature> (LCMSFeature, LCMS individual MS2 spectrum, An LCMS feature from a processed LCMS analysis), <ns2:Spec2VecLoss> (Spec2VecLoss, A Spec2VecLoss, A Spec2VecLoss that partly characterizes an MS2Spectrum), <ns2:NPCClass> (NPCClass, NPCClass, A NPClassifier (NPC) chemical class), <ns2:NPCSuperclass> (NPCSuperclass, NPCSuperclass, A NPClassifier (NPC) chemical superclass), <ns2:Spec2VecPeak> (Spec2VecPeak, A Spec2VecPeak, A Spec2VecPeak that partly characterizes an MS2 spectrum), <ns2:SiriusStructureAnnotation> (SiriusStructureAnnotation, SIRIUS structural annotation, A spectrum structural annotation by SIRIUS), <ns2:Spec2VecDoc> (Spec2VecDoc, A Spec2VecDoc, An ensemble of Spec2VecPeak and Spec2VecLoss objects that characterizes an MS2Spectrum), <ns2:IsdbAnnotation> (IsdbAnnotation, ISDB structural annotation, A spectrum structural annotation by comparison with an in-silico spectral DB, coupled to chemical and taxonomical reweighting), <ns2:NPCPathway> (NPCPathway, NPCPathway, A NPClassifier (NPC) chemical pathway), <ns2:LCMSAnalysisNeg> (LCMSAnalysisNeg, Neg LCMS analysis, An LCMS analysis in negative ionization mode (neg)), <ns1:L610ugml> (L610ugml, L610ugml, A screening result at 10ug/mL from a phenotypic assay against L6 cells), <ns1:Ldono10ugml> (Ldono10ugml, Ldono10ugml, A screening result at 10ug/mL from a phenotypic assay against L.donovani), <ns1:Ldono2ugml> (Ldono2ugml, Ldono2ugml, A screening result at 2ug/mL from a phenotypic assay against L.donovani), <ns1:Tbrucei10ugml> (Tbrucei10ugml, Tbrucei10ugml, A screening result at 10ug/mL from a phenotypic assay against T.brucei rhodesiense), <ns1:Tbrucei2ugml> (Tbrucei2ugml, Tbrucei2ugml, A screening result at 2ug/mL from a phenotypic assay against T.brucei rhodesiense), <ns1:Tcruzi10ugml> (Tcruzi10ugml, Tcruzi10ugml, A screening result at 10ug/mL from a phenotypic assay against T.cruzi), <ns1:ChEMBLTarget> (ChEMBLTarget, A ChEMBL target, A ChEMBL target), <ns2:LabBlank> (LabBlank, A LabBlank, A blank sample), <ns2:LabQc> (LabQc, A LabQc, A quality control (QC) sample), <ns1:ChEMBLAssayResults> (ChEMBLAssayResults, A ChEMBL assay result, A ChEMBL assay result), <ns1:ChEMBLAssay> (ChEMBLAssay, A ChEMBL assay, A ChEMBL assay), <ns1:ChEMBLChemical> (ChEMBLChemical, A ChEMBL chemical, A ChEMBL chemical), <ns1:ChEMBLDocument> (ChEMBLDocument, A ChEMBL document, A ChEMBL document), <ns2:LabObject> (LabObject, A LabObject, An object that correspond to a physical laboratory object), <ns2:BioAssayResults> (BioAssayResults, A bioassay result, An object to store bioactivity results), <ns2:MS2Spectrum> (MS2Spectrum, MS2 spectrum, A fragmentation mass spectrometry (or MS2) spectrum), <ns2:LCMSAnalysis> (LCMSAnalysis, LCMS analysis, An LCMS analysis in a given ionization mode (pos or neg)), <ns2:Annotation> (Annotation, Spectrum annotation, A spectral annotation), <ns2:GNPSAnnotation> (GNPSAnnotation, GNPS structural annotation, A spectrum structural annotation by GNPS), <ns2:SpectralPair> (SpectralPair, pair of MS2Spectra, A pair of 2 MS2Spectra), <ns2:ChemicalEntity> (ChemicalEntity, chemical entity, ), <ns2:ChemicalEntity> (ChemicalEntity, A chemical entity (chemical structure or class), ), <ns2:ChemicalTaxonomy> (ChemicalTaxonomy, chemical taxonomy, ), <ns2:ChemicalTaxonomy> (ChemicalTaxonomy, A chemical taxonmy (chemical class), ), <ns2:XRef> (XRef, Any cross-reference, Any cross-reference), <ns2:spec2vec> (spec2vec, A spec2vec-related object, A spec2vec-related object), <ns1:SwissTPHBioAssay> (SwissTPHBioAssay, SwissTPHBioAssay, A bioasay result from Swiss Tropical and Public Health Institute (sTPH))\n",
      "The RDF graph have the following schema:\n",
      "@prefix ns1: <https://enpkg.commons-lab.org/module/> .\n",
      "@prefix ns2: <https://enpkg.commons-lab.org/kg/> .\n",
      "@prefix rdfs: <http://www.w3.org/2000/01/rdf-schema#> .\n",
      "@prefix xsd: <http://www.w3.org/2001/XMLSchema#> .\n",
      "\n",
      "ns2:LFpair ns2:has_cosine xsd:float ;\n",
      "    ns2:has_mass_difference xsd:float ;\n",
      "    ns2:has_member ns2:LCMSFeature,\n",
      "        ns2:MS2Spectrum ;\n",
      "    ns2:has_mn_params [ ] .\n",
      "\n",
      "ns2:LabBlank rdfs:label xsd:string ;\n",
      "    ns2:has_LCMS ns2:LCMSAnalysis,\n",
      "        ns2:LCMSAnalysisNeg .\n",
      "\n",
      "ns2:LabQc rdfs:label xsd:string ;\n",
      "    ns2:has_LCMS ns2:LCMSAnalysis,\n",
      "        ns2:LCMSAnalysisNeg .\n",
      "\n",
      "ns2:RawMaterial ns2:has_LCMS xsd:string,\n",
      "        ns2:WDTaxon,\n",
      "        ns2:XRef ;\n",
      "    ns2:has_lab_process ns2:LabExtract,\n",
      "        ns2:LabObject ;\n",
      "    ns2:has_lcms_feature_list xsd:string,\n",
      "        ns2:LabExtract,\n",
      "        ns2:LabObject,\n",
      "        ns2:WDTaxon,\n",
      "        ns2:XRef ;\n",
      "    ns2:has_sirius_annotation xsd:string,\n",
      "        ns2:LabExtract,\n",
      "        ns2:LabObject,\n",
      "        ns2:WDTaxon,\n",
      "        ns2:XRef ;\n",
      "    ns2:has_unresolved_taxon [ ] ;\n",
      "    ns2:has_wd_id ns2:WDTaxon,\n",
      "        ns2:XRef ;\n",
      "    ns2:submitted_taxon xsd:string ;\n",
      "    ns1:has_broad_organe [ ] ;\n",
      "    ns1:has_organe [ ] ;\n",
      "    ns1:has_subsystem [ ] ;\n",
      "    ns1:has_tissue [ ] .\n",
      "\n",
      "ns2:SpectralPair ns2:has_cosine xsd:float ;\n",
      "    ns2:has_mass_difference xsd:float ;\n",
      "    ns2:has_member ns2:LCMSFeature,\n",
      "        ns2:MS2Spectrum ;\n",
      "    ns2:has_mn_params [ ] .\n",
      "\n",
      "ns2:ChemicalEntity ns2:has_npc_class ns2:ChemicalTaxonomy,\n",
      "        ns2:NPCClass,\n",
      "        ns2:NPCPathway,\n",
      "        ns2:NPCSuperclass ;\n",
      "    ns2:has_npc_pathway ns2:ChemicalTaxonomy,\n",
      "        ns2:NPCClass,\n",
      "        ns2:NPCPathway,\n",
      "        ns2:NPCSuperclass ;\n",
      "    ns2:has_npc_superclass ns2:ChemicalTaxonomy,\n",
      "        ns2:NPCClass,\n",
      "        ns2:NPCPathway,\n",
      "        ns2:NPCSuperclass ;\n",
      "    ns2:has_smiles xsd:string ;\n",
      "    ns2:has_wd_id ns2:WDChemical,\n",
      "        ns2:XRef ;\n",
      "    ns1:has_chembl_id ns2:XRef,\n",
      "        ns1:ChEMBLChemical .\n",
      "\n",
      "ns2:InChIkey ns2:has_npc_class ns2:ChemicalTaxonomy,\n",
      "        ns2:NPCClass,\n",
      "        ns2:NPCPathway,\n",
      "        ns2:NPCSuperclass ;\n",
      "    ns2:has_npc_pathway ns2:ChemicalTaxonomy,\n",
      "        ns2:NPCClass,\n",
      "        ns2:NPCPathway,\n",
      "        ns2:NPCSuperclass ;\n",
      "    ns2:has_npc_superclass ns2:ChemicalTaxonomy,\n",
      "        ns2:NPCClass,\n",
      "        ns2:NPCPathway,\n",
      "        ns2:NPCSuperclass ;\n",
      "    ns2:has_smiles xsd:string ;\n",
      "    ns2:has_wd_id ns2:WDChemical,\n",
      "        ns2:XRef ;\n",
      "    ns1:has_chembl_id ns2:XRef,\n",
      "        ns1:ChEMBLChemical .\n",
      "\n",
      "ns1:ChEMBLAssayResults rdfs:label xsd:string ;\n",
      "    ns1:activity_relation xsd:string ;\n",
      "    ns1:activity_type xsd:string ;\n",
      "    ns1:activity_unit xsd:string ;\n",
      "    ns1:activity_value xsd:float ;\n",
      "    ns1:assay_id ns2:XRef,\n",
      "        ns1:ChEMBLAssay ;\n",
      "    ns1:stated_in_document ns2:XRef,\n",
      "        ns1:ChEMBLDocument ;\n",
      "    ns1:target_id ns2:XRef,\n",
      "        ns1:ChEMBLTarget ;\n",
      "    ns1:target_name xsd:string .\n",
      "\n",
      "ns1:ChEMBLDocument ns1:journal_name xsd:string .\n",
      "\n",
      "ns2:BioAssayResults rdfs:label xsd:string ;\n",
      "    ns1:inhibition_percentage xsd:float ;\n",
      "    ns1:target_id ns2:XRef,\n",
      "        ns1:ChEMBLTarget .\n",
      "\n",
      "ns2:SiriusCanopusAnnotation rdfs:label xsd:string ;\n",
      "    ns2:has_canopus_npc_class ns2:ChemicalTaxonomy,\n",
      "        ns2:NPCClass ;\n",
      "    ns2:has_canopus_npc_class_prob xsd:float ;\n",
      "    ns2:has_canopus_npc_pathway ns2:ChemicalTaxonomy,\n",
      "        ns2:NPCPathway ;\n",
      "    ns2:has_canopus_npc_pathway_prob xsd:float ;\n",
      "    ns2:has_canopus_npc_superclass ns2:ChemicalTaxonomy,\n",
      "        ns2:NPCSuperclass ;\n",
      "    ns2:has_canopus_npc_superclass_prob xsd:float .\n",
      "\n",
      "ns2:SiriusStructureAnnotation rdfs:label xsd:string ;\n",
      "    ns2:has_InChIkey2D ns2:InChIkey2D ;\n",
      "    ns2:has_cosmic_score xsd:float ;\n",
      "    ns2:has_ionization xsd:string ;\n",
      "    ns2:has_sirius_adduct xsd:string ;\n",
      "    ns2:has_sirius_score xsd:float ;\n",
      "    ns2:has_zodiac_score xsd:float .\n",
      "\n",
      "ns2:Spec2VecDoc rdfs:label xsd:string ;\n",
      "    ns2:has_spec2vec_loss ns2:Spec2VecLoss,\n",
      "        ns2:spec2vec ;\n",
      "    ns2:has_spec2vec_peak ns2:Spec2VecPeak,\n",
      "        ns2:spec2vec .\n",
      "\n",
      "ns2:Spec2VecLoss rdfs:label xsd:string ;\n",
      "    ns2:has_value xsd:float .\n",
      "\n",
      "ns2:Spec2VecPeak rdfs:label xsd:string ;\n",
      "    ns2:has_value xsd:float .\n",
      "\n",
      "ns1:ChEMBLChemical ns1:has_chembl_activity ns2:XRef,\n",
      "        ns1:ChEMBLAssayResults .\n",
      "\n",
      "ns1:L610ugml rdfs:label xsd:string ;\n",
      "    ns1:inhibition_percentage xsd:float .\n",
      "\n",
      "ns1:Ldono10ugml rdfs:label xsd:string ;\n",
      "    ns1:inhibition_percentage xsd:float ;\n",
      "    ns1:target_id ns2:XRef,\n",
      "        ns1:ChEMBLTarget .\n",
      "\n",
      "ns1:Ldono2ugml rdfs:label xsd:string ;\n",
      "    ns1:inhibition_percentage xsd:float ;\n",
      "    ns1:target_id ns2:XRef,\n",
      "        ns1:ChEMBLTarget .\n",
      "\n",
      "ns1:SwissTPHBioAssay rdfs:label xsd:string ;\n",
      "    ns1:inhibition_percentage xsd:float ;\n",
      "    ns1:target_id ns2:XRef,\n",
      "        ns1:ChEMBLTarget .\n",
      "\n",
      "ns1:Tbrucei10ugml rdfs:label xsd:string ;\n",
      "    ns1:inhibition_percentage xsd:float ;\n",
      "    ns1:target_id ns2:XRef,\n",
      "        ns1:ChEMBLTarget .\n",
      "\n",
      "ns1:Tbrucei2ugml rdfs:label xsd:string ;\n",
      "    ns1:inhibition_percentage xsd:float ;\n",
      "    ns1:target_id ns2:XRef,\n",
      "        ns1:ChEMBLTarget .\n",
      "\n",
      "ns1:Tcruzi10ugml rdfs:label xsd:string ;\n",
      "    ns1:inhibition_percentage xsd:float ;\n",
      "    ns1:target_id ns2:XRef,\n",
      "        ns1:ChEMBLTarget .\n",
      "\n",
      "ns2:InChIkey2D ns2:has_npc_class ns2:ChemicalTaxonomy,\n",
      "        ns2:NPCClass,\n",
      "        ns2:NPCPathway,\n",
      "        ns2:NPCSuperclass ;\n",
      "    ns2:has_npc_pathway ns2:ChemicalTaxonomy,\n",
      "        ns2:NPCClass,\n",
      "        ns2:NPCPathway,\n",
      "        ns2:NPCSuperclass ;\n",
      "    ns2:has_npc_superclass ns2:ChemicalTaxonomy,\n",
      "        ns2:NPCClass,\n",
      "        ns2:NPCPathway,\n",
      "        ns2:NPCSuperclass ;\n",
      "    ns2:has_smiles xsd:string ;\n",
      "    ns2:is_InChIkey2D_of ns2:ChemicalEntity,\n",
      "        ns2:InChIkey .\n",
      "\n",
      "ns2:LCMSFeature rdfs:label xsd:string ;\n",
      "    ns2:fast_search_gnpsdata_index_analog [ ] ;\n",
      "    ns2:fast_search_gnpsdata_index_no_analog [ ] ;\n",
      "    ns2:fast_search_gnpslibrary_analog [ ] ;\n",
      "    ns2:fast_search_gnpslibrary_no_analog [ ] ;\n",
      "    ns2:gnps_dashboard_view [ ] ;\n",
      "    ns2:has_canopus_annotation ns2:Annotation,\n",
      "        ns2:SiriusCanopusAnnotation ;\n",
      "    ns2:has_fbmn_ci [ ] ;\n",
      "    ns2:has_feature_area xsd:float ;\n",
      "    ns2:has_ionization xsd:string ;\n",
      "    ns2:has_isdb_annotation ns2:Annotation,\n",
      "        ns2:IsdbAnnotation ;\n",
      "    ns2:has_parent_mass xsd:float ;\n",
      "    ns2:has_raw_spectrum xsd:string ;\n",
      "    ns2:has_relative_feature_area xsd:float ;\n",
      "    ns2:has_retention_time xsd:float ;\n",
      "    ns2:has_row_id xsd:decimal ;\n",
      "    ns2:has_sirius_annotation ns2:Annotation,\n",
      "        ns2:IsdbAnnotation,\n",
      "        ns2:SiriusStructureAnnotation ;\n",
      "    ns2:has_spec2vec_doc ns2:Spec2VecDoc,\n",
      "        ns2:spec2vec ;\n",
      "    ns2:has_usi xsd:string .\n",
      "\n",
      "ns2:MS2Spectrum rdfs:label xsd:string ;\n",
      "    ns2:fast_search_gnpsdata_index_analog [ ] ;\n",
      "    ns2:fast_search_gnpsdata_index_no_analog [ ] ;\n",
      "    ns2:fast_search_gnpslibrary_analog [ ] ;\n",
      "    ns2:fast_search_gnpslibrary_no_analog [ ] ;\n",
      "    ns2:gnps_dashboard_view [ ] ;\n",
      "    ns2:has_canopus_annotation ns2:Annotation,\n",
      "        ns2:SiriusCanopusAnnotation ;\n",
      "    ns2:has_fbmn_ci [ ] ;\n",
      "    ns2:has_feature_area xsd:float ;\n",
      "    ns2:has_ionization xsd:string ;\n",
      "    ns2:has_isdb_annotation ns2:Annotation,\n",
      "        ns2:IsdbAnnotation ;\n",
      "    ns2:has_parent_mass xsd:float ;\n",
      "    ns2:has_raw_spectrum xsd:string ;\n",
      "    ns2:has_relative_feature_area xsd:float ;\n",
      "    ns2:has_retention_time xsd:float ;\n",
      "    ns2:has_row_id xsd:decimal ;\n",
      "    ns2:has_sirius_annotation ns2:Annotation,\n",
      "        ns2:IsdbAnnotation,\n",
      "        ns2:SiriusStructureAnnotation ;\n",
      "    ns2:has_spec2vec_doc ns2:Spec2VecDoc,\n",
      "        ns2:spec2vec ;\n",
      "    ns2:has_usi xsd:string .\n",
      "\n",
      "ns2:IsdbAnnotation rdfs:label xsd:string ;\n",
      "    ns2:has_InChIkey2D ns2:InChIkey2D ;\n",
      "    ns2:has_adduct xsd:string ;\n",
      "    ns2:has_consistency_score xsd:float ;\n",
      "    ns2:has_final_score xsd:float ;\n",
      "    ns2:has_spectral_score xsd:float ;\n",
      "    ns2:has_taxo_score xsd:float .\n",
      "\n",
      "ns2:LCMSAnalysisNeg ns2:has_gnpslcms_link [ ] ;\n",
      "    ns2:has_lcms_feature_list ns2:LCMSFeatureList ;\n",
      "    ns2:has_massive_doi [ ] ;\n",
      "    ns2:has_massive_license [ ] .\n",
      "\n",
      "ns2:LCMSFeatureList ns2:has_ionization xsd:string ;\n",
      "    ns2:has_lcms_feature ns2:LCMSFeature,\n",
      "        ns2:MS2Spectrum .\n",
      "\n",
      "ns2:Annotation rdfs:label xsd:string ;\n",
      "    ns2:has_InChIkey2D ns2:InChIkey2D ;\n",
      "    ns2:has_adduct xsd:string ;\n",
      "    ns2:has_canopus_npc_class ns2:ChemicalTaxonomy,\n",
      "        ns2:NPCClass ;\n",
      "    ns2:has_canopus_npc_class_prob xsd:float ;\n",
      "    ns2:has_canopus_npc_pathway ns2:ChemicalTaxonomy,\n",
      "        ns2:NPCPathway ;\n",
      "    ns2:has_canopus_npc_pathway_prob xsd:float ;\n",
      "    ns2:has_canopus_npc_superclass ns2:ChemicalTaxonomy,\n",
      "        ns2:NPCSuperclass ;\n",
      "    ns2:has_canopus_npc_superclass_prob xsd:float ;\n",
      "    ns2:has_consistency_score xsd:float ;\n",
      "    ns2:has_cosmic_score xsd:float ;\n",
      "    ns2:has_final_score xsd:float ;\n",
      "    ns2:has_ionization xsd:string ;\n",
      "    ns2:has_sirius_adduct xsd:string ;\n",
      "    ns2:has_sirius_score xsd:float ;\n",
      "    ns2:has_spectral_score xsd:float ;\n",
      "    ns2:has_taxo_score xsd:float ;\n",
      "    ns2:has_zodiac_score xsd:float .\n",
      "\n",
      "ns2:LCMSAnalysisPos ns2:has_gnpslcms_link [ ] ;\n",
      "    ns2:has_lcms_feature_list ns2:LCMSFeatureList ;\n",
      "    ns2:has_massive_doi [ ] ;\n",
      "    ns2:has_massive_license [ ] ;\n",
      "    ns2:has_sirius_annotation ns2:LCMSFeatureList .\n",
      "\n",
      "ns2:LabExtract rdfs:label xsd:string ;\n",
      "    ns2:has_LCMS ns2:LCMSAnalysis,\n",
      "        ns2:LCMSAnalysisNeg,\n",
      "        ns2:LCMSAnalysisPos ;\n",
      "    ns2:has_lcms_feature_list ns2:LCMSAnalysis,\n",
      "        ns2:LCMSAnalysisPos ;\n",
      "    ns2:has_sirius_annotation ns2:LCMSAnalysis,\n",
      "        ns2:LCMSAnalysisPos ;\n",
      "    ns1:has_bioassay_results ns2:BioAssayResults,\n",
      "        ns1:L610ugml,\n",
      "        ns1:Ldono10ugml,\n",
      "        ns1:Ldono2ugml,\n",
      "        ns1:SwissTPHBioAssay,\n",
      "        ns1:Tbrucei10ugml,\n",
      "        ns1:Tbrucei2ugml,\n",
      "        ns1:Tcruzi10ugml .\n",
      "\n",
      "ns2:LabObject rdfs:label xsd:string ;\n",
      "    ns2:has_LCMS xsd:string,\n",
      "        ns2:LCMSAnalysis,\n",
      "        ns2:LCMSAnalysisNeg,\n",
      "        ns2:LCMSAnalysisPos,\n",
      "        ns2:WDTaxon,\n",
      "        ns2:XRef ;\n",
      "    ns2:has_lab_process ns2:LabExtract,\n",
      "        ns2:LabObject ;\n",
      "    ns2:has_lcms_feature_list xsd:string,\n",
      "        ns2:LCMSAnalysis,\n",
      "        ns2:LCMSAnalysisPos,\n",
      "        ns2:LabExtract,\n",
      "        ns2:LabObject,\n",
      "        ns2:WDTaxon,\n",
      "        ns2:XRef ;\n",
      "    ns2:has_sirius_annotation xsd:string,\n",
      "        ns2:LCMSAnalysis,\n",
      "        ns2:LCMSAnalysisPos,\n",
      "        ns2:LabExtract,\n",
      "        ns2:LabObject,\n",
      "        ns2:WDTaxon,\n",
      "        ns2:XRef ;\n",
      "    ns2:has_unresolved_taxon [ ] ;\n",
      "    ns2:has_wd_id ns2:WDTaxon,\n",
      "        ns2:XRef ;\n",
      "    ns2:submitted_taxon xsd:string ;\n",
      "    ns1:has_bioassay_results ns2:BioAssayResults,\n",
      "        ns1:L610ugml,\n",
      "        ns1:Ldono10ugml,\n",
      "        ns1:Ldono2ugml,\n",
      "        ns1:SwissTPHBioAssay,\n",
      "        ns1:Tbrucei10ugml,\n",
      "        ns1:Tbrucei2ugml,\n",
      "        ns1:Tcruzi10ugml ;\n",
      "    ns1:has_broad_organe [ ] ;\n",
      "    ns1:has_organe [ ] ;\n",
      "    ns1:has_subsystem [ ] ;\n",
      "    ns1:has_tissue [ ] .\n",
      "\n",
      "ns2:spec2vec rdfs:label xsd:string ;\n",
      "    ns2:has_spec2vec_loss ns2:Spec2VecLoss,\n",
      "        ns2:spec2vec ;\n",
      "    ns2:has_spec2vec_peak ns2:Spec2VecPeak,\n",
      "        ns2:spec2vec ;\n",
      "    ns2:has_value xsd:float .\n",
      "\n",
      "ns2:LCMSAnalysis ns2:has_gnpslcms_link [ ] ;\n",
      "    ns2:has_lcms_feature_list ns2:LCMSFeatureList ;\n",
      "    ns2:has_massive_doi [ ] ;\n",
      "    ns2:has_massive_license [ ] ;\n",
      "    ns2:has_sirius_annotation ns2:LCMSFeatureList .\n",
      "\n",
      "ns1:ChEMBLTarget ns1:target_name xsd:string .\n",
      "\n",
      " \n"
     ]
    }
   ],
   "source": [
    "####################### Instantiate the graph #######################\n",
    "\n",
    "endpoint_url = 'https://enpkg.commons-lab.org/graphdb/repositories/ENPKG' #remove\n",
    "#create function put to main\n",
    "# init with the endpoint url\n",
    "graph = RdfGraph(\n",
    "    query_endpoint=endpoint_url,\n",
    "    standard=\"rdf\")\n",
    "\n",
    "# #OR\n",
    "\n",
    "# graph = RdfGraph(\n",
    "#     query_endpoint=endpoint_url,\n",
    "#     standard=\"rdf\",\n",
    "#     schema_file='../graphs/schema.ttl')\n",
    "\n",
    "\n",
    "# save the graph on disk\n",
    "with open('../graphs/graph.pkl', 'wb') as output_file:\n",
    "    pickle.dump(graph, output_file)\n",
    "    \n",
    "\n",
    "####################### Load the graph from disk #######################\n",
    "    \n",
    "# # load the graph from disk\n",
    "# with open('../graphs/graph.pkl', 'rb') as input_file:\n",
    "#     graph = pickle.load(input_file)\n",
    "    \n",
    "print(graph.get_schema)"
   ]
  },
  {
   "cell_type": "code",
   "execution_count": 18,
   "metadata": {
    "collapsed": false,
    "ExecuteTime": {
     "end_time": "2024-03-26T14:26:06.980263Z",
     "start_time": "2024-03-26T14:26:06.957043Z"
    }
   },
   "outputs": [],
   "source": [
    "# Initial setup: defining the temperature for the model and specifying model IDs for GPT-4 usage\n",
    "temperature = 0.3\n",
    "model_id_gpt4 = \"gpt-4\"\n",
    "model_id = \"gpt-4-0125-preview\"\n",
    "\n",
    "# Create instances of the ChatOpenAI class for interacting with the GPT-4 models.\n",
    "# These instances are configured for specific model versions, with retries and verbose logging enabled.\n",
    "# defining gpt4 llm for supervisor\n",
    "llm_gpt4 = ChatOpenAI(\n",
    "    temperature=temperature, model=model_id_gpt4, max_retries=3, verbose=True, model_kwargs={\n",
    "                        \"top_p\": 0.95,\n",
    "                        }\n",
    ")  # Instance for default GPT-4 model\n",
    "\n",
    "llm = ChatOpenAI(\n",
    "    temperature=temperature,\n",
    "    model=model_id,  # This instance uses a specific GPT-4 turbo model.\n",
    "    max_retries=3,\n",
    "    verbose=True,\n",
    ")  # Instance for GPT-4 0125-preview model.\n",
    "\n",
    "\n",
    "# Setup a GraphSparqlQAChain instance for executing SPARQL queries against a knowledge graph.\n",
    "# This instance utilizes the llm model for processing and the graph object for data querying.\n",
    "sparql_chain = GraphSparqlQAChain.from_llm(llm_gpt4, graph=graph, verbose=True)\n",
    "\n",
    "# Initialize chemical and taxon resolver tools with the llm model for specialized query processing.\n",
    "chem_res = ChemicalResolver.from_llm(llm=llm, verbose=True)\n",
    "taxon_res = TaxonResolver()\n",
    "\n",
    "\n",
    "# Pydantic models for structured input to the resolver tools.\n",
    "class ChemicalInput(BaseModel):\n",
    "    query: str = Field(description=\"natural product compound string\")\n",
    "\n",
    "\n",
    "class SparqlInput(BaseModel):\n",
    "    question: str = Field(description=\"the original question from the user\")\n",
    "    entities: str = Field(\n",
    "        description=\"strings containing for all entities, entity name and the corresponding entity identifier\"\n",
    "    )\n",
    "\n",
    "\n",
    "# Define a list of structured tools for chemical, taxon, target, and SMILES conversion resolution.\n",
    "# def tools_resolver_creator():\n",
    "tools_resolver = [\n",
    "    StructuredTool.from_function(\n",
    "        name=\"CHEMICAL_RESOLVER\",\n",
    "        func=chem_res.run,\n",
    "        description=\"The function takes a natural product compound string as input and returns a InChIKey, if InChIKey not found, it returns the NPCClass, NPCPathway or NPCSuperClass.\",\n",
    "        args_schema=ChemicalInput,\n",
    "    ),\n",
    "    StructuredTool.from_function(\n",
    "        name=\"TAXON_RESOLVER\",\n",
    "        func=taxon_res.query_wikidata,\n",
    "        description=\"The function takes a taxon string as input and returns the wikidata ID.\",\n",
    "    ),\n",
    "    StructuredTool.from_function(\n",
    "        name=\"TARGET_RESOLVER\",\n",
    "        func=target_name_to_target_id,\n",
    "        description=\"The function takes a target string as input and returns the ChEMBLTarget IRI.\",\n",
    "    ),\n",
    "    StructuredTool.from_function(\n",
    "        name=\"SMILE_CONVERTER\",\n",
    "        func=smiles_to_inchikey,\n",
    "        description=\"The function takes a SMILES string as input and returns the InChIKey notation of the molecule.\",\n",
    "    ),\n",
    "]\n",
    "\n",
    "\n",
    "# Define a list for the SPARQL query runner tool, used for executing knowledge graph queries.\n",
    "tool_sparql = [\n",
    "    StructuredTool.from_function(\n",
    "        name=\"SPARQL_QUERY_RUNNER\",\n",
    "        func=sparql_chain.run,\n",
    "        description=\"The agent resolve the user's question by querying the knowledge graph database. Input should be a question and the resolved entities in the question. The output is the answer to the question and path to the file containing the SPARQL output.\",\n",
    "        args_schema=SparqlInput,\n",
    "        # return_direct=True,\n",
    "    )\n",
    "]\n",
    "\n",
    "\n",
    "# Generate a list of tool names for reference or display purposes.\n",
    "tool_names = [\n",
    "    tool.name for tool in tools_resolver\n",
    "]  # List of tool names from the resolver tools."
   ]
  },
  {
   "cell_type": "markdown",
   "metadata": {
    "collapsed": false
   },
   "source": [
    "#  Helper Utilities to create agent"
   ]
  },
  {
   "cell_type": "code",
   "execution_count": 19,
   "metadata": {
    "collapsed": false,
    "ExecuteTime": {
     "end_time": "2024-03-26T14:26:08.316526Z",
     "start_time": "2024-03-26T14:26:08.312975Z"
    }
   },
   "outputs": [],
   "source": [
    "def create_agent(llm: ChatOpenAI, tools: list, system_prompt: str):\n",
    "    \"\"\"\n",
    "    Creates an AgentExecutor with LLM, set of tools, and system prompt.\n",
    "\n",
    "    This function initializes a chat prompt template with a system message, placeholders for messages,\n",
    "    and an agent scratchpad. It then creates an agent using the specified LLM and tools,\n",
    "    and wraps this agent in an AgentExecutor for execution.\n",
    "\n",
    "    Parameters:\n",
    "    - llm (ChatOpenAI): The language model to be used by the agent for generating responses.\n",
    "    - tools (list): A list of tools (functions or utilities) that the agent can use to perform actions or generate responses.\n",
    "    - system_prompt (str): A string that provides initial instructions or information to the agent. This is used to set up the context for the agent's operations.\n",
    "\n",
    "    Returns:\n",
    "    - AgentExecutor: An executor object that manages the execution of the agent, allowing the agent to process input and use tools as defined.\n",
    "    \"\"\"\n",
    "\n",
    "    # Initialize a ChatPromptTemplate with a system message, placeholders for incoming messages, and an agent scratchpad.\n",
    "    # This template structures the input to the language model, integrating static and dynamic content.\n",
    "    prompt = ChatPromptTemplate.from_messages(\n",
    "        [\n",
    "            (\n",
    "                \"system\",\n",
    "                system_prompt,\n",
    "            ),\n",
    "            MessagesPlaceholder(variable_name=\"messages\"),\n",
    "            MessagesPlaceholder(variable_name=\"agent_scratchpad\"),\n",
    "        ]\n",
    "    )\n",
    "\n",
    "    # Create an agent using the provided language model, tools, and the structured prompt.\n",
    "    # This agent can interact with users, process input, and use tools based on the prompt template.\n",
    "    agent = create_openai_tools_agent(llm, tools, prompt)\n",
    "\n",
    "    # Initialize an AgentExecutor to manage and execute the agent's operations.\n",
    "    # The executor facilitates the interaction between the agent and the tools, handling execution logic.\n",
    "    executor = AgentExecutor(agent=agent, tools=tools, verbose=True)\n",
    "    return executor"
   ]
  },
  {
   "cell_type": "markdown",
   "metadata": {
    "collapsed": false
   },
   "source": [
    "# Create Agent Supervisor\n"
   ]
  },
  {
   "cell_type": "code",
   "execution_count": 20,
   "metadata": {
    "collapsed": false,
    "ExecuteTime": {
     "end_time": "2024-03-26T14:26:09.336542Z",
     "start_time": "2024-03-26T14:26:09.332864Z"
    }
   },
   "outputs": [],
   "source": [
    "# Define a list of agent names that will be part of the supervisor system.\n",
    "members = [\"ENPKG_agent\", \"Sparql_query_runner\", \"Interpreter_agent\"]\n",
    "\n",
    "# Define the system prompt that outlines the role and responsibilities of the supervisor agent,\n",
    "# including instructions on how to delegate tasks to specialized agents based on the user's question.\n",
    "system_prompt = \"\"\"You are a supervisor. As the supervisor, your primary role is to coordinate the flow of information between agents and ensure the appropriate processing of the user question based on its content. You have access to a team of specialized agents: {members}.\n",
    "\n",
    "Here is a list of steps to help you accomplish your role:\n",
    "\n",
    "Analyse the user question and delegate functions to the specialized agents below if needed:\n",
    "If the question mentions any of the following entities: natural product compound, chemical name, taxon name, target, SMILES structure, or numerical value delegate the question to the ENPKG_agent. ENPKG_agent would provide resolved entities needed to generate SPARQL query. For example if the question mentions either caffeine, or Desmodium heterophyllum call ENPKG_agent.\n",
    "\n",
    "If you have answers from the agent mentioned above, you provide those answers with the user question to the Sparql_query_runner.\n",
    "\n",
    "If the question does not mention chemical name, taxon name, target name, nor SMILES structure, delegate the question to the agent Sparql_query_runner. The Sparql_query_runner agent will perform further processing and provide the path containing the SPARQL output.\n",
    "\n",
    "If the Sparql_query_runner provides a SPARQL query and the path to the file containing the SPARQL output without directly providing the answer (implying that the answer is too long to be directly included), then delegate this information to the Interpreter_agent for further analysis and interpretation. Provide the Interpreter_agent with the question, SPARQL query, and the path to the file provided by the Sparql_query_runner. Await the Interpreter_agent's response for the final answer.\n",
    "\n",
    "Once the Interpreter_agent has completed its task mark the process as FINISH. Do not call the Interpreter_agent again.\n",
    "\n",
    "If the Sparql_query_runner agent provides a SPARQL query, the path to the file containing the SPARQL output and final answer to the question, and there is no immediate need for further interpretation, normally mark the process as FINISH. However, if there is a need to visualize the results (regardless of the length of the SPARQL output), also call the Interpreter_agent to generate the necessary plot, chart, or graph based on the SPARQL output. The need for visualization should be assessed based on the user's request or if the nature of the data implies that visualization would enhance understanding. Once the Interpreter_agent has completed its task mark the process as FINISH. Do not call the Interpreter_agent again.\n",
    "\n",
    "For example, the user provides the following question: For features from Melochia umbellata in PI mode with SIRIUS annotations, get the ones for which a feature in NI mode with the same retention time has the same SIRIUS annotation. Since the question mentions Melochia umbellata you should firstly delegate it to the ENPKG_agent which would provide wikidata IRI with TAXON_RESOLVER tool, then, you should delegate the question together with the output generated by ENPKG_agent to the Sparql_query_runner agent. Afterwards, if the Sparql_query_runner agent provided the answer to the question, SPARQL query and path to the file containing the SPARQL output and there is no need to visualize the output you should mark the process as FINISH. If the Sparql_query_runner agent  provided only SPARQL query and path to the file you should call Interpreter_agent which would interpret the results provided by Sparql_query_runner to generate the final response to the question.\n",
    "\n",
    "Avoid calling the same agent if this agent has already been called previously and provided the answer. For example, if you have called ENPKG_agent and it provided InChIKey for chemical compound do not call this agent again.\n",
    "\n",
    "Always tell the user the SPARQL query that has been returned by the Sparql_query_runner.\n",
    "\n",
    "If the agent does not provide the expected output mark the process as FINISH.\n",
    "\n",
    "Remember, your efficiency in routing the questions accurately and collecting responses is crucial for the seamless operation of our system. If you don't know the answer to any of the steps, please say explicitly and help the user by providing a query that you think will be better interpreted.\n",
    "\"\"\"\n",
    "\n",
    "\n",
    "# Function to create a team supervisor agent that routes tasks based on user questions.\n",
    "def create_team_supervisor(llm: ChatOpenAI, system_prompt, members) -> str:\n",
    "    \"\"\"\n",
    "    Configures and returns a supervisor agent setup with decision-making logic for task routing.\n",
    "\n",
    "    The supervisor uses a provided language model (llm) to analyze user questions and decides whether to delegate\n",
    "    the question to specialized agents (members), or to mark the process as finished based on predefined criteria.\n",
    "\n",
    "    Parameters:\n",
    "    - llm (ChatOpenAI): The language model to be used for processing and routing decisions.\n",
    "    - system_prompt (str): A detailed prompt describing the supervisor's role and decision-making guidelines.\n",
    "    - members (list): A list of specialized agents available for task delegation.\n",
    "\n",
    "    Returns:\n",
    "    - str: A configured prompt or agent setup that integrates routing logic for processing user questions.\n",
    "    \"\"\"\n",
    "    options = [\"FINISH\"] + members\n",
    "    function_def = {\n",
    "        \"name\": \"route\",\n",
    "        \"description\": \"Select the next role.\",\n",
    "        \"parameters\": {\n",
    "            \"title\": \"routeSchema\",\n",
    "            \"type\": \"object\",\n",
    "            \"properties\": {\n",
    "                \"next\": {\n",
    "                    \"title\": \"Next\",\n",
    "                    \"anyOf\": [\n",
    "                        {\"enum\": options},\n",
    "                    ],\n",
    "                },\n",
    "            },\n",
    "            \"required\": [\"next\"],\n",
    "        },\n",
    "    }\n",
    "    prompt = ChatPromptTemplate.from_messages(\n",
    "        [\n",
    "            (\"system\", system_prompt),\n",
    "            MessagesPlaceholder(variable_name=\"messages\"),\n",
    "            (\n",
    "                \"system\",\n",
    "                \"Given the conversation above, who should act next?\"\n",
    "                \" Or should we FINISH? Select one of: {options}\",\n",
    "            ),\n",
    "        ]\n",
    "    ).partial(options=str(options), members=\", \".join(members))\n",
    "    return (\n",
    "        prompt\n",
    "        | llm.bind_functions(functions=[function_def], function_call=\"route\")\n",
    "        | JsonOutputFunctionsParser()\n",
    "    )"
   ]
  },
  {
   "cell_type": "markdown",
   "metadata": {
    "collapsed": false
   },
   "source": [
    "## Defining separate agents"
   ]
  },
  {
   "cell_type": "code",
   "execution_count": 21,
   "metadata": {
    "collapsed": false,
    "ExecuteTime": {
     "end_time": "2024-03-26T14:26:10.684680Z",
     "start_time": "2024-03-26T14:26:10.681800Z"
    }
   },
   "outputs": [],
   "source": [
    "# Define the system message for the entity resolution agent (resolver) responsible for processing user questions.\n",
    "# This message includes instructions for the agent on how to handle different types of entities mentioned in questions.\n",
    "system_message_resolver = \"\"\"You are an entity resolution agent for the Sparql_query_runner. If this prompt has reached you, it is for a specific and significant reason. It is imperative that you read the instructions and details provided carefully and thoroughly.\n",
    "You have access to the following tools:\n",
    "{tool_names}\n",
    "You should analyze the question and provide resolved entities for the entities mentioned in the question to the supervisor using the tools available to you. Here is a list of steps to help you accomplish your role:\n",
    "\n",
    "If the question ask anything about any entities that could be natural product compound, find the relevant IRI to this chemical class using CHEMICAL_RESOLVER tool. Input is the chemical class name. For example, if salicin is mentioned in the question, provide its IRI using CHEMICAL_RESOLVER, input is salicin. \n",
    "\n",
    "If a taxon is mentioned, find what is its wikidata IRI with TAXON_RESOLVER. Input is the taxon name. For example, if the question mentions acer saccharum, you should provide its wikidata IRI using TAXON_RESOLVER tool. \n",
    "\n",
    "If a target is mentioned, find the ChEMBLTarget IRI of the target using TARGET_RESOLVER tool. Input is the target name.\n",
    "\n",
    "If a SMILE structure is mentioned, find what is the InChIKey notation of the molecule using SMILE_CONVERTER tool. Input is the SMILE structure. For example, if there is a string with similar structure to CCC12CCCN3C1C4(CC3) in the question, provide it to SMILE_CONVERTER.\n",
    "        \n",
    "Give me units relevant to numerical values in this question. Return nothing if units for value is not provided.\n",
    "Be sure to say that these are the units of the quantities found in the knowledge graph.\n",
    "Here is the list of units to find:\n",
    "    \"retention time\": \"minutes\",\n",
    "    \"activity value\": null, \n",
    "    \"feature area\": \"absolute count or intensity\", \n",
    "    \"relative feature area\": \"normalized area in percentage\", \n",
    "    \"parent mass\": \"ppm (parts-per-million) for m/z\",\n",
    "    \"mass difference\": \"delta m/z\", \n",
    "    \"cosine\": \"score from 0 to 1. 1 = identical spectra. 0 = completely different spectra\"\n",
    "\n",
    " You do not have to answer the question, your task is to provide resolved entities mentioned in the question using the tools available to you. For example, if the question mentions Hibiscus rosa-sinensis provide its wikidata IRI using TAXON_RESOLVER tool.\n",
    " \n",
    " You are required to submit only the final answer to the supervisor.\n",
    "        \n",
    "\"\"\".format(\n",
    "    tool_names=\"\\n\".join(tool_names)\n",
    ")\n",
    "\n",
    "\n",
    "# Create an agent for entity resolution based on the instructions provided in `system_message_resolver`.\n",
    "enpkg_agent = create_agent(llm_gpt4, tools_resolver, system_message_resolver)\n",
    "\n",
    "\n",
    "# Create an agent for running SPARQL queries based on user requests and resolved entities provided by other agents.\n",
    "system_message_sparql = \"\"\"You are SPARQL query runner, you take as input the user request and resolved entities provided by other agents, generate a SPARQL query, run it on the knowledge graph and answer to the question using SPARQL_QUERY_RUNNER tool. Specifically, when providing user request and resolved entities to the SPARQL_QUERY_RUNNER tool, format them as 'entity from the question has entity type entity resolution'. For example, you should provide the following input: catharanthus roseus has the Wikidata IRI https://www.wikidata.org/wiki/Q161093. Ensure this format is strictly adhered to for effective querying.  \n",
    "\n",
    "If the output of the SPARQL_QUERY_RUNNER tool consists of only generated SPARQL query and path to the file containing the SPARQL output, you will need to generate a dictionary as output from your process. This dictionary should contain exactly three key-value pairs:\n",
    "question: The key should be a string named 'question' and the value should be the natural language question you were asked to translate into a SPARQL query.\n",
    "generated_sparql_query: The key should be a string named 'generated_sparql_query' and the value should be the SPARQL query you generated based on the natural language question.\n",
    "file_path: The key should be a string named 'file_path' and the value should be the absolute path to the file where the generated SPARQL query is saved. In this case provide the generated dictionary to the supervisor which would call the Interpreter agent to further interpret the results.\n",
    "\n",
    "If the output of the SPARQL_QUERY_RUNNER tool consists of generated SPARQL query, path to the file containing the SPARQL output and the SPARQL output then you need to generate the final answer to the question based on the SPARQL output. Provide the final answer to the question together with the dictionary containing the question, generated_sparql_query and file_path. The dictionary should contain exactly three key-value pairs:\n",
    "question: The key should be a string named 'question' and the value should be the natural language question you were asked to translate into a SPARQL query.\n",
    "generated_sparql_query: The key should be a string named 'generated_sparql_query' and the value should be the SPARQL query you generated based on the natural language question.\n",
    "file_path: The key should be a string named 'file_path' and the value should be the absolute path to the file where the generated SPARQL query is saved.\n",
    " Provide the final answer to the supervisor.\n",
    "\"\"\"\n",
    "\n",
    "sparql_query_agent = create_agent(llm, tool_sparql, system_message_sparql)"
   ]
  },
  {
   "cell_type": "markdown",
   "metadata": {},
   "source": [
    "## Defining interpreter agent"
   ]
  },
  {
   "cell_type": "code",
   "execution_count": 22,
   "metadata": {
    "ExecuteTime": {
     "end_time": "2024-03-26T14:26:12.179256Z",
     "start_time": "2024-03-26T14:26:12.155240Z"
    }
   },
   "outputs": [],
   "source": [
    "interpreter_session = CodeInterpreterSession()\n",
    "\n",
    "\n",
    "class InterpreterInput(BaseModel):\n",
    "    question: str = Field(description=\"the original question from the user\")\n",
    "    generated_sparql_query: str = Field(description=\"the generated SPARQL query\")\n",
    "    file_path: str = Field(\n",
    "        description=\"file path where result of generated SPARQL query is stored\"\n",
    "    )\n",
    "\n",
    "\n",
    "def interpreter_logic(question, generated_sparql_query, file_path) -> None:\n",
    "    \"\"\"Interprets the results of a SPARQL query based on user's question.\n",
    "\n",
    "    Args:\n",
    "        question (str): The original question from the user.\n",
    "        generated_sparql_query (str): The generated SPARQL query.\n",
    "        file_path (str): The file path where the result of the generated SPARQL query is stored.\n",
    "\n",
    "    Returns:\n",
    "        None: Outputs the response after interpreting the SPARQL results.\n",
    "    \"\"\"\n",
    "    # context manager for start/stop of the session\n",
    "    # define the user request\n",
    "    print(f\"Interpreting {question}\")\n",
    "    print(f\"SPARQL query: {generated_sparql_query}\")\n",
    "    print(f\"File path: {file_path}\")\n",
    "    with CodeInterpreterSession() as session:\n",
    "        user_request = f\"\"\"You are an interpreter agent. Your task is to analyze the output related to a SPARQL query, which could be in two forms:\n",
    "         If the output of the Sparql_query_runner agent is only the dictionary containing question: \"{question}\", generated SPARQL query: \"{generated_sparql_query}\" which was used to query the knowledge graph to answer to the question and path: \"{file_path}\" containing the SPARQL output then you should review the provided dataset from the file and SPARQL query to provide a clear, concise answer to the question. Additionally, if visualization of the results is necessary (e.g., when the SPARQL output is large or complex), you should provide an appropriate visualization, such as a bar chart, diagram, or plot, to effectively communicate the answer.\n",
    "         If the output of the Sparql_query_runner agent contains the answer to the question together with the dictionary containing the question: \"{question}\", generated SPARQL query: \"{generated_sparql_query}\" and path: \"{file_path}\", then you should analyze this output and provide visualization of the answer to the question. \n",
    "         The type of visualization – bar chart, diagram, or plot – will depend on the nature of the SPARQL output and the best way to represent the answer to the question clearly.\n",
    "         Submit only the final answer to the supervisor. Indicate the format of the dataset for appropriate handling. \"\"\"\n",
    "        files = [\n",
    "            File.from_path(file_path),\n",
    "        ]\n",
    "\n",
    "        # generate the response\n",
    "        response = session.generate_response(user_request, files=files)\n",
    "        # output the response (text + image)\n",
    "        response.show()\n",
    "        return response.content\n",
    "\n",
    "\n",
    "interpreter_tool = StructuredTool.from_function(\n",
    "    name=\"INTERPRETER_TOOL\",\n",
    "    func=interpreter_logic,\n",
    "    description=\"The function takes an original user question, generated sparql query, and generated sparql query result stored in file_path and returns interpreted answer content\",\n",
    "    args_schema=InterpreterInput,\n",
    ")\n",
    "system_message_interpreter = \"\"\"You are an interpreter agent. Your main role is to analyze outputs from the Sparql_query_runner agent using the INTERPRETER_TOOL. The outputs from the Sparql_query_runner agent can be of two types:\n",
    "\n",
    "The output is a dictionary containing 'question', 'generated_sparql_query', and 'file_path'. This typically happens when the Sparql_query_runner agent has executed a query to fetch results for a complex question. Your task is to provide this dictionary directly to the INTERPRETER_TOOL to get a concise answer. Ensure you format the dictionary correctly and include all necessary information so the INTERPRETER_TOOL can process it efficiently.\n",
    "\n",
    "The output directly contains the answer to the question but still comes within a dictionary that includes the 'question', 'generated_sparql_query', and 'file_path'. Even if the answer is directly provided, your role remains to pass this entire dictionary to the INTERPRETER_TOOL. The tool requires this structured input to validate and format the final answer properly.\n",
    "\n",
    "In both scenarios, your primary function is to ensure that the INTERPRETER_TOOL receives the necessary information in a structured dictionary format. This allows the tool to analyze the SPARQL query's output thoroughly and provide a clear, concise answer to the initial question.\"\"\"\n",
    "\n",
    "interpreter_agent = create_agent(llm, [interpreter_tool], system_message_interpreter)"
   ]
  },
  {
   "cell_type": "markdown",
   "metadata": {
    "collapsed": false
   },
   "source": [
    "# Construct Graph"
   ]
  },
  {
   "cell_type": "code",
   "execution_count": 23,
   "metadata": {
    "collapsed": false,
    "ExecuteTime": {
     "end_time": "2024-03-26T14:26:13.411275Z",
     "start_time": "2024-03-26T14:26:13.408465Z"
    }
   },
   "outputs": [],
   "source": [
    "# The agent state is the input to each node in the graph\n",
    "class AgentState(TypedDict):\n",
    "    # The annotation tells the graph that new messages will always\n",
    "    # be added to the current states\n",
    "    messages: Annotated[Sequence[BaseMessage], operator.add]\n",
    "    # The 'next' field indicates where to route to next\n",
    "    next: str\n",
    "\n",
    "\n",
    "# function to define nodes\n",
    "def agent_node(state, agent, name):\n",
    "    result = agent.invoke(state)\n",
    "    return {\"messages\": [HumanMessage(content=result[\"output\"], name=name)]}\n",
    "\n",
    "\n",
    "# creating nodes for each agent\n",
    "enpkg_node = functools.partial(agent_node, agent=enpkg_agent, name=\"ENPKG_agent\")\n",
    "sparql_query_node = functools.partial(\n",
    "    agent_node, agent=sparql_query_agent, name=\"Sparql_query_runner\"\n",
    ")\n",
    "interpreter_agent_node = functools.partial(\n",
    "    agent_node, agent=interpreter_agent, name=\"Interpreter_agent\"\n",
    ")\n",
    "supervisor_agent = create_team_supervisor(llm_gpt4, system_prompt, members)\n",
    "\n",
    "# creating the workflow and adding nodes to it\n",
    "workflow = StateGraph(AgentState)\n",
    "workflow.add_node(\"ENPKG_agent\", enpkg_node)\n",
    "workflow.add_node(\"Sparql_query_runner\", sparql_query_node)\n",
    "workflow.add_node(\"supervisor\", supervisor_agent)\n",
    "workflow.add_node(\"Interpreter_agent\", interpreter_agent_node)\n",
    "# connect all the edges in the graph\n",
    "for member in members:\n",
    "    # We want our workers to ALWAYS \"report back\" to the supervisor when done\n",
    "    workflow.add_edge(member, \"supervisor\")\n",
    "\n",
    "workflow.add_conditional_edges(\n",
    "    \"supervisor\",\n",
    "    lambda x: x[\"next\"],\n",
    "    {\n",
    "        \"ENPKG_agent\": \"ENPKG_agent\",\n",
    "        \"Sparql_query_runner\": \"Sparql_query_runner\",\n",
    "        \"Interpreter_agent\": \"Interpreter_agent\",\n",
    "        \"FINISH\": END,\n",
    "    },\n",
    ")\n",
    "\n",
    "workflow.set_entry_point(\"supervisor\")\n",
    "app = workflow.compile()"
   ]
  },
  {
   "cell_type": "code",
   "execution_count": 24,
   "metadata": {
    "collapsed": false,
    "ExecuteTime": {
     "end_time": "2024-03-26T14:26:16.656387Z",
     "start_time": "2024-03-26T14:26:16.648379Z"
    }
   },
   "outputs": [],
   "source": [
    "q1 = \"How many features (pos ionization and neg ionization modes) have the same SIRIUS/CSI:FingerID and ISDB annotation by comparing the InCHIKey of the annotations?\"\n",
    "q1_bis = \"How many features (pos ionization and neg ionization modes) have the same SIRIUS/CSI:FingerID and ISDB annotation by comparing the InCHIKey2D of the annotations?\"\n",
    "q2 = \"Which extracts have features (pos ionization mode) annotated as the class, aspidosperma-type alkaloids, by CANOPUS with a probability score above 0.5, ordered by the decreasing count of features as aspidosperma-type alkaloids? Group by extract.\"\n",
    "q3 = \"Among the structural annotations from the Tabernaemontana coffeoides (Apocynaceae) seeds extract taxon , which ones contain an aspidospermidine substructure?\"\n",
    "q4 = \"Among the SIRIUS structural annotations from the Tabernaemontana coffeoides (Apocynaceae) seeds extract, which ones are reported in the Tabernaemontana genus in Wikidata?\"\n",
    "q5 = \"Which compounds have annotations with chembl assay results indicating reported activity against T. cruzi by looking at the cosmic, zodiac and taxo scores?\"\n",
    "q5_bis = \"Which compounds have annotations with chembl assay results indicating reported activity against Trypanosoma cruzi by looking at the cosmic, zodiac and taxo scores?\"\n",
    "q6 = \"Filter the pos ionization mode features of the Melochia umbellata taxon annotated as [M+H]+ by SIRIUS to keep the ones for which a feature in neg ionization mode is detected with the same retention time (+/- 3 seconds) and a mass corresponding to the [M-H]- adduct (+/- 5ppm).\"\n",
    "q7 = \"For features from the Melochia umbellata taxon in pos ionization mode with SIRIUS annotations, get the ones for which a feature in neg ionization mode with the same retention time (+/- 3 seconds) has the same SIRIUS annotation by comparing the InCHIKey 2D. Return the features, retention times, and InChIKey2D\"\n",
    "q8 = \"Which features were annotated as 'Tetraketide meroterpenoids' by SIRIUS, and how many such features were found for each species and plant part?\"\n",
    "q9 = \"What are all distinct submitted taxons for the extracts in the knowledge graph?\"\n",
    "q10 = \"What are the taxons, lab process and label (if one exists) for each sample? Sort by sample and then lab process\"\n",
    "q11 = \"Count all the species per family in the collection\"\n",
    "\n",
    "q12 = \"Taxons can be found in enpkg:LabExtract. Find the best URI of the Taxon in the context of this question : \\n Among the structural annotations from the Tabernaemontana coffeoides (Apocynaceae) seeds extract taxon , which ones contain an aspidospermidine substructure, CCC12CCCN3C1C4(CC3)C(CC2)NC5=CC=CC=C45?\"\n",
    "q13 = \"Which compounds annotated in the active extract of Melochia umbellata have activity against Trypanosoma cruzi reported (in ChEMBL)?\"\n",
    "q14 = \"What are the variations in the concentration of key active compounds found in Tabernaemontana coffeoides seed extracts across different sample collections?\"\n",
    "q15 = \"Which compounds are detected most in Tabernaemontana genus?\"\n",
    "q16 = (\n",
    "    \"What are the most frequently detected compounds in the leaves of the Tabernaemontana genus? \"\n",
    "    \" over of features annotated as certain chemical classes vary across different Tabernaemontana genus extracts in the ENPKG, with a focus on features identified in positive ionization mode and annotated by CANOPUS with a probability score above 0.5?\"\n",
    ")\n",
    "q17 = \" For all the plant extracts plot the distribution of number of features per sample retention time vs mass to charge ratio\"\n",
    "q18 = \"What are the most frequently observed chemical compounds in Tabernaemontana genus? Provide a bar chart.\""
   ]
  },
  {
   "cell_type": "code",
   "execution_count": 12,
   "metadata": {
    "collapsed": false,
    "ExecuteTime": {
     "end_time": "2024-03-26T13:55:56.886918Z",
     "start_time": "2024-03-26T13:55:56.878154Z"
    }
   },
   "outputs": [],
   "source": [
    "import requests\n",
    "\n",
    "\n",
    "def test_sparql_endpoint(endpoint):\n",
    "    \"\"\"\n",
    "    Tests the validity of a SPARQL endpoint by sending a simple ASK query.\n",
    "    Parameters:\n",
    "    - endpoint (str): The URL of the SPARQL endpoint to test.\n",
    "    Returns:\n",
    "    - bool: True if the endpoint is valid and responsive, False otherwise.\n",
    "    \"\"\"\n",
    "    test_query = {\"query\": \"ASK WHERE { ?s ?p ?o } LIMIT 1\"}\n",
    "    headers = {\"Accept\": \"application/sparql-results+json\"}\n",
    "    try:\n",
    "        response = requests.get(endpoint, params=test_query, headers=headers)\n",
    "        response.raise_for_status()  # Ensures HTTP request was successful\n",
    "        # Validate response format\n",
    "        if response.json() is not None:\n",
    "            return True\n",
    "        else:\n",
    "            print(\"The endpoint did not return a valid SPARQL result.\")\n",
    "            return False\n",
    "\n",
    "    except requests.RequestException as e:\n",
    "        print(f\"Failed to connect to the endpoint: {e}\")\n",
    "        return False"
   ]
  },
  {
   "cell_type": "code",
   "execution_count": 123,
   "metadata": {
    "ExecuteTime": {
     "end_time": "2024-03-12T09:57:35.997845Z",
     "start_time": "2024-03-12T09:57:35.921363Z"
    },
    "collapsed": false
   },
   "outputs": [],
   "source": [
    "result = test_sparql_endpoint(endpoint_url)"
   ]
  },
  {
   "cell_type": "code",
   "execution_count": 12,
   "metadata": {
    "collapsed": false,
    "ExecuteTime": {
     "end_time": "2024-03-21T13:41:28.474898Z",
     "start_time": "2024-03-21T13:38:01.731941Z"
    }
   },
   "outputs": [
    {
     "name": "stderr",
     "output_type": "stream",
     "text": [
      "2024-03-21 14:38:03,402 - INFO - HTTP Request: POST https://api.openai.com/v1/chat/completions \"HTTP/1.1 200 OK\"\n"
     ]
    },
    {
     "name": "stdout",
     "output_type": "stream",
     "text": [
      "\n",
      "\n",
      "\u001B[1m> Entering new AgentExecutor chain...\u001B[0m\n"
     ]
    },
    {
     "name": "stderr",
     "output_type": "stream",
     "text": [
      "2024-03-21 14:38:04,947 - INFO - HTTP Request: POST https://api.openai.com/v1/chat/completions \"HTTP/1.1 200 OK\"\n"
     ]
    },
    {
     "name": "stdout",
     "output_type": "stream",
     "text": [
      "\u001B[32;1m\u001B[1;3m\n",
      "Invoking: `TAXON_RESOLVER` with `{'taxon_name': 'Melochia umbellata'}`\n",
      "\n",
      "\n",
      "\u001B[0m\u001B[33;1m\u001B[1;3mwikidata IRI is http://www.wikidata.org/entity/Q6813281\u001B[0m"
     ]
    },
    {
     "name": "stderr",
     "output_type": "stream",
     "text": [
      "2024-03-21 14:38:09,112 - INFO - HTTP Request: POST https://api.openai.com/v1/chat/completions \"HTTP/1.1 200 OK\"\n"
     ]
    },
    {
     "name": "stdout",
     "output_type": "stream",
     "text": [
      "\u001B[32;1m\u001B[1;3mThe resolved entity for the taxon \"Melochia umbellata\" is the wikidata IRI: http://www.wikidata.org/entity/Q6813281.\n",
      "\n",
      "The units relevant to numerical values in this question are:\n",
      "- \"retention time\": \"seconds\",\n",
      "- \"parent mass\": \"ppm (parts-per-million) for m/z\".\u001B[0m\n",
      "\n",
      "\u001B[1m> Finished chain.\u001B[0m\n"
     ]
    },
    {
     "name": "stderr",
     "output_type": "stream",
     "text": [
      "2024-03-21 14:38:13,642 - INFO - HTTP Request: POST https://api.openai.com/v1/chat/completions \"HTTP/1.1 200 OK\"\n"
     ]
    },
    {
     "name": "stdout",
     "output_type": "stream",
     "text": [
      "\n",
      "\n",
      "\u001B[1m> Entering new AgentExecutor chain...\u001B[0m\n"
     ]
    },
    {
     "name": "stderr",
     "output_type": "stream",
     "text": [
      "2024-03-21 14:38:15,709 - INFO - HTTP Request: POST https://api.openai.com/v1/chat/completions \"HTTP/1.1 200 OK\"\n"
     ]
    },
    {
     "name": "stdout",
     "output_type": "stream",
     "text": [
      "\u001B[32;1m\u001B[1;3m\n",
      "Invoking: `SPARQL_QUERY_RUNNER` with `{'question': 'Filter the pos ionization mode features of the Melochia umbellata taxon annotated as [M+H]+ by SIRIUS to keep the ones for which a feature in neg ionization mode is detected with the same retention time (+/- 3 seconds) and a mass corresponding to the [M-H]- adduct (+/- 5ppm).', 'entities': 'taxon: http://www.wikidata.org/entity/Q6813281'}`\n",
      "\n",
      "\n",
      "\u001B[0m\n",
      "\n",
      "\u001B[1m> Entering new GraphSparqlQAChain chain...\u001B[0m\n"
     ]
    },
    {
     "name": "stderr",
     "output_type": "stream",
     "text": [
      "/Users/madinabekbergenova/anaconda3/envs/kgai/lib/python3.11/site-packages/langchain_core/_api/deprecation.py:117: LangChainDeprecationWarning: The function `run` was deprecated in LangChain 0.1.0 and will be removed in 0.2.0. Use invoke instead.\n",
      "  warn_deprecated(\n",
      "2024-03-21 14:38:46,622 - INFO - HTTP Request: POST https://api.openai.com/v1/chat/completions \"HTTP/1.1 200 OK\"\n"
     ]
    },
    {
     "name": "stdout",
     "output_type": "stream",
     "text": [
      "Generated SPARQL:\n",
      "\u001B[32;1m\u001B[1;3mPREFIX ns1: <https://enpkg.commons-lab.org/kg/>\n",
      "PREFIX ns2: <https://enpkg.commons-lab.org/module/>\n",
      "PREFIX xsd: <http://www.w3.org/2001/XMLSchema#>\n",
      "PREFIX wd: <http://www.wikidata.org/entity/>\n",
      "\n",
      "SELECT ?posFeature ?negFeature\n",
      "WHERE {\n",
      "    ?rawMaterial ns1:has_wd_id wd:Q6813281 .\n",
      "    ?rawMaterial ns1:has_lab_process ?labExtract .\n",
      "    ?labExtract ns1:has_LCMS ?posAnalysis .\n",
      "    ?posAnalysis a ns1:LCMSAnalysisPos .\n",
      "    ?posAnalysis ns1:has_lcms_feature_list ?posFeatureList .\n",
      "    ?posFeatureList ns1:has_lcms_feature ?posFeature .\n",
      "    ?posFeature ns1:has_sirius_annotation ?posAnnotation .\n",
      "    ?posAnnotation ns1:has_sirius_adduct \"[M+H]+\" .\n",
      "    ?posFeature ns1:has_retention_time ?posRetentionTime .\n",
      "    ?posFeature ns1:has_parent_mass ?posMass .\n",
      "\n",
      "    ?labExtract ns1:has_LCMS ?negAnalysis .\n",
      "    ?negAnalysis a ns1:LCMSAnalysisNeg .\n",
      "    ?negAnalysis ns1:has_lcms_feature_list ?negFeatureList .\n",
      "    ?negFeatureList ns1:has_lcms_feature ?negFeature .\n",
      "    ?negFeature ns1:has_sirius_annotation ?negAnnotation .\n",
      "    ?negAnnotation ns1:has_sirius_adduct \"[M-H]-\" .\n",
      "    ?negFeature ns1:has_retention_time ?negRetentionTime .\n",
      "    ?negFeature ns1:has_parent_mass ?negMass .\n",
      "\n",
      "    FILTER (abs(?posRetentionTime - ?negRetentionTime) <= 3)\n",
      "    FILTER (abs(?posMass - ?negMass) / ?posMass * 1000000 <= 5)\n",
      "}\u001B[0m\n",
      "Saving results to file:  /var/folders/20/4kgcw5656h12ss_nj18mndwm0000gn/T/tmpkthygr1l.csv\n",
      "\n",
      "\u001B[1m> Finished chain.\u001B[0m\n",
      "\u001B[36;1m\u001B[1;3m{'query': 'PREFIX ns1: <https://enpkg.commons-lab.org/kg/>\\nPREFIX ns2: <https://enpkg.commons-lab.org/module/>\\nPREFIX xsd: <http://www.w3.org/2001/XMLSchema#>\\nPREFIX wd: <http://www.wikidata.org/entity/>\\n\\nSELECT ?posFeature ?negFeature\\nWHERE {\\n    ?rawMaterial ns1:has_wd_id wd:Q6813281 .\\n    ?rawMaterial ns1:has_lab_process ?labExtract .\\n    ?labExtract ns1:has_LCMS ?posAnalysis .\\n    ?posAnalysis a ns1:LCMSAnalysisPos .\\n    ?posAnalysis ns1:has_lcms_feature_list ?posFeatureList .\\n    ?posFeatureList ns1:has_lcms_feature ?posFeature .\\n    ?posFeature ns1:has_sirius_annotation ?posAnnotation .\\n    ?posAnnotation ns1:has_sirius_adduct \"[M+H]+\" .\\n    ?posFeature ns1:has_retention_time ?posRetentionTime .\\n    ?posFeature ns1:has_parent_mass ?posMass .\\n\\n    ?labExtract ns1:has_LCMS ?negAnalysis .\\n    ?negAnalysis a ns1:LCMSAnalysisNeg .\\n    ?negAnalysis ns1:has_lcms_feature_list ?negFeatureList .\\n    ?negFeatureList ns1:has_lcms_feature ?negFeature .\\n    ?negFeature ns1:has_sirius_annotation ?negAnnotation .\\n    ?negAnnotation ns1:has_sirius_adduct \"[M-H]-\" .\\n    ?negFeature ns1:has_retention_time ?negRetentionTime .\\n    ?negFeature ns1:has_parent_mass ?negMass .\\n\\n    FILTER (abs(?posRetentionTime - ?negRetentionTime) <= 3)\\n    FILTER (abs(?posMass - ?negMass) / ?posMass * 1000000 <= 5)\\n}', 'temp_file_path': '/var/folders/20/4kgcw5656h12ss_nj18mndwm0000gn/T/tmpkthygr1l.csv'}\u001B[0m"
     ]
    },
    {
     "name": "stderr",
     "output_type": "stream",
     "text": [
      "2024-03-21 14:38:49,750 - INFO - HTTP Request: POST https://api.openai.com/v1/chat/completions \"HTTP/1.1 200 OK\"\n"
     ]
    },
    {
     "name": "stdout",
     "output_type": "stream",
     "text": [
      "\u001B[32;1m\u001B[1;3mThe SPARQL query has been successfully generated and executed to filter the positive ionization mode features of the Melochia umbellata taxon annotated as [M+H]+ by SIRIUS. It keeps the ones for which a feature in negative ionization mode is detected with the same retention time (+/- 3 seconds) and a mass corresponding to the [M-H]- adduct (+/- 5ppm).\n",
      "\n",
      "Here is the information you requested:\n",
      "\n",
      "- **Question**: Filter the pos ionization mode features of the Melochia umbellata taxon annotated as [M+H]+ by SIRIUS to keep the ones for which a feature in neg ionization mode is detected with the same retention time (+/- 3 seconds) and a mass corresponding to the [M-H]- adduct (+/- 5ppm).\n",
      "- **Generated SPARQL Query**:\n",
      "```sparql\n",
      "PREFIX ns1: <https://enpkg.commons-lab.org/kg/>\n",
      "PREFIX ns2: <https://enpkg.commons-lab.org/module/>\n",
      "PREFIX xsd: <http://www.w3.org/2001/XMLSchema#>\n",
      "PREFIX wd: <http://www.wikidata.org/entity/>\n",
      "\n",
      "SELECT ?posFeature ?negFeature\n",
      "WHERE {\n",
      "    ?rawMaterial ns1:has_wd_id wd:Q6813281 .\n",
      "    ?rawMaterial ns1:has_lab_process ?labExtract .\n",
      "    ?labExtract ns1:has_LCMS ?posAnalysis .\n",
      "    ?posAnalysis a ns1:LCMSAnalysisPos .\n",
      "    ?posAnalysis ns1:has_lcms_feature_list ?posFeatureList .\n",
      "    ?posFeatureList ns1:has_lcms_feature ?posFeature .\n",
      "    ?posFeature ns1:has_sirius_annotation ?posAnnotation .\n",
      "    ?posAnnotation ns1:has_sirius_adduct \"[M+H]+\" .\n",
      "    ?posFeature ns1:has_retention_time ?posRetentionTime .\n",
      "    ?posFeature ns1:has_parent_mass ?posMass .\n",
      "\n",
      "    ?labExtract ns1:has_LCMS ?negAnalysis .\n",
      "    ?negAnalysis a ns1:LCMSAnalysisNeg .\n",
      "    ?negAnalysis ns1:has_lcms_feature_list ?negFeatureList .\n",
      "    ?negFeatureList ns1:has_lcms_feature ?negFeature .\n",
      "    ?negFeature ns1:has_sirius_annotation ?negAnnotation .\n",
      "    ?negAnnotation ns1:has_sirius_adduct \"[M-H]-\" .\n",
      "    ?negFeature ns1:has_retention_time ?negRetentionTime .\n",
      "    ?negFeature ns1:has_parent_mass ?negMass .\n",
      "\n",
      "    FILTER (abs(?posRetentionTime - ?negRetentionTime) <= 3)\n",
      "    FILTER (abs(?posMass - ?negMass) / ?posMass * 1000000 <= 5)\n",
      "}\n",
      "```\n",
      "- **File Path**: /var/folders/20/4kgcw5656h12ss_nj18mndwm0000gn/T/tmpkthygr1l.csv\n",
      "\n",
      "This query filters for features in the positive ionization mode that have a corresponding feature in the negative ionization mode with the specified retention time and mass criteria.\u001B[0m\n",
      "\n",
      "\u001B[1m> Finished chain.\u001B[0m\n"
     ]
    },
    {
     "name": "stderr",
     "output_type": "stream",
     "text": [
      "2024-03-21 14:39:44,544 - INFO - HTTP Request: POST https://api.openai.com/v1/chat/completions \"HTTP/1.1 200 OK\"\n"
     ]
    },
    {
     "name": "stdout",
     "output_type": "stream",
     "text": [
      "\n",
      "\n",
      "\u001B[1m> Entering new AgentExecutor chain...\u001B[0m\n"
     ]
    },
    {
     "name": "stderr",
     "output_type": "stream",
     "text": [
      "2024-03-21 14:39:46,191 - INFO - HTTP Request: POST https://api.openai.com/v1/chat/completions \"HTTP/1.1 200 OK\"\n"
     ]
    },
    {
     "name": "stdout",
     "output_type": "stream",
     "text": [
      "\u001B[32;1m\u001B[1;3m\n",
      "Invoking: `INTERPRETER_TOOL` with `{'file_path': '/var/folders/20/4kgcw5656h12ss_nj18mndwm0000gn/T/tmpkthygr1l.csv', 'generated_sparql_query': 'PREFIX ns1: <https://enpkg.commons-lab.org/kg/>\\nPREFIX ns2: <https://enpkg.commons-lab.org/module/>\\nPREFIX xsd: <http://www.w3.org/2001/XMLSchema#>\\nPREFIX wd: <http://www.wikidata.org/entity/>\\n\\nSELECT ?posFeature ?negFeature\\nWHERE {\\n    ?rawMaterial ns1:has_wd_id wd:Q6813281 .\\n    ?rawMaterial ns1:has_lab_process ?labExtract .\\n    ?labExtract ns1:has_LCMS ?posAnalysis .\\n    ?posAnalysis a ns1:LCMSAnalysisPos .\\n    ?posAnalysis ns1:has_lcms_feature_list ?posFeatureList .\\n    ?posFeatureList ns1:has_lcms_feature ?posFeature .\\n    ?posFeature ns1:has_sirius_annotation ?posAnnotation .\\n    ?posAnnotation ns1:has_sirius_adduct \"[M+H]+\" .\\n    ?posFeature ns1:has_retention_time ?posRetentionTime .\\n    ?posFeature ns1:has_parent_mass ?posMass .\\n\\n    ?labExtract ns1:has_LCMS ?negAnalysis .\\n    ?negAnalysis a ns1:LCMSAnalysisNeg .\\n    ?negAnalysis ns1:has_lcms_feature_list ?negFeatureList .\\n    ?negFeatureList ns1:has_lcms_feature ?negFeature .\\n    ?negFeature ns1:has_sirius_annotation ?negAnnotation .\\n    ?negAnnotation ns1:has_sirius_adduct \"[M-H]-\" .\\n    ?negFeature ns1:has_retention_time ?negRetentionTime .\\n    ?negFeature ns1:has_parent_mass ?negMass .\\n\\n    FILTER (abs(?posRetentionTime - ?negRetentionTime) <= 3)\\n    FILTER (abs(?posMass - ?negMass) / ?posMass * 1000000 <= 5)\\n}', 'question': 'Filter the pos ionization mode features of the Melochia umbellata taxon annotated as [M+H]+ by SIRIUS to keep the ones for which a feature in neg ionization mode is detected with the same retention time (+/- 3 seconds) and a mass corresponding to the [M-H]- adduct (+/- 5ppm).'}`\n",
      "\n",
      "\n",
      "\u001B[0mInterpreting Filter the pos ionization mode features of the Melochia umbellata taxon annotated as [M+H]+ by SIRIUS to keep the ones for which a feature in neg ionization mode is detected with the same retention time (+/- 3 seconds) and a mass corresponding to the [M-H]- adduct (+/- 5ppm).\n",
      "SPARQL query: PREFIX ns1: <https://enpkg.commons-lab.org/kg/>\n",
      "PREFIX ns2: <https://enpkg.commons-lab.org/module/>\n",
      "PREFIX xsd: <http://www.w3.org/2001/XMLSchema#>\n",
      "PREFIX wd: <http://www.wikidata.org/entity/>\n",
      "\n",
      "SELECT ?posFeature ?negFeature\n",
      "WHERE {\n",
      "    ?rawMaterial ns1:has_wd_id wd:Q6813281 .\n",
      "    ?rawMaterial ns1:has_lab_process ?labExtract .\n",
      "    ?labExtract ns1:has_LCMS ?posAnalysis .\n",
      "    ?posAnalysis a ns1:LCMSAnalysisPos .\n",
      "    ?posAnalysis ns1:has_lcms_feature_list ?posFeatureList .\n",
      "    ?posFeatureList ns1:has_lcms_feature ?posFeature .\n",
      "    ?posFeature ns1:has_sirius_annotation ?posAnnotation .\n",
      "    ?posAnnotation ns1:has_sirius_adduct \"[M+H]+\" .\n",
      "    ?posFeature ns1:has_retention_time ?posRetentionTime .\n",
      "    ?posFeature ns1:has_parent_mass ?posMass .\n",
      "\n",
      "    ?labExtract ns1:has_LCMS ?negAnalysis .\n",
      "    ?negAnalysis a ns1:LCMSAnalysisNeg .\n",
      "    ?negAnalysis ns1:has_lcms_feature_list ?negFeatureList .\n",
      "    ?negFeatureList ns1:has_lcms_feature ?negFeature .\n",
      "    ?negFeature ns1:has_sirius_annotation ?negAnnotation .\n",
      "    ?negAnnotation ns1:has_sirius_adduct \"[M-H]-\" .\n",
      "    ?negFeature ns1:has_retention_time ?negRetentionTime .\n",
      "    ?negFeature ns1:has_parent_mass ?negMass .\n",
      "\n",
      "    FILTER (abs(?posRetentionTime - ?negRetentionTime) <= 3)\n",
      "    FILTER (abs(?posMass - ?negMass) / ?posMass * 1000000 <= 5)\n",
      "}\n",
      "File path: /var/folders/20/4kgcw5656h12ss_nj18mndwm0000gn/T/tmpkthygr1l.csv\n"
     ]
    },
    {
     "name": "stderr",
     "output_type": "stream",
     "text": [
      "2024-03-21 14:40:20,818 - INFO - HTTP Request: POST https://api.openai.com/v1/chat/completions \"HTTP/1.1 200 OK\"\n",
      "/Users/madinabekbergenova/anaconda3/envs/kgai/lib/python3.11/site-packages/langchain_core/_api/deprecation.py:117: LangChainDeprecationWarning: The function `predict` was deprecated in LangChain 0.1.7 and will be removed in 0.2.0. Use invoke instead.\n",
      "  warn_deprecated(\n",
      "2024-03-21 14:40:23,232 - INFO - HTTP Request: POST https://api.openai.com/v1/chat/completions \"HTTP/1.1 200 OK\"\n",
      "2024-03-21 14:40:27,998 - INFO - HTTP Request: POST https://api.openai.com/v1/chat/completions \"HTTP/1.1 200 OK\"\n",
      "2024-03-21 14:40:30,627 - INFO - HTTP Request: POST https://api.openai.com/v1/chat/completions \"HTTP/1.1 200 OK\"\n"
     ]
    },
    {
     "name": "stdout",
     "output_type": "stream",
     "text": [
      "AI:  The bar chart above shows the count of positive and negative ionization mode features for the Melochia umbellata taxon annotated as [M+H]+ by SIRIUS. This visualization provides a clear comparison between the two types of features based on the SPARQL query results.\n",
      "\n",
      "If you need further analysis or a different type of visualization, please let me know.\n",
      "File:  image-93e6b4a7-0b19-4845-bfc0-583745448538.png\n"
     ]
    },
    {
     "data": {
      "text/plain": "<PIL.Image.Image image mode=RGB size=695x547>",
      "image/png": "[encoded data removed]",
      "image/jpeg": "[encoded data removed]"
     },
     "metadata": {},
     "output_type": "display_data"
    },
    {
     "ename": "KeyboardInterrupt",
     "evalue": "",
     "output_type": "error",
     "traceback": [
      "\u001B[0;31m---------------------------------------------------------------------------\u001B[0m",
      "\u001B[0;31mKeyboardInterrupt\u001B[0m                         Traceback (most recent call last)",
      "File \u001B[0;32m~/anaconda3/envs/kgai/lib/python3.11/site-packages/langchain_core/runnables/config.py:471\u001B[0m, in \u001B[0;36mget_executor_for_config\u001B[0;34m(config)\u001B[0m\n\u001B[1;32m    468\u001B[0m \u001B[38;5;28;01mwith\u001B[39;00m ContextThreadPoolExecutor(\n\u001B[1;32m    469\u001B[0m     max_workers\u001B[38;5;241m=\u001B[39mconfig\u001B[38;5;241m.\u001B[39mget(\u001B[38;5;124m\"\u001B[39m\u001B[38;5;124mmax_concurrency\u001B[39m\u001B[38;5;124m\"\u001B[39m)\n\u001B[1;32m    470\u001B[0m ) \u001B[38;5;28;01mas\u001B[39;00m executor:\n\u001B[0;32m--> 471\u001B[0m     \u001B[38;5;28;01myield\u001B[39;00m executor\n",
      "File \u001B[0;32m~/anaconda3/envs/kgai/lib/python3.11/site-packages/langgraph/pregel/__init__.py:348\u001B[0m, in \u001B[0;36mPregel._transform\u001B[0;34m(self, input, run_manager, config, input_keys, output_keys, interrupt)\u001B[0m\n\u001B[1;32m    346\u001B[0m \u001B[38;5;66;03m# execute tasks, and wait for one to fail or all to finish.\u001B[39;00m\n\u001B[1;32m    347\u001B[0m \u001B[38;5;66;03m# each task is independent from all other concurrent tasks\u001B[39;00m\n\u001B[0;32m--> 348\u001B[0m done, inflight \u001B[38;5;241m=\u001B[39m \u001B[43mconcurrent\u001B[49m\u001B[38;5;241;43m.\u001B[39;49m\u001B[43mfutures\u001B[49m\u001B[38;5;241;43m.\u001B[39;49m\u001B[43mwait\u001B[49m\u001B[43m(\u001B[49m\n\u001B[1;32m    349\u001B[0m \u001B[43m    \u001B[49m\u001B[43mfutures\u001B[49m\u001B[43m,\u001B[49m\n\u001B[1;32m    350\u001B[0m \u001B[43m    \u001B[49m\u001B[43mreturn_when\u001B[49m\u001B[38;5;241;43m=\u001B[39;49m\u001B[43mconcurrent\u001B[49m\u001B[38;5;241;43m.\u001B[39;49m\u001B[43mfutures\u001B[49m\u001B[38;5;241;43m.\u001B[39;49m\u001B[43mFIRST_EXCEPTION\u001B[49m\u001B[43m,\u001B[49m\n\u001B[1;32m    351\u001B[0m \u001B[43m    \u001B[49m\u001B[43mtimeout\u001B[49m\u001B[38;5;241;43m=\u001B[39;49m\u001B[38;5;28;43mself\u001B[39;49m\u001B[38;5;241;43m.\u001B[39;49m\u001B[43mstep_timeout\u001B[49m\u001B[43m,\u001B[49m\n\u001B[1;32m    352\u001B[0m \u001B[43m\u001B[49m\u001B[43m)\u001B[49m\n\u001B[1;32m    354\u001B[0m \u001B[38;5;66;03m# interrupt on failure or timeout\u001B[39;00m\n",
      "File \u001B[0;32m~/anaconda3/envs/kgai/lib/python3.11/concurrent/futures/_base.py:305\u001B[0m, in \u001B[0;36mwait\u001B[0;34m(fs, timeout, return_when)\u001B[0m\n\u001B[1;32m    303\u001B[0m     waiter \u001B[38;5;241m=\u001B[39m _create_and_install_waiters(fs, return_when)\n\u001B[0;32m--> 305\u001B[0m \u001B[43mwaiter\u001B[49m\u001B[38;5;241;43m.\u001B[39;49m\u001B[43mevent\u001B[49m\u001B[38;5;241;43m.\u001B[39;49m\u001B[43mwait\u001B[49m\u001B[43m(\u001B[49m\u001B[43mtimeout\u001B[49m\u001B[43m)\u001B[49m\n\u001B[1;32m    306\u001B[0m \u001B[38;5;28;01mfor\u001B[39;00m f \u001B[38;5;129;01min\u001B[39;00m fs:\n",
      "File \u001B[0;32m~/anaconda3/envs/kgai/lib/python3.11/threading.py:629\u001B[0m, in \u001B[0;36mEvent.wait\u001B[0;34m(self, timeout)\u001B[0m\n\u001B[1;32m    628\u001B[0m \u001B[38;5;28;01mif\u001B[39;00m \u001B[38;5;129;01mnot\u001B[39;00m signaled:\n\u001B[0;32m--> 629\u001B[0m     signaled \u001B[38;5;241m=\u001B[39m \u001B[38;5;28;43mself\u001B[39;49m\u001B[38;5;241;43m.\u001B[39;49m\u001B[43m_cond\u001B[49m\u001B[38;5;241;43m.\u001B[39;49m\u001B[43mwait\u001B[49m\u001B[43m(\u001B[49m\u001B[43mtimeout\u001B[49m\u001B[43m)\u001B[49m\n\u001B[1;32m    630\u001B[0m \u001B[38;5;28;01mreturn\u001B[39;00m signaled\n",
      "File \u001B[0;32m~/anaconda3/envs/kgai/lib/python3.11/threading.py:327\u001B[0m, in \u001B[0;36mCondition.wait\u001B[0;34m(self, timeout)\u001B[0m\n\u001B[1;32m    326\u001B[0m \u001B[38;5;28;01mif\u001B[39;00m timeout \u001B[38;5;129;01mis\u001B[39;00m \u001B[38;5;28;01mNone\u001B[39;00m:\n\u001B[0;32m--> 327\u001B[0m     \u001B[43mwaiter\u001B[49m\u001B[38;5;241;43m.\u001B[39;49m\u001B[43macquire\u001B[49m\u001B[43m(\u001B[49m\u001B[43m)\u001B[49m\n\u001B[1;32m    328\u001B[0m     gotit \u001B[38;5;241m=\u001B[39m \u001B[38;5;28;01mTrue\u001B[39;00m\n",
      "\u001B[0;31mKeyboardInterrupt\u001B[0m: ",
      "\nDuring handling of the above exception, another exception occurred:\n",
      "\u001B[0;31mKeyboardInterrupt\u001B[0m                         Traceback (most recent call last)",
      "Cell \u001B[0;32mIn[12], line 1\u001B[0m\n\u001B[0;32m----> 1\u001B[0m \u001B[38;5;28;01mfor\u001B[39;00m s \u001B[38;5;129;01min\u001B[39;00m app\u001B[38;5;241m.\u001B[39mstream(\n\u001B[1;32m      2\u001B[0m     {\u001B[38;5;124m\"\u001B[39m\u001B[38;5;124mmessages\u001B[39m\u001B[38;5;124m\"\u001B[39m: [HumanMessage(content\u001B[38;5;241m=\u001B[39mq6)]},\n\u001B[1;32m      3\u001B[0m     {\u001B[38;5;124m\"\u001B[39m\u001B[38;5;124mrecursion_limit\u001B[39m\u001B[38;5;124m\"\u001B[39m: \u001B[38;5;241m100\u001B[39m},\n\u001B[1;32m      4\u001B[0m ):\n\u001B[1;32m      5\u001B[0m     \u001B[38;5;28;01mif\u001B[39;00m \u001B[38;5;124m\"\u001B[39m\u001B[38;5;124m__end__\u001B[39m\u001B[38;5;124m\"\u001B[39m \u001B[38;5;129;01min\u001B[39;00m s:\n\u001B[1;32m      6\u001B[0m         \u001B[38;5;28mprint\u001B[39m(s)\n",
      "File \u001B[0;32m~/anaconda3/envs/kgai/lib/python3.11/site-packages/langgraph/pregel/__init__.py:615\u001B[0m, in \u001B[0;36mPregel.transform\u001B[0;34m(self, input, config, output_keys, input_keys, **kwargs)\u001B[0m\n\u001B[1;32m    606\u001B[0m \u001B[38;5;28;01mdef\u001B[39;00m \u001B[38;5;21mtransform\u001B[39m(\n\u001B[1;32m    607\u001B[0m     \u001B[38;5;28mself\u001B[39m,\n\u001B[1;32m    608\u001B[0m     \u001B[38;5;28minput\u001B[39m: Iterator[Union[\u001B[38;5;28mdict\u001B[39m[\u001B[38;5;28mstr\u001B[39m, Any], Any]],\n\u001B[0;32m   (...)\u001B[0m\n\u001B[1;32m    613\u001B[0m     \u001B[38;5;241m*\u001B[39m\u001B[38;5;241m*\u001B[39mkwargs: Any,\n\u001B[1;32m    614\u001B[0m ) \u001B[38;5;241m-\u001B[39m\u001B[38;5;241m>\u001B[39m Iterator[Union[\u001B[38;5;28mdict\u001B[39m[\u001B[38;5;28mstr\u001B[39m, Any], Any]]:\n\u001B[0;32m--> 615\u001B[0m     \u001B[38;5;28;01mfor\u001B[39;00m chunk \u001B[38;5;129;01min\u001B[39;00m \u001B[38;5;28mself\u001B[39m\u001B[38;5;241m.\u001B[39m_transform_stream_with_config(\n\u001B[1;32m    616\u001B[0m         \u001B[38;5;28minput\u001B[39m,\n\u001B[1;32m    617\u001B[0m         \u001B[38;5;28mself\u001B[39m\u001B[38;5;241m.\u001B[39m_transform,\n\u001B[1;32m    618\u001B[0m         config,\n\u001B[1;32m    619\u001B[0m         output_keys\u001B[38;5;241m=\u001B[39moutput_keys,\n\u001B[1;32m    620\u001B[0m         input_keys\u001B[38;5;241m=\u001B[39minput_keys,\n\u001B[1;32m    621\u001B[0m         \u001B[38;5;241m*\u001B[39m\u001B[38;5;241m*\u001B[39mkwargs,\n\u001B[1;32m    622\u001B[0m     ):\n\u001B[1;32m    623\u001B[0m         \u001B[38;5;28;01myield\u001B[39;00m chunk\n",
      "File \u001B[0;32m~/anaconda3/envs/kgai/lib/python3.11/site-packages/langchain_core/runnables/base.py:1513\u001B[0m, in \u001B[0;36mRunnable._transform_stream_with_config\u001B[0;34m(self, input, transformer, config, run_type, **kwargs)\u001B[0m\n\u001B[1;32m   1511\u001B[0m \u001B[38;5;28;01mtry\u001B[39;00m:\n\u001B[1;32m   1512\u001B[0m     \u001B[38;5;28;01mwhile\u001B[39;00m \u001B[38;5;28;01mTrue\u001B[39;00m:\n\u001B[0;32m-> 1513\u001B[0m         chunk: Output \u001B[38;5;241m=\u001B[39m context\u001B[38;5;241m.\u001B[39mrun(\u001B[38;5;28mnext\u001B[39m, iterator)  \u001B[38;5;66;03m# type: ignore\u001B[39;00m\n\u001B[1;32m   1514\u001B[0m         \u001B[38;5;28;01myield\u001B[39;00m chunk\n\u001B[1;32m   1515\u001B[0m         \u001B[38;5;28;01mif\u001B[39;00m final_output_supported:\n",
      "File \u001B[0;32m~/anaconda3/envs/kgai/lib/python3.11/site-packages/langgraph/pregel/__init__.py:278\u001B[0m, in \u001B[0;36mPregel._transform\u001B[0;34m(self, input, run_manager, config, input_keys, output_keys, interrupt)\u001B[0m\n\u001B[1;32m    276\u001B[0m checkpoint \u001B[38;5;241m=\u001B[39m checkpoint \u001B[38;5;129;01mor\u001B[39;00m empty_checkpoint()\n\u001B[1;32m    277\u001B[0m \u001B[38;5;66;03m# create channels from checkpoint\u001B[39;00m\n\u001B[0;32m--> 278\u001B[0m \u001B[43m\u001B[49m\u001B[38;5;28;43;01mwith\u001B[39;49;00m\u001B[43m \u001B[49m\u001B[43mChannelsManager\u001B[49m\u001B[43m(\u001B[49m\n\u001B[1;32m    279\u001B[0m \u001B[43m    \u001B[49m\u001B[38;5;28;43mself\u001B[39;49m\u001B[38;5;241;43m.\u001B[39;49m\u001B[43mchannels\u001B[49m\u001B[43m,\u001B[49m\u001B[43m \u001B[49m\u001B[43mcheckpoint\u001B[49m\n\u001B[1;32m    280\u001B[0m \u001B[43m\u001B[49m\u001B[43m)\u001B[49m\u001B[43m \u001B[49m\u001B[38;5;28;43;01mas\u001B[39;49;00m\u001B[43m \u001B[49m\u001B[43mchannels\u001B[49m\u001B[43m,\u001B[49m\u001B[43m \u001B[49m\u001B[43mget_executor_for_config\u001B[49m\u001B[43m(\u001B[49m\u001B[43mconfig\u001B[49m\u001B[43m)\u001B[49m\u001B[43m \u001B[49m\u001B[38;5;28;43;01mas\u001B[39;49;00m\u001B[43m \u001B[49m\u001B[43mexecutor\u001B[49m\u001B[43m:\u001B[49m\n\u001B[1;32m    281\u001B[0m \u001B[43m    \u001B[49m\u001B[38;5;66;43;03m# map inputs to channel updates\u001B[39;49;00m\n\u001B[1;32m    282\u001B[0m \u001B[43m    \u001B[49m\u001B[38;5;28;43;01mif\u001B[39;49;00m\u001B[43m \u001B[49m\u001B[43minput_writes\u001B[49m\u001B[43m \u001B[49m\u001B[38;5;241;43m:=\u001B[39;49m\u001B[43m \u001B[49m\u001B[43mdeque\u001B[49m\u001B[43m(\u001B[49m\n\u001B[1;32m    283\u001B[0m \u001B[43m        \u001B[49m\u001B[43mw\u001B[49m\u001B[43m \u001B[49m\u001B[38;5;28;43;01mfor\u001B[39;49;00m\u001B[43m \u001B[49m\u001B[43mc\u001B[49m\u001B[43m \u001B[49m\u001B[38;5;129;43;01min\u001B[39;49;00m\u001B[43m \u001B[49m\u001B[38;5;28;43minput\u001B[39;49m\u001B[43m \u001B[49m\u001B[38;5;28;43;01mfor\u001B[39;49;00m\u001B[43m \u001B[49m\u001B[43mw\u001B[49m\u001B[43m \u001B[49m\u001B[38;5;129;43;01min\u001B[39;49;00m\u001B[43m \u001B[49m\u001B[43mmap_input\u001B[49m\u001B[43m(\u001B[49m\u001B[43minput_keys\u001B[49m\u001B[43m,\u001B[49m\u001B[43m \u001B[49m\u001B[43mc\u001B[49m\u001B[43m)\u001B[49m\n\u001B[1;32m    284\u001B[0m \u001B[43m    \u001B[49m\u001B[43m)\u001B[49m\u001B[43m:\u001B[49m\n\u001B[1;32m    285\u001B[0m \u001B[43m        \u001B[49m\u001B[38;5;66;43;03m# discard any unfinished tasks from previous checkpoint\u001B[39;49;00m\n\u001B[1;32m    286\u001B[0m \u001B[43m        \u001B[49m\u001B[43m_prepare_next_tasks\u001B[49m\u001B[43m(\u001B[49m\u001B[43mcheckpoint\u001B[49m\u001B[43m,\u001B[49m\u001B[43m \u001B[49m\u001B[43mprocesses\u001B[49m\u001B[43m,\u001B[49m\u001B[43m \u001B[49m\u001B[43mchannels\u001B[49m\u001B[43m)\u001B[49m\n",
      "File \u001B[0;32m~/anaconda3/envs/kgai/lib/python3.11/contextlib.py:155\u001B[0m, in \u001B[0;36m_GeneratorContextManager.__exit__\u001B[0;34m(self, typ, value, traceback)\u001B[0m\n\u001B[1;32m    153\u001B[0m     value \u001B[38;5;241m=\u001B[39m typ()\n\u001B[1;32m    154\u001B[0m \u001B[38;5;28;01mtry\u001B[39;00m:\n\u001B[0;32m--> 155\u001B[0m     \u001B[38;5;28mself\u001B[39m\u001B[38;5;241m.\u001B[39mgen\u001B[38;5;241m.\u001B[39mthrow(typ, value, traceback)\n\u001B[1;32m    156\u001B[0m \u001B[38;5;28;01mexcept\u001B[39;00m \u001B[38;5;167;01mStopIteration\u001B[39;00m \u001B[38;5;28;01mas\u001B[39;00m exc:\n\u001B[1;32m    157\u001B[0m     \u001B[38;5;66;03m# Suppress StopIteration *unless* it's the same exception that\u001B[39;00m\n\u001B[1;32m    158\u001B[0m     \u001B[38;5;66;03m# was passed to throw().  This prevents a StopIteration\u001B[39;00m\n\u001B[1;32m    159\u001B[0m     \u001B[38;5;66;03m# raised inside the \"with\" statement from being suppressed.\u001B[39;00m\n\u001B[1;32m    160\u001B[0m     \u001B[38;5;28;01mreturn\u001B[39;00m exc \u001B[38;5;129;01mis\u001B[39;00m \u001B[38;5;129;01mnot\u001B[39;00m value\n",
      "File \u001B[0;32m~/anaconda3/envs/kgai/lib/python3.11/site-packages/langchain_core/runnables/config.py:468\u001B[0m, in \u001B[0;36mget_executor_for_config\u001B[0;34m(config)\u001B[0m\n\u001B[1;32m    459\u001B[0m \u001B[38;5;250m\u001B[39m\u001B[38;5;124;03m\"\"\"Get an executor for a config.\u001B[39;00m\n\u001B[1;32m    460\u001B[0m \n\u001B[1;32m    461\u001B[0m \u001B[38;5;124;03mArgs:\u001B[39;00m\n\u001B[0;32m   (...)\u001B[0m\n\u001B[1;32m    465\u001B[0m \u001B[38;5;124;03m    Generator[Executor, None, None]: The executor.\u001B[39;00m\n\u001B[1;32m    466\u001B[0m \u001B[38;5;124;03m\"\"\"\u001B[39;00m\n\u001B[1;32m    467\u001B[0m config \u001B[38;5;241m=\u001B[39m config \u001B[38;5;129;01mor\u001B[39;00m {}\n\u001B[0;32m--> 468\u001B[0m \u001B[43m\u001B[49m\u001B[38;5;28;43;01mwith\u001B[39;49;00m\u001B[43m \u001B[49m\u001B[43mContextThreadPoolExecutor\u001B[49m\u001B[43m(\u001B[49m\n\u001B[1;32m    469\u001B[0m \u001B[43m    \u001B[49m\u001B[43mmax_workers\u001B[49m\u001B[38;5;241;43m=\u001B[39;49m\u001B[43mconfig\u001B[49m\u001B[38;5;241;43m.\u001B[39;49m\u001B[43mget\u001B[49m\u001B[43m(\u001B[49m\u001B[38;5;124;43m\"\u001B[39;49m\u001B[38;5;124;43mmax_concurrency\u001B[39;49m\u001B[38;5;124;43m\"\u001B[39;49m\u001B[43m)\u001B[49m\n\u001B[1;32m    470\u001B[0m \u001B[43m\u001B[49m\u001B[43m)\u001B[49m\u001B[43m \u001B[49m\u001B[38;5;28;43;01mas\u001B[39;49;00m\u001B[43m \u001B[49m\u001B[43mexecutor\u001B[49m\u001B[43m:\u001B[49m\n\u001B[1;32m    471\u001B[0m \u001B[43m    \u001B[49m\u001B[38;5;28;43;01myield\u001B[39;49;00m\u001B[43m \u001B[49m\u001B[43mexecutor\u001B[49m\n",
      "File \u001B[0;32m~/anaconda3/envs/kgai/lib/python3.11/concurrent/futures/_base.py:647\u001B[0m, in \u001B[0;36mExecutor.__exit__\u001B[0;34m(self, exc_type, exc_val, exc_tb)\u001B[0m\n\u001B[1;32m    646\u001B[0m \u001B[38;5;28;01mdef\u001B[39;00m \u001B[38;5;21m__exit__\u001B[39m(\u001B[38;5;28mself\u001B[39m, exc_type, exc_val, exc_tb):\n\u001B[0;32m--> 647\u001B[0m     \u001B[38;5;28;43mself\u001B[39;49m\u001B[38;5;241;43m.\u001B[39;49m\u001B[43mshutdown\u001B[49m\u001B[43m(\u001B[49m\u001B[43mwait\u001B[49m\u001B[38;5;241;43m=\u001B[39;49m\u001B[38;5;28;43;01mTrue\u001B[39;49;00m\u001B[43m)\u001B[49m\n\u001B[1;32m    648\u001B[0m     \u001B[38;5;28;01mreturn\u001B[39;00m \u001B[38;5;28;01mFalse\u001B[39;00m\n",
      "File \u001B[0;32m~/anaconda3/envs/kgai/lib/python3.11/concurrent/futures/thread.py:235\u001B[0m, in \u001B[0;36mThreadPoolExecutor.shutdown\u001B[0;34m(self, wait, cancel_futures)\u001B[0m\n\u001B[1;32m    233\u001B[0m \u001B[38;5;28;01mif\u001B[39;00m wait:\n\u001B[1;32m    234\u001B[0m     \u001B[38;5;28;01mfor\u001B[39;00m t \u001B[38;5;129;01min\u001B[39;00m \u001B[38;5;28mself\u001B[39m\u001B[38;5;241m.\u001B[39m_threads:\n\u001B[0;32m--> 235\u001B[0m         \u001B[43mt\u001B[49m\u001B[38;5;241;43m.\u001B[39;49m\u001B[43mjoin\u001B[49m\u001B[43m(\u001B[49m\u001B[43m)\u001B[49m\n",
      "File \u001B[0;32m~/anaconda3/envs/kgai/lib/python3.11/threading.py:1119\u001B[0m, in \u001B[0;36mThread.join\u001B[0;34m(self, timeout)\u001B[0m\n\u001B[1;32m   1116\u001B[0m     \u001B[38;5;28;01mraise\u001B[39;00m \u001B[38;5;167;01mRuntimeError\u001B[39;00m(\u001B[38;5;124m\"\u001B[39m\u001B[38;5;124mcannot join current thread\u001B[39m\u001B[38;5;124m\"\u001B[39m)\n\u001B[1;32m   1118\u001B[0m \u001B[38;5;28;01mif\u001B[39;00m timeout \u001B[38;5;129;01mis\u001B[39;00m \u001B[38;5;28;01mNone\u001B[39;00m:\n\u001B[0;32m-> 1119\u001B[0m     \u001B[38;5;28;43mself\u001B[39;49m\u001B[38;5;241;43m.\u001B[39;49m\u001B[43m_wait_for_tstate_lock\u001B[49m\u001B[43m(\u001B[49m\u001B[43m)\u001B[49m\n\u001B[1;32m   1120\u001B[0m \u001B[38;5;28;01melse\u001B[39;00m:\n\u001B[1;32m   1121\u001B[0m     \u001B[38;5;66;03m# the behavior of a negative timeout isn't documented, but\u001B[39;00m\n\u001B[1;32m   1122\u001B[0m     \u001B[38;5;66;03m# historically .join(timeout=x) for x<0 has acted as if timeout=0\u001B[39;00m\n\u001B[1;32m   1123\u001B[0m     \u001B[38;5;28mself\u001B[39m\u001B[38;5;241m.\u001B[39m_wait_for_tstate_lock(timeout\u001B[38;5;241m=\u001B[39m\u001B[38;5;28mmax\u001B[39m(timeout, \u001B[38;5;241m0\u001B[39m))\n",
      "File \u001B[0;32m~/anaconda3/envs/kgai/lib/python3.11/threading.py:1139\u001B[0m, in \u001B[0;36mThread._wait_for_tstate_lock\u001B[0;34m(self, block, timeout)\u001B[0m\n\u001B[1;32m   1136\u001B[0m     \u001B[38;5;28;01mreturn\u001B[39;00m\n\u001B[1;32m   1138\u001B[0m \u001B[38;5;28;01mtry\u001B[39;00m:\n\u001B[0;32m-> 1139\u001B[0m     \u001B[38;5;28;01mif\u001B[39;00m \u001B[43mlock\u001B[49m\u001B[38;5;241;43m.\u001B[39;49m\u001B[43macquire\u001B[49m\u001B[43m(\u001B[49m\u001B[43mblock\u001B[49m\u001B[43m,\u001B[49m\u001B[43m \u001B[49m\u001B[43mtimeout\u001B[49m\u001B[43m)\u001B[49m:\n\u001B[1;32m   1140\u001B[0m         lock\u001B[38;5;241m.\u001B[39mrelease()\n\u001B[1;32m   1141\u001B[0m         \u001B[38;5;28mself\u001B[39m\u001B[38;5;241m.\u001B[39m_stop()\n",
      "\u001B[0;31mKeyboardInterrupt\u001B[0m: "
     ]
    }
   ],
   "source": [
    "for s in app.stream(\n",
    "    {\"messages\": [HumanMessage(content=q6)]},\n",
    "    {\"recursion_limit\": 100},\n",
    "):\n",
    "    if \"__end__\" in s:\n",
    "        print(s)\n",
    "        print(\"----\")"
   ]
  },
  {
   "cell_type": "code",
   "outputs": [
    {
     "name": "stderr",
     "output_type": "stream",
     "text": [
      "2024-03-26 15:26:22,863 - INFO - HTTP Request: POST https://api.openai.com/v1/chat/completions \"HTTP/1.1 200 OK\"\n"
     ]
    },
    {
     "name": "stdout",
     "output_type": "stream",
     "text": [
      "\n",
      "\n",
      "\u001B[1m> Entering new AgentExecutor chain...\u001B[0m\n"
     ]
    },
    {
     "name": "stderr",
     "output_type": "stream",
     "text": [
      "2024-03-26 15:26:24,031 - INFO - HTTP Request: POST https://api.openai.com/v1/chat/completions \"HTTP/1.1 200 OK\"\n"
     ]
    },
    {
     "name": "stdout",
     "output_type": "stream",
     "text": [
      "\u001B[32;1m\u001B[1;3m\n",
      "Invoking: `TAXON_RESOLVER` with `{'taxon_name': 'Tabernaemontana coffeoides'}`\n",
      "\n",
      "\n",
      "\u001B[0m\u001B[33;1m\u001B[1;3mwikidata IRI is http://www.wikidata.org/entity/Q15376858\u001B[0m"
     ]
    },
    {
     "name": "stderr",
     "output_type": "stream",
     "text": [
      "2024-03-26 15:26:27,023 - INFO - HTTP Request: POST https://api.openai.com/v1/chat/completions \"HTTP/1.1 200 OK\"\n"
     ]
    },
    {
     "name": "stdout",
     "output_type": "stream",
     "text": [
      "\u001B[32;1m\u001B[1;3mThe resolved entity for \"Tabernaemontana coffeoides\" is the Wikidata IRI: http://www.wikidata.org/entity/Q15376858.\u001B[0m\n",
      "\n",
      "\u001B[1m> Finished chain.\u001B[0m\n"
     ]
    },
    {
     "name": "stderr",
     "output_type": "stream",
     "text": [
      "2024-03-26 15:26:30,251 - INFO - HTTP Request: POST https://api.openai.com/v1/chat/completions \"HTTP/1.1 200 OK\"\n"
     ]
    },
    {
     "name": "stdout",
     "output_type": "stream",
     "text": [
      "\n",
      "\n",
      "\u001B[1m> Entering new AgentExecutor chain...\u001B[0m\n"
     ]
    },
    {
     "name": "stderr",
     "output_type": "stream",
     "text": [
      "2024-03-26 15:26:31,653 - INFO - HTTP Request: POST https://api.openai.com/v1/chat/completions \"HTTP/1.1 200 OK\"\n"
     ]
    },
    {
     "name": "stdout",
     "output_type": "stream",
     "text": [
      "\u001B[32;1m\u001B[1;3m\n",
      "Invoking: `SPARQL_QUERY_RUNNER` with `{'question': 'Among the SIRIUS structural annotations from the Tabernaemontana coffeoides (Apocynaceae) seeds extract, which ones are reported in the Tabernaemontana genus in Wikidata?', 'entities': 'Tabernaemontana coffeoides has the Wikidata IRI http://www.wikidata.org/entity/Q15376858.'}`\n",
      "\n",
      "\n",
      "\u001B[0m\n",
      "\n",
      "\u001B[1m> Entering new GraphSparqlQAChain chain...\u001B[0m\n"
     ]
    },
    {
     "name": "stderr",
     "output_type": "stream",
     "text": [
      "2024-03-26 15:26:44,245 - INFO - HTTP Request: POST https://api.openai.com/v1/chat/completions \"HTTP/1.1 200 OK\"\n"
     ]
    },
    {
     "name": "stdout",
     "output_type": "stream",
     "text": [
      "Generated SPARQL:\n",
      "\u001B[32;1m\u001B[1;3mPREFIX ns2: <https://enpkg.commons-lab.org/kg/>\n",
      "PREFIX wd: <http://www.wikidata.org/entity/>\n",
      "SELECT ?annotation\n",
      "WHERE {\n",
      "    ?rawMaterial a ns2:RawMaterial ;\n",
      "                 ns2:has_wd_id wd:Q15376858 ;\n",
      "                 ns2:has_lab_process ?labExtract .\n",
      "    ?labExtract ns2:has_LCMS ?lcmsAnalysis .\n",
      "    ?lcmsAnalysis ns2:has_sirius_annotation ?annotation .\n",
      "    ?annotation ns2:has_InChIkey2D ?inchikey .\n",
      "    ?inchikey ns2:has_wd_id ?wikidataID .\n",
      "    FILTER(STRSTARTS(STR(?wikidataID), \"http://www.wikidata.org/entity/Q\"))\n",
      "}\u001B[0m\n",
      "JSON data is empty or not in the expected format.\n",
      "Saving results to file:  None\n",
      "\n",
      "\u001B[1m> Finished chain.\u001B[0m\n",
      "\u001B[36;1m\u001B[1;3m{'query': 'PREFIX ns2: <https://enpkg.commons-lab.org/kg/>\\nPREFIX wd: <http://www.wikidata.org/entity/>\\nSELECT ?annotation\\nWHERE {\\n    ?rawMaterial a ns2:RawMaterial ;\\n                 ns2:has_wd_id wd:Q15376858 ;\\n                 ns2:has_lab_process ?labExtract .\\n    ?labExtract ns2:has_LCMS ?lcmsAnalysis .\\n    ?lcmsAnalysis ns2:has_sirius_annotation ?annotation .\\n    ?annotation ns2:has_InChIkey2D ?inchikey .\\n    ?inchikey ns2:has_wd_id ?wikidataID .\\n    FILTER(STRSTARTS(STR(?wikidataID), \"http://www.wikidata.org/entity/Q\"))\\n}', 'result': [], 'temp_file_path': None}\u001B[0m"
     ]
    },
    {
     "name": "stderr",
     "output_type": "stream",
     "text": [
      "2024-03-26 15:26:45,545 - INFO - HTTP Request: POST https://api.openai.com/v1/chat/completions \"HTTP/1.1 200 OK\"\n"
     ]
    },
    {
     "name": "stdout",
     "output_type": "stream",
     "text": [
      "\u001B[32;1m\u001B[1;3mBased on the query executed, there are no SIRIUS structural annotations from the Tabernaemontana coffeoides (Apocynaceae) seeds extract reported in the Tabernaemontana genus in Wikidata.\n",
      "\n",
      "Here are the details of the process:\n",
      "- **Question:** Among the SIRIUS structural annotations from the Tabernaemontana coffeoides (Apocynaceae) seeds extract, which ones are reported in the Tabernaemontana genus in Wikidata?\n",
      "- **Generated SPARQL Query:**\n",
      "```sparql\n",
      "PREFIX ns2: <https://enpkg.commons-lab.org/kg/>\n",
      "PREFIX wd: <http://www.wikidata.org/entity/>\n",
      "SELECT ?annotation\n",
      "WHERE {\n",
      "    ?rawMaterial a ns2:RawMaterial ;\n",
      "                 ns2:has_wd_id wd:Q15376858 ;\n",
      "                 ns2:has_lab_process ?labExtract .\n",
      "    ?labExtract ns2:has_LCMS ?lcmsAnalysis .\n",
      "    ?lcmsAnalysis ns2:has_sirius_annotation ?annotation .\n",
      "    ?annotation ns2:has_InChIkey2D ?inchikey .\n",
      "    ?inchikey ns2:has_wd_id ?wikidataID .\n",
      "    FILTER(STRSTARTS(STR(?wikidataID), \"http://www.wikidata.org/entity/Q\"))\n",
      "}\n",
      "```\n",
      "- **File Path:** The query result was directly provided, hence there is no file path for the output.\n",
      "\n",
      "This indicates that within the scope of the queried knowledge graph, there are no records of SIRIUS structural annotations for Tabernaemontana coffeoides seeds extract that are also reported in the Tabernaemontana genus in Wikidata.\u001B[0m\n",
      "\n",
      "\u001B[1m> Finished chain.\u001B[0m\n"
     ]
    },
    {
     "name": "stderr",
     "output_type": "stream",
     "text": [
      "2024-03-26 15:27:08,817 - INFO - HTTP Request: POST https://api.openai.com/v1/chat/completions \"HTTP/1.1 200 OK\"\n"
     ]
    },
    {
     "name": "stdout",
     "output_type": "stream",
     "text": [
      "{'__end__': {'messages': [HumanMessage(content='Among the SIRIUS structural annotations from the Tabernaemontana coffeoides (Apocynaceae) seeds extract, which ones are reported in the Tabernaemontana genus in Wikidata?'), HumanMessage(content='The resolved entity for \"Tabernaemontana coffeoides\" is the Wikidata IRI: http://www.wikidata.org/entity/Q15376858.', name='ENPKG_agent'), HumanMessage(content='Based on the query executed, there are no SIRIUS structural annotations from the Tabernaemontana coffeoides (Apocynaceae) seeds extract reported in the Tabernaemontana genus in Wikidata.\\n\\nHere are the details of the process:\\n- **Question:** Among the SIRIUS structural annotations from the Tabernaemontana coffeoides (Apocynaceae) seeds extract, which ones are reported in the Tabernaemontana genus in Wikidata?\\n- **Generated SPARQL Query:**\\n```sparql\\nPREFIX ns2: <https://enpkg.commons-lab.org/kg/>\\nPREFIX wd: <http://www.wikidata.org/entity/>\\nSELECT ?annotation\\nWHERE {\\n    ?rawMaterial a ns2:RawMaterial ;\\n                 ns2:has_wd_id wd:Q15376858 ;\\n                 ns2:has_lab_process ?labExtract .\\n    ?labExtract ns2:has_LCMS ?lcmsAnalysis .\\n    ?lcmsAnalysis ns2:has_sirius_annotation ?annotation .\\n    ?annotation ns2:has_InChIkey2D ?inchikey .\\n    ?inchikey ns2:has_wd_id ?wikidataID .\\n    FILTER(STRSTARTS(STR(?wikidataID), \"http://www.wikidata.org/entity/Q\"))\\n}\\n```\\n- **File Path:** The query result was directly provided, hence there is no file path for the output.\\n\\nThis indicates that within the scope of the queried knowledge graph, there are no records of SIRIUS structural annotations for Tabernaemontana coffeoides seeds extract that are also reported in the Tabernaemontana genus in Wikidata.', name='Sparql_query_runner')], 'next': 'FINISH'}}\n",
      "----\n"
     ]
    }
   ],
   "source": [
    "for s in app.stream(\n",
    "    {\"messages\": [HumanMessage(content=q4)]},\n",
    "    {\"recursion_limit\": 100},\n",
    "):\n",
    "    if \"__end__\" in s:\n",
    "        print(s)\n",
    "        print(\"----\")"
   ],
   "metadata": {
    "collapsed": false,
    "ExecuteTime": {
     "end_time": "2024-03-26T14:27:08.866889Z",
     "start_time": "2024-03-26T14:26:21.503644Z"
    }
   },
   "execution_count": 25
  },
  {
   "cell_type": "markdown",
   "source": [],
   "metadata": {
    "collapsed": false
   }
  },
  {
   "cell_type": "code",
   "outputs": [
    {
     "name": "stderr",
     "output_type": "stream",
     "text": [
      "2024-03-26 14:56:10,274 - INFO - HTTP Request: POST https://api.openai.com/v1/chat/completions \"HTTP/1.1 200 OK\"\n"
     ]
    },
    {
     "name": "stdout",
     "output_type": "stream",
     "text": [
      "\n",
      "\n",
      "\u001B[1m> Entering new AgentExecutor chain...\u001B[0m\n"
     ]
    },
    {
     "name": "stderr",
     "output_type": "stream",
     "text": [
      "2024-03-26 14:56:11,227 - INFO - HTTP Request: POST https://api.openai.com/v1/chat/completions \"HTTP/1.1 200 OK\"\n"
     ]
    },
    {
     "name": "stdout",
     "output_type": "stream",
     "text": [
      "\u001B[32;1m\u001B[1;3m\n",
      "Invoking: `TAXON_RESOLVER` with `{'taxon_name': 'Tabernaemontana coffeoides'}`\n",
      "\n",
      "\n",
      "\u001B[0m\u001B[33;1m\u001B[1;3mwikidata IRI is http://www.wikidata.org/entity/Q15376858\u001B[0m"
     ]
    },
    {
     "name": "stderr",
     "output_type": "stream",
     "text": [
      "2024-03-26 14:56:14,238 - INFO - HTTP Request: POST https://api.openai.com/v1/chat/completions \"HTTP/1.1 200 OK\"\n"
     ]
    },
    {
     "name": "stdout",
     "output_type": "stream",
     "text": [
      "\u001B[32;1m\u001B[1;3m\n",
      "Invoking: `CHEMICAL_RESOLVER` with `{'query': 'aspidospermidine'}`\n",
      "\n",
      "\n",
      "\u001B[0m\n",
      "\n",
      "\u001B[1m> Entering new ChemicalResolver chain...\u001B[0m\n",
      "InChIKey is aspidospermidine: InChIKey=YAAIPCQYJYPITK-UHFFFAOYSA-N\n",
      "\n",
      "\u001B[1m> Finished chain.\u001B[0m\n",
      "\u001B[36;1m\u001B[1;3mInChIKey is aspidospermidine: InChIKey=YAAIPCQYJYPITK-UHFFFAOYSA-N\u001B[0m"
     ]
    },
    {
     "name": "stderr",
     "output_type": "stream",
     "text": [
      "2024-03-26 14:56:16,602 - INFO - HTTP Request: POST https://api.openai.com/v1/chat/completions \"HTTP/1.1 200 OK\"\n"
     ]
    },
    {
     "name": "stdout",
     "output_type": "stream",
     "text": [
      "\u001B[32;1m\u001B[1;3mThe resolved entities are:\n",
      "\n",
      "1. Tabernaemontana coffeoides: http://www.wikidata.org/entity/Q15376858\n",
      "2. Aspidospermidine: InChIKey=YAAIPCQYJYPITK-UHFFFAOYSA-N\u001B[0m\n",
      "\n",
      "\u001B[1m> Finished chain.\u001B[0m\n"
     ]
    },
    {
     "name": "stderr",
     "output_type": "stream",
     "text": [
      "2024-03-26 14:56:19,993 - INFO - HTTP Request: POST https://api.openai.com/v1/chat/completions \"HTTP/1.1 200 OK\"\n"
     ]
    },
    {
     "name": "stdout",
     "output_type": "stream",
     "text": [
      "\n",
      "\n",
      "\u001B[1m> Entering new AgentExecutor chain...\u001B[0m\n"
     ]
    },
    {
     "name": "stderr",
     "output_type": "stream",
     "text": [
      "2024-03-26 14:56:24,678 - INFO - HTTP Request: POST https://api.openai.com/v1/chat/completions \"HTTP/1.1 200 OK\"\n"
     ]
    },
    {
     "name": "stdout",
     "output_type": "stream",
     "text": [
      "\u001B[32;1m\u001B[1;3m\n",
      "Invoking: `SPARQL_QUERY_RUNNER` with `{'question': 'Among the structural annotations from the Tabernaemontana coffeoides (Apocynaceae) seeds extract taxon , which ones contain an aspidospermidine substructure?', 'entities': 'Tabernaemontana coffeoides+taxon+http://www.wikidata.org/entity/Q15376858; Aspidospermidine+InChIKey+YAAIPCQYJYPITK-UHFFFAOYSA-N'}`\n",
      "\n",
      "\n",
      "\u001B[0m\n",
      "\n",
      "\u001B[1m> Entering new GraphSparqlQAChain chain...\u001B[0m\n"
     ]
    },
    {
     "name": "stderr",
     "output_type": "stream",
     "text": [
      "/Users/madinabekbergenova/anaconda3/envs/kgai/lib/python3.11/site-packages/langchain_core/_api/deprecation.py:117: LangChainDeprecationWarning: The function `run` was deprecated in LangChain 0.1.0 and will be removed in 0.2.0. Use invoke instead.\n",
      "  warn_deprecated(\n",
      "2024-03-26 14:56:46,798 - INFO - HTTP Request: POST https://api.openai.com/v1/chat/completions \"HTTP/1.1 200 OK\"\n"
     ]
    },
    {
     "name": "stdout",
     "output_type": "stream",
     "text": [
      "Generated SPARQL:\n",
      "\u001B[32;1m\u001B[1;3mPREFIX ns1: <https://enpkg.commons-lab.org/module/>\n",
      "PREFIX ns2: <https://enpkg.commons-lab.org/kg/>\n",
      "PREFIX rdfs: <http://www.w3.org/2000/01/rdf-schema#>\n",
      "PREFIX xsd: <http://www.w3.org/2001/XMLSchema#>\n",
      "\n",
      "SELECT ?annotation\n",
      "WHERE {\n",
      "    ?taxon rdfs:label \"Tabernaemontana coffeoides\" .\n",
      "    ?taxon ns2:has_lab_process ?extract .\n",
      "    ?extract ns2:has_sirius_annotation ?annotation .\n",
      "    ?annotation ns2:has_InChIkey2D ?inchikey .\n",
      "    ?inchikey rdfs:label \"YAAIPCQYJYPITK-UHFFFAOYSA-N\" .\n",
      "}\u001B[0m\n",
      "JSON data is empty or not in the expected format.\n",
      "Saving results to file:  None\n",
      "\n",
      "\u001B[1m> Finished chain.\u001B[0m\n",
      "\u001B[36;1m\u001B[1;3m{'query': 'PREFIX ns1: <https://enpkg.commons-lab.org/module/>\\nPREFIX ns2: <https://enpkg.commons-lab.org/kg/>\\nPREFIX rdfs: <http://www.w3.org/2000/01/rdf-schema#>\\nPREFIX xsd: <http://www.w3.org/2001/XMLSchema#>\\n\\nSELECT ?annotation\\nWHERE {\\n    ?taxon rdfs:label \"Tabernaemontana coffeoides\" .\\n    ?taxon ns2:has_lab_process ?extract .\\n    ?extract ns2:has_sirius_annotation ?annotation .\\n    ?annotation ns2:has_InChIkey2D ?inchikey .\\n    ?inchikey rdfs:label \"YAAIPCQYJYPITK-UHFFFAOYSA-N\" .\\n}', 'result': [], 'temp_file_path': None}\u001B[0m"
     ]
    },
    {
     "name": "stderr",
     "output_type": "stream",
     "text": [
      "2024-03-26 14:56:47,844 - INFO - HTTP Request: POST https://api.openai.com/v1/chat/completions \"HTTP/1.1 200 OK\"\n"
     ]
    },
    {
     "name": "stdout",
     "output_type": "stream",
     "text": [
      "\u001B[32;1m\u001B[1;3mThe query did not return any structural annotations from the Tabernaemontana coffeoides seeds extract taxon that contain an aspidospermidine substructure. It appears there are no matching records in the database for this specific query.\n",
      "\n",
      "Here are the details of the SPARQL query executed:\n",
      "\n",
      "```sparql\n",
      "PREFIX ns1: <https://enpkg.commons-lab.org/module/>\n",
      "PREFIX ns2: <https://enpkg.commons-lab.org/kg/>\n",
      "PREFIX rdfs: <http://www.w3.org/2000/01/rdf-schema#>\n",
      "PREFIX xsd: <http://www.w3.org/2001/XMLSchema#>\n",
      "\n",
      "SELECT ?annotation\n",
      "WHERE {\n",
      "    ?taxon rdfs:label \"Tabernaemontana coffeoides\" .\n",
      "    ?taxon ns2:has_lab_process ?extract .\n",
      "    ?extract ns2:has_sirius_annotation ?annotation .\n",
      "    ?annotation ns2:has_InChIkey2D ?inchikey .\n",
      "    ?inchikey rdfs:label \"YAAIPCQYJYPITK-UHFFFAOYSA-N\" .\n",
      "}\n",
      "```\n",
      "\n",
      "No annotations were found that match the criteria.\u001B[0m\n",
      "\n",
      "\u001B[1m> Finished chain.\u001B[0m\n"
     ]
    },
    {
     "name": "stderr",
     "output_type": "stream",
     "text": [
      "2024-03-26 14:57:03,384 - INFO - HTTP Request: POST https://api.openai.com/v1/chat/completions \"HTTP/1.1 200 OK\"\n"
     ]
    },
    {
     "name": "stdout",
     "output_type": "stream",
     "text": [
      "{'__end__': {'messages': [HumanMessage(content='Among the structural annotations from the Tabernaemontana coffeoides (Apocynaceae) seeds extract taxon , which ones contain an aspidospermidine substructure?'), HumanMessage(content='The resolved entities are:\\n\\n1. Tabernaemontana coffeoides: http://www.wikidata.org/entity/Q15376858\\n2. Aspidospermidine: InChIKey=YAAIPCQYJYPITK-UHFFFAOYSA-N', name='ENPKG_agent'), HumanMessage(content='The query did not return any structural annotations from the Tabernaemontana coffeoides seeds extract taxon that contain an aspidospermidine substructure. It appears there are no matching records in the database for this specific query.\\n\\nHere are the details of the SPARQL query executed:\\n\\n```sparql\\nPREFIX ns1: <https://enpkg.commons-lab.org/module/>\\nPREFIX ns2: <https://enpkg.commons-lab.org/kg/>\\nPREFIX rdfs: <http://www.w3.org/2000/01/rdf-schema#>\\nPREFIX xsd: <http://www.w3.org/2001/XMLSchema#>\\n\\nSELECT ?annotation\\nWHERE {\\n    ?taxon rdfs:label \"Tabernaemontana coffeoides\" .\\n    ?taxon ns2:has_lab_process ?extract .\\n    ?extract ns2:has_sirius_annotation ?annotation .\\n    ?annotation ns2:has_InChIkey2D ?inchikey .\\n    ?inchikey rdfs:label \"YAAIPCQYJYPITK-UHFFFAOYSA-N\" .\\n}\\n```\\n\\nNo annotations were found that match the criteria.', name='Sparql_query_runner')], 'next': 'FINISH'}}\n",
      "----\n"
     ]
    }
   ],
   "source": [
    "for s in app.stream(\n",
    "    {\"messages\": [HumanMessage(content=q3)]},\n",
    "    {\"recursion_limit\": 100},\n",
    "):\n",
    "    if \"__end__\" in s:\n",
    "        print(s)\n",
    "        print(\"----\")"
   ],
   "metadata": {
    "collapsed": false,
    "ExecuteTime": {
     "end_time": "2024-03-26T13:57:03.422213Z",
     "start_time": "2024-03-26T13:56:08.559132Z"
    }
   },
   "execution_count": 13
  },
  {
   "cell_type": "code",
   "execution_count": 257,
   "metadata": {
    "ExecuteTime": {
     "end_time": "2024-03-15T13:44:28.483550Z",
     "start_time": "2024-03-15T13:40:57.907843Z"
    },
    "collapsed": false
   },
   "outputs": [
    {
     "name": "stderr",
     "output_type": "stream",
     "text": [
      "2024-03-15 14:40:59,153 - INFO - HTTP Request: POST https://api.openai.com/v1/chat/completions \"HTTP/1.1 200 OK\"\n"
     ]
    },
    {
     "name": "stdout",
     "output_type": "stream",
     "text": [
      "\n",
      "\n",
      "\u001B[1m> Entering new AgentExecutor chain...\u001B[0m\n"
     ]
    },
    {
     "name": "stderr",
     "output_type": "stream",
     "text": [
      "2024-03-15 14:41:00,381 - INFO - HTTP Request: POST https://api.openai.com/v1/chat/completions \"HTTP/1.1 200 OK\"\n"
     ]
    },
    {
     "name": "stdout",
     "output_type": "stream",
     "text": [
      "\u001B[32;1m\u001B[1;3m\n",
      "Invoking: `TAXON_RESOLVER` with `{'taxon_name': 'Melochia umbellata'}`\n",
      "\n",
      "\n",
      "\u001B[0m\u001B[33;1m\u001B[1;3mwikidata IRI is http://www.wikidata.org/entity/Q6813281\u001B[0m"
     ]
    },
    {
     "name": "stderr",
     "output_type": "stream",
     "text": [
      "2024-03-15 14:41:01,997 - INFO - HTTP Request: POST https://api.openai.com/v1/chat/completions \"HTTP/1.1 200 OK\"\n"
     ]
    },
    {
     "name": "stdout",
     "output_type": "stream",
     "text": [
      "\u001B[32;1m\u001B[1;3mThe resolved entity for the taxon \"Melochia umbellata\" is the Wikidata IRI: http://www.wikidata.org/entity/Q6813281\n",
      "\n",
      "The units relevant to numerical values in this question are:\n",
      "- \"retention time\": \"seconds\"\u001B[0m\n",
      "\n",
      "\u001B[1m> Finished chain.\u001B[0m\n"
     ]
    },
    {
     "name": "stderr",
     "output_type": "stream",
     "text": [
      "2024-03-15 14:41:05,009 - INFO - HTTP Request: POST https://api.openai.com/v1/chat/completions \"HTTP/1.1 200 OK\"\n"
     ]
    },
    {
     "name": "stdout",
     "output_type": "stream",
     "text": [
      "\n",
      "\n",
      "\u001B[1m> Entering new AgentExecutor chain...\u001B[0m\n"
     ]
    },
    {
     "name": "stderr",
     "output_type": "stream",
     "text": [
      "2024-03-15 14:41:06,730 - INFO - HTTP Request: POST https://api.openai.com/v1/chat/completions \"HTTP/1.1 200 OK\"\n"
     ]
    },
    {
     "name": "stdout",
     "output_type": "stream",
     "text": [
      "\u001B[32;1m\u001B[1;3m\n",
      "Invoking: `SPARQL_QUERY_RUNNER` with `{'question': 'For features from the Melochia umbellata taxon in pos ionization mode with SIRIUS annotations, get the ones for which a feature in neg ionization mode with the same retention time (+/- 3 seconds) has the same SIRIUS annotation by comparing the InCHIKey 2D. Return the features, retention times, and InChIKey2D', 'entities': 'Melochia umbellata: http://www.wikidata.org/entity/Q6813281'}`\n",
      "\n",
      "\n",
      "\u001B[0m\n",
      "\n",
      "\u001B[1m> Entering new GraphSparqlQAChain chain...\u001B[0m\n"
     ]
    },
    {
     "name": "stderr",
     "output_type": "stream",
     "text": [
      "2024-03-15 14:41:29,529 - INFO - HTTP Request: POST https://api.openai.com/v1/chat/completions \"HTTP/1.1 200 OK\"\n"
     ]
    },
    {
     "name": "stdout",
     "output_type": "stream",
     "text": [
      "Generated SPARQL:\n",
      "\u001B[32;1m\u001B[1;3mPREFIX ns1: <https://enpkg.commons-lab.org/kg/>\n",
      "PREFIX ns2: <https://enpkg.commons-lab.org/module/>\n",
      "PREFIX xsd: <http://www.w3.org/2001/XMLSchema#>\n",
      "\n",
      "SELECT ?featurePos ?retentionTimePos ?InChIKey2DPos ?featureNeg ?retentionTimeNeg ?InChIKey2DNeg\n",
      "WHERE {\n",
      "    ?rawMaterial ns1:has_wd_id <http://www.wikidata.org/entity/Q6813281> .\n",
      "    ?rawMaterial ns1:has_lab_process ?labExtract .\n",
      "    ?labExtract ns1:has_LCMS ?lcmsAnalysisPos .\n",
      "    ?lcmsAnalysisPos a ns1:LCMSAnalysisPos .\n",
      "    ?lcmsAnalysisPos ns1:has_lcms_feature_list ?lcmsFeatureListPos .\n",
      "    ?lcmsFeatureListPos ns1:has_lcms_feature ?featurePos .\n",
      "    ?featurePos ns1:has_retention_time ?retentionTimePos .\n",
      "    ?featurePos ns1:has_sirius_annotation ?siriusAnnotationPos .\n",
      "    ?siriusAnnotationPos ns1:has_InChIkey2D ?InChIKey2DPos .\n",
      "    \n",
      "    ?labExtract ns1:has_LCMS ?lcmsAnalysisNeg .\n",
      "    ?lcmsAnalysisNeg a ns1:LCMSAnalysisNeg .\n",
      "    ?lcmsAnalysisNeg ns1:has_lcms_feature_list ?lcmsFeatureListNeg .\n",
      "    ?lcmsFeatureListNeg ns1:has_lcms_feature ?featureNeg .\n",
      "    ?featureNeg ns1:has_retention_time ?retentionTimeNeg .\n",
      "    ?featureNeg ns1:has_sirius_annotation ?siriusAnnotationNeg .\n",
      "    ?siriusAnnotationNeg ns1:has_InChIkey2D ?InChIKey2DNeg .\n",
      "    \n",
      "    FILTER (?InChIKey2DPos = ?InChIKey2DNeg)\n",
      "    FILTER (abs(?retentionTimePos - ?retentionTimeNeg) <= 3)\n",
      "}\u001B[0m\n",
      "Saving results to file:  /var/folders/20/4kgcw5656h12ss_nj18mndwm0000gn/T/tmpjr_a9awh.csv\n",
      "\n",
      "\u001B[1m> Finished chain.\u001B[0m\n",
      "\u001B[36;1m\u001B[1;3m{'query': 'PREFIX ns1: <https://enpkg.commons-lab.org/kg/>\\nPREFIX ns2: <https://enpkg.commons-lab.org/module/>\\nPREFIX xsd: <http://www.w3.org/2001/XMLSchema#>\\n\\nSELECT ?featurePos ?retentionTimePos ?InChIKey2DPos ?featureNeg ?retentionTimeNeg ?InChIKey2DNeg\\nWHERE {\\n    ?rawMaterial ns1:has_wd_id <http://www.wikidata.org/entity/Q6813281> .\\n    ?rawMaterial ns1:has_lab_process ?labExtract .\\n    ?labExtract ns1:has_LCMS ?lcmsAnalysisPos .\\n    ?lcmsAnalysisPos a ns1:LCMSAnalysisPos .\\n    ?lcmsAnalysisPos ns1:has_lcms_feature_list ?lcmsFeatureListPos .\\n    ?lcmsFeatureListPos ns1:has_lcms_feature ?featurePos .\\n    ?featurePos ns1:has_retention_time ?retentionTimePos .\\n    ?featurePos ns1:has_sirius_annotation ?siriusAnnotationPos .\\n    ?siriusAnnotationPos ns1:has_InChIkey2D ?InChIKey2DPos .\\n    \\n    ?labExtract ns1:has_LCMS ?lcmsAnalysisNeg .\\n    ?lcmsAnalysisNeg a ns1:LCMSAnalysisNeg .\\n    ?lcmsAnalysisNeg ns1:has_lcms_feature_list ?lcmsFeatureListNeg .\\n    ?lcmsFeatureListNeg ns1:has_lcms_feature ?featureNeg .\\n    ?featureNeg ns1:has_retention_time ?retentionTimeNeg .\\n    ?featureNeg ns1:has_sirius_annotation ?siriusAnnotationNeg .\\n    ?siriusAnnotationNeg ns1:has_InChIkey2D ?InChIKey2DNeg .\\n    \\n    FILTER (?InChIKey2DPos = ?InChIKey2DNeg)\\n    FILTER (abs(?retentionTimePos - ?retentionTimeNeg) <= 3)\\n}', 'temp_file_path': '/var/folders/20/4kgcw5656h12ss_nj18mndwm0000gn/T/tmpjr_a9awh.csv'}\u001B[0m"
     ]
    },
    {
     "name": "stderr",
     "output_type": "stream",
     "text": [
      "2024-03-15 14:41:32,714 - INFO - HTTP Request: POST https://api.openai.com/v1/chat/completions \"HTTP/1.1 200 OK\"\n"
     ]
    },
    {
     "name": "stdout",
     "output_type": "stream",
     "text": [
      "\u001B[32;1m\u001B[1;3mThe SPARQL query has been successfully generated and executed to find features from the Melochia umbellata taxon in positive ionization mode with SIRIUS annotations, which have a corresponding feature in negative ionization mode with the same retention time (±3 seconds) and the same SIRIUS annotation by comparing the InCHIKey 2D. The results include the features, retention times, and InChIKey2D.\n",
      "\n",
      "Here is the information you requested:\n",
      "\n",
      "- **Generated SPARQL Query:**\n",
      "```sparql\n",
      "PREFIX ns1: <https://enpkg.commons-lab.org/kg/>\n",
      "PREFIX ns2: <https://enpkg.commons-lab.org/module/>\n",
      "PREFIX xsd: <http://www.w3.org/2001/XMLSchema#>\n",
      "\n",
      "SELECT ?featurePos ?retentionTimePos ?InChIKey2DPos ?featureNeg ?retentionTimeNeg ?InChIKey2DNeg\n",
      "WHERE {\n",
      "    ?rawMaterial ns1:has_wd_id <http://www.wikidata.org/entity/Q6813281> .\n",
      "    ?rawMaterial ns1:has_lab_process ?labExtract .\n",
      "    ?labExtract ns1:has_LCMS ?lcmsAnalysisPos .\n",
      "    ?lcmsAnalysisPos a ns1:LCMSAnalysisPos .\n",
      "    ?lcmsAnalysisPos ns1:has_lcms_feature_list ?lcmsFeatureListPos .\n",
      "    ?lcmsFeatureListPos ns1:has_lcms_feature ?featurePos .\n",
      "    ?featurePos ns1:has_retention_time ?retentionTimePos .\n",
      "    ?featurePos ns1:has_sirius_annotation ?siriusAnnotationPos .\n",
      "    ?siriusAnnotationPos ns1:has_InChIkey2D ?InChIKey2DPos .\n",
      "    \n",
      "    ?labExtract ns1:has_LCMS ?lcmsAnalysisNeg .\n",
      "    ?lcmsAnalysisNeg a ns1:LCMSAnalysisNeg .\n",
      "    ?lcmsAnalysisNeg ns1:has_lcms_feature_list ?lcmsFeatureListNeg .\n",
      "    ?lcmsFeatureListNeg ns1:has_lcms_feature ?featureNeg .\n",
      "    ?featureNeg ns1:has_retention_time ?retentionTimeNeg .\n",
      "    ?featureNeg ns1:has_sirius_annotation ?siriusAnnotationNeg .\n",
      "    ?siriusAnnotationNeg ns1:has_InChIkey2D ?InChIKey2DNeg .\n",
      "    \n",
      "    FILTER (?InChIKey2DPos = ?InChIKey2DNeg)\n",
      "    FILTER (abs(?retentionTimePos - ?retentionTimeNeg) <= 3)\n",
      "}\n",
      "```\n",
      "\n",
      "- **File Path:** `/var/folders/20/4kgcw5656h12ss_nj18mndwm0000gn/T/tmpjr_a9awh.csv`\n",
      "\n",
      "The results from this query are stored in the specified file path. To get the detailed results, please refer to the file.\u001B[0m\n",
      "\n",
      "\u001B[1m> Finished chain.\u001B[0m\n"
     ]
    },
    {
     "name": "stderr",
     "output_type": "stream",
     "text": [
      "2024-03-15 14:42:06,219 - INFO - HTTP Request: POST https://api.openai.com/v1/chat/completions \"HTTP/1.1 200 OK\"\n"
     ]
    },
    {
     "name": "stdout",
     "output_type": "stream",
     "text": [
      "\n",
      "\n",
      "\u001B[1m> Entering new AgentExecutor chain...\u001B[0m\n"
     ]
    },
    {
     "name": "stderr",
     "output_type": "stream",
     "text": [
      "2024-03-15 14:42:13,616 - INFO - HTTP Request: POST https://api.openai.com/v1/chat/completions \"HTTP/1.1 200 OK\"\n"
     ]
    },
    {
     "name": "stdout",
     "output_type": "stream",
     "text": [
      "\u001B[32;1m\u001B[1;3m\n",
      "Invoking: `INTERPRETER_TOOL` with `{'file_path': '/var/folders/20/4kgcw5656h12ss_nj18mndwm0000gn/T/tmpjr_a9awh.csv', 'generated_sparql_query': 'PREFIX ns1: <https://enpkg.commons-lab.org/kg/>\\nPREFIX ns2: <https://enpkg.commons-lab.org/module/>\\nPREFIX xsd: <http://www.w3.org/2001/XMLSchema#>\\n\\nSELECT ?featurePos ?retentionTimePos ?InChIKey2DPos ?featureNeg ?retentionTimeNeg ?InChIKey2DNeg\\nWHERE {\\n    ?rawMaterial ns1:has_wd_id <http://www.wikidata.org/entity/Q6813281> .\\n    ?rawMaterial ns1:has_lab_process ?labExtract .\\n    ?labExtract ns1:has_LCMS ?lcmsAnalysisPos .\\n    ?lcmsAnalysisPos a ns1:LCMSAnalysisPos .\\n    ?lcmsAnalysisPos ns1:has_lcms_feature_list ?lcmsFeatureListPos .\\n    ?lcmsFeatureListPos ns1:has_lcms_feature ?featurePos .\\n    ?featurePos ns1:has_retention_time ?retentionTimePos .\\n    ?featurePos ns1:has_sirius_annotation ?siriusAnnotationPos .\\n    ?siriusAnnotationPos ns1:has_InChIkey2D ?InChIKey2DPos .\\n    \\n    ?labExtract ns1:has_LCMS ?lcmsAnalysisNeg .\\n    ?lcmsAnalysisNeg a ns1:LCMSAnalysisNeg .\\n    ?lcmsAnalysisNeg ns1:has_lcms_feature_list ?lcmsFeatureListNeg .\\n    ?lcmsFeatureListNeg ns1:has_lcms_feature ?featureNeg .\\n    ?featureNeg ns1:has_retention_time ?retentionTimeNeg .\\n    ?featureNeg ns1:has_sirius_annotation ?siriusAnnotationNeg .\\n    ?siriusAnnotationNeg ns1:has_InChIkey2D ?InChIKey2DNeg .\\n    \\n    FILTER (?InChIKey2DPos = ?InChIKey2DNeg)\\n    FILTER (abs(?retentionTimePos - ?retentionTimeNeg) <= 3)\\n}', 'question': 'For features from the Melochia umbellata taxon in pos ionization mode with SIRIUS annotations, get the ones for which a feature in neg ionization mode with the same retention time (+/- 3 seconds) has the same SIRIUS annotation by comparing the InCHIKey 2D. Return the features, retention times, and InChIKey2D'}`\n",
      "\n",
      "\n",
      "\u001B[0mInterpreting For features from the Melochia umbellata taxon in pos ionization mode with SIRIUS annotations, get the ones for which a feature in neg ionization mode with the same retention time (+/- 3 seconds) has the same SIRIUS annotation by comparing the InCHIKey 2D. Return the features, retention times, and InChIKey2D\n",
      "SPARQL query: PREFIX ns1: <https://enpkg.commons-lab.org/kg/>\n",
      "PREFIX ns2: <https://enpkg.commons-lab.org/module/>\n",
      "PREFIX xsd: <http://www.w3.org/2001/XMLSchema#>\n",
      "\n",
      "SELECT ?featurePos ?retentionTimePos ?InChIKey2DPos ?featureNeg ?retentionTimeNeg ?InChIKey2DNeg\n",
      "WHERE {\n",
      "    ?rawMaterial ns1:has_wd_id <http://www.wikidata.org/entity/Q6813281> .\n",
      "    ?rawMaterial ns1:has_lab_process ?labExtract .\n",
      "    ?labExtract ns1:has_LCMS ?lcmsAnalysisPos .\n",
      "    ?lcmsAnalysisPos a ns1:LCMSAnalysisPos .\n",
      "    ?lcmsAnalysisPos ns1:has_lcms_feature_list ?lcmsFeatureListPos .\n",
      "    ?lcmsFeatureListPos ns1:has_lcms_feature ?featurePos .\n",
      "    ?featurePos ns1:has_retention_time ?retentionTimePos .\n",
      "    ?featurePos ns1:has_sirius_annotation ?siriusAnnotationPos .\n",
      "    ?siriusAnnotationPos ns1:has_InChIkey2D ?InChIKey2DPos .\n",
      "    \n",
      "    ?labExtract ns1:has_LCMS ?lcmsAnalysisNeg .\n",
      "    ?lcmsAnalysisNeg a ns1:LCMSAnalysisNeg .\n",
      "    ?lcmsAnalysisNeg ns1:has_lcms_feature_list ?lcmsFeatureListNeg .\n",
      "    ?lcmsFeatureListNeg ns1:has_lcms_feature ?featureNeg .\n",
      "    ?featureNeg ns1:has_retention_time ?retentionTimeNeg .\n",
      "    ?featureNeg ns1:has_sirius_annotation ?siriusAnnotationNeg .\n",
      "    ?siriusAnnotationNeg ns1:has_InChIkey2D ?InChIKey2DNeg .\n",
      "    \n",
      "    FILTER (?InChIKey2DPos = ?InChIKey2DNeg)\n",
      "    FILTER (abs(?retentionTimePos - ?retentionTimeNeg) <= 3)\n",
      "}\n",
      "File path: /var/folders/20/4kgcw5656h12ss_nj18mndwm0000gn/T/tmpjr_a9awh.csv\n",
      "INFO: Using a LocalBox which is not fully isolated\n",
      "      and not scalable across multiple users.\n",
      "      Make sure to use a CODEBOX_API_KEY in production.\n",
      "      Set envar SHOW_INFO=False to not see this again.\n"
     ]
    },
    {
     "name": "stderr",
     "output_type": "stream",
     "text": [
      "2024-03-15 14:42:49,029 - INFO - HTTP Request: POST https://api.openai.com/v1/chat/completions \"HTTP/1.1 200 OK\"\n",
      "2024-03-15 14:42:50,131 - INFO - HTTP Request: POST https://api.openai.com/v1/chat/completions \"HTTP/1.1 200 OK\"\n",
      "2024-03-15 14:42:54,340 - INFO - HTTP Request: POST https://api.openai.com/v1/chat/completions \"HTTP/1.1 200 OK\"\n",
      "2024-03-15 14:42:55,006 - INFO - HTTP Request: POST https://api.openai.com/v1/chat/completions \"HTTP/1.1 200 OK\"\n",
      "2024-03-15 14:42:57,130 - INFO - HTTP Request: POST https://api.openai.com/v1/chat/completions \"HTTP/1.1 200 OK\"\n"
     ]
    },
    {
     "name": "stdout",
     "output_type": "stream",
     "text": [
      "AI:  The analysis of the dataset based on the SPARQL query reveals 115 rows of data containing the features, retention times, and InChIKey2D values for both positive and negative ionization modes.\n",
      "\n",
      "If visualization is required to effectively communicate the answer, please let me know the specific type of visualization you would like to see, such as a bar chart, diagram, or plot.\n",
      "\u001B[36;1m\u001B[1;3mThe analysis of the dataset based on the SPARQL query reveals 115 rows of data containing the features, retention times, and InChIKey2D values for both positive and negative ionization modes.\n",
      "\n",
      "If visualization is required to effectively communicate the answer, please let me know the specific type of visualization you would like to see, such as a bar chart, diagram, or plot.\u001B[0m"
     ]
    },
    {
     "name": "stderr",
     "output_type": "stream",
     "text": [
      "2024-03-15 14:44:16,375 - INFO - HTTP Request: POST https://api.openai.com/v1/chat/completions \"HTTP/1.1 200 OK\"\n"
     ]
    },
    {
     "name": "stdout",
     "output_type": "stream",
     "text": [
      "\u001B[32;1m\u001B[1;3mThe analysis of the dataset based on the SPARQL query reveals that there are 115 rows of data containing the features, retention times, and InChIKey2D values for both positive and negative ionization modes. This indicates that there are 115 instances where features from the Melochia umbellata taxon in positive ionization mode with SIRIUS annotations have a corresponding feature in negative ionization mode with the same retention time (±3 seconds) and the same SIRIUS annotation by comparing the InCHIKey 2D.\n",
      "\n",
      "If you need further details or a specific visualization of this data, please let me know how you would like the information presented.\u001B[0m\n",
      "\n",
      "\u001B[1m> Finished chain.\u001B[0m\n"
     ]
    },
    {
     "name": "stderr",
     "output_type": "stream",
     "text": [
      "2024-03-15 14:44:28,462 - INFO - HTTP Request: POST https://api.openai.com/v1/chat/completions \"HTTP/1.1 200 OK\"\n"
     ]
    },
    {
     "name": "stdout",
     "output_type": "stream",
     "text": [
      "{'__end__': {'messages': [HumanMessage(content='For features from the Melochia umbellata taxon in pos ionization mode with SIRIUS annotations, get the ones for which a feature in neg ionization mode with the same retention time (+/- 3 seconds) has the same SIRIUS annotation by comparing the InCHIKey 2D. Return the features, retention times, and InChIKey2D'), HumanMessage(content='The resolved entity for the taxon \"Melochia umbellata\" is the Wikidata IRI: http://www.wikidata.org/entity/Q6813281\\n\\nThe units relevant to numerical values in this question are:\\n- \"retention time\": \"seconds\"', name='ENPKG_agent'), HumanMessage(content='The SPARQL query has been successfully generated and executed to find features from the Melochia umbellata taxon in positive ionization mode with SIRIUS annotations, which have a corresponding feature in negative ionization mode with the same retention time (±3 seconds) and the same SIRIUS annotation by comparing the InCHIKey 2D. The results include the features, retention times, and InChIKey2D.\\n\\nHere is the information you requested:\\n\\n- **Generated SPARQL Query:**\\n```sparql\\nPREFIX ns1: <https://enpkg.commons-lab.org/kg/>\\nPREFIX ns2: <https://enpkg.commons-lab.org/module/>\\nPREFIX xsd: <http://www.w3.org/2001/XMLSchema#>\\n\\nSELECT ?featurePos ?retentionTimePos ?InChIKey2DPos ?featureNeg ?retentionTimeNeg ?InChIKey2DNeg\\nWHERE {\\n    ?rawMaterial ns1:has_wd_id <http://www.wikidata.org/entity/Q6813281> .\\n    ?rawMaterial ns1:has_lab_process ?labExtract .\\n    ?labExtract ns1:has_LCMS ?lcmsAnalysisPos .\\n    ?lcmsAnalysisPos a ns1:LCMSAnalysisPos .\\n    ?lcmsAnalysisPos ns1:has_lcms_feature_list ?lcmsFeatureListPos .\\n    ?lcmsFeatureListPos ns1:has_lcms_feature ?featurePos .\\n    ?featurePos ns1:has_retention_time ?retentionTimePos .\\n    ?featurePos ns1:has_sirius_annotation ?siriusAnnotationPos .\\n    ?siriusAnnotationPos ns1:has_InChIkey2D ?InChIKey2DPos .\\n    \\n    ?labExtract ns1:has_LCMS ?lcmsAnalysisNeg .\\n    ?lcmsAnalysisNeg a ns1:LCMSAnalysisNeg .\\n    ?lcmsAnalysisNeg ns1:has_lcms_feature_list ?lcmsFeatureListNeg .\\n    ?lcmsFeatureListNeg ns1:has_lcms_feature ?featureNeg .\\n    ?featureNeg ns1:has_retention_time ?retentionTimeNeg .\\n    ?featureNeg ns1:has_sirius_annotation ?siriusAnnotationNeg .\\n    ?siriusAnnotationNeg ns1:has_InChIkey2D ?InChIKey2DNeg .\\n    \\n    FILTER (?InChIKey2DPos = ?InChIKey2DNeg)\\n    FILTER (abs(?retentionTimePos - ?retentionTimeNeg) <= 3)\\n}\\n```\\n\\n- **File Path:** `/var/folders/20/4kgcw5656h12ss_nj18mndwm0000gn/T/tmpjr_a9awh.csv`\\n\\nThe results from this query are stored in the specified file path. To get the detailed results, please refer to the file.', name='Sparql_query_runner'), HumanMessage(content='The analysis of the dataset based on the SPARQL query reveals that there are 115 rows of data containing the features, retention times, and InChIKey2D values for both positive and negative ionization modes. This indicates that there are 115 instances where features from the Melochia umbellata taxon in positive ionization mode with SIRIUS annotations have a corresponding feature in negative ionization mode with the same retention time (±3 seconds) and the same SIRIUS annotation by comparing the InCHIKey 2D.\\n\\nIf you need further details or a specific visualization of this data, please let me know how you would like the information presented.', name='Interpreter_agent')], 'next': 'FINISH'}}\n",
      "----\n"
     ]
    }
   ],
   "source": [
    "for s in app.stream(\n",
    "    {\"messages\": [HumanMessage(content=q7)]},\n",
    "    {\"recursion_limit\": 100},\n",
    "):\n",
    "    if \"__end__\" in s:\n",
    "        print(s)\n",
    "        print(\"----\")"
   ]
  },
  {
   "cell_type": "code",
   "execution_count": 221,
   "metadata": {
    "ExecuteTime": {
     "end_time": "2024-03-14T14:59:48.976995Z",
     "start_time": "2024-03-14T14:56:38.706357Z"
    },
    "collapsed": false
   },
   "outputs": [
    {
     "name": "stderr",
     "output_type": "stream",
     "text": [
      "2024-03-14 15:56:40,412 - INFO - HTTP Request: POST https://api.openai.com/v1/chat/completions \"HTTP/1.1 200 OK\"\n"
     ]
    },
    {
     "name": "stdout",
     "output_type": "stream",
     "text": [
      "\n",
      "\n",
      "\u001B[1m> Entering new AgentExecutor chain...\u001B[0m\n"
     ]
    },
    {
     "name": "stderr",
     "output_type": "stream",
     "text": [
      "2024-03-14 15:56:41,928 - INFO - HTTP Request: POST https://api.openai.com/v1/chat/completions \"HTTP/1.1 200 OK\"\n"
     ]
    },
    {
     "name": "stdout",
     "output_type": "stream",
     "text": [
      "\u001B[32;1m\u001B[1;3m\n",
      "Invoking: `CHEMICAL_RESOLVER` with `{'query': 'aspidosperma-type alkaloids'}`\n",
      "\n",
      "\n",
      "\u001B[0m\n",
      "\n",
      "\u001B[1m> Entering new ChemicalResolver chain...\u001B[0m\n",
      "InChIKey not found, trying NPC Classifier\n"
     ]
    },
    {
     "name": "stderr",
     "output_type": "stream",
     "text": [
      "2024-03-14 15:56:45,718 - INFO - HTTP Request: POST https://api.openai.com/v1/embeddings \"HTTP/1.1 200 OK\"\n",
      "2024-03-14 15:56:48,730 - INFO - HTTP Request: POST https://api.openai.com/v1/embeddings \"HTTP/1.1 200 OK\"\n",
      "2024-03-14 15:56:50,358 - INFO - HTTP Request: POST https://api.openai.com/v1/embeddings \"HTTP/1.1 200 OK\"\n",
      "2024-03-14 15:56:52,993 - INFO - HTTP Request: POST https://api.openai.com/v1/chat/completions \"HTTP/1.1 200 OK\"\n"
     ]
    },
    {
     "name": "stdout",
     "output_type": "stream",
     "text": [
      "\n",
      "\u001B[1m> Finished chain.\u001B[0m\n",
      "\u001B[36;1m\u001B[1;3maspidosperma-type alkaloids : https://enpkg.commons-lab.org/kg/npc_Aspidosperma_type, NPCClass\u001B[0m"
     ]
    },
    {
     "name": "stderr",
     "output_type": "stream",
     "text": [
      "2024-03-14 15:56:53,858 - INFO - HTTP Request: POST https://api.openai.com/v1/chat/completions \"HTTP/1.1 200 OK\"\n"
     ]
    },
    {
     "name": "stdout",
     "output_type": "stream",
     "text": [
      "\u001B[32;1m\u001B[1;3mThe resolved entity for the chemical class \"aspidosperma-type alkaloids\" is the IRI: https://enpkg.commons-lab.org/kg/npc_Aspidosperma_type, NPCClass. There are no units relevant to numerical values in this question.\u001B[0m\n",
      "\n",
      "\u001B[1m> Finished chain.\u001B[0m\n"
     ]
    },
    {
     "name": "stderr",
     "output_type": "stream",
     "text": [
      "2024-03-14 15:56:57,637 - INFO - HTTP Request: POST https://api.openai.com/v1/chat/completions \"HTTP/1.1 200 OK\"\n"
     ]
    },
    {
     "name": "stdout",
     "output_type": "stream",
     "text": [
      "\n",
      "\n",
      "\u001B[1m> Entering new AgentExecutor chain...\u001B[0m\n"
     ]
    },
    {
     "name": "stderr",
     "output_type": "stream",
     "text": [
      "2024-03-14 15:56:59,247 - INFO - HTTP Request: POST https://api.openai.com/v1/chat/completions \"HTTP/1.1 200 OK\"\n"
     ]
    },
    {
     "name": "stdout",
     "output_type": "stream",
     "text": [
      "\u001B[32;1m\u001B[1;3m\n",
      "Invoking: `SPARQL_QUERY_RUNNER` with `{'question': 'Which extracts have features (pos ionization mode) annotated as the class, aspidosperma-type alkaloids, by CANOPUS with a probability score above 0.5, ordered by the decreasing count of features as aspidosperma-type alkaloids? Group by extract and provide a bar chart.', 'entities': 'aspidosperma-type alkaloids, https://enpkg.commons-lab.org/kg/npc_Aspidosperma_type, NPCClass'}`\n",
      "\n",
      "\n",
      "\u001B[0m\n",
      "\n",
      "\u001B[1m> Entering new GraphSparqlQAChain chain...\u001B[0m\n"
     ]
    },
    {
     "name": "stderr",
     "output_type": "stream",
     "text": [
      "2024-03-14 15:57:13,893 - INFO - HTTP Request: POST https://api.openai.com/v1/chat/completions \"HTTP/1.1 200 OK\"\n"
     ]
    },
    {
     "name": "stdout",
     "output_type": "stream",
     "text": [
      "Generated SPARQL:\n",
      "\u001B[32;1m\u001B[1;3mPREFIX ns1: <https://enpkg.commons-lab.org/kg/>\n",
      "PREFIX ns2: <https://enpkg.commons-lab.org/module/>\n",
      "SELECT ?extract (COUNT(?feature) AS ?count)\n",
      "WHERE {\n",
      "    ?extract a ns1:LabExtract ;\n",
      "             ns1:has_LCMS ?analysis .\n",
      "    ?analysis a ns1:LCMSAnalysisPos ;\n",
      "              ns1:has_lcms_feature_list ?featureList .\n",
      "    ?featureList ns1:has_lcms_feature ?feature .\n",
      "    ?feature ns1:has_canopus_annotation ?annotation .\n",
      "    ?annotation a ns1:SiriusCanopusAnnotation ;\n",
      "                ns1:has_canopus_npc_class <https://enpkg.commons-lab.org/kg/npc_Aspidosperma_type> ;\n",
      "                ns1:has_canopus_npc_class_prob ?prob .\n",
      "    FILTER(?prob > 0.5)\n",
      "}\n",
      "GROUP BY ?extract\n",
      "ORDER BY DESC(?count)\u001B[0m\n",
      "Saving results to file:  /var/folders/20/4kgcw5656h12ss_nj18mndwm0000gn/T/tmpqqoavelv.csv\n",
      "\n",
      "\u001B[1m> Finished chain.\u001B[0m\n",
      "\u001B[36;1m\u001B[1;3m{'query': 'PREFIX ns1: <https://enpkg.commons-lab.org/kg/>\\nPREFIX ns2: <https://enpkg.commons-lab.org/module/>\\nSELECT ?extract (COUNT(?feature) AS ?count)\\nWHERE {\\n    ?extract a ns1:LabExtract ;\\n             ns1:has_LCMS ?analysis .\\n    ?analysis a ns1:LCMSAnalysisPos ;\\n              ns1:has_lcms_feature_list ?featureList .\\n    ?featureList ns1:has_lcms_feature ?feature .\\n    ?feature ns1:has_canopus_annotation ?annotation .\\n    ?annotation a ns1:SiriusCanopusAnnotation ;\\n                ns1:has_canopus_npc_class <https://enpkg.commons-lab.org/kg/npc_Aspidosperma_type> ;\\n                ns1:has_canopus_npc_class_prob ?prob .\\n    FILTER(?prob > 0.5)\\n}\\nGROUP BY ?extract\\nORDER BY DESC(?count)', 'result': [{'extract': 'https://enpkg.commons-lab.org/kg/VGF152_B02', 'count': '74'}, {'extract': 'https://enpkg.commons-lab.org/kg/VGF157_D02', 'count': '11'}, {'extract': 'https://enpkg.commons-lab.org/kg/VGF147_B11', 'count': '10'}, {'extract': 'https://enpkg.commons-lab.org/kg/VGF153_C03', 'count': '7'}, {'extract': 'https://enpkg.commons-lab.org/kg/VGF157_E02', 'count': '2'}, {'extract': 'https://enpkg.commons-lab.org/kg/VGF154_D02', 'count': '2'}, {'extract': 'https://enpkg.commons-lab.org/kg/VGF147_A10', 'count': '2'}, {'extract': 'https://enpkg.commons-lab.org/kg/VGF140_F02', 'count': '2'}, {'extract': 'https://enpkg.commons-lab.org/kg/KP146_Positive', 'count': '1'}, {'extract': 'https://enpkg.commons-lab.org/kg/KP317_Positive', 'count': '1'}, {'extract': 'https://enpkg.commons-lab.org/kg/VGF159_B11', 'count': '1'}, {'extract': 'https://enpkg.commons-lab.org/kg/VGF155_D07', 'count': '1'}, {'extract': 'https://enpkg.commons-lab.org/kg/VGF154_H02', 'count': '1'}, {'extract': 'https://enpkg.commons-lab.org/kg/VGF153_E07', 'count': '1'}, {'extract': 'https://enpkg.commons-lab.org/kg/VGF153_G10', 'count': '1'}, {'extract': 'https://enpkg.commons-lab.org/kg/VGF153_D03', 'count': '1'}, {'extract': 'https://enpkg.commons-lab.org/kg/VGF153_F04', 'count': '1'}, {'extract': 'https://enpkg.commons-lab.org/kg/VGF153_G09', 'count': '1'}, {'extract': 'https://enpkg.commons-lab.org/kg/VGF153_F11', 'count': '1'}, {'extract': 'https://enpkg.commons-lab.org/kg/VGF153_H04', 'count': '1'}, {'extract': 'https://enpkg.commons-lab.org/kg/VGF153_B06', 'count': '1'}, {'extract': 'https://enpkg.commons-lab.org/kg/VGF152_E06', 'count': '1'}, {'extract': 'https://enpkg.commons-lab.org/kg/VGF151_F09', 'count': '1'}, {'extract': 'https://enpkg.commons-lab.org/kg/VGF151_D06', 'count': '1'}, {'extract': 'https://enpkg.commons-lab.org/kg/VGF151_E03', 'count': '1'}, {'extract': 'https://enpkg.commons-lab.org/kg/VGF150_B11', 'count': '1'}, {'extract': 'https://enpkg.commons-lab.org/kg/VGF150_B06', 'count': '1'}, {'extract': 'https://enpkg.commons-lab.org/kg/VGF150_F09', 'count': '1'}, {'extract': 'https://enpkg.commons-lab.org/kg/VGF150_H05', 'count': '1'}, {'extract': 'https://enpkg.commons-lab.org/kg/VGF150_F06', 'count': '1'}, {'extract': 'https://enpkg.commons-lab.org/kg/VGF147_D11', 'count': '1'}, {'extract': 'https://enpkg.commons-lab.org/kg/VGF147_E10', 'count': '1'}, {'extract': 'https://enpkg.commons-lab.org/kg/VGF143_E07', 'count': '1'}, {'extract': 'https://enpkg.commons-lab.org/kg/VGF140_E02', 'count': '1'}, {'extract': 'https://enpkg.commons-lab.org/kg/VGF139_D09', 'count': '1'}, {'extract': 'https://enpkg.commons-lab.org/kg/SC_AP_Wi_DCM', 'count': '1'}], 'temp_file_path': '/var/folders/20/4kgcw5656h12ss_nj18mndwm0000gn/T/tmpqqoavelv.csv'}\u001B[0m"
     ]
    },
    {
     "name": "stderr",
     "output_type": "stream",
     "text": [
      "2024-03-14 15:57:16,965 - INFO - HTTP Request: POST https://api.openai.com/v1/chat/completions \"HTTP/1.1 200 OK\"\n"
     ]
    },
    {
     "name": "stdout",
     "output_type": "stream",
     "text": [
      "\u001B[32;1m\u001B[1;3mThe extracts that have features (pos ionization mode) annotated as the class, aspidosperma-type alkaloids, by CANOPUS with a probability score above 0.5, ordered by the decreasing count of features as aspidosperma-type alkaloids, are as follows:\n",
      "\n",
      "1. Extract [VGF152_B02](https://enpkg.commons-lab.org/kg/VGF152_B02) with 74 features.\n",
      "2. Extract [VGF157_D02](https://enpkg.commons-lab.org/kg/VGF157_D02) with 11 features.\n",
      "3. Extract [VGF147_B11](https://enpkg.commons-lab.org/kg/VGF147_B11) with 10 features.\n",
      "4. Extract [VGF153_C03](https://enpkg.commons-lab.org/kg/VGF153_C03) with 7 features.\n",
      "5. Extract [VGF157_E02](https://enpkg.commons-lab.org/kg/VGF157_E02) with 2 features.\n",
      "6. Extract [VGF154_D02](https://enpkg.commons-lab.org/kg/VGF154_D02) with 2 features.\n",
      "7. Extract [VGF147_A10](https://enpkg.commons-lab.org/kg/VGF147_A10) with 2 features.\n",
      "8. Extract [VGF140_F02](https://enpkg.commons-lab.org/kg/VGF140_F02) with 2 features.\n",
      "9. Several other extracts each with 1 feature, including [KP146_Positive](https://enpkg.commons-lab.org/kg/KP146_Positive), [KP317_Positive](https://enpkg.commons-lab.org/kg/KP317_Positive), [VGF159_B11](https://enpkg.commons-lab.org/kg/VGF159_B11), and others.\n",
      "\n",
      "These results are grouped by extract and ordered by the decreasing count of features annotated as aspidosperma-type alkaloids.\n",
      "\n",
      "For a detailed list and a bar chart visualization, please refer to the output file located at: `/var/folders/20/4kgcw5656h12ss_nj18mndwm0000gn/T/tmpqqoavelv.csv`.\n",
      "\n",
      "Here is the summary in a dictionary format:\n",
      "\n",
      "```json\n",
      "{\n",
      "  \"question\": \"Which extracts have features (pos ionization mode) annotated as the class, aspidosperma-type alkaloids, by CANOPUS with a probability score above 0.5, ordered by the decreasing count of features as aspidosperma-type alkaloids? Group by extract and provide a bar chart.\",\n",
      "  \"generated_sparql_query\": \"PREFIX ns1: <https://enpkg.commons-lab.org/kg/>\\nPREFIX ns2: <https://enpkg.commons-lab.org/module/>\\nSELECT ?extract (COUNT(?feature) AS ?count)\\nWHERE {\\n    ?extract a ns1:LabExtract ;\\n             ns1:has_LCMS ?analysis .\\n    ?analysis a ns1:LCMSAnalysisPos ;\\n              ns1:has_lcms_feature_list ?featureList .\\n    ?featureList ns1:has_lcms_feature ?feature .\\n    ?feature ns1:has_canopus_annotation ?annotation .\\n    ?annotation a ns1:SiriusCanopusAnnotation ;\\n                ns1:has_canopus_npc_class <https://enpkg.commons-lab.org/kg/npc_Aspidosperma_type> ;\\n                ns1:has_canopus_npc_class_prob ?prob .\\n    FILTER(?prob > 0.5)\\n}\\nGROUP BY ?extract\\nORDER BY DESC(?count)\",\n",
      "  \"file_path\": \"/var/folders/20/4kgcw5656h12ss_nj18mndwm0000gn/T/tmpqqoavelv.csv\"\n",
      "}\n",
      "```\u001B[0m\n",
      "\n",
      "\u001B[1m> Finished chain.\u001B[0m\n"
     ]
    },
    {
     "name": "stderr",
     "output_type": "stream",
     "text": [
      "2024-03-14 15:58:05,551 - INFO - HTTP Request: POST https://api.openai.com/v1/chat/completions \"HTTP/1.1 200 OK\"\n"
     ]
    },
    {
     "name": "stdout",
     "output_type": "stream",
     "text": [
      "\n",
      "\n",
      "\u001B[1m> Entering new AgentExecutor chain...\u001B[0m\n"
     ]
    },
    {
     "name": "stderr",
     "output_type": "stream",
     "text": [
      "2024-03-14 15:58:07,454 - INFO - HTTP Request: POST https://api.openai.com/v1/chat/completions \"HTTP/1.1 200 OK\"\n"
     ]
    },
    {
     "name": "stdout",
     "output_type": "stream",
     "text": [
      "\u001B[32;1m\u001B[1;3m\n",
      "Invoking: `INTERPRETER_TOOL` with `{'question': 'Which extracts have features (pos ionization mode) annotated as the class, aspidosperma-type alkaloids, by CANOPUS with a probability score above 0.5, ordered by the decreasing count of features as aspidosperma-type alkaloids? Group by extract and provide a bar chart.', 'generated_sparql_query': 'PREFIX ns1: <https://enpkg.commons-lab.org/kg/>\\nPREFIX ns2: <https://enpkg.commons-lab.org/module/>\\nSELECT ?extract (COUNT(?feature) AS ?count)\\nWHERE {\\n    ?extract a ns1:LabExtract ;\\n             ns1:has_LCMS ?analysis .\\n    ?analysis a ns1:LCMSAnalysisPos ;\\n              ns1:has_lcms_feature_list ?featureList .\\n    ?featureList ns1:has_lcms_feature ?feature .\\n    ?feature ns1:has_canopus_annotation ?annotation .\\n    ?annotation a ns1:SiriusCanopusAnnotation ;\\n                ns1:has_canopus_npc_class <https://enpkg.commons-lab.org/kg/npc_Aspidosperma_type> ;\\n                ns1:has_canopus_npc_class_prob ?prob .\\n    FILTER(?prob > 0.5)\\n}\\nGROUP BY ?extract\\nORDER BY DESC(?count)', 'file_path': '/var/folders/20/4kgcw5656h12ss_nj18mndwm0000gn/T/tmpqqoavelv.csv'}`\n",
      "\n",
      "\n",
      "\u001B[0mInterpreting Which extracts have features (pos ionization mode) annotated as the class, aspidosperma-type alkaloids, by CANOPUS with a probability score above 0.5, ordered by the decreasing count of features as aspidosperma-type alkaloids? Group by extract and provide a bar chart.\n",
      "SPARQL query: PREFIX ns1: <https://enpkg.commons-lab.org/kg/>\n",
      "PREFIX ns2: <https://enpkg.commons-lab.org/module/>\n",
      "SELECT ?extract (COUNT(?feature) AS ?count)\n",
      "WHERE {\n",
      "    ?extract a ns1:LabExtract ;\n",
      "             ns1:has_LCMS ?analysis .\n",
      "    ?analysis a ns1:LCMSAnalysisPos ;\n",
      "              ns1:has_lcms_feature_list ?featureList .\n",
      "    ?featureList ns1:has_lcms_feature ?feature .\n",
      "    ?feature ns1:has_canopus_annotation ?annotation .\n",
      "    ?annotation a ns1:SiriusCanopusAnnotation ;\n",
      "                ns1:has_canopus_npc_class <https://enpkg.commons-lab.org/kg/npc_Aspidosperma_type> ;\n",
      "                ns1:has_canopus_npc_class_prob ?prob .\n",
      "    FILTER(?prob > 0.5)\n",
      "}\n",
      "GROUP BY ?extract\n",
      "ORDER BY DESC(?count)\n",
      "File path: /var/folders/20/4kgcw5656h12ss_nj18mndwm0000gn/T/tmpqqoavelv.csv\n",
      "INFO: Using a LocalBox which is not fully isolated\n",
      "      and not scalable across multiple users.\n",
      "      Make sure to use a CODEBOX_API_KEY in production.\n",
      "      Set envar SHOW_INFO=False to not see this again.\n"
     ]
    },
    {
     "name": "stderr",
     "output_type": "stream",
     "text": [
      "2024-03-14 15:58:31,890 - INFO - HTTP Request: POST https://api.openai.com/v1/chat/completions \"HTTP/1.1 200 OK\"\n",
      "2024-03-14 15:58:32,973 - INFO - HTTP Request: POST https://api.openai.com/v1/chat/completions \"HTTP/1.1 200 OK\"\n",
      "2024-03-14 15:58:38,601 - INFO - HTTP Request: POST https://api.openai.com/v1/chat/completions \"HTTP/1.1 200 OK\"\n",
      "2024-03-14 15:58:40,421 - INFO - HTTP Request: POST https://api.openai.com/v1/chat/completions \"HTTP/1.1 200 OK\"\n"
     ]
    },
    {
     "name": "stdout",
     "output_type": "stream",
     "text": [
      "AI:  The bar chart above visualizes the count of features as aspidosperma-type alkaloids for different extracts. Each bar represents the count of features for a specific extract.\n",
      "File:  image-b12ed6b1-183e-491b-824d-16311c0d934c.png\n"
     ]
    },
    {
     "data": {
      "image/jpeg": "[encoded data removed]",
      "image/png": "[encoded data removed]",
      "text/plain": [
       "<PIL.Image.Image image mode=RGB size=1179x590>"
      ]
     },
     "metadata": {},
     "output_type": "display_data"
    },
    {
     "name": "stdout",
     "output_type": "stream",
     "text": [
      "\u001B[36;1m\u001B[1;3mThe bar chart above visualizes the count of features as aspidosperma-type alkaloids for different extracts. Each bar represents the count of features for a specific extract.\u001B[0m"
     ]
    },
    {
     "name": "stderr",
     "output_type": "stream",
     "text": [
      "2024-03-14 15:59:43,908 - INFO - HTTP Request: POST https://api.openai.com/v1/chat/completions \"HTTP/1.1 200 OK\"\n"
     ]
    },
    {
     "name": "stdout",
     "output_type": "stream",
     "text": [
      "\u001B[32;1m\u001B[1;3mThe bar chart visualizes the count of features annotated as aspidosperma-type alkaloids for different extracts, with each bar representing the count of features for a specific extract. The extracts are ordered by the decreasing count of features as aspidosperma-type alkaloids, showcasing the distribution and highlighting the extracts with the highest number of such features.\u001B[0m\n",
      "\n",
      "\u001B[1m> Finished chain.\u001B[0m\n"
     ]
    },
    {
     "name": "stderr",
     "output_type": "stream",
     "text": [
      "2024-03-14 15:59:48,924 - INFO - HTTP Request: POST https://api.openai.com/v1/chat/completions \"HTTP/1.1 200 OK\"\n"
     ]
    },
    {
     "name": "stdout",
     "output_type": "stream",
     "text": [
      "{'__end__': {'messages': [HumanMessage(content='Which extracts have features (pos ionization mode) annotated as the class, aspidosperma-type alkaloids, by CANOPUS with a probability score above 0.5, ordered by the decreasing count of features as aspidosperma-type alkaloids? Group by extract and provide a bar chart.'), HumanMessage(content='The resolved entity for the chemical class \"aspidosperma-type alkaloids\" is the IRI: https://enpkg.commons-lab.org/kg/npc_Aspidosperma_type, NPCClass. There are no units relevant to numerical values in this question.', name='ENPKG_agent'), HumanMessage(content='The extracts that have features (pos ionization mode) annotated as the class, aspidosperma-type alkaloids, by CANOPUS with a probability score above 0.5, ordered by the decreasing count of features as aspidosperma-type alkaloids, are as follows:\\n\\n1. Extract [VGF152_B02](https://enpkg.commons-lab.org/kg/VGF152_B02) with 74 features.\\n2. Extract [VGF157_D02](https://enpkg.commons-lab.org/kg/VGF157_D02) with 11 features.\\n3. Extract [VGF147_B11](https://enpkg.commons-lab.org/kg/VGF147_B11) with 10 features.\\n4. Extract [VGF153_C03](https://enpkg.commons-lab.org/kg/VGF153_C03) with 7 features.\\n5. Extract [VGF157_E02](https://enpkg.commons-lab.org/kg/VGF157_E02) with 2 features.\\n6. Extract [VGF154_D02](https://enpkg.commons-lab.org/kg/VGF154_D02) with 2 features.\\n7. Extract [VGF147_A10](https://enpkg.commons-lab.org/kg/VGF147_A10) with 2 features.\\n8. Extract [VGF140_F02](https://enpkg.commons-lab.org/kg/VGF140_F02) with 2 features.\\n9. Several other extracts each with 1 feature, including [KP146_Positive](https://enpkg.commons-lab.org/kg/KP146_Positive), [KP317_Positive](https://enpkg.commons-lab.org/kg/KP317_Positive), [VGF159_B11](https://enpkg.commons-lab.org/kg/VGF159_B11), and others.\\n\\nThese results are grouped by extract and ordered by the decreasing count of features annotated as aspidosperma-type alkaloids.\\n\\nFor a detailed list and a bar chart visualization, please refer to the output file located at: `/var/folders/20/4kgcw5656h12ss_nj18mndwm0000gn/T/tmpqqoavelv.csv`.\\n\\nHere is the summary in a dictionary format:\\n\\n```json\\n{\\n  \"question\": \"Which extracts have features (pos ionization mode) annotated as the class, aspidosperma-type alkaloids, by CANOPUS with a probability score above 0.5, ordered by the decreasing count of features as aspidosperma-type alkaloids? Group by extract and provide a bar chart.\",\\n  \"generated_sparql_query\": \"PREFIX ns1: <https://enpkg.commons-lab.org/kg/>\\\\nPREFIX ns2: <https://enpkg.commons-lab.org/module/>\\\\nSELECT ?extract (COUNT(?feature) AS ?count)\\\\nWHERE {\\\\n    ?extract a ns1:LabExtract ;\\\\n             ns1:has_LCMS ?analysis .\\\\n    ?analysis a ns1:LCMSAnalysisPos ;\\\\n              ns1:has_lcms_feature_list ?featureList .\\\\n    ?featureList ns1:has_lcms_feature ?feature .\\\\n    ?feature ns1:has_canopus_annotation ?annotation .\\\\n    ?annotation a ns1:SiriusCanopusAnnotation ;\\\\n                ns1:has_canopus_npc_class <https://enpkg.commons-lab.org/kg/npc_Aspidosperma_type> ;\\\\n                ns1:has_canopus_npc_class_prob ?prob .\\\\n    FILTER(?prob > 0.5)\\\\n}\\\\nGROUP BY ?extract\\\\nORDER BY DESC(?count)\",\\n  \"file_path\": \"/var/folders/20/4kgcw5656h12ss_nj18mndwm0000gn/T/tmpqqoavelv.csv\"\\n}\\n```', name='Sparql_query_runner'), HumanMessage(content='The bar chart visualizes the count of features annotated as aspidosperma-type alkaloids for different extracts, with each bar representing the count of features for a specific extract. The extracts are ordered by the decreasing count of features as aspidosperma-type alkaloids, showcasing the distribution and highlighting the extracts with the highest number of such features.', name='Interpreter_agent')], 'next': 'FINISH'}}\n",
      "----\n"
     ]
    }
   ],
   "source": [
    "for s in app.stream(\n",
    "    {\"messages\": [HumanMessage(content=q2)]},\n",
    "    {\"recursion_limit\": 100},\n",
    "):\n",
    "    if \"__end__\" in s:\n",
    "        print(s)\n",
    "        print(\"----\")"
   ]
  },
  {
   "cell_type": "markdown",
   "metadata": {
    "collapsed": false
   },
   "source": []
  },
  {
   "cell_type": "code",
   "execution_count": 245,
   "metadata": {
    "ExecuteTime": {
     "end_time": "2024-03-15T10:51:28.950749Z",
     "start_time": "2024-03-15T10:50:13.179626Z"
    },
    "collapsed": false
   },
   "outputs": [
    {
     "name": "stderr",
     "output_type": "stream",
     "text": [
      "2024-03-15 11:50:14,423 - INFO - HTTP Request: POST https://api.openai.com/v1/chat/completions \"HTTP/1.1 200 OK\"\n"
     ]
    },
    {
     "name": "stdout",
     "output_type": "stream",
     "text": [
      "\n",
      "\n",
      "\u001B[1m> Entering new AgentExecutor chain...\u001B[0m\n"
     ]
    },
    {
     "name": "stderr",
     "output_type": "stream",
     "text": [
      "2024-03-15 11:50:16,288 - INFO - HTTP Request: POST https://api.openai.com/v1/chat/completions \"HTTP/1.1 200 OK\"\n"
     ]
    },
    {
     "name": "stdout",
     "output_type": "stream",
     "text": [
      "\u001B[32;1m\u001B[1;3m\n",
      "Invoking: `CHEMICAL_RESOLVER` with `{'query': 'aspidosperma-type alkaloids'}`\n",
      "\n",
      "\n",
      "\u001B[0m\n",
      "\n",
      "\u001B[1m> Entering new ChemicalResolver chain...\u001B[0m\n",
      "InChIKey not found, trying NPC Classifier\n"
     ]
    },
    {
     "name": "stderr",
     "output_type": "stream",
     "text": [
      "2024-03-15 11:50:20,170 - INFO - HTTP Request: POST https://api.openai.com/v1/embeddings \"HTTP/1.1 200 OK\"\n",
      "2024-03-15 11:50:23,774 - INFO - HTTP Request: POST https://api.openai.com/v1/embeddings \"HTTP/1.1 200 OK\"\n",
      "2024-03-15 11:50:25,412 - INFO - HTTP Request: POST https://api.openai.com/v1/embeddings \"HTTP/1.1 200 OK\"\n",
      "2024-03-15 11:50:28,072 - INFO - HTTP Request: POST https://api.openai.com/v1/chat/completions \"HTTP/1.1 200 OK\"\n"
     ]
    },
    {
     "name": "stdout",
     "output_type": "stream",
     "text": [
      "\n",
      "\u001B[1m> Finished chain.\u001B[0m\n",
      "\u001B[36;1m\u001B[1;3maspidosperma-type alkaloids : https://enpkg.commons-lab.org/kg/npc_Aspidosperma_type, NPCClass\u001B[0m"
     ]
    },
    {
     "name": "stderr",
     "output_type": "stream",
     "text": [
      "2024-03-15 11:50:28,862 - INFO - HTTP Request: POST https://api.openai.com/v1/chat/completions \"HTTP/1.1 200 OK\"\n"
     ]
    },
    {
     "name": "stdout",
     "output_type": "stream",
     "text": [
      "\u001B[32;1m\u001B[1;3mThe resolved entity for the chemical class \"aspidosperma-type alkaloids\" is the IRI: https://enpkg.commons-lab.org/kg/npc_Aspidosperma_type, NPCClass. There are no units relevant to numerical values in this question.\u001B[0m\n",
      "\n",
      "\u001B[1m> Finished chain.\u001B[0m\n"
     ]
    },
    {
     "name": "stderr",
     "output_type": "stream",
     "text": [
      "2024-03-15 11:50:32,324 - INFO - HTTP Request: POST https://api.openai.com/v1/chat/completions \"HTTP/1.1 200 OK\"\n"
     ]
    },
    {
     "name": "stdout",
     "output_type": "stream",
     "text": [
      "\n",
      "\n",
      "\u001B[1m> Entering new AgentExecutor chain...\u001B[0m\n"
     ]
    },
    {
     "name": "stderr",
     "output_type": "stream",
     "text": [
      "2024-03-15 11:50:34,848 - INFO - HTTP Request: POST https://api.openai.com/v1/chat/completions \"HTTP/1.1 200 OK\"\n"
     ]
    },
    {
     "name": "stdout",
     "output_type": "stream",
     "text": [
      "\u001B[32;1m\u001B[1;3m\n",
      "Invoking: `SPARQL_QUERY_RUNNER` with `{'question': 'Which extracts have features (pos ionization mode) annotated as the class, aspidosperma-type alkaloids, by CANOPUS with a probability score above 0.5, ordered by the decreasing count of features as aspidosperma-type alkaloids? Group by extract.', 'entities': 'aspidosperma-type alkaloids, https://enpkg.commons-lab.org/kg/npc_Aspidosperma_type, NPCClass'}`\n",
      "\n",
      "\n",
      "\u001B[0m\n",
      "\n",
      "\u001B[1m> Entering new GraphSparqlQAChain chain...\u001B[0m\n"
     ]
    },
    {
     "name": "stderr",
     "output_type": "stream",
     "text": [
      "2024-03-15 11:50:51,411 - INFO - HTTP Request: POST https://api.openai.com/v1/chat/completions \"HTTP/1.1 200 OK\"\n"
     ]
    },
    {
     "name": "stdout",
     "output_type": "stream",
     "text": [
      "Generated SPARQL:\n",
      "\u001B[32;1m\u001B[1;3mPREFIX ns1: <https://enpkg.commons-lab.org/kg/>\n",
      "PREFIX ns2: <https://enpkg.commons-lab.org/module/>\n",
      "SELECT ?extract (COUNT(?feature) AS ?count)\n",
      "WHERE {\n",
      "    ?extract ns1:has_LCMS ?analysis .\n",
      "    ?analysis a ns1:LCMSAnalysisPos .\n",
      "    ?analysis ns1:has_lcms_feature_list ?featureList .\n",
      "    ?featureList ns1:has_lcms_feature ?feature .\n",
      "    ?feature ns1:has_canopus_annotation ?annotation .\n",
      "    ?annotation a ns1:SiriusCanopusAnnotation .\n",
      "    ?annotation ns1:has_canopus_npc_class <https://enpkg.commons-lab.org/kg/npc_Aspidosperma_type> .\n",
      "    ?annotation ns1:has_canopus_npc_class_prob ?prob .\n",
      "    FILTER(?prob > 0.5)\n",
      "}\n",
      "GROUP BY ?extract\n",
      "ORDER BY DESC(?count)\u001B[0m\n",
      "Saving results to file:  /var/folders/20/4kgcw5656h12ss_nj18mndwm0000gn/T/tmpfr8goxec.csv\n",
      "\n",
      "\u001B[1m> Finished chain.\u001B[0m\n",
      "\u001B[36;1m\u001B[1;3m{'query': 'PREFIX ns1: <https://enpkg.commons-lab.org/kg/>\\nPREFIX ns2: <https://enpkg.commons-lab.org/module/>\\nSELECT ?extract (COUNT(?feature) AS ?count)\\nWHERE {\\n    ?extract ns1:has_LCMS ?analysis .\\n    ?analysis a ns1:LCMSAnalysisPos .\\n    ?analysis ns1:has_lcms_feature_list ?featureList .\\n    ?featureList ns1:has_lcms_feature ?feature .\\n    ?feature ns1:has_canopus_annotation ?annotation .\\n    ?annotation a ns1:SiriusCanopusAnnotation .\\n    ?annotation ns1:has_canopus_npc_class <https://enpkg.commons-lab.org/kg/npc_Aspidosperma_type> .\\n    ?annotation ns1:has_canopus_npc_class_prob ?prob .\\n    FILTER(?prob > 0.5)\\n}\\nGROUP BY ?extract\\nORDER BY DESC(?count)', 'result': [{'extract': 'https://enpkg.commons-lab.org/kg/VGF152_B02', 'count': '74'}, {'extract': 'https://enpkg.commons-lab.org/kg/VGF157_D02', 'count': '11'}, {'extract': 'https://enpkg.commons-lab.org/kg/VGF147_B11', 'count': '10'}, {'extract': 'https://enpkg.commons-lab.org/kg/VGF153_C03', 'count': '7'}, {'extract': 'https://enpkg.commons-lab.org/kg/VGF157_E02', 'count': '2'}, {'extract': 'https://enpkg.commons-lab.org/kg/VGF154_D02', 'count': '2'}, {'extract': 'https://enpkg.commons-lab.org/kg/VGF147_A10', 'count': '2'}, {'extract': 'https://enpkg.commons-lab.org/kg/VGF140_F02', 'count': '2'}, {'extract': 'https://enpkg.commons-lab.org/kg/KP146_Positive', 'count': '1'}, {'extract': 'https://enpkg.commons-lab.org/kg/KP317_Positive', 'count': '1'}, {'extract': 'https://enpkg.commons-lab.org/kg/VGF159_B11', 'count': '1'}, {'extract': 'https://enpkg.commons-lab.org/kg/VGF155_D07', 'count': '1'}, {'extract': 'https://enpkg.commons-lab.org/kg/VGF154_H02', 'count': '1'}, {'extract': 'https://enpkg.commons-lab.org/kg/VGF153_E07', 'count': '1'}, {'extract': 'https://enpkg.commons-lab.org/kg/VGF153_G10', 'count': '1'}, {'extract': 'https://enpkg.commons-lab.org/kg/VGF153_D03', 'count': '1'}, {'extract': 'https://enpkg.commons-lab.org/kg/VGF153_F04', 'count': '1'}, {'extract': 'https://enpkg.commons-lab.org/kg/VGF153_G09', 'count': '1'}, {'extract': 'https://enpkg.commons-lab.org/kg/VGF153_F11', 'count': '1'}, {'extract': 'https://enpkg.commons-lab.org/kg/VGF153_H04', 'count': '1'}, {'extract': 'https://enpkg.commons-lab.org/kg/VGF153_B06', 'count': '1'}, {'extract': 'https://enpkg.commons-lab.org/kg/VGF152_E06', 'count': '1'}, {'extract': 'https://enpkg.commons-lab.org/kg/VGF151_F09', 'count': '1'}, {'extract': 'https://enpkg.commons-lab.org/kg/VGF151_D06', 'count': '1'}, {'extract': 'https://enpkg.commons-lab.org/kg/VGF151_E03', 'count': '1'}, {'extract': 'https://enpkg.commons-lab.org/kg/VGF150_B11', 'count': '1'}, {'extract': 'https://enpkg.commons-lab.org/kg/VGF150_B06', 'count': '1'}, {'extract': 'https://enpkg.commons-lab.org/kg/VGF150_F09', 'count': '1'}, {'extract': 'https://enpkg.commons-lab.org/kg/VGF150_H05', 'count': '1'}, {'extract': 'https://enpkg.commons-lab.org/kg/VGF150_F06', 'count': '1'}, {'extract': 'https://enpkg.commons-lab.org/kg/VGF147_D11', 'count': '1'}, {'extract': 'https://enpkg.commons-lab.org/kg/VGF147_E10', 'count': '1'}, {'extract': 'https://enpkg.commons-lab.org/kg/VGF143_E07', 'count': '1'}, {'extract': 'https://enpkg.commons-lab.org/kg/VGF140_E02', 'count': '1'}, {'extract': 'https://enpkg.commons-lab.org/kg/VGF139_D09', 'count': '1'}, {'extract': 'https://enpkg.commons-lab.org/kg/SC_AP_Wi_DCM', 'count': '1'}], 'temp_file_path': '/var/folders/20/4kgcw5656h12ss_nj18mndwm0000gn/T/tmpfr8goxec.csv'}\u001B[0m"
     ]
    },
    {
     "name": "stderr",
     "output_type": "stream",
     "text": [
      "2024-03-15 11:50:52,734 - INFO - HTTP Request: POST https://api.openai.com/v1/chat/completions \"HTTP/1.1 200 OK\"\n"
     ]
    },
    {
     "name": "stdout",
     "output_type": "stream",
     "text": [
      "\u001B[32;1m\u001B[1;3mThe extracts that have features (pos ionization mode) annotated as the class, aspidosperma-type alkaloids, by CANOPUS with a probability score above 0.5, ordered by the decreasing count of features as aspidosperma-type alkaloids, are as follows:\n",
      "\n",
      "1. Extract [VGF152_B02](https://enpkg.commons-lab.org/kg/VGF152_B02) with 74 features.\n",
      "2. Extract [VGF157_D02](https://enpkg.commons-lab.org/kg/VGF157_D02) with 11 features.\n",
      "3. Extract [VGF147_B11](https://enpkg.commons-lab.org/kg/VGF147_B11) with 10 features.\n",
      "4. Extract [VGF153_C03](https://enpkg.commons-lab.org/kg/VGF153_C03) with 7 features.\n",
      "5. Extract [VGF157_E02](https://enpkg.commons-lab.org/kg/VGF157_E02) with 2 features.\n",
      "6. Extract [VGF154_D02](https://enpkg.commons-lab.org/kg/VGF154_D02) with 2 features.\n",
      "7. Extract [VGF147_A10](https://enpkg.commons-lab.org/kg/VGF147_A10) with 2 features.\n",
      "8. Extract [VGF140_F02](https://enpkg.commons-lab.org/kg/VGF140_F02) with 2 features.\n",
      "9. Extract [KP146_Positive](https://enpkg.commons-lab.org/kg/KP146_Positive) with 1 feature.\n",
      "10. Extract [KP317_Positive](https://enpkg.commons-lab.org/kg/KP317_Positive) with 1 feature.\n",
      "\n",
      "...and several other extracts each with 1 feature.\n",
      "\n",
      "These results are grouped by extract and ordered by the decreasing count of features annotated as aspidosperma-type alkaloids.\n",
      "\n",
      "[View the full list and details in the output file](/var/folders/20/4kgcw5656h12ss_nj18mndwm0000gn/T/tmpfr8goxec.csv).\n",
      "\n",
      "Here is the summary information:\n",
      "\n",
      "- **Question:** Which extracts have features (pos ionization mode) annotated as the class, aspidosperma-type alkaloids, by CANOPUS with a probability score above 0.5, ordered by the decreasing count of features as aspidosperma-type alkaloids? Group by extract.\n",
      "- **Generated SPARQL Query:** \n",
      "```sparql\n",
      "PREFIX ns1: <https://enpkg.commons-lab.org/kg/>\n",
      "PREFIX ns2: <https://enpkg.commons-lab.org/module/>\n",
      "SELECT ?extract (COUNT(?feature) AS ?count)\n",
      "WHERE {\n",
      "    ?extract ns1:has_LCMS ?analysis .\n",
      "    ?analysis a ns1:LCMSAnalysisPos .\n",
      "    ?analysis ns1:has_lcms_feature_list ?featureList .\n",
      "    ?featureList ns1:has_lcms_feature ?feature .\n",
      "    ?feature ns1:has_canopus_annotation ?annotation .\n",
      "    ?annotation a ns1:SiriusCanopusAnnotation .\n",
      "    ?annotation ns1:has_canopus_npc_class <https://enpkg.commons-lab.org/kg/npc_Aspidosperma_type> .\n",
      "    ?annotation ns1:has_canopus_npc_class_prob ?prob .\n",
      "    FILTER(?prob > 0.5)\n",
      "}\n",
      "GROUP BY ?extract\n",
      "ORDER BY DESC(?count)\n",
      "```\n",
      "- **File Path:** /var/folders/20/4kgcw5656h12ss_nj18mndwm0000gn/T/tmpfr8goxec.csv\u001B[0m\n",
      "\n",
      "\u001B[1m> Finished chain.\u001B[0m\n"
     ]
    },
    {
     "name": "stderr",
     "output_type": "stream",
     "text": [
      "2024-03-15 11:51:28,898 - INFO - HTTP Request: POST https://api.openai.com/v1/chat/completions \"HTTP/1.1 200 OK\"\n"
     ]
    },
    {
     "name": "stdout",
     "output_type": "stream",
     "text": [
      "{'__end__': {'messages': [HumanMessage(content='Which extracts have features (pos ionization mode) annotated as the class, aspidosperma-type alkaloids, by CANOPUS with a probability score above 0.5, ordered by the decreasing count of features as aspidosperma-type alkaloids? Group by extract.'), HumanMessage(content='The resolved entity for the chemical class \"aspidosperma-type alkaloids\" is the IRI: https://enpkg.commons-lab.org/kg/npc_Aspidosperma_type, NPCClass. There are no units relevant to numerical values in this question.', name='ENPKG_agent'), HumanMessage(content='The extracts that have features (pos ionization mode) annotated as the class, aspidosperma-type alkaloids, by CANOPUS with a probability score above 0.5, ordered by the decreasing count of features as aspidosperma-type alkaloids, are as follows:\\n\\n1. Extract [VGF152_B02](https://enpkg.commons-lab.org/kg/VGF152_B02) with 74 features.\\n2. Extract [VGF157_D02](https://enpkg.commons-lab.org/kg/VGF157_D02) with 11 features.\\n3. Extract [VGF147_B11](https://enpkg.commons-lab.org/kg/VGF147_B11) with 10 features.\\n4. Extract [VGF153_C03](https://enpkg.commons-lab.org/kg/VGF153_C03) with 7 features.\\n5. Extract [VGF157_E02](https://enpkg.commons-lab.org/kg/VGF157_E02) with 2 features.\\n6. Extract [VGF154_D02](https://enpkg.commons-lab.org/kg/VGF154_D02) with 2 features.\\n7. Extract [VGF147_A10](https://enpkg.commons-lab.org/kg/VGF147_A10) with 2 features.\\n8. Extract [VGF140_F02](https://enpkg.commons-lab.org/kg/VGF140_F02) with 2 features.\\n9. Extract [KP146_Positive](https://enpkg.commons-lab.org/kg/KP146_Positive) with 1 feature.\\n10. Extract [KP317_Positive](https://enpkg.commons-lab.org/kg/KP317_Positive) with 1 feature.\\n\\n...and several other extracts each with 1 feature.\\n\\nThese results are grouped by extract and ordered by the decreasing count of features annotated as aspidosperma-type alkaloids.\\n\\n[View the full list and details in the output file](/var/folders/20/4kgcw5656h12ss_nj18mndwm0000gn/T/tmpfr8goxec.csv).\\n\\nHere is the summary information:\\n\\n- **Question:** Which extracts have features (pos ionization mode) annotated as the class, aspidosperma-type alkaloids, by CANOPUS with a probability score above 0.5, ordered by the decreasing count of features as aspidosperma-type alkaloids? Group by extract.\\n- **Generated SPARQL Query:** \\n```sparql\\nPREFIX ns1: <https://enpkg.commons-lab.org/kg/>\\nPREFIX ns2: <https://enpkg.commons-lab.org/module/>\\nSELECT ?extract (COUNT(?feature) AS ?count)\\nWHERE {\\n    ?extract ns1:has_LCMS ?analysis .\\n    ?analysis a ns1:LCMSAnalysisPos .\\n    ?analysis ns1:has_lcms_feature_list ?featureList .\\n    ?featureList ns1:has_lcms_feature ?feature .\\n    ?feature ns1:has_canopus_annotation ?annotation .\\n    ?annotation a ns1:SiriusCanopusAnnotation .\\n    ?annotation ns1:has_canopus_npc_class <https://enpkg.commons-lab.org/kg/npc_Aspidosperma_type> .\\n    ?annotation ns1:has_canopus_npc_class_prob ?prob .\\n    FILTER(?prob > 0.5)\\n}\\nGROUP BY ?extract\\nORDER BY DESC(?count)\\n```\\n- **File Path:** /var/folders/20/4kgcw5656h12ss_nj18mndwm0000gn/T/tmpfr8goxec.csv', name='Sparql_query_runner')], 'next': 'FINISH'}}\n",
      "----\n"
     ]
    }
   ],
   "source": [
    "for s in app.stream(\n",
    "    {\"messages\": [HumanMessage(content=q2)]},\n",
    "    {\"recursion_limit\": 100},\n",
    "):\n",
    "    if \"__end__\" in s:\n",
    "        print(s)\n",
    "        print(\"----\")"
   ]
  },
  {
   "cell_type": "code",
   "execution_count": 269,
   "metadata": {
    "ExecuteTime": {
     "end_time": "2024-03-15T14:21:50.467383Z",
     "start_time": "2024-03-15T14:20:51.287785Z"
    },
    "collapsed": false
   },
   "outputs": [
    {
     "name": "stderr",
     "output_type": "stream",
     "text": [
      "2024-03-15 15:20:52,343 - INFO - HTTP Request: POST https://api.openai.com/v1/chat/completions \"HTTP/1.1 200 OK\"\n"
     ]
    },
    {
     "name": "stdout",
     "output_type": "stream",
     "text": [
      "\n",
      "\n",
      "\u001B[1m> Entering new AgentExecutor chain...\u001B[0m\n"
     ]
    },
    {
     "name": "stderr",
     "output_type": "stream",
     "text": [
      "2024-03-15 15:20:53,620 - INFO - HTTP Request: POST https://api.openai.com/v1/chat/completions \"HTTP/1.1 200 OK\"\n"
     ]
    },
    {
     "name": "stdout",
     "output_type": "stream",
     "text": [
      "\u001B[32;1m\u001B[1;3m\n",
      "Invoking: `TAXON_RESOLVER` with `{'taxon_name': 'Melochia umbellata'}`\n",
      "\n",
      "\n",
      "\u001B[0m\u001B[33;1m\u001B[1;3mwikidata IRI is http://www.wikidata.org/entity/Q6813281\u001B[0m"
     ]
    },
    {
     "name": "stderr",
     "output_type": "stream",
     "text": [
      "2024-03-15 15:20:55,439 - INFO - HTTP Request: POST https://api.openai.com/v1/chat/completions \"HTTP/1.1 200 OK\"\n"
     ]
    },
    {
     "name": "stdout",
     "output_type": "stream",
     "text": [
      "\u001B[32;1m\u001B[1;3mThe resolved entity for the taxon \"Melochia umbellata\" is the Wikidata IRI: http://www.wikidata.org/entity/Q6813281\n",
      "\n",
      "The units relevant to the numerical values in the question are:\n",
      "- \"retention time\": \"seconds\"\n",
      "- \"parent mass\": \"ppm (parts-per-million) for m/z\"\u001B[0m\n",
      "\n",
      "\u001B[1m> Finished chain.\u001B[0m\n"
     ]
    },
    {
     "name": "stderr",
     "output_type": "stream",
     "text": [
      "2024-03-15 15:20:59,635 - INFO - HTTP Request: POST https://api.openai.com/v1/chat/completions \"HTTP/1.1 200 OK\"\n"
     ]
    },
    {
     "name": "stdout",
     "output_type": "stream",
     "text": [
      "\n",
      "\n",
      "\u001B[1m> Entering new AgentExecutor chain...\u001B[0m\n"
     ]
    },
    {
     "name": "stderr",
     "output_type": "stream",
     "text": [
      "2024-03-15 15:21:01,111 - INFO - HTTP Request: POST https://api.openai.com/v1/chat/completions \"HTTP/1.1 200 OK\"\n"
     ]
    },
    {
     "name": "stdout",
     "output_type": "stream",
     "text": [
      "\u001B[32;1m\u001B[1;3m\n",
      "Invoking: `SPARQL_QUERY_RUNNER` with `{'question': 'Filter the pos ionization mode features of the Melochia umbellata taxon annotated as [M+H]+ by SIRIUS to keep the ones for which a feature in neg ionization mode is detected with the same retention time (+/- 3 seconds) and a mass corresponding to the [M-H]- adduct (+/- 5ppm).', 'entities': 'taxon: http://www.wikidata.org/entity/Q6813281'}`\n",
      "\n",
      "\n",
      "\u001B[0m\n",
      "\n",
      "\u001B[1m> Entering new GraphSparqlQAChain chain...\u001B[0m\n"
     ]
    },
    {
     "name": "stderr",
     "output_type": "stream",
     "text": [
      "2024-03-15 15:21:28,413 - INFO - HTTP Request: POST https://api.openai.com/v1/chat/completions \"HTTP/1.1 200 OK\"\n"
     ]
    },
    {
     "name": "stdout",
     "output_type": "stream",
     "text": [
      "Generated SPARQL:\n",
      "\u001B[32;1m\u001B[1;3mPREFIX ns1: <https://enpkg.commons-lab.org/kg/>\n",
      "PREFIX ns2: <https://enpkg.commons-lab.org/module/>\n",
      "PREFIX xsd: <http://www.w3.org/2001/XMLSchema#>\n",
      "\n",
      "SELECT ?posFeature ?negFeature\n",
      "WHERE {\n",
      "    ?rawMaterial ns1:has_wd_id <http://www.wikidata.org/entity/Q6813281> .\n",
      "    ?rawMaterial ns1:has_lab_process ?labExtract .\n",
      "    ?labExtract ns1:has_LCMS ?posAnalysis .\n",
      "    ?posAnalysis a ns1:LCMSAnalysisPos .\n",
      "    ?posAnalysis ns1:has_lcms_feature_list ?posFeatureList .\n",
      "    ?posFeatureList ns1:has_lcms_feature ?posFeature .\n",
      "    ?posFeature ns1:has_sirius_adduct \"[M+H]+\" .\n",
      "    ?posFeature ns1:has_retention_time ?posRetentionTime .\n",
      "    ?posFeature ns1:has_parent_mass ?posParentMass .\n",
      "    ?labExtract ns1:has_LCMS ?negAnalysis .\n",
      "    ?negAnalysis a ns1:LCMSAnalysisNeg .\n",
      "    ?negAnalysis ns1:has_lcms_feature_list ?negFeatureList .\n",
      "    ?negFeatureList ns1:has_lcms_feature ?negFeature .\n",
      "    ?negFeature ns1:has_sirius_adduct \"[M-H]-\" .\n",
      "    ?negFeature ns1:has_retention_time ?negRetentionTime .\n",
      "    ?negFeature ns1:has_parent_mass ?negParentMass .\n",
      "    FILTER (abs(?posRetentionTime - ?negRetentionTime) <= 3)\n",
      "    FILTER (abs(?posParentMass - ?negParentMass) / ?posParentMass * 1000000 <= 5)\n",
      "}\u001B[0m\n",
      "JSON data is empty or not in the expected format.\n",
      "Saving results to file:  None\n",
      "\n",
      "\u001B[1m> Finished chain.\u001B[0m\n",
      "\u001B[36;1m\u001B[1;3m{'query': 'PREFIX ns1: <https://enpkg.commons-lab.org/kg/>\\nPREFIX ns2: <https://enpkg.commons-lab.org/module/>\\nPREFIX xsd: <http://www.w3.org/2001/XMLSchema#>\\n\\nSELECT ?posFeature ?negFeature\\nWHERE {\\n    ?rawMaterial ns1:has_wd_id <http://www.wikidata.org/entity/Q6813281> .\\n    ?rawMaterial ns1:has_lab_process ?labExtract .\\n    ?labExtract ns1:has_LCMS ?posAnalysis .\\n    ?posAnalysis a ns1:LCMSAnalysisPos .\\n    ?posAnalysis ns1:has_lcms_feature_list ?posFeatureList .\\n    ?posFeatureList ns1:has_lcms_feature ?posFeature .\\n    ?posFeature ns1:has_sirius_adduct \"[M+H]+\" .\\n    ?posFeature ns1:has_retention_time ?posRetentionTime .\\n    ?posFeature ns1:has_parent_mass ?posParentMass .\\n    ?labExtract ns1:has_LCMS ?negAnalysis .\\n    ?negAnalysis a ns1:LCMSAnalysisNeg .\\n    ?negAnalysis ns1:has_lcms_feature_list ?negFeatureList .\\n    ?negFeatureList ns1:has_lcms_feature ?negFeature .\\n    ?negFeature ns1:has_sirius_adduct \"[M-H]-\" .\\n    ?negFeature ns1:has_retention_time ?negRetentionTime .\\n    ?negFeature ns1:has_parent_mass ?negParentMass .\\n    FILTER (abs(?posRetentionTime - ?negRetentionTime) <= 3)\\n    FILTER (abs(?posParentMass - ?negParentMass) / ?posParentMass * 1000000 <= 5)\\n}', 'result': [], 'temp_file_path': None}\u001B[0m"
     ]
    },
    {
     "name": "stderr",
     "output_type": "stream",
     "text": [
      "2024-03-15 15:21:31,483 - INFO - HTTP Request: POST https://api.openai.com/v1/chat/completions \"HTTP/1.1 200 OK\"\n"
     ]
    },
    {
     "name": "stdout",
     "output_type": "stream",
     "text": [
      "\u001B[32;1m\u001B[1;3mThe query was executed to filter the positive ionization mode features of the Melochia umbellata taxon annotated as [M+H]+ by SIRIUS, keeping only those for which a feature in negative ionization mode is detected with the same retention time (+/- 3 seconds) and a mass corresponding to the [M-H]- adduct (+/- 5ppm). However, no matching features were found in the database.\n",
      "\n",
      "Here is the summary of the process:\n",
      "- **Question:** Filter the pos ionization mode features of the Melochia umbellata taxon annotated as [M+H]+ by SIRIUS to keep the ones for which a feature in neg ionization mode is detected with the same retention time (+/- 3 seconds) and a mass corresponding to the [M-H]- adduct (+/- 5ppm).\n",
      "- **Generated SPARQL Query:** The query was designed to select positive and corresponding negative ionization mode features based on the specified criteria.\n",
      "- **File Path:** The results were expected to be stored in a temporary file, but no matching records were found, hence no file was created.\n",
      "\n",
      "This indicates that within the current dataset, there are no features for Melochia umbellata that meet the specified criteria.\u001B[0m\n",
      "\n",
      "\u001B[1m> Finished chain.\u001B[0m\n"
     ]
    },
    {
     "name": "stderr",
     "output_type": "stream",
     "text": [
      "2024-03-15 15:21:50,427 - INFO - HTTP Request: POST https://api.openai.com/v1/chat/completions \"HTTP/1.1 200 OK\"\n"
     ]
    },
    {
     "name": "stdout",
     "output_type": "stream",
     "text": [
      "{'__end__': {'messages': [HumanMessage(content='Filter the pos ionization mode features of the Melochia umbellata taxon annotated as [M+H]+ by SIRIUS to keep the ones for which a feature in neg ionization mode is detected with the same retention time (+/- 3 seconds) and a mass corresponding to the [M-H]- adduct (+/- 5ppm).'), HumanMessage(content='The resolved entity for the taxon \"Melochia umbellata\" is the Wikidata IRI: http://www.wikidata.org/entity/Q6813281\\n\\nThe units relevant to the numerical values in the question are:\\n- \"retention time\": \"seconds\"\\n- \"parent mass\": \"ppm (parts-per-million) for m/z\"', name='ENPKG_agent'), HumanMessage(content='The query was executed to filter the positive ionization mode features of the Melochia umbellata taxon annotated as [M+H]+ by SIRIUS, keeping only those for which a feature in negative ionization mode is detected with the same retention time (+/- 3 seconds) and a mass corresponding to the [M-H]- adduct (+/- 5ppm). However, no matching features were found in the database.\\n\\nHere is the summary of the process:\\n- **Question:** Filter the pos ionization mode features of the Melochia umbellata taxon annotated as [M+H]+ by SIRIUS to keep the ones for which a feature in neg ionization mode is detected with the same retention time (+/- 3 seconds) and a mass corresponding to the [M-H]- adduct (+/- 5ppm).\\n- **Generated SPARQL Query:** The query was designed to select positive and corresponding negative ionization mode features based on the specified criteria.\\n- **File Path:** The results were expected to be stored in a temporary file, but no matching records were found, hence no file was created.\\n\\nThis indicates that within the current dataset, there are no features for Melochia umbellata that meet the specified criteria.', name='Sparql_query_runner')], 'next': 'FINISH'}}\n",
      "----\n"
     ]
    }
   ],
   "source": [
    "for s in app.stream(\n",
    "    {\"messages\": [HumanMessage(content=q6)]},\n",
    "    {\"recursion_limit\": 100},\n",
    "):\n",
    "    if \"__end__\" in s:\n",
    "        print(s)\n",
    "        print(\"----\")"
   ]
  },
  {
   "cell_type": "code",
   "execution_count": null,
   "metadata": {
    "collapsed": false
   },
   "outputs": [],
   "source": [
    "for s in app.stream(\n",
    "    {\"messages\": [HumanMessage(content=q3)]},\n",
    "    {\"recursion_limit\": 100},\n",
    "):\n",
    "    if \"__end__\" in s:\n",
    "        print(s)\n",
    "        print(\"----\")"
   ]
  },
  {
   "cell_type": "code",
   "execution_count": null,
   "metadata": {
    "collapsed": false
   },
   "outputs": [],
   "source": [
    "def process_stream(app, q2):\n",
    "    results = []  # Initialize an empty list to store results\n",
    "    try:\n",
    "        # Iterate over the stream from app.stream()\n",
    "        for s in app.stream(\n",
    "            {\n",
    "                \"messages\": [\n",
    "                    HumanMessage(\n",
    "                        content=q2\n",
    "                    )  # Assuming q2 is the content of the message\n",
    "                ]\n",
    "            },\n",
    "            {\"recursion_limit\": 100},  # Additional options for the stream\n",
    "        ):\n",
    "            # Check if \"__end__\" is not in the stream output\n",
    "            if \"__end__\" not in s:\n",
    "                results.append(\n",
    "                    s\n",
    "                )  # Append the stream output to results list instead of printing\n",
    "    except Exception as e:\n",
    "        print(f\"An error occurred: {e}\")\n",
    "    return results  # Return the list of results"
   ]
  },
  {
   "cell_type": "code",
   "execution_count": null,
   "metadata": {
    "collapsed": false
   },
   "outputs": [],
   "source": [
    "def process_stream(question):\n",
    "    \"\"\"\n",
    "    Iterates over messages from app.stream(), printing each message until an \"__end__\" flag is encountered.\n",
    "\n",
    "    :param question: The question to be sent as part of the initial stream request.\n",
    "    \"\"\"\n",
    "    # Define the parameters for app.stream() as described\n",
    "    stream_params = {\n",
    "        \"messages\": [{\"content\": question}],\n",
    "    }\n",
    "    stream_options = {\"recursion_limit\": 100}\n",
    "\n",
    "    try:\n",
    "        for s in app.stream(stream_params, stream_options):\n",
    "            if \"__end__\" not in s:\n",
    "                print(s)\n",
    "                print(\"----\")\n",
    "            else:\n",
    "                break  # Exit the loop if \"__end__\" is encountered\n",
    "    except Exception as e:\n",
    "        print(f\"An error occurred during streaming: {e}\")"
   ]
  }
 ],
 "metadata": {
  "kernelspec": {
   "display_name": "kgai",
   "language": "python",
   "name": "python3"
  },
  "language_info": {
   "codemirror_mode": {
    "name": "ipython",
    "version": 3
   },
   "file_extension": ".py",
   "mimetype": "text/x-python",
   "name": "python",
   "nbconvert_exporter": "python",
   "pygments_lexer": "ipython3",
   "version": "3.11.6"
  }
 },
 "nbformat": 4,
 "nbformat_minor": 2
}
