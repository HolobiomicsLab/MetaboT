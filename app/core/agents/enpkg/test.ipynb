{
 "cells": [
  {
   "cell_type": "code",
   "execution_count": 3,
   "metadata": {},
   "outputs": [],
   "source": [
    "from langchain_core.tools import tool\n",
    "from langchain.pydantic_v1 import BaseModel, Field\n",
    "\n",
    "class test():\n",
    "    @tool('test')\n",
    "    def multiply(self, first_int: int, second_int: int) -> int:\n",
    "        \"\"\"Multiply two integers together.\n",
    "        \n",
    "        @param first_int: The first integer to multiply.\n",
    "        @param second_int: The second integer to multiply.\n",
    "        \n",
    "        \"\"\"\n",
    "        return first_int * second_int\n",
    "\n",
    "\n"
   ]
  },
  {
   "cell_type": "code",
   "execution_count": 10,
   "metadata": {},
   "outputs": [],
   "source": [
    "t = test()\n",
    "tool = t.multiply"
   ]
  },
  {
   "cell_type": "code",
   "execution_count": 12,
   "metadata": {},
   "outputs": [
    {
     "ename": "ValidationError",
     "evalue": "1 validation error for testSchema\nself\n  field required (type=value_error.missing)",
     "output_type": "error",
     "traceback": [
      "\u001b[0;31m---------------------------------------------------------------------------\u001b[0m",
      "\u001b[0;31mValidationError\u001b[0m                           Traceback (most recent call last)",
      "Cell \u001b[0;32mIn[12], line 6\u001b[0m\n\u001b[1;32m      1\u001b[0m q \u001b[38;5;241m=\u001b[39m {\n\u001b[1;32m      2\u001b[0m     \u001b[38;5;124m\"\u001b[39m\u001b[38;5;124mfirst_int\u001b[39m\u001b[38;5;124m\"\u001b[39m: \u001b[38;5;241m2\u001b[39m,\n\u001b[1;32m      3\u001b[0m     \u001b[38;5;124m\"\u001b[39m\u001b[38;5;124msecond_int\u001b[39m\u001b[38;5;124m\"\u001b[39m: \u001b[38;5;241m3\u001b[39m\n\u001b[1;32m      4\u001b[0m }\n\u001b[0;32m----> 6\u001b[0m \u001b[43mtool\u001b[49m\u001b[38;5;241;43m.\u001b[39;49m\u001b[43mrun\u001b[49m\u001b[43m(\u001b[49m\u001b[43mq\u001b[49m\u001b[43m)\u001b[49m\n",
      "File \u001b[0;32m~/miniconda3/envs/kgai/lib/python3.11/site-packages/langchain_core/tools.py:387\u001b[0m, in \u001b[0;36mBaseTool.run\u001b[0;34m(self, tool_input, verbose, start_color, color, callbacks, tags, metadata, run_name, run_id, **kwargs)\u001b[0m\n\u001b[1;32m    385\u001b[0m \u001b[38;5;28;01mexcept\u001b[39;00m ValidationError \u001b[38;5;28;01mas\u001b[39;00m e:\n\u001b[1;32m    386\u001b[0m     \u001b[38;5;28;01mif\u001b[39;00m \u001b[38;5;129;01mnot\u001b[39;00m \u001b[38;5;28mself\u001b[39m\u001b[38;5;241m.\u001b[39mhandle_validation_error:\n\u001b[0;32m--> 387\u001b[0m         \u001b[38;5;28;01mraise\u001b[39;00m e\n\u001b[1;32m    388\u001b[0m     \u001b[38;5;28;01melif\u001b[39;00m \u001b[38;5;28misinstance\u001b[39m(\u001b[38;5;28mself\u001b[39m\u001b[38;5;241m.\u001b[39mhandle_validation_error, \u001b[38;5;28mbool\u001b[39m):\n\u001b[1;32m    389\u001b[0m         observation \u001b[38;5;241m=\u001b[39m \u001b[38;5;124m\"\u001b[39m\u001b[38;5;124mTool input validation error\u001b[39m\u001b[38;5;124m\"\u001b[39m\n",
      "File \u001b[0;32m~/miniconda3/envs/kgai/lib/python3.11/site-packages/langchain_core/tools.py:378\u001b[0m, in \u001b[0;36mBaseTool.run\u001b[0;34m(self, tool_input, verbose, start_color, color, callbacks, tags, metadata, run_name, run_id, **kwargs)\u001b[0m\n\u001b[1;32m    364\u001b[0m run_manager \u001b[38;5;241m=\u001b[39m callback_manager\u001b[38;5;241m.\u001b[39mon_tool_start(\n\u001b[1;32m    365\u001b[0m     {\u001b[38;5;124m\"\u001b[39m\u001b[38;5;124mname\u001b[39m\u001b[38;5;124m\"\u001b[39m: \u001b[38;5;28mself\u001b[39m\u001b[38;5;241m.\u001b[39mname, \u001b[38;5;124m\"\u001b[39m\u001b[38;5;124mdescription\u001b[39m\u001b[38;5;124m\"\u001b[39m: \u001b[38;5;28mself\u001b[39m\u001b[38;5;241m.\u001b[39mdescription},\n\u001b[1;32m    366\u001b[0m     tool_input \u001b[38;5;28;01mif\u001b[39;00m \u001b[38;5;28misinstance\u001b[39m(tool_input, \u001b[38;5;28mstr\u001b[39m) \u001b[38;5;28;01melse\u001b[39;00m \u001b[38;5;28mstr\u001b[39m(tool_input),\n\u001b[0;32m   (...)\u001b[0m\n\u001b[1;32m    375\u001b[0m     \u001b[38;5;241m*\u001b[39m\u001b[38;5;241m*\u001b[39mkwargs,\n\u001b[1;32m    376\u001b[0m )\n\u001b[1;32m    377\u001b[0m \u001b[38;5;28;01mtry\u001b[39;00m:\n\u001b[0;32m--> 378\u001b[0m     parsed_input \u001b[38;5;241m=\u001b[39m \u001b[38;5;28;43mself\u001b[39;49m\u001b[38;5;241;43m.\u001b[39;49m\u001b[43m_parse_input\u001b[49m\u001b[43m(\u001b[49m\u001b[43mtool_input\u001b[49m\u001b[43m)\u001b[49m\n\u001b[1;32m    379\u001b[0m     tool_args, tool_kwargs \u001b[38;5;241m=\u001b[39m \u001b[38;5;28mself\u001b[39m\u001b[38;5;241m.\u001b[39m_to_args_and_kwargs(parsed_input)\n\u001b[1;32m    380\u001b[0m     observation \u001b[38;5;241m=\u001b[39m (\n\u001b[1;32m    381\u001b[0m         \u001b[38;5;28mself\u001b[39m\u001b[38;5;241m.\u001b[39m_run(\u001b[38;5;241m*\u001b[39mtool_args, run_manager\u001b[38;5;241m=\u001b[39mrun_manager, \u001b[38;5;241m*\u001b[39m\u001b[38;5;241m*\u001b[39mtool_kwargs)\n\u001b[1;32m    382\u001b[0m         \u001b[38;5;28;01mif\u001b[39;00m new_arg_supported\n\u001b[1;32m    383\u001b[0m         \u001b[38;5;28;01melse\u001b[39;00m \u001b[38;5;28mself\u001b[39m\u001b[38;5;241m.\u001b[39m_run(\u001b[38;5;241m*\u001b[39mtool_args, \u001b[38;5;241m*\u001b[39m\u001b[38;5;241m*\u001b[39mtool_kwargs)\n\u001b[1;32m    384\u001b[0m     )\n",
      "File \u001b[0;32m~/miniconda3/envs/kgai/lib/python3.11/site-packages/langchain_core/tools.py:283\u001b[0m, in \u001b[0;36mBaseTool._parse_input\u001b[0;34m(self, tool_input)\u001b[0m\n\u001b[1;32m    281\u001b[0m \u001b[38;5;28;01melse\u001b[39;00m:\n\u001b[1;32m    282\u001b[0m     \u001b[38;5;28;01mif\u001b[39;00m input_args \u001b[38;5;129;01mis\u001b[39;00m \u001b[38;5;129;01mnot\u001b[39;00m \u001b[38;5;28;01mNone\u001b[39;00m:\n\u001b[0;32m--> 283\u001b[0m         result \u001b[38;5;241m=\u001b[39m \u001b[43minput_args\u001b[49m\u001b[38;5;241;43m.\u001b[39;49m\u001b[43mparse_obj\u001b[49m\u001b[43m(\u001b[49m\u001b[43mtool_input\u001b[49m\u001b[43m)\u001b[49m\n\u001b[1;32m    284\u001b[0m         \u001b[38;5;28;01mreturn\u001b[39;00m {\n\u001b[1;32m    285\u001b[0m             k: \u001b[38;5;28mgetattr\u001b[39m(result, k)\n\u001b[1;32m    286\u001b[0m             \u001b[38;5;28;01mfor\u001b[39;00m k, v \u001b[38;5;129;01min\u001b[39;00m result\u001b[38;5;241m.\u001b[39mdict()\u001b[38;5;241m.\u001b[39mitems()\n\u001b[1;32m    287\u001b[0m             \u001b[38;5;28;01mif\u001b[39;00m k \u001b[38;5;129;01min\u001b[39;00m tool_input\n\u001b[1;32m    288\u001b[0m         }\n\u001b[1;32m    289\u001b[0m \u001b[38;5;28;01mreturn\u001b[39;00m tool_input\n",
      "File \u001b[0;32m~/miniconda3/envs/kgai/lib/python3.11/site-packages/pydantic/v1/main.py:526\u001b[0m, in \u001b[0;36mBaseModel.parse_obj\u001b[0;34m(cls, obj)\u001b[0m\n\u001b[1;32m    524\u001b[0m         exc \u001b[38;5;241m=\u001b[39m \u001b[38;5;167;01mTypeError\u001b[39;00m(\u001b[38;5;124mf\u001b[39m\u001b[38;5;124m'\u001b[39m\u001b[38;5;132;01m{\u001b[39;00m\u001b[38;5;28mcls\u001b[39m\u001b[38;5;241m.\u001b[39m\u001b[38;5;18m__name__\u001b[39m\u001b[38;5;132;01m}\u001b[39;00m\u001b[38;5;124m expected dict not \u001b[39m\u001b[38;5;132;01m{\u001b[39;00mobj\u001b[38;5;241m.\u001b[39m\u001b[38;5;18m__class__\u001b[39m\u001b[38;5;241m.\u001b[39m\u001b[38;5;18m__name__\u001b[39m\u001b[38;5;132;01m}\u001b[39;00m\u001b[38;5;124m'\u001b[39m)\n\u001b[1;32m    525\u001b[0m         \u001b[38;5;28;01mraise\u001b[39;00m ValidationError([ErrorWrapper(exc, loc\u001b[38;5;241m=\u001b[39mROOT_KEY)], \u001b[38;5;28mcls\u001b[39m) \u001b[38;5;28;01mfrom\u001b[39;00m \u001b[38;5;21;01me\u001b[39;00m\n\u001b[0;32m--> 526\u001b[0m \u001b[38;5;28;01mreturn\u001b[39;00m \u001b[38;5;28;43mcls\u001b[39;49m\u001b[43m(\u001b[49m\u001b[38;5;241;43m*\u001b[39;49m\u001b[38;5;241;43m*\u001b[39;49m\u001b[43mobj\u001b[49m\u001b[43m)\u001b[49m\n",
      "File \u001b[0;32m~/miniconda3/envs/kgai/lib/python3.11/site-packages/pydantic/v1/main.py:341\u001b[0m, in \u001b[0;36mBaseModel.__init__\u001b[0;34m(__pydantic_self__, **data)\u001b[0m\n\u001b[1;32m    339\u001b[0m values, fields_set, validation_error \u001b[38;5;241m=\u001b[39m validate_model(__pydantic_self__\u001b[38;5;241m.\u001b[39m\u001b[38;5;18m__class__\u001b[39m, data)\n\u001b[1;32m    340\u001b[0m \u001b[38;5;28;01mif\u001b[39;00m validation_error:\n\u001b[0;32m--> 341\u001b[0m     \u001b[38;5;28;01mraise\u001b[39;00m validation_error\n\u001b[1;32m    342\u001b[0m \u001b[38;5;28;01mtry\u001b[39;00m:\n\u001b[1;32m    343\u001b[0m     object_setattr(__pydantic_self__, \u001b[38;5;124m'\u001b[39m\u001b[38;5;124m__dict__\u001b[39m\u001b[38;5;124m'\u001b[39m, values)\n",
      "\u001b[0;31mValidationError\u001b[0m: 1 validation error for testSchema\nself\n  field required (type=value_error.missing)"
     ]
    }
   ],
   "source": [
    "q = {\n",
    "    \"first_int\": 2,\n",
    "    \"second_int\": 3\n",
    "}\n",
    "\n",
    "tool(q)"
   ]
  },
  {
   "cell_type": "code",
   "execution_count": null,
   "metadata": {},
   "outputs": [],
   "source": [
    "class test():\n",
    "    def multiply(self, first_int: int, second_int: int) -> int:\n",
    "        \"\"\"Multiply two integers together.\n",
    "        \n",
    "        @param first_int: The first integer to multiply.\n",
    "        @param second_int: The second integer to multiply.\n",
    "        \n",
    "        \"\"\"\n",
    "        self.hello()\n",
    "        return first_int * second_int\n",
    "    \n",
    "    def hello(self):\n",
    "        print('hello')\n",
    "\n"
   ]
  },
  {
   "cell_type": "code",
   "execution_count": 21,
   "metadata": {},
   "outputs": [
    {
     "name": "stdout",
     "output_type": "stream",
     "text": [
      "test\n",
      "test(first_int: int, second_int: int) -> int - Multiply two integers together.\n",
      "    \n",
      "    @param first_int: The first integer to multiply.\n",
      "    @param second_int: The second integer to multiply.\n",
      "{'first_int': {'title': 'First Int', 'type': 'integer'}, 'second_int': {'title': 'Second Int', 'type': 'integer'}}\n",
      "{'title': 'testSchema', 'type': 'object', 'properties': {'first_int': {'title': 'First Int', 'type': 'integer'}, 'second_int': {'title': 'Second Int', 'type': 'integer'}}, 'required': ['first_int', 'second_int']}\n"
     ]
    }
   ],
   "source": [
    "print(multiply.name)\n",
    "print(multiply.description)\n",
    "print(multiply.args)\n",
    "\n",
    "print(multiply.args_schema.schema())"
   ]
  },
  {
   "cell_type": "code",
   "execution_count": 14,
   "metadata": {},
   "outputs": [],
   "source": [
    "class ChemicalInput(BaseModel):\n",
    "    query: str = Field(description=\"natural product compound string\")\n",
    "    \n",
    "multiply.args_schema = ChemicalInput"
   ]
  },
  {
   "cell_type": "code",
   "execution_count": 15,
   "metadata": {},
   "outputs": [
    {
     "name": "stdout",
     "output_type": "stream",
     "text": [
      "{'title': 'ChemicalInput', 'type': 'object', 'properties': {'query': {'title': 'Query', 'description': 'natural product compound string', 'type': 'string'}}, 'required': ['query']}\n"
     ]
    }
   ],
   "source": [
    "print(multiply.args_schema.schema())"
   ]
  },
  {
   "cell_type": "code",
   "execution_count": 24,
   "metadata": {},
   "outputs": [],
   "source": [
    "\n",
    "import logging.config\n",
    "from pathlib import Path\n",
    "from typing import Optional\n",
    "\n",
    "from SPARQLWrapper import JSON, SPARQLWrapper\n",
    "\n",
    "\n",
    "# The `TaxonResolver` class constructs and executes SPARQL queries to retrieve Wikidata IRIs\n",
    "# based on taxon names.\n",
    "class TaxonResolver():\n",
    "    name = \"TAXON_RESOLVER\"\n",
    "    description = (\n",
    "        \"The function takes a taxon string as input and returns the wikidata ID.\"\n",
    "    )\n",
    "    args_schema = None\n",
    "    ENDPOINT_URL = \"https://query.wikidata.org/sparql\"\n",
    "    PREFIXES = \"\"\"\n",
    "        PREFIX prov: <http://www.w3.org/ns/prov#>\n",
    "        PREFIX pr: <http://www.wikidata.org/prop/reference/>\n",
    "        PREFIX wdt: <http://www.wikidata.org/prop/direct/>\n",
    "        PREFIX wd: <http://www.wikidata.org/entity/>\n",
    "    \"\"\"\n",
    "\n",
    "    def __init__(self):\n",
    "        super().__init__()\n",
    "\n",
    "    @tool(\"TAXON_RESOLVER\")\n",
    "    def run(self, taxon_name: str) -> Optional[str]:\n",
    "        \"\"\"\n",
    "        Takes a taxon name as input, builds a query, executes it, and returns\n",
    "        the Wikidata IRI if found.\n",
    "\n",
    "        Args:\n",
    "          taxon_name (str): A string that represents the name of a taxon.\n",
    "\n",
    "        Returns:\n",
    "            str: A string that contains the Wikidata IRI if found, otherwise `None`.\n",
    "        \"\"\"\n",
    "        query = self.build_query(taxon_name)\n",
    "        results = self.execute_query(query)\n",
    "\n",
    "        if results:\n",
    "            try:\n",
    "                bindings = results[\"results\"][\"bindings\"]\n",
    "                if bindings:  # Check if the list is not empty\n",
    "                    return \"wikidata IRI is \" + bindings[0][\"wikidata\"][\"value\"]\n",
    "                else:\n",
    "                    \n",
    "                    return None\n",
    "            except KeyError:\n",
    "                \n",
    "                return None\n",
    "        else:\n",
    "            return None\n",
    "\n",
    "    def build_query(self, taxon_name: str) -> str:\n",
    "        \"\"\"\n",
    "        Constructs a SPARQL query to retrieve information about a taxon based on\n",
    "        its name.\n",
    "\n",
    "        Args:\n",
    "          taxon_name (str): a string representing the name of a taxon.\n",
    "\n",
    "        Returns:\n",
    "          str : Sparql query that target the P225 taxon wikidata id.\n",
    "        \"\"\"\n",
    "        return f\"\"\"\n",
    "            {self.PREFIXES}\n",
    "            SELECT *\n",
    "            WHERE\n",
    "            {{\n",
    "              ?wikidata wdt:P225 \"{taxon_name}\" .\n",
    "            }}\n",
    "        \"\"\"\n",
    "\n",
    "    def execute_query(self, query: str) -> Optional[dict]:\n",
    "        \"\"\"\n",
    "        Sends a SPARQL query to a specified endpoint URL and returns the\n",
    "        results in JSON format, handling exceptions by logging errors.\n",
    "\n",
    "        Args:\n",
    "            query: Sparql query string.\n",
    "\n",
    "        Returns:\n",
    "            dict: Results in JSON format if the query is successful and results are found.\n",
    "            None: If no results are found, it logs an info message and returns `None`. If there\n",
    "            is an unexpected result format or an error during the process, it logs an error.\n",
    "        \"\"\"\n",
    "        sparql = SPARQLWrapper(self.ENDPOINT_URL)\n",
    "        sparql.setQuery(query)\n",
    "        sparql.setReturnFormat(JSON)\n",
    "        sparql.setTimeout(600)\n",
    "        \n",
    "        try:\n",
    "            results = sparql.queryAndConvert()\n",
    "            # check if results are empty, result dict is empty or bindings are empty\n",
    "            if not results or (\n",
    "                results.get(\"results\") and not results.get(\"results\").get(\"bindings\")\n",
    "            ):\n",
    "                \n",
    "                return None\n",
    "            \n",
    "            return results\n",
    "        except Exception as e:\n",
    "            \n",
    "            return None\n"
   ]
  },
  {
   "cell_type": "code",
   "execution_count": 26,
   "metadata": {},
   "outputs": [
    {
     "data": {
      "text/plain": [
       "'TAXON_RESOLVER(self, taxon_name: str) -> Optional[str] - Takes a taxon name as input, builds a query, executes it, and returns\\n        the Wikidata IRI if found.\\n\\n        Args:\\n          taxon_name (str): A string that represents the name of a taxon.\\n\\n        Returns:\\n            str: A string that contains the Wikidata IRI if found, otherwise `None`.'"
      ]
     },
     "execution_count": 26,
     "metadata": {},
     "output_type": "execute_result"
    }
   ],
   "source": [
    "TaxonResolver().run.description"
   ]
  }
 ],
 "metadata": {
  "kernelspec": {
   "display_name": "kgai",
   "language": "python",
   "name": "python3"
  },
  "language_info": {
   "codemirror_mode": {
    "name": "ipython",
    "version": 3
   },
   "file_extension": ".py",
   "mimetype": "text/x-python",
   "name": "python",
   "nbconvert_exporter": "python",
   "pygments_lexer": "ipython3",
   "version": "3.11.6"
  }
 },
 "nbformat": 4,
 "nbformat_minor": 2
}
