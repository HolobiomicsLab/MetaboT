{
 "cells": [
  {
   "cell_type": "code",
   "execution_count": null,
   "metadata": {},
   "outputs": [],
   "source": []
  },
  {
   "cell_type": "code",
   "execution_count": null,
   "metadata": {},
   "outputs": [],
   "source": []
  },
  {
   "cell_type": "code",
   "execution_count": 63,
   "metadata": {},
   "outputs": [],
   "source": [
    "# old queries\n",
    "query1 = f\"\"\"\n",
    "SELECT DISTINCT ?class ?property (SAMPLE(?value) AS ?sampleValue)\n",
    "    WHERE {{\n",
    "        ?class a <{class_uri}> .\n",
    "        {{\n",
    "            SELECT DISTINCT ?instance ?property ?value\n",
    "            WHERE {{\n",
    "                ?instance a ?class .\n",
    "                ?instance ?property ?value .\n",
    "            }}\n",
    "            LIMIT 10000\n",
    "        }}\n",
    "    }}\n",
    "    GROUP BY ?class ?property\n",
    "\"\"\"\n",
    "\n",
    "query2= f\"\"\"\n",
    "\n",
    "SELECT ?property (SAMPLE(COALESCE(?type, STR(DATATYPE(?value)), \"Untyped\")) AS ?valueType) WHERE {{\n",
    "  ?instance a <{class_uri}> ;\n",
    "            ?property ?value .\n",
    "  OPTIONAL {{\n",
    "    FILTER (!isLiteral(?value))\n",
    "    ?value a ?type .\n",
    "  }}\n",
    "}} GROUP BY ?property ?type\n",
    "LIMIT 100000\n",
    "    \"\"\"\n"
   ]
  },
  {
   "cell_type": "code",
   "execution_count": 81,
   "metadata": {},
   "outputs": [
    {
     "name": "stderr",
     "output_type": "stream",
     "text": [
      "processing classes:   2%|▏         | 1/48 [00:00<00:06,  6.74it/s]"
     ]
    },
    {
     "name": "stdout",
     "output_type": "stream",
     "text": [
      "processing http://www.w3.org/1999/02/22-rdf-syntax-ns#XMLLiteral\n",
      "processing http://www.w3.org/2001/XMLSchema#nonNegativeInteger\n"
     ]
    },
    {
     "name": "stderr",
     "output_type": "stream",
     "text": [
      "processing classes:   6%|▋         | 3/48 [00:00<00:06,  6.46it/s]"
     ]
    },
    {
     "name": "stdout",
     "output_type": "stream",
     "text": [
      "processing http://www.w3.org/2001/XMLSchema#string\n",
      "processing https://enpkg.commons-lab.org/kg/RawMaterial\n"
     ]
    },
    {
     "name": "stderr",
     "output_type": "stream",
     "text": [
      "processing classes:   8%|▊         | 4/48 [00:00<00:09,  4.70it/s]"
     ]
    },
    {
     "name": "stdout",
     "output_type": "stream",
     "text": [
      "processing https://enpkg.commons-lab.org/kg/LFpair\n"
     ]
    },
    {
     "name": "stderr",
     "output_type": "stream",
     "text": [
      "processing classes:  12%|█▎        | 6/48 [00:01<00:09,  4.47it/s]"
     ]
    },
    {
     "name": "stdout",
     "output_type": "stream",
     "text": [
      "processing https://enpkg.commons-lab.org/kg/WDChemical\n",
      "processing https://enpkg.commons-lab.org/kg/WDTaxon\n"
     ]
    },
    {
     "name": "stderr",
     "output_type": "stream",
     "text": [
      "processing classes:  15%|█▍        | 7/48 [00:01<00:08,  4.69it/s]"
     ]
    },
    {
     "name": "stdout",
     "output_type": "stream",
     "text": [
      "processing https://enpkg.commons-lab.org/kg/InChIkey2D\n"
     ]
    },
    {
     "name": "stderr",
     "output_type": "stream",
     "text": [
      "processing classes:  17%|█▋        | 8/48 [00:01<00:09,  4.08it/s]"
     ]
    },
    {
     "name": "stdout",
     "output_type": "stream",
     "text": [
      "processing https://enpkg.commons-lab.org/kg/InChIkey\n"
     ]
    },
    {
     "name": "stderr",
     "output_type": "stream",
     "text": [
      "processing classes:  19%|█▉        | 9/48 [00:02<00:10,  3.75it/s]"
     ]
    },
    {
     "name": "stdout",
     "output_type": "stream",
     "text": [
      "processing https://enpkg.commons-lab.org/kg/LabExtract\n"
     ]
    },
    {
     "name": "stderr",
     "output_type": "stream",
     "text": [
      "processing classes:  21%|██        | 10/48 [00:02<00:11,  3.38it/s]"
     ]
    },
    {
     "name": "stdout",
     "output_type": "stream",
     "text": [
      "processing https://enpkg.commons-lab.org/kg/LCMSAnalysisPos\n"
     ]
    },
    {
     "name": "stderr",
     "output_type": "stream",
     "text": [
      "processing classes:  23%|██▎       | 11/48 [00:02<00:10,  3.40it/s]"
     ]
    },
    {
     "name": "stdout",
     "output_type": "stream",
     "text": [
      "processing https://enpkg.commons-lab.org/kg/LCMSFeatureList\n"
     ]
    },
    {
     "name": "stderr",
     "output_type": "stream",
     "text": [
      "processing classes:  25%|██▌       | 12/48 [00:07<01:00,  1.68s/it]"
     ]
    },
    {
     "name": "stdout",
     "output_type": "stream",
     "text": [
      "processing https://enpkg.commons-lab.org/kg/SiriusCanopusAnnotation\n"
     ]
    },
    {
     "name": "stderr",
     "output_type": "stream",
     "text": [
      "processing classes:  27%|██▋       | 13/48 [00:07<00:44,  1.27s/it]"
     ]
    },
    {
     "name": "stdout",
     "output_type": "stream",
     "text": [
      "processing https://enpkg.commons-lab.org/kg/LCMSFeature\n"
     ]
    },
    {
     "name": "stderr",
     "output_type": "stream",
     "text": [
      "processing classes:  29%|██▉       | 14/48 [00:08<00:35,  1.04s/it]"
     ]
    },
    {
     "name": "stdout",
     "output_type": "stream",
     "text": [
      "processing https://enpkg.commons-lab.org/kg/Spec2VecLoss\n"
     ]
    },
    {
     "name": "stderr",
     "output_type": "stream",
     "text": [
      "processing classes:  33%|███▎      | 16/48 [00:08<00:19,  1.63it/s]"
     ]
    },
    {
     "name": "stdout",
     "output_type": "stream",
     "text": [
      "processing https://enpkg.commons-lab.org/kg/NPCClass\n",
      "processing https://enpkg.commons-lab.org/kg/NPCSuperclass\n"
     ]
    },
    {
     "name": "stderr",
     "output_type": "stream",
     "text": [
      "processing classes:  35%|███▌      | 17/48 [00:08<00:14,  2.09it/s]"
     ]
    },
    {
     "name": "stdout",
     "output_type": "stream",
     "text": [
      "processing https://enpkg.commons-lab.org/kg/Spec2VecPeak\n"
     ]
    },
    {
     "name": "stderr",
     "output_type": "stream",
     "text": [
      "processing classes:  38%|███▊      | 18/48 [00:09<00:12,  2.48it/s]"
     ]
    },
    {
     "name": "stdout",
     "output_type": "stream",
     "text": [
      "processing https://enpkg.commons-lab.org/kg/SiriusStructureAnnotation\n"
     ]
    },
    {
     "name": "stderr",
     "output_type": "stream",
     "text": [
      "processing classes:  40%|███▉      | 19/48 [00:09<00:10,  2.71it/s]"
     ]
    },
    {
     "name": "stdout",
     "output_type": "stream",
     "text": [
      "processing https://enpkg.commons-lab.org/kg/Spec2VecDoc\n"
     ]
    },
    {
     "name": "stderr",
     "output_type": "stream",
     "text": [
      "processing classes:  42%|████▏     | 20/48 [00:10<00:18,  1.50it/s]"
     ]
    },
    {
     "name": "stdout",
     "output_type": "stream",
     "text": [
      "processing https://enpkg.commons-lab.org/kg/IsdbAnnotation\n"
     ]
    },
    {
     "name": "stderr",
     "output_type": "stream",
     "text": [
      "processing classes:  46%|████▌     | 22/48 [00:11<00:11,  2.30it/s]"
     ]
    },
    {
     "name": "stdout",
     "output_type": "stream",
     "text": [
      "processing https://enpkg.commons-lab.org/kg/NPCPathway\n",
      "processing https://enpkg.commons-lab.org/kg/LCMSAnalysisNeg\n"
     ]
    },
    {
     "name": "stderr",
     "output_type": "stream",
     "text": [
      "processing classes:  48%|████▊     | 23/48 [00:11<00:09,  2.59it/s]"
     ]
    },
    {
     "name": "stdout",
     "output_type": "stream",
     "text": [
      "processing https://enpkg.commons-lab.org/module/L610ugml\n"
     ]
    },
    {
     "name": "stderr",
     "output_type": "stream",
     "text": [
      "processing classes:  50%|█████     | 24/48 [00:11<00:08,  2.94it/s]"
     ]
    },
    {
     "name": "stdout",
     "output_type": "stream",
     "text": [
      "processing https://enpkg.commons-lab.org/module/Ldono10ugml\n"
     ]
    },
    {
     "name": "stderr",
     "output_type": "stream",
     "text": [
      "processing classes:  52%|█████▏    | 25/48 [00:12<00:07,  3.19it/s]"
     ]
    },
    {
     "name": "stdout",
     "output_type": "stream",
     "text": [
      "processing https://enpkg.commons-lab.org/module/Ldono2ugml\n"
     ]
    },
    {
     "name": "stderr",
     "output_type": "stream",
     "text": [
      "processing classes:  54%|█████▍    | 26/48 [00:12<00:06,  3.39it/s]"
     ]
    },
    {
     "name": "stdout",
     "output_type": "stream",
     "text": [
      "processing https://enpkg.commons-lab.org/module/Tbrucei10ugml\n"
     ]
    },
    {
     "name": "stderr",
     "output_type": "stream",
     "text": [
      "processing classes:  56%|█████▋    | 27/48 [00:12<00:05,  3.56it/s]"
     ]
    },
    {
     "name": "stdout",
     "output_type": "stream",
     "text": [
      "processing https://enpkg.commons-lab.org/module/Tbrucei2ugml\n"
     ]
    },
    {
     "name": "stderr",
     "output_type": "stream",
     "text": [
      "processing classes:  58%|█████▊    | 28/48 [00:12<00:05,  3.70it/s]"
     ]
    },
    {
     "name": "stdout",
     "output_type": "stream",
     "text": [
      "processing https://enpkg.commons-lab.org/module/Tcruzi10ugml\n"
     ]
    },
    {
     "name": "stderr",
     "output_type": "stream",
     "text": [
      "processing classes:  62%|██████▎   | 30/48 [00:13<00:04,  4.33it/s]"
     ]
    },
    {
     "name": "stdout",
     "output_type": "stream",
     "text": [
      "processing https://enpkg.commons-lab.org/module/ChEMBLTarget\n",
      "processing https://enpkg.commons-lab.org/kg/LabBlank\n"
     ]
    },
    {
     "name": "stderr",
     "output_type": "stream",
     "text": [
      "processing classes:  67%|██████▋   | 32/48 [00:13<00:03,  5.06it/s]"
     ]
    },
    {
     "name": "stdout",
     "output_type": "stream",
     "text": [
      "processing https://enpkg.commons-lab.org/kg/LabQc\n",
      "processing https://enpkg.commons-lab.org/module/ChEMBLAssayResults\n"
     ]
    },
    {
     "name": "stderr",
     "output_type": "stream",
     "text": [
      "processing classes:  71%|███████   | 34/48 [00:14<00:03,  4.52it/s]"
     ]
    },
    {
     "name": "stdout",
     "output_type": "stream",
     "text": [
      "processing https://enpkg.commons-lab.org/module/ChEMBLAssay\n",
      "processing https://enpkg.commons-lab.org/module/ChEMBLChemical\n"
     ]
    },
    {
     "name": "stderr",
     "output_type": "stream",
     "text": [
      "processing classes:  75%|███████▌  | 36/48 [00:14<00:02,  4.63it/s]"
     ]
    },
    {
     "name": "stdout",
     "output_type": "stream",
     "text": [
      "processing https://enpkg.commons-lab.org/module/ChEMBLDocument\n",
      "processing https://enpkg.commons-lab.org/kg/LabObject\n"
     ]
    },
    {
     "name": "stderr",
     "output_type": "stream",
     "text": [
      "processing classes:  77%|███████▋  | 37/48 [00:14<00:02,  4.19it/s]"
     ]
    },
    {
     "name": "stdout",
     "output_type": "stream",
     "text": [
      "processing https://enpkg.commons-lab.org/kg/BioAssayResults\n"
     ]
    },
    {
     "name": "stderr",
     "output_type": "stream",
     "text": [
      "processing classes:  79%|███████▉  | 38/48 [00:15<00:02,  4.20it/s]"
     ]
    },
    {
     "name": "stdout",
     "output_type": "stream",
     "text": [
      "processing https://enpkg.commons-lab.org/kg/MS2Spectrum\n"
     ]
    },
    {
     "name": "stderr",
     "output_type": "stream",
     "text": [
      "processing classes:  81%|████████▏ | 39/48 [00:15<00:02,  3.02it/s]"
     ]
    },
    {
     "name": "stdout",
     "output_type": "stream",
     "text": [
      "processing https://enpkg.commons-lab.org/kg/LCMSAnalysis\n"
     ]
    },
    {
     "name": "stderr",
     "output_type": "stream",
     "text": [
      "processing classes:  83%|████████▎ | 40/48 [00:15<00:02,  3.19it/s]"
     ]
    },
    {
     "name": "stdout",
     "output_type": "stream",
     "text": [
      "processing https://enpkg.commons-lab.org/kg/Annotation\n"
     ]
    },
    {
     "name": "stderr",
     "output_type": "stream",
     "text": [
      "processing classes:  88%|████████▊ | 42/48 [00:16<00:01,  3.75it/s]"
     ]
    },
    {
     "name": "stdout",
     "output_type": "stream",
     "text": [
      "processing https://enpkg.commons-lab.org/kg/GNPSAnnotation\n",
      "processing https://enpkg.commons-lab.org/kg/SpectralPair\n"
     ]
    },
    {
     "name": "stderr",
     "output_type": "stream",
     "text": [
      "processing classes:  90%|████████▉ | 43/48 [00:16<00:01,  3.60it/s]"
     ]
    },
    {
     "name": "stdout",
     "output_type": "stream",
     "text": [
      "processing https://enpkg.commons-lab.org/kg/ChemicalEntity\n"
     ]
    },
    {
     "name": "stderr",
     "output_type": "stream",
     "text": [
      "processing classes:  94%|█████████▍| 45/48 [00:17<00:00,  3.83it/s]"
     ]
    },
    {
     "name": "stdout",
     "output_type": "stream",
     "text": [
      "processing https://enpkg.commons-lab.org/kg/ChemicalTaxonomy\n",
      "processing https://enpkg.commons-lab.org/kg/XRef\n"
     ]
    },
    {
     "name": "stderr",
     "output_type": "stream",
     "text": [
      "processing classes:  96%|█████████▌| 46/48 [00:17<00:00,  4.08it/s]"
     ]
    },
    {
     "name": "stdout",
     "output_type": "stream",
     "text": [
      "processing https://enpkg.commons-lab.org/kg/spec2vec\n"
     ]
    },
    {
     "name": "stderr",
     "output_type": "stream",
     "text": [
      "processing classes:  98%|█████████▊| 47/48 [00:17<00:00,  3.67it/s]"
     ]
    },
    {
     "name": "stdout",
     "output_type": "stream",
     "text": [
      "processing https://enpkg.commons-lab.org/module/SwissTPHBioAssay\n"
     ]
    },
    {
     "name": "stderr",
     "output_type": "stream",
     "text": [
      "processing classes: 100%|██████████| 48/48 [00:17<00:00,  2.68it/s]\n"
     ]
    }
   ],
   "source": [
    "from SPARQLWrapper import SPARQLWrapper, JSON\n",
    "from rdflib import Graph, URIRef, Namespace, Literal\n",
    "import rdflib\n",
    "from tqdm import tqdm\n",
    "import re\n",
    "\n",
    "# Initialize the SPARQL endpoint\n",
    "sparql = SPARQLWrapper('https://enpkg.commons-lab.org/graphdb/repositories/ENPKG')\n",
    "\n",
    "def get_classes():\n",
    "    # Query to get distinct classes\n",
    "    sparql.setQuery(\"\"\"\n",
    "    SELECT DISTINCT ?class WHERE {\n",
    "        ?class a rdfs:Class .\n",
    "    }\n",
    "    \"\"\")\n",
    "    sparql.setReturnFormat(JSON)\n",
    "    results = sparql.query().convert()\n",
    "    return [result[\"class\"][\"value\"] for result in results[\"results\"][\"bindings\"]]\n",
    "\n",
    "def get_properties_and_sample_values(class_uri):\n",
    "    # Query to get properties and values of instances of a class, limited to 100 instances\n",
    "    sparql.setQuery(f\"\"\"\n",
    "    PREFIX foaf: <http://xmlns.com/foaf/0.1/>\n",
    "    SELECT ?property (SAMPLE(COALESCE(?type, STR(DATATYPE(?value)), \"Untyped\")) AS ?valueType) WHERE {{\n",
    "      # Subquery to select instances with a limit\n",
    "      {{\n",
    "        SELECT ?instance WHERE {{\n",
    "          ?instance a <{class_uri}> .\n",
    "        }} LIMIT 1000\n",
    "      }}\n",
    "      ?instance ?property ?value .\n",
    "      OPTIONAL {{\n",
    "        ?value a ?type .\n",
    "      }}\n",
    "      FILTER (?property != rdf:type && ?property != rdfs:label && ?property != rdfs:comment && ?property != rdfs:Class && ?property != foaf:depiction)  \n",
    "    }}\n",
    "    GROUP BY ?property ?type\n",
    "    LIMIT 300\n",
    "    \"\"\")\n",
    "    sparql.setReturnFormat(JSON)\n",
    "    results = sparql.query().convert()\n",
    "    # return [(result[\"property\"][\"value\"], result[\"valueType\"][\"value\"]) for result in results[\"results\"][\"bindings\"]]\n",
    "    \n",
    "    # Filter out properties with alphanumeric (hexadecimal) sequences after an underscore\n",
    "    filtered_results = []\n",
    "    for result in results[\"results\"][\"bindings\"]:\n",
    "        property_uri = result[\"property\"][\"value\"]\n",
    "        # Regex to match properties that do NOT have a hexadecimal sequence after an underscore\n",
    "        if not re.search(r'_([0-9a-fA-F]+)', property_uri):\n",
    "            filtered_results.append((property_uri, result[\"valueType\"][\"value\"]))\n",
    "\n",
    "    return filtered_results\n",
    "\n",
    "g = Graph()\n",
    "RDF = Namespace(\"http://www.w3.org/1999/02/22-rdf-syntax-ns#\")\n",
    "RDFS = Namespace(\"http://www.w3.org/2000/01/rdf-schema#\")\n",
    "FOAF = Namespace(\"http://xmlns.com/foaf/0.1/\")\n",
    "\n",
    "classes = get_classes()\n",
    "for class_uri in tqdm(classes, desc=\"processing classes\"):\n",
    "    print('processing', class_uri)\n",
    "    class_ref = URIRef(class_uri)\n",
    "    properties_and_values = get_properties_and_sample_values(class_uri)\n",
    "    for property_uri, sample_value in properties_and_values:\n",
    "        property_ref = URIRef(property_uri)\n",
    "        sample_value_ref = URIRef(sample_value)\n",
    "        g.add((class_ref, property_ref, sample_value_ref))\n",
    "\n",
    "\n",
    "\n",
    "# 15 seconds on macbook pro 2"
   ]
  },
  {
   "cell_type": "code",
   "execution_count": 82,
   "metadata": {},
   "outputs": [
    {
     "name": "stdout",
     "output_type": "stream",
     "text": [
      "@prefix ns1: <https://enpkg.commons-lab.org/module/> .\n",
      "@prefix ns2: <https://enpkg.commons-lab.org/kg/> .\n",
      "@prefix xsd: <http://www.w3.org/2001/XMLSchema#> .\n",
      "\n",
      "ns2:Annotation ns2:has_InChIkey2D ns2:InChIkey2D ;\n",
      "    ns2:has_ionization xsd:string ;\n",
      "    ns2:has_sirius_score xsd:float ;\n",
      "    ns2:has_spectral_score xsd:float ;\n",
      "    ns2:has_taxo_score xsd:float ;\n",
      "    ns2:has_zodiac_score xsd:float .\n",
      "\n",
      "ns2:BioAssayResults ns1:inhibition_percentage xsd:float ;\n",
      "    ns1:target_id ns2:XRef,\n",
      "        ns1:ChEMBLTarget .\n",
      "\n",
      "ns2:IsdbAnnotation ns2:has_InChIkey2D ns2:InChIkey2D ;\n",
      "    ns2:has_spectral_score xsd:float ;\n",
      "    ns2:has_taxo_score xsd:float .\n",
      "\n",
      "ns2:LCMSFeatureList ns2:has_ionization xsd:string .\n",
      "\n",
      "ns2:LFpair ns2:has_member ns2:LCMSFeature,\n",
      "        ns2:MS2Spectrum ;\n",
      "    ns2:has_mn_params <Untyped> .\n",
      "\n",
      "ns2:LabBlank ns2:has_LCMS ns2:LCMSAnalysis,\n",
      "        ns2:LCMSAnalysisNeg .\n",
      "\n",
      "ns2:LabQc ns2:has_LCMS ns2:LCMSAnalysis,\n",
      "        ns2:LCMSAnalysisNeg .\n",
      "\n",
      "ns2:RawMaterial ns2:has_LCMS xsd:string,\n",
      "        ns2:WDTaxon,\n",
      "        ns2:XRef ;\n",
      "    ns2:has_lab_process ns2:LabExtract,\n",
      "        ns2:LabObject ;\n",
      "    ns2:has_unresolved_taxon <Untyped> ;\n",
      "    ns2:has_wd_id ns2:WDTaxon,\n",
      "        ns2:XRef ;\n",
      "    ns2:submitted_taxon xsd:string ;\n",
      "    ns1:has_organe <Untyped> ;\n",
      "    ns1:has_subsystem <Untyped> ;\n",
      "    ns1:has_tissue <Untyped> .\n",
      "\n",
      "ns2:SiriusStructureAnnotation ns2:has_InChIkey2D ns2:InChIkey2D ;\n",
      "    ns2:has_ionization xsd:string ;\n",
      "    ns2:has_sirius_score xsd:float ;\n",
      "    ns2:has_zodiac_score xsd:float .\n",
      "\n",
      "ns2:Spec2VecDoc ns2:has_spec2vec_loss ns2:Spec2VecLoss,\n",
      "        ns2:spec2vec ;\n",
      "    ns2:has_spec2vec_peak ns2:Spec2VecPeak,\n",
      "        ns2:spec2vec .\n",
      "\n",
      "ns2:SpectralPair ns2:has_member ns2:LCMSFeature,\n",
      "        ns2:MS2Spectrum ;\n",
      "    ns2:has_mn_params <Untyped> .\n",
      "\n",
      "ns1:ChEMBLAssayResults ns1:activity_relation xsd:string ;\n",
      "    ns1:activity_type xsd:string ;\n",
      "    ns1:activity_unit xsd:string ;\n",
      "    ns1:activity_value xsd:float ;\n",
      "    ns1:assay_id ns2:XRef,\n",
      "        ns1:ChEMBLAssay ;\n",
      "    ns1:target_id ns2:XRef,\n",
      "        ns1:ChEMBLTarget ;\n",
      "    ns1:target_name xsd:string .\n",
      "\n",
      "ns1:ChEMBLDocument ns1:journal_name xsd:string .\n",
      "\n",
      "ns1:L610ugml ns1:inhibition_percentage xsd:float .\n",
      "\n",
      "ns1:Ldono10ugml ns1:inhibition_percentage xsd:float ;\n",
      "    ns1:target_id ns2:XRef,\n",
      "        ns1:ChEMBLTarget .\n",
      "\n",
      "ns1:Ldono2ugml ns1:inhibition_percentage xsd:float ;\n",
      "    ns1:target_id ns2:XRef,\n",
      "        ns1:ChEMBLTarget .\n",
      "\n",
      "ns1:SwissTPHBioAssay ns1:inhibition_percentage xsd:float ;\n",
      "    ns1:target_id ns2:XRef,\n",
      "        ns1:ChEMBLTarget .\n",
      "\n",
      "ns1:Tbrucei10ugml ns1:inhibition_percentage xsd:float ;\n",
      "    ns1:target_id ns2:XRef,\n",
      "        ns1:ChEMBLTarget .\n",
      "\n",
      "ns1:Tbrucei2ugml ns1:inhibition_percentage xsd:float ;\n",
      "    ns1:target_id ns2:XRef,\n",
      "        ns1:ChEMBLTarget .\n",
      "\n",
      "ns1:Tcruzi10ugml ns1:inhibition_percentage xsd:float ;\n",
      "    ns1:target_id ns2:XRef,\n",
      "        ns1:ChEMBLTarget .\n",
      "\n",
      "ns2:ChemicalEntity ns2:has_npc_pathway ns2:ChemicalTaxonomy,\n",
      "        ns2:NPCClass,\n",
      "        ns2:NPCPathway,\n",
      "        ns2:NPCSuperclass ;\n",
      "    ns2:has_npc_superclass ns2:ChemicalTaxonomy,\n",
      "        ns2:NPCClass,\n",
      "        ns2:NPCPathway,\n",
      "        ns2:NPCSuperclass ;\n",
      "    ns2:has_smiles xsd:string ;\n",
      "    ns2:has_wd_id ns2:WDChemical,\n",
      "        ns2:XRef .\n",
      "\n",
      "ns2:InChIkey ns2:has_npc_pathway ns2:ChemicalTaxonomy,\n",
      "        ns2:NPCClass,\n",
      "        ns2:NPCPathway,\n",
      "        ns2:NPCSuperclass ;\n",
      "    ns2:has_npc_superclass ns2:ChemicalTaxonomy,\n",
      "        ns2:NPCClass,\n",
      "        ns2:NPCPathway,\n",
      "        ns2:NPCSuperclass ;\n",
      "    ns2:has_smiles xsd:string ;\n",
      "    ns2:has_wd_id ns2:WDChemical,\n",
      "        ns2:XRef .\n",
      "\n",
      "ns2:LCMSAnalysisPos ns2:has_gnpslcms_link <Untyped> ;\n",
      "    ns2:has_massive_license <Untyped> .\n",
      "\n",
      "ns2:LCMSFeature ns2:has_ionization xsd:string ;\n",
      "    ns2:has_parent_mass xsd:float ;\n",
      "    ns2:has_raw_spectrum xsd:string ;\n",
      "    ns2:has_retention_time xsd:float ;\n",
      "    ns2:has_row_id xsd:decimal ;\n",
      "    ns2:has_usi xsd:string .\n",
      "\n",
      "ns2:LabExtract ns2:has_LCMS ns2:LCMSAnalysis,\n",
      "        ns2:LCMSAnalysisNeg,\n",
      "        ns2:LCMSAnalysisPos .\n",
      "\n",
      "ns2:LabObject ns2:has_LCMS xsd:string,\n",
      "        ns2:LCMSAnalysis,\n",
      "        ns2:LCMSAnalysisNeg,\n",
      "        ns2:LCMSAnalysisPos,\n",
      "        ns2:WDTaxon,\n",
      "        ns2:XRef ;\n",
      "    ns2:has_lab_process ns2:LabExtract,\n",
      "        ns2:LabObject ;\n",
      "    ns2:has_unresolved_taxon <Untyped> ;\n",
      "    ns2:has_wd_id ns2:WDTaxon,\n",
      "        ns2:XRef ;\n",
      "    ns2:submitted_taxon xsd:string ;\n",
      "    ns1:has_organe <Untyped> ;\n",
      "    ns1:has_subsystem <Untyped> ;\n",
      "    ns1:has_tissue <Untyped> .\n",
      "\n",
      "ns2:MS2Spectrum ns2:has_ionization xsd:string ;\n",
      "    ns2:has_parent_mass xsd:float ;\n",
      "    ns2:has_raw_spectrum xsd:string ;\n",
      "    ns2:has_retention_time xsd:float ;\n",
      "    ns2:has_row_id xsd:decimal ;\n",
      "    ns2:has_usi xsd:string .\n",
      "\n",
      "ns2:Spec2VecLoss ns2:has_value xsd:float .\n",
      "\n",
      "ns2:Spec2VecPeak ns2:has_value xsd:float .\n",
      "\n",
      "ns2:InChIkey2D ns2:has_npc_pathway ns2:ChemicalTaxonomy,\n",
      "        ns2:NPCClass,\n",
      "        ns2:NPCPathway,\n",
      "        ns2:NPCSuperclass ;\n",
      "    ns2:has_npc_superclass ns2:ChemicalTaxonomy,\n",
      "        ns2:NPCClass,\n",
      "        ns2:NPCPathway,\n",
      "        ns2:NPCSuperclass ;\n",
      "    ns2:has_smiles xsd:string ;\n",
      "    ns2:is_InChIkey2D_of ns2:ChemicalEntity,\n",
      "        ns2:InChIkey .\n",
      "\n",
      "ns2:LCMSAnalysis ns2:has_gnpslcms_link <Untyped> ;\n",
      "    ns2:has_massive_license <Untyped> .\n",
      "\n",
      "ns2:LCMSAnalysisNeg ns2:has_gnpslcms_link <Untyped> ;\n",
      "    ns2:has_massive_license <Untyped> .\n",
      "\n",
      "ns2:spec2vec ns2:has_spec2vec_loss ns2:Spec2VecLoss,\n",
      "        ns2:spec2vec ;\n",
      "    ns2:has_spec2vec_peak ns2:Spec2VecPeak,\n",
      "        ns2:spec2vec ;\n",
      "    ns2:has_value xsd:float .\n",
      "\n",
      "ns1:ChEMBLTarget ns1:target_name xsd:string .\n",
      "\n",
      "\n"
     ]
    }
   ],
   "source": [
    "print(g.serialize(format='turtle'))"
   ]
  },
  {
   "cell_type": "code",
   "execution_count": null,
   "metadata": {},
   "outputs": [],
   "source": []
  }
 ],
 "metadata": {
  "kernelspec": {
   "display_name": "kgai",
   "language": "python",
   "name": "python3"
  },
  "language_info": {
   "codemirror_mode": {
    "name": "ipython",
    "version": 3
   },
   "file_extension": ".py",
   "mimetype": "text/x-python",
   "name": "python",
   "nbconvert_exporter": "python",
   "pygments_lexer": "ipython3",
   "version": "3.11.6"
  }
 },
 "nbformat": 4,
 "nbformat_minor": 2
}
